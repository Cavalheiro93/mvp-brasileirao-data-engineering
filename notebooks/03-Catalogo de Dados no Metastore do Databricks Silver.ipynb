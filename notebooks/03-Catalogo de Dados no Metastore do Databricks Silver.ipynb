{
 "cells": [
  {
   "cell_type": "markdown",
   "metadata": {
    "application/vnd.databricks.v1+cell": {
     "cellMetadata": {},
     "inputWidgets": {},
     "nuid": "656efd18-1fd1-411a-a8f5-bcacb33ea979",
     "showTitle": false,
     "tableResultSettingsMap": {},
     "title": ""
    }
   },
   "source": [
    "# 📌 Passo a Passo: Criando o Catálogo no Metastore do Databricks - Silver"
   ]
  },
  {
   "cell_type": "code",
   "execution_count": 0,
   "metadata": {
    "application/vnd.databricks.v1+cell": {
     "cellMetadata": {
      "byteLimit": 2048000,
      "rowLimit": 10000
     },
     "collapsed": true,
     "inputWidgets": {},
     "nuid": "293d8b05-914a-470c-8ff5-8001b9f44e55",
     "showTitle": false,
     "tableResultSettingsMap": {},
     "title": ""
    }
   },
   "outputs": [],
   "source": [
    "%run \"/Users/caio.santos.cavalheiro@gmail.com/00-Configuracao\""
   ]
  },
  {
   "cell_type": "markdown",
   "metadata": {
    "application/vnd.databricks.v1+cell": {
     "cellMetadata": {},
     "inputWidgets": {},
     "nuid": "6e36acd6-1684-43b2-8fc2-9882754d5687",
     "showTitle": false,
     "tableResultSettingsMap": {},
     "title": ""
    }
   },
   "source": [
    "## 🔷 Criação Database\n",
    "\n",
    "\n"
   ]
  },
  {
   "cell_type": "code",
   "execution_count": 0,
   "metadata": {
    "application/vnd.databricks.v1+cell": {
     "cellMetadata": {
      "byteLimit": 2048000,
      "implicitDf": true,
      "rowLimit": 10000
     },
     "inputWidgets": {},
     "nuid": "1d949b5a-afbf-4b0b-838e-d9540a35c861",
     "showTitle": false,
     "tableResultSettingsMap": {},
     "title": ""
    }
   },
   "outputs": [
    {
     "output_type": "display_data",
     "data": {
      "text/html": [
       "<style scoped>\n",
       "  .table-result-container {\n",
       "    max-height: 300px;\n",
       "    overflow: auto;\n",
       "  }\n",
       "  table, th, td {\n",
       "    border: 1px solid black;\n",
       "    border-collapse: collapse;\n",
       "  }\n",
       "  th, td {\n",
       "    padding: 5px;\n",
       "  }\n",
       "  th {\n",
       "    text-align: left;\n",
       "  }\n",
       "</style><div class='table-result-container'><table class='table-result'><thead style='background-color: white'><tr></tr></thead><tbody></tbody></table></div>"
      ]
     },
     "metadata": {
      "application/vnd.databricks.v1+output": {
       "addedWidgets": {},
       "aggData": [],
       "aggError": "",
       "aggOverflow": false,
       "aggSchema": [],
       "aggSeriesLimitReached": false,
       "aggType": "",
       "arguments": {},
       "columnCustomDisplayInfos": {},
       "data": [],
       "datasetInfos": [],
       "dbfsResultPath": null,
       "isJsonSchema": true,
       "metadata": {},
       "overflow": false,
       "plotOptions": {
        "customPlotOptions": {},
        "displayType": "table",
        "pivotAggregation": null,
        "pivotColumns": null,
        "xColumns": null,
        "yColumns": null
       },
       "removedWidgets": [],
       "schema": [],
       "type": "table"
      }
     },
     "output_type": "display_data"
    },
    {
     "output_type": "stream",
     "name": "stdout",
     "output_type": "stream",
     "text": [
      "Leitura das credenciais de forma segura pelo Spark 🔐\n"
     ]
    },
    {
     "output_type": "stream",
     "name": "stdout",
     "output_type": "stream",
     "text": [
      "Caminhos definidos:\n📂 Bronze: s3a://mvp-brasileirao-2024/bronze/ | 📂 Silver: s3a://mvp-brasileirao-2024/silver/ | 📂 Gold: s3a://mvp-brasileirao-2024/gold/\n"
     ]
    },
    {
     "output_type": "stream",
     "name": "stdout",
     "output_type": "stream",
     "text": [
      "✅ Credenciais configuradas com sucesso!\n"
     ]
    },
    {
     "output_type": "stream",
     "name": "stdout",
     "output_type": "stream",
     "text": [
      "✅ Conexão bem-sucedida! Arquivos encontrados na camada Bronze e Silver:\n"
     ]
    }
   ],
   "source": [
    "%sql\n",
    "CREATE DATABASE IF NOT EXISTS catalogo_de_dados\n",
    "LOCATION 's3://mvp-brasileirao-2024/silver/catalogo_de_dados';"
   ]
  },
  {
   "cell_type": "markdown",
   "metadata": {
    "application/vnd.databricks.v1+cell": {
     "cellMetadata": {},
     "inputWidgets": {},
     "nuid": "4afef186-c2e7-4c8a-9176-a5560ccee55e",
     "showTitle": false,
     "tableResultSettingsMap": {},
     "title": ""
    }
   },
   "source": [
    "### 🔹 Registro das Tabela Delta no Metastore\n"
   ]
  },
  {
   "cell_type": "code",
   "execution_count": 0,
   "metadata": {
    "application/vnd.databricks.v1+cell": {
     "cellMetadata": {
      "byteLimit": 2048000,
      "implicitDf": true,
      "rowLimit": 10000
     },
     "inputWidgets": {},
     "nuid": "0ca32cd9-b812-4b8e-b14a-71a0f1739b9a",
     "showTitle": false,
     "tableResultSettingsMap": {},
     "title": ""
    }
   },
   "outputs": [
    {
     "output_type": "display_data",
     "data": {
      "text/html": [
       "<style scoped>\n",
       "  .table-result-container {\n",
       "    max-height: 300px;\n",
       "    overflow: auto;\n",
       "  }\n",
       "  table, th, td {\n",
       "    border: 1px solid black;\n",
       "    border-collapse: collapse;\n",
       "  }\n",
       "  th, td {\n",
       "    padding: 5px;\n",
       "  }\n",
       "  th {\n",
       "    text-align: left;\n",
       "  }\n",
       "</style><div class='table-result-container'><table class='table-result'><thead style='background-color: white'><tr></tr></thead><tbody></tbody></table></div>"
      ]
     },
     "metadata": {
      "application/vnd.databricks.v1+output": {
       "addedWidgets": {},
       "aggData": [],
       "aggError": "",
       "aggOverflow": false,
       "aggSchema": [],
       "aggSeriesLimitReached": false,
       "aggType": "",
       "arguments": {},
       "columnCustomDisplayInfos": {},
       "data": [],
       "datasetInfos": [],
       "dbfsResultPath": null,
       "isJsonSchema": true,
       "metadata": {},
       "overflow": false,
       "plotOptions": {
        "customPlotOptions": {},
        "displayType": "table",
        "pivotAggregation": null,
        "pivotColumns": null,
        "xColumns": null,
        "yColumns": null
       },
       "removedWidgets": [],
       "schema": [],
       "type": "table"
      }
     },
     "output_type": "display_data"
    }
   ],
   "source": [
    "%sql\n",
    "DROP TABLE IF EXISTS default.brasil_seriea_2024_silver_todas_partidas;\n",
    "CREATE TABLE default.brasil_seriea_2024_silver_todas_partidas\n",
    "USING DELTA\n",
    "LOCATION 's3://mvp-brasileirao-2024/silver/delta/brasil_seriea_2024_todas_partidas';\n",
    "\n",
    "DROP TABLE IF EXISTS default.brasil_seriea_2024_silver_classificacao;\n",
    "CREATE TABLE default.brasil_seriea_2024_silver_classificacao\n",
    "USING DELTA\n",
    "LOCATION 's3://mvp-brasileirao-2024/silver/delta/brasil_seriea_2024_classificacao';\n",
    "\n",
    "DROP TABLE IF EXISTS default.brasil_seriea_2024_silver_estatistica_jogador;\n",
    "CREATE TABLE default.brasil_seriea_2024_silver_estatistica_jogador\n",
    "USING DELTA\n",
    "LOCATION 's3://mvp-brasileirao-2024/silver/delta/brasil_seriea_2024_estatistica_jogador';\n"
   ]
  },
  {
   "cell_type": "markdown",
   "metadata": {
    "application/vnd.databricks.v1+cell": {
     "cellMetadata": {},
     "inputWidgets": {},
     "nuid": "96aee06b-8287-4ee6-9e5b-211441faab8f",
     "showTitle": false,
     "tableResultSettingsMap": {},
     "title": ""
    }
   },
   "source": [
    "### 🔹 Validar o Registro no Metastore\n",
    "\n",
    "Agora, vamos verificar se a tabela foi registrada corretamente.\n",
    "\n"
   ]
  },
  {
   "cell_type": "code",
   "execution_count": 0,
   "metadata": {
    "application/vnd.databricks.v1+cell": {
     "cellMetadata": {
      "byteLimit": 2048000,
      "implicitDf": true,
      "rowLimit": 10000
     },
     "inputWidgets": {},
     "nuid": "d555f0df-53a9-42f7-a8bc-6a9d0245b1c9",
     "showTitle": false,
     "tableResultSettingsMap": {},
     "title": ""
    }
   },
   "outputs": [
    {
     "output_type": "display_data",
     "data": {
      "text/html": [
       "<style scoped>\n",
       "  .table-result-container {\n",
       "    max-height: 300px;\n",
       "    overflow: auto;\n",
       "  }\n",
       "  table, th, td {\n",
       "    border: 1px solid black;\n",
       "    border-collapse: collapse;\n",
       "  }\n",
       "  th, td {\n",
       "    padding: 5px;\n",
       "  }\n",
       "  th {\n",
       "    text-align: left;\n",
       "  }\n",
       "</style><div class='table-result-container'><table class='table-result'><thead style='background-color: white'><tr><th>database</th><th>tableName</th><th>isTemporary</th></tr></thead><tbody><tr><td>default</td><td>brasil_seriea_2024_classificacao</td><td>false</td></tr><tr><td>default</td><td>brasil_seriea_2024_estatistica_jogador</td><td>false</td></tr><tr><td>default</td><td>brasil_seriea_2024_silver_classificacao</td><td>false</td></tr><tr><td>default</td><td>brasil_seriea_2024_silver_estatistica_jogador</td><td>false</td></tr><tr><td>default</td><td>brasil_seriea_2024_silver_todas_partidas</td><td>false</td></tr><tr><td>default</td><td>brasil_seriea_2024_todas_partidas</td><td>false</td></tr></tbody></table></div>"
      ]
     },
     "metadata": {
      "application/vnd.databricks.v1+output": {
       "addedWidgets": {},
       "aggData": [],
       "aggError": "",
       "aggOverflow": false,
       "aggSchema": [],
       "aggSeriesLimitReached": false,
       "aggType": "",
       "arguments": {},
       "columnCustomDisplayInfos": {},
       "data": [
        [
         "default",
         "brasil_seriea_2024_classificacao",
         false
        ],
        [
         "default",
         "brasil_seriea_2024_estatistica_jogador",
         false
        ],
        [
         "default",
         "brasil_seriea_2024_silver_classificacao",
         false
        ],
        [
         "default",
         "brasil_seriea_2024_silver_estatistica_jogador",
         false
        ],
        [
         "default",
         "brasil_seriea_2024_silver_todas_partidas",
         false
        ],
        [
         "default",
         "brasil_seriea_2024_todas_partidas",
         false
        ]
       ],
       "datasetInfos": [],
       "dbfsResultPath": null,
       "isJsonSchema": true,
       "metadata": {},
       "overflow": false,
       "plotOptions": {
        "customPlotOptions": {},
        "displayType": "table",
        "pivotAggregation": null,
        "pivotColumns": null,
        "xColumns": null,
        "yColumns": null
       },
       "removedWidgets": [],
       "schema": [
        {
         "metadata": "{}",
         "name": "database",
         "type": "\"string\""
        },
        {
         "metadata": "{}",
         "name": "tableName",
         "type": "\"string\""
        },
        {
         "metadata": "{}",
         "name": "isTemporary",
         "type": "\"boolean\""
        }
       ],
       "type": "table"
      }
     },
     "output_type": "display_data"
    }
   ],
   "source": [
    "%sql\n",
    "SHOW TABLES IN default;\n"
   ]
  },
  {
   "cell_type": "markdown",
   "metadata": {
    "application/vnd.databricks.v1+cell": {
     "cellMetadata": {},
     "inputWidgets": {},
     "nuid": "e2cdf4a1-a0b2-40a3-a70b-02f389609bf6",
     "showTitle": false,
     "tableResultSettingsMap": {},
     "title": ""
    }
   },
   "source": [
    "# 📌 Adicionando o outro Catálogo - Catalogo Estatistico\n"
   ]
  },
  {
   "cell_type": "markdown",
   "metadata": {
    "application/vnd.databricks.v1+cell": {
     "cellMetadata": {},
     "inputWidgets": {},
     "nuid": "fb78f82a-971e-4f21-8ab6-3927b6b4d6f4",
     "showTitle": false,
     "tableResultSettingsMap": {},
     "title": ""
    }
   },
   "source": [
    "## 🔷 brasil_seriea_2024_silver_classificacao"
   ]
  },
  {
   "cell_type": "markdown",
   "metadata": {
    "application/vnd.databricks.v1+cell": {
     "cellMetadata": {},
     "inputWidgets": {},
     "nuid": "b4a2d269-e98c-4b4d-96b8-fc9532680c1f",
     "showTitle": false,
     "tableResultSettingsMap": {},
     "title": ""
    }
   },
   "source": [
    "####🔹 Criando o Metadata do dataframe"
   ]
  },
  {
   "cell_type": "code",
   "execution_count": 0,
   "metadata": {
    "application/vnd.databricks.v1+cell": {
     "cellMetadata": {
      "byteLimit": 2048000,
      "rowLimit": 10000
     },
     "inputWidgets": {},
     "nuid": "1b8a6de6-139d-4832-bf30-489f1c4eb633",
     "showTitle": false,
     "tableResultSettingsMap": {},
     "title": ""
    }
   },
   "outputs": [],
   "source": [
    "from pyspark.sql import Row\n",
    "from pyspark.sql.functions import col, count, countDistinct, min, max, sum, expr\n",
    "\n",
    "# Nome da tabela que queremos analisar (mudar para cada dataset da Silver)\n",
    "tabela_silver = \"default.brasil_seriea_2024_silver_classificacao\"\n",
    "\n",
    "# Ler os dados da Silver diretamente do Metastore\n",
    "df = spark.read.table(tabela_silver)\n",
    "\n",
    "# Criar DataFrame com estatísticas (incluindo contagem de nulos correta e duplicatas)\n",
    "metadata_df = df.agg(\n",
    "    *[count(col(c)).alias(f\"{c}_count\") for c in df.columns],  # Contagem total de registros NÃO NULOS\n",
    "    *[countDistinct(col(c)).alias(f\"{c}_distinct\") for c in df.columns],  # Contagem de valores distintos\n",
    "    *[min(col(c)).alias(f\"{c}_min\") for c in df.columns],  # Valor mínimo\n",
    "    *[max(col(c)).alias(f\"{c}_max\") for c in df.columns],  # Valor máximo\n",
    "    *[sum(col(c).isNull().cast(\"int\")).alias(f\"{c}_nulls\") for c in df.columns],  # Contagem correta de nulos\n",
    "    *[(count(col(c)) - countDistinct(col(c))).alias(f\"{c}_duplicates\") for c in df.columns]  # Contagem de valores duplicados\n",
    ")\n"
   ]
  },
  {
   "cell_type": "markdown",
   "metadata": {
    "application/vnd.databricks.v1+cell": {
     "cellMetadata": {},
     "inputWidgets": {},
     "nuid": "3696fedd-354c-40ef-8eec-6d8f9acb96b1",
     "showTitle": false,
     "tableResultSettingsMap": {},
     "title": ""
    }
   },
   "source": [
    "#### 🔹 Criação do Dicionário de descrições"
   ]
  },
  {
   "cell_type": "code",
   "execution_count": 0,
   "metadata": {
    "application/vnd.databricks.v1+cell": {
     "cellMetadata": {
      "byteLimit": 2048000,
      "rowLimit": 10000
     },
     "inputWidgets": {},
     "nuid": "80aaf5c1-c8f0-4354-b7c1-13c7054a4466",
     "showTitle": false,
     "tableResultSettingsMap": {},
     "title": ""
    }
   },
   "outputs": [],
   "source": [
    "col_descriptions = {\n",
    "    \"Posicao\": (\"Posição do clube na tabela de classificação\", \"Renomeação da coluna para padronização.\", \"Bronze → Silver\"),\n",
    "    \"Clube\": (\"Nome do clube participante do campeonato\", \"Renomeação da coluna para padronização | Padronização dos nomes dos clubes para garantir consistência nos datasets.\", \"Bronze → Silver\"),\n",
    "    \"Pontuacao\": (\"Pontos acumulados pelo clube na competição\", \"Renomeação da coluna para padronização.\", \"Bronze → Silver\"),\n",
    "    \"Partidas_Jogadas\": (\"Número de partidas jogadas pelo clube\", \"Renomeação da coluna para padronização.\", \"Bronze → Silver\"),\n",
    "    \"Vitorias\": (\"Quantidade de vitórias conquistadas pelo clube\", \"Renomeação da coluna para padronização.\", \"Bronze → Silver\"),\n",
    "    \"Empates\": (\"Quantidade de empates do clube\", \"Renomeação da coluna para padronização.\", \"Bronze → Silver\"),\n",
    "    \"Derrotas\": (\"Quantidade de derrotas do clube\", \"Renomeação da coluna para padronização.\", \"Bronze → Silver\"),\n",
    "    \"Gols_Marcados\": (\"Gols marcados pelo clube ao longo da competição\", \"Renomeação da coluna para padronização.\", \"Bronze → Silver\"),\n",
    "    \"Gols_Sofridos\": (\"Gols sofridos pelo clube ao longo da competição\", \"Renomeação da coluna para padronização.\", \"Bronze → Silver\"),\n",
    "    \"Saldo_de_Gols\": (\"Saldo de gols do clube (Gols Marcados - Gols Sofridos)\", \"Renomeação da coluna para padronização.\", \"Bronze → Silver\")\n",
    "}\n"
   ]
  },
  {
   "cell_type": "markdown",
   "metadata": {
    "application/vnd.databricks.v1+cell": {
     "cellMetadata": {},
     "inputWidgets": {},
     "nuid": "1bfcfb03-cfa0-4ba3-8ab1-e2ba596dc14d",
     "showTitle": false,
     "tableResultSettingsMap": {},
     "title": ""
    }
   },
   "source": [
    "#### 🔹 Criando o Dataframe do Catálogo"
   ]
  },
  {
   "cell_type": "code",
   "execution_count": 0,
   "metadata": {
    "application/vnd.databricks.v1+cell": {
     "cellMetadata": {
      "byteLimit": 2048000,
      "rowLimit": 10000
     },
     "inputWidgets": {},
     "nuid": "9748cebe-c809-4c59-bd58-5c3d6f2f1ea4",
     "showTitle": false,
     "tableResultSettingsMap": {},
     "title": ""
    }
   },
   "outputs": [],
   "source": [
    "# Criar lista de metadados para o Catálogo de Dados\n",
    "catalog_data = []\n",
    "\n",
    "# Iterar sobre as colunas da tabela Silver\n",
    "for index, col_name in enumerate(df.columns, start=1):\n",
    "    col_type = df.select(col(col_name)).schema.fields[0].dataType.simpleString()  # Tipo da coluna\n",
    "    col_count = metadata_df.collect()[0][f\"{col_name}_count\"]  # Contagem total (não nulos)\n",
    "    col_distinct = metadata_df.collect()[0][f\"{col_name}_distinct\"]  # Valores distintos\n",
    "    col_nulls = metadata_df.collect()[0][f\"{col_name}_nulls\"]  # Contagem correta de valores nulos\n",
    "    col_min = metadata_df.collect()[0][f\"{col_name}_min\"] if f\"{col_name}_min\" in metadata_df.columns else \"N/A\"\n",
    "    col_max = metadata_df.collect()[0][f\"{col_name}_max\"] if f\"{col_name}_max\" in metadata_df.columns else \"N/A\"\n",
    "    col_duplicates = metadata_df.collect()[0][f\"{col_name}_duplicates\"] if f\"{col_name}_duplicates\" in metadata_df.columns else 0  # Contagem de duplicados\n",
    "\n",
    "    # Buscar definição, regra de transformação e linhagem dos dados no dicionário\n",
    "    col_definition, transformations_applied, lineage_info = col_descriptions.get(\n",
    "        col_name, (f\"Descrição da coluna {col_name}\", \"Nenhuma alteração aplicada.\", \"Origem desconhecida\")\n",
    "    )\n",
    "\n",
    "    # Definir observações sobre a coluna (pode ser preenchido manualmente se necessário)\n",
    "    comments = \"Sem observações adicionais.\"\n",
    "\n",
    "    # Adicionar à lista\n",
    "    catalog_data.append(Row(ID_Coluna=index,\n",
    "                            Coluna=col_name, \n",
    "                            Tipo_de_Dado=col_type, \n",
    "                            Definição=col_definition,\n",
    "                            Valores_Min_Max=f\"{col_min} | {col_max}\", \n",
    "                            Qtd_Valores_Registrados=col_count,\n",
    "                            Qtd_Valores_Nulos=col_nulls,\n",
    "                            Qtd_Valores_Distintos=col_distinct,\n",
    "                            Qtd_Valores_Duplicados=col_duplicates,\n",
    "                            Regras_de_Transformação=transformations_applied,\n",
    "                            Linhagem_Dados=lineage_info,  # ✅ Agora vem direto do dicionário!\n",
    "                            Observacoes=comments,\n",
    "                            Fonte=\"Tabela criada manualmente com base na classificação do Campeonato Brasileiro 2024 disponível no site da CNN Brasil\",\n",
    "                            Link_Fonte=\"https://www.cnnbrasil.com.br/esportes/futebol/tabela-do-brasileirao/\",\n",
    "                            Arquivo_Original=\"classificacao_brasileirao_2024.csv\",\n",
    "                            Arquivo_S3=\"BrasilSerieA_2024_ClassificacaoFinal.csv\"\n",
    "                            ))                            \n",
    "\n",
    "# Criar o DataFrame do Catálogo de Dados\n",
    "catalog_df = spark.createDataFrame(catalog_data)\n"
   ]
  },
  {
   "cell_type": "markdown",
   "metadata": {
    "application/vnd.databricks.v1+cell": {
     "cellMetadata": {},
     "inputWidgets": {},
     "nuid": "775ba580-8bf5-462f-b01c-4ac98b191150",
     "showTitle": false,
     "tableResultSettingsMap": {},
     "title": ""
    }
   },
   "source": [
    "#### 🔹 Salvando o Catálogo no S3 camada _Bronze_"
   ]
  },
  {
   "cell_type": "code",
   "execution_count": 0,
   "metadata": {
    "application/vnd.databricks.v1+cell": {
     "cellMetadata": {
      "byteLimit": 2048000,
      "rowLimit": 10000
     },
     "inputWidgets": {},
     "nuid": "4b5d84d3-0724-44b6-b60c-407bcaa2874b",
     "showTitle": false,
     "tableResultSettingsMap": {},
     "title": ""
    }
   },
   "outputs": [
    {
     "output_type": "stream",
     "name": "stdout",
     "output_type": "stream",
     "text": [
      "🚨 Arquivos antigos do Delta removidos com sucesso!\n✅ Catálogo Estatístico salvo no formato Delta com sucesso!\n"
     ]
    }
   ],
   "source": [
    "# Caminho no S3 para salvar o Catálogo Estatístico\n",
    "delta_catalogo_estatistico_path = \"s3://mvp-brasileirao-2024/silver/delta/catalog_classificacao\"\n",
    "\n",
    "dbutils.fs.rm(delta_catalogo_estatistico_path, recurse=True)\n",
    "print(\"🚨 Arquivos antigos do Delta removidos com sucesso!\")\n",
    "\n",
    "# Salvar a tabela Delta com as estatísticas\n",
    "catalog_df.write.format(\"delta\").mode(\"overwrite\").save(delta_catalogo_estatistico_path)\n",
    "\n",
    "print(\"✅ Catálogo Estatístico salvo no formato Delta com sucesso!\")"
   ]
  },
  {
   "cell_type": "markdown",
   "metadata": {
    "application/vnd.databricks.v1+cell": {
     "cellMetadata": {},
     "inputWidgets": {},
     "nuid": "d9927341-f615-47fb-8335-a85097ee9bf9",
     "showTitle": false,
     "tableResultSettingsMap": {},
     "title": ""
    }
   },
   "source": [
    "#### 🔹 Criando Tabela de Catálogos no Hive"
   ]
  },
  {
   "cell_type": "code",
   "execution_count": 0,
   "metadata": {
    "application/vnd.databricks.v1+cell": {
     "cellMetadata": {
      "byteLimit": 2048000,
      "implicitDf": true,
      "rowLimit": 10000
     },
     "inputWidgets": {},
     "nuid": "a68971f7-6fc5-474d-9d7e-0b0703485ed3",
     "showTitle": false,
     "tableResultSettingsMap": {},
     "title": ""
    }
   },
   "outputs": [
    {
     "output_type": "display_data",
     "data": {
      "text/html": [
       "<style scoped>\n",
       "  .table-result-container {\n",
       "    max-height: 300px;\n",
       "    overflow: auto;\n",
       "  }\n",
       "  table, th, td {\n",
       "    border: 1px solid black;\n",
       "    border-collapse: collapse;\n",
       "  }\n",
       "  th, td {\n",
       "    padding: 5px;\n",
       "  }\n",
       "  th {\n",
       "    text-align: left;\n",
       "  }\n",
       "</style><div class='table-result-container'><table class='table-result'><thead style='background-color: white'><tr></tr></thead><tbody></tbody></table></div>"
      ]
     },
     "metadata": {
      "application/vnd.databricks.v1+output": {
       "addedWidgets": {},
       "aggData": [],
       "aggError": "",
       "aggOverflow": false,
       "aggSchema": [],
       "aggSeriesLimitReached": false,
       "aggType": "",
       "arguments": {},
       "columnCustomDisplayInfos": {},
       "data": [],
       "datasetInfos": [],
       "dbfsResultPath": null,
       "isJsonSchema": true,
       "metadata": {},
       "overflow": false,
       "plotOptions": {
        "customPlotOptions": {},
        "displayType": "table",
        "pivotAggregation": null,
        "pivotColumns": null,
        "xColumns": null,
        "yColumns": null
       },
       "removedWidgets": [],
       "schema": [],
       "type": "table"
      }
     },
     "output_type": "display_data"
    }
   ],
   "source": [
    "%sql\n",
    "DROP TABLE IF EXISTS catalogo_de_dados.catalog_classificacao_silver;\n",
    "\n",
    "CREATE TABLE catalogo_de_dados.catalog_classificacao_silver\n",
    "USING DELTA\n",
    "LOCATION 's3://mvp-brasileirao-2024/silver/delta/catalog_classificacao';"
   ]
  },
  {
   "cell_type": "markdown",
   "metadata": {
    "application/vnd.databricks.v1+cell": {
     "cellMetadata": {},
     "inputWidgets": {},
     "nuid": "626fdc4d-9a87-4cae-b089-c22597b9c211",
     "showTitle": false,
     "tableResultSettingsMap": {},
     "title": ""
    }
   },
   "source": [
    "#### 🔹 Exibindo o Catálogo de Dados via SQL"
   ]
  },
  {
   "cell_type": "code",
   "execution_count": 0,
   "metadata": {
    "application/vnd.databricks.v1+cell": {
     "cellMetadata": {
      "byteLimit": 2048000,
      "implicitDf": true,
      "rowLimit": 10000
     },
     "inputWidgets": {},
     "nuid": "0f0ef9af-e5d1-4c6c-bdf4-848d0ec53394",
     "showTitle": false,
     "tableResultSettingsMap": {},
     "title": ""
    }
   },
   "outputs": [
    {
     "output_type": "display_data",
     "data": {
      "text/html": [
       "<style scoped>\n",
       "  .table-result-container {\n",
       "    max-height: 300px;\n",
       "    overflow: auto;\n",
       "  }\n",
       "  table, th, td {\n",
       "    border: 1px solid black;\n",
       "    border-collapse: collapse;\n",
       "  }\n",
       "  th, td {\n",
       "    padding: 5px;\n",
       "  }\n",
       "  th {\n",
       "    text-align: left;\n",
       "  }\n",
       "</style><div class='table-result-container'><table class='table-result'><thead style='background-color: white'><tr><th>ID_Coluna</th><th>Coluna</th><th>Tipo_de_Dado</th><th>Definição</th><th>Valores_Min_Max</th><th>Qtd_Valores_Registrados</th><th>Qtd_Valores_Nulos</th><th>Qtd_Valores_Distintos</th><th>Qtd_Valores_Duplicados</th><th>Regras_de_Transformação</th><th>Linhagem_Dados</th><th>Observacoes</th><th>Fonte</th><th>Link_Fonte</th><th>Arquivo_Original</th><th>Arquivo_S3</th></tr></thead><tbody><tr><td>2</td><td>Clube</td><td>string</td><td>Nome do clube participante do campeonato</td><td>Athletico-PR | Vasco da Gama</td><td>20</td><td>0</td><td>20</td><td>0</td><td>Renomeação da coluna para padronização | Padronização dos nomes dos clubes para garantir consistência nos datasets.</td><td>Bronze → Silver</td><td>Sem observações adicionais.</td><td>Tabela criada manualmente com base na classificação do Campeonato Brasileiro 2024 disponível no site da CNN Brasil</td><td>https://www.cnnbrasil.com.br/esportes/futebol/tabela-do-brasileirao/</td><td>classificacao_brasileirao_2024.csv</td><td>BrasilSerieA_2024_ClassificacaoFinal.csv</td></tr><tr><td>9</td><td>Gols_Sofridos</td><td>int</td><td>Gols sofridos pelo clube ao longo da competição</td><td>29 | 61</td><td>20</td><td>0</td><td>18</td><td>2</td><td>Renomeação da coluna para padronização.</td><td>Bronze → Silver</td><td>Sem observações adicionais.</td><td>Tabela criada manualmente com base na classificação do Campeonato Brasileiro 2024 disponível no site da CNN Brasil</td><td>https://www.cnnbrasil.com.br/esportes/futebol/tabela-do-brasileirao/</td><td>classificacao_brasileirao_2024.csv</td><td>BrasilSerieA_2024_ClassificacaoFinal.csv</td></tr><tr><td>10</td><td>Saldo_de_Gols</td><td>int</td><td>Saldo de gols do clube (Gols Marcados - Gols Sofridos)</td><td>-29 | 30</td><td>20</td><td>0</td><td>17</td><td>3</td><td>Renomeação da coluna para padronização.</td><td>Bronze → Silver</td><td>Sem observações adicionais.</td><td>Tabela criada manualmente com base na classificação do Campeonato Brasileiro 2024 disponível no site da CNN Brasil</td><td>https://www.cnnbrasil.com.br/esportes/futebol/tabela-do-brasileirao/</td><td>classificacao_brasileirao_2024.csv</td><td>BrasilSerieA_2024_ClassificacaoFinal.csv</td></tr><tr><td>4</td><td>Partidas_Jogadas</td><td>int</td><td>Número de partidas jogadas pelo clube</td><td>38 | 38</td><td>20</td><td>0</td><td>1</td><td>19</td><td>Renomeação da coluna para padronização.</td><td>Bronze → Silver</td><td>Sem observações adicionais.</td><td>Tabela criada manualmente com base na classificação do Campeonato Brasileiro 2024 disponível no site da CNN Brasil</td><td>https://www.cnnbrasil.com.br/esportes/futebol/tabela-do-brasileirao/</td><td>classificacao_brasileirao_2024.csv</td><td>BrasilSerieA_2024_ClassificacaoFinal.csv</td></tr><tr><td>5</td><td>Vitorias</td><td>int</td><td>Quantidade de vitórias conquistadas pelo clube</td><td>6 | 23</td><td>20</td><td>0</td><td>15</td><td>5</td><td>Renomeação da coluna para padronização.</td><td>Bronze → Silver</td><td>Sem observações adicionais.</td><td>Tabela criada manualmente com base na classificação do Campeonato Brasileiro 2024 disponível no site da CNN Brasil</td><td>https://www.cnnbrasil.com.br/esportes/futebol/tabela-do-brasileirao/</td><td>classificacao_brasileirao_2024.csv</td><td>BrasilSerieA_2024_ClassificacaoFinal.csv</td></tr><tr><td>8</td><td>Gols_Marcados</td><td>int</td><td>Gols marcados pelo clube ao longo da competição</td><td>29 | 61</td><td>20</td><td>0</td><td>15</td><td>5</td><td>Renomeação da coluna para padronização.</td><td>Bronze → Silver</td><td>Sem observações adicionais.</td><td>Tabela criada manualmente com base na classificação do Campeonato Brasileiro 2024 disponível no site da CNN Brasil</td><td>https://www.cnnbrasil.com.br/esportes/futebol/tabela-do-brasileirao/</td><td>classificacao_brasileirao_2024.csv</td><td>BrasilSerieA_2024_ClassificacaoFinal.csv</td></tr><tr><td>3</td><td>Pontuacao</td><td>int</td><td>Pontos acumulados pelo clube na competição</td><td>30 | 79</td><td>20</td><td>0</td><td>17</td><td>3</td><td>Renomeação da coluna para padronização.</td><td>Bronze → Silver</td><td>Sem observações adicionais.</td><td>Tabela criada manualmente com base na classificação do Campeonato Brasileiro 2024 disponível no site da CNN Brasil</td><td>https://www.cnnbrasil.com.br/esportes/futebol/tabela-do-brasileirao/</td><td>classificacao_brasileirao_2024.csv</td><td>BrasilSerieA_2024_ClassificacaoFinal.csv</td></tr><tr><td>1</td><td>Posicao</td><td>int</td><td>Posição do clube na tabela de classificação</td><td>1 | 20</td><td>20</td><td>0</td><td>20</td><td>0</td><td>Renomeação da coluna para padronização.</td><td>Bronze → Silver</td><td>Sem observações adicionais.</td><td>Tabela criada manualmente com base na classificação do Campeonato Brasileiro 2024 disponível no site da CNN Brasil</td><td>https://www.cnnbrasil.com.br/esportes/futebol/tabela-do-brasileirao/</td><td>classificacao_brasileirao_2024.csv</td><td>BrasilSerieA_2024_ClassificacaoFinal.csv</td></tr><tr><td>7</td><td>Derrotas</td><td>int</td><td>Quantidade de derrotas do clube</td><td>5 | 22</td><td>20</td><td>0</td><td>12</td><td>8</td><td>Renomeação da coluna para padronização.</td><td>Bronze → Silver</td><td>Sem observações adicionais.</td><td>Tabela criada manualmente com base na classificação do Campeonato Brasileiro 2024 disponível no site da CNN Brasil</td><td>https://www.cnnbrasil.com.br/esportes/futebol/tabela-do-brasileirao/</td><td>classificacao_brasileirao_2024.csv</td><td>BrasilSerieA_2024_ClassificacaoFinal.csv</td></tr><tr><td>6</td><td>Empates</td><td>int</td><td>Quantidade de empates do clube</td><td>7 | 14</td><td>20</td><td>0</td><td>7</td><td>13</td><td>Renomeação da coluna para padronização.</td><td>Bronze → Silver</td><td>Sem observações adicionais.</td><td>Tabela criada manualmente com base na classificação do Campeonato Brasileiro 2024 disponível no site da CNN Brasil</td><td>https://www.cnnbrasil.com.br/esportes/futebol/tabela-do-brasileirao/</td><td>classificacao_brasileirao_2024.csv</td><td>BrasilSerieA_2024_ClassificacaoFinal.csv</td></tr></tbody></table></div>"
      ]
     },
     "metadata": {
      "application/vnd.databricks.v1+output": {
       "addedWidgets": {},
       "aggData": [],
       "aggError": "",
       "aggOverflow": false,
       "aggSchema": [],
       "aggSeriesLimitReached": false,
       "aggType": "",
       "arguments": {},
       "columnCustomDisplayInfos": {},
       "data": [
        [
         2,
         "Clube",
         "string",
         "Nome do clube participante do campeonato",
         "Athletico-PR | Vasco da Gama",
         20,
         0,
         20,
         0,
         "Renomeação da coluna para padronização | Padronização dos nomes dos clubes para garantir consistência nos datasets.",
         "Bronze → Silver",
         "Sem observações adicionais.",
         "Tabela criada manualmente com base na classificação do Campeonato Brasileiro 2024 disponível no site da CNN Brasil",
         "https://www.cnnbrasil.com.br/esportes/futebol/tabela-do-brasileirao/",
         "classificacao_brasileirao_2024.csv",
         "BrasilSerieA_2024_ClassificacaoFinal.csv"
        ],
        [
         9,
         "Gols_Sofridos",
         "int",
         "Gols sofridos pelo clube ao longo da competição",
         "29 | 61",
         20,
         0,
         18,
         2,
         "Renomeação da coluna para padronização.",
         "Bronze → Silver",
         "Sem observações adicionais.",
         "Tabela criada manualmente com base na classificação do Campeonato Brasileiro 2024 disponível no site da CNN Brasil",
         "https://www.cnnbrasil.com.br/esportes/futebol/tabela-do-brasileirao/",
         "classificacao_brasileirao_2024.csv",
         "BrasilSerieA_2024_ClassificacaoFinal.csv"
        ],
        [
         10,
         "Saldo_de_Gols",
         "int",
         "Saldo de gols do clube (Gols Marcados - Gols Sofridos)",
         "-29 | 30",
         20,
         0,
         17,
         3,
         "Renomeação da coluna para padronização.",
         "Bronze → Silver",
         "Sem observações adicionais.",
         "Tabela criada manualmente com base na classificação do Campeonato Brasileiro 2024 disponível no site da CNN Brasil",
         "https://www.cnnbrasil.com.br/esportes/futebol/tabela-do-brasileirao/",
         "classificacao_brasileirao_2024.csv",
         "BrasilSerieA_2024_ClassificacaoFinal.csv"
        ],
        [
         4,
         "Partidas_Jogadas",
         "int",
         "Número de partidas jogadas pelo clube",
         "38 | 38",
         20,
         0,
         1,
         19,
         "Renomeação da coluna para padronização.",
         "Bronze → Silver",
         "Sem observações adicionais.",
         "Tabela criada manualmente com base na classificação do Campeonato Brasileiro 2024 disponível no site da CNN Brasil",
         "https://www.cnnbrasil.com.br/esportes/futebol/tabela-do-brasileirao/",
         "classificacao_brasileirao_2024.csv",
         "BrasilSerieA_2024_ClassificacaoFinal.csv"
        ],
        [
         5,
         "Vitorias",
         "int",
         "Quantidade de vitórias conquistadas pelo clube",
         "6 | 23",
         20,
         0,
         15,
         5,
         "Renomeação da coluna para padronização.",
         "Bronze → Silver",
         "Sem observações adicionais.",
         "Tabela criada manualmente com base na classificação do Campeonato Brasileiro 2024 disponível no site da CNN Brasil",
         "https://www.cnnbrasil.com.br/esportes/futebol/tabela-do-brasileirao/",
         "classificacao_brasileirao_2024.csv",
         "BrasilSerieA_2024_ClassificacaoFinal.csv"
        ],
        [
         8,
         "Gols_Marcados",
         "int",
         "Gols marcados pelo clube ao longo da competição",
         "29 | 61",
         20,
         0,
         15,
         5,
         "Renomeação da coluna para padronização.",
         "Bronze → Silver",
         "Sem observações adicionais.",
         "Tabela criada manualmente com base na classificação do Campeonato Brasileiro 2024 disponível no site da CNN Brasil",
         "https://www.cnnbrasil.com.br/esportes/futebol/tabela-do-brasileirao/",
         "classificacao_brasileirao_2024.csv",
         "BrasilSerieA_2024_ClassificacaoFinal.csv"
        ],
        [
         3,
         "Pontuacao",
         "int",
         "Pontos acumulados pelo clube na competição",
         "30 | 79",
         20,
         0,
         17,
         3,
         "Renomeação da coluna para padronização.",
         "Bronze → Silver",
         "Sem observações adicionais.",
         "Tabela criada manualmente com base na classificação do Campeonato Brasileiro 2024 disponível no site da CNN Brasil",
         "https://www.cnnbrasil.com.br/esportes/futebol/tabela-do-brasileirao/",
         "classificacao_brasileirao_2024.csv",
         "BrasilSerieA_2024_ClassificacaoFinal.csv"
        ],
        [
         1,
         "Posicao",
         "int",
         "Posição do clube na tabela de classificação",
         "1 | 20",
         20,
         0,
         20,
         0,
         "Renomeação da coluna para padronização.",
         "Bronze → Silver",
         "Sem observações adicionais.",
         "Tabela criada manualmente com base na classificação do Campeonato Brasileiro 2024 disponível no site da CNN Brasil",
         "https://www.cnnbrasil.com.br/esportes/futebol/tabela-do-brasileirao/",
         "classificacao_brasileirao_2024.csv",
         "BrasilSerieA_2024_ClassificacaoFinal.csv"
        ],
        [
         7,
         "Derrotas",
         "int",
         "Quantidade de derrotas do clube",
         "5 | 22",
         20,
         0,
         12,
         8,
         "Renomeação da coluna para padronização.",
         "Bronze → Silver",
         "Sem observações adicionais.",
         "Tabela criada manualmente com base na classificação do Campeonato Brasileiro 2024 disponível no site da CNN Brasil",
         "https://www.cnnbrasil.com.br/esportes/futebol/tabela-do-brasileirao/",
         "classificacao_brasileirao_2024.csv",
         "BrasilSerieA_2024_ClassificacaoFinal.csv"
        ],
        [
         6,
         "Empates",
         "int",
         "Quantidade de empates do clube",
         "7 | 14",
         20,
         0,
         7,
         13,
         "Renomeação da coluna para padronização.",
         "Bronze → Silver",
         "Sem observações adicionais.",
         "Tabela criada manualmente com base na classificação do Campeonato Brasileiro 2024 disponível no site da CNN Brasil",
         "https://www.cnnbrasil.com.br/esportes/futebol/tabela-do-brasileirao/",
         "classificacao_brasileirao_2024.csv",
         "BrasilSerieA_2024_ClassificacaoFinal.csv"
        ]
       ],
       "datasetInfos": [],
       "dbfsResultPath": null,
       "isJsonSchema": true,
       "metadata": {},
       "overflow": false,
       "plotOptions": {
        "customPlotOptions": {},
        "displayType": "table",
        "pivotAggregation": null,
        "pivotColumns": null,
        "xColumns": null,
        "yColumns": null
       },
       "removedWidgets": [],
       "schema": [
        {
         "metadata": "{}",
         "name": "ID_Coluna",
         "type": "\"long\""
        },
        {
         "metadata": "{}",
         "name": "Coluna",
         "type": "\"string\""
        },
        {
         "metadata": "{}",
         "name": "Tipo_de_Dado",
         "type": "\"string\""
        },
        {
         "metadata": "{}",
         "name": "Definição",
         "type": "\"string\""
        },
        {
         "metadata": "{}",
         "name": "Valores_Min_Max",
         "type": "\"string\""
        },
        {
         "metadata": "{}",
         "name": "Qtd_Valores_Registrados",
         "type": "\"long\""
        },
        {
         "metadata": "{}",
         "name": "Qtd_Valores_Nulos",
         "type": "\"long\""
        },
        {
         "metadata": "{}",
         "name": "Qtd_Valores_Distintos",
         "type": "\"long\""
        },
        {
         "metadata": "{}",
         "name": "Qtd_Valores_Duplicados",
         "type": "\"long\""
        },
        {
         "metadata": "{}",
         "name": "Regras_de_Transformação",
         "type": "\"string\""
        },
        {
         "metadata": "{}",
         "name": "Linhagem_Dados",
         "type": "\"string\""
        },
        {
         "metadata": "{}",
         "name": "Observacoes",
         "type": "\"string\""
        },
        {
         "metadata": "{}",
         "name": "Fonte",
         "type": "\"string\""
        },
        {
         "metadata": "{}",
         "name": "Link_Fonte",
         "type": "\"string\""
        },
        {
         "metadata": "{}",
         "name": "Arquivo_Original",
         "type": "\"string\""
        },
        {
         "metadata": "{}",
         "name": "Arquivo_S3",
         "type": "\"string\""
        }
       ],
       "type": "table"
      }
     },
     "output_type": "display_data"
    }
   ],
   "source": [
    "%sql\n",
    "select * from catalogo_de_dados.catalog_classificacao_silver"
   ]
  },
  {
   "cell_type": "markdown",
   "metadata": {
    "application/vnd.databricks.v1+cell": {
     "cellMetadata": {},
     "inputWidgets": {},
     "nuid": "3c2ebbb5-6488-49a9-a062-a8a19cee7a83",
     "showTitle": false,
     "tableResultSettingsMap": {},
     "title": ""
    }
   },
   "source": [
    "## 🔷 brasil_seriea_2024_silver_todas_partidas"
   ]
  },
  {
   "cell_type": "markdown",
   "metadata": {
    "application/vnd.databricks.v1+cell": {
     "cellMetadata": {},
     "inputWidgets": {},
     "nuid": "53237690-29c1-4115-b4f7-064b832be1f0",
     "showTitle": false,
     "tableResultSettingsMap": {},
     "title": ""
    }
   },
   "source": [
    "####🔹 Criando o Metadata do dataframe"
   ]
  },
  {
   "cell_type": "code",
   "execution_count": 0,
   "metadata": {
    "application/vnd.databricks.v1+cell": {
     "cellMetadata": {
      "byteLimit": 2048000,
      "rowLimit": 10000
     },
     "inputWidgets": {},
     "nuid": "dd79abaa-185c-4df3-9579-02fcab5675d5",
     "showTitle": false,
     "tableResultSettingsMap": {},
     "title": ""
    }
   },
   "outputs": [],
   "source": [
    "from pyspark.sql import Row\n",
    "from pyspark.sql.functions import col, count, countDistinct, min, max, sum\n",
    "\n",
    "# Nome da tabela que queremos analisar (mudar para cada dataset da Silver)\n",
    "tabela_silver = \"default.brasil_seriea_2024_silver_todas_partidas\"\n",
    "\n",
    "# Ler os dados da Silver diretamente do Metastore\n",
    "df = spark.read.table(tabela_silver)\n",
    "\n",
    "# Criar DataFrame com estatísticas (incluindo contagem de nulos correta e duplicatas)\n",
    "metadata_df = df.agg(\n",
    "    *[count(col(c)).alias(f\"{c}_count\") for c in df.columns],  # Contagem total de registros NÃO NULOS\n",
    "    *[countDistinct(col(c)).alias(f\"{c}_distinct\") for c in df.columns],  # Contagem de valores distintos\n",
    "    *[min(col(c)).alias(f\"{c}_min\") for c in df.columns],  # Valor mínimo\n",
    "    *[max(col(c)).alias(f\"{c}_max\") for c in df.columns],  # Valor máximo\n",
    "    *[sum(col(c).isNull().cast(\"int\")).alias(f\"{c}_nulls\") for c in df.columns],  # Contagem correta de nulos\n",
    "    *[(count(col(c)) - countDistinct(col(c))).alias(f\"{c}_duplicates\") for c in df.columns]  # Contagem de valores duplicados\n",
    ")"
   ]
  },
  {
   "cell_type": "markdown",
   "metadata": {
    "application/vnd.databricks.v1+cell": {
     "cellMetadata": {},
     "inputWidgets": {},
     "nuid": "7aa7e28f-5fda-4af0-9bde-ec7cbf6b3b3f",
     "showTitle": false,
     "tableResultSettingsMap": {},
     "title": ""
    }
   },
   "source": [
    "#### 🔹 Criação do Dicionário de descrições"
   ]
  },
  {
   "cell_type": "code",
   "execution_count": 0,
   "metadata": {
    "application/vnd.databricks.v1+cell": {
     "cellMetadata": {
      "byteLimit": 2048000,
      "rowLimit": 10000
     },
     "inputWidgets": {},
     "nuid": "3a715370-a09f-4251-9031-d710f1a5ac59",
     "showTitle": false,
     "tableResultSettingsMap": {},
     "title": ""
    }
   },
   "outputs": [],
   "source": [
    "col_descriptions = {\n",
    "    # Colunas originais da Bronze (renomeadas na Silver)\n",
    "    \"Pais\": (\"País onde o campeonato foi disputado\", \"Renomeação da coluna para padronização\", \"Bronze → Silver\"),\n",
    "    \"Liga\": (\"Nome da liga do campeonato\", \"Renomeação da coluna para padronização\", \"Bronze → Silver\"),\n",
    "    \"Temporada\": (\"Ano da temporada do campeonato\", \"Renomeação da coluna para padronização | Filtragem para manter apenas 2024\", \"Bronze → Silver\"),\n",
    "    \n",
    "    # 🔹 Atualização da coluna \"Data\"\n",
    "    \"Data\": (\"Data em que a partida foi disputada\", \n",
    "             \"Renomeação da coluna e conversão para formato de data | Ajuste das datas das partidas não encontradas na base Estatistica por Jogador (-1 dia, quando necessário)\", \n",
    "             \"Bronze → Silver\"),\n",
    "    \n",
    "    \"Horario\": (\"Horário da partida\", \"Renomeação da coluna para padronização\", \"Bronze → Silver\"),\n",
    "    \n",
    "    # Novas colunas criadas na Silver\n",
    "    \"Match_ID\": (\"Identificador único da partida\", \"Criado concatenando 'Match_' com um ID incremental\", \"Silver (Coluna nova)\"),\n",
    "    \"Trimestre\": (\"Trimestre em que a partida foi disputada\", \"Criado a partir da data do jogo\", \"Silver (Coluna nova)\"),\n",
    "    \"Turno\": (\"Indicação se a partida foi no primeiro ou segundo turno do campeonato\", \"Criado com base na data do jogo\", \"Silver (Coluna nova)\"),\n",
    "    \n",
    "    # Transformações para análise individual de cada time\n",
    "    \"Clube\": (\"Nome do time participante da partida (mandante ou visitante)\", \"Criado a partir das colunas Home e Away, e unificando em uma única coluna\", \"Silver (Transformação)\"),\n",
    "    \"MandanteVisitante\": (\"Indica se o time jogou em casa ('Mandante') ou fora ('Visitante')\", \"Transformado a partir dos DataFrames 'df_home' e 'df_away' e criado a partir da união de ambos\", \"Silver (Transformação)\"),\n",
    "    \"Goals\": (\"Número de gols marcados pelo time na partida\", \"Criado unificando HG (gols do mandante) e AG (gols do visitante)\", \"Silver (Coluna nova)\"),\n",
    "    \n",
    "    # Transformações aplicadas à coluna Resultado\n",
    "    \"Resultado\": (\"Resultado da partida do ponto de vista do time (Vitória, Derrota ou Empate)\", \"Ajustado conforme a posição do time na partida\", \"Silver (Transformação)\"),\n",
    "    \n",
    "    # 🔹 Nova coluna \"Status_Ajuste\"\n",
    "    \"Status_Ajustes\": (\"Indica se a data da partida foi ajustada\", \n",
    "                      \"Criado para identificar alterações na data das partidas. Valores possíveis: 'Ajustado -1 dia' ou 'Sem modificação'\", \n",
    "                      \"Silver (Coluna nova)\")\n",
    "}\n"
   ]
  },
  {
   "cell_type": "code",
   "execution_count": 0,
   "metadata": {
    "application/vnd.databricks.v1+cell": {
     "cellMetadata": {
      "byteLimit": 2048000,
      "rowLimit": 10000
     },
     "inputWidgets": {},
     "nuid": "7e1b8e05-f99f-406c-9075-b4ab11f6cce7",
     "showTitle": false,
     "tableResultSettingsMap": {},
     "title": ""
    }
   },
   "outputs": [],
   "source": [
    "observacoes = {\n",
    "    \"Data\": \"⚠️ Ajuste manual: Datas ajustadas para garantir a correspondência entre os arquivos de partidas e estatísticas. Quando necessário, foi subtraído 1 dia das partidas não encontradas na estatística.\"\n",
    "}"
   ]
  },
  {
   "cell_type": "markdown",
   "metadata": {
    "application/vnd.databricks.v1+cell": {
     "cellMetadata": {},
     "inputWidgets": {},
     "nuid": "25f90adc-0969-4fd5-bd2e-75e42b6d54e3",
     "showTitle": false,
     "tableResultSettingsMap": {},
     "title": ""
    }
   },
   "source": [
    "#### 🔹 Criando o Dataframe do Catálogo"
   ]
  },
  {
   "cell_type": "code",
   "execution_count": 0,
   "metadata": {
    "application/vnd.databricks.v1+cell": {
     "cellMetadata": {
      "byteLimit": 2048000,
      "rowLimit": 10000
     },
     "inputWidgets": {},
     "nuid": "2b2e2823-11dc-4d05-99a4-b0c9bccefb63",
     "showTitle": false,
     "tableResultSettingsMap": {},
     "title": ""
    }
   },
   "outputs": [],
   "source": [
    "# Criar lista de metadados para o Catálogo de Dados\n",
    "catalog_data = []\n",
    "\n",
    "# Iterar sobre as colunas da tabela Silver\n",
    "for index, col_name in enumerate(df.columns, start=1):\n",
    "    col_type = df.select(col(col_name)).schema.fields[0].dataType.simpleString()  # Tipo da coluna\n",
    "    col_count = metadata_df.collect()[0][f\"{col_name}_count\"]  # Contagem total (não nulos)\n",
    "    col_distinct = metadata_df.collect()[0][f\"{col_name}_distinct\"]  # Valores distintos\n",
    "    col_nulls = metadata_df.collect()[0][f\"{col_name}_nulls\"]  # Contagem correta de valores nulos\n",
    "    col_min = metadata_df.collect()[0][f\"{col_name}_min\"] if f\"{col_name}_min\" in metadata_df.columns else \"N/A\"\n",
    "    col_max = metadata_df.collect()[0][f\"{col_name}_max\"] if f\"{col_name}_max\" in metadata_df.columns else \"N/A\"\n",
    "    col_duplicates = metadata_df.collect()[0][f\"{col_name}_duplicates\"] if f\"{col_name}_duplicates\" in metadata_df.columns else 0  # Contagem de duplicados\n",
    "\n",
    "    # Buscar definição, regra de transformação e linhagem dos dados no dicionário\n",
    "    col_definition, transformations_applied, lineage_info = col_descriptions.get(\n",
    "        col_name, (f\"Descrição da coluna {col_name}\", \"Nenhuma alteração aplicada.\", \"Origem desconhecida\")\n",
    "    )\n",
    "\n",
    "    # Definir observações sobre a coluna (pode ser preenchido manualmente se necessário)\n",
    "    comments = observacoes.get(col_name, \"Sem observações adicionais.\")\n",
    "\n",
    "    # Adicionar à lista\n",
    "    catalog_data.append(Row(ID_Coluna=index,\n",
    "                            Coluna=col_name, \n",
    "                            Tipo_de_Dado=col_type, \n",
    "                            Definição=col_definition,\n",
    "                            Valores_Min_Max=f\"{col_min} | {col_max}\", \n",
    "                            Qtd_Valores_Registrados=col_count,\n",
    "                            Qtd_Valores_Nulos=col_nulls,\n",
    "                            Qtd_Valores_Distintos=col_distinct,\n",
    "                            Qtd_Valores_Duplicados=col_duplicates,\n",
    "                            Regras_de_Transformação=transformations_applied,\n",
    "                            Linhagem_Dados=lineage_info,  # ✅ Agora vem direto do dicionário!\n",
    "                            Observacoes=comments,\n",
    "                            Fonte=\"Kaggle\",\n",
    "                            Link_Fonte=\"https://www.kaggle.com/datasets/gabrielmeireles/brazilian-football-championship\",\n",
    "                            Arquivo_Original=\"BRA.csv\",\n",
    "                            Arquivo_S3=\"BrasilSerieA_2024_TodasPartidas.csv\"\n",
    "                            ))                            \n",
    "\n",
    "# Criar o DataFrame do Catálogo de Dados\n",
    "catalog_df = spark.createDataFrame(catalog_data)\n"
   ]
  },
  {
   "cell_type": "markdown",
   "metadata": {
    "application/vnd.databricks.v1+cell": {
     "cellMetadata": {},
     "inputWidgets": {},
     "nuid": "c04b567d-9fe8-4c6d-ae24-667ea15ac284",
     "showTitle": false,
     "tableResultSettingsMap": {},
     "title": ""
    }
   },
   "source": [
    "#### 🔹 Salvando o Catálogo no S3 camada _Bronze_"
   ]
  },
  {
   "cell_type": "code",
   "execution_count": 0,
   "metadata": {
    "application/vnd.databricks.v1+cell": {
     "cellMetadata": {
      "byteLimit": 2048000,
      "rowLimit": 10000
     },
     "inputWidgets": {},
     "nuid": "88eabe03-1d82-4202-8c8e-4aa0ceff8b80",
     "showTitle": false,
     "tableResultSettingsMap": {},
     "title": ""
    }
   },
   "outputs": [
    {
     "output_type": "stream",
     "name": "stdout",
     "output_type": "stream",
     "text": [
      "🚨 Arquivos antigos do Delta removidos com sucesso!\n✅ Catálogo Estatístico salvo no formato Delta com sucesso!\n"
     ]
    }
   ],
   "source": [
    "# Caminho no S3 para salvar o Catálogo Estatístico\n",
    "delta_catalogo_estatistico_path = \"s3://mvp-brasileirao-2024/silver/delta/catalog_todas_partidas\"\n",
    "\n",
    "dbutils.fs.rm(delta_catalogo_estatistico_path, recurse=True)\n",
    "print(\"🚨 Arquivos antigos do Delta removidos com sucesso!\")\n",
    "\n",
    "# Salvar a tabela Delta com as estatísticas\n",
    "catalog_df.write.format(\"delta\").mode(\"overwrite\").save(delta_catalogo_estatistico_path)\n",
    "\n",
    "print(\"✅ Catálogo Estatístico salvo no formato Delta com sucesso!\")"
   ]
  },
  {
   "cell_type": "markdown",
   "metadata": {
    "application/vnd.databricks.v1+cell": {
     "cellMetadata": {},
     "inputWidgets": {},
     "nuid": "621a8767-06f3-4f7f-99ca-4e208e98cc86",
     "showTitle": false,
     "tableResultSettingsMap": {},
     "title": ""
    }
   },
   "source": [
    "#### 🔹 Criando Tabela de Catálogos no Hive"
   ]
  },
  {
   "cell_type": "code",
   "execution_count": 0,
   "metadata": {
    "application/vnd.databricks.v1+cell": {
     "cellMetadata": {
      "byteLimit": 2048000,
      "implicitDf": true,
      "rowLimit": 10000
     },
     "inputWidgets": {},
     "nuid": "bdf4e736-2b11-4a1f-853e-e3c6208f3277",
     "showTitle": false,
     "tableResultSettingsMap": {},
     "title": ""
    }
   },
   "outputs": [
    {
     "output_type": "display_data",
     "data": {
      "text/html": [
       "<style scoped>\n",
       "  .table-result-container {\n",
       "    max-height: 300px;\n",
       "    overflow: auto;\n",
       "  }\n",
       "  table, th, td {\n",
       "    border: 1px solid black;\n",
       "    border-collapse: collapse;\n",
       "  }\n",
       "  th, td {\n",
       "    padding: 5px;\n",
       "  }\n",
       "  th {\n",
       "    text-align: left;\n",
       "  }\n",
       "</style><div class='table-result-container'><table class='table-result'><thead style='background-color: white'><tr></tr></thead><tbody></tbody></table></div>"
      ]
     },
     "metadata": {
      "application/vnd.databricks.v1+output": {
       "addedWidgets": {},
       "aggData": [],
       "aggError": "",
       "aggOverflow": false,
       "aggSchema": [],
       "aggSeriesLimitReached": false,
       "aggType": "",
       "arguments": {},
       "columnCustomDisplayInfos": {},
       "data": [],
       "datasetInfos": [],
       "dbfsResultPath": null,
       "isJsonSchema": true,
       "metadata": {},
       "overflow": false,
       "plotOptions": {
        "customPlotOptions": {},
        "displayType": "table",
        "pivotAggregation": null,
        "pivotColumns": null,
        "xColumns": null,
        "yColumns": null
       },
       "removedWidgets": [],
       "schema": [],
       "type": "table"
      }
     },
     "output_type": "display_data"
    }
   ],
   "source": [
    "%sql\n",
    "DROP TABLE IF EXISTS catalogo_de_dados.catalog_todas_partidas_silver;\n",
    "\n",
    "CREATE TABLE catalogo_de_dados.catalog_todas_partidas_silver\n",
    "USING DELTA\n",
    "LOCATION 's3://mvp-brasileirao-2024/silver/delta/catalog_todas_partidas';"
   ]
  },
  {
   "cell_type": "markdown",
   "metadata": {
    "application/vnd.databricks.v1+cell": {
     "cellMetadata": {},
     "inputWidgets": {},
     "nuid": "8069aa00-2fee-486e-839e-4f0506aa78e2",
     "showTitle": false,
     "tableResultSettingsMap": {},
     "title": ""
    }
   },
   "source": [
    "#### 🔹 Exibindo o Catálogo de Dados via SQL"
   ]
  },
  {
   "cell_type": "code",
   "execution_count": 0,
   "metadata": {
    "application/vnd.databricks.v1+cell": {
     "cellMetadata": {
      "byteLimit": 2048000,
      "implicitDf": true,
      "rowLimit": 10000
     },
     "inputWidgets": {},
     "nuid": "faad4e76-b8ac-4ce0-b308-3e0e4b711dee",
     "showTitle": false,
     "tableResultSettingsMap": {},
     "title": ""
    }
   },
   "outputs": [
    {
     "output_type": "display_data",
     "data": {
      "text/html": [
       "<style scoped>\n",
       "  .table-result-container {\n",
       "    max-height: 300px;\n",
       "    overflow: auto;\n",
       "  }\n",
       "  table, th, td {\n",
       "    border: 1px solid black;\n",
       "    border-collapse: collapse;\n",
       "  }\n",
       "  th, td {\n",
       "    padding: 5px;\n",
       "  }\n",
       "  th {\n",
       "    text-align: left;\n",
       "  }\n",
       "</style><div class='table-result-container'><table class='table-result'><thead style='background-color: white'><tr><th>ID_Coluna</th><th>Coluna</th><th>Tipo_de_Dado</th><th>Definição</th><th>Valores_Min_Max</th><th>Qtd_Valores_Registrados</th><th>Qtd_Valores_Nulos</th><th>Qtd_Valores_Distintos</th><th>Qtd_Valores_Duplicados</th><th>Regras_de_Transformação</th><th>Linhagem_Dados</th><th>Observacoes</th><th>Fonte</th><th>Link_Fonte</th><th>Arquivo_Original</th><th>Arquivo_S3</th></tr></thead><tbody><tr><td>4</td><td>Data</td><td>date</td><td>Data em que a partida foi disputada</td><td>2024-04-13 | 2024-12-08</td><td>760</td><td>0</td><td>110</td><td>650</td><td>Renomeação da coluna e conversão para formato de data | Ajuste das datas das partidas não encontradas na base Estatistica por Jogador (-1 dia, quando necessário)</td><td>Bronze → Silver</td><td>⚠️ Ajuste manual: Datas ajustadas para garantir a correspondência entre os arquivos de partidas e estatísticas. Quando necessário, foi subtraído 1 dia das partidas não encontradas na estatística.</td><td>Kaggle</td><td>https://www.kaggle.com/datasets/gabrielmeireles/brazilian-football-championship</td><td>BRA.csv</td><td>BrasilSerieA_2024_TodasPartidas.csv</td></tr><tr><td>9</td><td>MandanteVisitante</td><td>string</td><td>Indica se o time jogou em casa ('Mandante') ou fora ('Visitante')</td><td>Mandante | Visitante</td><td>760</td><td>0</td><td>2</td><td>758</td><td>Transformado a partir dos DataFrames 'df_home' e 'df_away' e criado a partir da união de ambos</td><td>Silver (Transformação)</td><td>Sem observações adicionais.</td><td>Kaggle</td><td>https://www.kaggle.com/datasets/gabrielmeireles/brazilian-football-championship</td><td>BRA.csv</td><td>BrasilSerieA_2024_TodasPartidas.csv</td></tr><tr><td>12</td><td>Match_ID</td><td>string</td><td>Identificador único da partida</td><td>Match_0 | Match_99</td><td>760</td><td>0</td><td>380</td><td>380</td><td>Criado concatenando 'Match_' com um ID incremental</td><td>Silver (Coluna nova)</td><td>Sem observações adicionais.</td><td>Kaggle</td><td>https://www.kaggle.com/datasets/gabrielmeireles/brazilian-football-championship</td><td>BRA.csv</td><td>BrasilSerieA_2024_TodasPartidas.csv</td></tr><tr><td>13</td><td>Status_Ajustes</td><td>string</td><td>Indica se a data da partida foi ajustada</td><td>Ajustado -1 dia | Sem modificação</td><td>760</td><td>0</td><td>2</td><td>758</td><td>Criado para identificar alterações na data das partidas. Valores possíveis: 'Ajustado -1 dia' ou 'Sem modificação'</td><td>Silver (Coluna nova)</td><td>Sem observações adicionais.</td><td>Kaggle</td><td>https://www.kaggle.com/datasets/gabrielmeireles/brazilian-football-championship</td><td>BRA.csv</td><td>BrasilSerieA_2024_TodasPartidas.csv</td></tr><tr><td>7</td><td>Turno</td><td>string</td><td>Indicação se a partida foi no primeiro ou segundo turno do campeonato</td><td>Primeiro Turno | Segundo Turno</td><td>760</td><td>0</td><td>2</td><td>758</td><td>Criado com base na data do jogo</td><td>Silver (Coluna nova)</td><td>Sem observações adicionais.</td><td>Kaggle</td><td>https://www.kaggle.com/datasets/gabrielmeireles/brazilian-football-championship</td><td>BRA.csv</td><td>BrasilSerieA_2024_TodasPartidas.csv</td></tr><tr><td>8</td><td>Clube</td><td>string</td><td>Nome do time participante da partida (mandante ou visitante)</td><td>Athletico-PR | Vasco da Gama</td><td>760</td><td>0</td><td>20</td><td>740</td><td>Criado a partir das colunas Home e Away, e unificando em uma única coluna</td><td>Silver (Transformação)</td><td>Sem observações adicionais.</td><td>Kaggle</td><td>https://www.kaggle.com/datasets/gabrielmeireles/brazilian-football-championship</td><td>BRA.csv</td><td>BrasilSerieA_2024_TodasPartidas.csv</td></tr><tr><td>10</td><td>Goals</td><td>int</td><td>Número de gols marcados pelo time na partida</td><td>0 | 6</td><td>760</td><td>0</td><td>7</td><td>753</td><td>Criado unificando HG (gols do mandante) e AG (gols do visitante)</td><td>Silver (Coluna nova)</td><td>Sem observações adicionais.</td><td>Kaggle</td><td>https://www.kaggle.com/datasets/gabrielmeireles/brazilian-football-championship</td><td>BRA.csv</td><td>BrasilSerieA_2024_TodasPartidas.csv</td></tr><tr><td>11</td><td>Resultado</td><td>string</td><td>Resultado da partida do ponto de vista do time (Vitória, Derrota ou Empate)</td><td>Derrota | Vitoria</td><td>760</td><td>0</td><td>3</td><td>757</td><td>Ajustado conforme a posição do time na partida</td><td>Silver (Transformação)</td><td>Sem observações adicionais.</td><td>Kaggle</td><td>https://www.kaggle.com/datasets/gabrielmeireles/brazilian-football-championship</td><td>BRA.csv</td><td>BrasilSerieA_2024_TodasPartidas.csv</td></tr><tr><td>2</td><td>Liga</td><td>string</td><td>Nome da liga do campeonato</td><td>Serie A | Serie A</td><td>760</td><td>0</td><td>1</td><td>759</td><td>Renomeação da coluna para padronização</td><td>Bronze → Silver</td><td>Sem observações adicionais.</td><td>Kaggle</td><td>https://www.kaggle.com/datasets/gabrielmeireles/brazilian-football-championship</td><td>BRA.csv</td><td>BrasilSerieA_2024_TodasPartidas.csv</td></tr><tr><td>3</td><td>Temporada</td><td>int</td><td>Ano da temporada do campeonato</td><td>2024 | 2024</td><td>760</td><td>0</td><td>1</td><td>759</td><td>Renomeação da coluna para padronização | Filtragem para manter apenas 2024</td><td>Bronze → Silver</td><td>Sem observações adicionais.</td><td>Kaggle</td><td>https://www.kaggle.com/datasets/gabrielmeireles/brazilian-football-championship</td><td>BRA.csv</td><td>BrasilSerieA_2024_TodasPartidas.csv</td></tr><tr><td>5</td><td>Horario</td><td>timestamp</td><td>Horário da partida</td><td>2025-04-05 00:00:00 | 2025-04-05 23:30:00</td><td>760</td><td>0</td><td>17</td><td>743</td><td>Renomeação da coluna para padronização</td><td>Bronze → Silver</td><td>Sem observações adicionais.</td><td>Kaggle</td><td>https://www.kaggle.com/datasets/gabrielmeireles/brazilian-football-championship</td><td>BRA.csv</td><td>BrasilSerieA_2024_TodasPartidas.csv</td></tr><tr><td>6</td><td>Trimestre</td><td>int</td><td>Trimestre em que a partida foi disputada</td><td>2 | 4</td><td>760</td><td>0</td><td>3</td><td>757</td><td>Criado a partir da data do jogo</td><td>Silver (Coluna nova)</td><td>Sem observações adicionais.</td><td>Kaggle</td><td>https://www.kaggle.com/datasets/gabrielmeireles/brazilian-football-championship</td><td>BRA.csv</td><td>BrasilSerieA_2024_TodasPartidas.csv</td></tr><tr><td>1</td><td>Pais</td><td>string</td><td>País onde o campeonato foi disputado</td><td>Brazil | Brazil</td><td>760</td><td>0</td><td>1</td><td>759</td><td>Renomeação da coluna para padronização</td><td>Bronze → Silver</td><td>Sem observações adicionais.</td><td>Kaggle</td><td>https://www.kaggle.com/datasets/gabrielmeireles/brazilian-football-championship</td><td>BRA.csv</td><td>BrasilSerieA_2024_TodasPartidas.csv</td></tr></tbody></table></div>"
      ]
     },
     "metadata": {
      "application/vnd.databricks.v1+output": {
       "addedWidgets": {},
       "aggData": [],
       "aggError": "",
       "aggOverflow": false,
       "aggSchema": [],
       "aggSeriesLimitReached": false,
       "aggType": "",
       "arguments": {},
       "columnCustomDisplayInfos": {},
       "data": [
        [
         4,
         "Data",
         "date",
         "Data em que a partida foi disputada",
         "2024-04-13 | 2024-12-08",
         760,
         0,
         110,
         650,
         "Renomeação da coluna e conversão para formato de data | Ajuste das datas das partidas não encontradas na base Estatistica por Jogador (-1 dia, quando necessário)",
         "Bronze → Silver",
         "⚠️ Ajuste manual: Datas ajustadas para garantir a correspondência entre os arquivos de partidas e estatísticas. Quando necessário, foi subtraído 1 dia das partidas não encontradas na estatística.",
         "Kaggle",
         "https://www.kaggle.com/datasets/gabrielmeireles/brazilian-football-championship",
         "BRA.csv",
         "BrasilSerieA_2024_TodasPartidas.csv"
        ],
        [
         9,
         "MandanteVisitante",
         "string",
         "Indica se o time jogou em casa ('Mandante') ou fora ('Visitante')",
         "Mandante | Visitante",
         760,
         0,
         2,
         758,
         "Transformado a partir dos DataFrames 'df_home' e 'df_away' e criado a partir da união de ambos",
         "Silver (Transformação)",
         "Sem observações adicionais.",
         "Kaggle",
         "https://www.kaggle.com/datasets/gabrielmeireles/brazilian-football-championship",
         "BRA.csv",
         "BrasilSerieA_2024_TodasPartidas.csv"
        ],
        [
         12,
         "Match_ID",
         "string",
         "Identificador único da partida",
         "Match_0 | Match_99",
         760,
         0,
         380,
         380,
         "Criado concatenando 'Match_' com um ID incremental",
         "Silver (Coluna nova)",
         "Sem observações adicionais.",
         "Kaggle",
         "https://www.kaggle.com/datasets/gabrielmeireles/brazilian-football-championship",
         "BRA.csv",
         "BrasilSerieA_2024_TodasPartidas.csv"
        ],
        [
         13,
         "Status_Ajustes",
         "string",
         "Indica se a data da partida foi ajustada",
         "Ajustado -1 dia | Sem modificação",
         760,
         0,
         2,
         758,
         "Criado para identificar alterações na data das partidas. Valores possíveis: 'Ajustado -1 dia' ou 'Sem modificação'",
         "Silver (Coluna nova)",
         "Sem observações adicionais.",
         "Kaggle",
         "https://www.kaggle.com/datasets/gabrielmeireles/brazilian-football-championship",
         "BRA.csv",
         "BrasilSerieA_2024_TodasPartidas.csv"
        ],
        [
         7,
         "Turno",
         "string",
         "Indicação se a partida foi no primeiro ou segundo turno do campeonato",
         "Primeiro Turno | Segundo Turno",
         760,
         0,
         2,
         758,
         "Criado com base na data do jogo",
         "Silver (Coluna nova)",
         "Sem observações adicionais.",
         "Kaggle",
         "https://www.kaggle.com/datasets/gabrielmeireles/brazilian-football-championship",
         "BRA.csv",
         "BrasilSerieA_2024_TodasPartidas.csv"
        ],
        [
         8,
         "Clube",
         "string",
         "Nome do time participante da partida (mandante ou visitante)",
         "Athletico-PR | Vasco da Gama",
         760,
         0,
         20,
         740,
         "Criado a partir das colunas Home e Away, e unificando em uma única coluna",
         "Silver (Transformação)",
         "Sem observações adicionais.",
         "Kaggle",
         "https://www.kaggle.com/datasets/gabrielmeireles/brazilian-football-championship",
         "BRA.csv",
         "BrasilSerieA_2024_TodasPartidas.csv"
        ],
        [
         10,
         "Goals",
         "int",
         "Número de gols marcados pelo time na partida",
         "0 | 6",
         760,
         0,
         7,
         753,
         "Criado unificando HG (gols do mandante) e AG (gols do visitante)",
         "Silver (Coluna nova)",
         "Sem observações adicionais.",
         "Kaggle",
         "https://www.kaggle.com/datasets/gabrielmeireles/brazilian-football-championship",
         "BRA.csv",
         "BrasilSerieA_2024_TodasPartidas.csv"
        ],
        [
         11,
         "Resultado",
         "string",
         "Resultado da partida do ponto de vista do time (Vitória, Derrota ou Empate)",
         "Derrota | Vitoria",
         760,
         0,
         3,
         757,
         "Ajustado conforme a posição do time na partida",
         "Silver (Transformação)",
         "Sem observações adicionais.",
         "Kaggle",
         "https://www.kaggle.com/datasets/gabrielmeireles/brazilian-football-championship",
         "BRA.csv",
         "BrasilSerieA_2024_TodasPartidas.csv"
        ],
        [
         2,
         "Liga",
         "string",
         "Nome da liga do campeonato",
         "Serie A | Serie A",
         760,
         0,
         1,
         759,
         "Renomeação da coluna para padronização",
         "Bronze → Silver",
         "Sem observações adicionais.",
         "Kaggle",
         "https://www.kaggle.com/datasets/gabrielmeireles/brazilian-football-championship",
         "BRA.csv",
         "BrasilSerieA_2024_TodasPartidas.csv"
        ],
        [
         3,
         "Temporada",
         "int",
         "Ano da temporada do campeonato",
         "2024 | 2024",
         760,
         0,
         1,
         759,
         "Renomeação da coluna para padronização | Filtragem para manter apenas 2024",
         "Bronze → Silver",
         "Sem observações adicionais.",
         "Kaggle",
         "https://www.kaggle.com/datasets/gabrielmeireles/brazilian-football-championship",
         "BRA.csv",
         "BrasilSerieA_2024_TodasPartidas.csv"
        ],
        [
         5,
         "Horario",
         "timestamp",
         "Horário da partida",
         "2025-04-05 00:00:00 | 2025-04-05 23:30:00",
         760,
         0,
         17,
         743,
         "Renomeação da coluna para padronização",
         "Bronze → Silver",
         "Sem observações adicionais.",
         "Kaggle",
         "https://www.kaggle.com/datasets/gabrielmeireles/brazilian-football-championship",
         "BRA.csv",
         "BrasilSerieA_2024_TodasPartidas.csv"
        ],
        [
         6,
         "Trimestre",
         "int",
         "Trimestre em que a partida foi disputada",
         "2 | 4",
         760,
         0,
         3,
         757,
         "Criado a partir da data do jogo",
         "Silver (Coluna nova)",
         "Sem observações adicionais.",
         "Kaggle",
         "https://www.kaggle.com/datasets/gabrielmeireles/brazilian-football-championship",
         "BRA.csv",
         "BrasilSerieA_2024_TodasPartidas.csv"
        ],
        [
         1,
         "Pais",
         "string",
         "País onde o campeonato foi disputado",
         "Brazil | Brazil",
         760,
         0,
         1,
         759,
         "Renomeação da coluna para padronização",
         "Bronze → Silver",
         "Sem observações adicionais.",
         "Kaggle",
         "https://www.kaggle.com/datasets/gabrielmeireles/brazilian-football-championship",
         "BRA.csv",
         "BrasilSerieA_2024_TodasPartidas.csv"
        ]
       ],
       "datasetInfos": [],
       "dbfsResultPath": null,
       "isJsonSchema": true,
       "metadata": {},
       "overflow": false,
       "plotOptions": {
        "customPlotOptions": {},
        "displayType": "table",
        "pivotAggregation": null,
        "pivotColumns": null,
        "xColumns": null,
        "yColumns": null
       },
       "removedWidgets": [],
       "schema": [
        {
         "metadata": "{}",
         "name": "ID_Coluna",
         "type": "\"long\""
        },
        {
         "metadata": "{}",
         "name": "Coluna",
         "type": "\"string\""
        },
        {
         "metadata": "{}",
         "name": "Tipo_de_Dado",
         "type": "\"string\""
        },
        {
         "metadata": "{}",
         "name": "Definição",
         "type": "\"string\""
        },
        {
         "metadata": "{}",
         "name": "Valores_Min_Max",
         "type": "\"string\""
        },
        {
         "metadata": "{}",
         "name": "Qtd_Valores_Registrados",
         "type": "\"long\""
        },
        {
         "metadata": "{}",
         "name": "Qtd_Valores_Nulos",
         "type": "\"long\""
        },
        {
         "metadata": "{}",
         "name": "Qtd_Valores_Distintos",
         "type": "\"long\""
        },
        {
         "metadata": "{}",
         "name": "Qtd_Valores_Duplicados",
         "type": "\"long\""
        },
        {
         "metadata": "{}",
         "name": "Regras_de_Transformação",
         "type": "\"string\""
        },
        {
         "metadata": "{}",
         "name": "Linhagem_Dados",
         "type": "\"string\""
        },
        {
         "metadata": "{}",
         "name": "Observacoes",
         "type": "\"string\""
        },
        {
         "metadata": "{}",
         "name": "Fonte",
         "type": "\"string\""
        },
        {
         "metadata": "{}",
         "name": "Link_Fonte",
         "type": "\"string\""
        },
        {
         "metadata": "{}",
         "name": "Arquivo_Original",
         "type": "\"string\""
        },
        {
         "metadata": "{}",
         "name": "Arquivo_S3",
         "type": "\"string\""
        }
       ],
       "type": "table"
      }
     },
     "output_type": "display_data"
    }
   ],
   "source": [
    "%sql\n",
    "select * from catalogo_de_dados.catalog_todas_partidas_silver"
   ]
  },
  {
   "cell_type": "markdown",
   "metadata": {
    "application/vnd.databricks.v1+cell": {
     "cellMetadata": {},
     "inputWidgets": {},
     "nuid": "fd5e2e88-d67b-497f-af99-78381432e0d7",
     "showTitle": false,
     "tableResultSettingsMap": {},
     "title": ""
    }
   },
   "source": [
    "## 🔷 brasil_seriea_2024_silver_estatistica_jogador"
   ]
  },
  {
   "cell_type": "markdown",
   "metadata": {
    "application/vnd.databricks.v1+cell": {
     "cellMetadata": {},
     "inputWidgets": {},
     "nuid": "787ac270-b020-4388-bb94-0cfc62e90f92",
     "showTitle": false,
     "tableResultSettingsMap": {},
     "title": ""
    }
   },
   "source": [
    "####🔹 Criando o Metadata do dataframe"
   ]
  },
  {
   "cell_type": "code",
   "execution_count": 0,
   "metadata": {
    "application/vnd.databricks.v1+cell": {
     "cellMetadata": {
      "byteLimit": 2048000,
      "rowLimit": 10000
     },
     "inputWidgets": {},
     "nuid": "770af1ec-08c6-40f7-8960-eeacd7a69d05",
     "showTitle": false,
     "tableResultSettingsMap": {},
     "title": ""
    }
   },
   "outputs": [],
   "source": [
    "from pyspark.sql import Row\n",
    "from pyspark.sql.functions import col, count, countDistinct, min, max, sum\n",
    "\n",
    "# Nome da tabela que queremos analisar (mudar para cada dataset da Silver)\n",
    "tabela_silver = \"default.brasil_seriea_2024_silver_estatistica_jogador\"\n",
    "\n",
    "# Ler os dados da Silver diretamente do Metastore\n",
    "df = spark.read.table(tabela_silver)\n",
    "\n",
    "# Criar DataFrame com estatísticas (incluindo contagem de nulos correta e duplicatas)\n",
    "metadata_df = df.agg(\n",
    "    *[count(col(c)).alias(f\"{c}_count\") for c in df.columns],  # Contagem total de registros NÃO NULOS\n",
    "    *[countDistinct(col(c)).alias(f\"{c}_distinct\") for c in df.columns],  # Contagem de valores distintos\n",
    "    *[min(col(c)).alias(f\"{c}_min\") for c in df.columns],  # Valor mínimo\n",
    "    *[max(col(c)).alias(f\"{c}_max\") for c in df.columns],  # Valor máximo\n",
    "    *[sum(col(c).isNull().cast(\"int\")).alias(f\"{c}_nulls\") for c in df.columns],  # Contagem correta de nulos\n",
    "    *[(count(col(c)) - countDistinct(col(c))).alias(f\"{c}_duplicates\") for c in df.columns]  # Contagem de valores duplicados\n",
    ")"
   ]
  },
  {
   "cell_type": "markdown",
   "metadata": {
    "application/vnd.databricks.v1+cell": {
     "cellMetadata": {},
     "inputWidgets": {},
     "nuid": "b6677e7d-ec70-4677-9c82-f8dc698ba889",
     "showTitle": false,
     "tableResultSettingsMap": {},
     "title": ""
    }
   },
   "source": [
    "#### 🔹 Criação do Dicionário de descrições"
   ]
  },
  {
   "cell_type": "code",
   "execution_count": 0,
   "metadata": {
    "application/vnd.databricks.v1+cell": {
     "cellMetadata": {
      "byteLimit": 2048000,
      "rowLimit": 10000
     },
     "inputWidgets": {},
     "nuid": "69d750c3-7baa-4161-b0da-47795492e06e",
     "showTitle": false,
     "tableResultSettingsMap": {},
     "title": ""
    }
   },
   "outputs": [],
   "source": [
    "col_descriptions = {\n",
    "    # Colunas originais da Bronze (renomeadas na Silver)\n",
    "    \"Jogador\": (\"Nome do jogador que participou da partida\", \"Nenhuma alteração aplicada\", \"Bronze → Silver\"),\n",
    "    \"Clube\": (\"Nome do clube do jogador\", \"Renomeação da coluna para padronização\", \"Bronze → Silver\"),\n",
    "    \"Numero_Camisa\": (\"Número da camisa do jogador na partida\", \"Renomeação da coluna para padronização\", \"Bronze → Silver\"),\n",
    "    \"Nacionalidade\": (\"Nacionalidade do jogador\", \"Renomeação da coluna para padronização | Valores nulos preenchidos com 'N/D' para manter padrão de 3 caracteres\", \"Bronze → Silver\"),\n",
    "    \"Posicao_em_Campo\": (\"Posição do jogador dentro de campo\", \"Renomeação da coluna para padronização\", \"Bronze → Silver\"),\n",
    "    \"idade\": (\"Idade do jogador na data da partida (anos e dias)\", \"Extraídos apenas os dois primeiros caracteres para padronização\", \"Bronze → Silver\"),\n",
    "    \n",
    "    # 🔹 Atualização da coluna \"Minutos_em_Campo\"\n",
    "    \"Minutos_em_Campo\": (\"Minutos jogados pelo atleta na partida\", \n",
    "                         \"Renomeação da coluna para padronização | Valores nulos preenchidos com 0 para representar jogadores que não entraram | Conversão do tipo de dado para double\", \n",
    "                         \"Bronze → Silver\"),\n",
    "    \n",
    "    # Estatísticas de gols e assistências\n",
    "    \"Gols\": (\"Número de gols marcados na partida pelo jogador\", \"Nenhuma alteração aplicada\", \"Bronze → Silver\"),\n",
    "    \"Assitencias\": (\"Número de assistências realizadas pelo jogador\", \"Renomeação da coluna para padronização\", \"Bronze → Silver\"),\n",
    "\n",
    "    # Estatísticas de pênaltis e chutes\n",
    "    \"Penaltis_Batidos\": (\"Pênaltis cobrados pelo jogador\", \"Renomeação da coluna para padronização\", \"Bronze → Silver\"),\n",
    "    \"Penaltis_Tentados\": (\"Pênaltis tentados pelo jogador (considerando acertos e erros)\", \"Renomeação da coluna para padronização\", \"Bronze → Silver\"),\n",
    "    \"Total_Chutes\": (\"Total de chutes realizados (não inclui cobranças de pênalti)\", \"Renomeação da coluna para padronização\", \"Bronze → Silver\"),\n",
    "    \"Chutes_a_Gol\": (\"Chutes a gol (não inclui cobranças de pênalti)\", \"Renomeação da coluna para padronização\", \"Bronze → Silver\"),\n",
    "\n",
    "    # Estatísticas disciplinares\n",
    "    \"Cartao_Amarelo\": (\"Quantidade de cartões amarelos recebidos\", \"Renomeação da coluna para padronização\", \"Bronze → Silver\"),\n",
    "    \"Cartao_Vermelho\": (\"Quantidade de cartões vermelhos recebidos\", \"Renomeação da coluna para padronização\", \"Bronze → Silver\"),\n",
    "\n",
    "    # Estatísticas defensivas\n",
    "    \"Toques_na_Bola\": (\"Número total de vezes que o jogador tocou na bola (conta-se receber, driblar e passar como um toque)\", \n",
    "                       \"Renomeação da coluna para padronização | Conversão do tipo de dado para double\", \n",
    "                       \"Bronze → Silver\"),\n",
    "    \"Desarmes\": (\"Número de desarmes bem-sucedidos realizados pelo jogador\", \n",
    "                 \"Renomeação da coluna para padronização | Conversão do tipo de dado para double\", \n",
    "                 \"Bronze → Silver\"),\n",
    "    \"Interceptacoes\": (\"Número de interceptações defensivas feitas pelo jogador\", \"Renomeação da coluna para padronização\", \"Bronze → Silver\"),\n",
    "    \"Bloqueios\": (\"Número de bloqueios defensivos (interceptação de chutes, passes ou cruzamentos perigosos)\", \n",
    "                  \"Nenhuma alteração aplicada | Conversão do tipo de dado para double\", \n",
    "                  \"Bronze → Silver\"),\n",
    "    \n",
    "    # Estatísticas de Expectativa\n",
    "    \"Gols_Esperados\": (\"Métrica que estima a probabilidade de um chute resultar em gol, com base em variáveis como distância do gol, ângulo, tipo de finalização, entre outros.\",\n",
    "        \"Renomeação da coluna para padronização\",\n",
    "        \"Bronze → Silver\"),\n",
    "    \"Assistencias_Esperadas\": (\"Métrica que estima a probabilidade de um passe resultar em assistência, com base na qualidade da chance criada.\",\n",
    "        \"Renomeação da coluna para padronização\",\n",
    "        \"Bronze → Silver\"),\n",
    "\n",
    "    # Estatísticas de criação\n",
    "    \"Acoes_de_Criacao\": (\"Ações que resultaram em chutes a gol (Shot-Creating Actions)\", \n",
    "                         \"Renomeação da coluna para padronização | Conversão do tipo de dado para integer\", \n",
    "                         \"Bronze → Silver\"),\n",
    "    \"Acoes_de_Gol\": (\"Ações que resultaram em gols (Goal-Creating Actions)\", \n",
    "                     \"Renomeação da coluna para padronização | Conversão do tipo de dado para double\", \n",
    "                     \"Bronze → Silver\"),\n",
    "\n",
    "    # Estatísticas de passes\n",
    "    \"Passes_Completos\": (\"Número de passes completados com sucesso\", \n",
    "                         \"Renomeação da coluna para padronização | Conversão do tipo de dado para double\", \n",
    "                         \"Bronze → Silver\"),\n",
    "    \"Passes_Tentados\": (\"Total de passes tentados\", \n",
    "                        \"Renomeação da coluna para padronização | Conversão do tipo de dado para double\", \n",
    "                        \"Bronze → Silver\"),\n",
    "    \"Prct_Passes_Certos\": (\"Percentual de passes completados com sucesso\", \n",
    "                           \"Renomeação da coluna para padronização | Removidos caracteres não numéricos e convertida para string\", \n",
    "                           \"Bronze → Silver\"),\n",
    "    \"Passes_Progressivos\": (\"Passes progressivos (passes em direção ao gol adversário)\", \n",
    "                            \"Renomeação da coluna para padronização | Conversão do tipo de dado para double\", \n",
    "                            \"Bronze → Silver\"),\n",
    "\n",
    "    # Estatísticas de condução e drible\n",
    "    \"Conducoes_de_Bola\": (\"Número total de conduções de bola bem-sucedidas (domínio de bola com os pés)\", \n",
    "                          \"Renomeação da coluna para padronização | Conversão do tipo de dado para double\", \n",
    "                          \"Bronze → Silver\"),\n",
    "    \"Conducoes_Progressivas\": (\"Conduções progressivas (conduções para frente que resultam em ganho de espaço)\", \n",
    "                               \"Renomeação da coluna para padronização | Conversão do tipo de dado para double\", \n",
    "                               \"Bronze → Silver\"),\n",
    "    \"Dribles_Tentados\": (\"Número total de tentativas de drible\", \n",
    "                         \"Renomeação da coluna para padronização | Conversão do tipo de dado para double\", \n",
    "                         \"Bronze → Silver\"),\n",
    "    \"Dribles_Completos\": (\"Número de dribles bem-sucedidos\", \n",
    "                          \"Renomeação da coluna para padronização | Conversão do tipo de dado para double\", \n",
    "                          \"Bronze → Silver\"),\n",
    "\n",
    "    # 🔹 Atualização da coluna \"Data\"\n",
    "    \"Data\": (\"Data da partida disputada\", \n",
    "             \"Conversão para formato de data | Ajuste dos registros ausentes adicionados manualmente\", \n",
    "             \"Bronze → Silver\"),\n",
    "\n",
    "    # 🔹 Nova coluna \"Origem_Dado\"\n",
    "    \"Origem_Dado\": (\"Criada para identificar se os registros são originais da base ou foram adicionados manualmente. Valores possíveis: 'Original' ou 'Input Manual\", \n",
    "                    \"Nenhuma alteração aplicada, além da criação '\", \n",
    "                    \"Silver (Coluna nova)\")\n",
    "}\n"
   ]
  },
  {
   "cell_type": "code",
   "execution_count": 0,
   "metadata": {
    "application/vnd.databricks.v1+cell": {
     "cellMetadata": {
      "byteLimit": 2048000,
      "rowLimit": 10000
     },
     "inputWidgets": {},
     "nuid": "dc71fbfc-368f-414a-908f-b446471f4ed0",
     "showTitle": false,
     "tableResultSettingsMap": {},
     "title": ""
    }
   },
   "outputs": [],
   "source": [
    "observacoes = {\n",
    "    \"idade\": \"⚠️ Ajuste manual: Preenchidos valores faltantes para o jogador Felipe Vieira em partidas específicas. Fontes Externas confirmadas: https://www.ogol.com.br/jogador/felipe-andrade/620537?epoca_id=153\",\n",
    "    \"Data\": \"⚠️ Ajuste manual: Datas ajustadas e registros ausentes incluídos manualmente para garantir consistência com os dados de partidas.\"\n",
    "}\n"
   ]
  },
  {
   "cell_type": "markdown",
   "metadata": {
    "application/vnd.databricks.v1+cell": {
     "cellMetadata": {},
     "inputWidgets": {},
     "nuid": "d700c004-d6ea-4b5b-b232-eeb888ec1fa7",
     "showTitle": false,
     "tableResultSettingsMap": {},
     "title": ""
    }
   },
   "source": [
    "#### 🔹 Criando o Dataframe do Catálogo"
   ]
  },
  {
   "cell_type": "code",
   "execution_count": 0,
   "metadata": {
    "application/vnd.databricks.v1+cell": {
     "cellMetadata": {
      "byteLimit": 2048000,
      "rowLimit": 10000
     },
     "inputWidgets": {},
     "nuid": "10aa8290-97a1-4df7-9298-d8383d4e908c",
     "showTitle": false,
     "tableResultSettingsMap": {},
     "title": ""
    }
   },
   "outputs": [],
   "source": [
    "# Criar lista de metadados para o Catálogo de Dados\n",
    "catalog_data = []\n",
    "\n",
    "# Iterar sobre as colunas da tabela Silver\n",
    "for index, col_name in enumerate(df.columns, start=1):\n",
    "    col_type = df.select(col(col_name)).schema.fields[0].dataType.simpleString()  # Tipo da coluna\n",
    "    col_count = metadata_df.collect()[0][f\"{col_name}_count\"]  # Contagem total (não nulos)\n",
    "    col_distinct = metadata_df.collect()[0][f\"{col_name}_distinct\"]  # Valores distintos\n",
    "    col_nulls = metadata_df.collect()[0][f\"{col_name}_nulls\"]  # Contagem correta de valores nulos\n",
    "    col_min = metadata_df.collect()[0][f\"{col_name}_min\"] if f\"{col_name}_min\" in metadata_df.columns else \"N/A\"\n",
    "    col_max = metadata_df.collect()[0][f\"{col_name}_max\"] if f\"{col_name}_max\" in metadata_df.columns else \"N/A\"\n",
    "    col_duplicates = metadata_df.collect()[0][f\"{col_name}_duplicates\"] if f\"{col_name}_duplicates\" in metadata_df.columns else 0  # Contagem de duplicados\n",
    "\n",
    "    # Buscar definição, regra de transformação e linhagem dos dados no dicionário\n",
    "    col_definition, transformations_applied, lineage_info = col_descriptions.get(\n",
    "        col_name, (f\"Descrição da coluna {col_name}\", \"Nenhuma alteração aplicada.\", \"Origem desconhecida\")\n",
    "    )\n",
    "\n",
    "    # Definir observações sobre a coluna (pode ser preenchido manualmente se necessário)\n",
    "    comments = observacoes.get(col_name, \"⚠️ Ajuste manual: Registros adicionados manualmente a partir do arquivo 'BrasilSerieA_2024_EstatisticaJogador_InputManual.csv' para garantir consistência dos dados\")\n",
    "\n",
    "    # Adicionar à lista\n",
    "    catalog_data.append(Row(ID_Coluna=index,\n",
    "                            Coluna=col_name, \n",
    "                            Tipo_de_Dado=col_type, \n",
    "                            Definição=col_definition,\n",
    "                            Valores_Min_Max=f\"{col_min} | {col_max}\", \n",
    "                            Qtd_Valores_Registrados=col_count,\n",
    "                            Qtd_Valores_Nulos=col_nulls,\n",
    "                            Qtd_Valores_Distintos=col_distinct,\n",
    "                            Qtd_Valores_Duplicados=col_duplicates,\n",
    "                            Regras_de_Transformação=transformations_applied,\n",
    "                            Linhagem_Dados=lineage_info,  # ✅ Agora vem direto do dicionário!\n",
    "                            Observacoes=comments,\n",
    "                            Fonte=\"Kaggle\",\n",
    "                            Link_Fonte=\"https://www.kaggle.com/datasets/eduardopalmieri/brasileiro-player-stats-2024\",\n",
    "                            Arquivo_Original= \"database.csv\",\n",
    "                            Arquivo_S3 = \"BrasilSerieA_2024_EstatisticaJogadorPorPartida.csv\"\n",
    "                        ))                        \n",
    "\n",
    "# Criar o DataFrame do Catálogo de Dados\n",
    "catalog_df = spark.createDataFrame(catalog_data)\n"
   ]
  },
  {
   "cell_type": "markdown",
   "metadata": {
    "application/vnd.databricks.v1+cell": {
     "cellMetadata": {},
     "inputWidgets": {},
     "nuid": "ec76f180-70df-4119-93d4-a1a5b5f4ffa6",
     "showTitle": false,
     "tableResultSettingsMap": {},
     "title": ""
    }
   },
   "source": [
    "#### 🔹 Salvando o Catálogo no S3 camada _Bronze_"
   ]
  },
  {
   "cell_type": "code",
   "execution_count": 0,
   "metadata": {
    "application/vnd.databricks.v1+cell": {
     "cellMetadata": {
      "byteLimit": 2048000,
      "rowLimit": 10000
     },
     "inputWidgets": {},
     "nuid": "ff008adc-b04f-4fff-bd77-82c71aa96e50",
     "showTitle": false,
     "tableResultSettingsMap": {},
     "title": ""
    }
   },
   "outputs": [
    {
     "output_type": "stream",
     "name": "stdout",
     "output_type": "stream",
     "text": [
      "🚨 Arquivos antigos do Delta removidos com sucesso!\n✅ Catálogo Estatístico salvo no formato Delta com sucesso!\n"
     ]
    }
   ],
   "source": [
    "# Caminho no S3 para salvar o Catálogo Estatístico\n",
    "delta_catalogo_estatistico_path = \"s3://mvp-brasileirao-2024/silver/delta/catalog_estatistica_jogador\"\n",
    "\n",
    "dbutils.fs.rm(delta_catalogo_estatistico_path, recurse=True)\n",
    "print(\"🚨 Arquivos antigos do Delta removidos com sucesso!\")\n",
    "\n",
    "# Salvar a tabela Delta com as estatísticas\n",
    "catalog_df.write.format(\"delta\").mode(\"overwrite\").save(delta_catalogo_estatistico_path)\n",
    "\n",
    "print(\"✅ Catálogo Estatístico salvo no formato Delta com sucesso!\")"
   ]
  },
  {
   "cell_type": "markdown",
   "metadata": {
    "application/vnd.databricks.v1+cell": {
     "cellMetadata": {},
     "inputWidgets": {},
     "nuid": "867b8426-02f0-4c15-b848-44e6784db21e",
     "showTitle": false,
     "tableResultSettingsMap": {},
     "title": ""
    }
   },
   "source": [
    "#### 🔹 Criando Tabela de Catálogos no Hive"
   ]
  },
  {
   "cell_type": "code",
   "execution_count": 0,
   "metadata": {
    "application/vnd.databricks.v1+cell": {
     "cellMetadata": {
      "byteLimit": 2048000,
      "implicitDf": true,
      "rowLimit": 10000
     },
     "inputWidgets": {},
     "nuid": "a749d828-bf84-473d-a2db-ddad2b668bc3",
     "showTitle": false,
     "tableResultSettingsMap": {},
     "title": ""
    }
   },
   "outputs": [
    {
     "output_type": "display_data",
     "data": {
      "text/html": [
       "<style scoped>\n",
       "  .table-result-container {\n",
       "    max-height: 300px;\n",
       "    overflow: auto;\n",
       "  }\n",
       "  table, th, td {\n",
       "    border: 1px solid black;\n",
       "    border-collapse: collapse;\n",
       "  }\n",
       "  th, td {\n",
       "    padding: 5px;\n",
       "  }\n",
       "  th {\n",
       "    text-align: left;\n",
       "  }\n",
       "</style><div class='table-result-container'><table class='table-result'><thead style='background-color: white'><tr></tr></thead><tbody></tbody></table></div>"
      ]
     },
     "metadata": {
      "application/vnd.databricks.v1+output": {
       "addedWidgets": {},
       "aggData": [],
       "aggError": "",
       "aggOverflow": false,
       "aggSchema": [],
       "aggSeriesLimitReached": false,
       "aggType": "",
       "arguments": {},
       "columnCustomDisplayInfos": {},
       "data": [],
       "datasetInfos": [],
       "dbfsResultPath": null,
       "isJsonSchema": true,
       "metadata": {},
       "overflow": false,
       "plotOptions": {
        "customPlotOptions": {},
        "displayType": "table",
        "pivotAggregation": null,
        "pivotColumns": null,
        "xColumns": null,
        "yColumns": null
       },
       "removedWidgets": [],
       "schema": [],
       "type": "table"
      }
     },
     "output_type": "display_data"
    }
   ],
   "source": [
    "%sql\n",
    "DROP TABLE IF EXISTS catalogo_de_dados.catalog_estatistica_jogador_silver;\n",
    "\n",
    "CREATE TABLE catalogo_de_dados.catalog_estatistica_jogador_silver\n",
    "USING DELTA\n",
    "LOCATION 's3://mvp-brasileirao-2024/silver/delta/catalog_estatistica_jogador';"
   ]
  },
  {
   "cell_type": "markdown",
   "metadata": {
    "application/vnd.databricks.v1+cell": {
     "cellMetadata": {},
     "inputWidgets": {},
     "nuid": "8c4f03a2-2a6f-434c-adc3-8b4d7db78cba",
     "showTitle": false,
     "tableResultSettingsMap": {},
     "title": ""
    }
   },
   "source": [
    "#### 🔹 Exibindo o Catálogo de Dados via SQL"
   ]
  },
  {
   "cell_type": "code",
   "execution_count": 0,
   "metadata": {
    "application/vnd.databricks.v1+cell": {
     "cellMetadata": {
      "byteLimit": 2048000,
      "implicitDf": true,
      "rowLimit": 10000
     },
     "inputWidgets": {},
     "nuid": "551d4cd0-75f9-4fd7-b68b-cf48506d9bce",
     "showTitle": false,
     "tableResultSettingsMap": {},
     "title": ""
    }
   },
   "outputs": [
    {
     "output_type": "display_data",
     "data": {
      "text/html": [
       "<style scoped>\n",
       "  .table-result-container {\n",
       "    max-height: 300px;\n",
       "    overflow: auto;\n",
       "  }\n",
       "  table, th, td {\n",
       "    border: 1px solid black;\n",
       "    border-collapse: collapse;\n",
       "  }\n",
       "  th, td {\n",
       "    padding: 5px;\n",
       "  }\n",
       "  th {\n",
       "    text-align: left;\n",
       "  }\n",
       "</style><div class='table-result-container'><table class='table-result'><thead style='background-color: white'><tr><th>ID_Coluna</th><th>Coluna</th><th>Tipo_de_Dado</th><th>Definição</th><th>Valores_Min_Max</th><th>Qtd_Valores_Registrados</th><th>Qtd_Valores_Nulos</th><th>Qtd_Valores_Distintos</th><th>Qtd_Valores_Duplicados</th><th>Regras_de_Transformação</th><th>Linhagem_Dados</th><th>Observacoes</th><th>Fonte</th><th>Link_Fonte</th><th>Arquivo_Original</th><th>Arquivo_S3</th></tr></thead><tbody><tr><td>17</td><td>Desarmes</td><td>double</td><td>Número de desarmes bem-sucedidos realizados pelo jogador</td><td>0.0 | 12.0</td><td>11746</td><td>0</td><td>13</td><td>11733</td><td>Renomeação da coluna para padronização | Conversão do tipo de dado para double</td><td>Bronze → Silver</td><td>⚠️ Ajuste manual: Registros adicionados manualmente a partir do arquivo 'BrasilSerieA_2024_EstatisticaJogador_InputManual.csv' para garantir consistência dos dados</td><td>Kaggle</td><td>https://www.kaggle.com/datasets/eduardopalmieri/brasileiro-player-stats-2024</td><td>database.csv</td><td>BrasilSerieA_2024_EstatisticaJogadorPorPartida.csv</td></tr><tr><td>18</td><td>Interceptacoes</td><td>int</td><td>Número de interceptações defensivas feitas pelo jogador</td><td>0 | 8</td><td>11746</td><td>0</td><td>9</td><td>11737</td><td>Renomeação da coluna para padronização</td><td>Bronze → Silver</td><td>⚠️ Ajuste manual: Registros adicionados manualmente a partir do arquivo 'BrasilSerieA_2024_EstatisticaJogador_InputManual.csv' para garantir consistência dos dados</td><td>Kaggle</td><td>https://www.kaggle.com/datasets/eduardopalmieri/brasileiro-player-stats-2024</td><td>database.csv</td><td>BrasilSerieA_2024_EstatisticaJogadorPorPartida.csv</td></tr><tr><td>19</td><td>Bloqueios</td><td>double</td><td>Número de bloqueios defensivos (interceptação de chutes, passes ou cruzamentos perigosos)</td><td>0.0 | 7.0</td><td>11746</td><td>0</td><td>8</td><td>11738</td><td>Nenhuma alteração aplicada | Conversão do tipo de dado para double</td><td>Bronze → Silver</td><td>⚠️ Ajuste manual: Registros adicionados manualmente a partir do arquivo 'BrasilSerieA_2024_EstatisticaJogador_InputManual.csv' para garantir consistência dos dados</td><td>Kaggle</td><td>https://www.kaggle.com/datasets/eduardopalmieri/brasileiro-player-stats-2024</td><td>database.csv</td><td>BrasilSerieA_2024_EstatisticaJogadorPorPartida.csv</td></tr><tr><td>20</td><td>Gols_Esperados</td><td>double</td><td>Métrica que estima a probabilidade de um chute resultar em gol, com base em variáveis como distância do gol, ângulo, tipo de finalização, entre outros.</td><td>0.0 | 1.7</td><td>11731</td><td>15</td><td>18</td><td>11713</td><td>Renomeação da coluna para padronização</td><td>Bronze → Silver</td><td>⚠️ Ajuste manual: Registros adicionados manualmente a partir do arquivo 'BrasilSerieA_2024_EstatisticaJogador_InputManual.csv' para garantir consistência dos dados</td><td>Kaggle</td><td>https://www.kaggle.com/datasets/eduardopalmieri/brasileiro-player-stats-2024</td><td>database.csv</td><td>BrasilSerieA_2024_EstatisticaJogadorPorPartida.csv</td></tr><tr><td>25</td><td>Passes_Tentados</td><td>double</td><td>Total de passes tentados</td><td>0.0 | 130.0</td><td>11746</td><td>0</td><td>118</td><td>11628</td><td>Renomeação da coluna para padronização | Conversão do tipo de dado para double</td><td>Bronze → Silver</td><td>⚠️ Ajuste manual: Registros adicionados manualmente a partir do arquivo 'BrasilSerieA_2024_EstatisticaJogador_InputManual.csv' para garantir consistência dos dados</td><td>Kaggle</td><td>https://www.kaggle.com/datasets/eduardopalmieri/brasileiro-player-stats-2024</td><td>database.csv</td><td>BrasilSerieA_2024_EstatisticaJogadorPorPartida.csv</td></tr><tr><td>26</td><td>Prct_Passes_Certos</td><td>double</td><td>Percentual de passes completados com sucesso</td><td>0.0 | 991.0</td><td>11696</td><td>50</td><td>466</td><td>11230</td><td>Renomeação da coluna para padronização | Removidos caracteres não numéricos e convertida para string</td><td>Bronze → Silver</td><td>⚠️ Ajuste manual: Registros adicionados manualmente a partir do arquivo 'BrasilSerieA_2024_EstatisticaJogador_InputManual.csv' para garantir consistência dos dados</td><td>Kaggle</td><td>https://www.kaggle.com/datasets/eduardopalmieri/brasileiro-player-stats-2024</td><td>database.csv</td><td>BrasilSerieA_2024_EstatisticaJogadorPorPartida.csv</td></tr><tr><td>27</td><td>Passes_Progressivos</td><td>double</td><td>Passes progressivos (passes em direção ao gol adversário)</td><td>0.0 | 27.0</td><td>11746</td><td>0</td><td>24</td><td>11722</td><td>Renomeação da coluna para padronização | Conversão do tipo de dado para double</td><td>Bronze → Silver</td><td>⚠️ Ajuste manual: Registros adicionados manualmente a partir do arquivo 'BrasilSerieA_2024_EstatisticaJogador_InputManual.csv' para garantir consistência dos dados</td><td>Kaggle</td><td>https://www.kaggle.com/datasets/eduardopalmieri/brasileiro-player-stats-2024</td><td>database.csv</td><td>BrasilSerieA_2024_EstatisticaJogadorPorPartida.csv</td></tr><tr><td>28</td><td>Conducoes_de_Bola</td><td>double</td><td>Número total de conduções de bola bem-sucedidas (domínio de bola com os pés)</td><td>0.0 | 106.0</td><td>11746</td><td>0</td><td>94</td><td>11652</td><td>Renomeação da coluna para padronização | Conversão do tipo de dado para double</td><td>Bronze → Silver</td><td>⚠️ Ajuste manual: Registros adicionados manualmente a partir do arquivo 'BrasilSerieA_2024_EstatisticaJogador_InputManual.csv' para garantir consistência dos dados</td><td>Kaggle</td><td>https://www.kaggle.com/datasets/eduardopalmieri/brasileiro-player-stats-2024</td><td>database.csv</td><td>BrasilSerieA_2024_EstatisticaJogadorPorPartida.csv</td></tr><tr><td>29</td><td>Conducoes_Progressivas</td><td>double</td><td>Conduções progressivas (conduções para frente que resultam em ganho de espaço)</td><td>0.0 | 17.0</td><td>11746</td><td>0</td><td>16</td><td>11730</td><td>Renomeação da coluna para padronização | Conversão do tipo de dado para double</td><td>Bronze → Silver</td><td>⚠️ Ajuste manual: Registros adicionados manualmente a partir do arquivo 'BrasilSerieA_2024_EstatisticaJogador_InputManual.csv' para garantir consistência dos dados</td><td>Kaggle</td><td>https://www.kaggle.com/datasets/eduardopalmieri/brasileiro-player-stats-2024</td><td>database.csv</td><td>BrasilSerieA_2024_EstatisticaJogadorPorPartida.csv</td></tr><tr><td>30</td><td>Dribles_Tentados</td><td>double</td><td>Número total de tentativas de drible</td><td>0.0 | 16.0</td><td>11746</td><td>0</td><td>17</td><td>11729</td><td>Renomeação da coluna para padronização | Conversão do tipo de dado para double</td><td>Bronze → Silver</td><td>⚠️ Ajuste manual: Registros adicionados manualmente a partir do arquivo 'BrasilSerieA_2024_EstatisticaJogador_InputManual.csv' para garantir consistência dos dados</td><td>Kaggle</td><td>https://www.kaggle.com/datasets/eduardopalmieri/brasileiro-player-stats-2024</td><td>database.csv</td><td>BrasilSerieA_2024_EstatisticaJogadorPorPartida.csv</td></tr><tr><td>31</td><td>Dribles_Completos</td><td>double</td><td>Número de dribles bem-sucedidos</td><td>0.0 | 10.0</td><td>11746</td><td>0</td><td>11</td><td>11735</td><td>Renomeação da coluna para padronização | Conversão do tipo de dado para double</td><td>Bronze → Silver</td><td>⚠️ Ajuste manual: Registros adicionados manualmente a partir do arquivo 'BrasilSerieA_2024_EstatisticaJogador_InputManual.csv' para garantir consistência dos dados</td><td>Kaggle</td><td>https://www.kaggle.com/datasets/eduardopalmieri/brasileiro-player-stats-2024</td><td>database.csv</td><td>BrasilSerieA_2024_EstatisticaJogadorPorPartida.csv</td></tr><tr><td>32</td><td>Data</td><td>date</td><td>Data da partida disputada</td><td>2024-04-13 | 2024-12-08</td><td>11746</td><td>0</td><td>110</td><td>11636</td><td>Conversão para formato de data | Ajuste dos registros ausentes adicionados manualmente</td><td>Bronze → Silver</td><td>⚠️ Ajuste manual: Datas ajustadas e registros ausentes incluídos manualmente para garantir consistência com os dados de partidas.</td><td>Kaggle</td><td>https://www.kaggle.com/datasets/eduardopalmieri/brasileiro-player-stats-2024</td><td>database.csv</td><td>BrasilSerieA_2024_EstatisticaJogadorPorPartida.csv</td></tr><tr><td>33</td><td>Origem_Dado</td><td>string</td><td>Criada para identificar se os registros são originais da base ou foram adicionados manualmente. Valores possíveis: 'Original' ou 'Input Manual</td><td>Input Manual | Original</td><td>11746</td><td>0</td><td>2</td><td>11744</td><td>Nenhuma alteração aplicada, além da criação '</td><td>Silver (Coluna nova)</td><td>⚠️ Ajuste manual: Registros adicionados manualmente a partir do arquivo 'BrasilSerieA_2024_EstatisticaJogador_InputManual.csv' para garantir consistência dos dados</td><td>Kaggle</td><td>https://www.kaggle.com/datasets/eduardopalmieri/brasileiro-player-stats-2024</td><td>database.csv</td><td>BrasilSerieA_2024_EstatisticaJogadorPorPartida.csv</td></tr><tr><td>21</td><td>Assistencias_Esperadas</td><td>double</td><td>Métrica que estima a probabilidade de um passe resultar em assistência, com base na qualidade da chance criada.</td><td>0.0 | 1.3</td><td>11735</td><td>11</td><td>14</td><td>11721</td><td>Renomeação da coluna para padronização</td><td>Bronze → Silver</td><td>⚠️ Ajuste manual: Registros adicionados manualmente a partir do arquivo 'BrasilSerieA_2024_EstatisticaJogador_InputManual.csv' para garantir consistência dos dados</td><td>Kaggle</td><td>https://www.kaggle.com/datasets/eduardopalmieri/brasileiro-player-stats-2024</td><td>database.csv</td><td>BrasilSerieA_2024_EstatisticaJogadorPorPartida.csv</td></tr><tr><td>22</td><td>Acoes_de_Criacao</td><td>double</td><td>Ações que resultaram em chutes a gol (Shot-Creating Actions)</td><td>0.0 | 14.0</td><td>11746</td><td>0</td><td>15</td><td>11731</td><td>Renomeação da coluna para padronização | Conversão do tipo de dado para integer</td><td>Bronze → Silver</td><td>⚠️ Ajuste manual: Registros adicionados manualmente a partir do arquivo 'BrasilSerieA_2024_EstatisticaJogador_InputManual.csv' para garantir consistência dos dados</td><td>Kaggle</td><td>https://www.kaggle.com/datasets/eduardopalmieri/brasileiro-player-stats-2024</td><td>database.csv</td><td>BrasilSerieA_2024_EstatisticaJogadorPorPartida.csv</td></tr><tr><td>23</td><td>Acoes_de_Gol</td><td>double</td><td>Ações que resultaram em gols (Goal-Creating Actions)</td><td>0.0 | 4.0</td><td>11746</td><td>0</td><td>5</td><td>11741</td><td>Renomeação da coluna para padronização | Conversão do tipo de dado para double</td><td>Bronze → Silver</td><td>⚠️ Ajuste manual: Registros adicionados manualmente a partir do arquivo 'BrasilSerieA_2024_EstatisticaJogador_InputManual.csv' para garantir consistência dos dados</td><td>Kaggle</td><td>https://www.kaggle.com/datasets/eduardopalmieri/brasileiro-player-stats-2024</td><td>database.csv</td><td>BrasilSerieA_2024_EstatisticaJogadorPorPartida.csv</td></tr><tr><td>24</td><td>Passes_Completos</td><td>double</td><td>Número de passes completados com sucesso</td><td>0.0 | 122.0</td><td>11746</td><td>0</td><td>108</td><td>11638</td><td>Renomeação da coluna para padronização | Conversão do tipo de dado para double</td><td>Bronze → Silver</td><td>⚠️ Ajuste manual: Registros adicionados manualmente a partir do arquivo 'BrasilSerieA_2024_EstatisticaJogador_InputManual.csv' para garantir consistência dos dados</td><td>Kaggle</td><td>https://www.kaggle.com/datasets/eduardopalmieri/brasileiro-player-stats-2024</td><td>database.csv</td><td>BrasilSerieA_2024_EstatisticaJogadorPorPartida.csv</td></tr><tr><td>5</td><td>Posicao_em_Campo</td><td>string</td><td>Posição do jogador dentro de campo</td><td>AM | WB,RW</td><td>11746</td><td>0</td><td>195</td><td>11551</td><td>Renomeação da coluna para padronização</td><td>Bronze → Silver</td><td>⚠️ Ajuste manual: Registros adicionados manualmente a partir do arquivo 'BrasilSerieA_2024_EstatisticaJogador_InputManual.csv' para garantir consistência dos dados</td><td>Kaggle</td><td>https://www.kaggle.com/datasets/eduardopalmieri/brasileiro-player-stats-2024</td><td>database.csv</td><td>BrasilSerieA_2024_EstatisticaJogadorPorPartida.csv</td></tr><tr><td>6</td><td>idade</td><td>string</td><td>Idade do jogador na data da partida (anos e dias)</td><td>16 | 44-032</td><td>11746</td><td>0</td><td>91</td><td>11655</td><td>Extraídos apenas os dois primeiros caracteres para padronização</td><td>Bronze → Silver</td><td>⚠️ Ajuste manual: Preenchidos valores faltantes para o jogador Felipe Vieira em partidas específicas. Fontes Externas confirmadas: https://www.ogol.com.br/jogador/felipe-andrade/620537?epoca_id=153</td><td>Kaggle</td><td>https://www.kaggle.com/datasets/eduardopalmieri/brasileiro-player-stats-2024</td><td>database.csv</td><td>BrasilSerieA_2024_EstatisticaJogadorPorPartida.csv</td></tr><tr><td>7</td><td>Minutos_em_Campo</td><td>double</td><td>Minutos jogados pelo atleta na partida</td><td>0.0 | 90.0</td><td>11746</td><td>0</td><td>91</td><td>11655</td><td>Renomeação da coluna para padronização | Valores nulos preenchidos com 0 para representar jogadores que não entraram | Conversão do tipo de dado para double</td><td>Bronze → Silver</td><td>⚠️ Ajuste manual: Registros adicionados manualmente a partir do arquivo 'BrasilSerieA_2024_EstatisticaJogador_InputManual.csv' para garantir consistência dos dados</td><td>Kaggle</td><td>https://www.kaggle.com/datasets/eduardopalmieri/brasileiro-player-stats-2024</td><td>database.csv</td><td>BrasilSerieA_2024_EstatisticaJogadorPorPartida.csv</td></tr><tr><td>8</td><td>Gols</td><td>int</td><td>Número de gols marcados na partida pelo jogador</td><td>0 | 3</td><td>11746</td><td>0</td><td>4</td><td>11742</td><td>Nenhuma alteração aplicada</td><td>Bronze → Silver</td><td>⚠️ Ajuste manual: Registros adicionados manualmente a partir do arquivo 'BrasilSerieA_2024_EstatisticaJogador_InputManual.csv' para garantir consistência dos dados</td><td>Kaggle</td><td>https://www.kaggle.com/datasets/eduardopalmieri/brasileiro-player-stats-2024</td><td>database.csv</td><td>BrasilSerieA_2024_EstatisticaJogadorPorPartida.csv</td></tr><tr><td>9</td><td>Assitencias</td><td>int</td><td>Número de assistências realizadas pelo jogador</td><td>0 | 2</td><td>11746</td><td>0</td><td>3</td><td>11743</td><td>Renomeação da coluna para padronização</td><td>Bronze → Silver</td><td>⚠️ Ajuste manual: Registros adicionados manualmente a partir do arquivo 'BrasilSerieA_2024_EstatisticaJogador_InputManual.csv' para garantir consistência dos dados</td><td>Kaggle</td><td>https://www.kaggle.com/datasets/eduardopalmieri/brasileiro-player-stats-2024</td><td>database.csv</td><td>BrasilSerieA_2024_EstatisticaJogadorPorPartida.csv</td></tr><tr><td>10</td><td>Penaltis_Batidos</td><td>int</td><td>Pênaltis cobrados pelo jogador</td><td>0 | 2</td><td>11746</td><td>0</td><td>3</td><td>11743</td><td>Renomeação da coluna para padronização</td><td>Bronze → Silver</td><td>⚠️ Ajuste manual: Registros adicionados manualmente a partir do arquivo 'BrasilSerieA_2024_EstatisticaJogador_InputManual.csv' para garantir consistência dos dados</td><td>Kaggle</td><td>https://www.kaggle.com/datasets/eduardopalmieri/brasileiro-player-stats-2024</td><td>database.csv</td><td>BrasilSerieA_2024_EstatisticaJogadorPorPartida.csv</td></tr><tr><td>11</td><td>Penaltis_Tentados</td><td>int</td><td>Pênaltis tentados pelo jogador (considerando acertos e erros)</td><td>0 | 2</td><td>11746</td><td>0</td><td>3</td><td>11743</td><td>Renomeação da coluna para padronização</td><td>Bronze → Silver</td><td>⚠️ Ajuste manual: Registros adicionados manualmente a partir do arquivo 'BrasilSerieA_2024_EstatisticaJogador_InputManual.csv' para garantir consistência dos dados</td><td>Kaggle</td><td>https://www.kaggle.com/datasets/eduardopalmieri/brasileiro-player-stats-2024</td><td>database.csv</td><td>BrasilSerieA_2024_EstatisticaJogadorPorPartida.csv</td></tr><tr><td>12</td><td>Total_Chutes</td><td>int</td><td>Total de chutes realizados (não inclui cobranças de pênalti)</td><td>0 | 9</td><td>11746</td><td>0</td><td>10</td><td>11736</td><td>Renomeação da coluna para padronização</td><td>Bronze → Silver</td><td>⚠️ Ajuste manual: Registros adicionados manualmente a partir do arquivo 'BrasilSerieA_2024_EstatisticaJogador_InputManual.csv' para garantir consistência dos dados</td><td>Kaggle</td><td>https://www.kaggle.com/datasets/eduardopalmieri/brasileiro-player-stats-2024</td><td>database.csv</td><td>BrasilSerieA_2024_EstatisticaJogadorPorPartida.csv</td></tr><tr><td>13</td><td>Chutes_a_Gol</td><td>int</td><td>Chutes a gol (não inclui cobranças de pênalti)</td><td>0 | 6</td><td>11746</td><td>0</td><td>7</td><td>11739</td><td>Renomeação da coluna para padronização</td><td>Bronze → Silver</td><td>⚠️ Ajuste manual: Registros adicionados manualmente a partir do arquivo 'BrasilSerieA_2024_EstatisticaJogador_InputManual.csv' para garantir consistência dos dados</td><td>Kaggle</td><td>https://www.kaggle.com/datasets/eduardopalmieri/brasileiro-player-stats-2024</td><td>database.csv</td><td>BrasilSerieA_2024_EstatisticaJogadorPorPartida.csv</td></tr><tr><td>14</td><td>Cartao_Amarelo</td><td>int</td><td>Quantidade de cartões amarelos recebidos</td><td>0 | 2</td><td>11746</td><td>0</td><td>3</td><td>11743</td><td>Renomeação da coluna para padronização</td><td>Bronze → Silver</td><td>⚠️ Ajuste manual: Registros adicionados manualmente a partir do arquivo 'BrasilSerieA_2024_EstatisticaJogador_InputManual.csv' para garantir consistência dos dados</td><td>Kaggle</td><td>https://www.kaggle.com/datasets/eduardopalmieri/brasileiro-player-stats-2024</td><td>database.csv</td><td>BrasilSerieA_2024_EstatisticaJogadorPorPartida.csv</td></tr><tr><td>15</td><td>Cartao_Vermelho</td><td>int</td><td>Quantidade de cartões vermelhos recebidos</td><td>0 | 1</td><td>11746</td><td>0</td><td>2</td><td>11744</td><td>Renomeação da coluna para padronização</td><td>Bronze → Silver</td><td>⚠️ Ajuste manual: Registros adicionados manualmente a partir do arquivo 'BrasilSerieA_2024_EstatisticaJogador_InputManual.csv' para garantir consistência dos dados</td><td>Kaggle</td><td>https://www.kaggle.com/datasets/eduardopalmieri/brasileiro-player-stats-2024</td><td>database.csv</td><td>BrasilSerieA_2024_EstatisticaJogadorPorPartida.csv</td></tr><tr><td>16</td><td>Toques_na_Bola</td><td>double</td><td>Número total de vezes que o jogador tocou na bola (conta-se receber, driblar e passar como um toque)</td><td>0.0 | 143.0</td><td>11746</td><td>0</td><td>126</td><td>11620</td><td>Renomeação da coluna para padronização | Conversão do tipo de dado para double</td><td>Bronze → Silver</td><td>⚠️ Ajuste manual: Registros adicionados manualmente a partir do arquivo 'BrasilSerieA_2024_EstatisticaJogador_InputManual.csv' para garantir consistência dos dados</td><td>Kaggle</td><td>https://www.kaggle.com/datasets/eduardopalmieri/brasileiro-player-stats-2024</td><td>database.csv</td><td>BrasilSerieA_2024_EstatisticaJogadorPorPartida.csv</td></tr><tr><td>1</td><td>Jogador</td><td>string</td><td>Nome do jogador que participou da partida</td><td>Abner | Óscar Romero</td><td>11746</td><td>0</td><td>653</td><td>11093</td><td>Nenhuma alteração aplicada</td><td>Bronze → Silver</td><td>⚠️ Ajuste manual: Registros adicionados manualmente a partir do arquivo 'BrasilSerieA_2024_EstatisticaJogador_InputManual.csv' para garantir consistência dos dados</td><td>Kaggle</td><td>https://www.kaggle.com/datasets/eduardopalmieri/brasileiro-player-stats-2024</td><td>database.csv</td><td>BrasilSerieA_2024_EstatisticaJogadorPorPartida.csv</td></tr><tr><td>2</td><td>Clube</td><td>string</td><td>Nome do clube do jogador</td><td>Athletico-PR | Vasco da Gama</td><td>11746</td><td>0</td><td>20</td><td>11726</td><td>Renomeação da coluna para padronização</td><td>Bronze → Silver</td><td>⚠️ Ajuste manual: Registros adicionados manualmente a partir do arquivo 'BrasilSerieA_2024_EstatisticaJogador_InputManual.csv' para garantir consistência dos dados</td><td>Kaggle</td><td>https://www.kaggle.com/datasets/eduardopalmieri/brasileiro-player-stats-2024</td><td>database.csv</td><td>BrasilSerieA_2024_EstatisticaJogadorPorPartida.csv</td></tr><tr><td>3</td><td>Numero_Camisa</td><td>int</td><td>Número da camisa do jogador na partida</td><td>1 | 200</td><td>11746</td><td>0</td><td>88</td><td>11658</td><td>Renomeação da coluna para padronização</td><td>Bronze → Silver</td><td>⚠️ Ajuste manual: Registros adicionados manualmente a partir do arquivo 'BrasilSerieA_2024_EstatisticaJogador_InputManual.csv' para garantir consistência dos dados</td><td>Kaggle</td><td>https://www.kaggle.com/datasets/eduardopalmieri/brasileiro-player-stats-2024</td><td>database.csv</td><td>BrasilSerieA_2024_EstatisticaJogadorPorPartida.csv</td></tr><tr><td>4</td><td>Nacionalidade</td><td>string</td><td>Nacionalidade do jogador</td><td>ANG | VEN</td><td>11746</td><td>0</td><td>24</td><td>11722</td><td>Renomeação da coluna para padronização | Valores nulos preenchidos com 'N/D' para manter padrão de 3 caracteres</td><td>Bronze → Silver</td><td>⚠️ Ajuste manual: Registros adicionados manualmente a partir do arquivo 'BrasilSerieA_2024_EstatisticaJogador_InputManual.csv' para garantir consistência dos dados</td><td>Kaggle</td><td>https://www.kaggle.com/datasets/eduardopalmieri/brasileiro-player-stats-2024</td><td>database.csv</td><td>BrasilSerieA_2024_EstatisticaJogadorPorPartida.csv</td></tr></tbody></table></div>"
      ]
     },
     "metadata": {
      "application/vnd.databricks.v1+output": {
       "addedWidgets": {},
       "aggData": [],
       "aggError": "",
       "aggOverflow": false,
       "aggSchema": [],
       "aggSeriesLimitReached": false,
       "aggType": "",
       "arguments": {},
       "columnCustomDisplayInfos": {},
       "data": [
        [
         17,
         "Desarmes",
         "double",
         "Número de desarmes bem-sucedidos realizados pelo jogador",
         "0.0 | 12.0",
         11746,
         0,
         13,
         11733,
         "Renomeação da coluna para padronização | Conversão do tipo de dado para double",
         "Bronze → Silver",
         "⚠️ Ajuste manual: Registros adicionados manualmente a partir do arquivo 'BrasilSerieA_2024_EstatisticaJogador_InputManual.csv' para garantir consistência dos dados",
         "Kaggle",
         "https://www.kaggle.com/datasets/eduardopalmieri/brasileiro-player-stats-2024",
         "database.csv",
         "BrasilSerieA_2024_EstatisticaJogadorPorPartida.csv"
        ],
        [
         18,
         "Interceptacoes",
         "int",
         "Número de interceptações defensivas feitas pelo jogador",
         "0 | 8",
         11746,
         0,
         9,
         11737,
         "Renomeação da coluna para padronização",
         "Bronze → Silver",
         "⚠️ Ajuste manual: Registros adicionados manualmente a partir do arquivo 'BrasilSerieA_2024_EstatisticaJogador_InputManual.csv' para garantir consistência dos dados",
         "Kaggle",
         "https://www.kaggle.com/datasets/eduardopalmieri/brasileiro-player-stats-2024",
         "database.csv",
         "BrasilSerieA_2024_EstatisticaJogadorPorPartida.csv"
        ],
        [
         19,
         "Bloqueios",
         "double",
         "Número de bloqueios defensivos (interceptação de chutes, passes ou cruzamentos perigosos)",
         "0.0 | 7.0",
         11746,
         0,
         8,
         11738,
         "Nenhuma alteração aplicada | Conversão do tipo de dado para double",
         "Bronze → Silver",
         "⚠️ Ajuste manual: Registros adicionados manualmente a partir do arquivo 'BrasilSerieA_2024_EstatisticaJogador_InputManual.csv' para garantir consistência dos dados",
         "Kaggle",
         "https://www.kaggle.com/datasets/eduardopalmieri/brasileiro-player-stats-2024",
         "database.csv",
         "BrasilSerieA_2024_EstatisticaJogadorPorPartida.csv"
        ],
        [
         20,
         "Gols_Esperados",
         "double",
         "Métrica que estima a probabilidade de um chute resultar em gol, com base em variáveis como distância do gol, ângulo, tipo de finalização, entre outros.",
         "0.0 | 1.7",
         11731,
         15,
         18,
         11713,
         "Renomeação da coluna para padronização",
         "Bronze → Silver",
         "⚠️ Ajuste manual: Registros adicionados manualmente a partir do arquivo 'BrasilSerieA_2024_EstatisticaJogador_InputManual.csv' para garantir consistência dos dados",
         "Kaggle",
         "https://www.kaggle.com/datasets/eduardopalmieri/brasileiro-player-stats-2024",
         "database.csv",
         "BrasilSerieA_2024_EstatisticaJogadorPorPartida.csv"
        ],
        [
         25,
         "Passes_Tentados",
         "double",
         "Total de passes tentados",
         "0.0 | 130.0",
         11746,
         0,
         118,
         11628,
         "Renomeação da coluna para padronização | Conversão do tipo de dado para double",
         "Bronze → Silver",
         "⚠️ Ajuste manual: Registros adicionados manualmente a partir do arquivo 'BrasilSerieA_2024_EstatisticaJogador_InputManual.csv' para garantir consistência dos dados",
         "Kaggle",
         "https://www.kaggle.com/datasets/eduardopalmieri/brasileiro-player-stats-2024",
         "database.csv",
         "BrasilSerieA_2024_EstatisticaJogadorPorPartida.csv"
        ],
        [
         26,
         "Prct_Passes_Certos",
         "double",
         "Percentual de passes completados com sucesso",
         "0.0 | 991.0",
         11696,
         50,
         466,
         11230,
         "Renomeação da coluna para padronização | Removidos caracteres não numéricos e convertida para string",
         "Bronze → Silver",
         "⚠️ Ajuste manual: Registros adicionados manualmente a partir do arquivo 'BrasilSerieA_2024_EstatisticaJogador_InputManual.csv' para garantir consistência dos dados",
         "Kaggle",
         "https://www.kaggle.com/datasets/eduardopalmieri/brasileiro-player-stats-2024",
         "database.csv",
         "BrasilSerieA_2024_EstatisticaJogadorPorPartida.csv"
        ],
        [
         27,
         "Passes_Progressivos",
         "double",
         "Passes progressivos (passes em direção ao gol adversário)",
         "0.0 | 27.0",
         11746,
         0,
         24,
         11722,
         "Renomeação da coluna para padronização | Conversão do tipo de dado para double",
         "Bronze → Silver",
         "⚠️ Ajuste manual: Registros adicionados manualmente a partir do arquivo 'BrasilSerieA_2024_EstatisticaJogador_InputManual.csv' para garantir consistência dos dados",
         "Kaggle",
         "https://www.kaggle.com/datasets/eduardopalmieri/brasileiro-player-stats-2024",
         "database.csv",
         "BrasilSerieA_2024_EstatisticaJogadorPorPartida.csv"
        ],
        [
         28,
         "Conducoes_de_Bola",
         "double",
         "Número total de conduções de bola bem-sucedidas (domínio de bola com os pés)",
         "0.0 | 106.0",
         11746,
         0,
         94,
         11652,
         "Renomeação da coluna para padronização | Conversão do tipo de dado para double",
         "Bronze → Silver",
         "⚠️ Ajuste manual: Registros adicionados manualmente a partir do arquivo 'BrasilSerieA_2024_EstatisticaJogador_InputManual.csv' para garantir consistência dos dados",
         "Kaggle",
         "https://www.kaggle.com/datasets/eduardopalmieri/brasileiro-player-stats-2024",
         "database.csv",
         "BrasilSerieA_2024_EstatisticaJogadorPorPartida.csv"
        ],
        [
         29,
         "Conducoes_Progressivas",
         "double",
         "Conduções progressivas (conduções para frente que resultam em ganho de espaço)",
         "0.0 | 17.0",
         11746,
         0,
         16,
         11730,
         "Renomeação da coluna para padronização | Conversão do tipo de dado para double",
         "Bronze → Silver",
         "⚠️ Ajuste manual: Registros adicionados manualmente a partir do arquivo 'BrasilSerieA_2024_EstatisticaJogador_InputManual.csv' para garantir consistência dos dados",
         "Kaggle",
         "https://www.kaggle.com/datasets/eduardopalmieri/brasileiro-player-stats-2024",
         "database.csv",
         "BrasilSerieA_2024_EstatisticaJogadorPorPartida.csv"
        ],
        [
         30,
         "Dribles_Tentados",
         "double",
         "Número total de tentativas de drible",
         "0.0 | 16.0",
         11746,
         0,
         17,
         11729,
         "Renomeação da coluna para padronização | Conversão do tipo de dado para double",
         "Bronze → Silver",
         "⚠️ Ajuste manual: Registros adicionados manualmente a partir do arquivo 'BrasilSerieA_2024_EstatisticaJogador_InputManual.csv' para garantir consistência dos dados",
         "Kaggle",
         "https://www.kaggle.com/datasets/eduardopalmieri/brasileiro-player-stats-2024",
         "database.csv",
         "BrasilSerieA_2024_EstatisticaJogadorPorPartida.csv"
        ],
        [
         31,
         "Dribles_Completos",
         "double",
         "Número de dribles bem-sucedidos",
         "0.0 | 10.0",
         11746,
         0,
         11,
         11735,
         "Renomeação da coluna para padronização | Conversão do tipo de dado para double",
         "Bronze → Silver",
         "⚠️ Ajuste manual: Registros adicionados manualmente a partir do arquivo 'BrasilSerieA_2024_EstatisticaJogador_InputManual.csv' para garantir consistência dos dados",
         "Kaggle",
         "https://www.kaggle.com/datasets/eduardopalmieri/brasileiro-player-stats-2024",
         "database.csv",
         "BrasilSerieA_2024_EstatisticaJogadorPorPartida.csv"
        ],
        [
         32,
         "Data",
         "date",
         "Data da partida disputada",
         "2024-04-13 | 2024-12-08",
         11746,
         0,
         110,
         11636,
         "Conversão para formato de data | Ajuste dos registros ausentes adicionados manualmente",
         "Bronze → Silver",
         "⚠️ Ajuste manual: Datas ajustadas e registros ausentes incluídos manualmente para garantir consistência com os dados de partidas.",
         "Kaggle",
         "https://www.kaggle.com/datasets/eduardopalmieri/brasileiro-player-stats-2024",
         "database.csv",
         "BrasilSerieA_2024_EstatisticaJogadorPorPartida.csv"
        ],
        [
         33,
         "Origem_Dado",
         "string",
         "Criada para identificar se os registros são originais da base ou foram adicionados manualmente. Valores possíveis: 'Original' ou 'Input Manual",
         "Input Manual | Original",
         11746,
         0,
         2,
         11744,
         "Nenhuma alteração aplicada, além da criação '",
         "Silver (Coluna nova)",
         "⚠️ Ajuste manual: Registros adicionados manualmente a partir do arquivo 'BrasilSerieA_2024_EstatisticaJogador_InputManual.csv' para garantir consistência dos dados",
         "Kaggle",
         "https://www.kaggle.com/datasets/eduardopalmieri/brasileiro-player-stats-2024",
         "database.csv",
         "BrasilSerieA_2024_EstatisticaJogadorPorPartida.csv"
        ],
        [
         21,
         "Assistencias_Esperadas",
         "double",
         "Métrica que estima a probabilidade de um passe resultar em assistência, com base na qualidade da chance criada.",
         "0.0 | 1.3",
         11735,
         11,
         14,
         11721,
         "Renomeação da coluna para padronização",
         "Bronze → Silver",
         "⚠️ Ajuste manual: Registros adicionados manualmente a partir do arquivo 'BrasilSerieA_2024_EstatisticaJogador_InputManual.csv' para garantir consistência dos dados",
         "Kaggle",
         "https://www.kaggle.com/datasets/eduardopalmieri/brasileiro-player-stats-2024",
         "database.csv",
         "BrasilSerieA_2024_EstatisticaJogadorPorPartida.csv"
        ],
        [
         22,
         "Acoes_de_Criacao",
         "double",
         "Ações que resultaram em chutes a gol (Shot-Creating Actions)",
         "0.0 | 14.0",
         11746,
         0,
         15,
         11731,
         "Renomeação da coluna para padronização | Conversão do tipo de dado para integer",
         "Bronze → Silver",
         "⚠️ Ajuste manual: Registros adicionados manualmente a partir do arquivo 'BrasilSerieA_2024_EstatisticaJogador_InputManual.csv' para garantir consistência dos dados",
         "Kaggle",
         "https://www.kaggle.com/datasets/eduardopalmieri/brasileiro-player-stats-2024",
         "database.csv",
         "BrasilSerieA_2024_EstatisticaJogadorPorPartida.csv"
        ],
        [
         23,
         "Acoes_de_Gol",
         "double",
         "Ações que resultaram em gols (Goal-Creating Actions)",
         "0.0 | 4.0",
         11746,
         0,
         5,
         11741,
         "Renomeação da coluna para padronização | Conversão do tipo de dado para double",
         "Bronze → Silver",
         "⚠️ Ajuste manual: Registros adicionados manualmente a partir do arquivo 'BrasilSerieA_2024_EstatisticaJogador_InputManual.csv' para garantir consistência dos dados",
         "Kaggle",
         "https://www.kaggle.com/datasets/eduardopalmieri/brasileiro-player-stats-2024",
         "database.csv",
         "BrasilSerieA_2024_EstatisticaJogadorPorPartida.csv"
        ],
        [
         24,
         "Passes_Completos",
         "double",
         "Número de passes completados com sucesso",
         "0.0 | 122.0",
         11746,
         0,
         108,
         11638,
         "Renomeação da coluna para padronização | Conversão do tipo de dado para double",
         "Bronze → Silver",
         "⚠️ Ajuste manual: Registros adicionados manualmente a partir do arquivo 'BrasilSerieA_2024_EstatisticaJogador_InputManual.csv' para garantir consistência dos dados",
         "Kaggle",
         "https://www.kaggle.com/datasets/eduardopalmieri/brasileiro-player-stats-2024",
         "database.csv",
         "BrasilSerieA_2024_EstatisticaJogadorPorPartida.csv"
        ],
        [
         5,
         "Posicao_em_Campo",
         "string",
         "Posição do jogador dentro de campo",
         "AM | WB,RW",
         11746,
         0,
         195,
         11551,
         "Renomeação da coluna para padronização",
         "Bronze → Silver",
         "⚠️ Ajuste manual: Registros adicionados manualmente a partir do arquivo 'BrasilSerieA_2024_EstatisticaJogador_InputManual.csv' para garantir consistência dos dados",
         "Kaggle",
         "https://www.kaggle.com/datasets/eduardopalmieri/brasileiro-player-stats-2024",
         "database.csv",
         "BrasilSerieA_2024_EstatisticaJogadorPorPartida.csv"
        ],
        [
         6,
         "idade",
         "string",
         "Idade do jogador na data da partida (anos e dias)",
         "16 | 44-032",
         11746,
         0,
         91,
         11655,
         "Extraídos apenas os dois primeiros caracteres para padronização",
         "Bronze → Silver",
         "⚠️ Ajuste manual: Preenchidos valores faltantes para o jogador Felipe Vieira em partidas específicas. Fontes Externas confirmadas: https://www.ogol.com.br/jogador/felipe-andrade/620537?epoca_id=153",
         "Kaggle",
         "https://www.kaggle.com/datasets/eduardopalmieri/brasileiro-player-stats-2024",
         "database.csv",
         "BrasilSerieA_2024_EstatisticaJogadorPorPartida.csv"
        ],
        [
         7,
         "Minutos_em_Campo",
         "double",
         "Minutos jogados pelo atleta na partida",
         "0.0 | 90.0",
         11746,
         0,
         91,
         11655,
         "Renomeação da coluna para padronização | Valores nulos preenchidos com 0 para representar jogadores que não entraram | Conversão do tipo de dado para double",
         "Bronze → Silver",
         "⚠️ Ajuste manual: Registros adicionados manualmente a partir do arquivo 'BrasilSerieA_2024_EstatisticaJogador_InputManual.csv' para garantir consistência dos dados",
         "Kaggle",
         "https://www.kaggle.com/datasets/eduardopalmieri/brasileiro-player-stats-2024",
         "database.csv",
         "BrasilSerieA_2024_EstatisticaJogadorPorPartida.csv"
        ],
        [
         8,
         "Gols",
         "int",
         "Número de gols marcados na partida pelo jogador",
         "0 | 3",
         11746,
         0,
         4,
         11742,
         "Nenhuma alteração aplicada",
         "Bronze → Silver",
         "⚠️ Ajuste manual: Registros adicionados manualmente a partir do arquivo 'BrasilSerieA_2024_EstatisticaJogador_InputManual.csv' para garantir consistência dos dados",
         "Kaggle",
         "https://www.kaggle.com/datasets/eduardopalmieri/brasileiro-player-stats-2024",
         "database.csv",
         "BrasilSerieA_2024_EstatisticaJogadorPorPartida.csv"
        ],
        [
         9,
         "Assitencias",
         "int",
         "Número de assistências realizadas pelo jogador",
         "0 | 2",
         11746,
         0,
         3,
         11743,
         "Renomeação da coluna para padronização",
         "Bronze → Silver",
         "⚠️ Ajuste manual: Registros adicionados manualmente a partir do arquivo 'BrasilSerieA_2024_EstatisticaJogador_InputManual.csv' para garantir consistência dos dados",
         "Kaggle",
         "https://www.kaggle.com/datasets/eduardopalmieri/brasileiro-player-stats-2024",
         "database.csv",
         "BrasilSerieA_2024_EstatisticaJogadorPorPartida.csv"
        ],
        [
         10,
         "Penaltis_Batidos",
         "int",
         "Pênaltis cobrados pelo jogador",
         "0 | 2",
         11746,
         0,
         3,
         11743,
         "Renomeação da coluna para padronização",
         "Bronze → Silver",
         "⚠️ Ajuste manual: Registros adicionados manualmente a partir do arquivo 'BrasilSerieA_2024_EstatisticaJogador_InputManual.csv' para garantir consistência dos dados",
         "Kaggle",
         "https://www.kaggle.com/datasets/eduardopalmieri/brasileiro-player-stats-2024",
         "database.csv",
         "BrasilSerieA_2024_EstatisticaJogadorPorPartida.csv"
        ],
        [
         11,
         "Penaltis_Tentados",
         "int",
         "Pênaltis tentados pelo jogador (considerando acertos e erros)",
         "0 | 2",
         11746,
         0,
         3,
         11743,
         "Renomeação da coluna para padronização",
         "Bronze → Silver",
         "⚠️ Ajuste manual: Registros adicionados manualmente a partir do arquivo 'BrasilSerieA_2024_EstatisticaJogador_InputManual.csv' para garantir consistência dos dados",
         "Kaggle",
         "https://www.kaggle.com/datasets/eduardopalmieri/brasileiro-player-stats-2024",
         "database.csv",
         "BrasilSerieA_2024_EstatisticaJogadorPorPartida.csv"
        ],
        [
         12,
         "Total_Chutes",
         "int",
         "Total de chutes realizados (não inclui cobranças de pênalti)",
         "0 | 9",
         11746,
         0,
         10,
         11736,
         "Renomeação da coluna para padronização",
         "Bronze → Silver",
         "⚠️ Ajuste manual: Registros adicionados manualmente a partir do arquivo 'BrasilSerieA_2024_EstatisticaJogador_InputManual.csv' para garantir consistência dos dados",
         "Kaggle",
         "https://www.kaggle.com/datasets/eduardopalmieri/brasileiro-player-stats-2024",
         "database.csv",
         "BrasilSerieA_2024_EstatisticaJogadorPorPartida.csv"
        ],
        [
         13,
         "Chutes_a_Gol",
         "int",
         "Chutes a gol (não inclui cobranças de pênalti)",
         "0 | 6",
         11746,
         0,
         7,
         11739,
         "Renomeação da coluna para padronização",
         "Bronze → Silver",
         "⚠️ Ajuste manual: Registros adicionados manualmente a partir do arquivo 'BrasilSerieA_2024_EstatisticaJogador_InputManual.csv' para garantir consistência dos dados",
         "Kaggle",
         "https://www.kaggle.com/datasets/eduardopalmieri/brasileiro-player-stats-2024",
         "database.csv",
         "BrasilSerieA_2024_EstatisticaJogadorPorPartida.csv"
        ],
        [
         14,
         "Cartao_Amarelo",
         "int",
         "Quantidade de cartões amarelos recebidos",
         "0 | 2",
         11746,
         0,
         3,
         11743,
         "Renomeação da coluna para padronização",
         "Bronze → Silver",
         "⚠️ Ajuste manual: Registros adicionados manualmente a partir do arquivo 'BrasilSerieA_2024_EstatisticaJogador_InputManual.csv' para garantir consistência dos dados",
         "Kaggle",
         "https://www.kaggle.com/datasets/eduardopalmieri/brasileiro-player-stats-2024",
         "database.csv",
         "BrasilSerieA_2024_EstatisticaJogadorPorPartida.csv"
        ],
        [
         15,
         "Cartao_Vermelho",
         "int",
         "Quantidade de cartões vermelhos recebidos",
         "0 | 1",
         11746,
         0,
         2,
         11744,
         "Renomeação da coluna para padronização",
         "Bronze → Silver",
         "⚠️ Ajuste manual: Registros adicionados manualmente a partir do arquivo 'BrasilSerieA_2024_EstatisticaJogador_InputManual.csv' para garantir consistência dos dados",
         "Kaggle",
         "https://www.kaggle.com/datasets/eduardopalmieri/brasileiro-player-stats-2024",
         "database.csv",
         "BrasilSerieA_2024_EstatisticaJogadorPorPartida.csv"
        ],
        [
         16,
         "Toques_na_Bola",
         "double",
         "Número total de vezes que o jogador tocou na bola (conta-se receber, driblar e passar como um toque)",
         "0.0 | 143.0",
         11746,
         0,
         126,
         11620,
         "Renomeação da coluna para padronização | Conversão do tipo de dado para double",
         "Bronze → Silver",
         "⚠️ Ajuste manual: Registros adicionados manualmente a partir do arquivo 'BrasilSerieA_2024_EstatisticaJogador_InputManual.csv' para garantir consistência dos dados",
         "Kaggle",
         "https://www.kaggle.com/datasets/eduardopalmieri/brasileiro-player-stats-2024",
         "database.csv",
         "BrasilSerieA_2024_EstatisticaJogadorPorPartida.csv"
        ],
        [
         1,
         "Jogador",
         "string",
         "Nome do jogador que participou da partida",
         "Abner | Óscar Romero",
         11746,
         0,
         653,
         11093,
         "Nenhuma alteração aplicada",
         "Bronze → Silver",
         "⚠️ Ajuste manual: Registros adicionados manualmente a partir do arquivo 'BrasilSerieA_2024_EstatisticaJogador_InputManual.csv' para garantir consistência dos dados",
         "Kaggle",
         "https://www.kaggle.com/datasets/eduardopalmieri/brasileiro-player-stats-2024",
         "database.csv",
         "BrasilSerieA_2024_EstatisticaJogadorPorPartida.csv"
        ],
        [
         2,
         "Clube",
         "string",
         "Nome do clube do jogador",
         "Athletico-PR | Vasco da Gama",
         11746,
         0,
         20,
         11726,
         "Renomeação da coluna para padronização",
         "Bronze → Silver",
         "⚠️ Ajuste manual: Registros adicionados manualmente a partir do arquivo 'BrasilSerieA_2024_EstatisticaJogador_InputManual.csv' para garantir consistência dos dados",
         "Kaggle",
         "https://www.kaggle.com/datasets/eduardopalmieri/brasileiro-player-stats-2024",
         "database.csv",
         "BrasilSerieA_2024_EstatisticaJogadorPorPartida.csv"
        ],
        [
         3,
         "Numero_Camisa",
         "int",
         "Número da camisa do jogador na partida",
         "1 | 200",
         11746,
         0,
         88,
         11658,
         "Renomeação da coluna para padronização",
         "Bronze → Silver",
         "⚠️ Ajuste manual: Registros adicionados manualmente a partir do arquivo 'BrasilSerieA_2024_EstatisticaJogador_InputManual.csv' para garantir consistência dos dados",
         "Kaggle",
         "https://www.kaggle.com/datasets/eduardopalmieri/brasileiro-player-stats-2024",
         "database.csv",
         "BrasilSerieA_2024_EstatisticaJogadorPorPartida.csv"
        ],
        [
         4,
         "Nacionalidade",
         "string",
         "Nacionalidade do jogador",
         "ANG | VEN",
         11746,
         0,
         24,
         11722,
         "Renomeação da coluna para padronização | Valores nulos preenchidos com 'N/D' para manter padrão de 3 caracteres",
         "Bronze → Silver",
         "⚠️ Ajuste manual: Registros adicionados manualmente a partir do arquivo 'BrasilSerieA_2024_EstatisticaJogador_InputManual.csv' para garantir consistência dos dados",
         "Kaggle",
         "https://www.kaggle.com/datasets/eduardopalmieri/brasileiro-player-stats-2024",
         "database.csv",
         "BrasilSerieA_2024_EstatisticaJogadorPorPartida.csv"
        ]
       ],
       "datasetInfos": [],
       "dbfsResultPath": null,
       "isJsonSchema": true,
       "metadata": {},
       "overflow": false,
       "plotOptions": {
        "customPlotOptions": {},
        "displayType": "table",
        "pivotAggregation": null,
        "pivotColumns": null,
        "xColumns": null,
        "yColumns": null
       },
       "removedWidgets": [],
       "schema": [
        {
         "metadata": "{}",
         "name": "ID_Coluna",
         "type": "\"long\""
        },
        {
         "metadata": "{}",
         "name": "Coluna",
         "type": "\"string\""
        },
        {
         "metadata": "{}",
         "name": "Tipo_de_Dado",
         "type": "\"string\""
        },
        {
         "metadata": "{}",
         "name": "Definição",
         "type": "\"string\""
        },
        {
         "metadata": "{}",
         "name": "Valores_Min_Max",
         "type": "\"string\""
        },
        {
         "metadata": "{}",
         "name": "Qtd_Valores_Registrados",
         "type": "\"long\""
        },
        {
         "metadata": "{}",
         "name": "Qtd_Valores_Nulos",
         "type": "\"long\""
        },
        {
         "metadata": "{}",
         "name": "Qtd_Valores_Distintos",
         "type": "\"long\""
        },
        {
         "metadata": "{}",
         "name": "Qtd_Valores_Duplicados",
         "type": "\"long\""
        },
        {
         "metadata": "{}",
         "name": "Regras_de_Transformação",
         "type": "\"string\""
        },
        {
         "metadata": "{}",
         "name": "Linhagem_Dados",
         "type": "\"string\""
        },
        {
         "metadata": "{}",
         "name": "Observacoes",
         "type": "\"string\""
        },
        {
         "metadata": "{}",
         "name": "Fonte",
         "type": "\"string\""
        },
        {
         "metadata": "{}",
         "name": "Link_Fonte",
         "type": "\"string\""
        },
        {
         "metadata": "{}",
         "name": "Arquivo_Original",
         "type": "\"string\""
        },
        {
         "metadata": "{}",
         "name": "Arquivo_S3",
         "type": "\"string\""
        }
       ],
       "type": "table"
      }
     },
     "output_type": "display_data"
    }
   ],
   "source": [
    "%sql\n",
    "select * from catalogo_de_dados.catalog_estatistica_jogador_silver"
   ]
  },
  {
   "cell_type": "code",
   "execution_count": 0,
   "metadata": {
    "application/vnd.databricks.v1+cell": {
     "cellMetadata": {},
     "inputWidgets": {},
     "nuid": "54da6830-c5a8-4586-b143-ad0f4b44ad2d",
     "showTitle": false,
     "tableResultSettingsMap": {},
     "title": ""
    }
   },
   "outputs": [],
   "source": []
  }
 ],
 "metadata": {
  "application/vnd.databricks.v1+notebook": {
   "computePreferences": null,
   "dashboards": [],
   "environmentMetadata": {
    "base_environment": "",
    "environment_version": "1"
   },
   "inputWidgetPreferences": null,
   "language": "python",
   "notebookMetadata": {
    "mostRecentlyExecutedCommandWithImplicitDF": {
     "commandId": 1391280580865139,
     "dataframes": [
      "_sqldf"
     ]
    },
    "pythonIndentUnit": 4
   },
   "notebookName": "03-Catalogo de Dados no Metastore do Databricks Silver",
   "widgets": {}
  }
 },
 "nbformat": 4,
 "nbformat_minor": 0
}
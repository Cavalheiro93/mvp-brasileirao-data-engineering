{
 "cells": [
  {
   "cell_type": "markdown",
   "metadata": {
    "application/vnd.databricks.v1+cell": {
     "cellMetadata": {},
     "inputWidgets": {},
     "nuid": "70c1da58-10ff-4188-b9e5-8c8e1df0c1d0",
     "showTitle": false,
     "tableResultSettingsMap": {},
     "title": ""
    }
   },
   "source": [
    "## 🔶 Leitura dos Arquivos no DBFS"
   ]
  },
  {
   "cell_type": "code",
   "execution_count": 0,
   "metadata": {
    "application/vnd.databricks.v1+cell": {
     "cellMetadata": {
      "byteLimit": 2048000,
      "rowLimit": 10000
     },
     "inputWidgets": {},
     "nuid": "1133a81b-5b54-4e4a-981b-92620088b17a",
     "showTitle": false,
     "tableResultSettingsMap": {},
     "title": ""
    }
   },
   "outputs": [
    {
     "output_type": "stream",
     "name": "stdout",
     "output_type": "stream",
     "text": [
      "✅ Dataframes criado com sucesso a partir do DBFS\n"
     ]
    }
   ],
   "source": [
    "# Ler os dados do DBFS em vez do S3\n",
    "df_estatisticas = spark.read.parquet(\"dbfs:/mnt/silver_temp/estatisticas\")\n",
    "\n",
    "df_estatisticas.createOrReplaceTempView(\"estatisticas\")\n",
    "\n",
    "print('✅ Dataframes criado com sucesso a partir do DBFS')"
   ]
  },
  {
   "cell_type": "markdown",
   "metadata": {
    "application/vnd.databricks.v1+cell": {
     "cellMetadata": {},
     "inputWidgets": {},
     "nuid": "9ab0d093-849d-4873-b845-02babae5d47c",
     "showTitle": false,
     "tableResultSettingsMap": {},
     "title": ""
    }
   },
   "source": [
    "### 🔹Explodir as posições em campo\n"
   ]
  },
  {
   "cell_type": "code",
   "execution_count": 0,
   "metadata": {
    "application/vnd.databricks.v1+cell": {
     "cellMetadata": {
      "byteLimit": 2048000,
      "implicitDf": true,
      "rowLimit": 10000
     },
     "inputWidgets": {},
     "nuid": "a1f2870a-5e70-4e23-91d0-852c483fe0ff",
     "showTitle": false,
     "tableResultSettingsMap": {},
     "title": ""
    }
   },
   "outputs": [
    {
     "output_type": "display_data",
     "data": {
      "text/html": [
       "<style scoped>\n",
       "  .table-result-container {\n",
       "    max-height: 300px;\n",
       "    overflow: auto;\n",
       "  }\n",
       "  table, th, td {\n",
       "    border: 1px solid black;\n",
       "    border-collapse: collapse;\n",
       "  }\n",
       "  th, td {\n",
       "    padding: 5px;\n",
       "  }\n",
       "  th {\n",
       "    text-align: left;\n",
       "  }\n",
       "</style><div class='table-result-container'><table class='table-result'><thead style='background-color: white'><tr></tr></thead><tbody></tbody></table></div>"
      ]
     },
     "metadata": {
      "application/vnd.databricks.v1+output": {
       "addedWidgets": {},
       "aggData": [],
       "aggError": "",
       "aggOverflow": false,
       "aggSchema": [],
       "aggSeriesLimitReached": false,
       "aggType": "",
       "arguments": {},
       "columnCustomDisplayInfos": {},
       "data": [],
       "datasetInfos": [],
       "dbfsResultPath": null,
       "isJsonSchema": true,
       "metadata": {},
       "overflow": false,
       "plotOptions": {
        "customPlotOptions": {},
        "displayType": "table",
        "pivotAggregation": null,
        "pivotColumns": null,
        "xColumns": null,
        "yColumns": null
       },
       "removedWidgets": [],
       "schema": [],
       "type": "table"
      }
     },
     "output_type": "display_data"
    }
   ],
   "source": [
    "%sql\n",
    "-- Explode as posições separadas por vírgula\n",
    "CREATE OR REPLACE TEMP VIEW posicoes_explodidas AS\n",
    "SELECT \n",
    "    Jogador,\n",
    "    Clube,\n",
    "    Numero_Camisa,\n",
    "    Nacionalidade,\n",
    "    Data,\n",
    "    TRIM(posicao) AS Posicao\n",
    "FROM (\n",
    "    SELECT *,\n",
    "        EXPLODE(SPLIT(Posicao_em_Campo, ',')) AS posicao\n",
    "    FROM estatisticas\n",
    ");\n"
   ]
  },
  {
   "cell_type": "markdown",
   "metadata": {
    "application/vnd.databricks.v1+cell": {
     "cellMetadata": {},
     "inputWidgets": {},
     "nuid": "3233c87b-785d-42fe-a80a-940aa866f94f",
     "showTitle": false,
     "tableResultSettingsMap": {},
     "title": ""
    }
   },
   "source": [
    "### 🔹Contar frequência das posições por jogador\n"
   ]
  },
  {
   "cell_type": "code",
   "execution_count": 0,
   "metadata": {
    "application/vnd.databricks.v1+cell": {
     "cellMetadata": {
      "byteLimit": 2048000,
      "implicitDf": true,
      "rowLimit": 10000
     },
     "inputWidgets": {},
     "nuid": "921df64f-4eeb-4fdf-a84a-d34d9c4f65b6",
     "showTitle": false,
     "tableResultSettingsMap": {},
     "title": ""
    }
   },
   "outputs": [
    {
     "output_type": "display_data",
     "data": {
      "text/html": [
       "<style scoped>\n",
       "  .table-result-container {\n",
       "    max-height: 300px;\n",
       "    overflow: auto;\n",
       "  }\n",
       "  table, th, td {\n",
       "    border: 1px solid black;\n",
       "    border-collapse: collapse;\n",
       "  }\n",
       "  th, td {\n",
       "    padding: 5px;\n",
       "  }\n",
       "  th {\n",
       "    text-align: left;\n",
       "  }\n",
       "</style><div class='table-result-container'><table class='table-result'><thead style='background-color: white'><tr></tr></thead><tbody></tbody></table></div>"
      ]
     },
     "metadata": {
      "application/vnd.databricks.v1+output": {
       "addedWidgets": {},
       "aggData": [],
       "aggError": "",
       "aggOverflow": false,
       "aggSchema": [],
       "aggSeriesLimitReached": false,
       "aggType": "",
       "arguments": {},
       "columnCustomDisplayInfos": {},
       "data": [],
       "datasetInfos": [],
       "dbfsResultPath": null,
       "isJsonSchema": true,
       "metadata": {},
       "overflow": false,
       "plotOptions": {
        "customPlotOptions": {},
        "displayType": "table",
        "pivotAggregation": null,
        "pivotColumns": null,
        "xColumns": null,
        "yColumns": null
       },
       "removedWidgets": [],
       "schema": [],
       "type": "table"
      }
     },
     "output_type": "display_data"
    }
   ],
   "source": [
    "%sql\n",
    "-- Atualizado para considerar Clube\n",
    "CREATE OR REPLACE TEMP VIEW frequencia_posicoes AS\n",
    "SELECT \n",
    "    Jogador,\n",
    "    Clube,\n",
    "    Nacionalidade,\n",
    "    Posicao,\n",
    "    COUNT(*) AS frequencia\n",
    "FROM posicoes_explodidas\n",
    "GROUP BY Jogador, Clube, Nacionalidade, Posicao;\n"
   ]
  },
  {
   "cell_type": "markdown",
   "metadata": {
    "application/vnd.databricks.v1+cell": {
     "cellMetadata": {},
     "inputWidgets": {},
     "nuid": "93746454-fa05-4b2d-8821-16d338bb835c",
     "showTitle": false,
     "tableResultSettingsMap": {},
     "title": ""
    }
   },
   "source": [
    "### 🔹Aplicar ranking (posição mais jogada = rank 1)"
   ]
  },
  {
   "cell_type": "code",
   "execution_count": 0,
   "metadata": {
    "application/vnd.databricks.v1+cell": {
     "cellMetadata": {
      "byteLimit": 2048000,
      "implicitDf": true,
      "rowLimit": 10000
     },
     "inputWidgets": {},
     "nuid": "e6bfcca2-d766-4587-9157-1d5f4c4fdb6a",
     "showTitle": false,
     "tableResultSettingsMap": {},
     "title": ""
    }
   },
   "outputs": [
    {
     "output_type": "display_data",
     "data": {
      "text/html": [
       "<style scoped>\n",
       "  .table-result-container {\n",
       "    max-height: 300px;\n",
       "    overflow: auto;\n",
       "  }\n",
       "  table, th, td {\n",
       "    border: 1px solid black;\n",
       "    border-collapse: collapse;\n",
       "  }\n",
       "  th, td {\n",
       "    padding: 5px;\n",
       "  }\n",
       "  th {\n",
       "    text-align: left;\n",
       "  }\n",
       "</style><div class='table-result-container'><table class='table-result'><thead style='background-color: white'><tr></tr></thead><tbody></tbody></table></div>"
      ]
     },
     "metadata": {
      "application/vnd.databricks.v1+output": {
       "addedWidgets": {},
       "aggData": [],
       "aggError": "",
       "aggOverflow": false,
       "aggSchema": [],
       "aggSeriesLimitReached": false,
       "aggType": "",
       "arguments": {},
       "columnCustomDisplayInfos": {},
       "data": [],
       "datasetInfos": [],
       "dbfsResultPath": null,
       "isJsonSchema": true,
       "metadata": {},
       "overflow": false,
       "plotOptions": {
        "customPlotOptions": {},
        "displayType": "table",
        "pivotAggregation": null,
        "pivotColumns": null,
        "xColumns": null,
        "yColumns": null
       },
       "removedWidgets": [],
       "schema": [],
       "type": "table"
      }
     },
     "output_type": "display_data"
    }
   ],
   "source": [
    "%sql\n",
    "-- Agora o ranking é por Jogador + Clube\n",
    "CREATE OR REPLACE TEMP VIEW ranking_posicoes AS\n",
    "SELECT *,\n",
    "    ROW_NUMBER() OVER (\n",
    "        PARTITION BY Jogador, Clube\n",
    "        ORDER BY frequencia DESC\n",
    "    ) AS pos_rank\n",
    "FROM frequencia_posicoes;\n"
   ]
  },
  {
   "cell_type": "markdown",
   "metadata": {
    "application/vnd.databricks.v1+cell": {
     "cellMetadata": {},
     "inputWidgets": {},
     "nuid": "fef6acfb-42f1-4058-9de5-79748ba02a26",
     "showTitle": false,
     "tableResultSettingsMap": {},
     "title": ""
    }
   },
   "source": [
    "### 🔹Selecionar posição principal\n"
   ]
  },
  {
   "cell_type": "code",
   "execution_count": 0,
   "metadata": {
    "application/vnd.databricks.v1+cell": {
     "cellMetadata": {
      "byteLimit": 2048000,
      "implicitDf": true,
      "rowLimit": 10000
     },
     "inputWidgets": {},
     "nuid": "ee0b2435-4b81-4909-8706-59159ca3406e",
     "showTitle": false,
     "tableResultSettingsMap": {},
     "title": ""
    }
   },
   "outputs": [
    {
     "output_type": "display_data",
     "data": {
      "text/html": [
       "<style scoped>\n",
       "  .table-result-container {\n",
       "    max-height: 300px;\n",
       "    overflow: auto;\n",
       "  }\n",
       "  table, th, td {\n",
       "    border: 1px solid black;\n",
       "    border-collapse: collapse;\n",
       "  }\n",
       "  th, td {\n",
       "    padding: 5px;\n",
       "  }\n",
       "  th {\n",
       "    text-align: left;\n",
       "  }\n",
       "</style><div class='table-result-container'><table class='table-result'><thead style='background-color: white'><tr></tr></thead><tbody></tbody></table></div>"
      ]
     },
     "metadata": {
      "application/vnd.databricks.v1+output": {
       "addedWidgets": {},
       "aggData": [],
       "aggError": "",
       "aggOverflow": false,
       "aggSchema": [],
       "aggSeriesLimitReached": false,
       "aggType": "",
       "arguments": {},
       "columnCustomDisplayInfos": {},
       "data": [],
       "datasetInfos": [],
       "dbfsResultPath": null,
       "isJsonSchema": true,
       "metadata": {},
       "overflow": false,
       "plotOptions": {
        "customPlotOptions": {},
        "displayType": "table",
        "pivotAggregation": null,
        "pivotColumns": null,
        "xColumns": null,
        "yColumns": null
       },
       "removedWidgets": [],
       "schema": [],
       "type": "table"
      }
     },
     "output_type": "display_data"
    }
   ],
   "source": [
    "%sql\n",
    "-- Principal\n",
    "CREATE OR REPLACE TEMP VIEW principal AS\n",
    "SELECT \n",
    "    Jogador,\n",
    "    Clube,\n",
    "    Nacionalidade,\n",
    "    Posicao AS Posicao_Principal,\n",
    "    frequencia AS jogos_posicao_principal\n",
    "FROM ranking_posicoes\n",
    "WHERE pos_rank = 1;"
   ]
  },
  {
   "cell_type": "markdown",
   "metadata": {
    "application/vnd.databricks.v1+cell": {
     "cellMetadata": {},
     "inputWidgets": {},
     "nuid": "1865b7f1-8260-403d-9eb0-1ba587629a8e",
     "showTitle": false,
     "tableResultSettingsMap": {},
     "title": ""
    }
   },
   "source": [
    "### 🔹Selecionar improvisação (segunda mais jogada)\n"
   ]
  },
  {
   "cell_type": "code",
   "execution_count": 0,
   "metadata": {
    "application/vnd.databricks.v1+cell": {
     "cellMetadata": {
      "byteLimit": 2048000,
      "implicitDf": true,
      "rowLimit": 10000
     },
     "inputWidgets": {},
     "nuid": "f44661ef-3eab-4b0c-a50a-d58bf7959ff1",
     "showTitle": false,
     "tableResultSettingsMap": {},
     "title": ""
    }
   },
   "outputs": [
    {
     "output_type": "display_data",
     "data": {
      "text/html": [
       "<style scoped>\n",
       "  .table-result-container {\n",
       "    max-height: 300px;\n",
       "    overflow: auto;\n",
       "  }\n",
       "  table, th, td {\n",
       "    border: 1px solid black;\n",
       "    border-collapse: collapse;\n",
       "  }\n",
       "  th, td {\n",
       "    padding: 5px;\n",
       "  }\n",
       "  th {\n",
       "    text-align: left;\n",
       "  }\n",
       "</style><div class='table-result-container'><table class='table-result'><thead style='background-color: white'><tr></tr></thead><tbody></tbody></table></div>"
      ]
     },
     "metadata": {
      "application/vnd.databricks.v1+output": {
       "addedWidgets": {},
       "aggData": [],
       "aggError": "",
       "aggOverflow": false,
       "aggSchema": [],
       "aggSeriesLimitReached": false,
       "aggType": "",
       "arguments": {},
       "columnCustomDisplayInfos": {},
       "data": [],
       "datasetInfos": [],
       "dbfsResultPath": null,
       "isJsonSchema": true,
       "metadata": {},
       "overflow": false,
       "plotOptions": {
        "customPlotOptions": {},
        "displayType": "table",
        "pivotAggregation": null,
        "pivotColumns": null,
        "xColumns": null,
        "yColumns": null
       },
       "removedWidgets": [],
       "schema": [],
       "type": "table"
      }
     },
     "output_type": "display_data"
    }
   ],
   "source": [
    "%sql\n",
    "-- Improvisação\n",
    "CREATE OR REPLACE TEMP VIEW improvisacao AS\n",
    "SELECT \n",
    "    Jogador,\n",
    "    Clube,\n",
    "    Posicao AS Improvisacao,\n",
    "    frequencia AS jogos_improvisados\n",
    "FROM ranking_posicoes\n",
    "WHERE pos_rank = 2;"
   ]
  },
  {
   "cell_type": "markdown",
   "metadata": {
    "application/vnd.databricks.v1+cell": {
     "cellMetadata": {},
     "inputWidgets": {},
     "nuid": "e781e619-8fc8-4b1c-b8d7-e4f208f40f6a",
     "showTitle": false,
     "tableResultSettingsMap": {},
     "title": ""
    }
   },
   "source": [
    "### 🔹Aplicar um JOIN nas duas tabelas (Posição Principal e Improvisação)\n"
   ]
  },
  {
   "cell_type": "code",
   "execution_count": 0,
   "metadata": {
    "application/vnd.databricks.v1+cell": {
     "cellMetadata": {
      "byteLimit": 2048000,
      "implicitDf": true,
      "rowLimit": 10000
     },
     "inputWidgets": {},
     "nuid": "9e6be54d-a136-4764-9e61-bfaa7d19d947",
     "showTitle": false,
     "tableResultSettingsMap": {},
     "title": ""
    }
   },
   "outputs": [
    {
     "output_type": "display_data",
     "data": {
      "text/html": [
       "<style scoped>\n",
       "  .table-result-container {\n",
       "    max-height: 300px;\n",
       "    overflow: auto;\n",
       "  }\n",
       "  table, th, td {\n",
       "    border: 1px solid black;\n",
       "    border-collapse: collapse;\n",
       "  }\n",
       "  th, td {\n",
       "    padding: 5px;\n",
       "  }\n",
       "  th {\n",
       "    text-align: left;\n",
       "  }\n",
       "</style><div class='table-result-container'><table class='table-result'><thead style='background-color: white'><tr></tr></thead><tbody></tbody></table></div>"
      ]
     },
     "metadata": {
      "application/vnd.databricks.v1+output": {
       "addedWidgets": {},
       "aggData": [],
       "aggError": "",
       "aggOverflow": false,
       "aggSchema": [],
       "aggSeriesLimitReached": false,
       "aggType": "",
       "arguments": {},
       "columnCustomDisplayInfos": {},
       "data": [],
       "datasetInfos": [],
       "dbfsResultPath": null,
       "isJsonSchema": true,
       "metadata": {},
       "overflow": false,
       "plotOptions": {
        "customPlotOptions": {},
        "displayType": "table",
        "pivotAggregation": null,
        "pivotColumns": null,
        "xColumns": null,
        "yColumns": null
       },
       "removedWidgets": [],
       "schema": [],
       "type": "table"
      }
     },
     "output_type": "display_data"
    }
   ],
   "source": [
    "%sql\n",
    "CREATE OR REPLACE TEMP VIEW Mart_Info_Jogadores AS\n",
    "SELECT \n",
    "    p.Jogador,\n",
    "    p.Clube,\n",
    "    p.Nacionalidade,\n",
    "    \n",
    "    p.Posicao_Principal,\n",
    "    CASE p.Posicao_Principal\n",
    "        WHEN 'CB' THEN 'Zagueiro'\n",
    "        WHEN 'FW' THEN 'Atacante'\n",
    "        WHEN 'GK' THEN 'Goleiro'\n",
    "        WHEN 'RW' THEN 'Ponta Direita'\n",
    "        WHEN 'RB' THEN 'Lateral Direito'\n",
    "        WHEN 'CM' THEN 'Meio-Campista Central'\n",
    "        WHEN 'AM' THEN 'Meia Ofensivo'\n",
    "        WHEN 'LB' THEN 'Lateral Esquerdo'\n",
    "        WHEN 'LM' THEN 'Meia Esquerda'\n",
    "        WHEN 'LW' THEN 'Ponta Esquerda'\n",
    "        WHEN 'DM' THEN 'Volante'\n",
    "        WHEN 'WB' THEN 'Ala'\n",
    "        WHEN 'RM' THEN 'Meia Direita'\n",
    "        ELSE NULL\n",
    "    END AS Nome_Posicao_Principal,\n",
    "    \n",
    "    p.jogos_posicao_principal,\n",
    "\n",
    "    i.Improvisacao,\n",
    "    CASE i.Improvisacao\n",
    "        WHEN 'CB' THEN 'Zagueiro'\n",
    "        WHEN 'FW' THEN 'Atacante'\n",
    "        WHEN 'GK' THEN 'Goleiro'\n",
    "        WHEN 'RW' THEN 'Ponta Direita'\n",
    "        WHEN 'RB' THEN 'Lateral Direito'\n",
    "        WHEN 'CM' THEN 'Meio-Campista Central'\n",
    "        WHEN 'AM' THEN 'Meia Ofensivo'\n",
    "        WHEN 'LB' THEN 'Lateral Esquerdo'\n",
    "        WHEN 'LM' THEN 'Meia Esquerda'\n",
    "        WHEN 'LW' THEN 'Ponta Esquerda'\n",
    "        WHEN 'DM' THEN 'Volante'\n",
    "        WHEN 'WB' THEN 'Ala'\n",
    "        WHEN 'RM' THEN 'Meia Direita'\n",
    "        ELSE NULL\n",
    "    END AS Nome_Improvisacao,\n",
    "\n",
    "    i.jogos_improvisados\n",
    "\n",
    "FROM principal p\n",
    "LEFT JOIN improvisacao i\n",
    "  ON p.Jogador = i.Jogador AND p.Clube = i.Clube\n",
    "ORDER BY p.Jogador;\n"
   ]
  },
  {
   "cell_type": "markdown",
   "metadata": {
    "application/vnd.databricks.v1+cell": {
     "cellMetadata": {},
     "inputWidgets": {},
     "nuid": "4a9d2e22-2969-40b8-8399-6293e2ce532f",
     "showTitle": false,
     "tableResultSettingsMap": {},
     "title": ""
    }
   },
   "source": [
    "## 🔶 Conferencias finais"
   ]
  },
  {
   "cell_type": "markdown",
   "metadata": {
    "application/vnd.databricks.v1+cell": {
     "cellMetadata": {},
     "inputWidgets": {},
     "nuid": "814fd56e-f3a4-4942-a32e-a9698813eb46",
     "showTitle": false,
     "tableResultSettingsMap": {},
     "title": ""
    }
   },
   "source": [
    "### 🔹Conferindo se temos Mais de 1 jogador com o mesmo nome no mesmo clube"
   ]
  },
  {
   "cell_type": "code",
   "execution_count": 0,
   "metadata": {
    "application/vnd.databricks.v1+cell": {
     "cellMetadata": {
      "byteLimit": 2048000,
      "implicitDf": true,
      "rowLimit": 10000
     },
     "inputWidgets": {},
     "nuid": "ac998986-ee3c-4f57-a309-17bf6a1e7fa2",
     "showTitle": false,
     "tableResultSettingsMap": {},
     "title": ""
    }
   },
   "outputs": [
    {
     "output_type": "display_data",
     "data": {
      "text/html": [
       "<style scoped>\n",
       "  .table-result-container {\n",
       "    max-height: 300px;\n",
       "    overflow: auto;\n",
       "  }\n",
       "  table, th, td {\n",
       "    border: 1px solid black;\n",
       "    border-collapse: collapse;\n",
       "  }\n",
       "  th, td {\n",
       "    padding: 5px;\n",
       "  }\n",
       "  th {\n",
       "    text-align: left;\n",
       "  }\n",
       "</style><div class='table-result-container'><table class='table-result'><thead style='background-color: white'><tr><th>Jogador</th><th>Clube</th><th>ocorrencias</th></tr></thead><tbody><tr><td>Max</td><td>Cuiabá</td><td>1</td></tr><tr><td>Lincoln</td><td>Bragantino</td><td>1</td></tr><tr><td>Guilherme Estrella</td><td>Vasco da Gama</td><td>1</td></tr><tr><td>Luan Garcia</td><td>Palmeiras</td><td>1</td></tr><tr><td>Raul</td><td>Bragantino</td><td>1</td></tr><tr><td>Denilson</td><td>Cuiabá</td><td>1</td></tr><tr><td>Jacob Montes</td><td>Botafogo</td><td>1</td></tr><tr><td>Felipe Jonatan</td><td>Fortaleza</td><td>1</td></tr><tr><td>Caíque de Jesus Gonçalves</td><td>Juventude</td><td>1</td></tr><tr><td>Erick Pulgar</td><td>Flamengo</td><td>1</td></tr></tbody></table></div>"
      ]
     },
     "metadata": {
      "application/vnd.databricks.v1+output": {
       "addedWidgets": {},
       "aggData": [],
       "aggError": "",
       "aggOverflow": false,
       "aggSchema": [],
       "aggSeriesLimitReached": false,
       "aggType": "",
       "arguments": {},
       "columnCustomDisplayInfos": {},
       "data": [
        [
         "Max",
         "Cuiabá",
         1
        ],
        [
         "Lincoln",
         "Bragantino",
         1
        ],
        [
         "Guilherme Estrella",
         "Vasco da Gama",
         1
        ],
        [
         "Luan Garcia",
         "Palmeiras",
         1
        ],
        [
         "Raul",
         "Bragantino",
         1
        ],
        [
         "Denilson",
         "Cuiabá",
         1
        ],
        [
         "Jacob Montes",
         "Botafogo",
         1
        ],
        [
         "Felipe Jonatan",
         "Fortaleza",
         1
        ],
        [
         "Caíque de Jesus Gonçalves",
         "Juventude",
         1
        ],
        [
         "Erick Pulgar",
         "Flamengo",
         1
        ]
       ],
       "datasetInfos": [],
       "dbfsResultPath": null,
       "isJsonSchema": true,
       "metadata": {},
       "overflow": false,
       "plotOptions": {
        "customPlotOptions": {},
        "displayType": "table",
        "pivotAggregation": null,
        "pivotColumns": null,
        "xColumns": null,
        "yColumns": null
       },
       "removedWidgets": [],
       "schema": [
        {
         "metadata": "{}",
         "name": "Jogador",
         "type": "\"string\""
        },
        {
         "metadata": "{}",
         "name": "Clube",
         "type": "\"string\""
        },
        {
         "metadata": "{}",
         "name": "ocorrencias",
         "type": "\"long\""
        }
       ],
       "type": "table"
      }
     },
     "output_type": "display_data"
    }
   ],
   "source": [
    "%sql\n",
    "-- Combinações únicas de jogador e clube (removendo duplicatas)\n",
    "SELECT \n",
    "    Jogador,\n",
    "    Clube,\n",
    "    COUNT(*) AS ocorrencias\n",
    "FROM (\n",
    "    SELECT DISTINCT Jogador, Clube\n",
    "    FROM estatisticas\n",
    ") AS unicos\n",
    "GROUP BY Jogador, Clube\n",
    "ORDER BY ocorrencias DESC\n",
    "LIMIT 10\n"
   ]
  },
  {
   "cell_type": "markdown",
   "metadata": {
    "application/vnd.databricks.v1+cell": {
     "cellMetadata": {},
     "inputWidgets": {},
     "nuid": "4b421e7a-a95c-439d-aa67-190e4a6a8130",
     "showTitle": false,
     "tableResultSettingsMap": {},
     "title": ""
    }
   },
   "source": [
    "### 🔹Conferindo se temos Jogadores com mesmo nome no mesmo clube, mas camisas diferentes"
   ]
  },
  {
   "cell_type": "code",
   "execution_count": 0,
   "metadata": {
    "application/vnd.databricks.v1+cell": {
     "cellMetadata": {
      "byteLimit": 2048000,
      "implicitDf": true,
      "rowLimit": 10000
     },
     "inputWidgets": {},
     "nuid": "df10a258-97cc-4280-9e0b-ec5ce6bd2e7b",
     "showTitle": false,
     "tableResultSettingsMap": {},
     "title": ""
    }
   },
   "outputs": [
    {
     "output_type": "display_data",
     "data": {
      "text/html": [
       "<style scoped>\n",
       "  .table-result-container {\n",
       "    max-height: 300px;\n",
       "    overflow: auto;\n",
       "  }\n",
       "  table, th, td {\n",
       "    border: 1px solid black;\n",
       "    border-collapse: collapse;\n",
       "  }\n",
       "  th, td {\n",
       "    padding: 5px;\n",
       "  }\n",
       "  th {\n",
       "    text-align: left;\n",
       "  }\n",
       "</style><div class='table-result-container'><table class='table-result'><thead style='background-color: white'><tr><th>Jogador</th><th>Clube</th><th>qtd_camisas_diferentes</th></tr></thead><tbody><tr><td>Alejo Cruz</td><td>Atlético-GO</td><td>10</td></tr><tr><td>Budiga Roni</td><td>Atlético-GO</td><td>7</td></tr><tr><td>Lucas Kal</td><td>Atlético-GO</td><td>6</td></tr><tr><td>Joel Campbell</td><td>Atlético-GO</td><td>6</td></tr><tr><td>Rhaldney</td><td>Atlético-GO</td><td>6</td></tr><tr><td>Matías Lacava</td><td>Atlético-GO</td><td>6</td></tr><tr><td>Shaylon</td><td>Atlético-GO</td><td>6</td></tr><tr><td>Derek</td><td>Atlético-GO</td><td>6</td></tr><tr><td>Luiz Felipe</td><td>Atlético-GO</td><td>6</td></tr><tr><td>Jan Carlos Hurtado</td><td>Atlético-GO</td><td>5</td></tr></tbody></table></div>"
      ]
     },
     "metadata": {
      "application/vnd.databricks.v1+output": {
       "addedWidgets": {},
       "aggData": [],
       "aggError": "",
       "aggOverflow": false,
       "aggSchema": [],
       "aggSeriesLimitReached": false,
       "aggType": "",
       "arguments": {},
       "columnCustomDisplayInfos": {},
       "data": [
        [
         "Alejo Cruz",
         "Atlético-GO",
         10
        ],
        [
         "Budiga Roni",
         "Atlético-GO",
         7
        ],
        [
         "Lucas Kal",
         "Atlético-GO",
         6
        ],
        [
         "Joel Campbell",
         "Atlético-GO",
         6
        ],
        [
         "Rhaldney",
         "Atlético-GO",
         6
        ],
        [
         "Matías Lacava",
         "Atlético-GO",
         6
        ],
        [
         "Shaylon",
         "Atlético-GO",
         6
        ],
        [
         "Derek",
         "Atlético-GO",
         6
        ],
        [
         "Luiz Felipe",
         "Atlético-GO",
         6
        ],
        [
         "Jan Carlos Hurtado",
         "Atlético-GO",
         5
        ]
       ],
       "datasetInfos": [],
       "dbfsResultPath": null,
       "isJsonSchema": true,
       "metadata": {},
       "overflow": false,
       "plotOptions": {
        "customPlotOptions": {},
        "displayType": "table",
        "pivotAggregation": null,
        "pivotColumns": null,
        "xColumns": null,
        "yColumns": null
       },
       "removedWidgets": [],
       "schema": [
        {
         "metadata": "{}",
         "name": "Jogador",
         "type": "\"string\""
        },
        {
         "metadata": "{}",
         "name": "Clube",
         "type": "\"string\""
        },
        {
         "metadata": "{}",
         "name": "qtd_camisas_diferentes",
         "type": "\"long\""
        }
       ],
       "type": "table"
      }
     },
     "output_type": "display_data"
    }
   ],
   "source": [
    "%sql\n",
    "-- Jogadores com mesmo nome no mesmo clube, mas camisas diferentes\n",
    "SELECT \n",
    "    Jogador,\n",
    "    Clube,\n",
    "    COUNT(DISTINCT Numero_Camisa) AS qtd_camisas_diferentes\n",
    "FROM estatisticas\n",
    "GROUP BY Jogador, Clube\n",
    "HAVING COUNT(DISTINCT Numero_Camisa) > 1\n",
    "ORDER BY qtd_camisas_diferentes DESC\n",
    "LIMIT 10\n"
   ]
  },
  {
   "cell_type": "markdown",
   "metadata": {
    "application/vnd.databricks.v1+cell": {
     "cellMetadata": {},
     "inputWidgets": {},
     "nuid": "bd2ef086-68f3-40c9-adf0-fbc1ac5ec513",
     "showTitle": false,
     "tableResultSettingsMap": {},
     "title": ""
    }
   },
   "source": [
    "## 📌 Salvando os Arquivs na Camada Gold "
   ]
  },
  {
   "cell_type": "code",
   "execution_count": 0,
   "metadata": {
    "application/vnd.databricks.v1+cell": {
     "cellMetadata": {
      "byteLimit": 2048000,
      "rowLimit": 10000
     },
     "inputWidgets": {},
     "nuid": "110923b2-6677-471b-bd41-4f7bfa25a04e",
     "showTitle": false,
     "tableResultSettingsMap": {},
     "title": ""
    }
   },
   "outputs": [],
   "source": [
    "df_gold = spark.sql(\"SELECT * FROM Mart_Info_Jogadores\")\n",
    "\n",
    "df_gold.write.mode(\"overwrite\").parquet(\"s3a://mvp-brasileirao-2024/gold/Mart_Info_Jogadores\")"
   ]
  }
 ],
 "metadata": {
  "application/vnd.databricks.v1+notebook": {
   "computePreferences": null,
   "dashboards": [],
   "environmentMetadata": {
    "base_environment": "",
    "environment_version": "1"
   },
   "inputWidgetPreferences": null,
   "language": "python",
   "notebookMetadata": {
    "mostRecentlyExecutedCommandWithImplicitDF": {
     "commandId": 3737902554625745,
     "dataframes": [
      "_sqldf"
     ]
    },
    "pythonIndentUnit": 4
   },
   "notebookName": "04C-Transformacao-Gold-Mart_Info_Jogadores",
   "widgets": {}
  }
 },
 "nbformat": 4,
 "nbformat_minor": 0
}
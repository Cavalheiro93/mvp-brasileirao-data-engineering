{
 "cells": [
  {
   "cell_type": "markdown",
   "metadata": {
    "application/vnd.databricks.v1+cell": {
     "cellMetadata": {},
     "inputWidgets": {},
     "nuid": "70c1da58-10ff-4188-b9e5-8c8e1df0c1d0",
     "showTitle": false,
     "tableResultSettingsMap": {},
     "title": ""
    }
   },
   "source": [
    "## 🔶 Leitura dos Arquivos no DBFS"
   ]
  },
  {
   "cell_type": "code",
   "execution_count": 0,
   "metadata": {
    "application/vnd.databricks.v1+cell": {
     "cellMetadata": {
      "byteLimit": 2048000,
      "rowLimit": 10000
     },
     "inputWidgets": {},
     "nuid": "1133a81b-5b54-4e4a-981b-92620088b17a",
     "showTitle": false,
     "tableResultSettingsMap": {},
     "title": ""
    }
   },
   "outputs": [
    {
     "output_type": "stream",
     "name": "stdout",
     "output_type": "stream",
     "text": [
      "✅ Dataframes criado com sucesso a partir do DBFS\n"
     ]
    }
   ],
   "source": [
    "# Ler os dados do DBFS em vez do S3\n",
    "df_estatisticas = spark.read.parquet(\"dbfs:/mnt/silver_temp/estatisticas\")\n",
    "\n",
    "df_estatisticas.createOrReplaceTempView(\"estatisticas\")\n",
    "\n",
    "print('✅ Dataframes criado com sucesso a partir do DBFS')"
   ]
  },
  {
   "cell_type": "markdown",
   "metadata": {
    "application/vnd.databricks.v1+cell": {
     "cellMetadata": {},
     "inputWidgets": {},
     "nuid": "9ab0d093-849d-4873-b845-02babae5d47c",
     "showTitle": false,
     "tableResultSettingsMap": {},
     "title": ""
    }
   },
   "source": [
    "### 🔹Explodir as posições em campo\n"
   ]
  },
  {
   "cell_type": "code",
   "execution_count": 0,
   "metadata": {
    "application/vnd.databricks.v1+cell": {
     "cellMetadata": {
      "byteLimit": 2048000,
      "implicitDf": true,
      "rowLimit": 10000
     },
     "inputWidgets": {},
     "nuid": "a1f2870a-5e70-4e23-91d0-852c483fe0ff",
     "showTitle": false,
     "tableResultSettingsMap": {},
     "title": ""
    }
   },
   "outputs": [
    {
     "output_type": "display_data",
     "data": {
      "text/html": [
       "<style scoped>\n",
       "  .table-result-container {\n",
       "    max-height: 300px;\n",
       "    overflow: auto;\n",
       "  }\n",
       "  table, th, td {\n",
       "    border: 1px solid black;\n",
       "    border-collapse: collapse;\n",
       "  }\n",
       "  th, td {\n",
       "    padding: 5px;\n",
       "  }\n",
       "  th {\n",
       "    text-align: left;\n",
       "  }\n",
       "</style><div class='table-result-container'><table class='table-result'><thead style='background-color: white'><tr></tr></thead><tbody></tbody></table></div>"
      ]
     },
     "metadata": {
      "application/vnd.databricks.v1+output": {
       "addedWidgets": {},
       "aggData": [],
       "aggError": "",
       "aggOverflow": false,
       "aggSchema": [],
       "aggSeriesLimitReached": false,
       "aggType": "",
       "arguments": {},
       "columnCustomDisplayInfos": {},
       "data": [],
       "datasetInfos": [],
       "dbfsResultPath": null,
       "isJsonSchema": true,
       "metadata": {},
       "overflow": false,
       "plotOptions": {
        "customPlotOptions": {},
        "displayType": "table",
        "pivotAggregation": null,
        "pivotColumns": null,
        "xColumns": null,
        "yColumns": null
       },
       "removedWidgets": [],
       "schema": [],
       "type": "table"
      }
     },
     "output_type": "display_data"
    }
   ],
   "source": [
    "%sql\n",
    "-- Explode as posições separadas por vírgula\n",
    "CREATE OR REPLACE TEMP VIEW posicoes_explodidas AS\n",
    "SELECT \n",
    "    Jogador,\n",
    "    Clube,\n",
    "    Numero_Camisa,\n",
    "    Nacionalidade,\n",
    "    Data,\n",
    "    TRIM(posicao) AS Posicao\n",
    "FROM (\n",
    "    SELECT *,\n",
    "        EXPLODE(SPLIT(Posicao_em_Campo, ',')) AS posicao\n",
    "    FROM estatisticas\n",
    ");\n"
   ]
  },
  {
   "cell_type": "markdown",
   "metadata": {
    "application/vnd.databricks.v1+cell": {
     "cellMetadata": {},
     "inputWidgets": {},
     "nuid": "3233c87b-785d-42fe-a80a-940aa866f94f",
     "showTitle": false,
     "tableResultSettingsMap": {},
     "title": ""
    }
   },
   "source": [
    "### 🔹Contar frequência das posições por jogador\n"
   ]
  },
  {
   "cell_type": "code",
   "execution_count": 0,
   "metadata": {
    "application/vnd.databricks.v1+cell": {
     "cellMetadata": {
      "byteLimit": 2048000,
      "implicitDf": true,
      "rowLimit": 10000
     },
     "inputWidgets": {},
     "nuid": "921df64f-4eeb-4fdf-a84a-d34d9c4f65b6",
     "showTitle": false,
     "tableResultSettingsMap": {},
     "title": ""
    }
   },
   "outputs": [
    {
     "output_type": "display_data",
     "data": {
      "text/html": [
       "<style scoped>\n",
       "  .table-result-container {\n",
       "    max-height: 300px;\n",
       "    overflow: auto;\n",
       "  }\n",
       "  table, th, td {\n",
       "    border: 1px solid black;\n",
       "    border-collapse: collapse;\n",
       "  }\n",
       "  th, td {\n",
       "    padding: 5px;\n",
       "  }\n",
       "  th {\n",
       "    text-align: left;\n",
       "  }\n",
       "</style><div class='table-result-container'><table class='table-result'><thead style='background-color: white'><tr></tr></thead><tbody></tbody></table></div>"
      ]
     },
     "metadata": {
      "application/vnd.databricks.v1+output": {
       "addedWidgets": {},
       "aggData": [],
       "aggError": "",
       "aggOverflow": false,
       "aggSchema": [],
       "aggSeriesLimitReached": false,
       "aggType": "",
       "arguments": {},
       "columnCustomDisplayInfos": {},
       "data": [],
       "datasetInfos": [],
       "dbfsResultPath": null,
       "isJsonSchema": true,
       "metadata": {},
       "overflow": false,
       "plotOptions": {
        "customPlotOptions": {},
        "displayType": "table",
        "pivotAggregation": null,
        "pivotColumns": null,
        "xColumns": null,
        "yColumns": null
       },
       "removedWidgets": [],
       "schema": [],
       "type": "table"
      }
     },
     "output_type": "display_data"
    }
   ],
   "source": [
    "%sql\n",
    "-- Atualizado para considerar Clube\n",
    "CREATE OR REPLACE TEMP VIEW frequencia_posicoes AS\n",
    "SELECT \n",
    "    Jogador,\n",
    "    Clube,\n",
    "    Nacionalidade,\n",
    "    Posicao,\n",
    "    COUNT(*) AS frequencia\n",
    "FROM posicoes_explodidas\n",
    "GROUP BY Jogador, Clube, Nacionalidade, Posicao;\n"
   ]
  },
  {
   "cell_type": "markdown",
   "metadata": {
    "application/vnd.databricks.v1+cell": {
     "cellMetadata": {},
     "inputWidgets": {},
     "nuid": "93746454-fa05-4b2d-8821-16d338bb835c",
     "showTitle": false,
     "tableResultSettingsMap": {},
     "title": ""
    }
   },
   "source": [
    "### 🔹Aplicar ranking (posição mais jogada = rank 1)"
   ]
  },
  {
   "cell_type": "code",
   "execution_count": 0,
   "metadata": {
    "application/vnd.databricks.v1+cell": {
     "cellMetadata": {
      "byteLimit": 2048000,
      "implicitDf": true,
      "rowLimit": 10000
     },
     "inputWidgets": {},
     "nuid": "e6bfcca2-d766-4587-9157-1d5f4c4fdb6a",
     "showTitle": false,
     "tableResultSettingsMap": {},
     "title": ""
    }
   },
   "outputs": [
    {
     "output_type": "display_data",
     "data": {
      "text/html": [
       "<style scoped>\n",
       "  .table-result-container {\n",
       "    max-height: 300px;\n",
       "    overflow: auto;\n",
       "  }\n",
       "  table, th, td {\n",
       "    border: 1px solid black;\n",
       "    border-collapse: collapse;\n",
       "  }\n",
       "  th, td {\n",
       "    padding: 5px;\n",
       "  }\n",
       "  th {\n",
       "    text-align: left;\n",
       "  }\n",
       "</style><div class='table-result-container'><table class='table-result'><thead style='background-color: white'><tr></tr></thead><tbody></tbody></table></div>"
      ]
     },
     "metadata": {
      "application/vnd.databricks.v1+output": {
       "addedWidgets": {},
       "aggData": [],
       "aggError": "",
       "aggOverflow": false,
       "aggSchema": [],
       "aggSeriesLimitReached": false,
       "aggType": "",
       "arguments": {},
       "columnCustomDisplayInfos": {},
       "data": [],
       "datasetInfos": [],
       "dbfsResultPath": null,
       "isJsonSchema": true,
       "metadata": {},
       "overflow": false,
       "plotOptions": {
        "customPlotOptions": {},
        "displayType": "table",
        "pivotAggregation": null,
        "pivotColumns": null,
        "xColumns": null,
        "yColumns": null
       },
       "removedWidgets": [],
       "schema": [],
       "type": "table"
      }
     },
     "output_type": "display_data"
    }
   ],
   "source": [
    "%sql\n",
    "-- Agora o ranking é por Jogador + Clube\n",
    "CREATE OR REPLACE TEMP VIEW ranking_posicoes AS\n",
    "SELECT *,\n",
    "    ROW_NUMBER() OVER (\n",
    "        PARTITION BY Jogador, Clube\n",
    "        ORDER BY frequencia DESC\n",
    "    ) AS pos_rank\n",
    "FROM frequencia_posicoes;\n"
   ]
  },
  {
   "cell_type": "markdown",
   "metadata": {
    "application/vnd.databricks.v1+cell": {
     "cellMetadata": {},
     "inputWidgets": {},
     "nuid": "fef6acfb-42f1-4058-9de5-79748ba02a26",
     "showTitle": false,
     "tableResultSettingsMap": {},
     "title": ""
    }
   },
   "source": [
    "### 🔹Selecionar posição principal\n"
   ]
  },
  {
   "cell_type": "code",
   "execution_count": 0,
   "metadata": {
    "application/vnd.databricks.v1+cell": {
     "cellMetadata": {
      "byteLimit": 2048000,
      "implicitDf": true,
      "rowLimit": 10000
     },
     "inputWidgets": {},
     "nuid": "ee0b2435-4b81-4909-8706-59159ca3406e",
     "showTitle": false,
     "tableResultSettingsMap": {},
     "title": ""
    }
   },
   "outputs": [
    {
     "output_type": "display_data",
     "data": {
      "text/html": [
       "<style scoped>\n",
       "  .table-result-container {\n",
       "    max-height: 300px;\n",
       "    overflow: auto;\n",
       "  }\n",
       "  table, th, td {\n",
       "    border: 1px solid black;\n",
       "    border-collapse: collapse;\n",
       "  }\n",
       "  th, td {\n",
       "    padding: 5px;\n",
       "  }\n",
       "  th {\n",
       "    text-align: left;\n",
       "  }\n",
       "</style><div class='table-result-container'><table class='table-result'><thead style='background-color: white'><tr></tr></thead><tbody></tbody></table></div>"
      ]
     },
     "metadata": {
      "application/vnd.databricks.v1+output": {
       "addedWidgets": {},
       "aggData": [],
       "aggError": "",
       "aggOverflow": false,
       "aggSchema": [],
       "aggSeriesLimitReached": false,
       "aggType": "",
       "arguments": {},
       "columnCustomDisplayInfos": {},
       "data": [],
       "datasetInfos": [],
       "dbfsResultPath": null,
       "isJsonSchema": true,
       "metadata": {},
       "overflow": false,
       "plotOptions": {
        "customPlotOptions": {},
        "displayType": "table",
        "pivotAggregation": null,
        "pivotColumns": null,
        "xColumns": null,
        "yColumns": null
       },
       "removedWidgets": [],
       "schema": [],
       "type": "table"
      }
     },
     "output_type": "display_data"
    }
   ],
   "source": [
    "%sql\n",
    "-- Principal\n",
    "CREATE OR REPLACE TEMP VIEW principal AS\n",
    "SELECT \n",
    "    Jogador,\n",
    "    Clube,\n",
    "    Nacionalidade,\n",
    "    Posicao AS Posicao_Principal,\n",
    "    frequencia AS jogos_posicao_principal\n",
    "FROM ranking_posicoes\n",
    "WHERE pos_rank = 1;"
   ]
  },
  {
   "cell_type": "markdown",
   "metadata": {
    "application/vnd.databricks.v1+cell": {
     "cellMetadata": {},
     "inputWidgets": {},
     "nuid": "1865b7f1-8260-403d-9eb0-1ba587629a8e",
     "showTitle": false,
     "tableResultSettingsMap": {},
     "title": ""
    }
   },
   "source": [
    "### 🔹Selecionar improvisação (segunda mais jogada)\n"
   ]
  },
  {
   "cell_type": "code",
   "execution_count": 0,
   "metadata": {
    "application/vnd.databricks.v1+cell": {
     "cellMetadata": {
      "byteLimit": 2048000,
      "implicitDf": true,
      "rowLimit": 10000
     },
     "inputWidgets": {},
     "nuid": "f44661ef-3eab-4b0c-a50a-d58bf7959ff1",
     "showTitle": false,
     "tableResultSettingsMap": {},
     "title": ""
    }
   },
   "outputs": [
    {
     "output_type": "display_data",
     "data": {
      "text/html": [
       "<style scoped>\n",
       "  .table-result-container {\n",
       "    max-height: 300px;\n",
       "    overflow: auto;\n",
       "  }\n",
       "  table, th, td {\n",
       "    border: 1px solid black;\n",
       "    border-collapse: collapse;\n",
       "  }\n",
       "  th, td {\n",
       "    padding: 5px;\n",
       "  }\n",
       "  th {\n",
       "    text-align: left;\n",
       "  }\n",
       "</style><div class='table-result-container'><table class='table-result'><thead style='background-color: white'><tr></tr></thead><tbody></tbody></table></div>"
      ]
     },
     "metadata": {
      "application/vnd.databricks.v1+output": {
       "addedWidgets": {},
       "aggData": [],
       "aggError": "",
       "aggOverflow": false,
       "aggSchema": [],
       "aggSeriesLimitReached": false,
       "aggType": "",
       "arguments": {},
       "columnCustomDisplayInfos": {},
       "data": [],
       "datasetInfos": [],
       "dbfsResultPath": null,
       "isJsonSchema": true,
       "metadata": {},
       "overflow": false,
       "plotOptions": {
        "customPlotOptions": {},
        "displayType": "table",
        "pivotAggregation": null,
        "pivotColumns": null,
        "xColumns": null,
        "yColumns": null
       },
       "removedWidgets": [],
       "schema": [],
       "type": "table"
      }
     },
     "output_type": "display_data"
    }
   ],
   "source": [
    "%sql\n",
    "-- Improvisação\n",
    "CREATE OR REPLACE TEMP VIEW improvisacao AS\n",
    "SELECT \n",
    "    Jogador,\n",
    "    Clube,\n",
    "    Posicao AS Improvisacao,\n",
    "    frequencia AS jogos_improvisados\n",
    "FROM ranking_posicoes\n",
    "WHERE pos_rank = 2;"
   ]
  },
  {
   "cell_type": "markdown",
   "metadata": {
    "application/vnd.databricks.v1+cell": {
     "cellMetadata": {},
     "inputWidgets": {},
     "nuid": "e781e619-8fc8-4b1c-b8d7-e4f208f40f6a",
     "showTitle": false,
     "tableResultSettingsMap": {},
     "title": ""
    }
   },
   "source": [
    "### 🔹Aplicar um JOIN nas duas tabelas (Posição Principal e Improvisação)\n"
   ]
  },
  {
   "cell_type": "code",
   "execution_count": 0,
   "metadata": {
    "application/vnd.databricks.v1+cell": {
     "cellMetadata": {
      "byteLimit": 2048000,
      "implicitDf": true,
      "rowLimit": 10000
     },
     "inputWidgets": {},
     "nuid": "9e6be54d-a136-4764-9e61-bfaa7d19d947",
     "showTitle": false,
     "tableResultSettingsMap": {},
     "title": ""
    }
   },
   "outputs": [
    {
     "output_type": "display_data",
     "data": {
      "text/html": [
       "<style scoped>\n",
       "  .table-result-container {\n",
       "    max-height: 300px;\n",
       "    overflow: auto;\n",
       "  }\n",
       "  table, th, td {\n",
       "    border: 1px solid black;\n",
       "    border-collapse: collapse;\n",
       "  }\n",
       "  th, td {\n",
       "    padding: 5px;\n",
       "  }\n",
       "  th {\n",
       "    text-align: left;\n",
       "  }\n",
       "</style><div class='table-result-container'><table class='table-result'><thead style='background-color: white'><tr></tr></thead><tbody></tbody></table></div>"
      ]
     },
     "metadata": {
      "application/vnd.databricks.v1+output": {
       "addedWidgets": {},
       "aggData": [],
       "aggError": "",
       "aggOverflow": false,
       "aggSchema": [],
       "aggSeriesLimitReached": false,
       "aggType": "",
       "arguments": {},
       "columnCustomDisplayInfos": {},
       "data": [],
       "datasetInfos": [],
       "dbfsResultPath": null,
       "isJsonSchema": true,
       "metadata": {},
       "overflow": false,
       "plotOptions": {
        "customPlotOptions": {},
        "displayType": "table",
        "pivotAggregation": null,
        "pivotColumns": null,
        "xColumns": null,
        "yColumns": null
       },
       "removedWidgets": [],
       "schema": [],
       "type": "table"
      }
     },
     "output_type": "display_data"
    }
   ],
   "source": [
    "%sql\n",
    "CREATE OR REPLACE TEMP VIEW Mart_Info_Jogadores AS\n",
    "SELECT \n",
    "    p.Jogador,\n",
    "    p.Clube,\n",
    "    p.Nacionalidade,\n",
    "    \n",
    "    p.Posicao_Principal,\n",
    "    CASE p.Posicao_Principal\n",
    "        WHEN 'CB' THEN 'Zagueiro'\n",
    "        WHEN 'FW' THEN 'Atacante'\n",
    "        WHEN 'GK' THEN 'Goleiro'\n",
    "        WHEN 'RW' THEN 'Ponta Direita'\n",
    "        WHEN 'RB' THEN 'Lateral Direito'\n",
    "        WHEN 'CM' THEN 'Meio-Campista Central'\n",
    "        WHEN 'AM' THEN 'Meia Ofensivo'\n",
    "        WHEN 'LB' THEN 'Lateral Esquerdo'\n",
    "        WHEN 'LM' THEN 'Meia Esquerda'\n",
    "        WHEN 'LW' THEN 'Ponta Esquerda'\n",
    "        WHEN 'DM' THEN 'Volante'\n",
    "        WHEN 'WB' THEN 'Ala'\n",
    "        WHEN 'RM' THEN 'Meia Direita'\n",
    "        ELSE NULL\n",
    "    END AS Nome_Posicao_Principal,\n",
    "    \n",
    "    p.jogos_posicao_principal,\n",
    "\n",
    "    i.Improvisacao,\n",
    "    CASE i.Improvisacao\n",
    "        WHEN 'CB' THEN 'Zagueiro'\n",
    "        WHEN 'FW' THEN 'Atacante'\n",
    "        WHEN 'GK' THEN 'Goleiro'\n",
    "        WHEN 'RW' THEN 'Ponta Direita'\n",
    "        WHEN 'RB' THEN 'Lateral Direito'\n",
    "        WHEN 'CM' THEN 'Meio-Campista Central'\n",
    "        WHEN 'AM' THEN 'Meia Ofensivo'\n",
    "        WHEN 'LB' THEN 'Lateral Esquerdo'\n",
    "        WHEN 'LM' THEN 'Meia Esquerda'\n",
    "        WHEN 'LW' THEN 'Ponta Esquerda'\n",
    "        WHEN 'DM' THEN 'Volante'\n",
    "        WHEN 'WB' THEN 'Ala'\n",
    "        WHEN 'RM' THEN 'Meia Direita'\n",
    "        ELSE NULL\n",
    "    END AS Nome_Improvisacao,\n",
    "\n",
    "    i.jogos_improvisados\n",
    "\n",
    "FROM principal p\n",
    "LEFT JOIN improvisacao i\n",
    "  ON p.Jogador = i.Jogador AND p.Clube = i.Clube\n",
    "ORDER BY p.Jogador;\n"
   ]
  },
  {
   "cell_type": "markdown",
   "metadata": {
    "application/vnd.databricks.v1+cell": {
     "cellMetadata": {},
     "inputWidgets": {},
     "nuid": "4a9d2e22-2969-40b8-8399-6293e2ce532f",
     "showTitle": false,
     "tableResultSettingsMap": {},
     "title": ""
    }
   },
   "source": [
    "## 🔶 Conferencias finais"
   ]
  },
  {
   "cell_type": "markdown",
   "metadata": {
    "application/vnd.databricks.v1+cell": {
     "cellMetadata": {},
     "inputWidgets": {},
     "nuid": "814fd56e-f3a4-4942-a32e-a9698813eb46",
     "showTitle": false,
     "tableResultSettingsMap": {},
     "title": ""
    }
   },
   "source": [
    "### 🔹Conferindo se temos Mais de 1 jogador com o mesmo nome no mesmo clube"
   ]
  },
  {
   "cell_type": "code",
   "execution_count": 0,
   "metadata": {
    "application/vnd.databricks.v1+cell": {
     "cellMetadata": {
      "byteLimit": 2048000,
      "implicitDf": true,
      "rowLimit": 10000
     },
     "inputWidgets": {},
     "nuid": "ac998986-ee3c-4f57-a309-17bf6a1e7fa2",
     "showTitle": false,
     "tableResultSettingsMap": {},
     "title": ""
    }
   },
   "outputs": [
    {
     "output_type": "display_data",
     "data": {
      "text/html": [
       "<style scoped>\n",
       "  .table-result-container {\n",
       "    max-height: 300px;\n",
       "    overflow: auto;\n",
       "  }\n",
       "  table, th, td {\n",
       "    border: 1px solid black;\n",
       "    border-collapse: collapse;\n",
       "  }\n",
       "  th, td {\n",
       "    padding: 5px;\n",
       "  }\n",
       "  th {\n",
       "    text-align: left;\n",
       "  }\n",
       "</style><div class='table-result-container'><table class='table-result'><thead style='background-color: white'><tr><th>Jogador</th><th>Clube</th><th>ocorrencias</th></tr></thead><tbody><tr><td>Abner</td><td>Juventude</td><td>1</td></tr><tr><td>Ademir Santos</td><td>Bahia</td><td>1</td></tr><tr><td>Adriano Martins</td><td>Atlético-GO</td><td>1</td></tr><tr><td>Adriel</td><td>Bahia</td><td>1</td></tr><tr><td>Adryelson</td><td>Botafogo</td><td>1</td></tr><tr><td>Adson</td><td>Vasco da Gama</td><td>1</td></tr><tr><td>Agustín Canobbio</td><td>Athletico-PR</td><td>1</td></tr><tr><td>Agustín Giay</td><td>Palmeiras</td><td>1</td></tr><tr><td>Agustín Marchesín</td><td>Grêmio</td><td>1</td></tr><tr><td>Agustín Rogel</td><td>Internacional</td><td>1</td></tr><tr><td>Agustín Rossi</td><td>Flamengo</td><td>1</td></tr><tr><td>Alan Empereur</td><td>Cuiabá</td><td>1</td></tr><tr><td>Alan Franco</td><td>Atlético-MG</td><td>1</td></tr><tr><td>Alan Franco</td><td>São Paulo</td><td>1</td></tr><tr><td>Alan Kardec</td><td>Atlético-MG</td><td>1</td></tr><tr><td>Alan Patrick</td><td>Internacional</td><td>1</td></tr><tr><td>Alan Ruschel</td><td>Juventude</td><td>1</td></tr><tr><td>Alejo Cruz</td><td>Atlético-GO</td><td>1</td></tr><tr><td>Alerrandro</td><td>EC Vitória</td><td>1</td></tr><tr><td>Alex Sandro</td><td>Flamengo</td><td>1</td></tr><tr><td>Alex Santana</td><td>Athletico-PR</td><td>1</td></tr><tr><td>Alex Santana</td><td>Corinthians</td><td>1</td></tr><tr><td>Alex Teixeira</td><td>Vasco da Gama</td><td>1</td></tr><tr><td>Alex Telles</td><td>Botafogo</td><td>1</td></tr><tr><td>Alexander Aravena</td><td>Grêmio</td><td>1</td></tr><tr><td>Alexander Barboza</td><td>Botafogo</td><td>1</td></tr><tr><td>Alexandro Bernabei</td><td>Internacional</td><td>1</td></tr><tr><td>Alexsander</td><td>Fluminense</td><td>1</td></tr><tr><td>Alisson</td><td>São Paulo</td><td>1</td></tr><tr><td>Alisson</td><td>Criciúma</td><td>1</td></tr><tr><td>Alisson</td><td>Atlético-MG</td><td>1</td></tr><tr><td>Alix Vinicius</td><td>Atlético-GO</td><td>1</td></tr><tr><td>Allan</td><td>Flamengo</td><td>1</td></tr><tr><td>Allan</td><td>Botafogo</td><td>1</td></tr><tr><td>Allano</td><td>Criciúma</td><td>1</td></tr><tr><td>Allyson Aires dos Santos</td><td>Cuiabá</td><td>1</td></tr><tr><td>Alysson Edward</td><td>Grêmio</td><td>1</td></tr><tr><td>Anderson</td><td>Cruzeiro</td><td>1</td></tr><tr><td>André</td><td>Fluminense</td><td>1</td></tr><tr><td>André Carrillo</td><td>Corinthians</td><td>1</td></tr><tr><td>André Luis</td><td>Cuiabá</td><td>1</td></tr><tr><td>André Ramalho</td><td>Corinthians</td><td>1</td></tr><tr><td>André Silva</td><td>São Paulo</td><td>1</td></tr><tr><td>Anthoni</td><td>Internacional</td><td>1</td></tr><tr><td>Antonio Carlos</td><td>Fluminense</td><td>1</td></tr><tr><td>Aníbal Moreno</td><td>Palmeiras</td><td>1</td></tr><tr><td>Arthur</td><td>Cruzeiro</td><td>1</td></tr><tr><td>Arthur</td><td>Bragantino</td><td>1</td></tr><tr><td>Arthur</td><td>Criciúma</td><td>1</td></tr><tr><td>Arthur Rodrigues</td><td>Cruzeiro</td><td>1</td></tr><tr><td>Ayrton Lucas</td><td>Flamengo</td><td>1</td></tr><tr><td>Barreto</td><td>Criciúma</td><td>1</td></tr><tr><td>Bastos</td><td>Botafogo</td><td>1</td></tr><tr><td>Benjamín Kuscevic</td><td>Fortaleza</td><td>1</td></tr><tr><td>Bento</td><td>Athletico-PR</td><td>1</td></tr><tr><td>Bernard</td><td>Atlético-MG</td><td>1</td></tr><tr><td>Biel</td><td>Bahia</td><td>1</td></tr><tr><td>Biro</td><td>Corinthians</td><td>1</td></tr><tr><td>Brahian Palacios</td><td>Atlético-MG</td><td>1</td></tr><tr><td>Braian Aguirre</td><td>Internacional</td><td>1</td></tr><tr><td>Breno</td><td>Fortaleza</td><td>1</td></tr><tr><td>Breno</td><td>Corinthians</td><td>1</td></tr><tr><td>Bruninho</td><td>Bragantino</td><td>1</td></tr><tr><td>Bruno Fabiano Alves</td><td>Cuiabá</td><td>1</td></tr><tr><td>Bruno Fuchs</td><td>Atlético-MG</td><td>1</td></tr><tr><td>Bruno Gomes</td><td>Internacional</td><td>1</td></tr><tr><td>Bruno Henrique</td><td>Flamengo</td><td>1</td></tr><tr><td>Bruno Henrique</td><td>Internacional</td><td>1</td></tr><tr><td>Bruno Lopes</td><td>Vasco da Gama</td><td>1</td></tr><tr><td>Bruno Pacheco</td><td>Fortaleza</td><td>1</td></tr><tr><td>Bruno Praxedes</td><td>Athletico-PR</td><td>1</td></tr><tr><td>Bruno Praxedes</td><td>Vasco da Gama</td><td>1</td></tr><tr><td>Bruno Tabata</td><td>Internacional</td><td>1</td></tr><tr><td>Bruno Tubarão</td><td>Atlético-GO</td><td>1</td></tr><tr><td>Bruno Uvini</td><td>EC Vitória</td><td>1</td></tr><tr><td>Bruno Zapelli</td><td>Athletico-PR</td><td>1</td></tr><tr><td>Budiga Roni</td><td>Atlético-GO</td><td>1</td></tr><tr><td>Cacá</td><td>Corinthians</td><td>1</td></tr><tr><td>Caetano</td><td>Corinthians</td><td>1</td></tr><tr><td>Caio Alexandre</td><td>Bahia</td><td>1</td></tr><tr><td>Caio Maia</td><td>Atlético-MG</td><td>1</td></tr><tr><td>Caio Paulista</td><td>Palmeiras</td><td>1</td></tr><tr><td>Caio Vinícius</td><td>EC Vitória</td><td>1</td></tr><tr><td>Calebe</td><td>Fortaleza</td><td>1</td></tr><tr><td>Camutanga</td><td>EC Vitória</td><td>1</td></tr><tr><td>Carlinhos</td><td>Flamengo</td><td>1</td></tr><tr><td>Carlos Alberto</td><td>Botafogo</td><td>1</td></tr><tr><td>Carlos Alcaraz</td><td>Flamengo</td><td>1</td></tr><tr><td>Carlos Eduardo</td><td>Atlético-MG</td><td>1</td></tr><tr><td>Carlos Eduardo</td><td>EC Vitória</td><td>1</td></tr><tr><td>Carlos Eduardo</td><td>Botafogo</td><td>1</td></tr><tr><td>Carlos Miguel</td><td>Corinthians</td><td>1</td></tr><tr><td>Carlos de Pena</td><td>Bahia</td><td>1</td></tr><tr><td>Cauly Oliveira Souza</td><td>Bahia</td><td>1</td></tr><tr><td>Caíque</td><td>Grêmio</td><td>1</td></tr><tr><td>Caíque de Jesus Gonçalves</td><td>Juventude</td><td>1</td></tr><tr><td>Charles Aránguiz</td><td>Internacional</td><td>1</td></tr><tr><td>Charles Rigon Matos</td><td>Corinthians</td><td>1</td></tr><tr><td>Christian</td><td>Athletico-PR</td><td>1</td></tr><tr><td>Chumbinho</td><td>Bragantino</td><td>1</td></tr><tr><td>Cicinho</td><td>Bahia</td><td>1</td></tr><tr><td>Claudinho</td><td>Criciúma</td><td>1</td></tr><tr><td>Clayson</td><td>Cuiabá</td><td>1</td></tr><tr><td>Clayton</td><td>Internacional</td><td>1</td></tr><tr><td>Clayton</td><td>Vasco da Gama</td><td>1</td></tr><tr><td>Cleiton</td><td>Flamengo</td><td>1</td></tr><tr><td>Cleiton Schwengber</td><td>Bragantino</td><td>1</td></tr><tr><td>Cristian Pavón</td><td>Grêmio</td><td>1</td></tr><tr><td>Cuiabano</td><td>Grêmio</td><td>1</td></tr><tr><td>Cuiabano</td><td>Botafogo</td><td>1</td></tr><tr><td>Cássio</td><td>Cruzeiro</td><td>1</td></tr><tr><td>Cássio</td><td>Corinthians</td><td>1</td></tr><tr><td>Damián Bobadilla</td><td>São Paulo</td><td>1</td></tr><tr><td>Damián Suárez</td><td>Botafogo</td><td>1</td></tr><tr><td>Daniel Jr</td><td>EC Vitória</td><td>1</td></tr><tr><td>Daniel Sales</td><td>Flamengo</td><td>1</td></tr><tr><td>Danielzinho</td><td>Atlético-GO</td><td>1</td></tr><tr><td>Danilo Barbosa</td><td>Botafogo</td><td>1</td></tr><tr><td>Danilo Boza</td><td>Juventude</td><td>1</td></tr><tr><td>Danilo Fernandes</td><td>Bahia</td><td>1</td></tr><tr><td>Davi Goes</td><td>Juventude</td><td>1</td></tr><tr><td>David</td><td>Vasco da Gama</td><td>1</td></tr><tr><td>David</td><td>Cuiabá</td><td>1</td></tr><tr><td>David</td><td>Juventude</td><td>1</td></tr><tr><td>David Duarte</td><td>Bahia</td><td>1</td></tr><tr><td>David Luiz</td><td>Flamengo</td><td>1</td></tr><tr><td>David Terans</td><td>Fluminense</td><td>1</td></tr><tr><td>Denilson</td><td>Cuiabá</td><td>1</td></tr><tr><td>Derek</td><td>Atlético-GO</td><td>1</td></tr><tr><td>Derik Lacerda</td><td>Cuiabá</td><td>1</td></tr><tr><td>Deyverson</td><td>Cuiabá</td><td>1</td></tr><tr><td>Deyverson</td><td>Atlético-MG</td><td>1</td></tr><tr><td>Diego</td><td>São Paulo</td><td>1</td></tr><tr><td>Diego Costa</td><td>Grêmio</td><td>1</td></tr><tr><td>Diego Gonçalves</td><td>Juventude</td><td>1</td></tr><tr><td>Diego Hernández</td><td>Botafogo</td><td>1</td></tr><tr><td>Dimitri Payet</td><td>Vasco da Gama</td><td>1</td></tr><tr><td>Diogo Barbosa</td><td>Fluminense</td><td>1</td></tr><tr><td>Dodi</td><td>Grêmio</td><td>1</td></tr><tr><td>Douglas Costa</td><td>Fluminense</td><td>1</td></tr><tr><td>Douglas Mendes</td><td>Bragantino</td><td>1</td></tr><tr><td>Du Queiroz</td><td>Grêmio</td><td>1</td></tr><tr><td>Dudu</td><td>Palmeiras</td><td>1</td></tr><tr><td>Dudu</td><td>EC Vitória</td><td>1</td></tr><tr><td>Dudu Vieira</td><td>Juventude</td><td>1</td></tr><tr><td>Dé Marcão</td><td>Atlético-GO</td><td>1</td></tr><tr><td>EDU</td><td>EC Vitória</td><td>1</td></tr><tr><td>Edenílson</td><td>Grêmio</td><td>1</td></tr><tr><td>Edson Carioca</td><td>Juventude</td><td>1</td></tr><tr><td>Eduardo Melo</td><td>Criciúma</td><td>1</td></tr><tr><td>Eduardo Santos</td><td>Bragantino</td><td>1</td></tr><tr><td>Eduardo Sasha</td><td>Bragantino</td><td>1</td></tr><tr><td>Eduardo Vargas</td><td>Atlético-MG</td><td>1</td></tr><tr><td>Eduardo Vinícius</td><td>Cuiabá</td><td>1</td></tr><tr><td>Eli</td><td>Atlético-GO</td><td>1</td></tr><tr><td>Eliel Chrystian</td><td>Cuiabá</td><td>1</td></tr><tr><td>Eliédson</td><td>Criciúma</td><td>1</td></tr><tr><td>Emanuel Brítez</td><td>Fortaleza</td><td>1</td></tr><tr><td>Emerson Rodríguez</td><td>Vasco da Gama</td><td>1</td></tr><tr><td>Emersonn</td><td>Athletico-PR</td><td>1</td></tr><tr><td>Emiliano Rodríguez</td><td>Atlético-GO</td><td>1</td></tr><tr><td>Endrick</td><td>Palmeiras</td><td>1</td></tr><tr><td>Enner Valencia</td><td>Internacional</td><td>1</td></tr><tr><td>Eric Ramires</td><td>Bragantino</td><td>1</td></tr><tr><td>Erick</td><td>Athletico-PR</td><td>1</td></tr><tr><td>Erick</td><td>São Paulo</td><td>1</td></tr><tr><td>Erick</td><td>Juventude</td><td>1</td></tr><tr><td>Erick Castillo</td><td>EC Vitória</td><td>1</td></tr><tr><td>Erick Marcus</td><td>Vasco da Gama</td><td>1</td></tr><tr><td>Erick Pulgar</td><td>Flamengo</td><td>1</td></tr><tr><td>Eros Mancuso</td><td>Fortaleza</td><td>1</td></tr><tr><td>Esquerdinha</td><td>Fluminense</td><td>1</td></tr><tr><td>Estevão</td><td>Palmeiras</td><td>1</td></tr><tr><td>Everaldo</td><td>EC Vitória</td><td>1</td></tr><tr><td>Everaldo Stum</td><td>Bahia</td><td>1</td></tr><tr><td>Everton</td><td>Grêmio</td><td>1</td></tr><tr><td>Everton</td><td>Bragantino</td><td>1</td></tr><tr><td>Everton Ribeiro</td><td>Bahia</td><td>1</td></tr><tr><td>Everton Soares</td><td>Flamengo</td><td>1</td></tr><tr><td>Evertton</td><td>Flamengo</td><td>1</td></tr><tr><td>Ewerton</td><td>Juventude</td><td>1</td></tr><tr><td>Fabiano</td><td>Botafogo</td><td>1</td></tr><tr><td>Fabinho</td><td>Palmeiras</td><td>1</td></tr><tr><td>Fabricio Bustos</td><td>Internacional</td><td>1</td></tr><tr><td>Fabrizio Peralta</td><td>Cruzeiro</td><td>1</td></tr><tr><td>Fabrício</td><td>Internacional</td><td>1</td></tr><tr><td>Fabrício</td><td>Bragantino</td><td>1</td></tr><tr><td>Fabrício Bruno</td><td>Flamengo</td><td>1</td></tr><tr><td>Facundo Bernal</td><td>Fluminense</td><td>1</td></tr><tr><td>Fagner</td><td>Corinthians</td><td>1</td></tr><tr><td>Fausto Vera</td><td>Atlético-MG</td><td>1</td></tr><tr><td>Fausto Vera</td><td>Corinthians</td><td>1</td></tr><tr><td>Federico Zaracho</td><td>Atlético-MG</td><td>1</td></tr><tr><td>Felipe Anderson</td><td>Palmeiras</td><td>1</td></tr><tr><td>Felipe Carballo</td><td>Grêmio</td><td>1</td></tr><tr><td>Felipe Jonatan</td><td>Fortaleza</td><td>1</td></tr><tr><td>Felipe Melo</td><td>Fluminense</td><td>1</td></tr><tr><td>Felipe Teresa</td><td>Flamengo</td><td>1</td></tr><tr><td>Felipe Vieira</td><td>Fluminense</td><td>1</td></tr><tr><td>Felipe Vizeu</td><td>Criciúma</td><td>1</td></tr><tr><td>Felipinho</td><td>Athletico-PR</td><td>1</td></tr><tr><td>Fellipe Mateus</td><td>Criciúma</td><td>1</td></tr><tr><td>Fernandinho</td><td>Athletico-PR</td><td>1</td></tr><tr><td>Fernando</td><td>Athletico-PR</td><td>1</td></tr><tr><td>Fernando</td><td>Internacional</td><td>1</td></tr><tr><td>Fernando Marçal</td><td>Botafogo</td><td>1</td></tr><tr><td>Fernando Sobral</td><td>Cuiabá</td><td>1</td></tr><tr><td>Ferreira</td><td>São Paulo</td><td>1</td></tr><tr><td>Filipe Augusto</td><td>Cuiabá</td><td>1</td></tr><tr><td>Filipinho</td><td>Athletico-PR</td><td>1</td></tr><tr><td>Franco Cristaldo</td><td>Grêmio</td><td>1</td></tr><tr><td>Fábio</td><td>Fluminense</td><td>1</td></tr><tr><td>Fábio</td><td>Grêmio</td><td>1</td></tr><tr><td>Fábio Soares</td><td>EC Vitória</td><td>1</td></tr><tr><td>Félix Torres Caicedo</td><td>Corinthians</td><td>1</td></tr><tr><td>Gabriel</td><td>Bahia</td><td>1</td></tr><tr><td>Gabriel</td><td>Juventude</td><td>1</td></tr><tr><td>Gabriel</td><td>Athletico-PR</td><td>1</td></tr><tr><td>Gabriel</td><td>Fluminense</td><td>1</td></tr><tr><td>Gabriel Baralhas</td><td>Atlético-GO</td><td>1</td></tr><tr><td>Gabriel Barbosa</td><td>Flamengo</td><td>1</td></tr><tr><td>Gabriel Barros</td><td>Atlético-GO</td><td>1</td></tr><tr><td>Gabriel Carvalho</td><td>Internacional</td><td>1</td></tr><tr><td>Gabriel Delfim</td><td>Atlético-MG</td><td>1</td></tr><tr><td>Gabriel Fuentes</td><td>Fluminense</td><td>1</td></tr><tr><td>Gabriel Inocêncio</td><td>Juventude</td><td>1</td></tr><tr><td>Gabriel Knesowitsch</td><td>Cuiabá</td><td>1</td></tr><tr><td>Gabriel Menino</td><td>Palmeiras</td><td>1</td></tr><tr><td>Gabriel Mercado</td><td>Internacional</td><td>1</td></tr><tr><td>Gabriel Moscardo</td><td>Corinthians</td><td>1</td></tr><tr><td>Gabriel Souza</td><td>Vasco da Gama</td><td>1</td></tr><tr><td>Gabriel Taliari</td><td>Juventude</td><td>1</td></tr><tr><td>Gabriel Veron</td><td>Cruzeiro</td><td>1</td></tr><tr><td>Ganso</td><td>Fluminense</td><td>1</td></tr><tr><td>García</td><td>Palmeiras</td><td>1</td></tr><tr><td>Gary Medel</td><td>Vasco da Gama</td><td>1</td></tr><tr><td>Gatito Fernández</td><td>Botafogo</td><td>1</td></tr><tr><td>Germán Cano</td><td>Fluminense</td><td>1</td></tr><tr><td>Gerson</td><td>Flamengo</td><td>1</td></tr><tr><td>Gilberto</td><td>Bahia</td><td>1</td></tr><tr><td>Gilberto</td><td>Juventude</td><td>1</td></tr><tr><td>Giorgian De Arrascaeta</td><td>Flamengo</td><td>1</td></tr><tr><td>Giovane</td><td>Corinthians</td><td>1</td></tr><tr><td>Giuliano Galoppo</td><td>São Paulo</td><td>1</td></tr><tr><td>Gonzalo Freitas</td><td>Atlético-GO</td><td>1</td></tr><tr><td>Gonzalo Mastriani</td><td>Athletico-PR</td><td>1</td></tr><tr><td>Gonzalo Plata</td><td>Flamengo</td><td>1</td></tr><tr><td>Gregore</td><td>Botafogo</td><td>1</td></tr><tr><td>Guga</td><td>Fluminense</td><td>1</td></tr><tr><td>Guilherme</td><td>Bragantino</td><td>1</td></tr><tr><td>Guilherme</td><td>Flamengo</td><td>1</td></tr><tr><td>Guilherme Arana</td><td>Atlético-MG</td><td>1</td></tr><tr><td>Guilherme Estrella</td><td>Vasco da Gama</td><td>1</td></tr><tr><td>Guilherme Madruga</td><td>Cuiabá</td><td>1</td></tr><tr><td>Guilherme Romão</td><td>Atlético-GO</td><td>1</td></tr><tr><td>Guilherme Tinga</td><td>Fortaleza</td><td>1</td></tr><tr><td>Guillermo Varela</td><td>Flamengo</td><td>1</td></tr><tr><td>Gustavinho</td><td>Bragantino</td><td>1</td></tr><tr><td>Gustavo</td><td>Criciúma</td><td>1</td></tr><tr><td>Gustavo Campanharo</td><td>Atlético-GO</td><td>1</td></tr><tr><td>Gustavo Gómez</td><td>Palmeiras</td><td>1</td></tr><tr><td>Gustavo Henrique</td><td>Corinthians</td><td>1</td></tr><tr><td>Gustavo Martins Santos</td><td>Grêmio</td><td>1</td></tr><tr><td>Gustavo Mosquito</td><td>Corinthians</td><td>1</td></tr><tr><td>Gustavo Mosquito</td><td>EC Vitória</td><td>1</td></tr><tr><td>Gustavo Nunes</td><td>Grêmio</td><td>1</td></tr><tr><td>Gustavo Prado</td><td>Internacional</td><td>1</td></tr><tr><td>Gustavo Sauer</td><td>Cuiabá</td><td>1</td></tr><tr><td>Gustavo Scarpa</td><td>Atlético-MG</td><td>1</td></tr><tr><td>Helibelton Palacios</td><td>Cruzeiro</td><td>1</td></tr><tr><td>Helinho</td><td>Bragantino</td><td>1</td></tr><tr><td>Henrique</td><td>São Paulo</td><td>1</td></tr><tr><td>Henry Mosquera</td><td>Bragantino</td><td>1</td></tr><tr><td>Higor Meritão</td><td>Criciúma</td><td>1</td></tr><tr><td>Hugo</td><td>Botafogo</td><td>1</td></tr><tr><td>Hugo</td><td>Corinthians</td><td>1</td></tr><tr><td>Hugo Mallo</td><td>Internacional</td><td>1</td></tr><tr><td>Hugo Moura</td><td>Vasco da Gama</td><td>1</td></tr><tr><td>Hugo Souza</td><td>Corinthians</td><td>1</td></tr><tr><td>Hulk</td><td>Atlético-MG</td><td>1</td></tr><tr><td>Hyoran</td><td>Internacional</td><td>1</td></tr><tr><td>Héctor</td><td>Corinthians</td><td>1</td></tr><tr><td>Hércules</td><td>Fortaleza</td><td>1</td></tr><tr><td>Iago</td><td>Bahia</td><td>1</td></tr><tr><td>Ignacio Laquintana</td><td>Bragantino</td><td>1</td></tr><tr><td>Ignácio</td><td>Fluminense</td><td>1</td></tr><tr><td>Igor</td><td>Botafogo</td><td>1</td></tr><tr><td>Igor</td><td>São Paulo</td><td>1</td></tr><tr><td>Igor</td><td>Flamengo</td><td>1</td></tr><tr><td>Igor Coronado</td><td>Corinthians</td><td>1</td></tr><tr><td>Igor Gomes</td><td>Internacional</td><td>1</td></tr><tr><td>Igor Gomes</td><td>Atlético-MG</td><td>1</td></tr><tr><td>Igor Jesus</td><td>Botafogo</td><td>1</td></tr><tr><td>Igor Rabello</td><td>Atlético-MG</td><td>1</td></tr><tr><td>Igor Schlemper</td><td>Grêmio</td><td>1</td></tr><tr><td>Igor Vinícius de Souza</td><td>São Paulo</td><td>1</td></tr><tr><td>Imanol Machuca</td><td>Fortaleza</td><td>1</td></tr><tr><td>Isaac</td><td>Atlético-MG</td><td>1</td></tr><tr><td>Isaac</td><td>Fluminense</td><td>1</td></tr><tr><td>Isaque</td><td>Fluminense</td><td>1</td></tr><tr><td>Isidro Pitta</td><td>Cuiabá</td><td>1</td></tr><tr><td>Iury de Castilho</td><td>EC Vitória</td><td>1</td></tr><tr><td>Ivan Cavaleiro</td><td>Bragantino</td><td>1</td></tr><tr><td>Jacob Montes</td><td>Botafogo</td><td>1</td></tr><tr><td>Jadsom</td><td>Bragantino</td><td>1</td></tr><tr><td>Jadson</td><td>Juventude</td><td>1</td></tr><tr><td>Jadson</td><td>Cuiabá</td><td>1</td></tr><tr><td>Jair</td><td>Vasco da Gama</td><td>1</td></tr><tr><td>Jamal Lewis</td><td>São Paulo</td><td>1</td></tr><tr><td>James Rodríguez</td><td>São Paulo</td><td>1</td></tr><tr><td>Jan Carlos Hurtado</td><td>Atlético-GO</td><td>1</td></tr><tr><td>Jan Lucumí González</td><td>Fluminense</td><td>1</td></tr><tr><td>Janderson</td><td>EC Vitória</td><td>1</td></tr><tr><td>Janderson</td><td>Atlético-GO</td><td>1</td></tr><tr><td>Jandrei</td><td>São Paulo</td><td>1</td></tr><tr><td>Jean Carlos Alves Ferreira</td><td>Atlético-GO</td><td>1</td></tr><tr><td>Jean Carlos Vicente</td><td>Juventude</td><td>1</td></tr><tr><td>Jean Lucas</td><td>Bahia</td><td>1</td></tr><tr><td>Jean Meneses</td><td>Vasco da Gama</td><td>1</td></tr><tr><td>Jean Mota</td><td>EC Vitória</td><td>1</td></tr><tr><td>Jefferson Savarino</td><td>Botafogo</td><td>1</td></tr><tr><td>Jeffinho</td><td>Botafogo</td><td>1</td></tr><tr><td>Jemerson</td><td>Grêmio</td><td>1</td></tr><tr><td>Jemerson</td><td>Atlético-MG</td><td>1</td></tr><tr><td>Jhon Arias</td><td>Fluminense</td><td>1</td></tr><tr><td>Jhonata Robert</td><td>Criciúma</td><td>1</td></tr><tr><td>Jhonatan Jowjow</td><td>Palmeiras</td><td>1</td></tr><tr><td>Jhonatan Jowjow</td><td>Bragantino</td><td>1</td></tr><tr><td>Jhosefer</td><td>Cruzeiro</td><td>1</td></tr><tr><td>Joaquín Piquerez</td><td>Palmeiras</td><td>1</td></tr><tr><td>Joel Campbell</td><td>Atlético-GO</td><td>1</td></tr><tr><td>John</td><td>Botafogo</td><td>1</td></tr><tr><td>John Kennedy</td><td>Fluminense</td><td>1</td></tr><tr><td>Jonathan</td><td>Criciúma</td><td>1</td></tr><tr><td>Jonathan</td><td>Cruzeiro</td><td>1</td></tr><tr><td>Jonathan Cafu</td><td>Cuiabá</td><td>1</td></tr><tr><td>Jonathan Calleri</td><td>São Paulo</td><td>1</td></tr><tr><td>Jorginho</td><td>Atlético-GO</td><td>1</td></tr><tr><td>Josef de Souza</td><td>Vasco da Gama</td><td>1</td></tr><tr><td>José Andrés Martínez</td><td>Corinthians</td><td>1</td></tr><tr><td>José Breno</td><td>EC Vitória</td><td>1</td></tr><tr><td>José Cifuentes</td><td>Cruzeiro</td><td>1</td></tr><tr><td>José Hugo</td><td>EC Vitória</td><td>1</td></tr><tr><td>José Hurtado</td><td>Bragantino</td><td>1</td></tr><tr><td>José Luis Rodríguez Bebanz</td><td>Vasco da Gama</td><td>1</td></tr><tr><td>José López</td><td>Palmeiras</td><td>1</td></tr><tr><td>José Sabino</td><td>São Paulo</td><td>1</td></tr><tr><td>José Vitor Silva Neves</td><td>Athletico-PR</td><td>1</td></tr><tr><td>José Welison</td><td>Fortaleza</td><td>1</td></tr><tr><td>João Carlos</td><td>Criciúma</td><td>1</td></tr><tr><td>João Lucas</td><td>Juventude</td><td>1</td></tr><tr><td>João Machado Cruz</td><td>Athletico-PR</td><td>1</td></tr><tr><td>João Marcelo</td><td>Cruzeiro</td><td>1</td></tr><tr><td>João Moreira</td><td>São Paulo</td><td>1</td></tr><tr><td>João Pedro</td><td>Corinthians</td><td>1</td></tr><tr><td>João Pedro</td><td>Grêmio</td><td>1</td></tr><tr><td>João Pedro</td><td>Vasco da Gama</td><td>1</td></tr><tr><td>João Pedro</td><td>Cruzeiro</td><td>1</td></tr><tr><td>João Pedro Pepê</td><td>Grêmio</td><td>1</td></tr><tr><td>João Ricardo Riedi</td><td>Fortaleza</td><td>1</td></tr><tr><td>João Victor</td><td>Vasco da Gama</td><td>1</td></tr><tr><td>João Wellington</td><td>Cruzeiro</td><td>1</td></tr><tr><td>Juan Ignacio Dinenno</td><td>Cruzeiro</td><td>1</td></tr><tr><td>Juan Martín Lucero</td><td>Fortaleza</td><td>1</td></tr><tr><td>Juan Pablo</td><td>Cuiabá</td><td>1</td></tr><tr><td>Juan Santos</td><td>São Paulo</td><td>1</td></tr><tr><td>Juan Sforza</td><td>Vasco da Gama</td><td>1</td></tr><tr><td>Juliano</td><td>Bragantino</td><td>1</td></tr><tr><td>Julimar</td><td>Athletico-PR</td><td>1</td></tr><tr><td>Juninho Capixaba</td><td>Bragantino</td><td>1</td></tr><tr><td>Júnior Alonso</td><td>Atlético-MG</td><td>1</td></tr><tr><td>Júnior Santos</td><td>Botafogo</td><td>1</td></tr><tr><td>Kaiki</td><td>Cruzeiro</td><td>1</td></tr><tr><td>Kaiky Naves</td><td>Palmeiras</td><td>1</td></tr><tr><td>Kaio Jorge</td><td>Cruzeiro</td><td>1</td></tr><tr><td>Kaique Kenji Takamura Correa</td><td>Cruzeiro</td><td>1</td></tr><tr><td>Kaique Rocha</td><td>Athletico-PR</td><td>1</td></tr><tr><td>Kanu</td><td>Bahia</td><td>1</td></tr><tr><td>Kauan</td><td>Fortaleza</td><td>1</td></tr><tr><td>Kauan</td><td>Cuiabá</td><td>1</td></tr><tr><td>Kauã Elias</td><td>Fluminense</td><td>1</td></tr><tr><td>Kauê</td><td>Botafogo</td><td>1</td></tr><tr><td>Kayke</td><td>Corinthians</td><td>1</td></tr><tr><td>Kayke Santos</td><td>Athletico-PR</td><td>1</td></tr><tr><td>Keno</td><td>Fluminense</td><td>1</td></tr><tr><td>Kervin Andrade</td><td>Fortaleza</td><td>1</td></tr><tr><td>Kevin Serna</td><td>Fluminense</td><td>1</td></tr><tr><td>Kleiton</td><td>Juventude</td><td>1</td></tr><tr><td>Lautaro Díaz</td><td>Cruzeiro</td><td>1</td></tr><tr><td>Lawan</td><td>EC Vitória</td><td>1</td></tr><tr><td>Leandrinho</td><td>Vasco da Gama</td><td>1</td></tr><tr><td>Leandro Emmanuel Martínez</td><td>Fortaleza</td><td>1</td></tr><tr><td>Leo Ortiz</td><td>Flamengo</td><td>1</td></tr><tr><td>Leonardo Godoy</td><td>Athletico-PR</td><td>1</td></tr><tr><td>Leonardo Linck</td><td>Athletico-PR</td><td>1</td></tr><tr><td>Leonardo Realpe</td><td>Bragantino</td><td>1</td></tr><tr><td>Lima</td><td>Fluminense</td><td>1</td></tr><tr><td>Lincoln</td><td>Bragantino</td><td>1</td></tr><tr><td>Liziero</td><td>São Paulo</td><td>1</td></tr><tr><td>Lorran</td><td>Flamengo</td><td>1</td></tr><tr><td>Luan Cândido</td><td>Bragantino</td><td>1</td></tr><tr><td>Luan Garcia</td><td>Palmeiras</td><td>1</td></tr><tr><td>Luan Silva</td><td>EC Vitória</td><td>1</td></tr><tr><td>Lucas Alario</td><td>Internacional</td><td>1</td></tr><tr><td>Lucas Arcanjo</td><td>EC Vitória</td><td>1</td></tr><tr><td>Lucas Barbosa</td><td>Juventude</td><td>1</td></tr><tr><td>Lucas Belezi</td><td>Athletico-PR</td><td>1</td></tr><tr><td>Lucas Calegari</td><td>Fluminense</td><td>1</td></tr><tr><td>Lucas Cunha</td><td>Bragantino</td><td>1</td></tr><tr><td>Lucas Di Yorio</td><td>Athletico-PR</td><td>1</td></tr><tr><td>Lucas Esquivel</td><td>Athletico-PR</td><td>1</td></tr><tr><td>Lucas Esteves</td><td>EC Vitória</td><td>1</td></tr><tr><td>Lucas Evangelista</td><td>Bragantino</td><td>1</td></tr><tr><td>Lucas Fernandes</td><td>Cuiabá</td><td>1</td></tr><tr><td>Lucas Freitas</td><td>Juventude</td><td>1</td></tr><tr><td>Lucas Halter</td><td>Botafogo</td><td>1</td></tr><tr><td>Lucas Kal</td><td>Atlético-GO</td><td>1</td></tr><tr><td>Lucas Mineiro</td><td>Cuiabá</td><td>1</td></tr><tr><td>Lucas Moura</td><td>São Paulo</td><td>1</td></tr><tr><td>Lucas Piton</td><td>Vasco da Gama</td><td>1</td></tr><tr><td>Lucas Romero</td><td>Cruzeiro</td><td>1</td></tr><tr><td>Lucas Sasha</td><td>Fortaleza</td><td>1</td></tr><tr><td>Lucas Silva</td><td>Cruzeiro</td><td>1</td></tr><tr><td>Lucas Villalba</td><td>Cruzeiro</td><td>1</td></tr><tr><td>Lucca Drummond</td><td>Internacional</td><td>1</td></tr><tr><td>Lucca Holanda</td><td>Internacional</td><td>1</td></tr><tr><td>Luciano</td><td>São Paulo</td><td>1</td></tr><tr><td>Luciano Giménez</td><td>Cuiabá</td><td>1</td></tr><tr><td>Luciano Juba</td><td>Bahia</td><td>1</td></tr><tr><td>Luciano Rodríguez</td><td>Bahia</td><td>1</td></tr><tr><td>Lucão</td><td>Bragantino</td><td>1</td></tr><tr><td>Luighi</td><td>Palmeiras</td><td>1</td></tr><tr><td>Luis Eduardo Marques dos Santos</td><td>Criciúma</td><td>1</td></tr><tr><td>Luis Eduardo Marques dos Santos</td><td>Fortaleza</td><td>1</td></tr><tr><td>Luis Guilherme</td><td>Palmeiras</td><td>1</td></tr><tr><td>Luis Mandaca</td><td>Juventude</td><td>1</td></tr><tr><td>Luis Miguel</td><td>EC Vitória</td><td>1</td></tr><tr><td>Luis Otávio</td><td>Internacional</td><td>1</td></tr><tr><td>Luis Oyama</td><td>Juventude</td><td>1</td></tr><tr><td>Luiz Adriano</td><td>EC Vitória</td><td>1</td></tr><tr><td>Luiz Araújo</td><td>Flamengo</td><td>1</td></tr><tr><td>Luiz Felipe</td><td>Atlético-GO</td><td>1</td></tr><tr><td>Luiz Fernando</td><td>Atlético-GO</td><td>1</td></tr><tr><td>Luiz Gustavo</td><td>São Paulo</td><td>1</td></tr><tr><td>Luiz Gustavo</td><td>Atlético-GO</td><td>1</td></tr><tr><td>Luiz Henrique</td><td>Botafogo</td><td>1</td></tr><tr><td>Lyanco</td><td>Atlético-MG</td><td>1</td></tr><tr><td>Lyncon</td><td>Vasco da Gama</td><td>1</td></tr><tr><td>Lázaro</td><td>Palmeiras</td><td>1</td></tr><tr><td>Léo Gamalho</td><td>EC Vitória</td><td>1</td></tr><tr><td>Léo Jardim</td><td>Vasco da Gama</td><td>1</td></tr><tr><td>Léo Mana</td><td>Corinthians</td><td>1</td></tr><tr><td>Léo Naldi</td><td>EC Vitória</td><td>1</td></tr><tr><td>Léo Pelé</td><td>Vasco da Gama</td><td>1</td></tr><tr><td>Léo Pereira</td><td>Flamengo</td><td>1</td></tr><tr><td>Machado</td><td>Cruzeiro</td><td>1</td></tr><tr><td>Machado</td><td>EC Vitória</td><td>1</td></tr><tr><td>Maguinho</td><td>Atlético-GO</td><td>1</td></tr><tr><td>Maicon</td><td>Vasco da Gama</td><td>1</td></tr><tr><td>Manoel</td><td>Fluminense</td><td>1</td></tr><tr><td>Marcelinho</td><td>Juventude</td><td>1</td></tr><tr><td>Marcelo</td><td>Fluminense</td><td>1</td></tr><tr><td>Marcelo Hermes</td><td>Criciúma</td><td>1</td></tr><tr><td>Marcelo Lomba</td><td>Palmeiras</td><td>1</td></tr><tr><td>Marcos Antônio</td><td>São Paulo</td><td>1</td></tr><tr><td>Marcos Felipe</td><td>Bahia</td><td>1</td></tr><tr><td>Marcos Rocha</td><td>Palmeiras</td><td>1</td></tr><tr><td>Marcos Victor</td><td>Athletico-PR</td><td>1</td></tr><tr><td>Mariano</td><td>Atlético-MG</td><td>1</td></tr><tr><td>Marinho</td><td>Fortaleza</td><td>1</td></tr><tr><td>Marllon Borges</td><td>Cuiabá</td><td>1</td></tr><tr><td>Marlon</td><td>Fluminense</td><td>1</td></tr><tr><td>Marlon</td><td>Cruzeiro</td><td>1</td></tr><tr><td>Marlon Freitas</td><td>Botafogo</td><td>1</td></tr><tr><td>Marquinhos</td><td>Fluminense</td><td>1</td></tr><tr><td>Marquinhos Gabriel</td><td>Criciúma</td><td>1</td></tr><tr><td>Martin Braithwaite</td><td>Grêmio</td><td>1</td></tr><tr><td>Martinelli</td><td>Fluminense</td><td>1</td></tr><tr><td>Mateo Barcia</td><td>Criciúma</td><td>1</td></tr><tr><td>Mateo Gamarra</td><td>Athletico-PR</td><td>1</td></tr><tr><td>Mateo Ponte</td><td>Botafogo</td><td>1</td></tr><tr><td>Mateo Zuleta</td><td>Atlético-GO</td><td>1</td></tr><tr><td>Mateus Claus</td><td>Juventude</td><td>1</td></tr><tr><td>Mateus Cocão</td><td>Vasco da Gama</td><td>1</td></tr><tr><td>Mateus Gonçalves Martins</td><td>EC Vitória</td><td>1</td></tr><tr><td>Mateus Pasinato</td><td>Cuiabá</td><td>1</td></tr><tr><td>Mateus Vital</td><td>Cruzeiro</td><td>1</td></tr><tr><td>Matheus Alexandre</td><td>Cuiabá</td><td>1</td></tr><tr><td>Matheus Araújo</td><td>Corinthians</td><td>1</td></tr><tr><td>Matheus Bidu</td><td>Corinthians</td><td>1</td></tr><tr><td>Matheus Cunha</td><td>Flamengo</td><td>1</td></tr><tr><td>Matheus Dias</td><td>Internacional</td><td>1</td></tr><tr><td>Matheus Donelli</td><td>Corinthians</td><td>1</td></tr><tr><td>Matheus Fernandes</td><td>Bragantino</td><td>1</td></tr><tr><td>Matheus Gonçalves</td><td>Flamengo</td><td>1</td></tr><tr><td>Matheus Henrique</td><td>Cruzeiro</td><td>1</td></tr><tr><td>Matheus Martins</td><td>Botafogo</td><td>1</td></tr><tr><td>Matheus Mendes</td><td>Atlético-MG</td><td>1</td></tr><tr><td>Matheus Nascimento</td><td>Botafogo</td><td>1</td></tr><tr><td>Matheus Pereira</td><td>Cruzeiro</td><td>1</td></tr><tr><td>Matheus Rossetto</td><td>Fortaleza</td><td>1</td></tr><tr><td>Matheusinho</td><td>EC Vitória</td><td>1</td></tr><tr><td>Matheusinho</td><td>Criciúma</td><td>1</td></tr><tr><td>Matheuzinho</td><td>Corinthians</td><td>1</td></tr><tr><td>Mathías Villasanti</td><td>Grêmio</td><td>1</td></tr><tr><td>Matias Arezo</td><td>Grêmio</td><td>1</td></tr><tr><td>Matías Lacava</td><td>Atlético-GO</td><td>1</td></tr><tr><td>Matías Viña</td><td>Flamengo</td><td>1</td></tr><tr><td>Mauricio</td><td>Internacional</td><td>1</td></tr><tr><td>Mauricio</td><td>Palmeiras</td><td>1</td></tr><tr><td>Mauricio Lemos</td><td>Atlético-MG</td><td>1</td></tr><tr><td>Max</td><td>Cuiabá</td><td>1</td></tr><tr><td>Max</td><td>Atlético-GO</td><td>1</td></tr><tr><td>Max Alegria</td><td>Vasco da Gama</td><td>1</td></tr><tr><td>Maxime Dominguez</td><td>Vasco da Gama</td><td>1</td></tr><tr><td>Maycon</td><td>Corinthians</td><td>1</td></tr><tr><td>Mayk</td><td>Grêmio</td><td>1</td></tr><tr><td>Mayke</td><td>Palmeiras</td><td>1</td></tr><tr><td>Memphis</td><td>Corinthians</td><td>1</td></tr><tr><td>Michael</td><td>Flamengo</td><td>1</td></tr><tr><td>Michel Araujo</td><td>São Paulo</td><td>1</td></tr><tr><td>Miguel Monsalve</td><td>Grêmio</td><td>1</td></tr><tr><td>Miguel Trauco</td><td>Criciúma</td><td>1</td></tr><tr><td>Moises</td><td>Fortaleza</td><td>1</td></tr><tr><td>Muriel Becker</td><td>EC Vitória</td><td>1</td></tr><tr><td>Murilo Cerqueira</td><td>Palmeiras</td><td>1</td></tr><tr><td>Mycael</td><td>Athletico-PR</td><td>1</td></tr><tr><td>Mádson</td><td>Athletico-PR</td><td>1</td></tr><tr><td>Nahuel Ferraresi</td><td>São Paulo</td><td>1</td></tr><tr><td>Nata</td><td>Grêmio</td><td>1</td></tr><tr><td>Nathan</td><td>Grêmio</td><td>1</td></tr><tr><td>Nathan</td><td>Internacional</td><td>1</td></tr><tr><td>Nathan Fernandes</td><td>Grêmio</td><td>1</td></tr><tr><td>Nathan Mendes</td><td>Bragantino</td><td>1</td></tr><tr><td>Nenê</td><td>Juventude</td><td>1</td></tr><tr><td>Neris</td><td>Cruzeiro</td><td>1</td></tr><tr><td>Neris</td><td>EC Vitória</td><td>1</td></tr><tr><td>Newton</td><td>Criciúma</td><td>1</td></tr><tr><td>Nicolás Acevedo</td><td>Bahia</td><td>1</td></tr><tr><td>Nicolás De La Cruz</td><td>Flamengo</td><td>1</td></tr><tr><td>Nikão</td><td>Athletico-PR</td><td>1</td></tr><tr><td>Nonato</td><td>Fluminense</td><td>1</td></tr><tr><td>Ogundana Shola</td><td>Flamengo</td><td>1</td></tr><tr><td>Oscar Estupiñan</td><td>Bahia</td><td>1</td></tr><tr><td>Osvaldo</td><td>EC Vitória</td><td>1</td></tr><tr><td>Otávio</td><td>Atlético-MG</td><td>1</td></tr><tr><td>Pablo</td><td>Athletico-PR</td><td>1</td></tr><tr><td>Pablo Baianinho</td><td>EC Vitória</td><td>1</td></tr><tr><td>Pablo Galdames Millán</td><td>Vasco da Gama</td><td>1</td></tr><tr><td>Pablo Maia</td><td>São Paulo</td><td>1</td></tr><tr><td>Pablo Vegetti</td><td>Vasco da Gama</td><td>1</td></tr><tr><td>Patric Calmon PK</td><td>EC Vitória</td><td>1</td></tr><tr><td>Patrick de Paula</td><td>Criciúma</td><td>1</td></tr><tr><td>Patrick de Paula</td><td>Botafogo</td><td>1</td></tr><tr><td>Patryck</td><td>São Paulo</td><td>1</td></tr><tr><td>Paulinho</td><td>Atlético-MG</td><td>1</td></tr><tr><td>Paulinho</td><td>Corinthians</td><td>1</td></tr><tr><td>Paulinho</td><td>Vasco da Gama</td><td>1</td></tr><tr><td>Paulo Henrique</td><td>Vasco da Gama</td><td>1</td></tr><tr><td>Paulo Vitor</td><td>Atlético-MG</td><td>1</td></tr><tr><td>Pedrinho</td><td>Atlético-MG</td><td>1</td></tr><tr><td>Pedro</td><td>Flamengo</td><td>1</td></tr><tr><td>Pedro Borges</td><td>Fortaleza</td><td>1</td></tr><tr><td>Pedro Geromel</td><td>Grêmio</td><td>1</td></tr><tr><td>Pedro Henrique</td><td>Bragantino</td><td>1</td></tr><tr><td>Pedro Henrique</td><td>Corinthians</td><td>1</td></tr><tr><td>Pedro Paranhos</td><td>Atlético-GO</td><td>1</td></tr><tr><td>Pedro Rangel</td><td>Atlético-GO</td><td>1</td></tr><tr><td>Pedro Raul</td><td>Corinthians</td><td>1</td></tr><tr><td>Pedro Rocha Neves</td><td>Fortaleza</td><td>1</td></tr><tr><td>Pedro Rocha Neves</td><td>Criciúma</td><td>1</td></tr><tr><td>Pedrão</td><td>Atlético-GO</td><td>1</td></tr><tr><td>Peixoto</td><td>Juventude</td><td>1</td></tr><tr><td>Philipe Sampaio</td><td>Atlético-GO</td><td>1</td></tr><tr><td>Philippe Coutinho</td><td>Vasco da Gama</td><td>1</td></tr><tr><td>Rafael</td><td>Botafogo</td><td>1</td></tr><tr><td>Rafael Borré</td><td>Internacional</td><td>1</td></tr><tr><td>Rafael Cabral</td><td>Grêmio</td><td>1</td></tr><tr><td>Rafael Elias</td><td>Cruzeiro</td><td>1</td></tr><tr><td>Rafael Haller</td><td>Atlético-GO</td><td>1</td></tr><tr><td>Rafael Pires</td><td>São Paulo</td><td>1</td></tr><tr><td>Rafael Ratão</td><td>Bahia</td><td>1</td></tr><tr><td>Rafael Silva</td><td>Cruzeiro</td><td>1</td></tr><tr><td>Rafinha</td><td>São Paulo</td><td>1</td></tr><tr><td>Railan</td><td>Cuiabá</td><td>1</td></tr><tr><td>Ramiro Benetti</td><td>Cruzeiro</td><td>1</td></tr><tr><td>Ramon</td><td>Cuiabá</td><td>1</td></tr><tr><td>Randerson</td><td>Atlético-GO</td><td>1</td></tr><tr><td>Raniele</td><td>Corinthians</td><td>1</td></tr><tr><td>Raphael Veiga</td><td>Palmeiras</td><td>1</td></tr><tr><td>Raul</td><td>Bragantino</td><td>1</td></tr><tr><td>Raul Bicalho</td><td>Corinthians</td><td>1</td></tr><tr><td>Rayan Vitor</td><td>Vasco da Gama</td><td>1</td></tr><tr><td>Raúl Cáceres</td><td>EC Vitória</td><td>1</td></tr><tr><td>Reinaldo</td><td>Grêmio</td><td>1</td></tr><tr><td>Renato Augusto</td><td>Fluminense</td><td>1</td></tr><tr><td>Renato Kayser</td><td>Criciúma</td><td>1</td></tr><tr><td>Renato Kayser</td><td>Fortaleza</td><td>1</td></tr><tr><td>Renzo Saravia</td><td>Atlético-MG</td><td>1</td></tr><tr><td>Renê</td><td>Internacional</td><td>1</td></tr><tr><td>Reynaldo Cesar Moraes</td><td>EC Vitória</td><td>1</td></tr><tr><td>Rezende</td><td>Bahia</td><td>1</td></tr><tr><td>Rhaldney</td><td>Atlético-GO</td><td>1</td></tr><tr><td>Ricardo</td><td>EC Vitória</td><td>1</td></tr><tr><td>Ricardo Mathias</td><td>Internacional</td><td>1</td></tr><tr><td>Richard Ríos</td><td>Palmeiras</td><td>1</td></tr><tr><td>Rikelme</td><td>Cuiabá</td><td>1</td></tr><tr><td>Rildo</td><td>Juventude</td><td>1</td></tr><tr><td>Riquelme</td><td>Bragantino</td><td>1</td></tr><tr><td>Robert</td><td>Cruzeiro</td><td>1</td></tr><tr><td>Robert Arboleda</td><td>São Paulo</td><td>1</td></tr><tr><td>Robert Conceição</td><td>Atlético-MG</td><td>1</td></tr><tr><td>Robert Renan</td><td>Internacional</td><td>1</td></tr><tr><td>Robert Rojas</td><td>Vasco da Gama</td><td>1</td></tr><tr><td>Rodrigo</td><td>São Paulo</td><td>1</td></tr><tr><td>Rodrigo Andrade</td><td>EC Vitória</td><td>1</td></tr><tr><td>Rodrigo Battaglia</td><td>Atlético-MG</td><td>1</td></tr><tr><td>Rodrigo Caio</td><td>Grêmio</td><td>1</td></tr><tr><td>Rodrigo Ely</td><td>Grêmio</td><td>1</td></tr><tr><td>Rodrigo Fagundes</td><td>Criciúma</td><td>1</td></tr><tr><td>Rodrigo Garro</td><td>Corinthians</td><td>1</td></tr><tr><td>Rodrigo Nestor</td><td>São Paulo</td><td>1</td></tr><tr><td>Rodrigo Sam</td><td>Juventude</td><td>1</td></tr><tr><td>Romulo</td><td>Internacional</td><td>1</td></tr><tr><td>Romulo</td><td>Palmeiras</td><td>1</td></tr><tr><td>Ronald</td><td>Grêmio</td><td>1</td></tr><tr><td>Ronald</td><td>Criciúma</td><td>1</td></tr><tr><td>Ronaldo</td><td>Atlético-GO</td><td>1</td></tr><tr><td>Ronaldo</td><td>Juventude</td><td>1</td></tr><tr><td>Ronie Carrillo</td><td>Juventude</td><td>1</td></tr><tr><td>Rony</td><td>Palmeiras</td><td>1</td></tr><tr><td>Rossi</td><td>Vasco da Gama</td><td>1</td></tr><tr><td>Ruan</td><td>Juventude</td><td>1</td></tr><tr><td>Ruan</td><td>São Paulo</td><td>1</td></tr><tr><td>Ruan Pablo</td><td>Bahia</td><td>1</td></tr><tr><td>Rubens</td><td>Atlético-MG</td><td>1</td></tr><tr><td>Ryan Francisco</td><td>São Paulo</td><td>1</td></tr><tr><td>Ryan Gustavo</td><td>Corinthians</td><td>1</td></tr><tr><td>Rômulo</td><td>Atlético-MG</td><td>1</td></tr><tr><td>Samuel Xavier</td><td>Fluminense</td><td>1</td></tr><tr><td>Santiago Arias</td><td>Bahia</td><td>1</td></tr><tr><td>Santiago Longo</td><td>São Paulo</td><td>1</td></tr><tr><td>Sergio Antonio De Luiz Junior</td><td>Criciúma</td><td>1</td></tr><tr><td>Sergio Antonio De Luiz Junior</td><td>Vasco da Gama</td><td>1</td></tr><tr><td>Sergio Palacios</td><td>Bragantino</td><td>1</td></tr><tr><td>Sergio Rochet</td><td>Internacional</td><td>1</td></tr><tr><td>Shaylon</td><td>Atlético-GO</td><td>1</td></tr><tr><td>Talisson</td><td>Bragantino</td><td>1</td></tr><tr><td>Talles Magno</td><td>Corinthians</td><td>1</td></tr><tr><td>Tchê Tchê</td><td>Botafogo</td><td>1</td></tr><tr><td>Tevis Gabriel Alves Santos</td><td>Cruzeiro</td><td>1</td></tr><tr><td>Thaciano</td><td>Bahia</td><td>1</td></tr><tr><td>Thiago Almada</td><td>Botafogo</td><td>1</td></tr><tr><td>Thiago Borbas</td><td>Bragantino</td><td>1</td></tr><tr><td>Thiago Heleno</td><td>Athletico-PR</td><td>1</td></tr><tr><td>Thiago Maia</td><td>Internacional</td><td>1</td></tr><tr><td>Thiago Silva</td><td>Fluminense</td><td>1</td></tr><tr><td>Thiago dos Santos</td><td>Fluminense</td><td>1</td></tr><tr><td>Thiaguinho</td><td>Juventude</td><td>1</td></tr><tr><td>Tiago</td><td>Bahia</td><td>1</td></tr><tr><td>Tiquinho Soares</td><td>Botafogo</td><td>1</td></tr><tr><td>Titi</td><td>Fortaleza</td><td>1</td></tr><tr><td>Tobias Figueiredo</td><td>Criciúma</td><td>1</td></tr><tr><td>Tomas Pochettino</td><td>Fortaleza</td><td>1</td></tr><tr><td>Tomás Cardona</td><td>Fortaleza</td><td>1</td></tr><tr><td>Tomás Cuello</td><td>Athletico-PR</td><td>1</td></tr><tr><td>Vanderlan</td><td>Palmeiras</td><td>1</td></tr><tr><td>Victor Hugo</td><td>Flamengo</td><td>1</td></tr><tr><td>Victor Hugo</td><td>Atlético-MG</td><td>1</td></tr><tr><td>Victor Hugo</td><td>Fluminense</td><td>1</td></tr><tr><td>Victor Hugo</td><td>Bragantino</td><td>1</td></tr><tr><td>Victor Luis</td><td>Vasco da Gama</td><td>1</td></tr><tr><td>Vinicius Mendonça</td><td>Bragantino</td><td>1</td></tr><tr><td>Vitinho</td><td>Bragantino</td><td>1</td></tr><tr><td>Vitinho</td><td>Botafogo</td><td>1</td></tr><tr><td>Vitor Eudes</td><td>Fluminense</td><td>1</td></tr><tr><td>Vitor Hugo</td><td>Bahia</td><td>1</td></tr><tr><td>Vitor Hugo Amorim</td><td>Cruzeiro</td><td>1</td></tr><tr><td>Vitor Reis</td><td>Palmeiras</td><td>1</td></tr><tr><td>Vitão</td><td>Internacional</td><td>1</td></tr><tr><td>Vágner Love</td><td>Atlético-GO</td><td>1</td></tr><tr><td>Víctor Cuesta</td><td>Bahia</td><td>1</td></tr><tr><td>Wagner</td><td>EC Vitória</td><td>1</td></tr><tr><td>Walace</td><td>Cruzeiro</td><td>1</td></tr><tr><td>Walisson Maia</td><td>Criciúma</td><td>1</td></tr><tr><td>Wallace</td><td>Flamengo</td><td>1</td></tr><tr><td>Walter</td><td>Cuiabá</td><td>1</td></tr><tr><td>Walter Kannemann</td><td>Grêmio</td><td>1</td></tr><tr><td>Wanderson</td><td>Internacional</td><td>1</td></tr><tr><td>Welington</td><td>São Paulo</td><td>1</td></tr><tr><td>Wellington Rato</td><td>São Paulo</td><td>1</td></tr><tr><td>Werik Popó</td><td>Juventude</td><td>1</td></tr><tr><td>Werik Popó</td><td>Criciúma</td><td>1</td></tr><tr><td>Werton</td><td>Flamengo</td><td>1</td></tr><tr><td>Wesley</td><td>Flamengo</td><td>1</td></tr><tr><td>Wesley</td><td>Internacional</td><td>1</td></tr><tr><td>Wesley</td><td>Corinthians</td><td>1</td></tr><tr><td>Wesley Gasolina</td><td>Cruzeiro</td><td>1</td></tr><tr><td>Weverton</td><td>Cruzeiro</td><td>1</td></tr><tr><td>Wilker Ángel</td><td>Criciúma</td><td>1</td></tr><tr><td>Willean Lepo</td><td>EC Vitória</td><td>1</td></tr><tr><td>William</td><td>Cruzeiro</td><td>1</td></tr><tr><td>William Gomes</td><td>São Paulo</td><td>1</td></tr><tr><td>Willian</td><td>EC Vitória</td><td>1</td></tr><tr><td>Wéverton</td><td>Palmeiras</td><td>1</td></tr><tr><td>Yago</td><td>Bahia</td><td>1</td></tr><tr><td>Yago Pikachu</td><td>Fortaleza</td><td>1</td></tr><tr><td>Yan Souto</td><td>Juventude</td><td>1</td></tr><tr><td>Yannick Bolasie</td><td>Criciúma</td><td>1</td></tr><tr><td>Yarlen Augusto</td><td>Botafogo</td><td>1</td></tr><tr><td>Yeferson Rodallega</td><td>Atlético-GO</td><td>1</td></tr><tr><td>Yeferson Soteldo</td><td>Grêmio</td><td>1</td></tr><tr><td>Yerson Candelo</td><td>Criciúma</td><td>1</td></tr><tr><td>Yony González</td><td>Atlético-GO</td><td>1</td></tr><tr><td>Yuri Alberto</td><td>Corinthians</td><td>1</td></tr><tr><td>Zeca</td><td>EC Vitória</td><td>1</td></tr><tr><td>Zé Gabriel</td><td>Vasco da Gama</td><td>1</td></tr><tr><td>Zé Guilherme</td><td>Grêmio</td><td>1</td></tr><tr><td>Zé Ivaldo</td><td>Cruzeiro</td><td>1</td></tr><tr><td>Zé Marcos</td><td>Juventude</td><td>1</td></tr><tr><td>Zé Rafael</td><td>Palmeiras</td><td>1</td></tr><tr><td>Álvaro Barreal</td><td>Cruzeiro</td><td>1</td></tr><tr><td>Ángel Romero</td><td>Corinthians</td><td>1</td></tr><tr><td>Éder</td><td>Criciúma</td><td>1</td></tr><tr><td>Éverson</td><td>Atlético-MG</td><td>1</td></tr><tr><td>Óscar Romero</td><td>Botafogo</td><td>1</td></tr></tbody></table></div>"
      ]
     },
     "metadata": {
      "application/vnd.databricks.v1+output": {
       "addedWidgets": {},
       "aggData": [],
       "aggError": "",
       "aggOverflow": false,
       "aggSchema": [],
       "aggSeriesLimitReached": false,
       "aggType": "",
       "arguments": {},
       "columnCustomDisplayInfos": {},
       "data": [
        [
         "Abner",
         "Juventude",
         1
        ],
        [
         "Ademir Santos",
         "Bahia",
         1
        ],
        [
         "Adriano Martins",
         "Atlético-GO",
         1
        ],
        [
         "Adriel",
         "Bahia",
         1
        ],
        [
         "Adryelson",
         "Botafogo",
         1
        ],
        [
         "Adson",
         "Vasco da Gama",
         1
        ],
        [
         "Agustín Canobbio",
         "Athletico-PR",
         1
        ],
        [
         "Agustín Giay",
         "Palmeiras",
         1
        ],
        [
         "Agustín Marchesín",
         "Grêmio",
         1
        ],
        [
         "Agustín Rogel",
         "Internacional",
         1
        ],
        [
         "Agustín Rossi",
         "Flamengo",
         1
        ],
        [
         "Alan Empereur",
         "Cuiabá",
         1
        ],
        [
         "Alan Franco",
         "Atlético-MG",
         1
        ],
        [
         "Alan Franco",
         "São Paulo",
         1
        ],
        [
         "Alan Kardec",
         "Atlético-MG",
         1
        ],
        [
         "Alan Patrick",
         "Internacional",
         1
        ],
        [
         "Alan Ruschel",
         "Juventude",
         1
        ],
        [
         "Alejo Cruz",
         "Atlético-GO",
         1
        ],
        [
         "Alerrandro",
         "EC Vitória",
         1
        ],
        [
         "Alex Sandro",
         "Flamengo",
         1
        ],
        [
         "Alex Santana",
         "Athletico-PR",
         1
        ],
        [
         "Alex Santana",
         "Corinthians",
         1
        ],
        [
         "Alex Teixeira",
         "Vasco da Gama",
         1
        ],
        [
         "Alex Telles",
         "Botafogo",
         1
        ],
        [
         "Alexander Aravena",
         "Grêmio",
         1
        ],
        [
         "Alexander Barboza",
         "Botafogo",
         1
        ],
        [
         "Alexandro Bernabei",
         "Internacional",
         1
        ],
        [
         "Alexsander",
         "Fluminense",
         1
        ],
        [
         "Alisson",
         "São Paulo",
         1
        ],
        [
         "Alisson",
         "Criciúma",
         1
        ],
        [
         "Alisson",
         "Atlético-MG",
         1
        ],
        [
         "Alix Vinicius",
         "Atlético-GO",
         1
        ],
        [
         "Allan",
         "Flamengo",
         1
        ],
        [
         "Allan",
         "Botafogo",
         1
        ],
        [
         "Allano",
         "Criciúma",
         1
        ],
        [
         "Allyson Aires dos Santos",
         "Cuiabá",
         1
        ],
        [
         "Alysson Edward",
         "Grêmio",
         1
        ],
        [
         "Anderson",
         "Cruzeiro",
         1
        ],
        [
         "André",
         "Fluminense",
         1
        ],
        [
         "André Carrillo",
         "Corinthians",
         1
        ],
        [
         "André Luis",
         "Cuiabá",
         1
        ],
        [
         "André Ramalho",
         "Corinthians",
         1
        ],
        [
         "André Silva",
         "São Paulo",
         1
        ],
        [
         "Anthoni",
         "Internacional",
         1
        ],
        [
         "Antonio Carlos",
         "Fluminense",
         1
        ],
        [
         "Aníbal Moreno",
         "Palmeiras",
         1
        ],
        [
         "Arthur",
         "Cruzeiro",
         1
        ],
        [
         "Arthur",
         "Bragantino",
         1
        ],
        [
         "Arthur",
         "Criciúma",
         1
        ],
        [
         "Arthur Rodrigues",
         "Cruzeiro",
         1
        ],
        [
         "Ayrton Lucas",
         "Flamengo",
         1
        ],
        [
         "Barreto",
         "Criciúma",
         1
        ],
        [
         "Bastos",
         "Botafogo",
         1
        ],
        [
         "Benjamín Kuscevic",
         "Fortaleza",
         1
        ],
        [
         "Bento",
         "Athletico-PR",
         1
        ],
        [
         "Bernard",
         "Atlético-MG",
         1
        ],
        [
         "Biel",
         "Bahia",
         1
        ],
        [
         "Biro",
         "Corinthians",
         1
        ],
        [
         "Brahian Palacios",
         "Atlético-MG",
         1
        ],
        [
         "Braian Aguirre",
         "Internacional",
         1
        ],
        [
         "Breno",
         "Fortaleza",
         1
        ],
        [
         "Breno",
         "Corinthians",
         1
        ],
        [
         "Bruninho",
         "Bragantino",
         1
        ],
        [
         "Bruno Fabiano Alves",
         "Cuiabá",
         1
        ],
        [
         "Bruno Fuchs",
         "Atlético-MG",
         1
        ],
        [
         "Bruno Gomes",
         "Internacional",
         1
        ],
        [
         "Bruno Henrique",
         "Flamengo",
         1
        ],
        [
         "Bruno Henrique",
         "Internacional",
         1
        ],
        [
         "Bruno Lopes",
         "Vasco da Gama",
         1
        ],
        [
         "Bruno Pacheco",
         "Fortaleza",
         1
        ],
        [
         "Bruno Praxedes",
         "Athletico-PR",
         1
        ],
        [
         "Bruno Praxedes",
         "Vasco da Gama",
         1
        ],
        [
         "Bruno Tabata",
         "Internacional",
         1
        ],
        [
         "Bruno Tubarão",
         "Atlético-GO",
         1
        ],
        [
         "Bruno Uvini",
         "EC Vitória",
         1
        ],
        [
         "Bruno Zapelli",
         "Athletico-PR",
         1
        ],
        [
         "Budiga Roni",
         "Atlético-GO",
         1
        ],
        [
         "Cacá",
         "Corinthians",
         1
        ],
        [
         "Caetano",
         "Corinthians",
         1
        ],
        [
         "Caio Alexandre",
         "Bahia",
         1
        ],
        [
         "Caio Maia",
         "Atlético-MG",
         1
        ],
        [
         "Caio Paulista",
         "Palmeiras",
         1
        ],
        [
         "Caio Vinícius",
         "EC Vitória",
         1
        ],
        [
         "Calebe",
         "Fortaleza",
         1
        ],
        [
         "Camutanga",
         "EC Vitória",
         1
        ],
        [
         "Carlinhos",
         "Flamengo",
         1
        ],
        [
         "Carlos Alberto",
         "Botafogo",
         1
        ],
        [
         "Carlos Alcaraz",
         "Flamengo",
         1
        ],
        [
         "Carlos Eduardo",
         "Atlético-MG",
         1
        ],
        [
         "Carlos Eduardo",
         "EC Vitória",
         1
        ],
        [
         "Carlos Eduardo",
         "Botafogo",
         1
        ],
        [
         "Carlos Miguel",
         "Corinthians",
         1
        ],
        [
         "Carlos de Pena",
         "Bahia",
         1
        ],
        [
         "Cauly Oliveira Souza",
         "Bahia",
         1
        ],
        [
         "Caíque",
         "Grêmio",
         1
        ],
        [
         "Caíque de Jesus Gonçalves",
         "Juventude",
         1
        ],
        [
         "Charles Aránguiz",
         "Internacional",
         1
        ],
        [
         "Charles Rigon Matos",
         "Corinthians",
         1
        ],
        [
         "Christian",
         "Athletico-PR",
         1
        ],
        [
         "Chumbinho",
         "Bragantino",
         1
        ],
        [
         "Cicinho",
         "Bahia",
         1
        ],
        [
         "Claudinho",
         "Criciúma",
         1
        ],
        [
         "Clayson",
         "Cuiabá",
         1
        ],
        [
         "Clayton",
         "Internacional",
         1
        ],
        [
         "Clayton",
         "Vasco da Gama",
         1
        ],
        [
         "Cleiton",
         "Flamengo",
         1
        ],
        [
         "Cleiton Schwengber",
         "Bragantino",
         1
        ],
        [
         "Cristian Pavón",
         "Grêmio",
         1
        ],
        [
         "Cuiabano",
         "Grêmio",
         1
        ],
        [
         "Cuiabano",
         "Botafogo",
         1
        ],
        [
         "Cássio",
         "Cruzeiro",
         1
        ],
        [
         "Cássio",
         "Corinthians",
         1
        ],
        [
         "Damián Bobadilla",
         "São Paulo",
         1
        ],
        [
         "Damián Suárez",
         "Botafogo",
         1
        ],
        [
         "Daniel Jr",
         "EC Vitória",
         1
        ],
        [
         "Daniel Sales",
         "Flamengo",
         1
        ],
        [
         "Danielzinho",
         "Atlético-GO",
         1
        ],
        [
         "Danilo Barbosa",
         "Botafogo",
         1
        ],
        [
         "Danilo Boza",
         "Juventude",
         1
        ],
        [
         "Danilo Fernandes",
         "Bahia",
         1
        ],
        [
         "Davi Goes",
         "Juventude",
         1
        ],
        [
         "David",
         "Vasco da Gama",
         1
        ],
        [
         "David",
         "Cuiabá",
         1
        ],
        [
         "David",
         "Juventude",
         1
        ],
        [
         "David Duarte",
         "Bahia",
         1
        ],
        [
         "David Luiz",
         "Flamengo",
         1
        ],
        [
         "David Terans",
         "Fluminense",
         1
        ],
        [
         "Denilson",
         "Cuiabá",
         1
        ],
        [
         "Derek",
         "Atlético-GO",
         1
        ],
        [
         "Derik Lacerda",
         "Cuiabá",
         1
        ],
        [
         "Deyverson",
         "Cuiabá",
         1
        ],
        [
         "Deyverson",
         "Atlético-MG",
         1
        ],
        [
         "Diego",
         "São Paulo",
         1
        ],
        [
         "Diego Costa",
         "Grêmio",
         1
        ],
        [
         "Diego Gonçalves",
         "Juventude",
         1
        ],
        [
         "Diego Hernández",
         "Botafogo",
         1
        ],
        [
         "Dimitri Payet",
         "Vasco da Gama",
         1
        ],
        [
         "Diogo Barbosa",
         "Fluminense",
         1
        ],
        [
         "Dodi",
         "Grêmio",
         1
        ],
        [
         "Douglas Costa",
         "Fluminense",
         1
        ],
        [
         "Douglas Mendes",
         "Bragantino",
         1
        ],
        [
         "Du Queiroz",
         "Grêmio",
         1
        ],
        [
         "Dudu",
         "Palmeiras",
         1
        ],
        [
         "Dudu",
         "EC Vitória",
         1
        ],
        [
         "Dudu Vieira",
         "Juventude",
         1
        ],
        [
         "Dé Marcão",
         "Atlético-GO",
         1
        ],
        [
         "EDU",
         "EC Vitória",
         1
        ],
        [
         "Edenílson",
         "Grêmio",
         1
        ],
        [
         "Edson Carioca",
         "Juventude",
         1
        ],
        [
         "Eduardo Melo",
         "Criciúma",
         1
        ],
        [
         "Eduardo Santos",
         "Bragantino",
         1
        ],
        [
         "Eduardo Sasha",
         "Bragantino",
         1
        ],
        [
         "Eduardo Vargas",
         "Atlético-MG",
         1
        ],
        [
         "Eduardo Vinícius",
         "Cuiabá",
         1
        ],
        [
         "Eli",
         "Atlético-GO",
         1
        ],
        [
         "Eliel Chrystian",
         "Cuiabá",
         1
        ],
        [
         "Eliédson",
         "Criciúma",
         1
        ],
        [
         "Emanuel Brítez",
         "Fortaleza",
         1
        ],
        [
         "Emerson Rodríguez",
         "Vasco da Gama",
         1
        ],
        [
         "Emersonn",
         "Athletico-PR",
         1
        ],
        [
         "Emiliano Rodríguez",
         "Atlético-GO",
         1
        ],
        [
         "Endrick",
         "Palmeiras",
         1
        ],
        [
         "Enner Valencia",
         "Internacional",
         1
        ],
        [
         "Eric Ramires",
         "Bragantino",
         1
        ],
        [
         "Erick",
         "Athletico-PR",
         1
        ],
        [
         "Erick",
         "São Paulo",
         1
        ],
        [
         "Erick",
         "Juventude",
         1
        ],
        [
         "Erick Castillo",
         "EC Vitória",
         1
        ],
        [
         "Erick Marcus",
         "Vasco da Gama",
         1
        ],
        [
         "Erick Pulgar",
         "Flamengo",
         1
        ],
        [
         "Eros Mancuso",
         "Fortaleza",
         1
        ],
        [
         "Esquerdinha",
         "Fluminense",
         1
        ],
        [
         "Estevão",
         "Palmeiras",
         1
        ],
        [
         "Everaldo",
         "EC Vitória",
         1
        ],
        [
         "Everaldo Stum",
         "Bahia",
         1
        ],
        [
         "Everton",
         "Grêmio",
         1
        ],
        [
         "Everton",
         "Bragantino",
         1
        ],
        [
         "Everton Ribeiro",
         "Bahia",
         1
        ],
        [
         "Everton Soares",
         "Flamengo",
         1
        ],
        [
         "Evertton",
         "Flamengo",
         1
        ],
        [
         "Ewerton",
         "Juventude",
         1
        ],
        [
         "Fabiano",
         "Botafogo",
         1
        ],
        [
         "Fabinho",
         "Palmeiras",
         1
        ],
        [
         "Fabricio Bustos",
         "Internacional",
         1
        ],
        [
         "Fabrizio Peralta",
         "Cruzeiro",
         1
        ],
        [
         "Fabrício",
         "Internacional",
         1
        ],
        [
         "Fabrício",
         "Bragantino",
         1
        ],
        [
         "Fabrício Bruno",
         "Flamengo",
         1
        ],
        [
         "Facundo Bernal",
         "Fluminense",
         1
        ],
        [
         "Fagner",
         "Corinthians",
         1
        ],
        [
         "Fausto Vera",
         "Atlético-MG",
         1
        ],
        [
         "Fausto Vera",
         "Corinthians",
         1
        ],
        [
         "Federico Zaracho",
         "Atlético-MG",
         1
        ],
        [
         "Felipe Anderson",
         "Palmeiras",
         1
        ],
        [
         "Felipe Carballo",
         "Grêmio",
         1
        ],
        [
         "Felipe Jonatan",
         "Fortaleza",
         1
        ],
        [
         "Felipe Melo",
         "Fluminense",
         1
        ],
        [
         "Felipe Teresa",
         "Flamengo",
         1
        ],
        [
         "Felipe Vieira",
         "Fluminense",
         1
        ],
        [
         "Felipe Vizeu",
         "Criciúma",
         1
        ],
        [
         "Felipinho",
         "Athletico-PR",
         1
        ],
        [
         "Fellipe Mateus",
         "Criciúma",
         1
        ],
        [
         "Fernandinho",
         "Athletico-PR",
         1
        ],
        [
         "Fernando",
         "Athletico-PR",
         1
        ],
        [
         "Fernando",
         "Internacional",
         1
        ],
        [
         "Fernando Marçal",
         "Botafogo",
         1
        ],
        [
         "Fernando Sobral",
         "Cuiabá",
         1
        ],
        [
         "Ferreira",
         "São Paulo",
         1
        ],
        [
         "Filipe Augusto",
         "Cuiabá",
         1
        ],
        [
         "Filipinho",
         "Athletico-PR",
         1
        ],
        [
         "Franco Cristaldo",
         "Grêmio",
         1
        ],
        [
         "Fábio",
         "Fluminense",
         1
        ],
        [
         "Fábio",
         "Grêmio",
         1
        ],
        [
         "Fábio Soares",
         "EC Vitória",
         1
        ],
        [
         "Félix Torres Caicedo",
         "Corinthians",
         1
        ],
        [
         "Gabriel",
         "Bahia",
         1
        ],
        [
         "Gabriel",
         "Juventude",
         1
        ],
        [
         "Gabriel",
         "Athletico-PR",
         1
        ],
        [
         "Gabriel",
         "Fluminense",
         1
        ],
        [
         "Gabriel Baralhas",
         "Atlético-GO",
         1
        ],
        [
         "Gabriel Barbosa",
         "Flamengo",
         1
        ],
        [
         "Gabriel Barros",
         "Atlético-GO",
         1
        ],
        [
         "Gabriel Carvalho",
         "Internacional",
         1
        ],
        [
         "Gabriel Delfim",
         "Atlético-MG",
         1
        ],
        [
         "Gabriel Fuentes",
         "Fluminense",
         1
        ],
        [
         "Gabriel Inocêncio",
         "Juventude",
         1
        ],
        [
         "Gabriel Knesowitsch",
         "Cuiabá",
         1
        ],
        [
         "Gabriel Menino",
         "Palmeiras",
         1
        ],
        [
         "Gabriel Mercado",
         "Internacional",
         1
        ],
        [
         "Gabriel Moscardo",
         "Corinthians",
         1
        ],
        [
         "Gabriel Souza",
         "Vasco da Gama",
         1
        ],
        [
         "Gabriel Taliari",
         "Juventude",
         1
        ],
        [
         "Gabriel Veron",
         "Cruzeiro",
         1
        ],
        [
         "Ganso",
         "Fluminense",
         1
        ],
        [
         "García",
         "Palmeiras",
         1
        ],
        [
         "Gary Medel",
         "Vasco da Gama",
         1
        ],
        [
         "Gatito Fernández",
         "Botafogo",
         1
        ],
        [
         "Germán Cano",
         "Fluminense",
         1
        ],
        [
         "Gerson",
         "Flamengo",
         1
        ],
        [
         "Gilberto",
         "Bahia",
         1
        ],
        [
         "Gilberto",
         "Juventude",
         1
        ],
        [
         "Giorgian De Arrascaeta",
         "Flamengo",
         1
        ],
        [
         "Giovane",
         "Corinthians",
         1
        ],
        [
         "Giuliano Galoppo",
         "São Paulo",
         1
        ],
        [
         "Gonzalo Freitas",
         "Atlético-GO",
         1
        ],
        [
         "Gonzalo Mastriani",
         "Athletico-PR",
         1
        ],
        [
         "Gonzalo Plata",
         "Flamengo",
         1
        ],
        [
         "Gregore",
         "Botafogo",
         1
        ],
        [
         "Guga",
         "Fluminense",
         1
        ],
        [
         "Guilherme",
         "Bragantino",
         1
        ],
        [
         "Guilherme",
         "Flamengo",
         1
        ],
        [
         "Guilherme Arana",
         "Atlético-MG",
         1
        ],
        [
         "Guilherme Estrella",
         "Vasco da Gama",
         1
        ],
        [
         "Guilherme Madruga",
         "Cuiabá",
         1
        ],
        [
         "Guilherme Romão",
         "Atlético-GO",
         1
        ],
        [
         "Guilherme Tinga",
         "Fortaleza",
         1
        ],
        [
         "Guillermo Varela",
         "Flamengo",
         1
        ],
        [
         "Gustavinho",
         "Bragantino",
         1
        ],
        [
         "Gustavo",
         "Criciúma",
         1
        ],
        [
         "Gustavo Campanharo",
         "Atlético-GO",
         1
        ],
        [
         "Gustavo Gómez",
         "Palmeiras",
         1
        ],
        [
         "Gustavo Henrique",
         "Corinthians",
         1
        ],
        [
         "Gustavo Martins Santos",
         "Grêmio",
         1
        ],
        [
         "Gustavo Mosquito",
         "Corinthians",
         1
        ],
        [
         "Gustavo Mosquito",
         "EC Vitória",
         1
        ],
        [
         "Gustavo Nunes",
         "Grêmio",
         1
        ],
        [
         "Gustavo Prado",
         "Internacional",
         1
        ],
        [
         "Gustavo Sauer",
         "Cuiabá",
         1
        ],
        [
         "Gustavo Scarpa",
         "Atlético-MG",
         1
        ],
        [
         "Helibelton Palacios",
         "Cruzeiro",
         1
        ],
        [
         "Helinho",
         "Bragantino",
         1
        ],
        [
         "Henrique",
         "São Paulo",
         1
        ],
        [
         "Henry Mosquera",
         "Bragantino",
         1
        ],
        [
         "Higor Meritão",
         "Criciúma",
         1
        ],
        [
         "Hugo",
         "Botafogo",
         1
        ],
        [
         "Hugo",
         "Corinthians",
         1
        ],
        [
         "Hugo Mallo",
         "Internacional",
         1
        ],
        [
         "Hugo Moura",
         "Vasco da Gama",
         1
        ],
        [
         "Hugo Souza",
         "Corinthians",
         1
        ],
        [
         "Hulk",
         "Atlético-MG",
         1
        ],
        [
         "Hyoran",
         "Internacional",
         1
        ],
        [
         "Héctor",
         "Corinthians",
         1
        ],
        [
         "Hércules",
         "Fortaleza",
         1
        ],
        [
         "Iago",
         "Bahia",
         1
        ],
        [
         "Ignacio Laquintana",
         "Bragantino",
         1
        ],
        [
         "Ignácio",
         "Fluminense",
         1
        ],
        [
         "Igor",
         "Botafogo",
         1
        ],
        [
         "Igor",
         "São Paulo",
         1
        ],
        [
         "Igor",
         "Flamengo",
         1
        ],
        [
         "Igor Coronado",
         "Corinthians",
         1
        ],
        [
         "Igor Gomes",
         "Internacional",
         1
        ],
        [
         "Igor Gomes",
         "Atlético-MG",
         1
        ],
        [
         "Igor Jesus",
         "Botafogo",
         1
        ],
        [
         "Igor Rabello",
         "Atlético-MG",
         1
        ],
        [
         "Igor Schlemper",
         "Grêmio",
         1
        ],
        [
         "Igor Vinícius de Souza",
         "São Paulo",
         1
        ],
        [
         "Imanol Machuca",
         "Fortaleza",
         1
        ],
        [
         "Isaac",
         "Atlético-MG",
         1
        ],
        [
         "Isaac",
         "Fluminense",
         1
        ],
        [
         "Isaque",
         "Fluminense",
         1
        ],
        [
         "Isidro Pitta",
         "Cuiabá",
         1
        ],
        [
         "Iury de Castilho",
         "EC Vitória",
         1
        ],
        [
         "Ivan Cavaleiro",
         "Bragantino",
         1
        ],
        [
         "Jacob Montes",
         "Botafogo",
         1
        ],
        [
         "Jadsom",
         "Bragantino",
         1
        ],
        [
         "Jadson",
         "Juventude",
         1
        ],
        [
         "Jadson",
         "Cuiabá",
         1
        ],
        [
         "Jair",
         "Vasco da Gama",
         1
        ],
        [
         "Jamal Lewis",
         "São Paulo",
         1
        ],
        [
         "James Rodríguez",
         "São Paulo",
         1
        ],
        [
         "Jan Carlos Hurtado",
         "Atlético-GO",
         1
        ],
        [
         "Jan Lucumí González",
         "Fluminense",
         1
        ],
        [
         "Janderson",
         "EC Vitória",
         1
        ],
        [
         "Janderson",
         "Atlético-GO",
         1
        ],
        [
         "Jandrei",
         "São Paulo",
         1
        ],
        [
         "Jean Carlos Alves Ferreira",
         "Atlético-GO",
         1
        ],
        [
         "Jean Carlos Vicente",
         "Juventude",
         1
        ],
        [
         "Jean Lucas",
         "Bahia",
         1
        ],
        [
         "Jean Meneses",
         "Vasco da Gama",
         1
        ],
        [
         "Jean Mota",
         "EC Vitória",
         1
        ],
        [
         "Jefferson Savarino",
         "Botafogo",
         1
        ],
        [
         "Jeffinho",
         "Botafogo",
         1
        ],
        [
         "Jemerson",
         "Grêmio",
         1
        ],
        [
         "Jemerson",
         "Atlético-MG",
         1
        ],
        [
         "Jhon Arias",
         "Fluminense",
         1
        ],
        [
         "Jhonata Robert",
         "Criciúma",
         1
        ],
        [
         "Jhonatan Jowjow",
         "Palmeiras",
         1
        ],
        [
         "Jhonatan Jowjow",
         "Bragantino",
         1
        ],
        [
         "Jhosefer",
         "Cruzeiro",
         1
        ],
        [
         "Joaquín Piquerez",
         "Palmeiras",
         1
        ],
        [
         "Joel Campbell",
         "Atlético-GO",
         1
        ],
        [
         "John",
         "Botafogo",
         1
        ],
        [
         "John Kennedy",
         "Fluminense",
         1
        ],
        [
         "Jonathan",
         "Criciúma",
         1
        ],
        [
         "Jonathan",
         "Cruzeiro",
         1
        ],
        [
         "Jonathan Cafu",
         "Cuiabá",
         1
        ],
        [
         "Jonathan Calleri",
         "São Paulo",
         1
        ],
        [
         "Jorginho",
         "Atlético-GO",
         1
        ],
        [
         "Josef de Souza",
         "Vasco da Gama",
         1
        ],
        [
         "José Andrés Martínez",
         "Corinthians",
         1
        ],
        [
         "José Breno",
         "EC Vitória",
         1
        ],
        [
         "José Cifuentes",
         "Cruzeiro",
         1
        ],
        [
         "José Hugo",
         "EC Vitória",
         1
        ],
        [
         "José Hurtado",
         "Bragantino",
         1
        ],
        [
         "José Luis Rodríguez Bebanz",
         "Vasco da Gama",
         1
        ],
        [
         "José López",
         "Palmeiras",
         1
        ],
        [
         "José Sabino",
         "São Paulo",
         1
        ],
        [
         "José Vitor Silva Neves",
         "Athletico-PR",
         1
        ],
        [
         "José Welison",
         "Fortaleza",
         1
        ],
        [
         "João Carlos",
         "Criciúma",
         1
        ],
        [
         "João Lucas",
         "Juventude",
         1
        ],
        [
         "João Machado Cruz",
         "Athletico-PR",
         1
        ],
        [
         "João Marcelo",
         "Cruzeiro",
         1
        ],
        [
         "João Moreira",
         "São Paulo",
         1
        ],
        [
         "João Pedro",
         "Corinthians",
         1
        ],
        [
         "João Pedro",
         "Grêmio",
         1
        ],
        [
         "João Pedro",
         "Vasco da Gama",
         1
        ],
        [
         "João Pedro",
         "Cruzeiro",
         1
        ],
        [
         "João Pedro Pepê",
         "Grêmio",
         1
        ],
        [
         "João Ricardo Riedi",
         "Fortaleza",
         1
        ],
        [
         "João Victor",
         "Vasco da Gama",
         1
        ],
        [
         "João Wellington",
         "Cruzeiro",
         1
        ],
        [
         "Juan Ignacio Dinenno",
         "Cruzeiro",
         1
        ],
        [
         "Juan Martín Lucero",
         "Fortaleza",
         1
        ],
        [
         "Juan Pablo",
         "Cuiabá",
         1
        ],
        [
         "Juan Santos",
         "São Paulo",
         1
        ],
        [
         "Juan Sforza",
         "Vasco da Gama",
         1
        ],
        [
         "Juliano",
         "Bragantino",
         1
        ],
        [
         "Julimar",
         "Athletico-PR",
         1
        ],
        [
         "Juninho Capixaba",
         "Bragantino",
         1
        ],
        [
         "Júnior Alonso",
         "Atlético-MG",
         1
        ],
        [
         "Júnior Santos",
         "Botafogo",
         1
        ],
        [
         "Kaiki",
         "Cruzeiro",
         1
        ],
        [
         "Kaiky Naves",
         "Palmeiras",
         1
        ],
        [
         "Kaio Jorge",
         "Cruzeiro",
         1
        ],
        [
         "Kaique Kenji Takamura Correa",
         "Cruzeiro",
         1
        ],
        [
         "Kaique Rocha",
         "Athletico-PR",
         1
        ],
        [
         "Kanu",
         "Bahia",
         1
        ],
        [
         "Kauan",
         "Fortaleza",
         1
        ],
        [
         "Kauan",
         "Cuiabá",
         1
        ],
        [
         "Kauã Elias",
         "Fluminense",
         1
        ],
        [
         "Kauê",
         "Botafogo",
         1
        ],
        [
         "Kayke",
         "Corinthians",
         1
        ],
        [
         "Kayke Santos",
         "Athletico-PR",
         1
        ],
        [
         "Keno",
         "Fluminense",
         1
        ],
        [
         "Kervin Andrade",
         "Fortaleza",
         1
        ],
        [
         "Kevin Serna",
         "Fluminense",
         1
        ],
        [
         "Kleiton",
         "Juventude",
         1
        ],
        [
         "Lautaro Díaz",
         "Cruzeiro",
         1
        ],
        [
         "Lawan",
         "EC Vitória",
         1
        ],
        [
         "Leandrinho",
         "Vasco da Gama",
         1
        ],
        [
         "Leandro Emmanuel Martínez",
         "Fortaleza",
         1
        ],
        [
         "Leo Ortiz",
         "Flamengo",
         1
        ],
        [
         "Leonardo Godoy",
         "Athletico-PR",
         1
        ],
        [
         "Leonardo Linck",
         "Athletico-PR",
         1
        ],
        [
         "Leonardo Realpe",
         "Bragantino",
         1
        ],
        [
         "Lima",
         "Fluminense",
         1
        ],
        [
         "Lincoln",
         "Bragantino",
         1
        ],
        [
         "Liziero",
         "São Paulo",
         1
        ],
        [
         "Lorran",
         "Flamengo",
         1
        ],
        [
         "Luan Cândido",
         "Bragantino",
         1
        ],
        [
         "Luan Garcia",
         "Palmeiras",
         1
        ],
        [
         "Luan Silva",
         "EC Vitória",
         1
        ],
        [
         "Lucas Alario",
         "Internacional",
         1
        ],
        [
         "Lucas Arcanjo",
         "EC Vitória",
         1
        ],
        [
         "Lucas Barbosa",
         "Juventude",
         1
        ],
        [
         "Lucas Belezi",
         "Athletico-PR",
         1
        ],
        [
         "Lucas Calegari",
         "Fluminense",
         1
        ],
        [
         "Lucas Cunha",
         "Bragantino",
         1
        ],
        [
         "Lucas Di Yorio",
         "Athletico-PR",
         1
        ],
        [
         "Lucas Esquivel",
         "Athletico-PR",
         1
        ],
        [
         "Lucas Esteves",
         "EC Vitória",
         1
        ],
        [
         "Lucas Evangelista",
         "Bragantino",
         1
        ],
        [
         "Lucas Fernandes",
         "Cuiabá",
         1
        ],
        [
         "Lucas Freitas",
         "Juventude",
         1
        ],
        [
         "Lucas Halter",
         "Botafogo",
         1
        ],
        [
         "Lucas Kal",
         "Atlético-GO",
         1
        ],
        [
         "Lucas Mineiro",
         "Cuiabá",
         1
        ],
        [
         "Lucas Moura",
         "São Paulo",
         1
        ],
        [
         "Lucas Piton",
         "Vasco da Gama",
         1
        ],
        [
         "Lucas Romero",
         "Cruzeiro",
         1
        ],
        [
         "Lucas Sasha",
         "Fortaleza",
         1
        ],
        [
         "Lucas Silva",
         "Cruzeiro",
         1
        ],
        [
         "Lucas Villalba",
         "Cruzeiro",
         1
        ],
        [
         "Lucca Drummond",
         "Internacional",
         1
        ],
        [
         "Lucca Holanda",
         "Internacional",
         1
        ],
        [
         "Luciano",
         "São Paulo",
         1
        ],
        [
         "Luciano Giménez",
         "Cuiabá",
         1
        ],
        [
         "Luciano Juba",
         "Bahia",
         1
        ],
        [
         "Luciano Rodríguez",
         "Bahia",
         1
        ],
        [
         "Lucão",
         "Bragantino",
         1
        ],
        [
         "Luighi",
         "Palmeiras",
         1
        ],
        [
         "Luis Eduardo Marques dos Santos",
         "Criciúma",
         1
        ],
        [
         "Luis Eduardo Marques dos Santos",
         "Fortaleza",
         1
        ],
        [
         "Luis Guilherme",
         "Palmeiras",
         1
        ],
        [
         "Luis Mandaca",
         "Juventude",
         1
        ],
        [
         "Luis Miguel",
         "EC Vitória",
         1
        ],
        [
         "Luis Otávio",
         "Internacional",
         1
        ],
        [
         "Luis Oyama",
         "Juventude",
         1
        ],
        [
         "Luiz Adriano",
         "EC Vitória",
         1
        ],
        [
         "Luiz Araújo",
         "Flamengo",
         1
        ],
        [
         "Luiz Felipe",
         "Atlético-GO",
         1
        ],
        [
         "Luiz Fernando",
         "Atlético-GO",
         1
        ],
        [
         "Luiz Gustavo",
         "São Paulo",
         1
        ],
        [
         "Luiz Gustavo",
         "Atlético-GO",
         1
        ],
        [
         "Luiz Henrique",
         "Botafogo",
         1
        ],
        [
         "Lyanco",
         "Atlético-MG",
         1
        ],
        [
         "Lyncon",
         "Vasco da Gama",
         1
        ],
        [
         "Lázaro",
         "Palmeiras",
         1
        ],
        [
         "Léo Gamalho",
         "EC Vitória",
         1
        ],
        [
         "Léo Jardim",
         "Vasco da Gama",
         1
        ],
        [
         "Léo Mana",
         "Corinthians",
         1
        ],
        [
         "Léo Naldi",
         "EC Vitória",
         1
        ],
        [
         "Léo Pelé",
         "Vasco da Gama",
         1
        ],
        [
         "Léo Pereira",
         "Flamengo",
         1
        ],
        [
         "Machado",
         "Cruzeiro",
         1
        ],
        [
         "Machado",
         "EC Vitória",
         1
        ],
        [
         "Maguinho",
         "Atlético-GO",
         1
        ],
        [
         "Maicon",
         "Vasco da Gama",
         1
        ],
        [
         "Manoel",
         "Fluminense",
         1
        ],
        [
         "Marcelinho",
         "Juventude",
         1
        ],
        [
         "Marcelo",
         "Fluminense",
         1
        ],
        [
         "Marcelo Hermes",
         "Criciúma",
         1
        ],
        [
         "Marcelo Lomba",
         "Palmeiras",
         1
        ],
        [
         "Marcos Antônio",
         "São Paulo",
         1
        ],
        [
         "Marcos Felipe",
         "Bahia",
         1
        ],
        [
         "Marcos Rocha",
         "Palmeiras",
         1
        ],
        [
         "Marcos Victor",
         "Athletico-PR",
         1
        ],
        [
         "Mariano",
         "Atlético-MG",
         1
        ],
        [
         "Marinho",
         "Fortaleza",
         1
        ],
        [
         "Marllon Borges",
         "Cuiabá",
         1
        ],
        [
         "Marlon",
         "Fluminense",
         1
        ],
        [
         "Marlon",
         "Cruzeiro",
         1
        ],
        [
         "Marlon Freitas",
         "Botafogo",
         1
        ],
        [
         "Marquinhos",
         "Fluminense",
         1
        ],
        [
         "Marquinhos Gabriel",
         "Criciúma",
         1
        ],
        [
         "Martin Braithwaite",
         "Grêmio",
         1
        ],
        [
         "Martinelli",
         "Fluminense",
         1
        ],
        [
         "Mateo Barcia",
         "Criciúma",
         1
        ],
        [
         "Mateo Gamarra",
         "Athletico-PR",
         1
        ],
        [
         "Mateo Ponte",
         "Botafogo",
         1
        ],
        [
         "Mateo Zuleta",
         "Atlético-GO",
         1
        ],
        [
         "Mateus Claus",
         "Juventude",
         1
        ],
        [
         "Mateus Cocão",
         "Vasco da Gama",
         1
        ],
        [
         "Mateus Gonçalves Martins",
         "EC Vitória",
         1
        ],
        [
         "Mateus Pasinato",
         "Cuiabá",
         1
        ],
        [
         "Mateus Vital",
         "Cruzeiro",
         1
        ],
        [
         "Matheus Alexandre",
         "Cuiabá",
         1
        ],
        [
         "Matheus Araújo",
         "Corinthians",
         1
        ],
        [
         "Matheus Bidu",
         "Corinthians",
         1
        ],
        [
         "Matheus Cunha",
         "Flamengo",
         1
        ],
        [
         "Matheus Dias",
         "Internacional",
         1
        ],
        [
         "Matheus Donelli",
         "Corinthians",
         1
        ],
        [
         "Matheus Fernandes",
         "Bragantino",
         1
        ],
        [
         "Matheus Gonçalves",
         "Flamengo",
         1
        ],
        [
         "Matheus Henrique",
         "Cruzeiro",
         1
        ],
        [
         "Matheus Martins",
         "Botafogo",
         1
        ],
        [
         "Matheus Mendes",
         "Atlético-MG",
         1
        ],
        [
         "Matheus Nascimento",
         "Botafogo",
         1
        ],
        [
         "Matheus Pereira",
         "Cruzeiro",
         1
        ],
        [
         "Matheus Rossetto",
         "Fortaleza",
         1
        ],
        [
         "Matheusinho",
         "EC Vitória",
         1
        ],
        [
         "Matheusinho",
         "Criciúma",
         1
        ],
        [
         "Matheuzinho",
         "Corinthians",
         1
        ],
        [
         "Mathías Villasanti",
         "Grêmio",
         1
        ],
        [
         "Matias Arezo",
         "Grêmio",
         1
        ],
        [
         "Matías Lacava",
         "Atlético-GO",
         1
        ],
        [
         "Matías Viña",
         "Flamengo",
         1
        ],
        [
         "Mauricio",
         "Internacional",
         1
        ],
        [
         "Mauricio",
         "Palmeiras",
         1
        ],
        [
         "Mauricio Lemos",
         "Atlético-MG",
         1
        ],
        [
         "Max",
         "Cuiabá",
         1
        ],
        [
         "Max",
         "Atlético-GO",
         1
        ],
        [
         "Max Alegria",
         "Vasco da Gama",
         1
        ],
        [
         "Maxime Dominguez",
         "Vasco da Gama",
         1
        ],
        [
         "Maycon",
         "Corinthians",
         1
        ],
        [
         "Mayk",
         "Grêmio",
         1
        ],
        [
         "Mayke",
         "Palmeiras",
         1
        ],
        [
         "Memphis",
         "Corinthians",
         1
        ],
        [
         "Michael",
         "Flamengo",
         1
        ],
        [
         "Michel Araujo",
         "São Paulo",
         1
        ],
        [
         "Miguel Monsalve",
         "Grêmio",
         1
        ],
        [
         "Miguel Trauco",
         "Criciúma",
         1
        ],
        [
         "Moises",
         "Fortaleza",
         1
        ],
        [
         "Muriel Becker",
         "EC Vitória",
         1
        ],
        [
         "Murilo Cerqueira",
         "Palmeiras",
         1
        ],
        [
         "Mycael",
         "Athletico-PR",
         1
        ],
        [
         "Mádson",
         "Athletico-PR",
         1
        ],
        [
         "Nahuel Ferraresi",
         "São Paulo",
         1
        ],
        [
         "Nata",
         "Grêmio",
         1
        ],
        [
         "Nathan",
         "Grêmio",
         1
        ],
        [
         "Nathan",
         "Internacional",
         1
        ],
        [
         "Nathan Fernandes",
         "Grêmio",
         1
        ],
        [
         "Nathan Mendes",
         "Bragantino",
         1
        ],
        [
         "Nenê",
         "Juventude",
         1
        ],
        [
         "Neris",
         "Cruzeiro",
         1
        ],
        [
         "Neris",
         "EC Vitória",
         1
        ],
        [
         "Newton",
         "Criciúma",
         1
        ],
        [
         "Nicolás Acevedo",
         "Bahia",
         1
        ],
        [
         "Nicolás De La Cruz",
         "Flamengo",
         1
        ],
        [
         "Nikão",
         "Athletico-PR",
         1
        ],
        [
         "Nonato",
         "Fluminense",
         1
        ],
        [
         "Ogundana Shola",
         "Flamengo",
         1
        ],
        [
         "Oscar Estupiñan",
         "Bahia",
         1
        ],
        [
         "Osvaldo",
         "EC Vitória",
         1
        ],
        [
         "Otávio",
         "Atlético-MG",
         1
        ],
        [
         "Pablo",
         "Athletico-PR",
         1
        ],
        [
         "Pablo Baianinho",
         "EC Vitória",
         1
        ],
        [
         "Pablo Galdames Millán",
         "Vasco da Gama",
         1
        ],
        [
         "Pablo Maia",
         "São Paulo",
         1
        ],
        [
         "Pablo Vegetti",
         "Vasco da Gama",
         1
        ],
        [
         "Patric Calmon PK",
         "EC Vitória",
         1
        ],
        [
         "Patrick de Paula",
         "Criciúma",
         1
        ],
        [
         "Patrick de Paula",
         "Botafogo",
         1
        ],
        [
         "Patryck",
         "São Paulo",
         1
        ],
        [
         "Paulinho",
         "Atlético-MG",
         1
        ],
        [
         "Paulinho",
         "Corinthians",
         1
        ],
        [
         "Paulinho",
         "Vasco da Gama",
         1
        ],
        [
         "Paulo Henrique",
         "Vasco da Gama",
         1
        ],
        [
         "Paulo Vitor",
         "Atlético-MG",
         1
        ],
        [
         "Pedrinho",
         "Atlético-MG",
         1
        ],
        [
         "Pedro",
         "Flamengo",
         1
        ],
        [
         "Pedro Borges",
         "Fortaleza",
         1
        ],
        [
         "Pedro Geromel",
         "Grêmio",
         1
        ],
        [
         "Pedro Henrique",
         "Bragantino",
         1
        ],
        [
         "Pedro Henrique",
         "Corinthians",
         1
        ],
        [
         "Pedro Paranhos",
         "Atlético-GO",
         1
        ],
        [
         "Pedro Rangel",
         "Atlético-GO",
         1
        ],
        [
         "Pedro Raul",
         "Corinthians",
         1
        ],
        [
         "Pedro Rocha Neves",
         "Fortaleza",
         1
        ],
        [
         "Pedro Rocha Neves",
         "Criciúma",
         1
        ],
        [
         "Pedrão",
         "Atlético-GO",
         1
        ],
        [
         "Peixoto",
         "Juventude",
         1
        ],
        [
         "Philipe Sampaio",
         "Atlético-GO",
         1
        ],
        [
         "Philippe Coutinho",
         "Vasco da Gama",
         1
        ],
        [
         "Rafael",
         "Botafogo",
         1
        ],
        [
         "Rafael Borré",
         "Internacional",
         1
        ],
        [
         "Rafael Cabral",
         "Grêmio",
         1
        ],
        [
         "Rafael Elias",
         "Cruzeiro",
         1
        ],
        [
         "Rafael Haller",
         "Atlético-GO",
         1
        ],
        [
         "Rafael Pires",
         "São Paulo",
         1
        ],
        [
         "Rafael Ratão",
         "Bahia",
         1
        ],
        [
         "Rafael Silva",
         "Cruzeiro",
         1
        ],
        [
         "Rafinha",
         "São Paulo",
         1
        ],
        [
         "Railan",
         "Cuiabá",
         1
        ],
        [
         "Ramiro Benetti",
         "Cruzeiro",
         1
        ],
        [
         "Ramon",
         "Cuiabá",
         1
        ],
        [
         "Randerson",
         "Atlético-GO",
         1
        ],
        [
         "Raniele",
         "Corinthians",
         1
        ],
        [
         "Raphael Veiga",
         "Palmeiras",
         1
        ],
        [
         "Raul",
         "Bragantino",
         1
        ],
        [
         "Raul Bicalho",
         "Corinthians",
         1
        ],
        [
         "Rayan Vitor",
         "Vasco da Gama",
         1
        ],
        [
         "Raúl Cáceres",
         "EC Vitória",
         1
        ],
        [
         "Reinaldo",
         "Grêmio",
         1
        ],
        [
         "Renato Augusto",
         "Fluminense",
         1
        ],
        [
         "Renato Kayser",
         "Criciúma",
         1
        ],
        [
         "Renato Kayser",
         "Fortaleza",
         1
        ],
        [
         "Renzo Saravia",
         "Atlético-MG",
         1
        ],
        [
         "Renê",
         "Internacional",
         1
        ],
        [
         "Reynaldo Cesar Moraes",
         "EC Vitória",
         1
        ],
        [
         "Rezende",
         "Bahia",
         1
        ],
        [
         "Rhaldney",
         "Atlético-GO",
         1
        ],
        [
         "Ricardo",
         "EC Vitória",
         1
        ],
        [
         "Ricardo Mathias",
         "Internacional",
         1
        ],
        [
         "Richard Ríos",
         "Palmeiras",
         1
        ],
        [
         "Rikelme",
         "Cuiabá",
         1
        ],
        [
         "Rildo",
         "Juventude",
         1
        ],
        [
         "Riquelme",
         "Bragantino",
         1
        ],
        [
         "Robert",
         "Cruzeiro",
         1
        ],
        [
         "Robert Arboleda",
         "São Paulo",
         1
        ],
        [
         "Robert Conceição",
         "Atlético-MG",
         1
        ],
        [
         "Robert Renan",
         "Internacional",
         1
        ],
        [
         "Robert Rojas",
         "Vasco da Gama",
         1
        ],
        [
         "Rodrigo",
         "São Paulo",
         1
        ],
        [
         "Rodrigo Andrade",
         "EC Vitória",
         1
        ],
        [
         "Rodrigo Battaglia",
         "Atlético-MG",
         1
        ],
        [
         "Rodrigo Caio",
         "Grêmio",
         1
        ],
        [
         "Rodrigo Ely",
         "Grêmio",
         1
        ],
        [
         "Rodrigo Fagundes",
         "Criciúma",
         1
        ],
        [
         "Rodrigo Garro",
         "Corinthians",
         1
        ],
        [
         "Rodrigo Nestor",
         "São Paulo",
         1
        ],
        [
         "Rodrigo Sam",
         "Juventude",
         1
        ],
        [
         "Romulo",
         "Internacional",
         1
        ],
        [
         "Romulo",
         "Palmeiras",
         1
        ],
        [
         "Ronald",
         "Grêmio",
         1
        ],
        [
         "Ronald",
         "Criciúma",
         1
        ],
        [
         "Ronaldo",
         "Atlético-GO",
         1
        ],
        [
         "Ronaldo",
         "Juventude",
         1
        ],
        [
         "Ronie Carrillo",
         "Juventude",
         1
        ],
        [
         "Rony",
         "Palmeiras",
         1
        ],
        [
         "Rossi",
         "Vasco da Gama",
         1
        ],
        [
         "Ruan",
         "Juventude",
         1
        ],
        [
         "Ruan",
         "São Paulo",
         1
        ],
        [
         "Ruan Pablo",
         "Bahia",
         1
        ],
        [
         "Rubens",
         "Atlético-MG",
         1
        ],
        [
         "Ryan Francisco",
         "São Paulo",
         1
        ],
        [
         "Ryan Gustavo",
         "Corinthians",
         1
        ],
        [
         "Rômulo",
         "Atlético-MG",
         1
        ],
        [
         "Samuel Xavier",
         "Fluminense",
         1
        ],
        [
         "Santiago Arias",
         "Bahia",
         1
        ],
        [
         "Santiago Longo",
         "São Paulo",
         1
        ],
        [
         "Sergio Antonio De Luiz Junior",
         "Criciúma",
         1
        ],
        [
         "Sergio Antonio De Luiz Junior",
         "Vasco da Gama",
         1
        ],
        [
         "Sergio Palacios",
         "Bragantino",
         1
        ],
        [
         "Sergio Rochet",
         "Internacional",
         1
        ],
        [
         "Shaylon",
         "Atlético-GO",
         1
        ],
        [
         "Talisson",
         "Bragantino",
         1
        ],
        [
         "Talles Magno",
         "Corinthians",
         1
        ],
        [
         "Tchê Tchê",
         "Botafogo",
         1
        ],
        [
         "Tevis Gabriel Alves Santos",
         "Cruzeiro",
         1
        ],
        [
         "Thaciano",
         "Bahia",
         1
        ],
        [
         "Thiago Almada",
         "Botafogo",
         1
        ],
        [
         "Thiago Borbas",
         "Bragantino",
         1
        ],
        [
         "Thiago Heleno",
         "Athletico-PR",
         1
        ],
        [
         "Thiago Maia",
         "Internacional",
         1
        ],
        [
         "Thiago Silva",
         "Fluminense",
         1
        ],
        [
         "Thiago dos Santos",
         "Fluminense",
         1
        ],
        [
         "Thiaguinho",
         "Juventude",
         1
        ],
        [
         "Tiago",
         "Bahia",
         1
        ],
        [
         "Tiquinho Soares",
         "Botafogo",
         1
        ],
        [
         "Titi",
         "Fortaleza",
         1
        ],
        [
         "Tobias Figueiredo",
         "Criciúma",
         1
        ],
        [
         "Tomas Pochettino",
         "Fortaleza",
         1
        ],
        [
         "Tomás Cardona",
         "Fortaleza",
         1
        ],
        [
         "Tomás Cuello",
         "Athletico-PR",
         1
        ],
        [
         "Vanderlan",
         "Palmeiras",
         1
        ],
        [
         "Victor Hugo",
         "Flamengo",
         1
        ],
        [
         "Victor Hugo",
         "Atlético-MG",
         1
        ],
        [
         "Victor Hugo",
         "Fluminense",
         1
        ],
        [
         "Victor Hugo",
         "Bragantino",
         1
        ],
        [
         "Victor Luis",
         "Vasco da Gama",
         1
        ],
        [
         "Vinicius Mendonça",
         "Bragantino",
         1
        ],
        [
         "Vitinho",
         "Bragantino",
         1
        ],
        [
         "Vitinho",
         "Botafogo",
         1
        ],
        [
         "Vitor Eudes",
         "Fluminense",
         1
        ],
        [
         "Vitor Hugo",
         "Bahia",
         1
        ],
        [
         "Vitor Hugo Amorim",
         "Cruzeiro",
         1
        ],
        [
         "Vitor Reis",
         "Palmeiras",
         1
        ],
        [
         "Vitão",
         "Internacional",
         1
        ],
        [
         "Vágner Love",
         "Atlético-GO",
         1
        ],
        [
         "Víctor Cuesta",
         "Bahia",
         1
        ],
        [
         "Wagner",
         "EC Vitória",
         1
        ],
        [
         "Walace",
         "Cruzeiro",
         1
        ],
        [
         "Walisson Maia",
         "Criciúma",
         1
        ],
        [
         "Wallace",
         "Flamengo",
         1
        ],
        [
         "Walter",
         "Cuiabá",
         1
        ],
        [
         "Walter Kannemann",
         "Grêmio",
         1
        ],
        [
         "Wanderson",
         "Internacional",
         1
        ],
        [
         "Welington",
         "São Paulo",
         1
        ],
        [
         "Wellington Rato",
         "São Paulo",
         1
        ],
        [
         "Werik Popó",
         "Juventude",
         1
        ],
        [
         "Werik Popó",
         "Criciúma",
         1
        ],
        [
         "Werton",
         "Flamengo",
         1
        ],
        [
         "Wesley",
         "Flamengo",
         1
        ],
        [
         "Wesley",
         "Internacional",
         1
        ],
        [
         "Wesley",
         "Corinthians",
         1
        ],
        [
         "Wesley Gasolina",
         "Cruzeiro",
         1
        ],
        [
         "Weverton",
         "Cruzeiro",
         1
        ],
        [
         "Wilker Ángel",
         "Criciúma",
         1
        ],
        [
         "Willean Lepo",
         "EC Vitória",
         1
        ],
        [
         "William",
         "Cruzeiro",
         1
        ],
        [
         "William Gomes",
         "São Paulo",
         1
        ],
        [
         "Willian",
         "EC Vitória",
         1
        ],
        [
         "Wéverton",
         "Palmeiras",
         1
        ],
        [
         "Yago",
         "Bahia",
         1
        ],
        [
         "Yago Pikachu",
         "Fortaleza",
         1
        ],
        [
         "Yan Souto",
         "Juventude",
         1
        ],
        [
         "Yannick Bolasie",
         "Criciúma",
         1
        ],
        [
         "Yarlen Augusto",
         "Botafogo",
         1
        ],
        [
         "Yeferson Rodallega",
         "Atlético-GO",
         1
        ],
        [
         "Yeferson Soteldo",
         "Grêmio",
         1
        ],
        [
         "Yerson Candelo",
         "Criciúma",
         1
        ],
        [
         "Yony González",
         "Atlético-GO",
         1
        ],
        [
         "Yuri Alberto",
         "Corinthians",
         1
        ],
        [
         "Zeca",
         "EC Vitória",
         1
        ],
        [
         "Zé Gabriel",
         "Vasco da Gama",
         1
        ],
        [
         "Zé Guilherme",
         "Grêmio",
         1
        ],
        [
         "Zé Ivaldo",
         "Cruzeiro",
         1
        ],
        [
         "Zé Marcos",
         "Juventude",
         1
        ],
        [
         "Zé Rafael",
         "Palmeiras",
         1
        ],
        [
         "Álvaro Barreal",
         "Cruzeiro",
         1
        ],
        [
         "Ángel Romero",
         "Corinthians",
         1
        ],
        [
         "Éder",
         "Criciúma",
         1
        ],
        [
         "Éverson",
         "Atlético-MG",
         1
        ],
        [
         "Óscar Romero",
         "Botafogo",
         1
        ]
       ],
       "datasetInfos": [],
       "dbfsResultPath": null,
       "isJsonSchema": true,
       "metadata": {},
       "overflow": false,
       "plotOptions": {
        "customPlotOptions": {},
        "displayType": "table",
        "pivotAggregation": null,
        "pivotColumns": null,
        "xColumns": null,
        "yColumns": null
       },
       "removedWidgets": [],
       "schema": [
        {
         "metadata": "{}",
         "name": "Jogador",
         "type": "\"string\""
        },
        {
         "metadata": "{}",
         "name": "Clube",
         "type": "\"string\""
        },
        {
         "metadata": "{}",
         "name": "ocorrencias",
         "type": "\"long\""
        }
       ],
       "type": "table"
      }
     },
     "output_type": "display_data"
    }
   ],
   "source": [
    "%sql\n",
    "-- Combinações únicas de jogador e clube (removendo duplicatas)\n",
    "SELECT \n",
    "    Jogador,\n",
    "    Clube,\n",
    "    COUNT(*) AS ocorrencias\n",
    "FROM (\n",
    "    SELECT DISTINCT Jogador, Clube\n",
    "    FROM estatisticas\n",
    ") AS unicos\n",
    "GROUP BY Jogador, Clube\n",
    "ORDER BY Jogador;\n"
   ]
  },
  {
   "cell_type": "markdown",
   "metadata": {
    "application/vnd.databricks.v1+cell": {
     "cellMetadata": {},
     "inputWidgets": {},
     "nuid": "4b421e7a-a95c-439d-aa67-190e4a6a8130",
     "showTitle": false,
     "tableResultSettingsMap": {},
     "title": ""
    }
   },
   "source": [
    "### 🔹Conferindo se temos Jogadores com mesmo nome no mesmo clube, mas camisas diferentes"
   ]
  },
  {
   "cell_type": "code",
   "execution_count": 0,
   "metadata": {
    "application/vnd.databricks.v1+cell": {
     "cellMetadata": {
      "byteLimit": 2048000,
      "implicitDf": true,
      "rowLimit": 10000
     },
     "inputWidgets": {},
     "nuid": "df10a258-97cc-4280-9e0b-ec5ce6bd2e7b",
     "showTitle": false,
     "tableResultSettingsMap": {},
     "title": ""
    }
   },
   "outputs": [
    {
     "output_type": "display_data",
     "data": {
      "text/html": [
       "<style scoped>\n",
       "  .table-result-container {\n",
       "    max-height: 300px;\n",
       "    overflow: auto;\n",
       "  }\n",
       "  table, th, td {\n",
       "    border: 1px solid black;\n",
       "    border-collapse: collapse;\n",
       "  }\n",
       "  th, td {\n",
       "    padding: 5px;\n",
       "  }\n",
       "  th {\n",
       "    text-align: left;\n",
       "  }\n",
       "</style><div class='table-result-container'><table class='table-result'><thead style='background-color: white'><tr><th>Jogador</th><th>Clube</th><th>qtd_camisas_diferentes</th></tr></thead><tbody><tr><td>Alejo Cruz</td><td>Atlético-GO</td><td>10</td></tr><tr><td>Budiga Roni</td><td>Atlético-GO</td><td>7</td></tr><tr><td>Rhaldney</td><td>Atlético-GO</td><td>6</td></tr><tr><td>Matías Lacava</td><td>Atlético-GO</td><td>6</td></tr><tr><td>Lucas Kal</td><td>Atlético-GO</td><td>6</td></tr><tr><td>Joel Campbell</td><td>Atlético-GO</td><td>6</td></tr><tr><td>Shaylon</td><td>Atlético-GO</td><td>6</td></tr><tr><td>Derek</td><td>Atlético-GO</td><td>6</td></tr><tr><td>Luiz Felipe</td><td>Atlético-GO</td><td>6</td></tr><tr><td>Janderson</td><td>Atlético-GO</td><td>5</td></tr><tr><td>Yony González</td><td>Atlético-GO</td><td>5</td></tr><tr><td>Jan Carlos Hurtado</td><td>Atlético-GO</td><td>5</td></tr><tr><td>Emiliano Rodríguez</td><td>Atlético-GO</td><td>4</td></tr><tr><td>Max</td><td>Atlético-GO</td><td>4</td></tr><tr><td>Vágner Love</td><td>Atlético-GO</td><td>4</td></tr><tr><td>Gonzalo Freitas</td><td>Atlético-GO</td><td>4</td></tr><tr><td>Gabriel Baralhas</td><td>Atlético-GO</td><td>4</td></tr><tr><td>Mateo Zuleta</td><td>Atlético-GO</td><td>4</td></tr><tr><td>Alix Vinicius</td><td>Atlético-GO</td><td>3</td></tr><tr><td>Luiz Fernando</td><td>Atlético-GO</td><td>3</td></tr><tr><td>Maguinho</td><td>Atlético-GO</td><td>3</td></tr><tr><td>Pedrão</td><td>Atlético-GO</td><td>3</td></tr><tr><td>Yeferson Rodallega</td><td>Atlético-GO</td><td>2</td></tr><tr><td>Bruno Tubarão</td><td>Atlético-GO</td><td>2</td></tr><tr><td>Matheus Rossetto</td><td>Fortaleza</td><td>2</td></tr><tr><td>Jorginho</td><td>Atlético-GO</td><td>2</td></tr><tr><td>Renato Augusto</td><td>Fluminense</td><td>2</td></tr><tr><td>Gustavo Campanharo</td><td>Atlético-GO</td><td>2</td></tr><tr><td>Lucas Romero</td><td>Cruzeiro</td><td>2</td></tr><tr><td>Fellipe Mateus</td><td>Criciúma</td><td>2</td></tr><tr><td>Adriano Martins</td><td>Atlético-GO</td><td>2</td></tr><tr><td>Gabriel Barros</td><td>Atlético-GO</td><td>2</td></tr><tr><td>Luis Eduardo Marques dos Santos</td><td>Criciúma</td><td>2</td></tr><tr><td>Barreto</td><td>Criciúma</td><td>2</td></tr><tr><td>Arthur</td><td>Criciúma</td><td>2</td></tr><tr><td>Allan</td><td>Flamengo</td><td>2</td></tr><tr><td>Claudinho</td><td>Criciúma</td><td>2</td></tr><tr><td>Rodrigo Fagundes</td><td>Criciúma</td><td>2</td></tr><tr><td>Éder</td><td>Criciúma</td><td>2</td></tr><tr><td>João Ricardo Riedi</td><td>Fortaleza</td><td>2</td></tr><tr><td>Jean Carlos Alves Ferreira</td><td>Atlético-GO</td><td>2</td></tr><tr><td>João Pedro</td><td>Grêmio</td><td>2</td></tr><tr><td>Facundo Bernal</td><td>Fluminense</td><td>2</td></tr><tr><td>Luiz Gustavo</td><td>Atlético-GO</td><td>2</td></tr><tr><td>Gabriel Barbosa</td><td>Flamengo</td><td>2</td></tr><tr><td>Juan Martín Lucero</td><td>Fortaleza</td><td>2</td></tr></tbody></table></div>"
      ]
     },
     "metadata": {
      "application/vnd.databricks.v1+output": {
       "addedWidgets": {},
       "aggData": [],
       "aggError": "",
       "aggOverflow": false,
       "aggSchema": [],
       "aggSeriesLimitReached": false,
       "aggType": "",
       "arguments": {},
       "columnCustomDisplayInfos": {},
       "data": [
        [
         "Alejo Cruz",
         "Atlético-GO",
         10
        ],
        [
         "Budiga Roni",
         "Atlético-GO",
         7
        ],
        [
         "Rhaldney",
         "Atlético-GO",
         6
        ],
        [
         "Matías Lacava",
         "Atlético-GO",
         6
        ],
        [
         "Lucas Kal",
         "Atlético-GO",
         6
        ],
        [
         "Joel Campbell",
         "Atlético-GO",
         6
        ],
        [
         "Shaylon",
         "Atlético-GO",
         6
        ],
        [
         "Derek",
         "Atlético-GO",
         6
        ],
        [
         "Luiz Felipe",
         "Atlético-GO",
         6
        ],
        [
         "Janderson",
         "Atlético-GO",
         5
        ],
        [
         "Yony González",
         "Atlético-GO",
         5
        ],
        [
         "Jan Carlos Hurtado",
         "Atlético-GO",
         5
        ],
        [
         "Emiliano Rodríguez",
         "Atlético-GO",
         4
        ],
        [
         "Max",
         "Atlético-GO",
         4
        ],
        [
         "Vágner Love",
         "Atlético-GO",
         4
        ],
        [
         "Gonzalo Freitas",
         "Atlético-GO",
         4
        ],
        [
         "Gabriel Baralhas",
         "Atlético-GO",
         4
        ],
        [
         "Mateo Zuleta",
         "Atlético-GO",
         4
        ],
        [
         "Alix Vinicius",
         "Atlético-GO",
         3
        ],
        [
         "Luiz Fernando",
         "Atlético-GO",
         3
        ],
        [
         "Maguinho",
         "Atlético-GO",
         3
        ],
        [
         "Pedrão",
         "Atlético-GO",
         3
        ],
        [
         "Yeferson Rodallega",
         "Atlético-GO",
         2
        ],
        [
         "Bruno Tubarão",
         "Atlético-GO",
         2
        ],
        [
         "Matheus Rossetto",
         "Fortaleza",
         2
        ],
        [
         "Jorginho",
         "Atlético-GO",
         2
        ],
        [
         "Renato Augusto",
         "Fluminense",
         2
        ],
        [
         "Gustavo Campanharo",
         "Atlético-GO",
         2
        ],
        [
         "Lucas Romero",
         "Cruzeiro",
         2
        ],
        [
         "Fellipe Mateus",
         "Criciúma",
         2
        ],
        [
         "Adriano Martins",
         "Atlético-GO",
         2
        ],
        [
         "Gabriel Barros",
         "Atlético-GO",
         2
        ],
        [
         "Luis Eduardo Marques dos Santos",
         "Criciúma",
         2
        ],
        [
         "Barreto",
         "Criciúma",
         2
        ],
        [
         "Arthur",
         "Criciúma",
         2
        ],
        [
         "Allan",
         "Flamengo",
         2
        ],
        [
         "Claudinho",
         "Criciúma",
         2
        ],
        [
         "Rodrigo Fagundes",
         "Criciúma",
         2
        ],
        [
         "Éder",
         "Criciúma",
         2
        ],
        [
         "João Ricardo Riedi",
         "Fortaleza",
         2
        ],
        [
         "Jean Carlos Alves Ferreira",
         "Atlético-GO",
         2
        ],
        [
         "João Pedro",
         "Grêmio",
         2
        ],
        [
         "Facundo Bernal",
         "Fluminense",
         2
        ],
        [
         "Luiz Gustavo",
         "Atlético-GO",
         2
        ],
        [
         "Gabriel Barbosa",
         "Flamengo",
         2
        ],
        [
         "Juan Martín Lucero",
         "Fortaleza",
         2
        ]
       ],
       "datasetInfos": [],
       "dbfsResultPath": null,
       "isJsonSchema": true,
       "metadata": {},
       "overflow": false,
       "plotOptions": {
        "customPlotOptions": {},
        "displayType": "table",
        "pivotAggregation": null,
        "pivotColumns": null,
        "xColumns": null,
        "yColumns": null
       },
       "removedWidgets": [],
       "schema": [
        {
         "metadata": "{}",
         "name": "Jogador",
         "type": "\"string\""
        },
        {
         "metadata": "{}",
         "name": "Clube",
         "type": "\"string\""
        },
        {
         "metadata": "{}",
         "name": "qtd_camisas_diferentes",
         "type": "\"long\""
        }
       ],
       "type": "table"
      }
     },
     "output_type": "display_data"
    }
   ],
   "source": [
    "%sql\n",
    "-- Jogadores com mesmo nome no mesmo clube, mas camisas diferentes\n",
    "SELECT \n",
    "    Jogador,\n",
    "    Clube,\n",
    "    COUNT(DISTINCT Numero_Camisa) AS qtd_camisas_diferentes\n",
    "FROM estatisticas\n",
    "GROUP BY Jogador, Clube\n",
    "HAVING COUNT(DISTINCT Numero_Camisa) > 1\n",
    "ORDER BY qtd_camisas_diferentes DESC;\n"
   ]
  },
  {
   "cell_type": "markdown",
   "metadata": {
    "application/vnd.databricks.v1+cell": {
     "cellMetadata": {},
     "inputWidgets": {},
     "nuid": "bd2ef086-68f3-40c9-adf0-fbc1ac5ec513",
     "showTitle": false,
     "tableResultSettingsMap": {},
     "title": ""
    }
   },
   "source": [
    "## 📌 Salvando os Arquivs na Camada Gold "
   ]
  },
  {
   "cell_type": "code",
   "execution_count": 0,
   "metadata": {
    "application/vnd.databricks.v1+cell": {
     "cellMetadata": {
      "byteLimit": 2048000,
      "rowLimit": 10000
     },
     "inputWidgets": {},
     "nuid": "110923b2-6677-471b-bd41-4f7bfa25a04e",
     "showTitle": false,
     "tableResultSettingsMap": {},
     "title": ""
    }
   },
   "outputs": [],
   "source": [
    "df_gold = spark.sql(\"SELECT * FROM Mart_Info_Jogadores\")\n",
    "\n",
    "df_gold.write.mode(\"overwrite\").parquet(\"s3a://mvp-brasileirao-2024/gold/Mart_Info_Jogadores\")"
   ]
  }
 ],
 "metadata": {
  "application/vnd.databricks.v1+notebook": {
   "computePreferences": null,
   "dashboards": [],
   "environmentMetadata": {
    "base_environment": "",
    "environment_version": "1"
   },
   "inputWidgetPreferences": null,
   "language": "python",
   "notebookMetadata": {
    "mostRecentlyExecutedCommandWithImplicitDF": {
     "commandId": 4397988387588787,
     "dataframes": [
      "_sqldf"
     ]
    },
    "pythonIndentUnit": 4
   },
   "notebookName": "04C-Transformacao-Gold-Mart_Info_Jogadores",
   "widgets": {}
  }
 },
 "nbformat": 4,
 "nbformat_minor": 0
}
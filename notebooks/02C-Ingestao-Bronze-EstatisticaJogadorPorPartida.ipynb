{
 "cells": [
  {
   "cell_type": "markdown",
   "metadata": {
    "application/vnd.databricks.v1+cell": {
     "cellMetadata": {
      "byteLimit": 2048000,
      "rowLimit": 10000
     },
     "inputWidgets": {},
     "nuid": "eb47857f-97ae-4432-98e2-92c0475f8a65",
     "showTitle": false,
     "tableResultSettingsMap": {},
     "title": ""
    }
   },
   "source": [
    "# 📌 Estrutura do Notebook 02C-Ingestao-Bronze-EstatisticaJogadorPorPartida\n",
    "📍 Objetivo: Ler os dados da camada Bronze, aplicar transformações e salvar na Silver."
   ]
  },
  {
   "cell_type": "code",
   "execution_count": 0,
   "metadata": {
    "application/vnd.databricks.v1+cell": {
     "cellMetadata": {
      "byteLimit": 2048000,
      "rowLimit": 10000
     },
     "collapsed": true,
     "inputWidgets": {},
     "nuid": "1baa5368-d918-44b6-8563-f1a13c12d319",
     "showTitle": true,
     "tableResultSettingsMap": {},
     "title": "📒 Executa Notebook `00.Configuracao`"
    }
   },
   "outputs": [
    {
     "output_type": "stream",
     "name": "stdout",
     "output_type": "stream",
     "text": [
      "Leitura das credenciais de forma segura pelo Spark 🔐\n"
     ]
    },
    {
     "output_type": "stream",
     "name": "stdout",
     "output_type": "stream",
     "text": [
      "Caminhos definidos:\n📂 Bronze: s3a://mvp-brasileirao-2024/bronze/ | 📂 Silver: s3a://mvp-brasileirao-2024/silver/ | 📂 Gold: s3a://mvp-brasileirao-2024/gold/\n"
     ]
    }
   ],
   "source": [
    "%run \"/Users/caio.santos.cavalheiro@gmail.com/00-Configuracao\""
   ]
  },
  {
   "cell_type": "markdown",
   "metadata": {
    "application/vnd.databricks.v1+cell": {
     "cellMetadata": {},
     "inputWidgets": {},
     "nuid": "7daf7baf-88dc-4b66-8b9d-752f81c8188e",
     "showTitle": false,
     "tableResultSettingsMap": {},
     "title": ""
    }
   },
   "source": [
    "## 🔶 Leitura dos dados da camada Bronze "
   ]
  },
  {
   "cell_type": "code",
   "execution_count": 0,
   "metadata": {
    "application/vnd.databricks.v1+cell": {
     "cellMetadata": {
      "byteLimit": 2048000,
      "rowLimit": 10000
     },
     "inputWidgets": {},
     "nuid": "b33c50b1-70ab-4dfd-9f0f-d8085c610393",
     "showTitle": false,
     "tableResultSettingsMap": {},
     "title": ""
    }
   },
   "outputs": [
    {
     "output_type": "stream",
     "name": "stdout",
     "output_type": "stream",
     "text": [
      "✅ Leitura do Arquivo BrasilSerieA_2024_EstatisticaJogadorPorPartida na camada Bronze feita com sucesso \n"
     ]
    }
   ],
   "source": [
    "# Importar bibliotecas necessárias\n",
    "from pyspark.sql import SparkSession\n",
    "\n",
    "# Definir o caminho do arquivo CSV na Bronze\n",
    "csv_file_path = f\"s3a://{aws_bucket_name}/bronze/BrasilSerieA_2024_EstatisticaJogadorPorPartida.csv\"\n",
    "\n",
    "# Ler o arquivo CSV da camada Bronze\n",
    "df_bronze = spark.read.csv(csv_file_path, header=True, inferSchema=True, sep=\";\", encoding='utf-8')\n",
    "\n",
    "print(f'✅ Leitura do Arquivo BrasilSerieA_2024_EstatisticaJogadorPorPartida na camada Bronze feita com sucesso ')"
   ]
  },
  {
   "cell_type": "markdown",
   "metadata": {
    "application/vnd.databricks.v1+cell": {
     "cellMetadata": {},
     "inputWidgets": {},
     "nuid": "3334bae4-ef2d-49e0-9182-7947a884a6e4",
     "showTitle": false,
     "tableResultSettingsMap": {},
     "title": ""
    }
   },
   "source": [
    "\n",
    "## 🔶 Aplicar transformações (limpeza e padronização) \n",
    "\n",
    "Limpezas que serão aplicadas no arquivo `BrasilSerieA_2024_EstatisticaJogadorPorPartida.csv`"
   ]
  },
  {
   "cell_type": "markdown",
   "metadata": {
    "application/vnd.databricks.v1+cell": {
     "cellMetadata": {},
     "inputWidgets": {},
     "nuid": "6128e3cc-b11c-4e33-9b18-c22a57848cb7",
     "showTitle": false,
     "tableResultSettingsMap": {},
     "title": ""
    }
   },
   "source": [
    "#### 🔹 Transforma a coluna 'Cmp%' STRING → DOUBLE"
   ]
  },
  {
   "cell_type": "code",
   "execution_count": 0,
   "metadata": {
    "application/vnd.databricks.v1+cell": {
     "cellMetadata": {
      "byteLimit": 2048000,
      "rowLimit": 10000
     },
     "inputWidgets": {},
     "nuid": "2e1b34be-92b7-4a6b-9799-e3f6fa5233c8",
     "showTitle": false,
     "tableResultSettingsMap": {},
     "title": ""
    }
   },
   "outputs": [
    {
     "output_type": "stream",
     "name": "stdout",
     "output_type": "stream",
     "text": [
      "✅ Campo \"Cmp%\" atualizado para Double\n"
     ]
    }
   ],
   "source": [
    "from pyspark.sql.functions import col, regexp_replace\n",
    "from pyspark.sql.types import DoubleType\n",
    "\n",
    "# Removendo possíveis caracteres extras (como % ou espaços) e convertendo para Double\n",
    "df_bronze = df_bronze.withColumn(\"Cmp%\", regexp_replace(col(\"Cmp%\"), \"[^0-9.]\", \"\").cast(DoubleType()))\n",
    "\n",
    "print(f'✅ Campo \"Cmp%\" atualizado para Double')"
   ]
  },
  {
   "cell_type": "markdown",
   "metadata": {
    "application/vnd.databricks.v1+cell": {
     "cellMetadata": {},
     "inputWidgets": {},
     "nuid": "ab62b77e-51f4-4a7f-9e22-fd1fedcb7325",
     "showTitle": false,
     "tableResultSettingsMap": {},
     "title": ""
    }
   },
   "source": [
    "#### 🔹 Remove Colunas desnecessárias"
   ]
  },
  {
   "cell_type": "code",
   "execution_count": 0,
   "metadata": {
    "application/vnd.databricks.v1+cell": {
     "cellMetadata": {
      "byteLimit": 2048000,
      "rowLimit": 10000
     },
     "inputWidgets": {},
     "nuid": "2329308e-f29c-4848-ac2e-8f3d0d570054",
     "showTitle": false,
     "tableResultSettingsMap": {},
     "title": ""
    }
   },
   "outputs": [
    {
     "output_type": "stream",
     "name": "stdout",
     "output_type": "stream",
     "text": [
      "✅ Colunas removidas com sucesso!\n"
     ]
    }
   ],
   "source": [
    "# Removendo colunas com PySpark\n",
    "df_bronze = df_bronze.drop('npxG')\n",
    "print(f'✅ Colunas removidas com sucesso!')"
   ]
  },
  {
   "cell_type": "markdown",
   "metadata": {
    "application/vnd.databricks.v1+cell": {
     "cellMetadata": {},
     "inputWidgets": {},
     "nuid": "338d7089-bd11-4de6-838b-060a9df67110",
     "showTitle": false,
     "tableResultSettingsMap": {},
     "title": ""
    }
   },
   "source": [
    "#### 🔹 Renomeia as Colunas do Dataframe"
   ]
  },
  {
   "cell_type": "code",
   "execution_count": 0,
   "metadata": {
    "application/vnd.databricks.v1+cell": {
     "cellMetadata": {
      "byteLimit": 2048000,
      "rowLimit": 10000
     },
     "inputWidgets": {},
     "nuid": "f9fb65ec-421a-4727-97b2-9b14c61ec7e4",
     "showTitle": false,
     "tableResultSettingsMap": {},
     "title": ""
    }
   },
   "outputs": [
    {
     "output_type": "stream",
     "name": "stdout",
     "output_type": "stream",
     "text": [
      "✅ Colunas Renomeadas atendendo a Padronização!\n"
     ]
    }
   ],
   "source": [
    "df_bronze = df_bronze.withColumnRenamed(\"Time\", \"Clube\") \\\n",
    "                     .withColumnRenamed(\"#\", \"Numero_Camisa\") \\\n",
    "                     .withColumnRenamed(\"Na��o\", \"Nacionalidade\") \\\n",
    "                     .withColumnRenamed(\"Pos.\", \"Posicao_em_Campo\") \\\n",
    "                     .withColumnRenamed(\"Min.\", \"Minutos_em_Campo\") \\\n",
    "                     .withColumnRenamed(\"Assis.\", \"Assitencias\") \\\n",
    "                     .withColumnRenamed(\"PB\", \"Penaltis_Batidos\") \\\n",
    "                     .withColumnRenamed(\"PT\", \"Penaltis_Tentados\") \\\n",
    "                     .withColumnRenamed(\"TC\", \"Total_Chutes\") \\\n",
    "                     .withColumnRenamed(\"CaG\", \"Chutes_a_Gol\") \\\n",
    "                     .withColumnRenamed(\"CrtsA\", \"Cartao_Amarelo\") \\\n",
    "                     .withColumnRenamed(\"CrtV\", \"Cartao_Vermelho\") \\\n",
    "                     .withColumnRenamed(\"Contatos\", \"Toques_na_Bola\") \\\n",
    "                     .withColumnRenamed(\"Div\", \"Desarmes\") \\\n",
    "                     .withColumnRenamed(\"Crts\", \"Interceptacoes\") \\\n",
    "                     .withColumnRenamed(\"xG\", \"Gols_Esperados\") \\\n",
    "                     .withColumnRenamed(\"xAG\", \"Assistencias_Esperadas\") \\\n",
    "                     .withColumnRenamed(\"SCA\", \"Acoes_de_Criacao\") \\\n",
    "                     .withColumnRenamed(\"GCA\", \"Acoes_de_Gol\") \\\n",
    "                     .withColumnRenamed(\"Cmp\", \"Passes_Completos\") \\\n",
    "                     .withColumnRenamed(\"Att\", \"Passes_Tentados\") \\\n",
    "                     .withColumnRenamed(\"Cmp%\", \"Prct_Passes_Certos\") \\\n",
    "                     .withColumnRenamed(\"PrgP\", \"Passes_Progressivos\") \\\n",
    "                     .withColumnRenamed(\"Condu��es\", \"Conducoes_de_Bola\") \\\n",
    "                     .withColumnRenamed(\"PrgC\", \"Conducoes_Progressivas\") \\\n",
    "                     .withColumnRenamed(\"Tent\", \"Dribles_Tentados\") \\\n",
    "                     .withColumnRenamed(\"Suc\", \"Dribles_Completos\")\n",
    "\n",
    "print(f'✅ Colunas Renomeadas atendendo a Padronização!')"
   ]
  },
  {
   "cell_type": "markdown",
   "metadata": {
    "application/vnd.databricks.v1+cell": {
     "cellMetadata": {},
     "inputWidgets": {},
     "nuid": "ae0a611a-0b3c-41f7-a663-692e52b20a16",
     "showTitle": false,
     "tableResultSettingsMap": {},
     "title": ""
    }
   },
   "source": [
    "#### 🔹 Split na coluna 'Idade' para pegar os 2 primeiros caracteres"
   ]
  },
  {
   "cell_type": "code",
   "execution_count": 0,
   "metadata": {
    "application/vnd.databricks.v1+cell": {
     "cellMetadata": {
      "byteLimit": 2048000,
      "rowLimit": 10000
     },
     "inputWidgets": {},
     "nuid": "e00aca21-8448-4d3b-99ef-12303c13b686",
     "showTitle": false,
     "tableResultSettingsMap": {},
     "title": ""
    }
   },
   "outputs": [
    {
     "output_type": "stream",
     "name": "stdout",
     "output_type": "stream",
     "text": [
      "✅ Split na coluna Idade para pegar os 2 primeiros caracteres!\n"
     ]
    }
   ],
   "source": [
    "from pyspark.sql.functions import col, substring\n",
    "\n",
    "# Mantendo apenas os dois primeiros caracteres da coluna \"Idade\"\n",
    "df_bronze = df_bronze.withColumn(\"Idade\", substring(col(\"Idade\"), 1, 2))\n",
    "\n",
    "print(f'✅ Split na coluna Idade para pegar os 2 primeiros caracteres!')"
   ]
  },
  {
   "cell_type": "markdown",
   "metadata": {
    "application/vnd.databricks.v1+cell": {
     "cellMetadata": {},
     "inputWidgets": {},
     "nuid": "254ba6fb-960b-438d-8f8d-777b51f0bdeb",
     "showTitle": false,
     "tableResultSettingsMap": {},
     "title": ""
    }
   },
   "source": [
    "#### ⚠️ Ajuste no Jogador 'Felipe Vieira' (PARTICULARIDADE)\n",
    "Idade faltante na base original. Confirmado em fonte externa oficial"
   ]
  },
  {
   "cell_type": "code",
   "execution_count": 0,
   "metadata": {
    "application/vnd.databricks.v1+cell": {
     "cellMetadata": {
      "byteLimit": 2048000,
      "rowLimit": 10000
     },
     "inputWidgets": {},
     "nuid": "48fb85f7-475f-404b-aaa6-642b8f5dce51",
     "showTitle": false,
     "tableResultSettingsMap": {},
     "title": ""
    }
   },
   "outputs": [
    {
     "output_type": "stream",
     "name": "stdout",
     "output_type": "stream",
     "text": [
      "⚠️ INFORMAÇÃO IMPORTANTE SOBRE TRATAMENTO DOS DADOS!!\n    Jogador: Felipe Vieira | Clube: Fluminense | Campo Preenchido: [Idade]\n    Data das Partidas: ['2024-04-13', '2024-04-28', '2024-05-04', '2024-05-13', '2024-07-07', '2024-07-28']\n    Motivo: Idade faltante na base original. Confirmado em fonte externa oficial\n    Valor Preenchido = 22 anos\n    FONTE: https://www.ogol.com.br/jogador/felipe-andrade/620537?epoca_id=153\n✅ Feita o preenchimento da Informação!\n"
     ]
    }
   ],
   "source": [
    "from pyspark.sql.functions import when, col\n",
    "\n",
    "# Lista com as datas específicas em que faltou o dado\n",
    "datas_sem_idade = ['2024-04-13', '2024-04-28', '2024-05-04', '2024-05-13', '2024-07-07', '2024-07-28']\n",
    "\n",
    "# Critério específico para preencher somente o jogador e datas corretas\n",
    "df_bronze = df_bronze.withColumn(\n",
    "    'idade',\n",
    "    when(\n",
    "        (col('Jogador') == 'Felipe Vieira') &\n",
    "        (col('Data').isin(datas_sem_idade)) &\n",
    "        (col('idade').isNull()),\n",
    "        22\n",
    "    ).otherwise(col('idade'))\n",
    ")\n",
    "\n",
    "print('⚠️ INFORMAÇÃO IMPORTANTE SOBRE TRATAMENTO DOS DADOS!!')\n",
    "print('    Jogador: Felipe Vieira | Clube: Fluminense | Campo Preenchido: [Idade]')\n",
    "print(f'    Data das Partidas: {datas_sem_idade}')\n",
    "print('    Motivo: Idade faltante na base original. Confirmado em fonte externa oficial')\n",
    "print('    Valor Preenchido = 22 anos')\n",
    "print(f'    FONTE: https://www.ogol.com.br/jogador/felipe-andrade/620537?epoca_id=153')\n",
    "print(f'✅ Feita o preenchimento da Informação!')"
   ]
  },
  {
   "cell_type": "markdown",
   "metadata": {
    "application/vnd.databricks.v1+cell": {
     "cellMetadata": {},
     "inputWidgets": {},
     "nuid": "16794e75-385f-4cb4-ac95-4908f43fc4c0",
     "showTitle": false,
     "tableResultSettingsMap": {},
     "title": ""
    }
   },
   "source": [
    "#### 🔹 Preenche campos que estão NULLS com cada critério"
   ]
  },
  {
   "cell_type": "code",
   "execution_count": 0,
   "metadata": {
    "application/vnd.databricks.v1+cell": {
     "cellMetadata": {
      "byteLimit": 2048000,
      "rowLimit": 10000
     },
     "inputWidgets": {},
     "nuid": "a9028a8a-1a55-4caf-b129-124282be89de",
     "showTitle": false,
     "tableResultSettingsMap": {},
     "title": ""
    }
   },
   "outputs": [
    {
     "output_type": "stream",
     "name": "stdout",
     "output_type": "stream",
     "text": [
      "✅ Preenche as colunas vazias de acordo com os devidos critérios!\n"
     ]
    }
   ],
   "source": [
    "# Preenche 'Nacionalidade' com 'N/D', já que esse campo possui 3 Caracteres, para mantermos o padrão\n",
    "df_bronze = df_bronze.fillna({'Nacionalidade': 'N/D'})\n",
    "\n",
    "# Preenche 'Minutos_em_Campo' com '0', já que o campo é INT\n",
    "df_bronze = df_bronze.fillna({'Minutos_em_Campo': 0})\n",
    "\n",
    "# Preencher automaticamente todos os campos numéricos vazios com zero\n",
    "df_bronze = df_bronze.fillna(0)\n",
    "\n",
    "print(f'✅ Preenche as colunas vazias de acordo com os devidos critérios!')"
   ]
  },
  {
   "cell_type": "markdown",
   "metadata": {
    "application/vnd.databricks.v1+cell": {
     "cellMetadata": {},
     "inputWidgets": {},
     "nuid": "9925c313-22d8-4531-a142-9dcfd1c6cbea",
     "showTitle": false,
     "tableResultSettingsMap": {},
     "title": ""
    }
   },
   "source": [
    "#### 🔹Dicionário de padronização dos nomes dos clubes"
   ]
  },
  {
   "cell_type": "code",
   "execution_count": 0,
   "metadata": {
    "application/vnd.databricks.v1+cell": {
     "cellMetadata": {
      "byteLimit": 2048000,
      "rowLimit": 10000
     },
     "inputWidgets": {},
     "nuid": "bb4cd61f-7d3e-429a-8e0c-c0ef3a2ae7da",
     "showTitle": false,
     "tableResultSettingsMap": {},
     "title": ""
    }
   },
   "outputs": [
    {
     "output_type": "stream",
     "name": "stdout",
     "output_type": "stream",
     "text": [
      "✅ Dicionário de padronização dos nomes dos clubes (em ordem alfabética)!\n"
     ]
    }
   ],
   "source": [
    "# Dicionário de padronização dos nomes dos clubes (em ordem alfabética)\n",
    "mapeamento_clubes = {\n",
    "    \"Atlético Goianiense\": \"Atlético-GO\",\n",
    "    \"Atlético Mineiro\": \"Atlético-MG\",\n",
    "    \"Athletico Paranaense\": \"Athletico-PR\",\n",
    "    \"Bahia\": \"Bahia\",\n",
    "    \"Botafogo (RJ)\": \"Botafogo\",\n",
    "    \"Red Bull Bragantino\": \"Bragantino\",\n",
    "    \"Corinthians\": \"Corinthians\",\n",
    "    \"Criciuma\": \"Criciúma\",\n",
    "    \"Cruzeiro\": \"Cruzeiro\",\n",
    "    \"Cuiaba\": \"Cuiabá\",\n",
    "    \"Flamengo RJ\": \"Flamengo\",\n",
    "    \"Fluminense\": \"Fluminense\",\n",
    "    \"Fortaleza\": \"Fortaleza\",\n",
    "    \"Gremio\": \"Grêmio\",\n",
    "    \"Internacional\": \"Internacional\",\n",
    "    \"Juventude\": \"Juventude\",\n",
    "    \"Palmeiras\": \"Palmeiras\",\n",
    "    \"Sao Paulo\": \"São Paulo\",\n",
    "    \"Vasco\": \"Vasco da Gama\",\n",
    "    \"Vitória\": \"EC Vitória\"\n",
    "}\n",
    "\n",
    "df_bronze = df_bronze.replace(mapeamento_clubes, subset=[\"Clube\"])\n",
    "\n",
    "print(f'✅ Dicionário de padronização dos nomes dos clubes (em ordem alfabética)!')"
   ]
  },
  {
   "cell_type": "markdown",
   "metadata": {
    "application/vnd.databricks.v1+cell": {
     "cellMetadata": {},
     "inputWidgets": {},
     "nuid": "9b05e67e-d5d0-406e-9ab9-4a8e35a7d48c",
     "showTitle": false,
     "tableResultSettingsMap": {},
     "title": ""
    }
   },
   "source": [
    "#### 🔹Nova coluna para identificar a Origem dos dados"
   ]
  },
  {
   "cell_type": "code",
   "execution_count": 0,
   "metadata": {
    "application/vnd.databricks.v1+cell": {
     "cellMetadata": {
      "byteLimit": 2048000,
      "rowLimit": 10000
     },
     "inputWidgets": {},
     "nuid": "b3159746-7211-4552-9f93-355536e0fca3",
     "showTitle": false,
     "tableResultSettingsMap": {},
     "title": ""
    }
   },
   "outputs": [
    {
     "output_type": "stream",
     "name": "stdout",
     "output_type": "stream",
     "text": [
      "✅ Criação de uma coluna para identificar Origem do Dado!\n"
     ]
    }
   ],
   "source": [
    "from pyspark.sql.functions import lit\n",
    "\n",
    "# Criar a coluna 'Origem_Dado' no df_bronze (dados originais)\n",
    "df_bronze = df_bronze.withColumn(\"Origem_Dado\", lit(\"Original\"))\n",
    "\n",
    "print(f'✅ Criação de uma coluna para identificar Origem do Dado!')"
   ]
  },
  {
   "cell_type": "markdown",
   "metadata": {
    "application/vnd.databricks.v1+cell": {
     "cellMetadata": {},
     "inputWidgets": {},
     "nuid": "f52fab29-4de1-449a-854b-a66c6c889d7a",
     "showTitle": false,
     "tableResultSettingsMap": {},
     "title": ""
    }
   },
   "source": [
    "#### ⚠️ Ajuste manual das partidas que não foram computadas na base de dados"
   ]
  },
  {
   "cell_type": "code",
   "execution_count": 0,
   "metadata": {
    "application/vnd.databricks.v1+cell": {
     "cellMetadata": {
      "byteLimit": 2048000,
      "rowLimit": 10000
     },
     "inputWidgets": {},
     "nuid": "0eb562f7-f788-4a8c-83c8-a1d51142e493",
     "showTitle": false,
     "tableResultSettingsMap": {},
     "title": ""
    }
   },
   "outputs": [
    {
     "output_type": "stream",
     "name": "stdout",
     "output_type": "stream",
     "text": [
      "⚠️ INFORMAÇÃO IMPORTANTE SOBRE TRATAMENTO DOS DADOS!!\n    Clube: Fluminense   | Data da Partida: 01/11/2024\n    Clube: Grêmio       | Data da Partida: 01/11/2024\n    Clube: Atlético-MG  | Data da Partida: 07/12/2024\n    Clube: Athletico-PR | Data da Partida: 07/12/2024\n    Motivo: Partidas não computadas na base original. Confirmado em fonte externa oficial.\n    Os valores preenchidos estão na Coluna [Origem_Dado] com o valor: \"Input Manual\" \n    FONTE: https://fbref.com/pt/partidas/bb1a4828/Fluminense-Gremio-2024Novembro1-Serie-A\n    FONTE: https://fbref.com/pt/partidas/fd4de3a4/Atletico-Mineiro-Athletico-Paranaense-2024Dezembro8-Serie-A\n✅ Feita o preenchimento da Informação!\n"
     ]
    }
   ],
   "source": [
    "from pyspark.sql.functions import to_date, col\n",
    "\n",
    "csv_input_manual = f\"s3a://{aws_bucket_name}/bronze/BrasilSerieA_2024_EstatisticaJogador_InputManual.csv\"\n",
    "\n",
    "df_input_manual = spark.read.csv(csv_input_manual, header=True, inferSchema=True, sep=\";\", encoding='utf-8')\n",
    "\n",
    "df_input_manual = df_input_manual.withColumn(\"Origem_Dado\", lit(\"Input Manual\"))\n",
    "\n",
    "df_input_manual = df_input_manual.withColumn(\"Data\", to_date(col(\"Data\"), \"dd/MM/yyyy\"))\n",
    "\n",
    "print('⚠️ INFORMAÇÃO IMPORTANTE SOBRE TRATAMENTO DOS DADOS!!')\n",
    "print('    Clube: Fluminense   | Data da Partida: 01/11/2024')\n",
    "print('    Clube: Grêmio       | Data da Partida: 01/11/2024')\n",
    "print('    Clube: Atlético-MG  | Data da Partida: 07/12/2024')\n",
    "print('    Clube: Athletico-PR | Data da Partida: 07/12/2024')\n",
    "print('    Motivo: Partidas não computadas na base original. Confirmado em fonte externa oficial.')\n",
    "print('    Os valores preenchidos estão na Coluna [Origem_Dado] com o valor: \"Input Manual\" ')\n",
    "print(f'    FONTE: https://fbref.com/pt/partidas/bb1a4828/Fluminense-Gremio-2024Novembro1-Serie-A')\n",
    "print(f'    FONTE: https://fbref.com/pt/partidas/fd4de3a4/Atletico-Mineiro-Athletico-Paranaense-2024Dezembro8-Serie-A')\n",
    "print(f'✅ Feita o preenchimento da Informação!')"
   ]
  },
  {
   "cell_type": "markdown",
   "metadata": {
    "application/vnd.databricks.v1+cell": {
     "cellMetadata": {},
     "inputWidgets": {},
     "nuid": "8db23bed-f134-42c1-8612-e247843ca10f",
     "showTitle": false,
     "tableResultSettingsMap": {},
     "title": ""
    }
   },
   "source": [
    "#### 🔹Ajuste nos Tipos de Dados"
   ]
  },
  {
   "cell_type": "code",
   "execution_count": 0,
   "metadata": {
    "application/vnd.databricks.v1+cell": {
     "cellMetadata": {
      "byteLimit": 2048000,
      "rowLimit": 10000
     },
     "inputWidgets": {},
     "nuid": "75a7f8ed-950f-46b7-a65c-b222606f362c",
     "showTitle": false,
     "tableResultSettingsMap": {},
     "title": ""
    }
   },
   "outputs": [],
   "source": [
    "from pyspark.sql.functions import col\n",
    "\n",
    "df_input_manual = df_input_manual.withColumn(\"Minutos_em_Campo\", col(\"Minutos_em_Campo\").cast(\"double\")) \\\n",
    "    .withColumn(\"Toques_na_Bola\", col(\"Toques_na_Bola\").cast(\"double\")) \\\n",
    "    .withColumn(\"Desarmes\", col(\"Desarmes\").cast(\"double\")) \\\n",
    "    .withColumn(\"Bloqueios\", col(\"Bloqueios\").cast(\"double\")) \\\n",
    "    .withColumn(\"Gols_Esperados\", col(\"Gols_Esperados\").cast(\"double\")) \\\n",
    "    .withColumn(\"Assistencias_Esperadas\", col(\"Assistencias_Esperadas\").cast(\"double\")) \\\n",
    "    .withColumn(\"Acoes_de_Criacao\", col(\"Acoes_de_Criacao\").cast(\"integer\")) \\\n",
    "    .withColumn(\"Acoes_de_Gol\", col(\"Acoes_de_Gol\").cast(\"double\")) \\\n",
    "    .withColumn(\"Passes_Completos\", col(\"Passes_Completos\").cast(\"double\")) \\\n",
    "    .withColumn(\"Passes_Tentados\", col(\"Passes_Tentados\").cast(\"double\")) \\\n",
    "    .withColumn(\"Prct_Passes_Certos\", col(\"Prct_Passes_Certos\").cast(\"string\")) \\\n",
    "    .withColumn(\"Passes_Progressivos\", col(\"Passes_Progressivos\").cast(\"double\")) \\\n",
    "    .withColumn(\"Conducoes_de_Bola\", col(\"Conducoes_de_Bola\").cast(\"double\")) \\\n",
    "    .withColumn(\"Conducoes_Progressivas\", col(\"Conducoes_Progressivas\").cast(\"double\")) \\\n",
    "    .withColumn(\"Dribles_Tentados\", col(\"Dribles_Tentados\").cast(\"double\")) \\\n",
    "    .withColumn(\"Dribles_Completos\", col(\"Dribles_Completos\").cast(\"double\"))\n",
    "\n"
   ]
  },
  {
   "cell_type": "markdown",
   "metadata": {
    "application/vnd.databricks.v1+cell": {
     "cellMetadata": {},
     "inputWidgets": {},
     "nuid": "b6087c7e-3f62-4778-8c79-78f420fa2bf2",
     "showTitle": false,
     "tableResultSettingsMap": {},
     "title": ""
    }
   },
   "source": [
    "#### 🔹União da base original com os dados preenchidos manualmente"
   ]
  },
  {
   "cell_type": "code",
   "execution_count": 0,
   "metadata": {
    "application/vnd.databricks.v1+cell": {
     "cellMetadata": {
      "byteLimit": 2048000,
      "rowLimit": 10000
     },
     "inputWidgets": {},
     "nuid": "aa43fc00-660c-4b5f-a644-009f3faf4fd6",
     "showTitle": false,
     "tableResultSettingsMap": {},
     "title": ""
    }
   },
   "outputs": [
    {
     "output_type": "stream",
     "name": "stdout",
     "output_type": "stream",
     "text": [
      "📌 Registros no df_bronze antes da união: 11682\n📌 Registros no df_bronze depois da união: 11746\n✅ Registros adicionados com sucesso!\n✅ Dados manuais adicionados com sucesso!\n"
     ]
    }
   ],
   "source": [
    "# Contar registros antes da união\n",
    "registros_antes = df_bronze.count()\n",
    "print(f\"📌 Registros no df_bronze antes da união: {registros_antes}\")\n",
    "\n",
    "# Unir os DataFrames\n",
    "df_bronze = df_bronze.unionByName(df_input_manual)\n",
    "\n",
    "# Contar registros depois da união\n",
    "registros_depois = df_bronze.count()\n",
    "print(f\"📌 Registros no df_bronze depois da união: {registros_depois}\")\n",
    "\n",
    "# Verificar se houve adição de registros\n",
    "if registros_depois > registros_antes:\n",
    "    print(\"✅ Registros adicionados com sucesso!\")\n",
    "else:\n",
    "    print(\"⚠️ Nenhum registro foi adicionado. Precisamos investigar.\")\n",
    "\n",
    "print(f'✅ Dados manuais adicionados com sucesso!')"
   ]
  },
  {
   "cell_type": "markdown",
   "metadata": {
    "application/vnd.databricks.v1+cell": {
     "cellMetadata": {},
     "inputWidgets": {},
     "nuid": "34f0fc86-a142-4281-981e-12cdb4758104",
     "showTitle": false,
     "tableResultSettingsMap": {},
     "title": ""
    }
   },
   "source": [
    "## 🔶 Analise Geral do arquivo Tratado (Checagem) "
   ]
  },
  {
   "cell_type": "markdown",
   "metadata": {
    "application/vnd.databricks.v1+cell": {
     "cellMetadata": {},
     "inputWidgets": {},
     "nuid": "2d6d56fb-8866-4e21-8d23-7e94cdfa1238",
     "showTitle": false,
     "tableResultSettingsMap": {},
     "title": ""
    }
   },
   "source": [
    "#### 🔹contagem de valores vazios por coluna"
   ]
  },
  {
   "cell_type": "code",
   "execution_count": 0,
   "metadata": {
    "application/vnd.databricks.v1+cell": {
     "cellMetadata": {
      "byteLimit": 2048000,
      "rowLimit": 10000
     },
     "inputWidgets": {},
     "nuid": "6d0ec530-2817-4c72-b56d-37cc9e0571f0",
     "showTitle": false,
     "tableResultSettingsMap": {},
     "title": ""
    }
   },
   "outputs": [
    {
     "output_type": "display_data",
     "data": {
      "application/vnd.databricks.v1+bamboolib_hint": "{\"pd.DataFrames\": [], \"version\": \"0.0.1\"}",
      "text/plain": []
     },
     "metadata": {},
     "output_type": "display_data"
    },
    {
     "output_type": "stream",
     "name": "stdout",
     "output_type": "stream",
     "text": [
      "📌 Contagem de valores vazios por coluna:\n"
     ]
    },
    {
     "output_type": "display_data",
     "data": {
      "text/html": [
       "<div>\n",
       "<style scoped>\n",
       "    .dataframe tbody tr th:only-of-type {\n",
       "        vertical-align: middle;\n",
       "    }\n",
       "\n",
       "    .dataframe tbody tr th {\n",
       "        vertical-align: top;\n",
       "    }\n",
       "\n",
       "    .dataframe thead th {\n",
       "        text-align: right;\n",
       "    }\n",
       "</style>\n",
       "<table border=\"1\" class=\"dataframe\">\n",
       "  <thead>\n",
       "    <tr style=\"text-align: right;\">\n",
       "      <th></th>\n",
       "      <th>Jogador</th>\n",
       "      <th>Clube</th>\n",
       "      <th>Numero_Camisa</th>\n",
       "      <th>Nacionalidade</th>\n",
       "      <th>Posicao_em_Campo</th>\n",
       "      <th>idade</th>\n",
       "      <th>Minutos_em_Campo</th>\n",
       "      <th>Gols</th>\n",
       "      <th>Assitencias</th>\n",
       "      <th>Penaltis_Batidos</th>\n",
       "      <th>Penaltis_Tentados</th>\n",
       "      <th>Total_Chutes</th>\n",
       "      <th>Chutes_a_Gol</th>\n",
       "      <th>Cartao_Amarelo</th>\n",
       "      <th>Cartao_Vermelho</th>\n",
       "      <th>Toques_na_Bola</th>\n",
       "      <th>Desarmes</th>\n",
       "      <th>Interceptacoes</th>\n",
       "      <th>Bloqueios</th>\n",
       "      <th>Gols_Esperados</th>\n",
       "      <th>Assistencias_Esperadas</th>\n",
       "      <th>Acoes_de_Criacao</th>\n",
       "      <th>Acoes_de_Gol</th>\n",
       "      <th>Passes_Completos</th>\n",
       "      <th>Passes_Tentados</th>\n",
       "      <th>Prct_Passes_Certos</th>\n",
       "      <th>Passes_Progressivos</th>\n",
       "      <th>Conducoes_de_Bola</th>\n",
       "      <th>Conducoes_Progressivas</th>\n",
       "      <th>Dribles_Tentados</th>\n",
       "      <th>Dribles_Completos</th>\n",
       "      <th>Data</th>\n",
       "      <th>Origem_Dado</th>\n",
       "    </tr>\n",
       "  </thead>\n",
       "  <tbody>\n",
       "    <tr>\n",
       "      <th>0</th>\n",
       "      <td>0</td>\n",
       "      <td>0</td>\n",
       "      <td>0</td>\n",
       "      <td>0</td>\n",
       "      <td>0</td>\n",
       "      <td>0</td>\n",
       "      <td>0</td>\n",
       "      <td>0</td>\n",
       "      <td>0</td>\n",
       "      <td>0</td>\n",
       "      <td>0</td>\n",
       "      <td>0</td>\n",
       "      <td>0</td>\n",
       "      <td>0</td>\n",
       "      <td>0</td>\n",
       "      <td>0</td>\n",
       "      <td>0</td>\n",
       "      <td>0</td>\n",
       "      <td>0</td>\n",
       "      <td>15</td>\n",
       "      <td>11</td>\n",
       "      <td>0</td>\n",
       "      <td>0</td>\n",
       "      <td>0</td>\n",
       "      <td>0</td>\n",
       "      <td>2</td>\n",
       "      <td>0</td>\n",
       "      <td>0</td>\n",
       "      <td>0</td>\n",
       "      <td>0</td>\n",
       "      <td>0</td>\n",
       "      <td>0</td>\n",
       "      <td>0</td>\n",
       "    </tr>\n",
       "  </tbody>\n",
       "</table>\n",
       "</div>"
      ]
     },
     "metadata": {
      "application/vnd.databricks.v1+output": {
       "addedWidgets": {},
       "arguments": {},
       "data": "<div>\n<style scoped>\n    .dataframe tbody tr th:only-of-type {\n        vertical-align: middle;\n    }\n\n    .dataframe tbody tr th {\n        vertical-align: top;\n    }\n\n    .dataframe thead th {\n        text-align: right;\n    }\n</style>\n<table border=\"1\" class=\"dataframe\">\n  <thead>\n    <tr style=\"text-align: right;\">\n      <th></th>\n      <th>Jogador</th>\n      <th>Clube</th>\n      <th>Numero_Camisa</th>\n      <th>Nacionalidade</th>\n      <th>Posicao_em_Campo</th>\n      <th>idade</th>\n      <th>Minutos_em_Campo</th>\n      <th>Gols</th>\n      <th>Assitencias</th>\n      <th>Penaltis_Batidos</th>\n      <th>Penaltis_Tentados</th>\n      <th>Total_Chutes</th>\n      <th>Chutes_a_Gol</th>\n      <th>Cartao_Amarelo</th>\n      <th>Cartao_Vermelho</th>\n      <th>Toques_na_Bola</th>\n      <th>Desarmes</th>\n      <th>Interceptacoes</th>\n      <th>Bloqueios</th>\n      <th>Gols_Esperados</th>\n      <th>Assistencias_Esperadas</th>\n      <th>Acoes_de_Criacao</th>\n      <th>Acoes_de_Gol</th>\n      <th>Passes_Completos</th>\n      <th>Passes_Tentados</th>\n      <th>Prct_Passes_Certos</th>\n      <th>Passes_Progressivos</th>\n      <th>Conducoes_de_Bola</th>\n      <th>Conducoes_Progressivas</th>\n      <th>Dribles_Tentados</th>\n      <th>Dribles_Completos</th>\n      <th>Data</th>\n      <th>Origem_Dado</th>\n    </tr>\n  </thead>\n  <tbody>\n    <tr>\n      <th>0</th>\n      <td>0</td>\n      <td>0</td>\n      <td>0</td>\n      <td>0</td>\n      <td>0</td>\n      <td>0</td>\n      <td>0</td>\n      <td>0</td>\n      <td>0</td>\n      <td>0</td>\n      <td>0</td>\n      <td>0</td>\n      <td>0</td>\n      <td>0</td>\n      <td>0</td>\n      <td>0</td>\n      <td>0</td>\n      <td>0</td>\n      <td>0</td>\n      <td>15</td>\n      <td>11</td>\n      <td>0</td>\n      <td>0</td>\n      <td>0</td>\n      <td>0</td>\n      <td>2</td>\n      <td>0</td>\n      <td>0</td>\n      <td>0</td>\n      <td>0</td>\n      <td>0</td>\n      <td>0</td>\n      <td>0</td>\n    </tr>\n  </tbody>\n</table>\n</div>",
       "datasetInfos": [],
       "metadata": {},
       "removedWidgets": [],
       "textData": null,
       "type": "htmlSandbox"
      }
     },
     "output_type": "display_data"
    }
   ],
   "source": [
    "from pyspark.sql.functions import col, lit, concat_ws, monotonically_increasing_id, quarter, when, to_date, sum\n",
    "import pandas as pd\n",
    "\n",
    "pd.set_option('display.max_columns', None)  # Exibe todas as colunas\n",
    "pd.set_option('display.width', 1000)        # Ajusta a largura para evitar cortes\n",
    "\n",
    "# 1️⃣. Criar um DataFrame com a contagem de valores vazios por coluna\n",
    "empty_counts = df_bronze.select([sum(col(c).isNull().cast(\"int\")).alias(c) for c in df_bronze.columns])\n",
    "\n",
    "print(\"📌 Contagem de valores vazios por coluna:\")\n",
    "empty_counts.toPandas()"
   ]
  },
  {
   "cell_type": "markdown",
   "metadata": {
    "application/vnd.databricks.v1+cell": {
     "cellMetadata": {},
     "inputWidgets": {},
     "nuid": "534e356b-c215-4c2d-9af5-ffa55ffb49b3",
     "showTitle": false,
     "tableResultSettingsMap": {},
     "title": ""
    }
   },
   "source": [
    "#### 🔹resumo estatístico"
   ]
  },
  {
   "cell_type": "code",
   "execution_count": 0,
   "metadata": {
    "application/vnd.databricks.v1+cell": {
     "cellMetadata": {
      "byteLimit": 2048000,
      "rowLimit": 10000
     },
     "inputWidgets": {},
     "nuid": "c51140b3-f6fb-48b6-b410-fb3861cf64a6",
     "showTitle": false,
     "tableResultSettingsMap": {},
     "title": ""
    }
   },
   "outputs": [
    {
     "output_type": "stream",
     "name": "stdout",
     "output_type": "stream",
     "text": [
      "📌 Estatísticas do DataFrame:\n"
     ]
    },
    {
     "output_type": "display_data",
     "data": {
      "text/html": [
       "<div>\n",
       "<style scoped>\n",
       "    .dataframe tbody tr th:only-of-type {\n",
       "        vertical-align: middle;\n",
       "    }\n",
       "\n",
       "    .dataframe tbody tr th {\n",
       "        vertical-align: top;\n",
       "    }\n",
       "\n",
       "    .dataframe thead th {\n",
       "        text-align: right;\n",
       "    }\n",
       "</style>\n",
       "<table border=\"1\" class=\"dataframe\">\n",
       "  <thead>\n",
       "    <tr style=\"text-align: right;\">\n",
       "      <th></th>\n",
       "      <th>summary</th>\n",
       "      <th>Jogador</th>\n",
       "      <th>Clube</th>\n",
       "      <th>Numero_Camisa</th>\n",
       "      <th>Nacionalidade</th>\n",
       "      <th>Posicao_em_Campo</th>\n",
       "      <th>idade</th>\n",
       "      <th>Minutos_em_Campo</th>\n",
       "      <th>Gols</th>\n",
       "      <th>Assitencias</th>\n",
       "      <th>Penaltis_Batidos</th>\n",
       "      <th>Penaltis_Tentados</th>\n",
       "      <th>Total_Chutes</th>\n",
       "      <th>Chutes_a_Gol</th>\n",
       "      <th>Cartao_Amarelo</th>\n",
       "      <th>Cartao_Vermelho</th>\n",
       "      <th>Toques_na_Bola</th>\n",
       "      <th>Desarmes</th>\n",
       "      <th>Interceptacoes</th>\n",
       "      <th>Bloqueios</th>\n",
       "      <th>Gols_Esperados</th>\n",
       "      <th>Assistencias_Esperadas</th>\n",
       "      <th>Acoes_de_Criacao</th>\n",
       "      <th>Acoes_de_Gol</th>\n",
       "      <th>Passes_Completos</th>\n",
       "      <th>Passes_Tentados</th>\n",
       "      <th>Prct_Passes_Certos</th>\n",
       "      <th>Passes_Progressivos</th>\n",
       "      <th>Conducoes_de_Bola</th>\n",
       "      <th>Conducoes_Progressivas</th>\n",
       "      <th>Dribles_Tentados</th>\n",
       "      <th>Dribles_Completos</th>\n",
       "      <th>Origem_Dado</th>\n",
       "    </tr>\n",
       "  </thead>\n",
       "  <tbody>\n",
       "    <tr>\n",
       "      <th>0</th>\n",
       "      <td>count</td>\n",
       "      <td>11746</td>\n",
       "      <td>11746</td>\n",
       "      <td>11746</td>\n",
       "      <td>11746</td>\n",
       "      <td>11746</td>\n",
       "      <td>11746</td>\n",
       "      <td>11746</td>\n",
       "      <td>11746</td>\n",
       "      <td>11746</td>\n",
       "      <td>11746</td>\n",
       "      <td>11746</td>\n",
       "      <td>11746</td>\n",
       "      <td>11746</td>\n",
       "      <td>11746</td>\n",
       "      <td>11746</td>\n",
       "      <td>11746</td>\n",
       "      <td>11746</td>\n",
       "      <td>11746</td>\n",
       "      <td>11746</td>\n",
       "      <td>11731</td>\n",
       "      <td>11735</td>\n",
       "      <td>11746</td>\n",
       "      <td>11746</td>\n",
       "      <td>11746</td>\n",
       "      <td>11746</td>\n",
       "      <td>11744</td>\n",
       "      <td>11746</td>\n",
       "      <td>11746</td>\n",
       "      <td>11746</td>\n",
       "      <td>11746</td>\n",
       "      <td>11746</td>\n",
       "      <td>11746</td>\n",
       "    </tr>\n",
       "    <tr>\n",
       "      <th>1</th>\n",
       "      <td>min</td>\n",
       "      <td>Abner</td>\n",
       "      <td>Athletico-PR</td>\n",
       "      <td>1</td>\n",
       "      <td>ANG</td>\n",
       "      <td>AM</td>\n",
       "      <td>16</td>\n",
       "      <td>0.0</td>\n",
       "      <td>0</td>\n",
       "      <td>0</td>\n",
       "      <td>0</td>\n",
       "      <td>0</td>\n",
       "      <td>0</td>\n",
       "      <td>0</td>\n",
       "      <td>0</td>\n",
       "      <td>0</td>\n",
       "      <td>0.0</td>\n",
       "      <td>0.0</td>\n",
       "      <td>0</td>\n",
       "      <td>0.0</td>\n",
       "      <td>0.0</td>\n",
       "      <td>0.0</td>\n",
       "      <td>0.0</td>\n",
       "      <td>0.0</td>\n",
       "      <td>0.0</td>\n",
       "      <td>0.0</td>\n",
       "      <td>0.0</td>\n",
       "      <td>0.0</td>\n",
       "      <td>0.0</td>\n",
       "      <td>0.0</td>\n",
       "      <td>0.0</td>\n",
       "      <td>0.0</td>\n",
       "      <td>Input Manual</td>\n",
       "    </tr>\n",
       "    <tr>\n",
       "      <th>2</th>\n",
       "      <td>max</td>\n",
       "      <td>Óscar Romero</td>\n",
       "      <td>Vasco da Gama</td>\n",
       "      <td>200</td>\n",
       "      <td>VEN</td>\n",
       "      <td>WB,RW</td>\n",
       "      <td>44-032</td>\n",
       "      <td>90.0</td>\n",
       "      <td>3</td>\n",
       "      <td>2</td>\n",
       "      <td>2</td>\n",
       "      <td>2</td>\n",
       "      <td>9</td>\n",
       "      <td>6</td>\n",
       "      <td>2</td>\n",
       "      <td>1</td>\n",
       "      <td>143.0</td>\n",
       "      <td>12.0</td>\n",
       "      <td>8</td>\n",
       "      <td>7.0</td>\n",
       "      <td>1.7</td>\n",
       "      <td>1.3</td>\n",
       "      <td>14.0</td>\n",
       "      <td>4.0</td>\n",
       "      <td>122.0</td>\n",
       "      <td>130.0</td>\n",
       "      <td>991.0</td>\n",
       "      <td>27.0</td>\n",
       "      <td>106.0</td>\n",
       "      <td>17.0</td>\n",
       "      <td>16.0</td>\n",
       "      <td>10.0</td>\n",
       "      <td>Original</td>\n",
       "    </tr>\n",
       "  </tbody>\n",
       "</table>\n",
       "</div>"
      ]
     },
     "metadata": {
      "application/vnd.databricks.v1+output": {
       "addedWidgets": {},
       "arguments": {},
       "data": "<div>\n<style scoped>\n    .dataframe tbody tr th:only-of-type {\n        vertical-align: middle;\n    }\n\n    .dataframe tbody tr th {\n        vertical-align: top;\n    }\n\n    .dataframe thead th {\n        text-align: right;\n    }\n</style>\n<table border=\"1\" class=\"dataframe\">\n  <thead>\n    <tr style=\"text-align: right;\">\n      <th></th>\n      <th>summary</th>\n      <th>Jogador</th>\n      <th>Clube</th>\n      <th>Numero_Camisa</th>\n      <th>Nacionalidade</th>\n      <th>Posicao_em_Campo</th>\n      <th>idade</th>\n      <th>Minutos_em_Campo</th>\n      <th>Gols</th>\n      <th>Assitencias</th>\n      <th>Penaltis_Batidos</th>\n      <th>Penaltis_Tentados</th>\n      <th>Total_Chutes</th>\n      <th>Chutes_a_Gol</th>\n      <th>Cartao_Amarelo</th>\n      <th>Cartao_Vermelho</th>\n      <th>Toques_na_Bola</th>\n      <th>Desarmes</th>\n      <th>Interceptacoes</th>\n      <th>Bloqueios</th>\n      <th>Gols_Esperados</th>\n      <th>Assistencias_Esperadas</th>\n      <th>Acoes_de_Criacao</th>\n      <th>Acoes_de_Gol</th>\n      <th>Passes_Completos</th>\n      <th>Passes_Tentados</th>\n      <th>Prct_Passes_Certos</th>\n      <th>Passes_Progressivos</th>\n      <th>Conducoes_de_Bola</th>\n      <th>Conducoes_Progressivas</th>\n      <th>Dribles_Tentados</th>\n      <th>Dribles_Completos</th>\n      <th>Origem_Dado</th>\n    </tr>\n  </thead>\n  <tbody>\n    <tr>\n      <th>0</th>\n      <td>count</td>\n      <td>11746</td>\n      <td>11746</td>\n      <td>11746</td>\n      <td>11746</td>\n      <td>11746</td>\n      <td>11746</td>\n      <td>11746</td>\n      <td>11746</td>\n      <td>11746</td>\n      <td>11746</td>\n      <td>11746</td>\n      <td>11746</td>\n      <td>11746</td>\n      <td>11746</td>\n      <td>11746</td>\n      <td>11746</td>\n      <td>11746</td>\n      <td>11746</td>\n      <td>11746</td>\n      <td>11731</td>\n      <td>11735</td>\n      <td>11746</td>\n      <td>11746</td>\n      <td>11746</td>\n      <td>11746</td>\n      <td>11744</td>\n      <td>11746</td>\n      <td>11746</td>\n      <td>11746</td>\n      <td>11746</td>\n      <td>11746</td>\n      <td>11746</td>\n    </tr>\n    <tr>\n      <th>1</th>\n      <td>min</td>\n      <td>Abner</td>\n      <td>Athletico-PR</td>\n      <td>1</td>\n      <td>ANG</td>\n      <td>AM</td>\n      <td>16</td>\n      <td>0.0</td>\n      <td>0</td>\n      <td>0</td>\n      <td>0</td>\n      <td>0</td>\n      <td>0</td>\n      <td>0</td>\n      <td>0</td>\n      <td>0</td>\n      <td>0.0</td>\n      <td>0.0</td>\n      <td>0</td>\n      <td>0.0</td>\n      <td>0.0</td>\n      <td>0.0</td>\n      <td>0.0</td>\n      <td>0.0</td>\n      <td>0.0</td>\n      <td>0.0</td>\n      <td>0.0</td>\n      <td>0.0</td>\n      <td>0.0</td>\n      <td>0.0</td>\n      <td>0.0</td>\n      <td>0.0</td>\n      <td>Input Manual</td>\n    </tr>\n    <tr>\n      <th>2</th>\n      <td>max</td>\n      <td>Óscar Romero</td>\n      <td>Vasco da Gama</td>\n      <td>200</td>\n      <td>VEN</td>\n      <td>WB,RW</td>\n      <td>44-032</td>\n      <td>90.0</td>\n      <td>3</td>\n      <td>2</td>\n      <td>2</td>\n      <td>2</td>\n      <td>9</td>\n      <td>6</td>\n      <td>2</td>\n      <td>1</td>\n      <td>143.0</td>\n      <td>12.0</td>\n      <td>8</td>\n      <td>7.0</td>\n      <td>1.7</td>\n      <td>1.3</td>\n      <td>14.0</td>\n      <td>4.0</td>\n      <td>122.0</td>\n      <td>130.0</td>\n      <td>991.0</td>\n      <td>27.0</td>\n      <td>106.0</td>\n      <td>17.0</td>\n      <td>16.0</td>\n      <td>10.0</td>\n      <td>Original</td>\n    </tr>\n  </tbody>\n</table>\n</div>",
       "datasetInfos": [],
       "metadata": {},
       "removedWidgets": [],
       "textData": null,
       "type": "htmlSandbox"
      }
     },
     "output_type": "display_data"
    }
   ],
   "source": [
    "# 2️⃣. Exibir resumo estatístico das colunas + contagem de valores vazios\n",
    "print(\"📌 Estatísticas do DataFrame:\")\n",
    "# Importando biblioteca do Spark\n",
    "import pyspark.sql.functions as F\n",
    "import pandas as pd\n",
    "\n",
    "# Convertendo para Pandas e exibindo todas as colunas\n",
    "pd.set_option('display.max_columns', None)\n",
    "df_bronze.summary(\"count\", \"min\", \"max\").toPandas()\n"
   ]
  },
  {
   "cell_type": "markdown",
   "metadata": {
    "application/vnd.databricks.v1+cell": {
     "cellMetadata": {},
     "inputWidgets": {},
     "nuid": "68b2cb22-fa07-4d3c-b448-a64ae3b9ed3b",
     "showTitle": false,
     "tableResultSettingsMap": {},
     "title": ""
    }
   },
   "source": [
    "#### 🔹Ajuste nos Tipos de Dados"
   ]
  },
  {
   "cell_type": "code",
   "execution_count": 0,
   "metadata": {
    "application/vnd.databricks.v1+cell": {
     "cellMetadata": {
      "byteLimit": 2048000,
      "rowLimit": 10000
     },
     "inputWidgets": {},
     "nuid": "42563c9d-2a48-4f88-8bee-39d3e9152118",
     "showTitle": false,
     "tableResultSettingsMap": {},
     "title": ""
    }
   },
   "outputs": [],
   "source": [
    "from pyspark.sql.functions import col\n",
    "\n",
    "df_bronze = df_bronze.withColumn(\"Prct_Passes_Certos\", col(\"Prct_Passes_Certos\").cast(\"double\"))\n"
   ]
  },
  {
   "cell_type": "markdown",
   "metadata": {
    "application/vnd.databricks.v1+cell": {
     "cellMetadata": {},
     "inputWidgets": {},
     "nuid": "2e181ab1-5c53-433c-b33f-2c9b38d5a39f",
     "showTitle": false,
     "tableResultSettingsMap": {},
     "title": ""
    }
   },
   "source": [
    "## 💾 Salvar os dados na camada Silver (Parquet no S3)"
   ]
  },
  {
   "cell_type": "markdown",
   "metadata": {
    "application/vnd.databricks.v1+cell": {
     "cellMetadata": {},
     "inputWidgets": {},
     "nuid": "e353505a-3ca2-4abc-817f-ead9e32de101",
     "showTitle": false,
     "tableResultSettingsMap": {},
     "title": ""
    }
   },
   "source": [
    "#### 🔹 Salvando o arquivo no S3 camada Silver"
   ]
  },
  {
   "cell_type": "code",
   "execution_count": 0,
   "metadata": {
    "application/vnd.databricks.v1+cell": {
     "cellMetadata": {
      "byteLimit": 2048000,
      "rowLimit": 10000
     },
     "inputWidgets": {},
     "nuid": "7b3da7e6-b98b-472a-9829-61cf54a3928d",
     "showTitle": false,
     "tableResultSettingsMap": {},
     "title": ""
    }
   },
   "outputs": [
    {
     "output_type": "stream",
     "name": "stdout",
     "output_type": "stream",
     "text": [
      "✅ Dados salvos corretamente em Parquet e Delta, em pastas separadas!\n"
     ]
    }
   ],
   "source": [
    "# Caminho correto no S3 para armazenar os arquivos\n",
    "silver_parquet_path = f\"s3a://{aws_bucket_name}/silver/parquet/brasil_seriea_2024_estatistica_jogador\"\n",
    "silver_delta_path = f\"s3a://{aws_bucket_name}/silver/delta/brasil_seriea_2024_estatistica_jogador\"\n",
    "\n",
    "# Remover o Delta anterior (use com cautela)\n",
    "dbutils.fs.rm(silver_delta_path, recurse=True)\n",
    "\n",
    "# Salvar em Parquet (para acessibilidade geral)\n",
    "df_bronze.write.mode(\"overwrite\").parquet(silver_parquet_path)\n",
    "\n",
    "# Salvar em Delta (para controle e governança)\n",
    "df_bronze.write.format(\"delta\").mode(\"overwrite\").save(silver_delta_path)\n",
    "\n",
    "print(\"✅ Dados salvos corretamente em Parquet e Delta, em pastas separadas!\")"
   ]
  },
  {
   "cell_type": "markdown",
   "metadata": {
    "application/vnd.databricks.v1+cell": {
     "cellMetadata": {},
     "inputWidgets": {},
     "nuid": "47346c46-ef03-4c0f-92e1-ef6be528e5bf",
     "showTitle": false,
     "tableResultSettingsMap": {},
     "title": ""
    }
   },
   "source": [
    "#### 🔹 Salvando o arquivo no DBFS"
   ]
  },
  {
   "cell_type": "code",
   "execution_count": 0,
   "metadata": {
    "application/vnd.databricks.v1+cell": {
     "cellMetadata": {
      "byteLimit": 2048000,
      "rowLimit": 10000
     },
     "inputWidgets": {},
     "nuid": "d860bb21-16b3-403f-a43b-9fcd7d03e827",
     "showTitle": false,
     "tableResultSettingsMap": {},
     "title": ""
    }
   },
   "outputs": [
    {
     "output_type": "stream",
     "name": "stdout",
     "output_type": "stream",
     "text": [
      "✅ Dados transformados e salvos na camada Silver no DBFS com sucesso!\n"
     ]
    }
   ],
   "source": [
    "# Caminho no DBFS para armazenar os dados Silver temporariamente\n",
    "dbfs_path_silver_estatisticas = \"dbfs:/mnt/silver_temp/estatisticas\"\n",
    "\n",
    "# Salvar no DBFS em formato Parquet\n",
    "df_bronze.write.mode(\"overwrite\").parquet(dbfs_path_silver_estatisticas)\n",
    "\n",
    "print(\"✅ Dados transformados e salvos na camada Silver no DBFS com sucesso!\")"
   ]
  }
 ],
 "metadata": {
  "application/vnd.databricks.v1+notebook": {
   "computePreferences": null,
   "dashboards": [],
   "environmentMetadata": {
    "base_environment": "",
    "environment_version": "1"
   },
   "inputWidgetPreferences": null,
   "language": "python",
   "notebookMetadata": {
    "pythonIndentUnit": 4
   },
   "notebookName": "02C-Ingestao-Bronze-EstatisticaJogadorPorPartida",
   "widgets": {}
  }
 },
 "nbformat": 4,
 "nbformat_minor": 0
}
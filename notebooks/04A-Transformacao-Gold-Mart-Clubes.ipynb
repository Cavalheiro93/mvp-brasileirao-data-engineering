{
 "cells": [
  {
   "cell_type": "markdown",
   "metadata": {
    "application/vnd.databricks.v1+cell": {
     "cellMetadata": {
      "byteLimit": 2048000,
      "rowLimit": 10000
     },
     "inputWidgets": {},
     "nuid": "f72b554a-5078-48a9-a65c-7fe3cca42150",
     "showTitle": false,
     "tableResultSettingsMap": {},
     "title": ""
    }
   },
   "source": [
    "# 📌 Preparação das Tabelas Temporárias (TempViews)\n",
    "\n",
    "Nessa etapa iniciaremos a preparação dos dados para a Camada Gold (Data Warehouse).\n",
    "\n",
    "- 🔶 Ler os arquivos no DBFS (para não ficar lendo toda hora do S3 e consequentemente aumentar o custo por leitura)\n",
    "- 🔶 Criar nossas Views Temporarias\n",
    "- 🔶 Criar nossas View Temporaria da Classificação Detalhada\n"
   ]
  },
  {
   "cell_type": "markdown",
   "metadata": {
    "application/vnd.databricks.v1+cell": {
     "cellMetadata": {
      "byteLimit": 2048000,
      "rowLimit": 10000
     },
     "inputWidgets": {},
     "nuid": "dac518c7-e0aa-4888-ae93-9f04c8db297a",
     "showTitle": false,
     "tableResultSettingsMap": {},
     "title": ""
    }
   },
   "source": [
    "## 🔶 Leitura dos Arquivos no DBFS"
   ]
  },
  {
   "cell_type": "markdown",
   "metadata": {
    "application/vnd.databricks.v1+cell": {
     "cellMetadata": {
      "byteLimit": 2048000,
      "rowLimit": 10000
     },
     "inputWidgets": {},
     "nuid": "28fc9525-92d0-428d-bd07-33ac25732a99",
     "showTitle": false,
     "tableResultSettingsMap": {},
     "title": ""
    }
   },
   "source": [
    "### 🔹 Dataframes das tabelas"
   ]
  },
  {
   "cell_type": "code",
   "execution_count": 0,
   "metadata": {
    "application/vnd.databricks.v1+cell": {
     "cellMetadata": {
      "byteLimit": 2048000,
      "rowLimit": 10000
     },
     "inputWidgets": {},
     "nuid": "e1903aed-2cf6-436e-9c07-5a3beb105fec",
     "showTitle": false,
     "tableResultSettingsMap": {},
     "title": ""
    }
   },
   "outputs": [
    {
     "output_type": "stream",
     "name": "stdout",
     "output_type": "stream",
     "text": [
      "✅ Dataframes criado com sucesso a partir do DBFS\n"
     ]
    }
   ],
   "source": [
    "# Ler os dados do DBFS em vez do S3\n",
    "df_todas_partidas = spark.read.parquet(\"dbfs:/mnt/silver_temp/todas_partidas\")\n",
    "df_classificacao = spark.read.parquet(\"dbfs:/mnt/silver_temp/classificacao\")\n",
    "df_estatisticas = spark.read.parquet(\"dbfs:/mnt/silver_temp/estatisticas\")\n",
    "\n",
    "print('✅ Dataframes criado com sucesso a partir do DBFS')"
   ]
  },
  {
   "cell_type": "markdown",
   "metadata": {
    "application/vnd.databricks.v1+cell": {
     "cellMetadata": {
      "byteLimit": 2048000,
      "rowLimit": 10000
     },
     "inputWidgets": {},
     "nuid": "7a89d836-51f5-4007-ad06-f2ce643bacfa",
     "showTitle": false,
     "tableResultSettingsMap": {},
     "title": ""
    }
   },
   "source": [
    "## 🔶 Criação das Views Temporárias"
   ]
  },
  {
   "cell_type": "markdown",
   "metadata": {
    "application/vnd.databricks.v1+cell": {
     "cellMetadata": {
      "byteLimit": 2048000,
      "rowLimit": 10000
     },
     "inputWidgets": {},
     "nuid": "f6969547-f440-452a-be29-1ac00faee7fc",
     "showTitle": false,
     "tableResultSettingsMap": {},
     "title": ""
    }
   },
   "source": [
    "### 🔹 TempViews Principais"
   ]
  },
  {
   "cell_type": "code",
   "execution_count": 0,
   "metadata": {
    "application/vnd.databricks.v1+cell": {
     "cellMetadata": {
      "byteLimit": 2048000,
      "rowLimit": 10000
     },
     "inputWidgets": {},
     "nuid": "a6071521-d355-4a98-911a-8ab5786e2bc3",
     "showTitle": false,
     "tableResultSettingsMap": {},
     "title": ""
    }
   },
   "outputs": [],
   "source": [
    "# Recriar as views temporárias\n",
    "df_classificacao.createOrReplaceTempView(\"classificacao\")\n",
    "df_estatisticas.createOrReplaceTempView(\"estatisticas\")\n",
    "df_todas_partidas.createOrReplaceTempView(\"todas_partidas\")\n"
   ]
  },
  {
   "cell_type": "markdown",
   "metadata": {
    "application/vnd.databricks.v1+cell": {
     "cellMetadata": {
      "byteLimit": 2048000,
      "rowLimit": 10000
     },
     "inputWidgets": {},
     "nuid": "11b67bd8-b204-481c-b748-f1b4fc7769ea",
     "showTitle": false,
     "tableResultSettingsMap": {},
     "title": ""
    }
   },
   "source": [
    "### 🔹 TempView 'Base' (CTE)\n",
    "- 📍 Essa view será a nossa Classificação só que um pouco resumida\n",
    "- 📍 Também adicionamos uma coluna `tier_clubes` para separar os clubes por Tier"
   ]
  },
  {
   "cell_type": "code",
   "execution_count": 0,
   "metadata": {
    "application/vnd.databricks.v1+cell": {
     "cellMetadata": {
      "byteLimit": 2048000,
      "implicitDf": true,
      "rowLimit": 10000
     },
     "inputWidgets": {},
     "nuid": "44b705ed-51ad-46fc-b189-ba2e71c6dadf",
     "showTitle": false,
     "tableResultSettingsMap": {},
     "title": ""
    }
   },
   "outputs": [
    {
     "output_type": "display_data",
     "data": {
      "text/html": [
       "<style scoped>\n",
       "  .table-result-container {\n",
       "    max-height: 300px;\n",
       "    overflow: auto;\n",
       "  }\n",
       "  table, th, td {\n",
       "    border: 1px solid black;\n",
       "    border-collapse: collapse;\n",
       "  }\n",
       "  th, td {\n",
       "    padding: 5px;\n",
       "  }\n",
       "  th {\n",
       "    text-align: left;\n",
       "  }\n",
       "</style><div class='table-result-container'><table class='table-result'><thead style='background-color: white'><tr></tr></thead><tbody></tbody></table></div>"
      ]
     },
     "metadata": {
      "application/vnd.databricks.v1+output": {
       "addedWidgets": {},
       "aggData": [],
       "aggError": "",
       "aggOverflow": false,
       "aggSchema": [],
       "aggSeriesLimitReached": false,
       "aggType": "",
       "arguments": {},
       "columnCustomDisplayInfos": {},
       "data": [],
       "datasetInfos": [],
       "dbfsResultPath": null,
       "isJsonSchema": true,
       "metadata": {},
       "overflow": false,
       "plotOptions": {
        "customPlotOptions": {},
        "displayType": "table",
        "pivotAggregation": null,
        "pivotColumns": null,
        "xColumns": null,
        "yColumns": null
       },
       "removedWidgets": [],
       "schema": [],
       "type": "table"
      }
     },
     "output_type": "display_data"
    }
   ],
   "source": [
    "%sql\n",
    "-- Criando a CTE (Common Table Expression) Base para calcular os TIERs dos clubes\n",
    "CREATE OR REPLACE TEMP VIEW Base AS\n",
    "SELECT \n",
    "    c.posicao,        -- Posição final do clube no campeonato\n",
    "    c.clube,          -- Nome do clube\n",
    "    c.pontuacao,\n",
    "    -- Definição do TIER com base na posição na tabela\n",
    "    CASE\n",
    "        WHEN c.posicao BETWEEN 1 AND 5 THEN 'TIER S'   -- Top 3 clubes\n",
    "        WHEN c.posicao BETWEEN 6 AND 10 THEN 'TIER A'   -- Do 4º ao 8º colocado\n",
    "        WHEN c.posicao BETWEEN 11 AND 15 THEN 'TIER B'  -- Do 9º ao 16º colocado\n",
    "        ELSE 'TIER C'                                  -- Últimos colocados (zona de rebaixamento)\n",
    "    END AS tier_clubes,\n",
    "    c.vitorias,\n",
    "    c.empates,\n",
    "    c.derrotas,    \n",
    "    c.gols_marcados,  -- Total de gols marcados na temporada\n",
    "    c.gols_sofridos   -- Total de gols sofridos na temporada\n",
    "FROM classificacao AS c;"
   ]
  },
  {
   "cell_type": "markdown",
   "metadata": {
    "application/vnd.databricks.v1+cell": {
     "cellMetadata": {
      "byteLimit": 2048000,
      "rowLimit": 10000
     },
     "inputWidgets": {},
     "nuid": "e3c5720f-cc57-4156-89f3-99d3ff55303c",
     "showTitle": false,
     "tableResultSettingsMap": {},
     "title": ""
    }
   },
   "source": [
    "### 🔹 TempView 'Medias_Tier' (CTE)\n",
    "- 📍 Essa view será usada para calcular a médias de gols marcados e sofridos por cada TIER"
   ]
  },
  {
   "cell_type": "code",
   "execution_count": 0,
   "metadata": {
    "application/vnd.databricks.v1+cell": {
     "cellMetadata": {
      "byteLimit": 2048000,
      "implicitDf": true,
      "rowLimit": 10000
     },
     "inputWidgets": {},
     "nuid": "2c867650-5927-4344-bb22-6bc423830476",
     "showTitle": false,
     "tableResultSettingsMap": {},
     "title": ""
    }
   },
   "outputs": [
    {
     "output_type": "display_data",
     "data": {
      "text/html": [
       "<style scoped>\n",
       "  .table-result-container {\n",
       "    max-height: 300px;\n",
       "    overflow: auto;\n",
       "  }\n",
       "  table, th, td {\n",
       "    border: 1px solid black;\n",
       "    border-collapse: collapse;\n",
       "  }\n",
       "  th, td {\n",
       "    padding: 5px;\n",
       "  }\n",
       "  th {\n",
       "    text-align: left;\n",
       "  }\n",
       "</style><div class='table-result-container'><table class='table-result'><thead style='background-color: white'><tr></tr></thead><tbody></tbody></table></div>"
      ]
     },
     "metadata": {
      "application/vnd.databricks.v1+output": {
       "addedWidgets": {},
       "aggData": [],
       "aggError": "",
       "aggOverflow": false,
       "aggSchema": [],
       "aggSeriesLimitReached": false,
       "aggType": "",
       "arguments": {},
       "columnCustomDisplayInfos": {},
       "data": [],
       "datasetInfos": [],
       "dbfsResultPath": null,
       "isJsonSchema": true,
       "metadata": {},
       "overflow": false,
       "plotOptions": {
        "customPlotOptions": {},
        "displayType": "table",
        "pivotAggregation": null,
        "pivotColumns": null,
        "xColumns": null,
        "yColumns": null
       },
       "removedWidgets": [],
       "schema": [],
       "type": "table"
      }
     },
     "output_type": "display_data"
    }
   ],
   "source": [
    "%sql\n",
    "-- Criando a CTE (Common Table Expression) Medias_Tier para calcular a média de gols marcados por TIER\n",
    "CREATE OR REPLACE TEMP VIEW Medias_Tier AS\n",
    "SELECT \n",
    "    tier_clubes,                      -- Agrupa os clubes por TIER\n",
    "    ROUND(AVG(gols_marcados),2) AS avg_gols_marcados_tier,  -- Calcula a média de gols marcados dentro de cada TIER\n",
    "    ROUND(AVG(gols_sofridos),2) AS avg_gols_sofridos_tier  -- Calcula a média de gols sofridos dentro de cada TIER\n",
    "FROM Base\n",
    "GROUP BY tier_clubes;"
   ]
  },
  {
   "cell_type": "markdown",
   "metadata": {
    "application/vnd.databricks.v1+cell": {
     "cellMetadata": {
      "byteLimit": 2048000,
      "rowLimit": 10000
     },
     "inputWidgets": {},
     "nuid": "710c6b58-4c87-4f5d-b50a-6cc4fe928713",
     "showTitle": false,
     "tableResultSettingsMap": {},
     "title": ""
    }
   },
   "source": [
    "### 🔹 TempView 'Medias_Geral' (CTE)\n",
    "- 📍 Já essa View iremos calcular a Média geral de Gols Marcados e Sofridos de todas as equipes da competição"
   ]
  },
  {
   "cell_type": "code",
   "execution_count": 0,
   "metadata": {
    "application/vnd.databricks.v1+cell": {
     "cellMetadata": {
      "byteLimit": 2048000,
      "implicitDf": true,
      "rowLimit": 10000
     },
     "inputWidgets": {},
     "nuid": "10c00975-4e62-4500-b6fb-620321f57baf",
     "showTitle": false,
     "tableResultSettingsMap": {},
     "title": ""
    }
   },
   "outputs": [
    {
     "output_type": "display_data",
     "data": {
      "text/html": [
       "<style scoped>\n",
       "  .table-result-container {\n",
       "    max-height: 300px;\n",
       "    overflow: auto;\n",
       "  }\n",
       "  table, th, td {\n",
       "    border: 1px solid black;\n",
       "    border-collapse: collapse;\n",
       "  }\n",
       "  th, td {\n",
       "    padding: 5px;\n",
       "  }\n",
       "  th {\n",
       "    text-align: left;\n",
       "  }\n",
       "</style><div class='table-result-container'><table class='table-result'><thead style='background-color: white'><tr></tr></thead><tbody></tbody></table></div>"
      ]
     },
     "metadata": {
      "application/vnd.databricks.v1+output": {
       "addedWidgets": {},
       "aggData": [],
       "aggError": "",
       "aggOverflow": false,
       "aggSchema": [],
       "aggSeriesLimitReached": false,
       "aggType": "",
       "arguments": {},
       "columnCustomDisplayInfos": {},
       "data": [],
       "datasetInfos": [],
       "dbfsResultPath": null,
       "isJsonSchema": true,
       "metadata": {},
       "overflow": false,
       "plotOptions": {
        "customPlotOptions": {},
        "displayType": "table",
        "pivotAggregation": null,
        "pivotColumns": null,
        "xColumns": null,
        "yColumns": null
       },
       "removedWidgets": [],
       "schema": [],
       "type": "table"
      }
     },
     "output_type": "display_data"
    }
   ],
   "source": [
    "%sql\n",
    "-- Criando a CTE (Common Table Expression) Media_Geral para calcular a média geral de gols marcados por todos os clubes\n",
    "CREATE OR REPLACE TEMP VIEW Media_Geral AS\n",
    "SELECT \n",
    "    ROUND(AVG(gols_marcados),2) AS avg_gols_marcados_geral,\n",
    "    ROUND(AVG(gols_sofridos),2) AS avg_gols_sofridos_geral\n",
    "FROM Base;"
   ]
  },
  {
   "cell_type": "markdown",
   "metadata": {
    "application/vnd.databricks.v1+cell": {
     "cellMetadata": {
      "byteLimit": 2048000,
      "rowLimit": 10000
     },
     "inputWidgets": {},
     "nuid": "839c16a9-42f4-4bf5-86ac-0ca29866e0df",
     "showTitle": false,
     "tableResultSettingsMap": {},
     "title": ""
    }
   },
   "source": [
    "### 💠 TempView Classificacao_Tier (Query final com todas as TempViews)\n",
    "\n",
    "- 📍 Por fim criamos a nossa TempView juntados todas as outras criadas.\n",
    "- 📍 Criamos separadamente para que fique mais organizado e facil de interpretar"
   ]
  },
  {
   "cell_type": "code",
   "execution_count": 0,
   "metadata": {
    "application/vnd.databricks.v1+cell": {
     "cellMetadata": {
      "byteLimit": 2048000,
      "implicitDf": true,
      "rowLimit": 10000
     },
     "inputWidgets": {},
     "nuid": "91ba01cb-e1d2-4141-94a5-cb6d7ce4f82e",
     "showTitle": false,
     "tableResultSettingsMap": {},
     "title": ""
    }
   },
   "outputs": [
    {
     "output_type": "display_data",
     "data": {
      "text/html": [
       "<style scoped>\n",
       "  .table-result-container {\n",
       "    max-height: 300px;\n",
       "    overflow: auto;\n",
       "  }\n",
       "  table, th, td {\n",
       "    border: 1px solid black;\n",
       "    border-collapse: collapse;\n",
       "  }\n",
       "  th, td {\n",
       "    padding: 5px;\n",
       "  }\n",
       "  th {\n",
       "    text-align: left;\n",
       "  }\n",
       "</style><div class='table-result-container'><table class='table-result'><thead style='background-color: white'><tr></tr></thead><tbody></tbody></table></div>"
      ]
     },
     "metadata": {
      "application/vnd.databricks.v1+output": {
       "addedWidgets": {},
       "aggData": [],
       "aggError": "",
       "aggOverflow": false,
       "aggSchema": [],
       "aggSeriesLimitReached": false,
       "aggType": "",
       "arguments": {},
       "columnCustomDisplayInfos": {},
       "data": [],
       "datasetInfos": [],
       "dbfsResultPath": null,
       "isJsonSchema": true,
       "metadata": {},
       "overflow": false,
       "plotOptions": {
        "customPlotOptions": {},
        "displayType": "table",
        "pivotAggregation": null,
        "pivotColumns": null,
        "xColumns": null,
        "yColumns": null
       },
       "removedWidgets": [],
       "schema": [],
       "type": "table"
      }
     },
     "output_type": "display_data"
    }
   ],
   "source": [
    "%sql\n",
    "-- Query final para juntar todas as informações\n",
    "CREATE OR REPLACE TEMP VIEW Classificacao_Tier AS\n",
    "SELECT \n",
    "    b.posicao,        -- Posição final do clube no campeonato\n",
    "    b.clube,          -- Nome do clube\n",
    "    b.pontuacao,\n",
    "    b.tier_clubes,\n",
    "    b.vitorias,\n",
    "    b.empates,\n",
    "    b.derrotas,    \n",
    "    b.gols_marcados,                    -- Total de gols marcados na temporada\n",
    "    m.avg_gols_marcados_tier,           -- Adiciona a média de gols do TIER do clube\n",
    "    g.avg_gols_marcados_geral,          -- Adiciona a média geral de gols de todos os clubes\n",
    "    b.gols_sofridos,                    -- Total de gols sofridos na temporada    \n",
    "    m.avg_gols_sofridos_tier,           -- Adiciona a média de gols sofridos do TIER do clube\n",
    "    g.avg_gols_sofridos_geral           -- Adiciona a média geral de gols sofridos de todos os clubes\n",
    "FROM Base b\n",
    "LEFT JOIN Medias_Tier m ON b.tier_clubes = m.tier_clubes  -- Junta a média de gols do TIER correspondente\n",
    "LEFT JOIN Media_Geral g ON 1=1;  -- Junta a média geral de gols para todas as linhas (CROSS JOIN)"
   ]
  },
  {
   "cell_type": "markdown",
   "metadata": {
    "application/vnd.databricks.v1+cell": {
     "cellMetadata": {
      "byteLimit": 2048000,
      "rowLimit": 10000
     },
     "inputWidgets": {},
     "nuid": "a3dd506d-6a1f-4a87-94e1-9fcb8027d12d",
     "showTitle": false,
     "tableResultSettingsMap": {},
     "title": ""
    }
   },
   "source": [
    "### 💠 TempView 'Estatisticas_PorClube'\n",
    "\n",
    "- Refere-se ao DataFrame 'estatisticas'\n",
    "- Agrupamos (`GROUP BY`) somente pelo Clube, pois é interessante somente os números gerais de cada Clube ao fim da competição "
   ]
  },
  {
   "cell_type": "code",
   "execution_count": 0,
   "metadata": {
    "application/vnd.databricks.v1+cell": {
     "cellMetadata": {
      "byteLimit": 2048000,
      "implicitDf": true,
      "rowLimit": 10000
     },
     "inputWidgets": {},
     "nuid": "86e1d8f1-8e58-4a6c-9724-70dd19fdd849",
     "showTitle": false,
     "tableResultSettingsMap": {},
     "title": ""
    }
   },
   "outputs": [
    {
     "output_type": "display_data",
     "data": {
      "text/html": [
       "<style scoped>\n",
       "  .table-result-container {\n",
       "    max-height: 300px;\n",
       "    overflow: auto;\n",
       "  }\n",
       "  table, th, td {\n",
       "    border: 1px solid black;\n",
       "    border-collapse: collapse;\n",
       "  }\n",
       "  th, td {\n",
       "    padding: 5px;\n",
       "  }\n",
       "  th {\n",
       "    text-align: left;\n",
       "  }\n",
       "</style><div class='table-result-container'><table class='table-result'><thead style='background-color: white'><tr></tr></thead><tbody></tbody></table></div>"
      ]
     },
     "metadata": {
      "application/vnd.databricks.v1+output": {
       "addedWidgets": {},
       "aggData": [],
       "aggError": "",
       "aggOverflow": false,
       "aggSchema": [],
       "aggSeriesLimitReached": false,
       "aggType": "",
       "arguments": {},
       "columnCustomDisplayInfos": {},
       "data": [],
       "datasetInfos": [],
       "dbfsResultPath": null,
       "isJsonSchema": true,
       "metadata": {},
       "overflow": false,
       "plotOptions": {
        "customPlotOptions": {},
        "displayType": "table",
        "pivotAggregation": null,
        "pivotColumns": null,
        "xColumns": null,
        "yColumns": null
       },
       "removedWidgets": [],
       "schema": [],
       "type": "table"
      }
     },
     "output_type": "display_data"
    }
   ],
   "source": [
    " %sql\n",
    "-- Query final para juntar todas as informações\n",
    "CREATE OR REPLACE TEMP VIEW Estatisticas_PorClube AS\n",
    "SELECT\n",
    "    e.clube, \n",
    "    ROUND(sum(e.Assitencias), 0) AS ass, \n",
    "    ROUND(SUM(e.penaltis_batidos), 0) AS penaltis_batidos,  \n",
    "    ROUND(SUM(e.penaltis_tentados), 0) AS penaltis_tentados, \n",
    "    ROUND(sum(e.total_chutes), 0) AS total_chutes,\n",
    "    ROUND(sum(e.Chutes_a_Gol), 0) AS chutes_gol,\n",
    "    ROUND(sum(e.toques_na_bola), 0) AS toques_na_bola,\n",
    "    ROUND(sum(e.desarmes), 0) AS desarmes,\n",
    "    ROUND(sum(e.interceptacoes), 0) AS interceptacoes,\n",
    "    ROUND(sum(e.bloqueios), 0) AS bloqueios,\n",
    "    ROUND(SUM(e.Gols_Esperados), 2) AS gols_esperados,\n",
    "    ROUND(SUM(e.Assistencias_Esperadas), 2) AS ass_esperadas,\n",
    "    ROUND(sum(e.acoes_de_criacao), 0) AS acoes_de_criacao,\n",
    "    ROUND(sum(e.acoes_de_gol), 0) AS acoes_de_gol,\n",
    "    ROUND(sum(e.passes_completos), 0) AS passes_completos,\n",
    "    ROUND(sum(e.Passes_Tentados), 0) AS passes_tentados,\n",
    "    ROUND(sum(e.Passes_Progressivos), 0) AS passes_progressivos,\n",
    "    ROUND(sum(e.Conducoes_de_Bola), 0) AS conducoes_de_bola,\n",
    "    ROUND(sum(e.Conducoes_Progressivas), 0) AS conducoes_progressivas,\n",
    "    ROUND(sum(e.Dribles_Tentados), 0) AS dribles_tentados,\n",
    "    ROUND(sum(e.Dribles_Completos), 0) AS dribles_completos\n",
    "FROM estatisticas AS e\n",
    "GROUP BY e.clube;"
   ]
  },
  {
   "cell_type": "markdown",
   "metadata": {
    "application/vnd.databricks.v1+cell": {
     "cellMetadata": {
      "byteLimit": 2048000,
      "rowLimit": 10000
     },
     "inputWidgets": {},
     "nuid": "6f66af15-395d-48bd-a0c3-f5418a512a59",
     "showTitle": false,
     "tableResultSettingsMap": {},
     "title": ""
    }
   },
   "source": [
    "# 📌 Normalização das Métricas do Projeto"
   ]
  },
  {
   "cell_type": "markdown",
   "metadata": {
    "application/vnd.databricks.v1+cell": {
     "cellMetadata": {
      "byteLimit": 2048000,
      "rowLimit": 10000
     },
     "inputWidgets": {},
     "nuid": "1ca2981a-cbb7-43c7-a143-9383b44273c3",
     "showTitle": false,
     "tableResultSettingsMap": {},
     "title": ""
    }
   },
   "source": [
    "## 🔶 Normalização das Métricas Defensivas\n",
    "Transformaremos diferentes métricas defensivas em uma escala comum de **0 a 10**, permitindo comparações mais justas entre os clubes.\n",
    "\n",
    "---"
   ]
  },
  {
   "cell_type": "markdown",
   "metadata": {
    "application/vnd.databricks.v1+cell": {
     "cellMetadata": {
      "byteLimit": 2048000,
      "rowLimit": 10000
     },
     "inputWidgets": {},
     "nuid": "abe3ee22-a745-4e59-83e7-3b23cc4b093a",
     "showTitle": false,
     "tableResultSettingsMap": {},
     "title": ""
    }
   },
   "source": [
    "### 🔢 Como funcionará a normalização?\n",
    "\n",
    "#### ⚖️ Normalização Tradicional\n",
    "\n",
    "A Normalização Tradicional é feita utilizando a fórmula:\n",
    "\n",
    "![Normalização](https://github.com/Cavalheiro93/mvp-brasileirao-data-engineering/raw/main/images/notebook-images/Normalizacao.png)\n",
    "\n",
    "Essa fórmula ajusta os valores para ficarem dentro do intervalo **0 a 10**.\n",
    "\n",
    "\n",
    "#### **⚠️ Exceção para gols sofridos**\n",
    "\n",
    "Como **menos gols sofridos** é **melhor**, aplicamos a inversão:\n",
    "\n",
    "![Normalização Invertida](images/Normalizacao_invertida.jpg)\n",
    "\n",
    "Isso garante que um time que sofreu menos gols tenha um valor **maior** na escala.\n",
    "\n",
    "---"
   ]
  },
  {
   "cell_type": "markdown",
   "metadata": {
    "application/vnd.databricks.v1+cell": {
     "cellMetadata": {
      "byteLimit": 2048000,
      "rowLimit": 10000
     },
     "inputWidgets": {},
     "nuid": "f7b48b82-e899-428b-954d-4f1b4c735753",
     "showTitle": false,
     "tableResultSettingsMap": {},
     "title": ""
    }
   },
   "source": [
    "### 🏆 Explicação das Métricas Normalizadas\n",
    "| Métrica            | Interpretação | Peso\n",
    "|--------------------|---------------|----- |\n",
    "| `norm_gols_sofridos` | Times que sofreram menos gols terão valores maiores. | 60% \n",
    "| `norm_desarmes` | Times que fizeram mais desarmes terão valores maiores. | 25% \n",
    "| `norm_interceptacoes` | Times que interceptaram mais passes terão valores maiores. | 10% \n",
    "| `norm_bloqueios` | Times que bloquearam mais chutes terão valores maiores. | 5% \n",
    "\n",
    "---"
   ]
  },
  {
   "cell_type": "markdown",
   "metadata": {
    "application/vnd.databricks.v1+cell": {
     "cellMetadata": {},
     "inputWidgets": {},
     "nuid": "31fe6fac-89a6-42c8-8966-0826eb664ddb",
     "showTitle": false,
     "tableResultSettingsMap": {},
     "title": ""
    }
   },
   "source": [
    "### 🔹 Cálculo da Normalização Defensiva"
   ]
  },
  {
   "cell_type": "code",
   "execution_count": 0,
   "metadata": {
    "application/vnd.databricks.v1+cell": {
     "cellMetadata": {
      "byteLimit": 2048000,
      "implicitDf": true,
      "rowLimit": 10000
     },
     "inputWidgets": {},
     "nuid": "d7c43795-265c-4e97-8253-a4026ec96091",
     "showTitle": false,
     "tableResultSettingsMap": {},
     "title": ""
    }
   },
   "outputs": [
    {
     "output_type": "display_data",
     "data": {
      "text/html": [
       "<style scoped>\n",
       "  .table-result-container {\n",
       "    max-height: 300px;\n",
       "    overflow: auto;\n",
       "  }\n",
       "  table, th, td {\n",
       "    border: 1px solid black;\n",
       "    border-collapse: collapse;\n",
       "  }\n",
       "  th, td {\n",
       "    padding: 5px;\n",
       "  }\n",
       "  th {\n",
       "    text-align: left;\n",
       "  }\n",
       "</style><div class='table-result-container'><table class='table-result'><thead style='background-color: white'><tr></tr></thead><tbody></tbody></table></div>"
      ]
     },
     "metadata": {
      "application/vnd.databricks.v1+output": {
       "addedWidgets": {},
       "aggData": [],
       "aggError": "",
       "aggOverflow": false,
       "aggSchema": [],
       "aggSeriesLimitReached": false,
       "aggType": "",
       "arguments": {},
       "columnCustomDisplayInfos": {},
       "data": [],
       "datasetInfos": [],
       "dbfsResultPath": null,
       "isJsonSchema": true,
       "metadata": {},
       "overflow": false,
       "plotOptions": {
        "customPlotOptions": {},
        "displayType": "table",
        "pivotAggregation": null,
        "pivotColumns": null,
        "xColumns": null,
        "yColumns": null
       },
       "removedWidgets": [],
       "schema": [],
       "type": "table"
      }
     },
     "output_type": "display_data"
    }
   ],
   "source": [
    "\n",
    "%sql\n",
    "-- Criando a VIEW com a normalização das métricas defensivas\n",
    "CREATE OR REPLACE TEMP VIEW Normalizacao_Defensiva AS\n",
    "SELECT \n",
    "    c.clube,\n",
    "\n",
    "    -- Normalização das métricas para escala de 0 a 10 (arredondada para 2 casas decimais)\n",
    "\n",
    "    -- 'gols_sofridos' aplicamos a Normalização Invertida\n",
    "    -- Ou seja, menos gols sofridos é melhor!\n",
    "    ROUND((10 - (c.gols_sofridos - MIN(c.gols_sofridos) OVER()) / \n",
    "         (MAX(c.gols_sofridos) OVER() - MIN(c.gols_sofridos) OVER()) * 10), 2) \n",
    "         AS norm_gols_sofridos,\n",
    "\n",
    "    -- Para os demais, aplicamos a Normalização Tradicional\n",
    "    ROUND(((e.desarmes - MIN(e.desarmes) OVER()) / \n",
    "         (MAX(e.desarmes) OVER() - MIN(e.desarmes) OVER()) * 10), 2) \n",
    "         AS norm_desarmes,\n",
    "\n",
    "    ROUND(((e.interceptacoes - MIN(e.interceptacoes) OVER()) / \n",
    "         (MAX(e.interceptacoes) OVER() - MIN(e.interceptacoes) OVER()) * 10), 2) \n",
    "         AS norm_interceptacoes,\n",
    "\n",
    "    ROUND(((e.bloqueios - MIN(e.bloqueios) OVER()) / \n",
    "         (MAX(e.bloqueios) OVER() - MIN(e.bloqueios) OVER()) * 10), 2) \n",
    "         AS norm_bloqueios\n",
    "\n",
    "FROM Classificacao_Tier c\n",
    "LEFT JOIN Estatisticas_PorClube e ON c.clube = e.clube;\n"
   ]
  },
  {
   "cell_type": "markdown",
   "metadata": {
    "application/vnd.databricks.v1+cell": {
     "cellMetadata": {},
     "inputWidgets": {},
     "nuid": "e8df2841-0fd7-45cb-8f93-df103a8391a4",
     "showTitle": false,
     "tableResultSettingsMap": {},
     "title": ""
    }
   },
   "source": [
    "### 🔹 Pesos da Normalização Defensiva"
   ]
  },
  {
   "cell_type": "code",
   "execution_count": 0,
   "metadata": {
    "application/vnd.databricks.v1+cell": {
     "cellMetadata": {
      "byteLimit": 2048000,
      "implicitDf": true,
      "rowLimit": 10000
     },
     "inputWidgets": {},
     "nuid": "706b02e8-f6e6-4dc2-8233-ff2430a2e316",
     "showTitle": false,
     "tableResultSettingsMap": {},
     "title": ""
    }
   },
   "outputs": [
    {
     "output_type": "display_data",
     "data": {
      "text/html": [
       "<style scoped>\n",
       "  .table-result-container {\n",
       "    max-height: 300px;\n",
       "    overflow: auto;\n",
       "  }\n",
       "  table, th, td {\n",
       "    border: 1px solid black;\n",
       "    border-collapse: collapse;\n",
       "  }\n",
       "  th, td {\n",
       "    padding: 5px;\n",
       "  }\n",
       "  th {\n",
       "    text-align: left;\n",
       "  }\n",
       "</style><div class='table-result-container'><table class='table-result'><thead style='background-color: white'><tr></tr></thead><tbody></tbody></table></div>"
      ]
     },
     "metadata": {
      "application/vnd.databricks.v1+output": {
       "addedWidgets": {},
       "aggData": [],
       "aggError": "",
       "aggOverflow": false,
       "aggSchema": [],
       "aggSeriesLimitReached": false,
       "aggType": "",
       "arguments": {},
       "columnCustomDisplayInfos": {},
       "data": [],
       "datasetInfos": [],
       "dbfsResultPath": null,
       "isJsonSchema": true,
       "metadata": {},
       "overflow": false,
       "plotOptions": {
        "customPlotOptions": {},
        "displayType": "table",
        "pivotAggregation": null,
        "pivotColumns": null,
        "xColumns": null,
        "yColumns": null
       },
       "removedWidgets": [],
       "schema": [],
       "type": "table"
      }
     },
     "output_type": "display_data"
    }
   ],
   "source": [
    "%sql\n",
    "-- Criando a VIEW com o cálculo do Score Defensivo\n",
    "CREATE OR REPLACE TEMP VIEW Score_Defensivo AS\n",
    "SELECT \n",
    "    n.clube,\n",
    "    n.norm_gols_sofridos,\n",
    "    n.norm_desarmes,\n",
    "    n.norm_interceptacoes,\n",
    "    n.norm_bloqueios,\n",
    "\n",
    "    -- Cálculo do SCORE DEFENSIVO (média ponderada das métricas normalizadas)\n",
    "    ROUND((\n",
    "        (n.norm_gols_sofridos * 0.6) + -- Peso 60% para gols sofridos (quanto menor, melhor)\n",
    "        (n.norm_desarmes * 0.25) + -- Peso 25% para desarmes\n",
    "        (n.norm_interceptacoes * 0.10) + -- Peso 10% para interceptações\n",
    "        (n.norm_bloqueios * 0.05) -- Peso 5% para bloqueios\n",
    "    ),2) AS score_defensivo\n",
    "\n",
    "FROM Normalizacao_Defensiva n;"
   ]
  },
  {
   "cell_type": "markdown",
   "metadata": {
    "application/vnd.databricks.v1+cell": {
     "cellMetadata": {
      "byteLimit": 2048000,
      "rowLimit": 10000
     },
     "inputWidgets": {},
     "nuid": "25b63682-03e5-4d6b-b758-dc9fbb543dc6",
     "showTitle": false,
     "tableResultSettingsMap": {},
     "title": ""
    }
   },
   "source": [
    "## 🔶 Normalização das Métricas Ofensivas\n",
    "\n",
    "Transformaremos diferentes métricas ofensivas em uma escala comum de **0 a 10**, permitindo comparações mais justas entre os clubes.\n",
    "\n",
    "---\n",
    "\n"
   ]
  },
  {
   "cell_type": "markdown",
   "metadata": {
    "application/vnd.databricks.v1+cell": {
     "cellMetadata": {
      "byteLimit": 2048000,
      "rowLimit": 10000
     },
     "inputWidgets": {},
     "nuid": "619e2776-39f6-41e9-8829-1c48965bbe50",
     "showTitle": false,
     "tableResultSettingsMap": {},
     "title": ""
    }
   },
   "source": [
    "### 🔢 Como funcionará a normalização?\n",
    "\n",
    "#### ⚖️ Normalização Tradicional\n",
    "\n",
    "Usaremos a fórmula tradicional para normalizar os valores entre 0 e 10:\n",
    "\n",
    "![Normalização](files/tables/Normalizacao.png)\n",
    "\n",
    "Nesse caso, **quanto maior o valor original**, melhor o desempenho ofensivo. Portanto, **não será necessário inverter nenhuma métrica**.\n",
    "\n",
    "---\n"
   ]
  },
  {
   "cell_type": "markdown",
   "metadata": {
    "application/vnd.databricks.v1+cell": {
     "cellMetadata": {
      "byteLimit": 2048000,
      "rowLimit": 10000
     },
     "inputWidgets": {},
     "nuid": "e13bf18a-f3ee-40e9-972b-2f63d1da4606",
     "showTitle": false,
     "tableResultSettingsMap": {},
     "title": ""
    }
   },
   "source": [
    "### 🏆 Métricas Selecionadas para Ofensivo\n",
    "\n",
    "| Métrica                   | Interpretação                                                    | Peso |\n",
    "|---------------------------|------------------------------------------------------------------|------|\n",
    "| `gols_marcados`           | Quantidade de gols marcados                                      | 25%  |\n",
    "| `assistencias`            | Capacidade de criação de jogadas com resultado                   | 10%  |\n",
    "| `penaltis_batidos`        | Presença ofensiva na área adversária                             | 2,5% |\n",
    "| `total_chutes`            | Volume de tentativas ofensivas                                   | 2,5% |\n",
    "| `chutes_a_gol`            | Qualidade das finalizações                                       | 7,5% |\n",
    "| `xG` ou `gols_esperados`  | Qualidade esperada das finalizações                              | 15%  |\n",
    "| `xA` ou `Ass_esperados`   | Qualidade esperada das assistências                              | 2,5% |\n",
    "| `acoes_de_criacao`        | Jogadas que geram oportunidades                                  | 7,5% |\n",
    "| `acoes_de_gol`            | Jogadas que terminam em gols ou quase isso                       | 15%  |\n",
    "| `eficiência`              | Quantos gols foram convertidos em relação a gols esperados       | 15%  |\n",
    "\n",
    "---"
   ]
  },
  {
   "cell_type": "markdown",
   "metadata": {
    "application/vnd.databricks.v1+cell": {
     "cellMetadata": {},
     "inputWidgets": {},
     "nuid": "c750ee48-fb27-4be3-b44b-a8fd328234cb",
     "showTitle": false,
     "tableResultSettingsMap": {},
     "title": ""
    }
   },
   "source": [
    "### 🔹 Cálculo da Normalização Ofensiva"
   ]
  },
  {
   "cell_type": "code",
   "execution_count": 0,
   "metadata": {
    "application/vnd.databricks.v1+cell": {
     "cellMetadata": {
      "byteLimit": 2048000,
      "implicitDf": true,
      "rowLimit": 10000
     },
     "inputWidgets": {},
     "nuid": "75f5d105-c73b-4f52-8263-2fa4338d8b2c",
     "showTitle": false,
     "tableResultSettingsMap": {},
     "title": ""
    }
   },
   "outputs": [
    {
     "output_type": "display_data",
     "data": {
      "text/html": [
       "<style scoped>\n",
       "  .table-result-container {\n",
       "    max-height: 300px;\n",
       "    overflow: auto;\n",
       "  }\n",
       "  table, th, td {\n",
       "    border: 1px solid black;\n",
       "    border-collapse: collapse;\n",
       "  }\n",
       "  th, td {\n",
       "    padding: 5px;\n",
       "  }\n",
       "  th {\n",
       "    text-align: left;\n",
       "  }\n",
       "</style><div class='table-result-container'><table class='table-result'><thead style='background-color: white'><tr></tr></thead><tbody></tbody></table></div>"
      ]
     },
     "metadata": {
      "application/vnd.databricks.v1+output": {
       "addedWidgets": {},
       "aggData": [],
       "aggError": "",
       "aggOverflow": false,
       "aggSchema": [],
       "aggSeriesLimitReached": false,
       "aggType": "",
       "arguments": {},
       "columnCustomDisplayInfos": {},
       "data": [],
       "datasetInfos": [],
       "dbfsResultPath": null,
       "isJsonSchema": true,
       "metadata": {},
       "overflow": false,
       "plotOptions": {
        "customPlotOptions": {},
        "displayType": "table",
        "pivotAggregation": null,
        "pivotColumns": null,
        "xColumns": null,
        "yColumns": null
       },
       "removedWidgets": [],
       "schema": [],
       "type": "table"
      }
     },
     "output_type": "display_data"
    }
   ],
   "source": [
    "\n",
    "%sql\n",
    "-- Criando a VIEW com a normalização das métricas Ofensivas\n",
    "CREATE OR REPLACE TEMP VIEW Normalizacao_Ofensiva AS\n",
    "SELECT \n",
    "    c.clube,\n",
    "\n",
    "    -- Normalização das métricas para escala de 0 a 10 (arredondada para 2 casas decimais)\n",
    "\n",
    "    -- 'gols_marcados' aplicamos a Normalização Invertida\n",
    "    -- Ou seja, menos gols sofridos é melhor!\n",
    "    ROUND(((c.gols_marcados - MIN(c.gols_marcados) OVER()) / \n",
    "         (MAX(c.gols_marcados) OVER() - MIN(c.gols_marcados) OVER()) * 10), 2) \n",
    "         AS norm_gols_marcados,\n",
    "\n",
    "    -- Para os demais, aplicamos a Normalização Tradicional\n",
    "    --- Assistencias\n",
    "    ROUND(((e.Ass - MIN(e.Ass) OVER()) / \n",
    "         (MAX(e.Ass) OVER() - MIN(e.Ass) OVER()) * 10), 2) \n",
    "         AS norm_Ass,\n",
    "\n",
    "    --- Penaltis Batidos\n",
    "    ROUND(((e.penaltis_batidos - MIN(e.penaltis_batidos) OVER()) / \n",
    "         (MAX(e.penaltis_batidos) OVER() - MIN(e.penaltis_batidos) OVER()) * 10), 2) \n",
    "         AS norm_penaltis_batidos,\n",
    "\n",
    "    --- Total de Chutes\n",
    "    ROUND(((e.total_chutes - MIN(e.total_chutes) OVER()) / \n",
    "         (MAX(e.total_chutes) OVER() - MIN(e.total_chutes) OVER()) * 10), 2) \n",
    "         AS norm_total_chutes,\n",
    "\n",
    "    --- Chutes a Gol\n",
    "    ROUND(((e.chutes_gol - MIN(e.chutes_gol) OVER()) / \n",
    "         (MAX(e.chutes_gol) OVER() - MIN(e.chutes_gol) OVER()) * 10), 2) \n",
    "         AS norm_chutes_gol, \n",
    "\n",
    "    --- xG ou Gols Esperados\n",
    "    ROUND(((e.gols_esperados - MIN(e.gols_esperados) OVER()) / \n",
    "         (MAX(e.gols_esperados) OVER() - MIN(e.gols_esperados) OVER()) * 10), 2) \n",
    "         AS norm_gols_esperados,\n",
    "                  \n",
    "    --- xA ou Assistencias Esperadas\n",
    "    ROUND(((e.ass_esperadas - MIN(e.ass_esperadas) OVER()) / \n",
    "         (MAX(e.ass_esperadas) OVER() - MIN(e.ass_esperadas) OVER()) * 10), 2) \n",
    "         AS norm_ass_esperadas,\n",
    "\n",
    "    --- Ações de Criação\n",
    "    ROUND(((e.acoes_de_criacao - MIN(e.acoes_de_criacao) OVER()) / \n",
    "         (MAX(e.acoes_de_criacao) OVER() - MIN(e.acoes_de_criacao) OVER()) * 10), 2) \n",
    "         AS norm_acoes_de_criacao,\n",
    "\n",
    "    --- Ações de Gol\n",
    "    ROUND(((e.acoes_de_gol - MIN(e.acoes_de_gol) OVER()) / \n",
    "         (MAX(e.acoes_de_gol) OVER() - MIN(e.acoes_de_gol) OVER()) * 10), 2) \n",
    "         AS norm_acoes_de_gol,\n",
    "\n",
    "    --- Eficiencia\n",
    "    ROUND((c.gols_marcados / NULLIF(e.gols_esperados, 0)), 2) AS eficiencia_finalizacao,\n",
    "\n",
    "    ROUND((((c.gols_marcados / NULLIF(e.gols_esperados, 0)) - MIN((c.gols_marcados / NULLIF(e.gols_esperados, 0))) OVER()) / \n",
    "         (MAX((c.gols_marcados / NULLIF(e.gols_esperados, 0))) OVER() - MIN((c.gols_marcados / NULLIF(e.gols_esperados, 0))) OVER()) * 10), 2) \n",
    "         AS norm_eficiencia    \n",
    "\n",
    "FROM Classificacao_Tier c\n",
    "LEFT JOIN Estatisticas_PorClube e ON c.clube = e.clube;\n"
   ]
  },
  {
   "cell_type": "markdown",
   "metadata": {
    "application/vnd.databricks.v1+cell": {
     "cellMetadata": {},
     "inputWidgets": {},
     "nuid": "ca9a8af3-9df4-4c84-95db-78f513f59563",
     "showTitle": false,
     "tableResultSettingsMap": {},
     "title": ""
    }
   },
   "source": [
    "### 🔹 Pesos da Normalização Ofensiva"
   ]
  },
  {
   "cell_type": "code",
   "execution_count": 0,
   "metadata": {
    "application/vnd.databricks.v1+cell": {
     "cellMetadata": {
      "byteLimit": 2048000,
      "implicitDf": true,
      "rowLimit": 10000
     },
     "inputWidgets": {},
     "nuid": "be3bfbb4-fecc-4d41-a410-2374c2af807c",
     "showTitle": false,
     "tableResultSettingsMap": {},
     "title": ""
    }
   },
   "outputs": [
    {
     "output_type": "display_data",
     "data": {
      "text/html": [
       "<style scoped>\n",
       "  .table-result-container {\n",
       "    max-height: 300px;\n",
       "    overflow: auto;\n",
       "  }\n",
       "  table, th, td {\n",
       "    border: 1px solid black;\n",
       "    border-collapse: collapse;\n",
       "  }\n",
       "  th, td {\n",
       "    padding: 5px;\n",
       "  }\n",
       "  th {\n",
       "    text-align: left;\n",
       "  }\n",
       "</style><div class='table-result-container'><table class='table-result'><thead style='background-color: white'><tr></tr></thead><tbody></tbody></table></div>"
      ]
     },
     "metadata": {
      "application/vnd.databricks.v1+output": {
       "addedWidgets": {},
       "aggData": [],
       "aggError": "",
       "aggOverflow": false,
       "aggSchema": [],
       "aggSeriesLimitReached": false,
       "aggType": "",
       "arguments": {},
       "columnCustomDisplayInfos": {},
       "data": [],
       "datasetInfos": [],
       "dbfsResultPath": null,
       "isJsonSchema": true,
       "metadata": {},
       "overflow": false,
       "plotOptions": {
        "customPlotOptions": {},
        "displayType": "table",
        "pivotAggregation": null,
        "pivotColumns": null,
        "xColumns": null,
        "yColumns": null
       },
       "removedWidgets": [],
       "schema": [],
       "type": "table"
      }
     },
     "output_type": "display_data"
    }
   ],
   "source": [
    "%sql\n",
    "-- Criando a VIEW com o cálculo do Score Ofensivo\n",
    "CREATE OR REPLACE TEMP VIEW Score_Ofensivo AS\n",
    "SELECT \n",
    "    n.clube,\n",
    "    n.norm_gols_marcados,\n",
    "    n.norm_Ass,\n",
    "    n.norm_penaltis_batidos,\n",
    "    n.norm_total_chutes,\n",
    "    n.norm_chutes_gol,\n",
    "    n.norm_gols_esperados,\n",
    "    n.norm_ass_esperadas,\n",
    "    n.norm_acoes_de_criacao,\n",
    "    n.norm_acoes_de_gol,\n",
    "    n.norm_eficiencia,\n",
    "\n",
    "    -- Cálculo do SCORE Ofensivo (média ponderada das métricas normalizadas)\n",
    "    ROUND((  \n",
    "        (n.norm_gols_marcados * 0.25) +         \n",
    "        (n.norm_Ass * 0.10) +                  \n",
    "        (n.norm_penaltis_batidos * 0.025) +     \n",
    "        (n.norm_total_chutes * 0.025) +         \n",
    "        (n.norm_chutes_gol * 0.075) +           \n",
    "        (n.norm_gols_esperados * 0.15) +       \n",
    "        (n.norm_ass_esperadas * 0.025) +        \n",
    "        (n.norm_acoes_de_criacao * 0.075) +     \n",
    "        (n.norm_acoes_de_gol * 0.15) +         \n",
    "        (n.norm_eficiencia * 0.15)             \n",
    "    ), 2) AS score_ofensivo\n",
    "\n",
    "FROM Normalizacao_Ofensiva n;\n"
   ]
  },
  {
   "cell_type": "markdown",
   "metadata": {
    "application/vnd.databricks.v1+cell": {
     "cellMetadata": {
      "byteLimit": 2048000,
      "rowLimit": 10000
     },
     "inputWidgets": {},
     "nuid": "2ceef045-ef95-493c-b678-cef29f549813",
     "showTitle": false,
     "tableResultSettingsMap": {},
     "title": ""
    }
   },
   "source": [
    "## 🔶 Normalização das Métricas de Criação\n",
    "\n",
    "Transformaremos diferentes métricas de **criação de jogadas** em uma escala comum de **0 a 10**, permitindo entender quais clubes têm maior capacidade de construir oportunidades — mesmo que não convertam em gol.\n",
    "\n",
    "---"
   ]
  },
  {
   "cell_type": "markdown",
   "metadata": {
    "application/vnd.databricks.v1+cell": {
     "cellMetadata": {
      "byteLimit": 2048000,
      "rowLimit": 10000
     },
     "inputWidgets": {},
     "nuid": "cdeea70d-190f-4143-bf13-65c2c7ba4263",
     "showTitle": false,
     "tableResultSettingsMap": {},
     "title": ""
    }
   },
   "source": [
    "### 🔢 Como funcionará a normalização?\n",
    "\n",
    "Usaremos a fórmula tradicional de normalização:\n",
    "\n",
    "![Normalização](files/tables/Normalizacao.png)\n",
    "\n",
    "Nenhuma métrica aqui será invertida, pois **quanto mais, melhor**."
   ]
  },
  {
   "cell_type": "markdown",
   "metadata": {
    "application/vnd.databricks.v1+cell": {
     "cellMetadata": {
      "byteLimit": 2048000,
      "rowLimit": 10000
     },
     "inputWidgets": {},
     "nuid": "d6e91a2c-66dc-454a-ad14-2e168610aeaa",
     "showTitle": false,
     "tableResultSettingsMap": {},
     "title": ""
    }
   },
   "source": [
    "### 🏆 Métricas Selecionadas para Criação\n",
    "\n",
    "| Métrica                  | Interpretação                               | Peso   |\n",
    "|--------------------------|---------------------------------------------|------  |\n",
    "| `assistencias`           | Resultado direto de criação bem-sucedida    | 30%    |\n",
    "| `acoes_de_criacao`       | Volume de jogadas que geram oportunidades   | 30%    |\n",
    "| `xA`                     | Qualidade esperada das assistências         | 25%    |\n",
    "| `passes_completos`       | Participação ativa na construção            | 3,75%  |\n",
    "| `passes_tentados`        | Volume total de tentativas ofensivas        | 3,75%  |\n",
    "| `conducoes_de_bola`      | Participação individual na construção       | 3,75%  |\n",
    "| `conducoes_progressivas` | Avanço real com a bola no pé                | 3,75%  |"
   ]
  },
  {
   "cell_type": "markdown",
   "metadata": {
    "application/vnd.databricks.v1+cell": {
     "cellMetadata": {},
     "inputWidgets": {},
     "nuid": "0cff476a-97ca-41ba-9996-5a95587bec0c",
     "showTitle": false,
     "tableResultSettingsMap": {},
     "title": ""
    }
   },
   "source": [
    "### 🔹 Cálculo da Normalização de Criação"
   ]
  },
  {
   "cell_type": "code",
   "execution_count": 0,
   "metadata": {
    "application/vnd.databricks.v1+cell": {
     "cellMetadata": {
      "byteLimit": 2048000,
      "implicitDf": true,
      "rowLimit": 10000
     },
     "inputWidgets": {},
     "nuid": "83b88ac1-b753-48b9-9011-51601a7aeb37",
     "showTitle": false,
     "tableResultSettingsMap": {},
     "title": ""
    }
   },
   "outputs": [
    {
     "output_type": "display_data",
     "data": {
      "text/html": [
       "<style scoped>\n",
       "  .table-result-container {\n",
       "    max-height: 300px;\n",
       "    overflow: auto;\n",
       "  }\n",
       "  table, th, td {\n",
       "    border: 1px solid black;\n",
       "    border-collapse: collapse;\n",
       "  }\n",
       "  th, td {\n",
       "    padding: 5px;\n",
       "  }\n",
       "  th {\n",
       "    text-align: left;\n",
       "  }\n",
       "</style><div class='table-result-container'><table class='table-result'><thead style='background-color: white'><tr></tr></thead><tbody></tbody></table></div>"
      ]
     },
     "metadata": {
      "application/vnd.databricks.v1+output": {
       "addedWidgets": {},
       "aggData": [],
       "aggError": "",
       "aggOverflow": false,
       "aggSchema": [],
       "aggSeriesLimitReached": false,
       "aggType": "",
       "arguments": {},
       "columnCustomDisplayInfos": {},
       "data": [],
       "datasetInfos": [],
       "dbfsResultPath": null,
       "isJsonSchema": true,
       "metadata": {},
       "overflow": false,
       "plotOptions": {
        "customPlotOptions": {},
        "displayType": "table",
        "pivotAggregation": null,
        "pivotColumns": null,
        "xColumns": null,
        "yColumns": null
       },
       "removedWidgets": [],
       "schema": [],
       "type": "table"
      }
     },
     "output_type": "display_data"
    }
   ],
   "source": [
    "%sql\n",
    "-- Criando a VIEW com a normalização das métricas de Criação\n",
    "CREATE OR REPLACE TEMP VIEW Normalizacao_Criacao AS\n",
    "SELECT \n",
    "    c.clube,\n",
    "\n",
    "    -- Normalização das métricas para escala de 0 a 10 (sem inversão)\n",
    "    \n",
    "    -- Assistências\n",
    "    ROUND(((e.Ass - MIN(e.Ass) OVER()) / \n",
    "        (MAX(e.Ass) OVER() - MIN(e.Ass) OVER()) * 10), 2) AS norm_assistencias,\n",
    "\n",
    "    -- Ações de Criação\n",
    "    ROUND(((e.acoes_de_criacao - MIN(e.acoes_de_criacao) OVER()) /\n",
    "        (MAX(e.acoes_de_criacao) OVER() - MIN(e.acoes_de_criacao) OVER()) * 10), 2) AS norm_acoes_de_criacao,\n",
    "\n",
    "    -- xA ou Assistências Esperadas\n",
    "    ROUND(((e.ass_esperadas - MIN(e.ass_esperadas) OVER()) /\n",
    "        (MAX(e.ass_esperadas) OVER() - MIN(e.ass_esperadas) OVER()) * 10), 2) AS norm_ass_esperadas,\n",
    "\n",
    "    -- Passes Completos\n",
    "    ROUND(((e.passes_completos - MIN(e.passes_completos) OVER()) /\n",
    "        (MAX(e.passes_completos) OVER() - MIN(e.passes_completos) OVER()) * 10), 2) AS norm_passes_completos,\n",
    "\n",
    "    -- Passes Tentados\n",
    "    ROUND(((e.passes_tentados - MIN(e.passes_tentados) OVER()) /\n",
    "        (MAX(e.passes_tentados) OVER() - MIN(e.passes_tentados) OVER()) * 10), 2) AS norm_passes_tentados,\n",
    "\n",
    "    -- Conduções de Bola\n",
    "    ROUND(((e.conducoes_de_bola - MIN(e.conducoes_de_bola) OVER()) /\n",
    "        (MAX(e.conducoes_de_bola) OVER() - MIN(e.conducoes_de_bola) OVER()) * 10), 2) AS norm_conducoes_de_bola,\n",
    "\n",
    "    -- Conduções Progressivas\n",
    "    ROUND(((e.conducoes_progressivas - MIN(e.conducoes_progressivas) OVER()) /\n",
    "        (MAX(e.conducoes_progressivas) OVER() - MIN(e.conducoes_progressivas) OVER()) * 10), 2) AS norm_conducoes_progressivas\n",
    "\n",
    "\n",
    "FROM Classificacao_Tier c\n",
    "LEFT JOIN Estatisticas_PorClube e ON c.clube = e.clube;\n"
   ]
  },
  {
   "cell_type": "markdown",
   "metadata": {
    "application/vnd.databricks.v1+cell": {
     "cellMetadata": {},
     "inputWidgets": {},
     "nuid": "74911bf5-afbe-4b0e-9a66-c706493dc06d",
     "showTitle": false,
     "tableResultSettingsMap": {},
     "title": ""
    }
   },
   "source": [
    "### 🔹 Pesos da Normalização de Criação"
   ]
  },
  {
   "cell_type": "code",
   "execution_count": 0,
   "metadata": {
    "application/vnd.databricks.v1+cell": {
     "cellMetadata": {
      "byteLimit": 2048000,
      "implicitDf": true,
      "rowLimit": 10000
     },
     "inputWidgets": {},
     "nuid": "b1ab697d-5308-4497-afed-b2c950af2953",
     "showTitle": false,
     "tableResultSettingsMap": {},
     "title": ""
    }
   },
   "outputs": [
    {
     "output_type": "display_data",
     "data": {
      "text/html": [
       "<style scoped>\n",
       "  .table-result-container {\n",
       "    max-height: 300px;\n",
       "    overflow: auto;\n",
       "  }\n",
       "  table, th, td {\n",
       "    border: 1px solid black;\n",
       "    border-collapse: collapse;\n",
       "  }\n",
       "  th, td {\n",
       "    padding: 5px;\n",
       "  }\n",
       "  th {\n",
       "    text-align: left;\n",
       "  }\n",
       "</style><div class='table-result-container'><table class='table-result'><thead style='background-color: white'><tr></tr></thead><tbody></tbody></table></div>"
      ]
     },
     "metadata": {
      "application/vnd.databricks.v1+output": {
       "addedWidgets": {},
       "aggData": [],
       "aggError": "",
       "aggOverflow": false,
       "aggSchema": [],
       "aggSeriesLimitReached": false,
       "aggType": "",
       "arguments": {},
       "columnCustomDisplayInfos": {},
       "data": [],
       "datasetInfos": [],
       "dbfsResultPath": null,
       "isJsonSchema": true,
       "metadata": {},
       "overflow": false,
       "plotOptions": {
        "customPlotOptions": {},
        "displayType": "table",
        "pivotAggregation": null,
        "pivotColumns": null,
        "xColumns": null,
        "yColumns": null
       },
       "removedWidgets": [],
       "schema": [],
       "type": "table"
      }
     },
     "output_type": "display_data"
    }
   ],
   "source": [
    "%sql\n",
    "-- Criando a VIEW com o cálculo do Score de Criação (foco em efetividade)\n",
    "CREATE OR REPLACE TEMP VIEW Score_Criacao AS\n",
    "SELECT \n",
    "    n.clube,\n",
    "    n.norm_assistencias,\n",
    "    n.norm_acoes_de_criacao,\n",
    "    n.norm_ass_esperadas,\n",
    "    n.norm_passes_completos,\n",
    "    n.norm_passes_tentados,\n",
    "    n.norm_conducoes_de_bola,\n",
    "    n.norm_conducoes_progressivas,\n",
    "\n",
    "    -- Cálculo do SCORE DE CRIAÇÃO com pesos ajustados\n",
    "    ROUND((\n",
    "        (n.norm_assistencias * 0.30) +\n",
    "        (n.norm_acoes_de_criacao * 0.30) +\n",
    "        (n.norm_ass_esperadas * 0.25) +\n",
    "        (n.norm_passes_completos * 0.0375) +\n",
    "        (n.norm_passes_tentados * 0.0375) +\n",
    "        (n.norm_conducoes_de_bola * 0.0375) +\n",
    "        (n.norm_conducoes_progressivas * 0.0375)\n",
    "    ), 2) AS score_criacao\n",
    "\n",
    "FROM Normalizacao_Criacao n;"
   ]
  },
  {
   "cell_type": "markdown",
   "metadata": {
    "application/vnd.databricks.v1+cell": {
     "cellMetadata": {
      "byteLimit": 2048000,
      "rowLimit": 10000
     },
     "inputWidgets": {},
     "nuid": "73745ec1-8778-401f-9b82-c6cb616e5418",
     "showTitle": false,
     "tableResultSettingsMap": {},
     "title": ""
    }
   },
   "source": [
    "## 🔶 Gráficos de Score"
   ]
  },
  {
   "cell_type": "markdown",
   "metadata": {
    "application/vnd.databricks.v1+cell": {
     "cellMetadata": {
      "byteLimit": 2048000,
      "rowLimit": 10000
     },
     "inputWidgets": {},
     "nuid": "979241a0-5198-42f7-9ca6-66810e6215d7",
     "showTitle": false,
     "tableResultSettingsMap": {},
     "title": ""
    }
   },
   "source": [
    "### 📈Gráfico | Análise de Score Criação vs Score Ofensivo"
   ]
  },
  {
   "cell_type": "markdown",
   "metadata": {
    "application/vnd.databricks.v1+cell": {
     "cellMetadata": {},
     "inputWidgets": {},
     "nuid": "cb027ee8-757a-4d5d-a6ce-29e377a24439",
     "showTitle": false,
     "tableResultSettingsMap": {},
     "title": ""
    }
   },
   "source": [
    "#### 🔹Criação da TempView cruzando Score de Criação, Ofensivo e Defensivo"
   ]
  },
  {
   "cell_type": "code",
   "execution_count": 0,
   "metadata": {
    "application/vnd.databricks.v1+cell": {
     "cellMetadata": {
      "byteLimit": 2048000,
      "implicitDf": true,
      "rowLimit": 10000
     },
     "inputWidgets": {},
     "nuid": "4f9eba4e-02d4-4de8-ac52-1b0f3497bb2d",
     "showTitle": false,
     "tableResultSettingsMap": {},
     "title": ""
    }
   },
   "outputs": [
    {
     "output_type": "display_data",
     "data": {
      "text/html": [
       "<style scoped>\n",
       "  .table-result-container {\n",
       "    max-height: 300px;\n",
       "    overflow: auto;\n",
       "  }\n",
       "  table, th, td {\n",
       "    border: 1px solid black;\n",
       "    border-collapse: collapse;\n",
       "  }\n",
       "  th, td {\n",
       "    padding: 5px;\n",
       "  }\n",
       "  th {\n",
       "    text-align: left;\n",
       "  }\n",
       "</style><div class='table-result-container'><table class='table-result'><thead style='background-color: white'><tr></tr></thead><tbody></tbody></table></div>"
      ]
     },
     "metadata": {
      "application/vnd.databricks.v1+output": {
       "addedWidgets": {},
       "aggData": [],
       "aggError": "",
       "aggOverflow": false,
       "aggSchema": [],
       "aggSeriesLimitReached": false,
       "aggType": "",
       "arguments": {},
       "columnCustomDisplayInfos": {},
       "data": [],
       "datasetInfos": [],
       "dbfsResultPath": null,
       "isJsonSchema": true,
       "metadata": {},
       "overflow": false,
       "plotOptions": {
        "customPlotOptions": {},
        "displayType": "table",
        "pivotAggregation": null,
        "pivotColumns": null,
        "xColumns": null,
        "yColumns": null
       },
       "removedWidgets": [],
       "schema": [],
       "type": "table"
      }
     },
     "output_type": "display_data"
    }
   ],
   "source": [
    "%sql\n",
    "-- Cruzamento entre Score de Criação, Score Ofensivo e Score Defensivo\n",
    "CREATE OR REPLACE TEMP VIEW Analise_Criacao_vs_Ofensivo AS\n",
    "SELECT \n",
    "    o.clube,\n",
    "    c.score_criacao,\n",
    "    o.score_ofensivo,\n",
    "    d.score_defensivo\n",
    "FROM Score_Criacao c\n",
    "JOIN Score_Ofensivo o ON c.clube = o.clube\n",
    "JOIN Score_Defensivo d ON c.clube = d.clube;\n"
   ]
  },
  {
   "cell_type": "markdown",
   "metadata": {
    "application/vnd.databricks.v1+cell": {
     "cellMetadata": {},
     "inputWidgets": {},
     "nuid": "dcf8dc98-3c83-48df-bd91-d10747b19061",
     "showTitle": false,
     "tableResultSettingsMap": {},
     "title": ""
    }
   },
   "source": [
    "#### 🔹 Plotagem do Gráfico de Dispersão"
   ]
  },
  {
   "cell_type": "code",
   "execution_count": 0,
   "metadata": {
    "application/vnd.databricks.v1+cell": {
     "cellMetadata": {
      "byteLimit": 2048000,
      "rowLimit": 10000
     },
     "inputWidgets": {},
     "nuid": "a9087b42-7e14-43bc-b38e-96be24e5dcde",
     "showTitle": false,
     "tableResultSettingsMap": {},
     "title": ""
    }
   },
   "outputs": [
    {
     "output_type": "stream",
     "name": "stderr",
     "output_type": "stream",
     "text": [
      "<command-4262808209481361>:32: UserWarning: Glyph 127919 (\\N{DIRECT HIT}) missing from current font.\n  plt.tight_layout()\n/databricks/python/lib/python3.9/site-packages/IPython/core/pylabtools.py:151: UserWarning: Glyph 127919 (\\N{DIRECT HIT}) missing from current font.\n  fig.canvas.print_figure(bytes_io, **kw)\n"
     ]
    },
    {
     "output_type": "display_data",
     "data": {
      "image/png": "[encoded data removed]"
     },
     "metadata": {
      "application/vnd.databricks.v1+output": {
       "addedWidgets": {},
       "arguments": {},
       "data": "data:image/png;base64,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\n",
       "datasetInfos": [],
       "metadata": {},
       "removedWidgets": [],
       "type": "image"
      }
     },
     "output_type": "display_data"
    }
   ],
   "source": [
    "# Plotando com escala fixa\n",
    "from pyspark.sql import SparkSession\n",
    "import matplotlib.pyplot as plt\n",
    "\n",
    "# Start a Spark session (only needed if this were standalone, included for context)\n",
    "spark = SparkSession.builder.getOrCreate()\n",
    "\n",
    "# Lê a TempView direto do Spark SQL\n",
    "df = spark.sql(\"SELECT * FROM Analise_Criacao_vs_Ofensivo\").toPandas()\n",
    "\n",
    "plt.figure(figsize=(10, 6))\n",
    "plt.scatter(df['score_criacao'], df['score_ofensivo'], color='royalblue')\n",
    "\n",
    "# Anotações com os nomes dos clubes\n",
    "for i, row in df.iterrows():\n",
    "    plt.annotate(row['clube'], (row['score_criacao'], row['score_ofensivo']), fontsize=8, alpha=0.7)\n",
    "\n",
    "plt.title('🎯 Score de Criação vs Score Ofensivo (Clubes)', fontsize=14)\n",
    "plt.xlabel('Score de Criação')\n",
    "plt.ylabel('Score Ofensivo')\n",
    "plt.grid(True)\n",
    "\n",
    "# Linhas de média\n",
    "plt.axhline(5, color='gray', linestyle='--', linewidth=1, label='Média Ofensivo')\n",
    "plt.axvline(5, color='gray', linestyle='--', linewidth=1, label='Média Criação')\n",
    "\n",
    "# Escala de 0 a 10\n",
    "plt.xlim(0, 10)\n",
    "plt.ylim(0, 10)\n",
    "\n",
    "plt.legend()\n",
    "plt.tight_layout()\n",
    "plt.show()\n"
   ]
  },
  {
   "cell_type": "markdown",
   "metadata": {
    "application/vnd.databricks.v1+cell": {
     "cellMetadata": {},
     "inputWidgets": {},
     "nuid": "52a58155-ebc5-40b2-b111-664c35b54da3",
     "showTitle": false,
     "tableResultSettingsMap": {},
     "title": ""
    }
   },
   "source": [
    "#### 🔹 Plotagem do gráfico de Radar comparativo entre clubes"
   ]
  },
  {
   "cell_type": "code",
   "execution_count": 0,
   "metadata": {
    "application/vnd.databricks.v1+cell": {
     "cellMetadata": {
      "byteLimit": 2048000,
      "rowLimit": 10000
     },
     "inputWidgets": {},
     "nuid": "96225080-d9e7-41b8-a3a1-55ef9b82d186",
     "showTitle": false,
     "tableResultSettingsMap": {},
     "title": ""
    }
   },
   "outputs": [
    {
     "output_type": "display_data",
     "data": {
      "image/png": "[encoded data removed]"
     },
     "metadata": {
      "application/vnd.databricks.v1+output": {
       "addedWidgets": {},
       "arguments": {},
       "data": "data:image/png;base64,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\n",
       "datasetInfos": [],
       "metadata": {},
       "removedWidgets": [],
       "type": "image"
      }
     },
     "output_type": "display_data"
    }
   ],
   "source": [
    "import matplotlib.pyplot as plt\n",
    "import numpy as np\n",
    "\n",
    "# Pega os dois clubes que você quer comparar\n",
    "clubes = [\"Bahia\", \"São Paulo\"]\n",
    "\n",
    "# Extrai os dados dos dois clubes\n",
    "df_radar = df[df['clube'].isin(clubes)].set_index('clube')\n",
    "categorias = ['Criação', 'Ofensivo', 'Defensivo']\n",
    "\n",
    "# Garante a ordem correta dos valores\n",
    "valores_sp = df_radar.loc[\"Bahia\"][['score_criacao', 'score_ofensivo', 'score_defensivo']].tolist()\n",
    "valores_pal = df_radar.loc[\"São Paulo\"][['score_criacao', 'score_ofensivo', 'score_defensivo']].tolist()\n",
    "\n",
    "# Fecha o radar (repetir o 1º valor no final)\n",
    "valores_sp += [valores_sp[0]]\n",
    "valores_pal += [valores_pal[0]]\n",
    "angulos = np.linspace(0, 2 * np.pi, len(valores_sp))\n",
    "\n",
    "# Plot\n",
    "fig, ax = plt.subplots(figsize=(7, 7), subplot_kw=dict(polar=True))\n",
    "\n",
    "ax.plot(angulos, valores_sp, label='Bahia', color='red', linewidth=2)\n",
    "ax.fill(angulos, valores_sp, color='red', alpha=0.25)\n",
    "\n",
    "ax.plot(angulos, valores_pal, label='São Paulo', color='green', linewidth=2)\n",
    "ax.fill(angulos, valores_pal, color='green', alpha=0.25)\n",
    "\n",
    "ax.set_xticks(angulos[:-1])\n",
    "ax.set_xticklabels(categorias)\n",
    "ax.set_yticks([2, 4, 6, 8, 10])\n",
    "ax.set_title('⚔️ Comparativo Tático: Bahia vs São Paulo', fontsize=14)\n",
    "ax.legend(loc='upper right')\n",
    "plt.tight_layout()\n",
    "plt.show()\n"
   ]
  },
  {
   "cell_type": "markdown",
   "metadata": {
    "application/vnd.databricks.v1+cell": {
     "cellMetadata": {
      "byteLimit": 2048000,
      "rowLimit": 10000
     },
     "inputWidgets": {},
     "nuid": "0d137fc1-3c60-4b3b-8fb6-d5acdd2fdfdb",
     "showTitle": false,
     "tableResultSettingsMap": {},
     "title": ""
    }
   },
   "source": [
    "# 📌 Criação dos Data marts"
   ]
  },
  {
   "cell_type": "markdown",
   "metadata": {
    "application/vnd.databricks.v1+cell": {
     "cellMetadata": {
      "byteLimit": 2048000,
      "rowLimit": 10000
     },
     "inputWidgets": {},
     "nuid": "46a444e8-59fb-4b9d-8679-3b9e994c82ec",
     "showTitle": false,
     "tableResultSettingsMap": {},
     "title": ""
    }
   },
   "source": [
    "###  🔹Mart_Desempenho_Defensivo_Clubes 🔰\n",
    "\n",
    "---\n",
    "\n",
    "Preparando o Datamart de Desempenho Defensivo dos Clubes, que irá para o Redshift\n"
   ]
  },
  {
   "cell_type": "code",
   "execution_count": 0,
   "metadata": {
    "application/vnd.databricks.v1+cell": {
     "cellMetadata": {
      "byteLimit": 2048000,
      "implicitDf": true,
      "rowLimit": 10000
     },
     "inputWidgets": {},
     "nuid": "70e403a0-ae0b-46dd-91ba-059c1df5d43e",
     "showTitle": false,
     "tableResultSettingsMap": {},
     "title": ""
    }
   },
   "outputs": [
    {
     "output_type": "display_data",
     "data": {
      "text/html": [
       "<style scoped>\n",
       "  .table-result-container {\n",
       "    max-height: 300px;\n",
       "    overflow: auto;\n",
       "  }\n",
       "  table, th, td {\n",
       "    border: 1px solid black;\n",
       "    border-collapse: collapse;\n",
       "  }\n",
       "  th, td {\n",
       "    padding: 5px;\n",
       "  }\n",
       "  th {\n",
       "    text-align: left;\n",
       "  }\n",
       "</style><div class='table-result-container'><table class='table-result'><thead style='background-color: white'><tr></tr></thead><tbody></tbody></table></div>"
      ]
     },
     "metadata": {
      "application/vnd.databricks.v1+output": {
       "addedWidgets": {},
       "aggData": [],
       "aggError": "",
       "aggOverflow": false,
       "aggSchema": [],
       "aggSeriesLimitReached": false,
       "aggType": "",
       "arguments": {},
       "columnCustomDisplayInfos": {},
       "data": [],
       "datasetInfos": [],
       "dbfsResultPath": null,
       "isJsonSchema": true,
       "metadata": {},
       "overflow": false,
       "plotOptions": {
        "customPlotOptions": {},
        "displayType": "table",
        "pivotAggregation": null,
        "pivotColumns": null,
        "xColumns": null,
        "yColumns": null
       },
       "removedWidgets": [],
       "schema": [],
       "type": "table"
      }
     },
     "output_type": "display_data"
    }
   ],
   "source": [
    "%sql\n",
    "CREATE OR REPLACE TEMP VIEW Mart_Desempenho_Defensivo_Clubes AS\n",
    "SELECT \n",
    "    c.posicao,\n",
    "    s.clube,\n",
    "    c.tier_clubes,\n",
    "    s.norm_gols_sofridos,\n",
    "    s.norm_desarmes,\n",
    "    s.norm_interceptacoes,\n",
    "    s.norm_bloqueios,\n",
    "    s.score_defensivo,\n",
    "    'Defensivo' AS tipo_score    \n",
    "FROM Score_Defensivo s\n",
    "JOIN Classificacao_Tier c ON s.clube = c.clube;\n"
   ]
  },
  {
   "cell_type": "markdown",
   "metadata": {
    "application/vnd.databricks.v1+cell": {
     "cellMetadata": {
      "byteLimit": 2048000,
      "rowLimit": 10000
     },
     "inputWidgets": {},
     "nuid": "64dff783-6eba-486e-b728-15d7596627bb",
     "showTitle": false,
     "tableResultSettingsMap": {},
     "title": ""
    }
   },
   "source": [
    "### 🔹Mart_Desempenho_Ofensivo_Clubes ⚔️\n",
    "\n",
    "---\n",
    "\n",
    "Preparando o Datamart de Desempenho Ofensivo dos Clubes, que irá para o Redshift\n"
   ]
  },
  {
   "cell_type": "code",
   "execution_count": 0,
   "metadata": {
    "application/vnd.databricks.v1+cell": {
     "cellMetadata": {
      "byteLimit": 2048000,
      "implicitDf": true,
      "rowLimit": 10000
     },
     "inputWidgets": {},
     "nuid": "fbf7f4c3-e78c-44e7-b946-de6b75dd5b37",
     "showTitle": false,
     "tableResultSettingsMap": {},
     "title": ""
    }
   },
   "outputs": [
    {
     "output_type": "display_data",
     "data": {
      "text/html": [
       "<style scoped>\n",
       "  .table-result-container {\n",
       "    max-height: 300px;\n",
       "    overflow: auto;\n",
       "  }\n",
       "  table, th, td {\n",
       "    border: 1px solid black;\n",
       "    border-collapse: collapse;\n",
       "  }\n",
       "  th, td {\n",
       "    padding: 5px;\n",
       "  }\n",
       "  th {\n",
       "    text-align: left;\n",
       "  }\n",
       "</style><div class='table-result-container'><table class='table-result'><thead style='background-color: white'><tr></tr></thead><tbody></tbody></table></div>"
      ]
     },
     "metadata": {
      "application/vnd.databricks.v1+output": {
       "addedWidgets": {},
       "aggData": [],
       "aggError": "",
       "aggOverflow": false,
       "aggSchema": [],
       "aggSeriesLimitReached": false,
       "aggType": "",
       "arguments": {},
       "columnCustomDisplayInfos": {},
       "data": [],
       "datasetInfos": [],
       "dbfsResultPath": null,
       "isJsonSchema": true,
       "metadata": {},
       "overflow": false,
       "plotOptions": {
        "customPlotOptions": {},
        "displayType": "table",
        "pivotAggregation": null,
        "pivotColumns": null,
        "xColumns": null,
        "yColumns": null
       },
       "removedWidgets": [],
       "schema": [],
       "type": "table"
      }
     },
     "output_type": "display_data"
    }
   ],
   "source": [
    "%sql\n",
    "CREATE OR REPLACE TEMP VIEW Mart_Desempenho_Ofensivo_Clubes AS\n",
    "SELECT \n",
    "    c.posicao,\n",
    "    s.clube,\n",
    "    c.tier_clubes,\n",
    "    s.norm_gols_marcados,\n",
    "    s.norm_Ass AS norm_assistencias,\n",
    "    s.norm_penaltis_batidos,\n",
    "    s.norm_total_chutes,\n",
    "    s.norm_chutes_gol,\n",
    "    s.norm_gols_esperados,\n",
    "    s.norm_ass_esperadas,\n",
    "    s.norm_acoes_de_criacao,\n",
    "    s.norm_acoes_de_gol,\n",
    "    s.norm_eficiencia,\n",
    "    s.score_ofensivo,\n",
    "    'Ofensivo' AS tipo_score        \n",
    "FROM Score_Ofensivo s\n",
    "JOIN Classificacao_Tier c ON s.clube = c.clube;\n"
   ]
  },
  {
   "cell_type": "markdown",
   "metadata": {
    "application/vnd.databricks.v1+cell": {
     "cellMetadata": {
      "byteLimit": 2048000,
      "rowLimit": 10000
     },
     "inputWidgets": {},
     "nuid": "9dfaf69c-ae64-4287-aa6e-b5ecbd21d9b8",
     "showTitle": false,
     "tableResultSettingsMap": {},
     "title": ""
    }
   },
   "source": [
    "### 🔹 Mart_Desempenho_Criacao_Clubes 🧠\n",
    "\n",
    "---\n",
    "\n",
    "Preparando o Datamart de Desempenho de Criação dos Clubes, que irá para o Redshift"
   ]
  },
  {
   "cell_type": "code",
   "execution_count": 0,
   "metadata": {
    "application/vnd.databricks.v1+cell": {
     "cellMetadata": {
      "byteLimit": 2048000,
      "implicitDf": true,
      "rowLimit": 10000
     },
     "inputWidgets": {},
     "nuid": "354e9d51-712f-4b01-a847-8fb121a51ca7",
     "showTitle": false,
     "tableResultSettingsMap": {},
     "title": ""
    }
   },
   "outputs": [
    {
     "output_type": "display_data",
     "data": {
      "text/html": [
       "<style scoped>\n",
       "  .table-result-container {\n",
       "    max-height: 300px;\n",
       "    overflow: auto;\n",
       "  }\n",
       "  table, th, td {\n",
       "    border: 1px solid black;\n",
       "    border-collapse: collapse;\n",
       "  }\n",
       "  th, td {\n",
       "    padding: 5px;\n",
       "  }\n",
       "  th {\n",
       "    text-align: left;\n",
       "  }\n",
       "</style><div class='table-result-container'><table class='table-result'><thead style='background-color: white'><tr></tr></thead><tbody></tbody></table></div>"
      ]
     },
     "metadata": {
      "application/vnd.databricks.v1+output": {
       "addedWidgets": {},
       "aggData": [],
       "aggError": "",
       "aggOverflow": false,
       "aggSchema": [],
       "aggSeriesLimitReached": false,
       "aggType": "",
       "arguments": {},
       "columnCustomDisplayInfos": {},
       "data": [],
       "datasetInfos": [],
       "dbfsResultPath": null,
       "isJsonSchema": true,
       "metadata": {},
       "overflow": false,
       "plotOptions": {
        "customPlotOptions": {},
        "displayType": "table",
        "pivotAggregation": null,
        "pivotColumns": null,
        "xColumns": null,
        "yColumns": null
       },
       "removedWidgets": [],
       "schema": [],
       "type": "table"
      }
     },
     "output_type": "display_data"
    }
   ],
   "source": [
    "%sql\n",
    "CREATE OR REPLACE TEMP VIEW Mart_Desempenho_Criacao_Clubes AS\n",
    "SELECT \n",
    "    c.posicao,\n",
    "    sc.clube,\n",
    "    c.tier_clubes,\n",
    "    sc.norm_assistencias,\n",
    "    sc.norm_acoes_de_criacao,\n",
    "    sc.norm_ass_esperadas,\n",
    "    sc.norm_passes_completos,\n",
    "    sc.norm_passes_tentados,\n",
    "    sc.norm_conducoes_de_bola,\n",
    "    sc.norm_conducoes_progressivas,\n",
    "    sc.score_criacao,\n",
    "    'Criacao' AS tipo_score        \n",
    "FROM Score_Criacao sc\n",
    "JOIN Classificacao_Tier c ON sc.clube = c.clube;\n"
   ]
  },
  {
   "cell_type": "markdown",
   "metadata": {
    "application/vnd.databricks.v1+cell": {
     "cellMetadata": {
      "byteLimit": 2048000,
      "rowLimit": 10000
     },
     "inputWidgets": {},
     "nuid": "92d5818d-ca5b-404c-ab63-9921e6298ef1",
     "showTitle": false,
     "tableResultSettingsMap": {},
     "title": ""
    }
   },
   "source": [
    "### 🔹Mart_Desempenho_Clubes 🧱"
   ]
  },
  {
   "cell_type": "code",
   "execution_count": 0,
   "metadata": {
    "application/vnd.databricks.v1+cell": {
     "cellMetadata": {
      "byteLimit": 2048000,
      "implicitDf": true,
      "rowLimit": 10000
     },
     "inputWidgets": {},
     "nuid": "7284aa18-aded-44ff-b43b-c145a426012a",
     "showTitle": false,
     "tableResultSettingsMap": {},
     "title": ""
    }
   },
   "outputs": [
    {
     "output_type": "display_data",
     "data": {
      "text/html": [
       "<style scoped>\n",
       "  .table-result-container {\n",
       "    max-height: 300px;\n",
       "    overflow: auto;\n",
       "  }\n",
       "  table, th, td {\n",
       "    border: 1px solid black;\n",
       "    border-collapse: collapse;\n",
       "  }\n",
       "  th, td {\n",
       "    padding: 5px;\n",
       "  }\n",
       "  th {\n",
       "    text-align: left;\n",
       "  }\n",
       "</style><div class='table-result-container'><table class='table-result'><thead style='background-color: white'><tr></tr></thead><tbody></tbody></table></div>"
      ]
     },
     "metadata": {
      "application/vnd.databricks.v1+output": {
       "addedWidgets": {},
       "aggData": [],
       "aggError": "",
       "aggOverflow": false,
       "aggSchema": [],
       "aggSeriesLimitReached": false,
       "aggType": "",
       "arguments": {},
       "columnCustomDisplayInfos": {},
       "data": [],
       "datasetInfos": [],
       "dbfsResultPath": null,
       "isJsonSchema": true,
       "metadata": {},
       "overflow": false,
       "plotOptions": {
        "customPlotOptions": {},
        "displayType": "table",
        "pivotAggregation": null,
        "pivotColumns": null,
        "xColumns": null,
        "yColumns": null
       },
       "removedWidgets": [],
       "schema": [],
       "type": "table"
      }
     },
     "output_type": "display_data"
    }
   ],
   "source": [
    "%sql\n",
    "CREATE OR REPLACE TEMP VIEW Mart_Desempenho_Clubes AS\n",
    "SELECT \n",
    "    d.posicao,\n",
    "    d.clube,\n",
    "    d.tier_clubes,\n",
    "\n",
    "    -- Métricas defensivas\n",
    "    d.norm_gols_sofridos,\n",
    "    d.norm_desarmes,\n",
    "    d.norm_interceptacoes,\n",
    "    d.norm_bloqueios,\n",
    "\n",
    "\n",
    "    -- Métricas ofensivas\n",
    "    o.norm_gols_marcados,\n",
    "    o.norm_assistencias,\n",
    "    o.norm_penaltis_batidos,\n",
    "    o.norm_total_chutes,\n",
    "    o.norm_chutes_gol,\n",
    "    o.norm_gols_esperados,\n",
    "    o.norm_ass_esperadas,\n",
    "    o.norm_acoes_de_criacao,\n",
    "    o.norm_acoes_de_gol,\n",
    "    o.norm_eficiencia,\n",
    "\n",
    "    -- Métricas de criação\n",
    "    c.norm_passes_completos,\n",
    "    c.norm_passes_tentados,\n",
    "    c.norm_conducoes_de_bola,\n",
    "    c.norm_conducoes_progressivas,\n",
    "\n",
    "    -- SCORES\n",
    "    d.score_defensivo,    \n",
    "    o.score_ofensivo,\n",
    "    c.score_criacao\n",
    "\n",
    "\n",
    "FROM Mart_Desempenho_Defensivo_Clubes d\n",
    "LEFT JOIN Mart_Desempenho_Ofensivo_Clubes o ON d.clube = o.clube\n",
    "LEFT JOIN Mart_Desempenho_Criacao_Clubes c ON d.clube = c.clube;"
   ]
  },
  {
   "cell_type": "markdown",
   "metadata": {
    "application/vnd.databricks.v1+cell": {
     "cellMetadata": {
      "byteLimit": 2048000,
      "rowLimit": 10000
     },
     "inputWidgets": {},
     "nuid": "25624e7e-42dd-409b-a31f-6faaa7710828",
     "showTitle": false,
     "tableResultSettingsMap": {},
     "title": ""
    }
   },
   "source": [
    "# 📌 Salvando os Arquivs na Camada Gold "
   ]
  },
  {
   "cell_type": "markdown",
   "metadata": {
    "application/vnd.databricks.v1+cell": {
     "cellMetadata": {},
     "inputWidgets": {},
     "nuid": "8b86fd5d-6277-4664-81f8-ead4aac38a5a",
     "showTitle": false,
     "tableResultSettingsMap": {},
     "title": ""
    }
   },
   "source": [
    "### 🔹Geral - Salvando Datamart na camada Gold"
   ]
  },
  {
   "cell_type": "code",
   "execution_count": 0,
   "metadata": {
    "application/vnd.databricks.v1+cell": {
     "cellMetadata": {
      "byteLimit": 2048000,
      "rowLimit": 10000
     },
     "inputWidgets": {},
     "nuid": "e277d071-c322-4ddf-ae16-1ec1cfb4caf0",
     "showTitle": false,
     "tableResultSettingsMap": {},
     "title": ""
    }
   },
   "outputs": [],
   "source": [
    "df_gold = spark.sql(\"SELECT * FROM Mart_Desempenho_Clubes\")\n",
    "\n",
    "df_gold.write.mode(\"overwrite\").parquet(\"s3a://mvp-brasileirao-2024/gold/Mart_Desempenho_Clubes\")"
   ]
  },
  {
   "cell_type": "markdown",
   "metadata": {
    "application/vnd.databricks.v1+cell": {
     "cellMetadata": {},
     "inputWidgets": {},
     "nuid": "2cb37c94-4cf3-4e5c-ae5a-b76ed9e4a874",
     "showTitle": false,
     "tableResultSettingsMap": {},
     "title": ""
    }
   },
   "source": [
    "### 🔹Classificacao_Tier -  - Salvando Datamart na camada Gold"
   ]
  },
  {
   "cell_type": "code",
   "execution_count": 0,
   "metadata": {
    "application/vnd.databricks.v1+cell": {
     "cellMetadata": {
      "byteLimit": 2048000,
      "rowLimit": 10000
     },
     "inputWidgets": {},
     "nuid": "10aa5722-7563-4a86-9aa2-3d15eb800a09",
     "showTitle": false,
     "tableResultSettingsMap": {},
     "title": ""
    }
   },
   "outputs": [],
   "source": [
    "df_gold = spark.sql(\"SELECT * FROM Classificacao_Tier\")\n",
    "\n",
    "df_gold.write.mode(\"overwrite\").parquet(\"s3a://mvp-brasileirao-2024/gold/Classificacao_Tier\")"
   ]
  },
  {
   "cell_type": "markdown",
   "metadata": {
    "application/vnd.databricks.v1+cell": {
     "cellMetadata": {},
     "inputWidgets": {},
     "nuid": "fe809b6f-439e-428a-ac14-5d158ca7187b",
     "showTitle": false,
     "tableResultSettingsMap": {},
     "title": ""
    }
   },
   "source": [
    "### 🔹todas_partidas - Salvando Datamart na camada Gold"
   ]
  },
  {
   "cell_type": "code",
   "execution_count": 0,
   "metadata": {
    "application/vnd.databricks.v1+cell": {
     "cellMetadata": {
      "byteLimit": 2048000,
      "implicitDf": true,
      "rowLimit": 10000
     },
     "inputWidgets": {},
     "nuid": "64a68b6b-fc59-476b-8f47-8c9ec78c4a70",
     "showTitle": false,
     "tableResultSettingsMap": {},
     "title": ""
    }
   },
   "outputs": [],
   "source": [
    "df_gold = spark.sql(\"SELECT * FROM todas_partidas\")\n",
    "\n",
    "df_gold.write.mode(\"overwrite\").parquet(\"s3a://mvp-brasileirao-2024/gold/todas_partidas\")"
   ]
  }
 ],
 "metadata": {
  "application/vnd.databricks.v1+notebook": {
   "computePreferences": null,
   "dashboards": [],
   "environmentMetadata": {
    "base_environment": "",
    "environment_version": "1"
   },
   "inputWidgetPreferences": null,
   "language": "python",
   "notebookMetadata": {
    "mostRecentlyExecutedCommandWithImplicitDF": {
     "commandId": 4251934443907900,
     "dataframes": [
      "_sqldf"
     ]
    },
    "pythonIndentUnit": 4
   },
   "notebookName": "04A-Transformacao-Gold-Mart-Clubes",
   "widgets": {}
  }
 },
 "nbformat": 4,
 "nbformat_minor": 0
}

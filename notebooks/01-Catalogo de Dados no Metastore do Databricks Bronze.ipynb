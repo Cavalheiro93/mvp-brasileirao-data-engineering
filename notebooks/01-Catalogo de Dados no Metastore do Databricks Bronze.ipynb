{
 "cells": [
  {
   "cell_type": "markdown",
   "metadata": {
    "application/vnd.databricks.v1+cell": {
     "cellMetadata": {
      "byteLimit": 2048000,
      "rowLimit": 10000
     },
     "inputWidgets": {},
     "nuid": "b7dc1355-b925-4eb7-ba6c-02ba814cc297",
     "showTitle": false,
     "tableResultSettingsMap": {},
     "title": ""
    }
   },
   "source": [
    "# 📌 Passo a Passo: Criando o Catálogo no Metastore do Databricks - Silver\n",
    "\n",
    "- 1️⃣ Criar um Database no Metastore\n",
    "- 2️⃣ Registrar a Tabela Delta no Metastore\n",
    "- 3️⃣ Validar se a tabela foi registrada corretamente"
   ]
  },
  {
   "cell_type": "markdown",
   "metadata": {
    "application/vnd.databricks.v1+cell": {
     "cellMetadata": {
      "byteLimit": 2048000,
      "rowLimit": 10000
     },
     "inputWidgets": {},
     "nuid": "bc29de2e-db62-4bcc-97c2-f35b8e5b2723",
     "showTitle": false,
     "tableResultSettingsMap": {},
     "title": ""
    }
   },
   "source": [
    "## 🔷 Criação Database\n",
    "\n",
    "No Databricks, as tabelas são organizadas dentro de um Database. Vamos criar um database específico para armazenar os metadados.\n",
    "\n",
    "\n"
   ]
  },
  {
   "cell_type": "code",
   "execution_count": 0,
   "metadata": {
    "application/vnd.databricks.v1+cell": {
     "cellMetadata": {
      "byteLimit": 2048000,
      "rowLimit": 10000
     },
     "collapsed": true,
     "inputWidgets": {},
     "nuid": "293d8b05-914a-470c-8ff5-8001b9f44e55",
     "showTitle": false,
     "tableResultSettingsMap": {},
     "title": ""
    }
   },
   "outputs": [],
   "source": [
    "%run \"./00-Configuracao\""
   ]
  },
  {
   "cell_type": "code",
   "execution_count": 0,
   "metadata": {
    "application/vnd.databricks.v1+cell": {
     "cellMetadata": {
      "byteLimit": 2048000,
      "implicitDf": true,
      "rowLimit": 10000
     },
     "inputWidgets": {},
     "nuid": "1d949b5a-afbf-4b0b-838e-d9540a35c861",
     "showTitle": false,
     "tableResultSettingsMap": {},
     "title": ""
    }
   },
   "outputs": [
    {
     "output_type": "display_data",
     "data": {
      "text/html": [
       "<style scoped>\n",
       "  .table-result-container {\n",
       "    max-height: 300px;\n",
       "    overflow: auto;\n",
       "  }\n",
       "  table, th, td {\n",
       "    border: 1px solid black;\n",
       "    border-collapse: collapse;\n",
       "  }\n",
       "  th, td {\n",
       "    padding: 5px;\n",
       "  }\n",
       "  th {\n",
       "    text-align: left;\n",
       "  }\n",
       "</style><div class='table-result-container'><table class='table-result'><thead style='background-color: white'><tr></tr></thead><tbody></tbody></table></div>"
      ]
     },
     "metadata": {
      "application/vnd.databricks.v1+output": {
       "addedWidgets": {},
       "aggData": [],
       "aggError": "",
       "aggOverflow": false,
       "aggSchema": [],
       "aggSeriesLimitReached": false,
       "aggType": "",
       "arguments": {},
       "columnCustomDisplayInfos": {},
       "data": [],
       "datasetInfos": [],
       "dbfsResultPath": null,
       "isJsonSchema": true,
       "metadata": {},
       "overflow": false,
       "plotOptions": {
        "customPlotOptions": {},
        "displayType": "table",
        "pivotAggregation": null,
        "pivotColumns": null,
        "xColumns": null,
        "yColumns": null
       },
       "removedWidgets": [],
       "schema": [],
       "type": "table"
      }
     },
     "output_type": "display_data"
    },
    {
     "output_type": "stream",
     "name": "stdout",
     "output_type": "stream",
     "text": [
      "Leitura das credenciais de forma segura pelo Spark 🔐\n"
     ]
    },
    {
     "output_type": "stream",
     "name": "stdout",
     "output_type": "stream",
     "text": [
      "Caminhos definidos:\n📂 Bronze: s3a://mvp-brasileirao-2024/bronze/ | 📂 Silver: s3a://mvp-brasileirao-2024/silver/ | 📂 Gold: s3a://mvp-brasileirao-2024/gold/\n"
     ]
    },
    {
     "output_type": "stream",
     "name": "stdout",
     "output_type": "stream",
     "text": [
      "✅ Credenciais configuradas com sucesso!\n"
     ]
    },
    {
     "output_type": "stream",
     "name": "stdout",
     "output_type": "stream",
     "text": [
      "✅ Conexão bem-sucedida! Arquivos encontrados na camada Bronze e Silver:\n"
     ]
    }
   ],
   "source": [
    "%sql\n",
    "CREATE DATABASE IF NOT EXISTS catalogo_de_dados\n",
    "LOCATION 's3://mvp-brasileirao-2024/bronze/catalogo_de_dados';"
   ]
  },
  {
   "cell_type": "markdown",
   "metadata": {
    "application/vnd.databricks.v1+cell": {
     "cellMetadata": {
      "byteLimit": 2048000,
      "rowLimit": 10000
     },
     "inputWidgets": {},
     "nuid": "651df4a7-131d-42f2-9df1-53a4e330cf5f",
     "showTitle": false,
     "tableResultSettingsMap": {},
     "title": ""
    }
   },
   "source": [
    "## 🔷 Preparação para os Registros\n",
    "\n",
    "Antes de registrarmos, precisarmos Salvar os DataFrames no formato Delta dentro da pasta `catalogo_de_dados`"
   ]
  },
  {
   "cell_type": "markdown",
   "metadata": {
    "application/vnd.databricks.v1+cell": {
     "cellMetadata": {
      "byteLimit": 2048000,
      "rowLimit": 10000
     },
     "inputWidgets": {},
     "nuid": "3920a88f-e7ee-4465-8ffd-a63ce6f655b7",
     "showTitle": false,
     "tableResultSettingsMap": {},
     "title": ""
    }
   },
   "source": [
    "### 🔹 Conversão .csv → Delta\n",
    "\n",
    "Criamos as pastas do Catalogo de Dados, porém agora precisamos converter os arquivos csv para Delta, para darmos inicio a criação dos Catálogos"
   ]
  },
  {
   "cell_type": "code",
   "execution_count": 0,
   "metadata": {
    "application/vnd.databricks.v1+cell": {
     "cellMetadata": {
      "byteLimit": 2048000,
      "rowLimit": 10000
     },
     "inputWidgets": {},
     "nuid": "53048d46-c5d3-4ff8-b110-e239a7a0a2c4",
     "showTitle": false,
     "tableResultSettingsMap": {},
     "title": ""
    }
   },
   "outputs": [
    {
     "output_type": "stream",
     "name": "stdout",
     "output_type": "stream",
     "text": [
      "Out[6]: False"
     ]
    }
   ],
   "source": [
    "dbutils.fs.rm(\"s3://mvp-brasileirao-2024/bronze/catalogo_de_dados/brasil_seriea_2024_todas_partidas\", recurse=True)\n",
    "dbutils.fs.rm(\"s3://mvp-brasileirao-2024/bronze/catalogo_de_dados/brasil_seriea_2024_classificacao\", recurse=True)\n",
    "dbutils.fs.rm(\"s3://mvp-brasileirao-2024/bronze/catalogo_de_dados/brasil_seriea_2024_estatistica_jogador\", recurse=True)"
   ]
  },
  {
   "cell_type": "markdown",
   "metadata": {
    "application/vnd.databricks.v1+cell": {
     "cellMetadata": {
      "byteLimit": 2048000,
      "rowLimit": 10000
     },
     "inputWidgets": {},
     "nuid": "32245adf-7834-4b8a-83a8-3573cf56e900",
     "showTitle": false,
     "tableResultSettingsMap": {},
     "title": ""
    }
   },
   "source": [
    "### 🔹 Definição dos Paths"
   ]
  },
  {
   "cell_type": "code",
   "execution_count": 0,
   "metadata": {
    "application/vnd.databricks.v1+cell": {
     "cellMetadata": {
      "byteLimit": 2048000,
      "rowLimit": 10000
     },
     "inputWidgets": {},
     "nuid": "0c70fe9d-35d1-4875-9955-f99b3762cac2",
     "showTitle": false,
     "tableResultSettingsMap": {},
     "title": ""
    }
   },
   "outputs": [],
   "source": [
    "from pyspark.sql.functions import col\n",
    "\n",
    "# 🔹 Caminhos dos arquivos CSV na Bronze\n",
    "bronze_path_partidas = \"s3://mvp-brasileirao-2024/bronze/BrasilSerieA_2024_TodasPartidas.csv\"\n",
    "bronze_path_classificacao = \"s3://mvp-brasileirao-2024/bronze/BrasilSerieA_2024_ClassificacaoFinal.csv\"\n",
    "bronze_path_estatistica = \"s3://mvp-brasileirao-2024/bronze/BrasilSerieA_2024_EstatisticaJogadorPorPartida.csv\"\n",
    "\n",
    "# 🔹 Caminhos onde serão armazenados os arquivos Delta\n",
    "delta_path_partidas = \"s3://mvp-brasileirao-2024/bronze/catalogo_de_dados/brasil_seriea_2024_todas_partidas\"\n",
    "delta_path_classificacao = \"s3://mvp-brasileirao-2024/bronze/catalogo_de_dados/brasil_seriea_2024_classificacao\"\n",
    "delta_path_estatistica = \"s3://mvp-brasileirao-2024/bronze/catalogo_de_dados/brasil_seriea_2024_estatistica_jogador\""
   ]
  },
  {
   "cell_type": "markdown",
   "metadata": {
    "application/vnd.databricks.v1+cell": {
     "cellMetadata": {
      "byteLimit": 2048000,
      "rowLimit": 10000
     },
     "inputWidgets": {},
     "nuid": "1fb848d5-d673-4812-9ca2-7f5e16e2afe9",
     "showTitle": false,
     "tableResultSettingsMap": {},
     "title": ""
    }
   },
   "source": [
    "### 🔹 Criação dos Dataframes"
   ]
  },
  {
   "cell_type": "code",
   "execution_count": 0,
   "metadata": {
    "application/vnd.databricks.v1+cell": {
     "cellMetadata": {
      "byteLimit": 2048000,
      "rowLimit": 10000
     },
     "inputWidgets": {},
     "nuid": "4d5c1530-f3a0-432d-9075-df67969bbe38",
     "showTitle": false,
     "tableResultSettingsMap": {},
     "title": ""
    }
   },
   "outputs": [],
   "source": [
    "\n",
    "# 🔹 Criar DataFrames lendo os CSV\n",
    "df_partidas = spark.read.option(\"header\", True).option(\"inferSchema\", True).option(\"delimiter\", \";\").csv(bronze_path_partidas)\n",
    "df_classificacao = spark.read.option(\"header\", True).option(\"inferSchema\", True).option(\"delimiter\", \";\").csv(bronze_path_classificacao)\n",
    "df_estatistica = spark.read.option(\"header\", True).option(\"inferSchema\", True).option(\"delimiter\", \";\").csv(bronze_path_estatistica)"
   ]
  },
  {
   "cell_type": "markdown",
   "metadata": {
    "application/vnd.databricks.v1+cell": {
     "cellMetadata": {
      "byteLimit": 2048000,
      "rowLimit": 10000
     },
     "inputWidgets": {},
     "nuid": "419596b5-8947-4ef4-82e1-58c48d0c18bc",
     "showTitle": false,
     "tableResultSettingsMap": {},
     "title": ""
    }
   },
   "source": [
    "### 🔹 Salvando Dataframes em formato Delta"
   ]
  },
  {
   "cell_type": "code",
   "execution_count": 0,
   "metadata": {
    "application/vnd.databricks.v1+cell": {
     "cellMetadata": {
      "byteLimit": 2048000,
      "rowLimit": 10000
     },
     "inputWidgets": {},
     "nuid": "b4247b38-03e9-4366-bffe-12f577100dda",
     "showTitle": false,
     "tableResultSettingsMap": {},
     "title": ""
    }
   },
   "outputs": [],
   "source": [
    "# Função para limpar os nomes das colunas\n",
    "def limpar_nomes_colunas(df):\n",
    "    for c in df.columns:\n",
    "        novo_nome = c.strip().replace(\" \", \"_\").replace(\".\", \"\").replace(\",\", \"\").replace(\";\", \"\").replace(\"{\", \"\").replace(\"}\", \"\").replace(\"(\", \"\").replace(\")\", \"\").replace(\"\\n\", \"\").replace(\"\\t\", \"\").replace(\"-\", \"_\")\n",
    "        df = df.withColumnRenamed(c, novo_nome)\n",
    "    return df\n",
    "\n",
    "# Aplicar a limpeza das colunas\n",
    "df_partidas = limpar_nomes_colunas(df_partidas)\n",
    "df_classificacao = limpar_nomes_colunas(df_classificacao)\n",
    "df_estatistica = limpar_nomes_colunas(df_estatistica)\n",
    "\n",
    "# Salvar os DataFrames no formato Delta dentro da pasta catalogo_de_dados/\n",
    "df_partidas.write.format(\"delta\") \\\n",
    "    .mode(\"overwrite\") \\\n",
    "    .save(delta_path_partidas)\n",
    "\n",
    "df_classificacao.write.format(\"delta\") \\\n",
    "    .mode(\"overwrite\") \\\n",
    "    .save(delta_path_classificacao)\n",
    "\n",
    "df_estatistica.write.format(\"delta\") \\\n",
    "    .mode(\"overwrite\") \\\n",
    "    .save(delta_path_estatistica)"
   ]
  },
  {
   "cell_type": "markdown",
   "metadata": {
    "application/vnd.databricks.v1+cell": {
     "cellMetadata": {
      "byteLimit": 2048000,
      "rowLimit": 10000
     },
     "inputWidgets": {},
     "nuid": "e4bd8ecd-6878-40ac-9d6b-7a350cd7ab00",
     "showTitle": false,
     "tableResultSettingsMap": {},
     "title": ""
    }
   },
   "source": [
    "### 🔹 Criando os Paths dos arquivos Delta"
   ]
  },
  {
   "cell_type": "code",
   "execution_count": 0,
   "metadata": {
    "application/vnd.databricks.v1+cell": {
     "cellMetadata": {
      "byteLimit": 2048000,
      "rowLimit": 10000
     },
     "inputWidgets": {},
     "nuid": "00be16c1-ba07-4dce-86ed-d7d29df63c4e",
     "showTitle": false,
     "tableResultSettingsMap": {},
     "title": ""
    }
   },
   "outputs": [],
   "source": [
    "# Caminhos dos arquivos Delta na Bronze\n",
    "delta_path_partidas = \"s3://mvp-brasileirao-2024/bronze/catalogo_de_dados/brasil_seriea_2024_todas_partidas\"\n",
    "delta_path_classificacao = \"s3://mvp-brasileirao-2024/bronze/catalogo_de_dados/brasil_seriea_2024_classificacao\"\n",
    "delta_path_estatistica = \"s3://mvp-brasileirao-2024/bronze/catalogo_de_dados/brasil_seriea_2024_estatistica_jogador\""
   ]
  },
  {
   "cell_type": "markdown",
   "metadata": {
    "application/vnd.databricks.v1+cell": {
     "cellMetadata": {
      "byteLimit": 2048000,
      "rowLimit": 10000
     },
     "inputWidgets": {},
     "nuid": "3a604341-aff8-460c-97a3-108d7010eb5a",
     "showTitle": false,
     "tableResultSettingsMap": {},
     "title": ""
    }
   },
   "source": [
    "### 🔹 Leitura dos arquivos Delta via Spark"
   ]
  },
  {
   "cell_type": "code",
   "execution_count": 0,
   "metadata": {
    "application/vnd.databricks.v1+cell": {
     "cellMetadata": {
      "byteLimit": 2048000,
      "rowLimit": 10000
     },
     "inputWidgets": {},
     "nuid": "37560e1f-66f0-43ac-b32a-77ee4be4a50b",
     "showTitle": false,
     "tableResultSettingsMap": {},
     "title": ""
    }
   },
   "outputs": [],
   "source": [
    "# 1️⃣ Ler os arquivos Delta da Bronze\n",
    "df_partidas = spark.read.format(\"delta\").load(delta_path_partidas)\n",
    "df_classificacao = spark.read.format(\"delta\").load(delta_path_classificacao)\n",
    "df_estatistica = spark.read.format(\"delta\").load(delta_path_estatistica)"
   ]
  },
  {
   "cell_type": "markdown",
   "metadata": {
    "application/vnd.databricks.v1+cell": {
     "cellMetadata": {
      "byteLimit": 2048000,
      "rowLimit": 10000
     },
     "inputWidgets": {},
     "nuid": "4afef186-c2e7-4c8a-9176-a5560ccee55e",
     "showTitle": false,
     "tableResultSettingsMap": {},
     "title": ""
    }
   },
   "source": [
    "## 🔷 Registro das tabelas Delta no Metastore\n",
    "\n",
    "Agora, precisamos registrar a tabela de catálogo de dados no Metastore."
   ]
  },
  {
   "cell_type": "markdown",
   "metadata": {
    "application/vnd.databricks.v1+cell": {
     "cellMetadata": {
      "byteLimit": 2048000,
      "rowLimit": 10000
     },
     "inputWidgets": {},
     "nuid": "ac0bd66d-a9b8-4707-a6b9-b02067537f8b",
     "showTitle": false,
     "tableResultSettingsMap": {},
     "title": ""
    }
   },
   "source": [
    "### 🔹 Registro das Tabelas no Metastore\n"
   ]
  },
  {
   "cell_type": "code",
   "execution_count": 0,
   "metadata": {
    "application/vnd.databricks.v1+cell": {
     "cellMetadata": {
      "byteLimit": 2048000,
      "implicitDf": true,
      "rowLimit": 10000
     },
     "inputWidgets": {},
     "nuid": "500a8f8c-7d9f-4097-837a-3a3c3053521d",
     "showTitle": false,
     "tableResultSettingsMap": {},
     "title": ""
    }
   },
   "outputs": [
    {
     "output_type": "display_data",
     "data": {
      "text/html": [
       "<style scoped>\n",
       "  .table-result-container {\n",
       "    max-height: 300px;\n",
       "    overflow: auto;\n",
       "  }\n",
       "  table, th, td {\n",
       "    border: 1px solid black;\n",
       "    border-collapse: collapse;\n",
       "  }\n",
       "  th, td {\n",
       "    padding: 5px;\n",
       "  }\n",
       "  th {\n",
       "    text-align: left;\n",
       "  }\n",
       "</style><div class='table-result-container'><table class='table-result'><thead style='background-color: white'><tr></tr></thead><tbody></tbody></table></div>"
      ]
     },
     "metadata": {
      "application/vnd.databricks.v1+output": {
       "addedWidgets": {},
       "aggData": [],
       "aggError": "",
       "aggOverflow": false,
       "aggSchema": [],
       "aggSeriesLimitReached": false,
       "aggType": "",
       "arguments": {},
       "columnCustomDisplayInfos": {},
       "data": [],
       "datasetInfos": [],
       "dbfsResultPath": null,
       "isJsonSchema": true,
       "metadata": {},
       "overflow": false,
       "plotOptions": {
        "customPlotOptions": {},
        "displayType": "table",
        "pivotAggregation": null,
        "pivotColumns": null,
        "xColumns": null,
        "yColumns": null
       },
       "removedWidgets": [],
       "schema": [],
       "type": "table"
      }
     },
     "output_type": "display_data"
    }
   ],
   "source": [
    "%sql\n",
    "DROP TABLE IF EXISTS catalogo_de_dados.brasil_seriea_2024_todas_partidas;\n",
    "CREATE TABLE catalogo_de_dados.brasil_seriea_2024_todas_partidas\n",
    "USING DELTA\n",
    "LOCATION 's3://mvp-brasileirao-2024/bronze/catalogo_de_dados/brasil_seriea_2024_todas_partidas/';\n",
    "\n",
    "DROP TABLE IF EXISTS catalogo_de_dados.brasil_seriea_2024_classificacao;\n",
    "CREATE TABLE catalogo_de_dados.brasil_seriea_2024_classificacao\n",
    "USING DELTA\n",
    "LOCATION 's3://mvp-brasileirao-2024/bronze/catalogo_de_dados/brasil_seriea_2024_classificacao/';\n",
    "\n",
    "DROP TABLE IF EXISTS catalogo_de_dados.brasil_seriea_2024_estatistica_jogador;\n",
    "CREATE TABLE catalogo_de_dados.brasil_seriea_2024_estatistica_jogador\n",
    "USING DELTA\n",
    "LOCATION 's3://mvp-brasileirao-2024/bronze/catalogo_de_dados/brasil_seriea_2024_estatistica_jogador/';"
   ]
  },
  {
   "cell_type": "markdown",
   "metadata": {
    "application/vnd.databricks.v1+cell": {
     "cellMetadata": {
      "byteLimit": 2048000,
      "rowLimit": 10000
     },
     "inputWidgets": {},
     "nuid": "96aee06b-8287-4ee6-9e5b-211441faab8f",
     "showTitle": false,
     "tableResultSettingsMap": {},
     "title": ""
    }
   },
   "source": [
    "### 🔹 Validar o Registro no Metastore\n",
    "\n",
    "Agora, vamos verificar se a tabela foi registrada corretamente.\n",
    "\n"
   ]
  },
  {
   "cell_type": "code",
   "execution_count": 0,
   "metadata": {
    "application/vnd.databricks.v1+cell": {
     "cellMetadata": {
      "byteLimit": 2048000,
      "implicitDf": true,
      "rowLimit": 10000
     },
     "inputWidgets": {},
     "nuid": "d555f0df-53a9-42f7-a8bc-6a9d0245b1c9",
     "showTitle": false,
     "tableResultSettingsMap": {},
     "title": ""
    }
   },
   "outputs": [
    {
     "output_type": "display_data",
     "data": {
      "text/html": [
       "<style scoped>\n",
       "  .table-result-container {\n",
       "    max-height: 300px;\n",
       "    overflow: auto;\n",
       "  }\n",
       "  table, th, td {\n",
       "    border: 1px solid black;\n",
       "    border-collapse: collapse;\n",
       "  }\n",
       "  th, td {\n",
       "    padding: 5px;\n",
       "  }\n",
       "  th {\n",
       "    text-align: left;\n",
       "  }\n",
       "</style><div class='table-result-container'><table class='table-result'><thead style='background-color: white'><tr><th>database</th><th>tableName</th><th>isTemporary</th></tr></thead><tbody><tr><td>default</td><td>brasil_seriea_2024_classificacao</td><td>false</td></tr><tr><td>default</td><td>brasil_seriea_2024_estatistica_jogador</td><td>false</td></tr><tr><td>default</td><td>brasil_seriea_2024_todas_partidas</td><td>false</td></tr></tbody></table></div>"
      ]
     },
     "metadata": {
      "application/vnd.databricks.v1+output": {
       "addedWidgets": {},
       "aggData": [],
       "aggError": "",
       "aggOverflow": false,
       "aggSchema": [],
       "aggSeriesLimitReached": false,
       "aggType": "",
       "arguments": {},
       "columnCustomDisplayInfos": {},
       "data": [
        [
         "default",
         "brasil_seriea_2024_classificacao",
         false
        ],
        [
         "default",
         "brasil_seriea_2024_estatistica_jogador",
         false
        ],
        [
         "default",
         "brasil_seriea_2024_todas_partidas",
         false
        ]
       ],
       "datasetInfos": [],
       "dbfsResultPath": null,
       "isJsonSchema": true,
       "metadata": {},
       "overflow": false,
       "plotOptions": {
        "customPlotOptions": {},
        "displayType": "table",
        "pivotAggregation": null,
        "pivotColumns": null,
        "xColumns": null,
        "yColumns": null
       },
       "removedWidgets": [],
       "schema": [
        {
         "metadata": "{}",
         "name": "database",
         "type": "\"string\""
        },
        {
         "metadata": "{}",
         "name": "tableName",
         "type": "\"string\""
        },
        {
         "metadata": "{}",
         "name": "isTemporary",
         "type": "\"boolean\""
        }
       ],
       "type": "table"
      }
     },
     "output_type": "display_data"
    }
   ],
   "source": [
    "%sql\n",
    "SHOW TABLES IN default;"
   ]
  },
  {
   "cell_type": "markdown",
   "metadata": {
    "application/vnd.databricks.v1+cell": {
     "cellMetadata": {
      "byteLimit": 2048000,
      "rowLimit": 10000
     },
     "inputWidgets": {},
     "nuid": "5f00e134-7ccb-49c1-83a4-2340e8bc3e25",
     "showTitle": false,
     "tableResultSettingsMap": {},
     "title": ""
    }
   },
   "source": [
    "# 📌 Adicionando o outro Catálogo - Catalogo Estatistico\n"
   ]
  },
  {
   "cell_type": "markdown",
   "metadata": {
    "application/vnd.databricks.v1+cell": {
     "cellMetadata": {
      "byteLimit": 2048000,
      "rowLimit": 10000
     },
     "inputWidgets": {},
     "nuid": "fb78f82a-971e-4f21-8ab6-3927b6b4d6f4",
     "showTitle": false,
     "tableResultSettingsMap": {},
     "title": ""
    }
   },
   "source": [
    "## 🔷 BrasilSerieA_2024_ClassificacaoFinal.csv"
   ]
  },
  {
   "cell_type": "code",
   "execution_count": 0,
   "metadata": {
    "application/vnd.databricks.v1+cell": {
     "cellMetadata": {
      "byteLimit": 2048000,
      "rowLimit": 10000
     },
     "inputWidgets": {},
     "nuid": "1b8a6de6-139d-4832-bf30-489f1c4eb633",
     "showTitle": true,
     "tableResultSettingsMap": {},
     "title": "🔹 Criando o Metadata do dataframe"
    }
   },
   "outputs": [],
   "source": [
    "from pyspark.sql import Row\n",
    "from pyspark.sql.functions import col, count, countDistinct, min, max, sum\n",
    "\n",
    "# Nome da tabela que queremos analisar (mudar para cada dataset da classificacao)\n",
    "tabela_classificacao = \"catalogo_de_dados.brasil_seriea_2024_classificacao\"\n",
    "\n",
    "# Ler os dados da classificacao diretamente do Metastore\n",
    "df = spark.read.table(tabela_classificacao)\n",
    "\n",
    "# Criar DataFrame com estatísticas (incluindo contagem de nulos correta)\n",
    "metadata_df = df.agg(\n",
    "    *[count(col(c)).alias(f\"{c}_count\") for c in df.columns],  # Contagem total de registros NÃO NULOS\n",
    "    *[countDistinct(col(c)).alias(f\"{c}_distinct\") for c in df.columns],  # Distintos\n",
    "    *[min(col(c)).alias(f\"{c}_min\") for c in df.columns],  # Valor mínimo\n",
    "    *[max(col(c)).alias(f\"{c}_max\") for c in df.columns],  # Valor máximo\n",
    "    *[sum(col(c).isNull().cast(\"int\")).alias(f\"{c}_nulls\") for c in df.columns]  # Contagem correta de nulos\n",
    ")"
   ]
  },
  {
   "cell_type": "code",
   "execution_count": 0,
   "metadata": {
    "application/vnd.databricks.v1+cell": {
     "cellMetadata": {
      "byteLimit": 2048000,
      "rowLimit": 10000
     },
     "inputWidgets": {},
     "nuid": "78aef967-99f1-4bdc-8c82-bd427ba1f1c1",
     "showTitle": true,
     "tableResultSettingsMap": {},
     "title": "🔹 Criação do Dicionário de descrições"
    }
   },
   "outputs": [],
   "source": [
    "col_descriptions = {\n",
    "    \"Posi��o\": \"Posição do clube na tabela de classificação\",\n",
    "    \"Clube\": \"Nome do clube participante do campeonato\",\n",
    "    \"Pts\": \"Pontos acumulados pelo clube na competição\",\n",
    "    \"PJ\": \"Número de partidas jogadas pelo clube\",\n",
    "    \"VIT\": \"Quantidade de vitórias conquistadas pelo clube\",\n",
    "    \"E\": \"Quantidade de empates do clube\",\n",
    "    \"DER\": \"Quantidade de derrotas do clube\",\n",
    "    \"GM\": \"Gols marcados pelo clube ao longo da competição\",\n",
    "    \"GC\": \"Gols sofridos pelo clube ao longo da competição\",\n",
    "    \"SG\": \"Saldo de gols do clube (Gols Marcados - Gols Sofridos)\",\n",
    "}\n"
   ]
  },
  {
   "cell_type": "code",
   "execution_count": 0,
   "metadata": {
    "application/vnd.databricks.v1+cell": {
     "cellMetadata": {
      "byteLimit": 2048000,
      "rowLimit": 10000
     },
     "inputWidgets": {},
     "nuid": "9748cebe-c809-4c59-bd58-5c3d6f2f1ea4",
     "showTitle": true,
     "tableResultSettingsMap": {},
     "title": "🔹 Criando o Dataframe do Catálogo"
    }
   },
   "outputs": [],
   "source": [
    "# Criar lista de metadados para o Catálogo de Dados\n",
    "catalog_data = []\n",
    "\n",
    "# Iterar sobre as colunas da tabela Silver\n",
    "for index, col_name in enumerate(df.columns, start=1):\n",
    "    col_type = df.select(col(col_name)).schema.fields[0].dataType.simpleString()  # Tipo da coluna\n",
    "    col_count = metadata_df.collect()[0][f\"{col_name}_count\"]  # Contagem total (não nulos)\n",
    "    col_distinct = metadata_df.collect()[0][f\"{col_name}_distinct\"]  # Valores distintos\n",
    "    col_nulls = metadata_df.collect()[0][f\"{col_name}_nulls\"]  # ✅ Contagem correta de valores nulos\n",
    "    col_min = metadata_df.collect()[0][f\"{col_name}_min\"] if f\"{col_name}_min\" in metadata_df.columns else \"N/A\"\n",
    "    col_max = metadata_df.collect()[0][f\"{col_name}_max\"] if f\"{col_name}_max\" in metadata_df.columns else \"N/A\"\n",
    "\n",
    "    # Buscar definição detalhada ou usar descrição genérica\n",
    "    col_definition = col_descriptions.get(col_name, f\"Descrição da coluna {col_name}\")\n",
    "\n",
    "    # Adicionar à lista\n",
    "    catalog_data.append(Row(ID_Coluna=index,\n",
    "                            Coluna=col_name, \n",
    "                            Tipo_de_Dado=col_type, \n",
    "                            Definição=col_definition,\n",
    "                            Valores_Min_Max=f\"{col_min} | {col_max}\", \n",
    "                            Qtd_Valores_Registrados = col_count,\n",
    "                            Qtd_Valores_Nulos=col_nulls,\n",
    "                            Qtd_Valores_Distintos=col_distinct,\n",
    "                            Fonte=\"Tabela criada manualmente com base na classificação do Campeonato Brasileiro 2024 disponível no site da CNN Brasil\",\n",
    "                            Link_Fonte=\"https://www.cnnbrasil.com.br/esportes/futebol/tabela-do-brasileirao/\",\n",
    "                            Arquivo_Original= \"classificacao_brasileirao_2024.csv\",\n",
    "                            Arquivo_S3 = \"BrasilSerieA_2024_ClassificacaoFinal.csv\"                                   \n",
    "                            ))\n",
    "\n",
    "# Criar o DataFrame do Catálogo de Dados\n",
    "catalog_df = spark.createDataFrame(catalog_data)"
   ]
  },
  {
   "cell_type": "code",
   "execution_count": 0,
   "metadata": {
    "application/vnd.databricks.v1+cell": {
     "cellMetadata": {
      "byteLimit": 2048000,
      "rowLimit": 10000
     },
     "inputWidgets": {},
     "nuid": "4b5d84d3-0724-44b6-b60c-407bcaa2874b",
     "showTitle": true,
     "tableResultSettingsMap": {},
     "title": "🔹 Salvando o Catálogo no S3 camada Bronze"
    }
   },
   "outputs": [
    {
     "output_type": "stream",
     "name": "stdout",
     "output_type": "stream",
     "text": [
      "🚨 Arquivos antigos do Delta removidos com sucesso!\n✅ Catálogo Estatístico salvo no formato Delta com sucesso!\n"
     ]
    }
   ],
   "source": [
    "# Caminho no S3 para salvar o Catálogo Estatístico\n",
    "delta_catalogo_estatistico_path = \"s3://mvp-brasileirao-2024/bronze/catalogo_de_dados/catalog_classificacao\"\n",
    "\n",
    "dbutils.fs.rm(delta_catalogo_estatistico_path, recurse=True)\n",
    "print(\"🚨 Arquivos antigos do Delta removidos com sucesso!\")\n",
    "\n",
    "# Salvar a tabela Delta com as estatísticas\n",
    "catalog_df.write.format(\"delta\").mode(\"overwrite\").save(delta_catalogo_estatistico_path)\n",
    "\n",
    "print(\"✅ Catálogo Estatístico salvo no formato Delta com sucesso!\")"
   ]
  },
  {
   "cell_type": "code",
   "execution_count": 0,
   "metadata": {
    "application/vnd.databricks.v1+cell": {
     "cellMetadata": {
      "byteLimit": 2048000,
      "implicitDf": true,
      "rowLimit": 10000
     },
     "inputWidgets": {},
     "nuid": "a68971f7-6fc5-474d-9d7e-0b0703485ed3",
     "showTitle": true,
     "tableResultSettingsMap": {},
     "title": "🔹 Criando Tabela de Catálogos no Hive"
    }
   },
   "outputs": [
    {
     "output_type": "display_data",
     "data": {
      "text/html": [
       "<style scoped>\n",
       "  .table-result-container {\n",
       "    max-height: 300px;\n",
       "    overflow: auto;\n",
       "  }\n",
       "  table, th, td {\n",
       "    border: 1px solid black;\n",
       "    border-collapse: collapse;\n",
       "  }\n",
       "  th, td {\n",
       "    padding: 5px;\n",
       "  }\n",
       "  th {\n",
       "    text-align: left;\n",
       "  }\n",
       "</style><div class='table-result-container'><table class='table-result'><thead style='background-color: white'><tr></tr></thead><tbody></tbody></table></div>"
      ]
     },
     "metadata": {
      "application/vnd.databricks.v1+output": {
       "addedWidgets": {},
       "aggData": [],
       "aggError": "",
       "aggOverflow": false,
       "aggSchema": [],
       "aggSeriesLimitReached": false,
       "aggType": "",
       "arguments": {},
       "columnCustomDisplayInfos": {},
       "data": [],
       "datasetInfos": [],
       "dbfsResultPath": null,
       "isJsonSchema": true,
       "metadata": {},
       "overflow": false,
       "plotOptions": {
        "customPlotOptions": {},
        "displayType": "table",
        "pivotAggregation": null,
        "pivotColumns": null,
        "xColumns": null,
        "yColumns": null
       },
       "removedWidgets": [],
       "schema": [],
       "type": "table"
      }
     },
     "output_type": "display_data"
    }
   ],
   "source": [
    "%sql\n",
    "DROP TABLE IF EXISTS catalogo_de_dados.catalog_classificacao;\n",
    "\n",
    "CREATE TABLE catalogo_de_dados.catalog_classificacao\n",
    "USING DELTA\n",
    "LOCATION 's3://mvp-brasileirao-2024/bronze/catalogo_de_dados/catalog_classificacao';"
   ]
  },
  {
   "cell_type": "code",
   "execution_count": 0,
   "metadata": {
    "application/vnd.databricks.v1+cell": {
     "cellMetadata": {
      "byteLimit": 2048000,
      "implicitDf": true,
      "rowLimit": 10000
     },
     "inputWidgets": {},
     "nuid": "c489d9ab-6abc-47f7-8546-90fba0219499",
     "showTitle": true,
     "tableResultSettingsMap": {},
     "title": "🔹 Exibindo o Catálogo de Dados via SQL"
    }
   },
   "outputs": [
    {
     "output_type": "display_data",
     "data": {
      "text/html": [
       "<style scoped>\n",
       "  .table-result-container {\n",
       "    max-height: 300px;\n",
       "    overflow: auto;\n",
       "  }\n",
       "  table, th, td {\n",
       "    border: 1px solid black;\n",
       "    border-collapse: collapse;\n",
       "  }\n",
       "  th, td {\n",
       "    padding: 5px;\n",
       "  }\n",
       "  th {\n",
       "    text-align: left;\n",
       "  }\n",
       "</style><div class='table-result-container'><table class='table-result'><thead style='background-color: white'><tr><th>ID_Coluna</th><th>Coluna</th><th>Tipo_de_Dado</th><th>Definição</th><th>Valores_Min_Max</th><th>Qtd_Valores_Registrados</th><th>Qtd_Valores_Nulos</th><th>Qtd_Valores_Distintos</th><th>Fonte</th><th>Link_Fonte</th><th>Arquivo_Original</th><th>Arquivo_S3</th></tr></thead><tbody><tr><td>9</td><td>GC</td><td>int</td><td>Gols sofridos pelo clube ao longo da competição</td><td>29 | 61</td><td>20</td><td>0</td><td>18</td><td>Tabela criada manualmente com base na classificação do Campeonato Brasileiro 2024 disponível no site da CNN Brasil</td><td>https://www.cnnbrasil.com.br/esportes/futebol/tabela-do-brasileirao/</td><td>classificacao_brasileirao_2024.csv</td><td>BrasilSerieA_2024_ClassificacaoFinal.csv</td></tr><tr><td>10</td><td>SG</td><td>int</td><td>Saldo de gols do clube (Gols Marcados - Gols Sofridos)</td><td>-29 | 30</td><td>20</td><td>0</td><td>17</td><td>Tabela criada manualmente com base na classificação do Campeonato Brasileiro 2024 disponível no site da CNN Brasil</td><td>https://www.cnnbrasil.com.br/esportes/futebol/tabela-do-brasileirao/</td><td>classificacao_brasileirao_2024.csv</td><td>BrasilSerieA_2024_ClassificacaoFinal.csv</td></tr><tr><td>4</td><td>PJ</td><td>int</td><td>Número de partidas jogadas pelo clube</td><td>38 | 38</td><td>20</td><td>0</td><td>1</td><td>Tabela criada manualmente com base na classificação do Campeonato Brasileiro 2024 disponível no site da CNN Brasil</td><td>https://www.cnnbrasil.com.br/esportes/futebol/tabela-do-brasileirao/</td><td>classificacao_brasileirao_2024.csv</td><td>BrasilSerieA_2024_ClassificacaoFinal.csv</td></tr><tr><td>5</td><td>VIT</td><td>int</td><td>Quantidade de vitórias conquistadas pelo clube</td><td>6 | 23</td><td>20</td><td>0</td><td>15</td><td>Tabela criada manualmente com base na classificação do Campeonato Brasileiro 2024 disponível no site da CNN Brasil</td><td>https://www.cnnbrasil.com.br/esportes/futebol/tabela-do-brasileirao/</td><td>classificacao_brasileirao_2024.csv</td><td>BrasilSerieA_2024_ClassificacaoFinal.csv</td></tr><tr><td>2</td><td>Clube</td><td>string</td><td>Nome do clube participante do campeonato</td><td>Athletico-PR | Vasco da Gama</td><td>20</td><td>0</td><td>20</td><td>Tabela criada manualmente com base na classificação do Campeonato Brasileiro 2024 disponível no site da CNN Brasil</td><td>https://www.cnnbrasil.com.br/esportes/futebol/tabela-do-brasileirao/</td><td>classificacao_brasileirao_2024.csv</td><td>BrasilSerieA_2024_ClassificacaoFinal.csv</td></tr><tr><td>1</td><td>Posi��o</td><td>int</td><td>Posição do clube na tabela de classificação</td><td>1 | 20</td><td>20</td><td>0</td><td>20</td><td>Tabela criada manualmente com base na classificação do Campeonato Brasileiro 2024 disponível no site da CNN Brasil</td><td>https://www.cnnbrasil.com.br/esportes/futebol/tabela-do-brasileirao/</td><td>classificacao_brasileirao_2024.csv</td><td>BrasilSerieA_2024_ClassificacaoFinal.csv</td></tr><tr><td>8</td><td>GM</td><td>int</td><td>Gols marcados pelo clube ao longo da competição</td><td>29 | 61</td><td>20</td><td>0</td><td>15</td><td>Tabela criada manualmente com base na classificação do Campeonato Brasileiro 2024 disponível no site da CNN Brasil</td><td>https://www.cnnbrasil.com.br/esportes/futebol/tabela-do-brasileirao/</td><td>classificacao_brasileirao_2024.csv</td><td>BrasilSerieA_2024_ClassificacaoFinal.csv</td></tr><tr><td>3</td><td>Pts</td><td>int</td><td>Pontos acumulados pelo clube na competição</td><td>30 | 79</td><td>20</td><td>0</td><td>17</td><td>Tabela criada manualmente com base na classificação do Campeonato Brasileiro 2024 disponível no site da CNN Brasil</td><td>https://www.cnnbrasil.com.br/esportes/futebol/tabela-do-brasileirao/</td><td>classificacao_brasileirao_2024.csv</td><td>BrasilSerieA_2024_ClassificacaoFinal.csv</td></tr><tr><td>7</td><td>DER</td><td>int</td><td>Quantidade de derrotas do clube</td><td>5 | 22</td><td>20</td><td>0</td><td>12</td><td>Tabela criada manualmente com base na classificação do Campeonato Brasileiro 2024 disponível no site da CNN Brasil</td><td>https://www.cnnbrasil.com.br/esportes/futebol/tabela-do-brasileirao/</td><td>classificacao_brasileirao_2024.csv</td><td>BrasilSerieA_2024_ClassificacaoFinal.csv</td></tr><tr><td>6</td><td>E</td><td>int</td><td>Quantidade de empates do clube</td><td>7 | 14</td><td>20</td><td>0</td><td>7</td><td>Tabela criada manualmente com base na classificação do Campeonato Brasileiro 2024 disponível no site da CNN Brasil</td><td>https://www.cnnbrasil.com.br/esportes/futebol/tabela-do-brasileirao/</td><td>classificacao_brasileirao_2024.csv</td><td>BrasilSerieA_2024_ClassificacaoFinal.csv</td></tr></tbody></table></div>"
      ]
     },
     "metadata": {
      "application/vnd.databricks.v1+output": {
       "addedWidgets": {},
       "aggData": [],
       "aggError": "",
       "aggOverflow": false,
       "aggSchema": [],
       "aggSeriesLimitReached": false,
       "aggType": "",
       "arguments": {},
       "columnCustomDisplayInfos": {},
       "data": [
        [
         9,
         "GC",
         "int",
         "Gols sofridos pelo clube ao longo da competição",
         "29 | 61",
         20,
         0,
         18,
         "Tabela criada manualmente com base na classificação do Campeonato Brasileiro 2024 disponível no site da CNN Brasil",
         "https://www.cnnbrasil.com.br/esportes/futebol/tabela-do-brasileirao/",
         "classificacao_brasileirao_2024.csv",
         "BrasilSerieA_2024_ClassificacaoFinal.csv"
        ],
        [
         10,
         "SG",
         "int",
         "Saldo de gols do clube (Gols Marcados - Gols Sofridos)",
         "-29 | 30",
         20,
         0,
         17,
         "Tabela criada manualmente com base na classificação do Campeonato Brasileiro 2024 disponível no site da CNN Brasil",
         "https://www.cnnbrasil.com.br/esportes/futebol/tabela-do-brasileirao/",
         "classificacao_brasileirao_2024.csv",
         "BrasilSerieA_2024_ClassificacaoFinal.csv"
        ],
        [
         4,
         "PJ",
         "int",
         "Número de partidas jogadas pelo clube",
         "38 | 38",
         20,
         0,
         1,
         "Tabela criada manualmente com base na classificação do Campeonato Brasileiro 2024 disponível no site da CNN Brasil",
         "https://www.cnnbrasil.com.br/esportes/futebol/tabela-do-brasileirao/",
         "classificacao_brasileirao_2024.csv",
         "BrasilSerieA_2024_ClassificacaoFinal.csv"
        ],
        [
         5,
         "VIT",
         "int",
         "Quantidade de vitórias conquistadas pelo clube",
         "6 | 23",
         20,
         0,
         15,
         "Tabela criada manualmente com base na classificação do Campeonato Brasileiro 2024 disponível no site da CNN Brasil",
         "https://www.cnnbrasil.com.br/esportes/futebol/tabela-do-brasileirao/",
         "classificacao_brasileirao_2024.csv",
         "BrasilSerieA_2024_ClassificacaoFinal.csv"
        ],
        [
         2,
         "Clube",
         "string",
         "Nome do clube participante do campeonato",
         "Athletico-PR | Vasco da Gama",
         20,
         0,
         20,
         "Tabela criada manualmente com base na classificação do Campeonato Brasileiro 2024 disponível no site da CNN Brasil",
         "https://www.cnnbrasil.com.br/esportes/futebol/tabela-do-brasileirao/",
         "classificacao_brasileirao_2024.csv",
         "BrasilSerieA_2024_ClassificacaoFinal.csv"
        ],
        [
         1,
         "Posi��o",
         "int",
         "Posição do clube na tabela de classificação",
         "1 | 20",
         20,
         0,
         20,
         "Tabela criada manualmente com base na classificação do Campeonato Brasileiro 2024 disponível no site da CNN Brasil",
         "https://www.cnnbrasil.com.br/esportes/futebol/tabela-do-brasileirao/",
         "classificacao_brasileirao_2024.csv",
         "BrasilSerieA_2024_ClassificacaoFinal.csv"
        ],
        [
         8,
         "GM",
         "int",
         "Gols marcados pelo clube ao longo da competição",
         "29 | 61",
         20,
         0,
         15,
         "Tabela criada manualmente com base na classificação do Campeonato Brasileiro 2024 disponível no site da CNN Brasil",
         "https://www.cnnbrasil.com.br/esportes/futebol/tabela-do-brasileirao/",
         "classificacao_brasileirao_2024.csv",
         "BrasilSerieA_2024_ClassificacaoFinal.csv"
        ],
        [
         3,
         "Pts",
         "int",
         "Pontos acumulados pelo clube na competição",
         "30 | 79",
         20,
         0,
         17,
         "Tabela criada manualmente com base na classificação do Campeonato Brasileiro 2024 disponível no site da CNN Brasil",
         "https://www.cnnbrasil.com.br/esportes/futebol/tabela-do-brasileirao/",
         "classificacao_brasileirao_2024.csv",
         "BrasilSerieA_2024_ClassificacaoFinal.csv"
        ],
        [
         7,
         "DER",
         "int",
         "Quantidade de derrotas do clube",
         "5 | 22",
         20,
         0,
         12,
         "Tabela criada manualmente com base na classificação do Campeonato Brasileiro 2024 disponível no site da CNN Brasil",
         "https://www.cnnbrasil.com.br/esportes/futebol/tabela-do-brasileirao/",
         "classificacao_brasileirao_2024.csv",
         "BrasilSerieA_2024_ClassificacaoFinal.csv"
        ],
        [
         6,
         "E",
         "int",
         "Quantidade de empates do clube",
         "7 | 14",
         20,
         0,
         7,
         "Tabela criada manualmente com base na classificação do Campeonato Brasileiro 2024 disponível no site da CNN Brasil",
         "https://www.cnnbrasil.com.br/esportes/futebol/tabela-do-brasileirao/",
         "classificacao_brasileirao_2024.csv",
         "BrasilSerieA_2024_ClassificacaoFinal.csv"
        ]
       ],
       "datasetInfos": [],
       "dbfsResultPath": null,
       "isJsonSchema": true,
       "metadata": {},
       "overflow": false,
       "plotOptions": {
        "customPlotOptions": {},
        "displayType": "table",
        "pivotAggregation": null,
        "pivotColumns": null,
        "xColumns": null,
        "yColumns": null
       },
       "removedWidgets": [],
       "schema": [
        {
         "metadata": "{}",
         "name": "ID_Coluna",
         "type": "\"long\""
        },
        {
         "metadata": "{}",
         "name": "Coluna",
         "type": "\"string\""
        },
        {
         "metadata": "{}",
         "name": "Tipo_de_Dado",
         "type": "\"string\""
        },
        {
         "metadata": "{}",
         "name": "Definição",
         "type": "\"string\""
        },
        {
         "metadata": "{}",
         "name": "Valores_Min_Max",
         "type": "\"string\""
        },
        {
         "metadata": "{}",
         "name": "Qtd_Valores_Registrados",
         "type": "\"long\""
        },
        {
         "metadata": "{}",
         "name": "Qtd_Valores_Nulos",
         "type": "\"long\""
        },
        {
         "metadata": "{}",
         "name": "Qtd_Valores_Distintos",
         "type": "\"long\""
        },
        {
         "metadata": "{}",
         "name": "Fonte",
         "type": "\"string\""
        },
        {
         "metadata": "{}",
         "name": "Link_Fonte",
         "type": "\"string\""
        },
        {
         "metadata": "{}",
         "name": "Arquivo_Original",
         "type": "\"string\""
        },
        {
         "metadata": "{}",
         "name": "Arquivo_S3",
         "type": "\"string\""
        }
       ],
       "type": "table"
      }
     },
     "output_type": "display_data"
    }
   ],
   "source": [
    "%sql\n",
    "select * from catalogo_de_dados.catalog_classificacao"
   ]
  },
  {
   "cell_type": "markdown",
   "metadata": {
    "application/vnd.databricks.v1+cell": {
     "cellMetadata": {
      "byteLimit": 2048000,
      "rowLimit": 10000
     },
     "inputWidgets": {},
     "nuid": "3c2ebbb5-6488-49a9-a062-a8a19cee7a83",
     "showTitle": false,
     "tableResultSettingsMap": {},
     "title": ""
    }
   },
   "source": [
    "## 🔷 BrasilSerieA_2024_TodasPartidas.csv"
   ]
  },
  {
   "cell_type": "code",
   "execution_count": 0,
   "metadata": {
    "application/vnd.databricks.v1+cell": {
     "cellMetadata": {
      "byteLimit": 2048000,
      "rowLimit": 10000
     },
     "inputWidgets": {},
     "nuid": "dd79abaa-185c-4df3-9579-02fcab5675d5",
     "showTitle": true,
     "tableResultSettingsMap": {},
     "title": "🔹 Criando o Metadata do dataframe"
    }
   },
   "outputs": [],
   "source": [
    "from pyspark.sql import Row\n",
    "from pyspark.sql.functions import col, count, countDistinct, min, max, sum\n",
    "\n",
    "# Nome da tabela que queremos analisar (mudar para cada dataset da Silver)\n",
    "tabela_todas_partidas = \"catalogo_de_dados.brasil_seriea_2024_todas_partidas\"\n",
    "\n",
    "# Ler os dados da Silver diretamente do Metastore\n",
    "df = spark.read.table(tabela_todas_partidas)\n",
    "\n",
    "# Criar DataFrame com estatísticas (incluindo contagem de nulos correta)\n",
    "metadata_df = df.agg(\n",
    "    *[count(col(c)).alias(f\"{c}_count\") for c in df.columns],  # Contagem total de registros NÃO NULOS\n",
    "    *[countDistinct(col(c)).alias(f\"{c}_distinct\") for c in df.columns],  # Distintos\n",
    "    *[min(col(c)).alias(f\"{c}_min\") for c in df.columns],  # Valor mínimo\n",
    "    *[max(col(c)).alias(f\"{c}_max\") for c in df.columns],  # Valor máximo\n",
    "    *[sum(col(c).isNull().cast(\"int\")).alias(f\"{c}_nulls\") for c in df.columns]  # Contagem correta de nulos\n",
    ")"
   ]
  },
  {
   "cell_type": "code",
   "execution_count": 0,
   "metadata": {
    "application/vnd.databricks.v1+cell": {
     "cellMetadata": {
      "byteLimit": 2048000,
      "rowLimit": 10000
     },
     "inputWidgets": {},
     "nuid": "e012ff39-1883-447d-a293-cb534884f5ef",
     "showTitle": true,
     "tableResultSettingsMap": {},
     "title": "🔹 Criação do Dicionário de descrições"
    }
   },
   "outputs": [],
   "source": [
    "col_descriptions = {\n",
    "    \"Country\": \"País onde a partida foi realizada\",\n",
    "    \"League\": \"Nome da liga ou campeonato (ex: Serie A, Premier League)\",\n",
    "    \"Season\": \"Ano da temporada em que a partida ocorreu\",\n",
    "    \"Date\": \"Data da partida no formato YYYY-MM-DD\",\n",
    "    \"Time\": \"Horário da partida no formato timestamp\",\n",
    "    \"Home\": \"Equipe mandante da partida\",\n",
    "    \"Away\": \"Equipe visitante da partida\",\n",
    "    \"HG\": \"Quantidade de gols marcados pela equipe mandante\",\n",
    "    \"AG\": \"Quantidade de gols marcados pela equipe visitante\",\n",
    "    \"Res\": \"Resultado da partida (H = Vitória do mandante, A = Vitória do visitante, D = Empate)\",\n",
    "    \"PSCH\": \"Odds de vitória do time mandante fornecidas pela Pinnacle\",\n",
    "    \"PSCD\": \"Odds de empate da partida fornecidas pela Pinnacle\",\n",
    "    \"PSCA\": \"Odds de vitória do time visitante fornecidas pela Pinnacle\",\n",
    "    \"MaxCH\": \"Maior odd de vitória do time mandante disponível no mercado de apostas\",\n",
    "    \"MaxCD\": \"Maior odd de empate da partida disponível no mercado de apostas\",\n",
    "    \"MaxCA\": \"Maior odd de vitória do time visitante disponível no mercado de apostas\",\n",
    "    \"AvgCH\": \"Média das odds de vitória do time mandante disponíveis no mercado de apostas\",\n",
    "    \"AvgCD\": \"Média das odds de empate da partida disponíveis no mercado de apostas\",\n",
    "    \"AvgCA\": \"Média das odds de vitória do time visitante disponíveis no mercado de apostas\",\n",
    "    \"BFECH\": \"Odds para a vitória do time da casa (Betfair Exchange)\",\n",
    "    \"BFECD\": \"Odds para o empate (Betfair Exchange)\",\n",
    "    \"BFECA\": \"Odds para a vitória do time visitante (Betfair Exchange)\",\n",
    "}\n"
   ]
  },
  {
   "cell_type": "code",
   "execution_count": 0,
   "metadata": {
    "application/vnd.databricks.v1+cell": {
     "cellMetadata": {
      "byteLimit": 2048000,
      "rowLimit": 10000
     },
     "inputWidgets": {},
     "nuid": "2b2e2823-11dc-4d05-99a4-b0c9bccefb63",
     "showTitle": true,
     "tableResultSettingsMap": {},
     "title": "🔹 Criando o Dataframe do Catálogo"
    }
   },
   "outputs": [],
   "source": [
    "# Criar lista de metadados para o Catálogo de Dados\n",
    "catalog_data = []\n",
    "\n",
    "# Iterar sobre as colunas da tabela Silver\n",
    "for index, col_name in enumerate(df.columns, start=1):\n",
    "    col_type = df.select(col(col_name)).schema.fields[0].dataType.simpleString()  # Tipo da coluna\n",
    "    col_count = metadata_df.collect()[0][f\"{col_name}_count\"]  # Contagem total (não nulos)\n",
    "    col_distinct = metadata_df.collect()[0][f\"{col_name}_distinct\"]  # Valores distintos\n",
    "    col_nulls = metadata_df.collect()[0][f\"{col_name}_nulls\"]  # ✅ Contagem correta de valores nulos\n",
    "    col_min = metadata_df.collect()[0][f\"{col_name}_min\"] if f\"{col_name}_min\" in metadata_df.columns else \"N/A\"\n",
    "    col_max = metadata_df.collect()[0][f\"{col_name}_max\"] if f\"{col_name}_max\" in metadata_df.columns else \"N/A\"\n",
    "\n",
    "    # Buscar definição detalhada ou usar descrição genérica\n",
    "    col_definition = col_descriptions.get(col_name, f\"Descrição da coluna {col_name}\")\n",
    "\n",
    "    # Adicionar à lista\n",
    "    catalog_data.append(Row(ID_Coluna=index,\n",
    "                            Coluna=col_name, \n",
    "                            Tipo_de_Dado=col_type, \n",
    "                            Definição=col_definition,\n",
    "                            Valores_Min_Max=f\"{col_min} | {col_max}\", \n",
    "                            Qtd_Valores_Registrados = col_count,\n",
    "                            Qtd_Valores_Nulos=col_nulls,\n",
    "                            Qtd_Valores_Distintos=col_distinct,\n",
    "                            Fonte=\"Kaggle\",\n",
    "                            Link_Fonte=\"https://www.kaggle.com/datasets/gabrielmeireles/brazilian-football-championship\",\n",
    "                            Arquivo_Original= \"BRA.csv\",\n",
    "                            Arquivo_S3 = \"BrasilSerieA_2024_TodasPartidas.csv\"                            \n",
    "                            ))\n",
    "\n",
    "# Criar o DataFrame do Catálogo de Dados\n",
    "catalog_df = spark.createDataFrame(catalog_data)"
   ]
  },
  {
   "cell_type": "code",
   "execution_count": 0,
   "metadata": {
    "application/vnd.databricks.v1+cell": {
     "cellMetadata": {
      "byteLimit": 2048000,
      "rowLimit": 10000
     },
     "inputWidgets": {},
     "nuid": "88eabe03-1d82-4202-8c8e-4aa0ceff8b80",
     "showTitle": true,
     "tableResultSettingsMap": {},
     "title": "🔹 Salvando o Catálogo no S3 camada Bronze"
    }
   },
   "outputs": [
    {
     "output_type": "stream",
     "name": "stdout",
     "output_type": "stream",
     "text": [
      "🚨 Arquivos antigos do Delta removidos com sucesso!\n✅ Catálogo Estatístico salvo no formato Delta com sucesso!\n"
     ]
    }
   ],
   "source": [
    "# Caminho no S3 para salvar o Catálogo Estatístico\n",
    "delta_catalogo_estatistico_path = \"s3://mvp-brasileirao-2024/bronze/catalogo_de_dados/catalog_todas_partidas\"\n",
    "\n",
    "dbutils.fs.rm(delta_catalogo_estatistico_path, recurse=True)\n",
    "print(\"🚨 Arquivos antigos do Delta removidos com sucesso!\")\n",
    "\n",
    "# Salvar a tabela Delta com as estatísticas\n",
    "catalog_df.write.format(\"delta\").mode(\"overwrite\").save(delta_catalogo_estatistico_path)\n",
    "\n",
    "print(\"✅ Catálogo Estatístico salvo no formato Delta com sucesso!\")"
   ]
  },
  {
   "cell_type": "code",
   "execution_count": 0,
   "metadata": {
    "application/vnd.databricks.v1+cell": {
     "cellMetadata": {
      "byteLimit": 2048000,
      "implicitDf": true,
      "rowLimit": 10000
     },
     "inputWidgets": {},
     "nuid": "bdf4e736-2b11-4a1f-853e-e3c6208f3277",
     "showTitle": true,
     "tableResultSettingsMap": {},
     "title": "🔹 Criando Tabela de Catálogos no Hive"
    }
   },
   "outputs": [
    {
     "output_type": "display_data",
     "data": {
      "text/html": [
       "<style scoped>\n",
       "  .table-result-container {\n",
       "    max-height: 300px;\n",
       "    overflow: auto;\n",
       "  }\n",
       "  table, th, td {\n",
       "    border: 1px solid black;\n",
       "    border-collapse: collapse;\n",
       "  }\n",
       "  th, td {\n",
       "    padding: 5px;\n",
       "  }\n",
       "  th {\n",
       "    text-align: left;\n",
       "  }\n",
       "</style><div class='table-result-container'><table class='table-result'><thead style='background-color: white'><tr></tr></thead><tbody></tbody></table></div>"
      ]
     },
     "metadata": {
      "application/vnd.databricks.v1+output": {
       "addedWidgets": {},
       "aggData": [],
       "aggError": "",
       "aggOverflow": false,
       "aggSchema": [],
       "aggSeriesLimitReached": false,
       "aggType": "",
       "arguments": {},
       "columnCustomDisplayInfos": {},
       "data": [],
       "datasetInfos": [],
       "dbfsResultPath": null,
       "isJsonSchema": true,
       "metadata": {},
       "overflow": false,
       "plotOptions": {
        "customPlotOptions": {},
        "displayType": "table",
        "pivotAggregation": null,
        "pivotColumns": null,
        "xColumns": null,
        "yColumns": null
       },
       "removedWidgets": [],
       "schema": [],
       "type": "table"
      }
     },
     "output_type": "display_data"
    }
   ],
   "source": [
    "%sql\n",
    "DROP TABLE IF EXISTS catalogo_de_dados.catalog_todas_partidas;\n",
    "\n",
    "CREATE TABLE catalogo_de_dados.catalog_todas_partidas\n",
    "USING DELTA\n",
    "LOCATION 's3://mvp-brasileirao-2024/bronze/catalogo_de_dados/catalog_todas_partidas';"
   ]
  },
  {
   "cell_type": "code",
   "execution_count": 0,
   "metadata": {
    "application/vnd.databricks.v1+cell": {
     "cellMetadata": {
      "byteLimit": 2048000,
      "implicitDf": true,
      "rowLimit": 10000
     },
     "inputWidgets": {},
     "nuid": "8662220a-f3e0-42bb-9f46-5d32bcbc3ccf",
     "showTitle": true,
     "tableResultSettingsMap": {},
     "title": "🔹 Exibindo o Catálogo de Dados via SQL"
    }
   },
   "outputs": [
    {
     "output_type": "display_data",
     "data": {
      "text/html": [
       "<style scoped>\n",
       "  .table-result-container {\n",
       "    max-height: 300px;\n",
       "    overflow: auto;\n",
       "  }\n",
       "  table, th, td {\n",
       "    border: 1px solid black;\n",
       "    border-collapse: collapse;\n",
       "  }\n",
       "  th, td {\n",
       "    padding: 5px;\n",
       "  }\n",
       "  th {\n",
       "    text-align: left;\n",
       "  }\n",
       "</style><div class='table-result-container'><table class='table-result'><thead style='background-color: white'><tr><th>ID_Coluna</th><th>Coluna</th><th>Tipo_de_Dado</th><th>Definição</th><th>Valores_Min_Max</th><th>Qtd_Valores_Registrados</th><th>Qtd_Valores_Nulos</th><th>Qtd_Valores_Distintos</th><th>Fonte</th><th>Link_Fonte</th><th>Arquivo_Original</th><th>Arquivo_S3</th></tr></thead><tbody><tr><td>13</td><td>PSCA</td><td>double</td><td>Odds de vitória do time visitante fornecidas pela Pinnacle</td><td>1.15 | 29.58</td><td>4939</td><td>1</td><td>956</td><td>Kaggle</td><td>https://www.kaggle.com/datasets/gabrielmeireles/brazilian-football-championship</td><td>BRA.csv</td><td>BrasilSerieA_2024_TodasPartidas.csv</td></tr><tr><td>14</td><td>MaxCH</td><td>double</td><td>Maior odd de vitória do time mandante disponível no mercado de apostas</td><td>1.09 | 29.0</td><td>4940</td><td>0</td><td>406</td><td>Kaggle</td><td>https://www.kaggle.com/datasets/gabrielmeireles/brazilian-football-championship</td><td>BRA.csv</td><td>BrasilSerieA_2024_TodasPartidas.csv</td></tr><tr><td>15</td><td>MaxCD</td><td>double</td><td>Maior odd de empate da partida disponível no mercado de apostas</td><td>2.63 | 12.5</td><td>4940</td><td>0</td><td>303</td><td>Kaggle</td><td>https://www.kaggle.com/datasets/gabrielmeireles/brazilian-football-championship</td><td>BRA.csv</td><td>BrasilSerieA_2024_TodasPartidas.csv</td></tr><tr><td>16</td><td>MaxCA</td><td>double</td><td>Maior odd de vitória do time visitante disponível no mercado de apostas</td><td>0.0 | 36.0</td><td>4940</td><td>0</td><td>780</td><td>Kaggle</td><td>https://www.kaggle.com/datasets/gabrielmeireles/brazilian-football-championship</td><td>BRA.csv</td><td>BrasilSerieA_2024_TodasPartidas.csv</td></tr><tr><td>19</td><td>AvgCA</td><td>double</td><td>Média das odds de vitória do time visitante disponíveis no mercado de apostas</td><td>1.15 | 26.58</td><td>4940</td><td>0</td><td>870</td><td>Kaggle</td><td>https://www.kaggle.com/datasets/gabrielmeireles/brazilian-football-championship</td><td>BRA.csv</td><td>BrasilSerieA_2024_TodasPartidas.csv</td></tr><tr><td>20</td><td>BFECH</td><td>double</td><td>Odds para a vitória do time da casa (Betfair Exchange)</td><td>1.24 | 10.0</td><td>235</td><td>4705</td><td>124</td><td>Kaggle</td><td>https://www.kaggle.com/datasets/gabrielmeireles/brazilian-football-championship</td><td>BRA.csv</td><td>BrasilSerieA_2024_TodasPartidas.csv</td></tr><tr><td>21</td><td>BFECD</td><td>double</td><td>Odds para o empate (Betfair Exchange)</td><td>2.94 | 6.6</td><td>235</td><td>4705</td><td>42</td><td>Kaggle</td><td>https://www.kaggle.com/datasets/gabrielmeireles/brazilian-football-championship</td><td>BRA.csv</td><td>BrasilSerieA_2024_TodasPartidas.csv</td></tr><tr><td>22</td><td>BFECA</td><td>double</td><td>Odds para a vitória do time visitante (Betfair Exchange)</td><td>1.39 | 20.0</td><td>235</td><td>4705</td><td>97</td><td>Kaggle</td><td>https://www.kaggle.com/datasets/gabrielmeireles/brazilian-football-championship</td><td>BRA.csv</td><td>BrasilSerieA_2024_TodasPartidas.csv</td></tr><tr><td>5</td><td>Time</td><td>timestamp</td><td>Horário da partida no formato timestamp</td><td>2025-04-05 00:00:00 | 2025-04-05 23:50:00</td><td>4940</td><td>0</td><td>35</td><td>Kaggle</td><td>https://www.kaggle.com/datasets/gabrielmeireles/brazilian-football-championship</td><td>BRA.csv</td><td>BrasilSerieA_2024_TodasPartidas.csv</td></tr><tr><td>6</td><td>Home</td><td>string</td><td>Equipe mandante da partida</td><td>America MG | Vitoria</td><td>4940</td><td>0</td><td>36</td><td>Kaggle</td><td>https://www.kaggle.com/datasets/gabrielmeireles/brazilian-football-championship</td><td>BRA.csv</td><td>BrasilSerieA_2024_TodasPartidas.csv</td></tr><tr><td>7</td><td>Away</td><td>string</td><td>Equipe visitante da partida</td><td>America MG | Vitoria</td><td>4940</td><td>0</td><td>36</td><td>Kaggle</td><td>https://www.kaggle.com/datasets/gabrielmeireles/brazilian-football-championship</td><td>BRA.csv</td><td>BrasilSerieA_2024_TodasPartidas.csv</td></tr><tr><td>8</td><td>HG</td><td>int</td><td>Quantidade de gols marcados pela equipe mandante</td><td>0 | 7</td><td>4939</td><td>1</td><td>8</td><td>Kaggle</td><td>https://www.kaggle.com/datasets/gabrielmeireles/brazilian-football-championship</td><td>BRA.csv</td><td>BrasilSerieA_2024_TodasPartidas.csv</td></tr><tr><td>17</td><td>AvgCH</td><td>double</td><td>Média das odds de vitória do time mandante disponíveis no mercado de apostas</td><td>1.07 | 20.23</td><td>4940</td><td>0</td><td>412</td><td>Kaggle</td><td>https://www.kaggle.com/datasets/gabrielmeireles/brazilian-football-championship</td><td>BRA.csv</td><td>BrasilSerieA_2024_TodasPartidas.csv</td></tr><tr><td>18</td><td>AvgCD</td><td>double</td><td>Média das odds de empate da partida disponíveis no mercado de apostas</td><td>2.51 | 10.82</td><td>4940</td><td>0</td><td>314</td><td>Kaggle</td><td>https://www.kaggle.com/datasets/gabrielmeireles/brazilian-football-championship</td><td>BRA.csv</td><td>BrasilSerieA_2024_TodasPartidas.csv</td></tr><tr><td>1</td><td>Country</td><td>string</td><td>País onde a partida foi realizada</td><td>Brazil | Brazil</td><td>4940</td><td>0</td><td>1</td><td>Kaggle</td><td>https://www.kaggle.com/datasets/gabrielmeireles/brazilian-football-championship</td><td>BRA.csv</td><td>BrasilSerieA_2024_TodasPartidas.csv</td></tr><tr><td>2</td><td>League</td><td>string</td><td>Nome da liga ou campeonato (ex: Serie A, Premier League)</td><td>Serie A | Serie A</td><td>4940</td><td>0</td><td>1</td><td>Kaggle</td><td>https://www.kaggle.com/datasets/gabrielmeireles/brazilian-football-championship</td><td>BRA.csv</td><td>BrasilSerieA_2024_TodasPartidas.csv</td></tr><tr><td>11</td><td>PSCH</td><td>double</td><td>Odds de vitória do time mandante fornecidas pela Pinnacle</td><td>1.08 | 17.68</td><td>4939</td><td>1</td><td>438</td><td>Kaggle</td><td>https://www.kaggle.com/datasets/gabrielmeireles/brazilian-football-championship</td><td>BRA.csv</td><td>BrasilSerieA_2024_TodasPartidas.csv</td></tr><tr><td>12</td><td>PSCD</td><td>double</td><td>Odds de empate da partida fornecidas pela Pinnacle</td><td>2.54 | 12.25</td><td>4939</td><td>1</td><td>348</td><td>Kaggle</td><td>https://www.kaggle.com/datasets/gabrielmeireles/brazilian-football-championship</td><td>BRA.csv</td><td>BrasilSerieA_2024_TodasPartidas.csv</td></tr><tr><td>9</td><td>AG</td><td>int</td><td>Quantidade de gols marcados pela equipe visitante</td><td>0 | 6</td><td>4939</td><td>1</td><td>7</td><td>Kaggle</td><td>https://www.kaggle.com/datasets/gabrielmeireles/brazilian-football-championship</td><td>BRA.csv</td><td>BrasilSerieA_2024_TodasPartidas.csv</td></tr><tr><td>10</td><td>Res</td><td>string</td><td>Resultado da partida (H = Vitória do mandante, A = Vitória do visitante, D = Empate)</td><td>A | H</td><td>4939</td><td>1</td><td>3</td><td>Kaggle</td><td>https://www.kaggle.com/datasets/gabrielmeireles/brazilian-football-championship</td><td>BRA.csv</td><td>BrasilSerieA_2024_TodasPartidas.csv</td></tr><tr><td>3</td><td>Season</td><td>int</td><td>Ano da temporada em que a partida ocorreu</td><td>2012 | 2024</td><td>4940</td><td>0</td><td>13</td><td>Kaggle</td><td>https://www.kaggle.com/datasets/gabrielmeireles/brazilian-football-championship</td><td>BRA.csv</td><td>BrasilSerieA_2024_TodasPartidas.csv</td></tr><tr><td>4</td><td>Date</td><td>date</td><td>Data da partida no formato YYYY-MM-DD</td><td>2012-05-19 | 2024-12-08</td><td>4940</td><td>0</td><td>1410</td><td>Kaggle</td><td>https://www.kaggle.com/datasets/gabrielmeireles/brazilian-football-championship</td><td>BRA.csv</td><td>BrasilSerieA_2024_TodasPartidas.csv</td></tr></tbody></table></div>"
      ]
     },
     "metadata": {
      "application/vnd.databricks.v1+output": {
       "addedWidgets": {},
       "aggData": [],
       "aggError": "",
       "aggOverflow": false,
       "aggSchema": [],
       "aggSeriesLimitReached": false,
       "aggType": "",
       "arguments": {},
       "columnCustomDisplayInfos": {},
       "data": [
        [
         13,
         "PSCA",
         "double",
         "Odds de vitória do time visitante fornecidas pela Pinnacle",
         "1.15 | 29.58",
         4939,
         1,
         956,
         "Kaggle",
         "https://www.kaggle.com/datasets/gabrielmeireles/brazilian-football-championship",
         "BRA.csv",
         "BrasilSerieA_2024_TodasPartidas.csv"
        ],
        [
         14,
         "MaxCH",
         "double",
         "Maior odd de vitória do time mandante disponível no mercado de apostas",
         "1.09 | 29.0",
         4940,
         0,
         406,
         "Kaggle",
         "https://www.kaggle.com/datasets/gabrielmeireles/brazilian-football-championship",
         "BRA.csv",
         "BrasilSerieA_2024_TodasPartidas.csv"
        ],
        [
         15,
         "MaxCD",
         "double",
         "Maior odd de empate da partida disponível no mercado de apostas",
         "2.63 | 12.5",
         4940,
         0,
         303,
         "Kaggle",
         "https://www.kaggle.com/datasets/gabrielmeireles/brazilian-football-championship",
         "BRA.csv",
         "BrasilSerieA_2024_TodasPartidas.csv"
        ],
        [
         16,
         "MaxCA",
         "double",
         "Maior odd de vitória do time visitante disponível no mercado de apostas",
         "0.0 | 36.0",
         4940,
         0,
         780,
         "Kaggle",
         "https://www.kaggle.com/datasets/gabrielmeireles/brazilian-football-championship",
         "BRA.csv",
         "BrasilSerieA_2024_TodasPartidas.csv"
        ],
        [
         19,
         "AvgCA",
         "double",
         "Média das odds de vitória do time visitante disponíveis no mercado de apostas",
         "1.15 | 26.58",
         4940,
         0,
         870,
         "Kaggle",
         "https://www.kaggle.com/datasets/gabrielmeireles/brazilian-football-championship",
         "BRA.csv",
         "BrasilSerieA_2024_TodasPartidas.csv"
        ],
        [
         20,
         "BFECH",
         "double",
         "Odds para a vitória do time da casa (Betfair Exchange)",
         "1.24 | 10.0",
         235,
         4705,
         124,
         "Kaggle",
         "https://www.kaggle.com/datasets/gabrielmeireles/brazilian-football-championship",
         "BRA.csv",
         "BrasilSerieA_2024_TodasPartidas.csv"
        ],
        [
         21,
         "BFECD",
         "double",
         "Odds para o empate (Betfair Exchange)",
         "2.94 | 6.6",
         235,
         4705,
         42,
         "Kaggle",
         "https://www.kaggle.com/datasets/gabrielmeireles/brazilian-football-championship",
         "BRA.csv",
         "BrasilSerieA_2024_TodasPartidas.csv"
        ],
        [
         22,
         "BFECA",
         "double",
         "Odds para a vitória do time visitante (Betfair Exchange)",
         "1.39 | 20.0",
         235,
         4705,
         97,
         "Kaggle",
         "https://www.kaggle.com/datasets/gabrielmeireles/brazilian-football-championship",
         "BRA.csv",
         "BrasilSerieA_2024_TodasPartidas.csv"
        ],
        [
         5,
         "Time",
         "timestamp",
         "Horário da partida no formato timestamp",
         "2025-04-05 00:00:00 | 2025-04-05 23:50:00",
         4940,
         0,
         35,
         "Kaggle",
         "https://www.kaggle.com/datasets/gabrielmeireles/brazilian-football-championship",
         "BRA.csv",
         "BrasilSerieA_2024_TodasPartidas.csv"
        ],
        [
         6,
         "Home",
         "string",
         "Equipe mandante da partida",
         "America MG | Vitoria",
         4940,
         0,
         36,
         "Kaggle",
         "https://www.kaggle.com/datasets/gabrielmeireles/brazilian-football-championship",
         "BRA.csv",
         "BrasilSerieA_2024_TodasPartidas.csv"
        ],
        [
         7,
         "Away",
         "string",
         "Equipe visitante da partida",
         "America MG | Vitoria",
         4940,
         0,
         36,
         "Kaggle",
         "https://www.kaggle.com/datasets/gabrielmeireles/brazilian-football-championship",
         "BRA.csv",
         "BrasilSerieA_2024_TodasPartidas.csv"
        ],
        [
         8,
         "HG",
         "int",
         "Quantidade de gols marcados pela equipe mandante",
         "0 | 7",
         4939,
         1,
         8,
         "Kaggle",
         "https://www.kaggle.com/datasets/gabrielmeireles/brazilian-football-championship",
         "BRA.csv",
         "BrasilSerieA_2024_TodasPartidas.csv"
        ],
        [
         17,
         "AvgCH",
         "double",
         "Média das odds de vitória do time mandante disponíveis no mercado de apostas",
         "1.07 | 20.23",
         4940,
         0,
         412,
         "Kaggle",
         "https://www.kaggle.com/datasets/gabrielmeireles/brazilian-football-championship",
         "BRA.csv",
         "BrasilSerieA_2024_TodasPartidas.csv"
        ],
        [
         18,
         "AvgCD",
         "double",
         "Média das odds de empate da partida disponíveis no mercado de apostas",
         "2.51 | 10.82",
         4940,
         0,
         314,
         "Kaggle",
         "https://www.kaggle.com/datasets/gabrielmeireles/brazilian-football-championship",
         "BRA.csv",
         "BrasilSerieA_2024_TodasPartidas.csv"
        ],
        [
         1,
         "Country",
         "string",
         "País onde a partida foi realizada",
         "Brazil | Brazil",
         4940,
         0,
         1,
         "Kaggle",
         "https://www.kaggle.com/datasets/gabrielmeireles/brazilian-football-championship",
         "BRA.csv",
         "BrasilSerieA_2024_TodasPartidas.csv"
        ],
        [
         2,
         "League",
         "string",
         "Nome da liga ou campeonato (ex: Serie A, Premier League)",
         "Serie A | Serie A",
         4940,
         0,
         1,
         "Kaggle",
         "https://www.kaggle.com/datasets/gabrielmeireles/brazilian-football-championship",
         "BRA.csv",
         "BrasilSerieA_2024_TodasPartidas.csv"
        ],
        [
         11,
         "PSCH",
         "double",
         "Odds de vitória do time mandante fornecidas pela Pinnacle",
         "1.08 | 17.68",
         4939,
         1,
         438,
         "Kaggle",
         "https://www.kaggle.com/datasets/gabrielmeireles/brazilian-football-championship",
         "BRA.csv",
         "BrasilSerieA_2024_TodasPartidas.csv"
        ],
        [
         12,
         "PSCD",
         "double",
         "Odds de empate da partida fornecidas pela Pinnacle",
         "2.54 | 12.25",
         4939,
         1,
         348,
         "Kaggle",
         "https://www.kaggle.com/datasets/gabrielmeireles/brazilian-football-championship",
         "BRA.csv",
         "BrasilSerieA_2024_TodasPartidas.csv"
        ],
        [
         9,
         "AG",
         "int",
         "Quantidade de gols marcados pela equipe visitante",
         "0 | 6",
         4939,
         1,
         7,
         "Kaggle",
         "https://www.kaggle.com/datasets/gabrielmeireles/brazilian-football-championship",
         "BRA.csv",
         "BrasilSerieA_2024_TodasPartidas.csv"
        ],
        [
         10,
         "Res",
         "string",
         "Resultado da partida (H = Vitória do mandante, A = Vitória do visitante, D = Empate)",
         "A | H",
         4939,
         1,
         3,
         "Kaggle",
         "https://www.kaggle.com/datasets/gabrielmeireles/brazilian-football-championship",
         "BRA.csv",
         "BrasilSerieA_2024_TodasPartidas.csv"
        ],
        [
         3,
         "Season",
         "int",
         "Ano da temporada em que a partida ocorreu",
         "2012 | 2024",
         4940,
         0,
         13,
         "Kaggle",
         "https://www.kaggle.com/datasets/gabrielmeireles/brazilian-football-championship",
         "BRA.csv",
         "BrasilSerieA_2024_TodasPartidas.csv"
        ],
        [
         4,
         "Date",
         "date",
         "Data da partida no formato YYYY-MM-DD",
         "2012-05-19 | 2024-12-08",
         4940,
         0,
         1410,
         "Kaggle",
         "https://www.kaggle.com/datasets/gabrielmeireles/brazilian-football-championship",
         "BRA.csv",
         "BrasilSerieA_2024_TodasPartidas.csv"
        ]
       ],
       "datasetInfos": [],
       "dbfsResultPath": null,
       "isJsonSchema": true,
       "metadata": {},
       "overflow": false,
       "plotOptions": {
        "customPlotOptions": {},
        "displayType": "table",
        "pivotAggregation": null,
        "pivotColumns": null,
        "xColumns": null,
        "yColumns": null
       },
       "removedWidgets": [],
       "schema": [
        {
         "metadata": "{}",
         "name": "ID_Coluna",
         "type": "\"long\""
        },
        {
         "metadata": "{}",
         "name": "Coluna",
         "type": "\"string\""
        },
        {
         "metadata": "{}",
         "name": "Tipo_de_Dado",
         "type": "\"string\""
        },
        {
         "metadata": "{}",
         "name": "Definição",
         "type": "\"string\""
        },
        {
         "metadata": "{}",
         "name": "Valores_Min_Max",
         "type": "\"string\""
        },
        {
         "metadata": "{}",
         "name": "Qtd_Valores_Registrados",
         "type": "\"long\""
        },
        {
         "metadata": "{}",
         "name": "Qtd_Valores_Nulos",
         "type": "\"long\""
        },
        {
         "metadata": "{}",
         "name": "Qtd_Valores_Distintos",
         "type": "\"long\""
        },
        {
         "metadata": "{}",
         "name": "Fonte",
         "type": "\"string\""
        },
        {
         "metadata": "{}",
         "name": "Link_Fonte",
         "type": "\"string\""
        },
        {
         "metadata": "{}",
         "name": "Arquivo_Original",
         "type": "\"string\""
        },
        {
         "metadata": "{}",
         "name": "Arquivo_S3",
         "type": "\"string\""
        }
       ],
       "type": "table"
      }
     },
     "output_type": "display_data"
    }
   ],
   "source": [
    "%sql\n",
    "select * from catalogo_de_dados.catalog_todas_partidas"
   ]
  },
  {
   "cell_type": "markdown",
   "metadata": {
    "application/vnd.databricks.v1+cell": {
     "cellMetadata": {
      "byteLimit": 2048000,
      "rowLimit": 10000
     },
     "inputWidgets": {},
     "nuid": "fd5e2e88-d67b-497f-af99-78381432e0d7",
     "showTitle": false,
     "tableResultSettingsMap": {},
     "title": ""
    }
   },
   "source": [
    "## 🔷 BrasilSerieA_2024_EstatisticaJogadorPorPartida.csv"
   ]
  },
  {
   "cell_type": "code",
   "execution_count": 0,
   "metadata": {
    "application/vnd.databricks.v1+cell": {
     "cellMetadata": {
      "byteLimit": 2048000,
      "rowLimit": 10000
     },
     "inputWidgets": {},
     "nuid": "a391ee5d-8ab2-4103-ba31-8c8a07648e37",
     "showTitle": true,
     "tableResultSettingsMap": {},
     "title": "🔹 Criando o Metadata do dataframe"
    }
   },
   "outputs": [],
   "source": [
    "from pyspark.sql import Row\n",
    "from pyspark.sql.functions import col, count, countDistinct, min, max, sum\n",
    "\n",
    "# Nome da tabela que queremos analisar (mudar para cada dataset da Silver)\n",
    "tabela_estatistica_jogador = \"catalogo_de_dados.brasil_seriea_2024_estatistica_jogador\"\n",
    "\n",
    "# Ler os dados da Silver diretamente do Metastore\n",
    "df = spark.read.table(tabela_estatistica_jogador)\n",
    "\n",
    "# Criar DataFrame com estatísticas (incluindo contagem de nulos correta)\n",
    "metadata_df = df.agg(\n",
    "    *[count(col(c)).alias(f\"{c}_count\") for c in df.columns],  # Contagem total de registros NÃO NULOS\n",
    "    *[countDistinct(col(c)).alias(f\"{c}_distinct\") for c in df.columns],  # Distintos\n",
    "    *[min(col(c)).alias(f\"{c}_min\") for c in df.columns],  # Valor mínimo\n",
    "    *[max(col(c)).alias(f\"{c}_max\") for c in df.columns],  # Valor máximo\n",
    "    *[sum(col(c).isNull().cast(\"int\")).alias(f\"{c}_nulls\") for c in df.columns]  # Contagem correta de nulos\n",
    ")"
   ]
  },
  {
   "cell_type": "code",
   "execution_count": 0,
   "metadata": {
    "application/vnd.databricks.v1+cell": {
     "cellMetadata": {
      "byteLimit": 2048000,
      "rowLimit": 10000
     },
     "inputWidgets": {},
     "nuid": "11bde5f1-70d9-43b0-a0a1-d0b73b2a6a0b",
     "showTitle": true,
     "tableResultSettingsMap": {},
     "title": "🔹 Criação do Dicionário de descrições"
    }
   },
   "outputs": [],
   "source": [
    "col_descriptions = {\n",
    "    \"Jogador\": \"Nome do jogador que participou da partida\",\n",
    "    \"Time\": \"Nome do clube do jogador\",\n",
    "    \"#\": \"Número da camisa do jogador na partida\",\n",
    "    \"Na��o\": \"Nacionalidade do jogador\",\n",
    "    \"Pos\": \"Posição do jogador dentro de campo\",\n",
    "    \"Idade\": \"Idade do jogador na data da partida (anos e dias)\",\n",
    "    \"Min\": \"Minutos jogados pelo atleta na partida\",\n",
    "    \"Gols\": \"Número de gols marcados na partida pelo jogador\",\n",
    "    \"Assis\": \"Número de assistências realizadas pelo jogador\",\n",
    "    \"PB\": \"Pênaltis cobrados pelo jogador\",\n",
    "    \"PT\": \"Pênaltis tentados pelo jogador (considerando acertos e erros)\",\n",
    "    \"TC\": \"Total de chutes realizados (não inclui cobranças de pênalti)\",\n",
    "    \"CaG\": \"Chutes a gol (não inclui cobranças de pênalti)\",\n",
    "    \"CrtsA\": \"Quantidade de cartões amarelos recebidos\",\n",
    "    \"CrtV\": \"Quantidade de cartões vermelhos recebidos\",\n",
    "    \"Contatos\": \"Número total de vezes que o jogador tocou na bola (conta-se receber, driblar e passar como um toque)\",\n",
    "    \"Div\": \"Número de desarmes bem-sucedidos realizados pelo jogador\",\n",
    "    \"Crts\": \"Número de interceptações defensivas feitas pelo jogador\",\n",
    "    \"Bloqueios\": \"Número de bloqueios defensivos (interceptação de chutes, passes ou cruzamentos perigosos)\",\n",
    "    \"xG\": \"Gols esperados (Expected Goals) com base na posição e situação do chute\",\n",
    "    \"npxG\": \"Gols esperados (Expected Goals) excluindo pênaltis\",\n",
    "    \"xAG\": \"Assistências esperadas (Expected Assists) com base na jogada\",\n",
    "    \"SCA\": \"Ações que resultaram em chutes a gol (Shot-Creating Actions)\",\n",
    "    \"GCA\": \"Ações que resultaram em gols (Goal-Creating Actions)\",\n",
    "    \"Cmp\": \"Número de passes completados com sucesso\",\n",
    "    \"Att\": \"Total de passes tentados\",\n",
    "    \"Cmp%\": \"Percentual de passes completados com sucesso\",\n",
    "    \"PrgP\": \"Passes progressivos (passes em direção ao gol adversário)\",\n",
    "    \"Condu��es\": \"Número total de conduções de bola bem-sucedidas (domínio de bola com os pés)\",\n",
    "    \"PrgC\": \"Conduções progressivas (conduções para frente que resultam em ganho de espaço)\",\n",
    "    \"Tent\": \"Número total de tentativas de drible\",\n",
    "    \"Suc\": \"Número de dribles bem-sucedidos\",\n",
    "    \"Data\": \"Data da partida disputada\",\n",
    "}"
   ]
  },
  {
   "cell_type": "code",
   "execution_count": 0,
   "metadata": {
    "application/vnd.databricks.v1+cell": {
     "cellMetadata": {
      "byteLimit": 2048000,
      "rowLimit": 10000
     },
     "inputWidgets": {},
     "nuid": "10aa8290-97a1-4df7-9298-d8383d4e908c",
     "showTitle": true,
     "tableResultSettingsMap": {},
     "title": "🔹 Criando o Dataframe do Catálogo"
    }
   },
   "outputs": [],
   "source": [
    "# Criar lista de metadados para o Catálogo de Dados\n",
    "catalog_data = []\n",
    "\n",
    "# Iterar sobre as colunas da tabela Silver\n",
    "for index, col_name in enumerate(df.columns, start=1):\n",
    "    col_type = df.select(col(col_name)).schema.fields[0].dataType.simpleString()  # Tipo da coluna\n",
    "    col_count = metadata_df.collect()[0][f\"{col_name}_count\"]  # Contagem total (não nulos)\n",
    "    col_distinct = metadata_df.collect()[0][f\"{col_name}_distinct\"]  # Valores distintos\n",
    "    col_nulls = metadata_df.collect()[0][f\"{col_name}_nulls\"]  # ✅ Contagem correta de valores nulos\n",
    "    col_min = metadata_df.collect()[0][f\"{col_name}_min\"] if f\"{col_name}_min\" in metadata_df.columns else \"N/A\"\n",
    "    col_max = metadata_df.collect()[0][f\"{col_name}_max\"] if f\"{col_name}_max\" in metadata_df.columns else \"N/A\"\n",
    "\n",
    "    # Buscar definição detalhada ou usar descrição genérica\n",
    "    col_definition = col_descriptions.get(col_name, f\"Descrição da coluna {col_name}\")\n",
    "\n",
    "    # Adicionar à lista\n",
    "    catalog_data.append(Row(ID_Coluna=index,\n",
    "                            Coluna=col_name, \n",
    "                            Tipo_de_Dado=col_type, \n",
    "                            Definição=col_definition,\n",
    "                            Valores_Min_Max=f\"{col_min} | {col_max}\", \n",
    "                            Qtd_Valores_Registrados = col_count,\n",
    "                            Qtd_Valores_Nulos=col_nulls,\n",
    "                            Qtd_Valores_Distintos=col_distinct,\n",
    "                            Fonte=\"Kaggle\",\n",
    "                            Link_Fonte=\"https://www.kaggle.com/datasets/eduardopalmieri/brasileiro-player-stats-2024\",\n",
    "                            Arquivo_Original= \"database.csv\",\n",
    "                            Arquivo_S3 = \"BrasilSerieA_2024_EstatisticaJogadorPorPartida.csv\"\n",
    "                        ))\n",
    "\n",
    "# Criar o DataFrame do Catálogo de Dados\n",
    "catalog_df = spark.createDataFrame(catalog_data)"
   ]
  },
  {
   "cell_type": "code",
   "execution_count": 0,
   "metadata": {
    "application/vnd.databricks.v1+cell": {
     "cellMetadata": {
      "byteLimit": 2048000,
      "rowLimit": 10000
     },
     "inputWidgets": {},
     "nuid": "ff008adc-b04f-4fff-bd77-82c71aa96e50",
     "showTitle": true,
     "tableResultSettingsMap": {},
     "title": "🔹 Salvando o Catálogo no S3 camada Bronze"
    }
   },
   "outputs": [
    {
     "output_type": "stream",
     "name": "stdout",
     "output_type": "stream",
     "text": [
      "🚨 Arquivos antigos do Delta removidos com sucesso!\n✅ Catálogo Estatístico salvo no formato Delta com sucesso!\n"
     ]
    }
   ],
   "source": [
    "# Caminho no S3 para salvar o Catálogo Estatístico\n",
    "delta_catalogo_estatistico_path = \"s3://mvp-brasileirao-2024/bronze/catalogo_de_dados/catalog_estatistica_jogador\"\n",
    "\n",
    "dbutils.fs.rm(delta_catalogo_estatistico_path, recurse=True)\n",
    "print(\"🚨 Arquivos antigos do Delta removidos com sucesso!\")\n",
    "\n",
    "# Salvar a tabela Delta com as estatísticas\n",
    "catalog_df.write.format(\"delta\").mode(\"overwrite\").save(delta_catalogo_estatistico_path)\n",
    "\n",
    "print(\"✅ Catálogo Estatístico salvo no formato Delta com sucesso!\")"
   ]
  },
  {
   "cell_type": "code",
   "execution_count": 0,
   "metadata": {
    "application/vnd.databricks.v1+cell": {
     "cellMetadata": {
      "byteLimit": 2048000,
      "implicitDf": true,
      "rowLimit": 10000
     },
     "inputWidgets": {},
     "nuid": "a749d828-bf84-473d-a2db-ddad2b668bc3",
     "showTitle": true,
     "tableResultSettingsMap": {},
     "title": "🔹 Criando Tabela de Catálogos no Hive"
    }
   },
   "outputs": [
    {
     "output_type": "display_data",
     "data": {
      "text/html": [
       "<style scoped>\n",
       "  .table-result-container {\n",
       "    max-height: 300px;\n",
       "    overflow: auto;\n",
       "  }\n",
       "  table, th, td {\n",
       "    border: 1px solid black;\n",
       "    border-collapse: collapse;\n",
       "  }\n",
       "  th, td {\n",
       "    padding: 5px;\n",
       "  }\n",
       "  th {\n",
       "    text-align: left;\n",
       "  }\n",
       "</style><div class='table-result-container'><table class='table-result'><thead style='background-color: white'><tr></tr></thead><tbody></tbody></table></div>"
      ]
     },
     "metadata": {
      "application/vnd.databricks.v1+output": {
       "addedWidgets": {},
       "aggData": [],
       "aggError": "",
       "aggOverflow": false,
       "aggSchema": [],
       "aggSeriesLimitReached": false,
       "aggType": "",
       "arguments": {},
       "columnCustomDisplayInfos": {},
       "data": [],
       "datasetInfos": [],
       "dbfsResultPath": null,
       "isJsonSchema": true,
       "metadata": {},
       "overflow": false,
       "plotOptions": {
        "customPlotOptions": {},
        "displayType": "table",
        "pivotAggregation": null,
        "pivotColumns": null,
        "xColumns": null,
        "yColumns": null
       },
       "removedWidgets": [],
       "schema": [],
       "type": "table"
      }
     },
     "output_type": "display_data"
    }
   ],
   "source": [
    "%sql\n",
    "DROP TABLE IF EXISTS catalogo_de_dados.catalog_estatistica_jogador;\n",
    "\n",
    "CREATE TABLE catalogo_de_dados.catalog_estatistica_jogador\n",
    "USING DELTA\n",
    "LOCATION 's3://mvp-brasileirao-2024/bronze/catalogo_de_dados/catalog_estatistica_jogador';"
   ]
  },
  {
   "cell_type": "code",
   "execution_count": 0,
   "metadata": {
    "application/vnd.databricks.v1+cell": {
     "cellMetadata": {
      "byteLimit": 2048000,
      "implicitDf": true,
      "rowLimit": 10000
     },
     "inputWidgets": {},
     "nuid": "ecc80cd9-de7a-47d7-8da4-7cd83da016f6",
     "showTitle": true,
     "tableResultSettingsMap": {},
     "title": "🔹 Exibindo o Catálogo de Dados via SQL"
    }
   },
   "outputs": [
    {
     "output_type": "display_data",
     "data": {
      "text/html": [
       "<style scoped>\n",
       "  .table-result-container {\n",
       "    max-height: 300px;\n",
       "    overflow: auto;\n",
       "  }\n",
       "  table, th, td {\n",
       "    border: 1px solid black;\n",
       "    border-collapse: collapse;\n",
       "  }\n",
       "  th, td {\n",
       "    padding: 5px;\n",
       "  }\n",
       "  th {\n",
       "    text-align: left;\n",
       "  }\n",
       "</style><div class='table-result-container'><table class='table-result'><thead style='background-color: white'><tr><th>ID_Coluna</th><th>Coluna</th><th>Tipo_de_Dado</th><th>Definição</th><th>Valores_Min_Max</th><th>Qtd_Valores_Registrados</th><th>Qtd_Valores_Nulos</th><th>Qtd_Valores_Distintos</th><th>Fonte</th><th>Link_Fonte</th><th>Arquivo_Original</th><th>Arquivo_S3</th></tr></thead><tbody><tr><td>29</td><td>Condu��es</td><td>double</td><td>Número total de conduções de bola bem-sucedidas (domínio de bola com os pés)</td><td>0.0 | 106.0</td><td>11681</td><td>1</td><td>94</td><td>Kaggle</td><td>https://www.kaggle.com/datasets/eduardopalmieri/brasileiro-player-stats-2024</td><td>database.csv</td><td>BrasilSerieA_2024_EstatisticaJogadorPorPartida.csv</td></tr><tr><td>30</td><td>PrgC</td><td>double</td><td>Conduções progressivas (conduções para frente que resultam em ganho de espaço)</td><td>0.0 | 17.0</td><td>11681</td><td>1</td><td>16</td><td>Kaggle</td><td>https://www.kaggle.com/datasets/eduardopalmieri/brasileiro-player-stats-2024</td><td>database.csv</td><td>BrasilSerieA_2024_EstatisticaJogadorPorPartida.csv</td></tr><tr><td>31</td><td>Tent</td><td>double</td><td>Número total de tentativas de drible</td><td>0.0 | 16.0</td><td>11681</td><td>1</td><td>17</td><td>Kaggle</td><td>https://www.kaggle.com/datasets/eduardopalmieri/brasileiro-player-stats-2024</td><td>database.csv</td><td>BrasilSerieA_2024_EstatisticaJogadorPorPartida.csv</td></tr><tr><td>32</td><td>Suc</td><td>double</td><td>Número de dribles bem-sucedidos</td><td>0.0 | 10.0</td><td>11681</td><td>1</td><td>11</td><td>Kaggle</td><td>https://www.kaggle.com/datasets/eduardopalmieri/brasileiro-player-stats-2024</td><td>database.csv</td><td>BrasilSerieA_2024_EstatisticaJogadorPorPartida.csv</td></tr><tr><td>33</td><td>Data</td><td>date</td><td>Data da partida disputada</td><td>2024-04-13 | 2024-12-08</td><td>11682</td><td>0</td><td>108</td><td>Kaggle</td><td>https://www.kaggle.com/datasets/eduardopalmieri/brasileiro-player-stats-2024</td><td>database.csv</td><td>BrasilSerieA_2024_EstatisticaJogadorPorPartida.csv</td></tr><tr><td>17</td><td>Div</td><td>double</td><td>Número de desarmes bem-sucedidos realizados pelo jogador</td><td>0.0 | 12.0</td><td>11681</td><td>1</td><td>13</td><td>Kaggle</td><td>https://www.kaggle.com/datasets/eduardopalmieri/brasileiro-player-stats-2024</td><td>database.csv</td><td>BrasilSerieA_2024_EstatisticaJogadorPorPartida.csv</td></tr><tr><td>18</td><td>Crts</td><td>int</td><td>Número de interceptações defensivas feitas pelo jogador</td><td>0 | 8</td><td>11682</td><td>0</td><td>9</td><td>Kaggle</td><td>https://www.kaggle.com/datasets/eduardopalmieri/brasileiro-player-stats-2024</td><td>database.csv</td><td>BrasilSerieA_2024_EstatisticaJogadorPorPartida.csv</td></tr><tr><td>19</td><td>Bloqueios</td><td>double</td><td>Número de bloqueios defensivos (interceptação de chutes, passes ou cruzamentos perigosos)</td><td>0.0 | 7.0</td><td>11681</td><td>1</td><td>8</td><td>Kaggle</td><td>https://www.kaggle.com/datasets/eduardopalmieri/brasileiro-player-stats-2024</td><td>database.csv</td><td>BrasilSerieA_2024_EstatisticaJogadorPorPartida.csv</td></tr><tr><td>20</td><td>xG</td><td>double</td><td>Gols esperados (Expected Goals) com base na posição e situação do chute</td><td>0.0 | 1.7</td><td>11681</td><td>1</td><td>18</td><td>Kaggle</td><td>https://www.kaggle.com/datasets/eduardopalmieri/brasileiro-player-stats-2024</td><td>database.csv</td><td>BrasilSerieA_2024_EstatisticaJogadorPorPartida.csv</td></tr><tr><td>21</td><td>npxG</td><td>double</td><td>Gols esperados (Expected Goals) excluindo pênaltis</td><td>0.0 | 1.7</td><td>11681</td><td>1</td><td>18</td><td>Kaggle</td><td>https://www.kaggle.com/datasets/eduardopalmieri/brasileiro-player-stats-2024</td><td>database.csv</td><td>BrasilSerieA_2024_EstatisticaJogadorPorPartida.csv</td></tr><tr><td>22</td><td>xAG</td><td>double</td><td>Assistências esperadas (Expected Assists) com base na jogada</td><td>0.0 | 1.3</td><td>11681</td><td>1</td><td>14</td><td>Kaggle</td><td>https://www.kaggle.com/datasets/eduardopalmieri/brasileiro-player-stats-2024</td><td>database.csv</td><td>BrasilSerieA_2024_EstatisticaJogadorPorPartida.csv</td></tr><tr><td>23</td><td>SCA</td><td>double</td><td>Ações que resultaram em chutes a gol (Shot-Creating Actions)</td><td>0.0 | 14.0</td><td>11681</td><td>1</td><td>15</td><td>Kaggle</td><td>https://www.kaggle.com/datasets/eduardopalmieri/brasileiro-player-stats-2024</td><td>database.csv</td><td>BrasilSerieA_2024_EstatisticaJogadorPorPartida.csv</td></tr><tr><td>24</td><td>GCA</td><td>double</td><td>Ações que resultaram em gols (Goal-Creating Actions)</td><td>0.0 | 4.0</td><td>11681</td><td>1</td><td>5</td><td>Kaggle</td><td>https://www.kaggle.com/datasets/eduardopalmieri/brasileiro-player-stats-2024</td><td>database.csv</td><td>BrasilSerieA_2024_EstatisticaJogadorPorPartida.csv</td></tr><tr><td>13</td><td>CaG</td><td>int</td><td>Chutes a gol (não inclui cobranças de pênalti)</td><td>0 | 6</td><td>11682</td><td>0</td><td>7</td><td>Kaggle</td><td>https://www.kaggle.com/datasets/eduardopalmieri/brasileiro-player-stats-2024</td><td>database.csv</td><td>BrasilSerieA_2024_EstatisticaJogadorPorPartida.csv</td></tr><tr><td>14</td><td>CrtsA</td><td>int</td><td>Quantidade de cartões amarelos recebidos</td><td>0 | 2</td><td>11682</td><td>0</td><td>3</td><td>Kaggle</td><td>https://www.kaggle.com/datasets/eduardopalmieri/brasileiro-player-stats-2024</td><td>database.csv</td><td>BrasilSerieA_2024_EstatisticaJogadorPorPartida.csv</td></tr><tr><td>15</td><td>CrtV</td><td>int</td><td>Quantidade de cartões vermelhos recebidos</td><td>0 | 1</td><td>11682</td><td>0</td><td>2</td><td>Kaggle</td><td>https://www.kaggle.com/datasets/eduardopalmieri/brasileiro-player-stats-2024</td><td>database.csv</td><td>BrasilSerieA_2024_EstatisticaJogadorPorPartida.csv</td></tr><tr><td>16</td><td>Contatos</td><td>double</td><td>Número total de vezes que o jogador tocou na bola (conta-se receber, driblar e passar como um toque)</td><td>0.0 | 143.0</td><td>11681</td><td>1</td><td>126</td><td>Kaggle</td><td>https://www.kaggle.com/datasets/eduardopalmieri/brasileiro-player-stats-2024</td><td>database.csv</td><td>BrasilSerieA_2024_EstatisticaJogadorPorPartida.csv</td></tr><tr><td>9</td><td>Assis</td><td>int</td><td>Número de assistências realizadas pelo jogador</td><td>0 | 2</td><td>11682</td><td>0</td><td>3</td><td>Kaggle</td><td>https://www.kaggle.com/datasets/eduardopalmieri/brasileiro-player-stats-2024</td><td>database.csv</td><td>BrasilSerieA_2024_EstatisticaJogadorPorPartida.csv</td></tr><tr><td>10</td><td>PB</td><td>int</td><td>Pênaltis cobrados pelo jogador</td><td>0 | 2</td><td>11682</td><td>0</td><td>3</td><td>Kaggle</td><td>https://www.kaggle.com/datasets/eduardopalmieri/brasileiro-player-stats-2024</td><td>database.csv</td><td>BrasilSerieA_2024_EstatisticaJogadorPorPartida.csv</td></tr><tr><td>11</td><td>PT</td><td>int</td><td>Pênaltis tentados pelo jogador (considerando acertos e erros)</td><td>0 | 2</td><td>11682</td><td>0</td><td>3</td><td>Kaggle</td><td>https://www.kaggle.com/datasets/eduardopalmieri/brasileiro-player-stats-2024</td><td>database.csv</td><td>BrasilSerieA_2024_EstatisticaJogadorPorPartida.csv</td></tr><tr><td>12</td><td>TC</td><td>int</td><td>Total de chutes realizados (não inclui cobranças de pênalti)</td><td>0 | 9</td><td>11682</td><td>0</td><td>10</td><td>Kaggle</td><td>https://www.kaggle.com/datasets/eduardopalmieri/brasileiro-player-stats-2024</td><td>database.csv</td><td>BrasilSerieA_2024_EstatisticaJogadorPorPartida.csv</td></tr><tr><td>5</td><td>Pos</td><td>string</td><td>Posição do jogador dentro de campo</td><td>AM | WB,RW</td><td>11682</td><td>0</td><td>195</td><td>Kaggle</td><td>https://www.kaggle.com/datasets/eduardopalmieri/brasileiro-player-stats-2024</td><td>database.csv</td><td>BrasilSerieA_2024_EstatisticaJogadorPorPartida.csv</td></tr><tr><td>6</td><td>Idade</td><td>string</td><td>Idade do jogador na data da partida (anos e dias)</td><td>16-001 | 44-069</td><td>11676</td><td>6</td><td>5546</td><td>Kaggle</td><td>https://www.kaggle.com/datasets/eduardopalmieri/brasileiro-player-stats-2024</td><td>database.csv</td><td>BrasilSerieA_2024_EstatisticaJogadorPorPartida.csv</td></tr><tr><td>7</td><td>Min</td><td>double</td><td>Minutos jogados pelo atleta na partida</td><td>1.0 | 90.0</td><td>11681</td><td>1</td><td>90</td><td>Kaggle</td><td>https://www.kaggle.com/datasets/eduardopalmieri/brasileiro-player-stats-2024</td><td>database.csv</td><td>BrasilSerieA_2024_EstatisticaJogadorPorPartida.csv</td></tr><tr><td>8</td><td>Gols</td><td>int</td><td>Número de gols marcados na partida pelo jogador</td><td>0 | 3</td><td>11682</td><td>0</td><td>4</td><td>Kaggle</td><td>https://www.kaggle.com/datasets/eduardopalmieri/brasileiro-player-stats-2024</td><td>database.csv</td><td>BrasilSerieA_2024_EstatisticaJogadorPorPartida.csv</td></tr><tr><td>1</td><td>Jogador</td><td>string</td><td>Nome do jogador que participou da partida</td><td>Abner | Óscar Romero</td><td>11682</td><td>0</td><td>652</td><td>Kaggle</td><td>https://www.kaggle.com/datasets/eduardopalmieri/brasileiro-player-stats-2024</td><td>database.csv</td><td>BrasilSerieA_2024_EstatisticaJogadorPorPartida.csv</td></tr><tr><td>2</td><td>Time</td><td>string</td><td>Nome do clube do jogador</td><td>Athletico Paranaense | Vitória</td><td>11682</td><td>0</td><td>20</td><td>Kaggle</td><td>https://www.kaggle.com/datasets/eduardopalmieri/brasileiro-player-stats-2024</td><td>database.csv</td><td>BrasilSerieA_2024_EstatisticaJogadorPorPartida.csv</td></tr><tr><td>3</td><td>#</td><td>int</td><td>Número da camisa do jogador na partida</td><td>1 | 200</td><td>11682</td><td>0</td><td>88</td><td>Kaggle</td><td>https://www.kaggle.com/datasets/eduardopalmieri/brasileiro-player-stats-2024</td><td>database.csv</td><td>BrasilSerieA_2024_EstatisticaJogadorPorPartida.csv</td></tr><tr><td>4</td><td>Na��o</td><td>string</td><td>Nacionalidade do jogador</td><td>ANG | VEN</td><td>11676</td><td>6</td><td>23</td><td>Kaggle</td><td>https://www.kaggle.com/datasets/eduardopalmieri/brasileiro-player-stats-2024</td><td>database.csv</td><td>BrasilSerieA_2024_EstatisticaJogadorPorPartida.csv</td></tr><tr><td>25</td><td>Cmp</td><td>double</td><td>Número de passes completados com sucesso</td><td>0.0 | 122.0</td><td>11681</td><td>1</td><td>108</td><td>Kaggle</td><td>https://www.kaggle.com/datasets/eduardopalmieri/brasileiro-player-stats-2024</td><td>database.csv</td><td>BrasilSerieA_2024_EstatisticaJogadorPorPartida.csv</td></tr><tr><td>26</td><td>Att</td><td>double</td><td>Total de passes tentados</td><td>0.0 | 130.0</td><td>11681</td><td>1</td><td>118</td><td>Kaggle</td><td>https://www.kaggle.com/datasets/eduardopalmieri/brasileiro-player-stats-2024</td><td>database.csv</td><td>BrasilSerieA_2024_EstatisticaJogadorPorPartida.csv</td></tr><tr><td>27</td><td>Cmp%</td><td>string</td><td>Percentual de passes completados com sucesso</td><td>0 | 99,1</td><td>11562</td><td>120</td><td>466</td><td>Kaggle</td><td>https://www.kaggle.com/datasets/eduardopalmieri/brasileiro-player-stats-2024</td><td>database.csv</td><td>BrasilSerieA_2024_EstatisticaJogadorPorPartida.csv</td></tr><tr><td>28</td><td>PrgP</td><td>double</td><td>Passes progressivos (passes em direção ao gol adversário)</td><td>0.0 | 27.0</td><td>11681</td><td>1</td><td>24</td><td>Kaggle</td><td>https://www.kaggle.com/datasets/eduardopalmieri/brasileiro-player-stats-2024</td><td>database.csv</td><td>BrasilSerieA_2024_EstatisticaJogadorPorPartida.csv</td></tr></tbody></table></div>"
      ]
     },
     "metadata": {
      "application/vnd.databricks.v1+output": {
       "addedWidgets": {},
       "aggData": [],
       "aggError": "",
       "aggOverflow": false,
       "aggSchema": [],
       "aggSeriesLimitReached": false,
       "aggType": "",
       "arguments": {},
       "columnCustomDisplayInfos": {},
       "data": [
        [
         29,
         "Condu��es",
         "double",
         "Número total de conduções de bola bem-sucedidas (domínio de bola com os pés)",
         "0.0 | 106.0",
         11681,
         1,
         94,
         "Kaggle",
         "https://www.kaggle.com/datasets/eduardopalmieri/brasileiro-player-stats-2024",
         "database.csv",
         "BrasilSerieA_2024_EstatisticaJogadorPorPartida.csv"
        ],
        [
         30,
         "PrgC",
         "double",
         "Conduções progressivas (conduções para frente que resultam em ganho de espaço)",
         "0.0 | 17.0",
         11681,
         1,
         16,
         "Kaggle",
         "https://www.kaggle.com/datasets/eduardopalmieri/brasileiro-player-stats-2024",
         "database.csv",
         "BrasilSerieA_2024_EstatisticaJogadorPorPartida.csv"
        ],
        [
         31,
         "Tent",
         "double",
         "Número total de tentativas de drible",
         "0.0 | 16.0",
         11681,
         1,
         17,
         "Kaggle",
         "https://www.kaggle.com/datasets/eduardopalmieri/brasileiro-player-stats-2024",
         "database.csv",
         "BrasilSerieA_2024_EstatisticaJogadorPorPartida.csv"
        ],
        [
         32,
         "Suc",
         "double",
         "Número de dribles bem-sucedidos",
         "0.0 | 10.0",
         11681,
         1,
         11,
         "Kaggle",
         "https://www.kaggle.com/datasets/eduardopalmieri/brasileiro-player-stats-2024",
         "database.csv",
         "BrasilSerieA_2024_EstatisticaJogadorPorPartida.csv"
        ],
        [
         33,
         "Data",
         "date",
         "Data da partida disputada",
         "2024-04-13 | 2024-12-08",
         11682,
         0,
         108,
         "Kaggle",
         "https://www.kaggle.com/datasets/eduardopalmieri/brasileiro-player-stats-2024",
         "database.csv",
         "BrasilSerieA_2024_EstatisticaJogadorPorPartida.csv"
        ],
        [
         17,
         "Div",
         "double",
         "Número de desarmes bem-sucedidos realizados pelo jogador",
         "0.0 | 12.0",
         11681,
         1,
         13,
         "Kaggle",
         "https://www.kaggle.com/datasets/eduardopalmieri/brasileiro-player-stats-2024",
         "database.csv",
         "BrasilSerieA_2024_EstatisticaJogadorPorPartida.csv"
        ],
        [
         18,
         "Crts",
         "int",
         "Número de interceptações defensivas feitas pelo jogador",
         "0 | 8",
         11682,
         0,
         9,
         "Kaggle",
         "https://www.kaggle.com/datasets/eduardopalmieri/brasileiro-player-stats-2024",
         "database.csv",
         "BrasilSerieA_2024_EstatisticaJogadorPorPartida.csv"
        ],
        [
         19,
         "Bloqueios",
         "double",
         "Número de bloqueios defensivos (interceptação de chutes, passes ou cruzamentos perigosos)",
         "0.0 | 7.0",
         11681,
         1,
         8,
         "Kaggle",
         "https://www.kaggle.com/datasets/eduardopalmieri/brasileiro-player-stats-2024",
         "database.csv",
         "BrasilSerieA_2024_EstatisticaJogadorPorPartida.csv"
        ],
        [
         20,
         "xG",
         "double",
         "Gols esperados (Expected Goals) com base na posição e situação do chute",
         "0.0 | 1.7",
         11681,
         1,
         18,
         "Kaggle",
         "https://www.kaggle.com/datasets/eduardopalmieri/brasileiro-player-stats-2024",
         "database.csv",
         "BrasilSerieA_2024_EstatisticaJogadorPorPartida.csv"
        ],
        [
         21,
         "npxG",
         "double",
         "Gols esperados (Expected Goals) excluindo pênaltis",
         "0.0 | 1.7",
         11681,
         1,
         18,
         "Kaggle",
         "https://www.kaggle.com/datasets/eduardopalmieri/brasileiro-player-stats-2024",
         "database.csv",
         "BrasilSerieA_2024_EstatisticaJogadorPorPartida.csv"
        ],
        [
         22,
         "xAG",
         "double",
         "Assistências esperadas (Expected Assists) com base na jogada",
         "0.0 | 1.3",
         11681,
         1,
         14,
         "Kaggle",
         "https://www.kaggle.com/datasets/eduardopalmieri/brasileiro-player-stats-2024",
         "database.csv",
         "BrasilSerieA_2024_EstatisticaJogadorPorPartida.csv"
        ],
        [
         23,
         "SCA",
         "double",
         "Ações que resultaram em chutes a gol (Shot-Creating Actions)",
         "0.0 | 14.0",
         11681,
         1,
         15,
         "Kaggle",
         "https://www.kaggle.com/datasets/eduardopalmieri/brasileiro-player-stats-2024",
         "database.csv",
         "BrasilSerieA_2024_EstatisticaJogadorPorPartida.csv"
        ],
        [
         24,
         "GCA",
         "double",
         "Ações que resultaram em gols (Goal-Creating Actions)",
         "0.0 | 4.0",
         11681,
         1,
         5,
         "Kaggle",
         "https://www.kaggle.com/datasets/eduardopalmieri/brasileiro-player-stats-2024",
         "database.csv",
         "BrasilSerieA_2024_EstatisticaJogadorPorPartida.csv"
        ],
        [
         13,
         "CaG",
         "int",
         "Chutes a gol (não inclui cobranças de pênalti)",
         "0 | 6",
         11682,
         0,
         7,
         "Kaggle",
         "https://www.kaggle.com/datasets/eduardopalmieri/brasileiro-player-stats-2024",
         "database.csv",
         "BrasilSerieA_2024_EstatisticaJogadorPorPartida.csv"
        ],
        [
         14,
         "CrtsA",
         "int",
         "Quantidade de cartões amarelos recebidos",
         "0 | 2",
         11682,
         0,
         3,
         "Kaggle",
         "https://www.kaggle.com/datasets/eduardopalmieri/brasileiro-player-stats-2024",
         "database.csv",
         "BrasilSerieA_2024_EstatisticaJogadorPorPartida.csv"
        ],
        [
         15,
         "CrtV",
         "int",
         "Quantidade de cartões vermelhos recebidos",
         "0 | 1",
         11682,
         0,
         2,
         "Kaggle",
         "https://www.kaggle.com/datasets/eduardopalmieri/brasileiro-player-stats-2024",
         "database.csv",
         "BrasilSerieA_2024_EstatisticaJogadorPorPartida.csv"
        ],
        [
         16,
         "Contatos",
         "double",
         "Número total de vezes que o jogador tocou na bola (conta-se receber, driblar e passar como um toque)",
         "0.0 | 143.0",
         11681,
         1,
         126,
         "Kaggle",
         "https://www.kaggle.com/datasets/eduardopalmieri/brasileiro-player-stats-2024",
         "database.csv",
         "BrasilSerieA_2024_EstatisticaJogadorPorPartida.csv"
        ],
        [
         9,
         "Assis",
         "int",
         "Número de assistências realizadas pelo jogador",
         "0 | 2",
         11682,
         0,
         3,
         "Kaggle",
         "https://www.kaggle.com/datasets/eduardopalmieri/brasileiro-player-stats-2024",
         "database.csv",
         "BrasilSerieA_2024_EstatisticaJogadorPorPartida.csv"
        ],
        [
         10,
         "PB",
         "int",
         "Pênaltis cobrados pelo jogador",
         "0 | 2",
         11682,
         0,
         3,
         "Kaggle",
         "https://www.kaggle.com/datasets/eduardopalmieri/brasileiro-player-stats-2024",
         "database.csv",
         "BrasilSerieA_2024_EstatisticaJogadorPorPartida.csv"
        ],
        [
         11,
         "PT",
         "int",
         "Pênaltis tentados pelo jogador (considerando acertos e erros)",
         "0 | 2",
         11682,
         0,
         3,
         "Kaggle",
         "https://www.kaggle.com/datasets/eduardopalmieri/brasileiro-player-stats-2024",
         "database.csv",
         "BrasilSerieA_2024_EstatisticaJogadorPorPartida.csv"
        ],
        [
         12,
         "TC",
         "int",
         "Total de chutes realizados (não inclui cobranças de pênalti)",
         "0 | 9",
         11682,
         0,
         10,
         "Kaggle",
         "https://www.kaggle.com/datasets/eduardopalmieri/brasileiro-player-stats-2024",
         "database.csv",
         "BrasilSerieA_2024_EstatisticaJogadorPorPartida.csv"
        ],
        [
         5,
         "Pos",
         "string",
         "Posição do jogador dentro de campo",
         "AM | WB,RW",
         11682,
         0,
         195,
         "Kaggle",
         "https://www.kaggle.com/datasets/eduardopalmieri/brasileiro-player-stats-2024",
         "database.csv",
         "BrasilSerieA_2024_EstatisticaJogadorPorPartida.csv"
        ],
        [
         6,
         "Idade",
         "string",
         "Idade do jogador na data da partida (anos e dias)",
         "16-001 | 44-069",
         11676,
         6,
         5546,
         "Kaggle",
         "https://www.kaggle.com/datasets/eduardopalmieri/brasileiro-player-stats-2024",
         "database.csv",
         "BrasilSerieA_2024_EstatisticaJogadorPorPartida.csv"
        ],
        [
         7,
         "Min",
         "double",
         "Minutos jogados pelo atleta na partida",
         "1.0 | 90.0",
         11681,
         1,
         90,
         "Kaggle",
         "https://www.kaggle.com/datasets/eduardopalmieri/brasileiro-player-stats-2024",
         "database.csv",
         "BrasilSerieA_2024_EstatisticaJogadorPorPartida.csv"
        ],
        [
         8,
         "Gols",
         "int",
         "Número de gols marcados na partida pelo jogador",
         "0 | 3",
         11682,
         0,
         4,
         "Kaggle",
         "https://www.kaggle.com/datasets/eduardopalmieri/brasileiro-player-stats-2024",
         "database.csv",
         "BrasilSerieA_2024_EstatisticaJogadorPorPartida.csv"
        ],
        [
         1,
         "Jogador",
         "string",
         "Nome do jogador que participou da partida",
         "Abner | Óscar Romero",
         11682,
         0,
         652,
         "Kaggle",
         "https://www.kaggle.com/datasets/eduardopalmieri/brasileiro-player-stats-2024",
         "database.csv",
         "BrasilSerieA_2024_EstatisticaJogadorPorPartida.csv"
        ],
        [
         2,
         "Time",
         "string",
         "Nome do clube do jogador",
         "Athletico Paranaense | Vitória",
         11682,
         0,
         20,
         "Kaggle",
         "https://www.kaggle.com/datasets/eduardopalmieri/brasileiro-player-stats-2024",
         "database.csv",
         "BrasilSerieA_2024_EstatisticaJogadorPorPartida.csv"
        ],
        [
         3,
         "#",
         "int",
         "Número da camisa do jogador na partida",
         "1 | 200",
         11682,
         0,
         88,
         "Kaggle",
         "https://www.kaggle.com/datasets/eduardopalmieri/brasileiro-player-stats-2024",
         "database.csv",
         "BrasilSerieA_2024_EstatisticaJogadorPorPartida.csv"
        ],
        [
         4,
         "Na��o",
         "string",
         "Nacionalidade do jogador",
         "ANG | VEN",
         11676,
         6,
         23,
         "Kaggle",
         "https://www.kaggle.com/datasets/eduardopalmieri/brasileiro-player-stats-2024",
         "database.csv",
         "BrasilSerieA_2024_EstatisticaJogadorPorPartida.csv"
        ],
        [
         25,
         "Cmp",
         "double",
         "Número de passes completados com sucesso",
         "0.0 | 122.0",
         11681,
         1,
         108,
         "Kaggle",
         "https://www.kaggle.com/datasets/eduardopalmieri/brasileiro-player-stats-2024",
         "database.csv",
         "BrasilSerieA_2024_EstatisticaJogadorPorPartida.csv"
        ],
        [
         26,
         "Att",
         "double",
         "Total de passes tentados",
         "0.0 | 130.0",
         11681,
         1,
         118,
         "Kaggle",
         "https://www.kaggle.com/datasets/eduardopalmieri/brasileiro-player-stats-2024",
         "database.csv",
         "BrasilSerieA_2024_EstatisticaJogadorPorPartida.csv"
        ],
        [
         27,
         "Cmp%",
         "string",
         "Percentual de passes completados com sucesso",
         "0 | 99,1",
         11562,
         120,
         466,
         "Kaggle",
         "https://www.kaggle.com/datasets/eduardopalmieri/brasileiro-player-stats-2024",
         "database.csv",
         "BrasilSerieA_2024_EstatisticaJogadorPorPartida.csv"
        ],
        [
         28,
         "PrgP",
         "double",
         "Passes progressivos (passes em direção ao gol adversário)",
         "0.0 | 27.0",
         11681,
         1,
         24,
         "Kaggle",
         "https://www.kaggle.com/datasets/eduardopalmieri/brasileiro-player-stats-2024",
         "database.csv",
         "BrasilSerieA_2024_EstatisticaJogadorPorPartida.csv"
        ]
       ],
       "datasetInfos": [],
       "dbfsResultPath": null,
       "isJsonSchema": true,
       "metadata": {},
       "overflow": false,
       "plotOptions": {
        "customPlotOptions": {},
        "displayType": "table",
        "pivotAggregation": null,
        "pivotColumns": null,
        "xColumns": null,
        "yColumns": null
       },
       "removedWidgets": [],
       "schema": [
        {
         "metadata": "{}",
         "name": "ID_Coluna",
         "type": "\"long\""
        },
        {
         "metadata": "{}",
         "name": "Coluna",
         "type": "\"string\""
        },
        {
         "metadata": "{}",
         "name": "Tipo_de_Dado",
         "type": "\"string\""
        },
        {
         "metadata": "{}",
         "name": "Definição",
         "type": "\"string\""
        },
        {
         "metadata": "{}",
         "name": "Valores_Min_Max",
         "type": "\"string\""
        },
        {
         "metadata": "{}",
         "name": "Qtd_Valores_Registrados",
         "type": "\"long\""
        },
        {
         "metadata": "{}",
         "name": "Qtd_Valores_Nulos",
         "type": "\"long\""
        },
        {
         "metadata": "{}",
         "name": "Qtd_Valores_Distintos",
         "type": "\"long\""
        },
        {
         "metadata": "{}",
         "name": "Fonte",
         "type": "\"string\""
        },
        {
         "metadata": "{}",
         "name": "Link_Fonte",
         "type": "\"string\""
        },
        {
         "metadata": "{}",
         "name": "Arquivo_Original",
         "type": "\"string\""
        },
        {
         "metadata": "{}",
         "name": "Arquivo_S3",
         "type": "\"string\""
        }
       ],
       "type": "table"
      }
     },
     "output_type": "display_data"
    }
   ],
   "source": [
    "%sql\n",
    "select * from catalogo_de_dados.catalog_estatistica_jogador"
   ]
  }
 ],
 "metadata": {
  "application/vnd.databricks.v1+notebook": {
   "computePreferences": null,
   "dashboards": [],
   "environmentMetadata": {
    "base_environment": "",
    "environment_version": "1"
   },
   "inputWidgetPreferences": null,
   "language": "python",
   "notebookMetadata": {
    "mostRecentlyExecutedCommandWithImplicitDF": {
     "commandId": 1541685358456394,
     "dataframes": [
      "_sqldf"
     ]
    },
    "pythonIndentUnit": 4
   },
   "notebookName": "01-Catalogo de Dados no Metastore do Databricks Bronze",
   "widgets": {}
  }
 },
 "nbformat": 4,
 "nbformat_minor": 0
}

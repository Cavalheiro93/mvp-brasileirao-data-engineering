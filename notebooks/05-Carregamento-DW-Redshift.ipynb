{
 "cells": [
  {
   "cell_type": "markdown",
   "metadata": {
    "application/vnd.databricks.v1+cell": {
     "cellMetadata": {},
     "inputWidgets": {},
     "nuid": "5cdcad2c-8c19-4c2d-afac-4afc897e103b",
     "showTitle": false,
     "tableResultSettingsMap": {},
     "title": ""
    }
   },
   "source": [
    "# 📌 Carregamento de dados no Data Warehouse da AWS (`Redshift`)\n",
    "\n",
    "Este notebook é responsável por realizar o carregamento das tabelas da camada Gold, armazenadas no S3, para o Amazon Redshift.\n",
    "\n",
    "A operação representa a etapa final do pipeline de dados, onde os dados transformados são disponibilizados em um Data Warehouse otimizado para análises e consultas SQL.\n"
   ]
  },
  {
   "cell_type": "markdown",
   "metadata": {
    "application/vnd.databricks.v1+cell": {
     "cellMetadata": {},
     "inputWidgets": {},
     "nuid": "4cb49ba4-b7c9-4c1c-919a-c9367dfa9bce",
     "showTitle": false,
     "tableResultSettingsMap": {},
     "title": ""
    }
   },
   "source": [
    "## 🔶 Mart_Desempenho_Clubes"
   ]
  },
  {
   "cell_type": "code",
   "execution_count": 0,
   "metadata": {
    "application/vnd.databricks.v1+cell": {
     "cellMetadata": {
      "byteLimit": 2048000,
      "rowLimit": 10000
     },
     "collapsed": true,
     "inputWidgets": {},
     "nuid": "cb83e9c4-586a-4748-bc2a-a9eabdc99a8c",
     "showTitle": false,
     "tableResultSettingsMap": {},
     "title": ""
    }
   },
   "outputs": [
    {
     "output_type": "stream",
     "name": "stdout",
     "output_type": "stream",
     "text": [
      "Leitura das credenciais de forma segura pelo Spark 🔐\n"
     ]
    },
    {
     "output_type": "stream",
     "name": "stdout",
     "output_type": "stream",
     "text": [
      "Caminhos definidos:\n📂 Bronze: s3a://mvp-brasileirao-2024/bronze/ | 📂 Silver: s3a://mvp-brasileirao-2024/silver/ | 📂 Gold: s3a://mvp-brasileirao-2024/gold/\n"
     ]
    },
    {
     "output_type": "stream",
     "name": "stdout",
     "output_type": "stream",
     "text": [
      "✅ Credenciais configuradas com sucesso!\n"
     ]
    },
    {
     "output_type": "stream",
     "name": "stdout",
     "output_type": "stream",
     "text": [
      "✅ Conexão bem-sucedida! Arquivos encontrados na camada Bronze e Silver:\n"
     ]
    }
   ],
   "source": [
    "%run \"/Users/caio.santos.cavalheiro@gmail.com/00-Configuracao\""
   ]
  },
  {
   "cell_type": "markdown",
   "metadata": {
    "application/vnd.databricks.v1+cell": {
     "cellMetadata": {},
     "inputWidgets": {},
     "nuid": "ab803349-ac4e-46af-931d-0d4f6c219e76",
     "showTitle": false,
     "tableResultSettingsMap": {},
     "title": ""
    }
   },
   "source": [
    "### 🔹 Lendo arquivo na camada Ouro"
   ]
  },
  {
   "cell_type": "code",
   "execution_count": 0,
   "metadata": {
    "application/vnd.databricks.v1+cell": {
     "cellMetadata": {
      "byteLimit": 2048000,
      "rowLimit": 10000
     },
     "inputWidgets": {},
     "nuid": "e9ed5347-8e72-444b-b0a2-ebc8752acb9b",
     "showTitle": false,
     "tableResultSettingsMap": {},
     "title": ""
    }
   },
   "outputs": [],
   "source": [
    "df_clubes = spark.read.parquet(\"s3a://mvp-brasileirao-2024/gold/Mart_Desempenho_Clubes\")"
   ]
  },
  {
   "cell_type": "markdown",
   "metadata": {
    "application/vnd.databricks.v1+cell": {
     "cellMetadata": {},
     "inputWidgets": {},
     "nuid": "d1f5638b-0894-44e4-95a8-33d8aec07a85",
     "showTitle": false,
     "tableResultSettingsMap": {},
     "title": ""
    }
   },
   "source": [
    "### 💠 Enviando tabela para o Redshift"
   ]
  },
  {
   "cell_type": "code",
   "execution_count": 0,
   "metadata": {
    "application/vnd.databricks.v1+cell": {
     "cellMetadata": {
      "byteLimit": 2048000,
      "rowLimit": 10000
     },
     "inputWidgets": {},
     "nuid": "8c1f611a-49b5-452a-8b63-a71051cf440b",
     "showTitle": false,
     "tableResultSettingsMap": {},
     "title": ""
    }
   },
   "outputs": [],
   "source": [
    "df_clubes.write \\\n",
    "    .format(\"jdbc\") \\\n",
    "    .option(\"url\", \"jdbc:redshift://workgroup-brasileirao.296062575004.us-east-2.redshift-serverless.amazonaws.com:5439/dev\") \\\n",
    "    .option(\"dbtable\", \"mart_desempenho_clubes\") \\\n",
    "    .option(\"user\", \"admin\") \\\n",
    "    .option(\"password\", credentials_dict['redshift_password']) \\\n",
    "    .option(\"driver\", \"com.amazon.redshift.jdbc.Driver\") \\\n",
    "    .mode(\"overwrite\") \\\n",
    "    .save()"
   ]
  },
  {
   "cell_type": "markdown",
   "metadata": {
    "application/vnd.databricks.v1+cell": {
     "cellMetadata": {},
     "inputWidgets": {},
     "nuid": "11c02ffd-3a09-4565-aa39-cfadcdaa744f",
     "showTitle": false,
     "tableResultSettingsMap": {},
     "title": ""
    }
   },
   "source": [
    "## 🔶 Mart_Desempenho_Jogadores"
   ]
  },
  {
   "cell_type": "markdown",
   "metadata": {
    "application/vnd.databricks.v1+cell": {
     "cellMetadata": {},
     "inputWidgets": {},
     "nuid": "f3ec3238-27ef-4a1b-aec0-1c9e7ffe890a",
     "showTitle": false,
     "tableResultSettingsMap": {},
     "title": ""
    }
   },
   "source": [
    "### 🔹 Lendo arquivo na camada Ouro"
   ]
  },
  {
   "cell_type": "code",
   "execution_count": 0,
   "metadata": {
    "application/vnd.databricks.v1+cell": {
     "cellMetadata": {
      "byteLimit": 2048000,
      "rowLimit": 10000
     },
     "inputWidgets": {},
     "nuid": "abb0e765-93c1-49c8-be5a-4fc9f60ae25c",
     "showTitle": false,
     "tableResultSettingsMap": {},
     "title": ""
    }
   },
   "outputs": [],
   "source": [
    "df_jogadores = spark.read.parquet(\"s3a://mvp-brasileirao-2024/gold/Mart_Desempenho_Jogadores\")"
   ]
  },
  {
   "cell_type": "markdown",
   "metadata": {
    "application/vnd.databricks.v1+cell": {
     "cellMetadata": {},
     "inputWidgets": {},
     "nuid": "ad8a46f0-8644-4252-967b-03f311355e01",
     "showTitle": false,
     "tableResultSettingsMap": {},
     "title": ""
    }
   },
   "source": [
    "### 💠 Enviando tabela para o Redshift"
   ]
  },
  {
   "cell_type": "code",
   "execution_count": 0,
   "metadata": {
    "application/vnd.databricks.v1+cell": {
     "cellMetadata": {
      "byteLimit": 2048000,
      "rowLimit": 10000
     },
     "inputWidgets": {},
     "nuid": "c075c57e-c86c-49f3-a4d1-bc4179fed541",
     "showTitle": false,
     "tableResultSettingsMap": {},
     "title": ""
    }
   },
   "outputs": [],
   "source": [
    "df_jogadores.write \\\n",
    "    .format(\"jdbc\") \\\n",
    "    .option(\"url\", \"jdbc:redshift://workgroup-brasileirao.296062575004.us-east-2.redshift-serverless.amazonaws.com:5439/dev\") \\\n",
    "    .option(\"dbtable\", \"mart_desempenho_jogadores\") \\\n",
    "    .option(\"user\", \"admin\") \\\n",
    "    .option(\"password\", credentials_dict['redshift_password']) \\\n",
    "    .option(\"driver\", \"com.amazon.redshift.jdbc.Driver\") \\\n",
    "    .mode(\"overwrite\") \\\n",
    "    .save()"
   ]
  },
  {
   "cell_type": "markdown",
   "metadata": {
    "application/vnd.databricks.v1+cell": {
     "cellMetadata": {},
     "inputWidgets": {},
     "nuid": "9e3e6939-8d2e-451d-a449-a0fcc8338bf1",
     "showTitle": false,
     "tableResultSettingsMap": {},
     "title": ""
    }
   },
   "source": [
    "## 🔶 Classificacao_Tier"
   ]
  },
  {
   "cell_type": "markdown",
   "metadata": {
    "application/vnd.databricks.v1+cell": {
     "cellMetadata": {},
     "inputWidgets": {},
     "nuid": "20ea448f-1ca4-4372-9948-1437d796c972",
     "showTitle": false,
     "tableResultSettingsMap": {},
     "title": ""
    }
   },
   "source": [
    "### 🔹 Lendo arquivo na camada Ouro"
   ]
  },
  {
   "cell_type": "code",
   "execution_count": 0,
   "metadata": {
    "application/vnd.databricks.v1+cell": {
     "cellMetadata": {
      "byteLimit": 2048000,
      "rowLimit": 10000
     },
     "inputWidgets": {},
     "nuid": "7f6906b5-3c7b-4e41-ada6-03fd45bcb5ac",
     "showTitle": false,
     "tableResultSettingsMap": {},
     "title": ""
    }
   },
   "outputs": [],
   "source": [
    "df_class_tier = spark.read.parquet(\"s3a://mvp-brasileirao-2024/gold/Classificacao_Tier\")"
   ]
  },
  {
   "cell_type": "markdown",
   "metadata": {
    "application/vnd.databricks.v1+cell": {
     "cellMetadata": {},
     "inputWidgets": {},
     "nuid": "85daaa29-e127-489e-b88e-18771e62c15d",
     "showTitle": false,
     "tableResultSettingsMap": {},
     "title": ""
    }
   },
   "source": [
    "### 💠 Enviando tabela para o Redshift"
   ]
  },
  {
   "cell_type": "code",
   "execution_count": 0,
   "metadata": {
    "application/vnd.databricks.v1+cell": {
     "cellMetadata": {
      "byteLimit": 2048000,
      "rowLimit": 10000
     },
     "inputWidgets": {},
     "nuid": "b3bcc5f3-e41c-4d2a-ab15-153f9bd6d8c9",
     "showTitle": false,
     "tableResultSettingsMap": {},
     "title": ""
    }
   },
   "outputs": [],
   "source": [
    "df_class_tier.write \\\n",
    "    .format(\"jdbc\") \\\n",
    "    .option(\"url\", \"jdbc:redshift://workgroup-brasileirao.296062575004.us-east-2.redshift-serverless.amazonaws.com:5439/dev\") \\\n",
    "    .option(\"dbtable\", \"mart_classificacao_tier\") \\\n",
    "    .option(\"user\", \"admin\") \\\n",
    "    .option(\"password\", credentials_dict['redshift_password']) \\\n",
    "    .option(\"driver\", \"com.amazon.redshift.jdbc.Driver\") \\\n",
    "    .mode(\"overwrite\") \\\n",
    "    .save()"
   ]
  },
  {
   "cell_type": "markdown",
   "metadata": {
    "application/vnd.databricks.v1+cell": {
     "cellMetadata": {},
     "inputWidgets": {},
     "nuid": "69c94d2b-952d-4fc5-9928-7f832bc2aaa5",
     "showTitle": false,
     "tableResultSettingsMap": {},
     "title": ""
    }
   },
   "source": [
    "## 🔶 todas_partidas"
   ]
  },
  {
   "cell_type": "markdown",
   "metadata": {
    "application/vnd.databricks.v1+cell": {
     "cellMetadata": {},
     "inputWidgets": {},
     "nuid": "cb7dc2ee-e8aa-482b-be46-9e2167c3429e",
     "showTitle": false,
     "tableResultSettingsMap": {},
     "title": ""
    }
   },
   "source": [
    "### 🔹 Lendo arquivo na camada Ouro"
   ]
  },
  {
   "cell_type": "code",
   "execution_count": 0,
   "metadata": {
    "application/vnd.databricks.v1+cell": {
     "cellMetadata": {
      "byteLimit": 2048000,
      "rowLimit": 10000
     },
     "inputWidgets": {},
     "nuid": "2bef9630-2c06-4532-a509-104caeb10b7d",
     "showTitle": false,
     "tableResultSettingsMap": {},
     "title": ""
    }
   },
   "outputs": [],
   "source": [
    "df_todas_partidas = spark.read.parquet(\"s3a://mvp-brasileirao-2024/gold/todas_partidas\")"
   ]
  },
  {
   "cell_type": "code",
   "execution_count": 0,
   "metadata": {
    "application/vnd.databricks.v1+cell": {
     "cellMetadata": {
      "byteLimit": 2048000,
      "rowLimit": 10000
     },
     "inputWidgets": {},
     "nuid": "98b4e52b-9233-4250-8589-1433e7188e19",
     "showTitle": true,
     "tableResultSettingsMap": {},
     "title": "💠 Enviando tabela para o Redshift"
    }
   },
   "outputs": [],
   "source": [
    "df_todas_partidas.write \\\n",
    "    .format(\"jdbc\") \\\n",
    "    .option(\"url\", \"jdbc:redshift://workgroup-brasileirao.296062575004.us-east-2.redshift-serverless.amazonaws.com:5439/dev\") \\\n",
    "    .option(\"dbtable\", \"mart_todas_partidas\") \\\n",
    "    .option(\"user\", \"admin\") \\\n",
    "    .option(\"password\", credentials_dict['redshift_password']) \\\n",
    "    .option(\"driver\", \"com.amazon.redshift.jdbc.Driver\") \\\n",
    "    .mode(\"overwrite\") \\\n",
    "    .save()"
   ]
  },
  {
   "cell_type": "markdown",
   "metadata": {
    "application/vnd.databricks.v1+cell": {
     "cellMetadata": {},
     "inputWidgets": {},
     "nuid": "f0400973-dd82-43a9-a28c-562cf7220284",
     "showTitle": false,
     "tableResultSettingsMap": {},
     "title": ""
    }
   },
   "source": [
    "## 🔶 info_jogadores"
   ]
  },
  {
   "cell_type": "markdown",
   "metadata": {
    "application/vnd.databricks.v1+cell": {
     "cellMetadata": {},
     "inputWidgets": {},
     "nuid": "bbe2a44c-13b5-4f54-948f-6b303df7fb71",
     "showTitle": false,
     "tableResultSettingsMap": {},
     "title": ""
    }
   },
   "source": [
    "### 🔹 Lendo arquivo na camada Ouro"
   ]
  },
  {
   "cell_type": "code",
   "execution_count": 0,
   "metadata": {
    "application/vnd.databricks.v1+cell": {
     "cellMetadata": {
      "byteLimit": 2048000,
      "rowLimit": 10000
     },
     "inputWidgets": {},
     "nuid": "c18f0b5a-915e-4b43-816d-e92fb379c2d1",
     "showTitle": false,
     "tableResultSettingsMap": {},
     "title": ""
    }
   },
   "outputs": [],
   "source": [
    "df_Mart_Info_Jogadores = spark.read.parquet(\"s3a://mvp-brasileirao-2024/gold/Mart_Info_Jogadores\")"
   ]
  },
  {
   "cell_type": "markdown",
   "metadata": {
    "application/vnd.databricks.v1+cell": {
     "cellMetadata": {},
     "inputWidgets": {},
     "nuid": "72c14a39-ef8c-45e4-b0fb-3c5eba6ba9b4",
     "showTitle": false,
     "tableResultSettingsMap": {},
     "title": ""
    }
   },
   "source": [
    "### 💠 Enviando tabela para o Redshift"
   ]
  },
  {
   "cell_type": "code",
   "execution_count": 0,
   "metadata": {
    "application/vnd.databricks.v1+cell": {
     "cellMetadata": {
      "byteLimit": 2048000,
      "rowLimit": 10000
     },
     "inputWidgets": {},
     "nuid": "4057be37-3d67-4856-8fd6-630457846362",
     "showTitle": false,
     "tableResultSettingsMap": {},
     "title": ""
    }
   },
   "outputs": [],
   "source": [
    "df_Mart_Info_Jogadores.write \\\n",
    "    .format(\"jdbc\") \\\n",
    "    .option(\"url\", \"jdbc:redshift://workgroup-brasileirao.296062575004.us-east-2.redshift-serverless.amazonaws.com:5439/dev\") \\\n",
    "    .option(\"dbtable\", \"mart_info_jogadores\") \\\n",
    "    .option(\"user\", \"admin\") \\\n",
    "    .option(\"password\", credentials_dict['redshift_password']) \\\n",
    "    .option(\"driver\", \"com.amazon.redshift.jdbc.Driver\") \\\n",
    "    .mode(\"overwrite\") \\\n",
    "    .save()"
   ]
  }
 ],
 "metadata": {
  "application/vnd.databricks.v1+notebook": {
   "computePreferences": null,
   "dashboards": [],
   "environmentMetadata": {
    "base_environment": "",
    "environment_version": "1"
   },
   "inputWidgetPreferences": null,
   "language": "python",
   "notebookMetadata": {
    "pythonIndentUnit": 4
   },
   "notebookName": "05-Carregamento-DW-Redshift.ipynb",
   "widgets": {}
  }
 },
 "nbformat": 4,
 "nbformat_minor": 0
}
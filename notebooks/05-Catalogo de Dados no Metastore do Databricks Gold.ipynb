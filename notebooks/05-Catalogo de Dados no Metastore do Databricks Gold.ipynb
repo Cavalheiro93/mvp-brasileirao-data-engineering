{
 "cells": [
  {
   "cell_type": "markdown",
   "metadata": {
    "application/vnd.databricks.v1+cell": {
     "cellMetadata": {
      "byteLimit": 2048000,
      "rowLimit": 10000
     },
     "inputWidgets": {},
     "nuid": "b7dc1355-b925-4eb7-ba6c-02ba814cc297",
     "showTitle": false,
     "tableResultSettingsMap": {},
     "title": ""
    }
   },
   "source": [
    "# 🔶 Passo a Passo: Criando o Catálogo no Metastore do Databricks - Gold\n",
    "\n",
    "- 1️⃣ Criar um Database no Metastore\n",
    "- 2️⃣ Registrar a Tabela Delta no Metastore\n",
    "- 3️⃣ Validar se a tabela foi registrada corretamente"
   ]
  },
  {
   "cell_type": "markdown",
   "metadata": {
    "application/vnd.databricks.v1+cell": {
     "cellMetadata": {
      "byteLimit": 2048000,
      "rowLimit": 10000
     },
     "inputWidgets": {},
     "nuid": "bc29de2e-db62-4bcc-97c2-f35b8e5b2723",
     "showTitle": false,
     "tableResultSettingsMap": {},
     "title": ""
    }
   },
   "source": [
    "### 🔹 1. Criar um Database no Metastore do Databricks\n",
    "\n",
    "No Databricks, as tabelas são organizadas dentro de um Database. Vamos criar um database específico para armazenar os metadados.\n",
    "\n",
    "\n"
   ]
  },
  {
   "cell_type": "code",
   "execution_count": 0,
   "metadata": {
    "application/vnd.databricks.v1+cell": {
     "cellMetadata": {
      "byteLimit": 2048000,
      "rowLimit": 10000
     },
     "collapsed": true,
     "inputWidgets": {},
     "nuid": "293d8b05-914a-470c-8ff5-8001b9f44e55",
     "showTitle": false,
     "tableResultSettingsMap": {},
     "title": ""
    }
   },
   "outputs": [],
   "source": [
    "%run \"./00-Configuracao\""
   ]
  },
  {
   "cell_type": "code",
   "execution_count": 0,
   "metadata": {
    "application/vnd.databricks.v1+cell": {
     "cellMetadata": {
      "byteLimit": 2048000,
      "implicitDf": true,
      "rowLimit": 10000
     },
     "inputWidgets": {},
     "nuid": "1d949b5a-afbf-4b0b-838e-d9540a35c861",
     "showTitle": false,
     "tableResultSettingsMap": {},
     "title": ""
    }
   },
   "outputs": [
    {
     "data": {
      "text/html": [
       "<style scoped>\n",
       "  .table-result-container {\n",
       "    max-height: 300px;\n",
       "    overflow: auto;\n",
       "  }\n",
       "  table, th, td {\n",
       "    border: 1px solid black;\n",
       "    border-collapse: collapse;\n",
       "  }\n",
       "  th, td {\n",
       "    padding: 5px;\n",
       "  }\n",
       "  th {\n",
       "    text-align: left;\n",
       "  }\n",
       "</style><div class='table-result-container'><table class='table-result'><thead style='background-color: white'><tr></tr></thead><tbody></tbody></table></div>"
      ]
     },
     "metadata": {
      "application/vnd.databricks.v1+output": {
       "addedWidgets": {},
       "aggData": [],
       "aggError": "",
       "aggOverflow": false,
       "aggSchema": [],
       "aggSeriesLimitReached": false,
       "aggType": "",
       "arguments": {},
       "columnCustomDisplayInfos": {},
       "data": [],
       "datasetInfos": [],
       "dbfsResultPath": null,
       "isJsonSchema": true,
       "metadata": {},
       "overflow": false,
       "plotOptions": {
        "customPlotOptions": {},
        "displayType": "table",
        "pivotAggregation": null,
        "pivotColumns": null,
        "xColumns": null,
        "yColumns": null
       },
       "removedWidgets": [],
       "schema": [],
       "type": "table"
      }
     },
     "output_type": "display_data"
    },
    {
     "name": "stdout",
     "output_type": "stream",
     "text": [
      "Leitura das credenciais de forma segura pelo Spark 🔐\n"
     ]
    },
    {
     "name": "stdout",
     "output_type": "stream",
     "text": [
      "Caminhos definidos:\n",
      "📂 Bronze: s3a://mvp-brasileirao-2024/bronze/ | 📂 Silver: s3a://mvp-brasileirao-2024/silver/ | 📂 Gold: s3a://mvp-brasileirao-2024/gold/\n"
     ]
    },
    {
     "name": "stdout",
     "output_type": "stream",
     "text": [
      "✅ Credenciais configuradas com sucesso!\n"
     ]
    }
   ],
   "source": [
    "%sql\n",
    "CREATE DATABASE IF NOT EXISTS catalogo_de_dados\n",
    "LOCATION 's3://mvp-brasileirao-2024/gold/catalogo_de_dados';\n",
    "\n",
    "CREATE DATABASE IF NOT EXISTS marts_mvp_brasileirao"
   ]
  },
  {
   "cell_type": "markdown",
   "metadata": {
    "application/vnd.databricks.v1+cell": {
     "cellMetadata": {},
     "inputWidgets": {},
     "nuid": "c2df88b3-ea08-4e28-b9c9-2fe582bad366",
     "showTitle": false,
     "tableResultSettingsMap": {},
     "title": ""
    }
   },
   "source": [
    "\n",
    "### 🔹 Registro das Tabela no Metastore"
   ]
  },
  {
   "cell_type": "code",
   "execution_count": 0,
   "metadata": {
    "application/vnd.databricks.v1+cell": {
     "cellMetadata": {
      "byteLimit": 2048000,
      "implicitDf": true,
      "rowLimit": 10000
     },
     "inputWidgets": {},
     "nuid": "819480f3-d956-47a5-ac45-6e7dbb7cd96e",
     "showTitle": false,
     "tableResultSettingsMap": {},
     "title": ""
    }
   },
   "outputs": [
    {
     "data": {
      "text/html": [
       "<style scoped>\n",
       "  .table-result-container {\n",
       "    max-height: 300px;\n",
       "    overflow: auto;\n",
       "  }\n",
       "  table, th, td {\n",
       "    border: 1px solid black;\n",
       "    border-collapse: collapse;\n",
       "  }\n",
       "  th, td {\n",
       "    padding: 5px;\n",
       "  }\n",
       "  th {\n",
       "    text-align: left;\n",
       "  }\n",
       "</style><div class='table-result-container'><table class='table-result'><thead style='background-color: white'><tr></tr></thead><tbody></tbody></table></div>"
      ]
     },
     "metadata": {
      "application/vnd.databricks.v1+output": {
       "addedWidgets": {},
       "aggData": [],
       "aggError": "",
       "aggOverflow": false,
       "aggSchema": [],
       "aggSeriesLimitReached": false,
       "aggType": "",
       "arguments": {},
       "columnCustomDisplayInfos": {},
       "data": [],
       "datasetInfos": [],
       "dbfsResultPath": null,
       "isJsonSchema": true,
       "metadata": {},
       "overflow": false,
       "plotOptions": {
        "customPlotOptions": {},
        "displayType": "table",
        "pivotAggregation": null,
        "pivotColumns": null,
        "xColumns": null,
        "yColumns": null
       },
       "removedWidgets": [],
       "schema": [],
       "type": "table"
      }
     },
     "output_type": "display_data"
    }
   ],
   "source": [
    "%sql\n",
    "CREATE TABLE IF NOT EXISTS marts_mvp_brasileirao.classificacao_tier\n",
    "USING PARQUET\n",
    "LOCATION 's3a://mvp-brasileirao-2024/gold/Classificacao_Tier';\n",
    "\n",
    "CREATE TABLE IF NOT EXISTS marts_mvp_brasileirao.desempenho_clubes\n",
    "USING PARQUET\n",
    "LOCATION 's3a://mvp-brasileirao-2024/gold/Mart_Desempenho_Clubes';\n",
    "\n",
    "CREATE TABLE IF NOT EXISTS marts_mvp_brasileirao.desempenho_jogadores\n",
    "USING PARQUET\n",
    "LOCATION 's3a://mvp-brasileirao-2024/gold/Mart_Desempenho_Jogadores';\n",
    "\n",
    "CREATE TABLE IF NOT EXISTS marts_mvp_brasileirao.informacao_jogadores\n",
    "USING PARQUET\n",
    "LOCATION 's3a://mvp-brasileirao-2024/gold/Mart_Info_Jogadores';\n",
    "\n",
    "CREATE TABLE IF NOT EXISTS marts_mvp_brasileirao.todas_partidas\n",
    "USING PARQUET\n",
    "LOCATION 's3a://mvp-brasileirao-2024/gold/todas_partidas';"
   ]
  },
  {
   "cell_type": "markdown",
   "metadata": {
    "application/vnd.databricks.v1+cell": {
     "cellMetadata": {
      "byteLimit": 2048000,
      "rowLimit": 10000
     },
     "inputWidgets": {},
     "nuid": "96aee06b-8287-4ee6-9e5b-211441faab8f",
     "showTitle": false,
     "tableResultSettingsMap": {},
     "title": ""
    }
   },
   "source": [
    "### 🔹 3. Validar o Registro no Metastore\n",
    "\n",
    "Agora, vamos verificar se a tabela foi registrada corretamente.\n",
    "\n"
   ]
  },
  {
   "cell_type": "code",
   "execution_count": 0,
   "metadata": {
    "application/vnd.databricks.v1+cell": {
     "cellMetadata": {
      "byteLimit": 2048000,
      "implicitDf": true,
      "rowLimit": 10000
     },
     "inputWidgets": {},
     "nuid": "d555f0df-53a9-42f7-a8bc-6a9d0245b1c9",
     "showTitle": false,
     "tableResultSettingsMap": {},
     "title": ""
    }
   },
   "outputs": [
    {
     "data": {
      "text/html": [
       "<style scoped>\n",
       "  .table-result-container {\n",
       "    max-height: 300px;\n",
       "    overflow: auto;\n",
       "  }\n",
       "  table, th, td {\n",
       "    border: 1px solid black;\n",
       "    border-collapse: collapse;\n",
       "  }\n",
       "  th, td {\n",
       "    padding: 5px;\n",
       "  }\n",
       "  th {\n",
       "    text-align: left;\n",
       "  }\n",
       "</style><div class='table-result-container'><table class='table-result'><thead style='background-color: white'><tr><th>database</th><th>tableName</th><th>isTemporary</th></tr></thead><tbody><tr><td>marts_mvp_brasileirao</td><td>classificacao_tier</td><td>false</td></tr><tr><td>marts_mvp_brasileirao</td><td>desempenho_clubes</td><td>false</td></tr><tr><td>marts_mvp_brasileirao</td><td>desempenho_jogadores</td><td>false</td></tr><tr><td>marts_mvp_brasileirao</td><td>informacao_jogadores</td><td>false</td></tr><tr><td>marts_mvp_brasileirao</td><td>todas_partidas</td><td>false</td></tr></tbody></table></div>"
      ]
     },
     "metadata": {
      "application/vnd.databricks.v1+output": {
       "addedWidgets": {},
       "aggData": [],
       "aggError": "",
       "aggOverflow": false,
       "aggSchema": [],
       "aggSeriesLimitReached": false,
       "aggType": "",
       "arguments": {},
       "columnCustomDisplayInfos": {},
       "data": [
        [
         "marts_mvp_brasileirao",
         "classificacao_tier",
         false
        ],
        [
         "marts_mvp_brasileirao",
         "desempenho_clubes",
         false
        ],
        [
         "marts_mvp_brasileirao",
         "desempenho_jogadores",
         false
        ],
        [
         "marts_mvp_brasileirao",
         "informacao_jogadores",
         false
        ],
        [
         "marts_mvp_brasileirao",
         "todas_partidas",
         false
        ]
       ],
       "datasetInfos": [],
       "dbfsResultPath": null,
       "isJsonSchema": true,
       "metadata": {},
       "overflow": false,
       "plotOptions": {
        "customPlotOptions": {},
        "displayType": "table",
        "pivotAggregation": null,
        "pivotColumns": null,
        "xColumns": null,
        "yColumns": null
       },
       "removedWidgets": [],
       "schema": [
        {
         "metadata": "{}",
         "name": "database",
         "type": "\"string\""
        },
        {
         "metadata": "{}",
         "name": "tableName",
         "type": "\"string\""
        },
        {
         "metadata": "{}",
         "name": "isTemporary",
         "type": "\"boolean\""
        }
       ],
       "type": "table"
      }
     },
     "output_type": "display_data"
    }
   ],
   "source": [
    "%sql\n",
    "SHOW TABLES IN marts_mvp_brasileirao;"
   ]
  },
  {
   "cell_type": "markdown",
   "metadata": {
    "application/vnd.databricks.v1+cell": {
     "cellMetadata": {
      "byteLimit": 2048000,
      "rowLimit": 10000
     },
     "inputWidgets": {},
     "nuid": "5f00e134-7ccb-49c1-83a4-2340e8bc3e25",
     "showTitle": false,
     "tableResultSettingsMap": {},
     "title": ""
    }
   },
   "source": [
    "# 🔶 Criação do Catálogo de Dados\n"
   ]
  },
  {
   "cell_type": "markdown",
   "metadata": {
    "application/vnd.databricks.v1+cell": {
     "cellMetadata": {
      "byteLimit": 2048000,
      "rowLimit": 10000
     },
     "inputWidgets": {},
     "nuid": "fb78f82a-971e-4f21-8ab6-3927b6b4d6f4",
     "showTitle": false,
     "tableResultSettingsMap": {},
     "title": ""
    }
   },
   "source": [
    "## 🔷 classificacao_tier"
   ]
  },
  {
   "cell_type": "markdown",
   "metadata": {
    "application/vnd.databricks.v1+cell": {
     "cellMetadata": {},
     "inputWidgets": {},
     "nuid": "521953c4-3a16-4e08-9d55-719d5a973271",
     "showTitle": false,
     "tableResultSettingsMap": {},
     "title": ""
    }
   },
   "source": [
    "### 🔹 Criando o Metadata do dataframe"
   ]
  },
  {
   "cell_type": "code",
   "execution_count": 0,
   "metadata": {
    "application/vnd.databricks.v1+cell": {
     "cellMetadata": {
      "byteLimit": 2048000,
      "rowLimit": 10000
     },
     "inputWidgets": {},
     "nuid": "1b8a6de6-139d-4832-bf30-489f1c4eb633",
     "showTitle": false,
     "tableResultSettingsMap": {},
     "title": ""
    }
   },
   "outputs": [],
   "source": [
    "from pyspark.sql import Row\n",
    "from pyspark.sql.functions import col, count, countDistinct, min, max, sum, expr\n",
    "\n",
    "# Nome da tabela que queremos analisar (mudar para cada dataset da Silver)\n",
    "tabela_gold = \"marts_mvp_brasileirao.classificacao_tier\"\n",
    "\n",
    "# Ler os dados da Silver diretamente do Metastore\n",
    "df = spark.read.table(tabela_gold)\n",
    "\n",
    "# Criar DataFrame com estatísticas (incluindo contagem de nulos correta e duplicatas)\n",
    "metadata_df = df.agg(\n",
    "    *[count(col(c)).alias(f\"{c}_count\") for c in df.columns],  # Contagem total de registros NÃO NULOS\n",
    "    *[countDistinct(col(c)).alias(f\"{c}_distinct\") for c in df.columns],  # Contagem de valores distintos\n",
    "    *[min(col(c)).alias(f\"{c}_min\") for c in df.columns],  # Valor mínimo\n",
    "    *[max(col(c)).alias(f\"{c}_max\") for c in df.columns],  # Valor máximo\n",
    "    *[sum(col(c).isNull().cast(\"int\")).alias(f\"{c}_nulls\") for c in df.columns],  # Contagem correta de nulos\n",
    "    *[(count(col(c)) - countDistinct(col(c))).alias(f\"{c}_duplicates\") for c in df.columns]  # Contagem de valores duplicados\n",
    ")"
   ]
  },
  {
   "cell_type": "markdown",
   "metadata": {
    "application/vnd.databricks.v1+cell": {
     "cellMetadata": {},
     "inputWidgets": {},
     "nuid": "3fac0332-0a91-440c-9a16-7f38267a0f71",
     "showTitle": false,
     "tableResultSettingsMap": {},
     "title": ""
    }
   },
   "source": [
    "### 🔹 Criação do Dicionário de descrições"
   ]
  },
  {
   "cell_type": "code",
   "execution_count": 0,
   "metadata": {
    "application/vnd.databricks.v1+cell": {
     "cellMetadata": {
      "byteLimit": 2048000,
      "rowLimit": 10000
     },
     "inputWidgets": {},
     "nuid": "80aaf5c1-c8f0-4354-b7c1-13c7054a4466",
     "showTitle": false,
     "tableResultSettingsMap": {},
     "title": ""
    }
   },
   "outputs": [],
   "source": [
    "col_descriptions = {\n",
    "    \"posicao\": (\n",
    "        \"Posição final do clube na tabela de classificação do campeonato.\",\n",
    "        \"Renomeação da coluna para padronização.\",\n",
    "        \"Bronze → Silver → Gold\"\n",
    "    ),\n",
    "    \"clube\": (\n",
    "        \"Nome do clube participante do campeonato.\",\n",
    "        \"Renomeação da coluna para padronização. Padronização dos nomes dos clubes para garantir consistência entre os datasets.\",\n",
    "        \"Bronze → Silver → Gold\"\n",
    "    ),\n",
    "    \"pontuacao\": (\n",
    "        \"Total de pontos acumulados pelo clube ao longo da competição.\",\n",
    "        \"Renomeação da coluna para padronização.\",\n",
    "        \"Bronze → Silver → Gold\"\n",
    "    ),\n",
    "    \"tier_clubes\": (\n",
    "        \"Segmento (Tier) do clube com base na posição final (ex.: Tier S, A, B ou C).\",\n",
    "        \"Coluna derivada com base na posição na classificação geral.\",\n",
    "        \"Silver → Gold\"\n",
    "    ),\n",
    "    \"vitorias\": (\n",
    "        \"Quantidade total de vitórias conquistadas pelo clube.\",\n",
    "        \"Renomeação da coluna para padronização.\",\n",
    "        \"Bronze → Silver → Gold\"\n",
    "    ),\n",
    "    \"empates\": (\n",
    "        \"Quantidade total de empates registrados pelo clube.\",\n",
    "        \"Renomeação da coluna para padronização.\",\n",
    "        \"Bronze → Silver → Gold\"\n",
    "    ),\n",
    "    \"derrotas\": (\n",
    "        \"Quantidade total de derrotas sofridas pelo clube.\",\n",
    "        \"Renomeação da coluna para padronização.\",\n",
    "        \"Bronze → Silver → Gold\"\n",
    "    ),\n",
    "    \"gols_marcados\": (\n",
    "        \"Número total de gols marcados pelo clube durante a competição.\",\n",
    "        \"Renomeação da coluna para padronização.\",\n",
    "        \"Bronze → Silver → Gold\"\n",
    "    ),\n",
    "    \"avg_gols_marcados_tier\": (\n",
    "        \"Média de gols marcados pelos clubes do mesmo Tier.\",\n",
    "        \"Cálculo agregado por Tier a partir dos dados da tabela de classificação.\",\n",
    "        \"Silver → Gold\"\n",
    "    ),\n",
    "    \"avg_gols_marcados_geral\": (\n",
    "        \"Média geral de gols marcados por todos os clubes da competição.\",\n",
    "        \"Cálculo agregado geral com base nos dados de gols marcados.\",\n",
    "        \"Silver → Gold\"\n",
    "    ),\n",
    "    \"gols_sofridos\": (\n",
    "        \"Número total de gols sofridos pelo clube durante a competição.\",\n",
    "        \"Renomeação da coluna para padronização.\",\n",
    "        \"Bronze → Silver → Gold\"\n",
    "    ),\n",
    "    \"avg_gols_sofridos_tier\": (\n",
    "        \"Média de gols sofridos pelos clubes do mesmo Tier.\",\n",
    "        \"Cálculo agregado por Tier a partir dos dados da tabela de classificação.\",\n",
    "        \"Silver → Gold\"\n",
    "    ),\n",
    "    \"avg_gols_sofridos_geral\": (\n",
    "        \"Média geral de gols sofridos por todos os clubes da competição.\",\n",
    "        \"Cálculo agregado geral com base nos dados de gols sofridos.\",\n",
    "        \"Silver → Gold\"\n",
    "    )\n",
    "}\n"
   ]
  },
  {
   "cell_type": "markdown",
   "metadata": {
    "application/vnd.databricks.v1+cell": {
     "cellMetadata": {},
     "inputWidgets": {},
     "nuid": "ec94b11e-7adc-47fc-a966-3c410ce2f367",
     "showTitle": false,
     "tableResultSettingsMap": {},
     "title": ""
    }
   },
   "source": [
    "### 🔹 Criando o Dataframe do Catálogo"
   ]
  },
  {
   "cell_type": "code",
   "execution_count": 0,
   "metadata": {
    "application/vnd.databricks.v1+cell": {
     "cellMetadata": {
      "byteLimit": 2048000,
      "rowLimit": 10000
     },
     "inputWidgets": {},
     "nuid": "9748cebe-c809-4c59-bd58-5c3d6f2f1ea4",
     "showTitle": false,
     "tableResultSettingsMap": {},
     "title": ""
    }
   },
   "outputs": [],
   "source": [
    "# Criar lista de metadados para o Catálogo de Dados\n",
    "catalog_data = []\n",
    "\n",
    "# Iterar sobre as colunas da tabela Silver\n",
    "for index, col_name in enumerate(df.columns, start=1):\n",
    "    col_type = df.select(col(col_name)).schema.fields[0].dataType.simpleString()  # Tipo da coluna\n",
    "    col_count = metadata_df.collect()[0][f\"{col_name}_count\"]  # Contagem total (não nulos)\n",
    "    col_distinct = metadata_df.collect()[0][f\"{col_name}_distinct\"]  # Valores distintos\n",
    "    col_nulls = metadata_df.collect()[0][f\"{col_name}_nulls\"]  # Contagem correta de valores nulos\n",
    "    col_min = metadata_df.collect()[0][f\"{col_name}_min\"] if f\"{col_name}_min\" in metadata_df.columns else \"N/A\"\n",
    "    col_max = metadata_df.collect()[0][f\"{col_name}_max\"] if f\"{col_name}_max\" in metadata_df.columns else \"N/A\"\n",
    "    col_duplicates = metadata_df.collect()[0][f\"{col_name}_duplicates\"] if f\"{col_name}_duplicates\" in metadata_df.columns else 0  # Contagem de duplicados\n",
    "\n",
    "    # Buscar definição, regra de transformação e linhagem dos dados no dicionário\n",
    "    col_definition, transformations_applied, lineage_info = col_descriptions.get(\n",
    "        col_name, (f\"Descrição da coluna {col_name}\", \"Nenhuma alteração aplicada.\", \"Origem desconhecida\")\n",
    "    )\n",
    "\n",
    "    # Definir observações sobre a coluna (pode ser preenchido manualmente se necessário)\n",
    "    comments = \"Sem observações adicionais.\"\n",
    "\n",
    "    # Adicionar à lista\n",
    "    catalog_data.append(Row(ID_Coluna=index,\n",
    "                            Coluna=col_name, \n",
    "                            Tipo_de_Dado=col_type, \n",
    "                            Definição=col_definition,\n",
    "                            Valores_Min_Max=f\"{col_min} | {col_max}\", \n",
    "                            Qtd_Valores_Registrados=col_count,\n",
    "                            Qtd_Valores_Nulos=col_nulls,\n",
    "                            Qtd_Valores_Distintos=col_distinct,\n",
    "                            Qtd_Valores_Duplicados=col_duplicates,\n",
    "                            Regras_de_Transformação=transformations_applied,\n",
    "                            Linhagem_Dados=lineage_info,  # ✅ Agora vem direto do dicionário!\n",
    "                            Observacoes=comments,\n",
    "                            Fonte=\"Tabela criada manualmente com base na classificação do Campeonato Brasileiro 2024 disponível no site da CNN Brasil\",\n",
    "                            Link_Fonte=\"https://www.cnnbrasil.com.br/esportes/futebol/tabela-do-brasileirao/\",\n",
    "                            Arquivo_Original=\"classificacao_brasileirao_2024.csv\",\n",
    "                            Arquivo_S3=\"s3://mvp-brasileirao-2024/Gold/Classificacao_Tier/\"\n",
    "                            ))                            \n",
    "\n",
    "# Criar o DataFrame do Catálogo de Dados\n",
    "catalog_df = spark.createDataFrame(catalog_data)\n"
   ]
  },
  {
   "cell_type": "markdown",
   "metadata": {
    "application/vnd.databricks.v1+cell": {
     "cellMetadata": {},
     "inputWidgets": {},
     "nuid": "7f9506b1-fcd1-4fa2-89a7-434c8681a6c7",
     "showTitle": false,
     "tableResultSettingsMap": {},
     "title": ""
    }
   },
   "source": [
    "### 🔹 Salvando o Catálogo no S3 camada Gold"
   ]
  },
  {
   "cell_type": "code",
   "execution_count": 0,
   "metadata": {
    "application/vnd.databricks.v1+cell": {
     "cellMetadata": {
      "byteLimit": 2048000,
      "rowLimit": 10000
     },
     "inputWidgets": {},
     "nuid": "4b5d84d3-0724-44b6-b60c-407bcaa2874b",
     "showTitle": false,
     "tableResultSettingsMap": {},
     "title": ""
    }
   },
   "outputs": [
    {
     "name": "stdout",
     "output_type": "stream",
     "text": [
      "🚨 Arquivos antigos do Delta removidos com sucesso!\n",
      "✅ Catálogo Estatístico salvo no formato Delta com sucesso!\n"
     ]
    }
   ],
   "source": [
    "# Caminho no S3 para salvar o Catálogo Estatístico\n",
    "delta_catalogo_estatistico_path = \"s3://mvp-brasileirao-2024/gold/catalogo_de_dados/classificacao_tier\"\n",
    "\n",
    "dbutils.fs.rm(delta_catalogo_estatistico_path, recurse=True)\n",
    "print(\"🚨 Arquivos antigos do Delta removidos com sucesso!\")\n",
    "\n",
    "# Salvar a tabela Delta com as estatísticas\n",
    "catalog_df.write.format(\"delta\").mode(\"overwrite\").save(delta_catalogo_estatistico_path)\n",
    "\n",
    "print(\"✅ Catálogo Estatístico salvo no formato Delta com sucesso!\")"
   ]
  },
  {
   "cell_type": "markdown",
   "metadata": {
    "application/vnd.databricks.v1+cell": {
     "cellMetadata": {},
     "inputWidgets": {},
     "nuid": "784d811b-d21b-4f3e-aa3a-2ee735c96886",
     "showTitle": false,
     "tableResultSettingsMap": {},
     "title": ""
    }
   },
   "source": [
    "### 🔹 Criando Tabela de Catálogos no Hive"
   ]
  },
  {
   "cell_type": "code",
   "execution_count": 0,
   "metadata": {
    "application/vnd.databricks.v1+cell": {
     "cellMetadata": {
      "byteLimit": 2048000,
      "implicitDf": true,
      "rowLimit": 10000
     },
     "inputWidgets": {},
     "nuid": "a68971f7-6fc5-474d-9d7e-0b0703485ed3",
     "showTitle": false,
     "tableResultSettingsMap": {},
     "title": ""
    }
   },
   "outputs": [
    {
     "data": {
      "text/html": [
       "<style scoped>\n",
       "  .table-result-container {\n",
       "    max-height: 300px;\n",
       "    overflow: auto;\n",
       "  }\n",
       "  table, th, td {\n",
       "    border: 1px solid black;\n",
       "    border-collapse: collapse;\n",
       "  }\n",
       "  th, td {\n",
       "    padding: 5px;\n",
       "  }\n",
       "  th {\n",
       "    text-align: left;\n",
       "  }\n",
       "</style><div class='table-result-container'><table class='table-result'><thead style='background-color: white'><tr></tr></thead><tbody></tbody></table></div>"
      ]
     },
     "metadata": {
      "application/vnd.databricks.v1+output": {
       "addedWidgets": {},
       "aggData": [],
       "aggError": "",
       "aggOverflow": false,
       "aggSchema": [],
       "aggSeriesLimitReached": false,
       "aggType": "",
       "arguments": {},
       "columnCustomDisplayInfos": {},
       "data": [],
       "datasetInfos": [],
       "dbfsResultPath": null,
       "isJsonSchema": true,
       "metadata": {},
       "overflow": false,
       "plotOptions": {
        "customPlotOptions": {},
        "displayType": "table",
        "pivotAggregation": null,
        "pivotColumns": null,
        "xColumns": null,
        "yColumns": null
       },
       "removedWidgets": [],
       "schema": [],
       "type": "table"
      }
     },
     "output_type": "display_data"
    }
   ],
   "source": [
    "%sql\n",
    "DROP TABLE IF EXISTS catalogo_de_dados.catalog_classificacao_tier;\n",
    "\n",
    "CREATE TABLE catalogo_de_dados.catalog_classificacao_tier\n",
    "USING DELTA\n",
    "LOCATION 's3://mvp-brasileirao-2024/gold/catalogo_de_dados/classificacao_tier';"
   ]
  },
  {
   "cell_type": "markdown",
   "metadata": {
    "application/vnd.databricks.v1+cell": {
     "cellMetadata": {},
     "inputWidgets": {},
     "nuid": "a8f45938-9b48-49ad-bde4-49de8dcbb606",
     "showTitle": false,
     "tableResultSettingsMap": {},
     "title": ""
    }
   },
   "source": [
    "### 🔹 Exibindo o Catálogo de Dados via SQL"
   ]
  },
  {
   "cell_type": "code",
   "execution_count": 0,
   "metadata": {
    "application/vnd.databricks.v1+cell": {
     "cellMetadata": {
      "byteLimit": 2048000,
      "implicitDf": true,
      "rowLimit": 10000
     },
     "inputWidgets": {},
     "nuid": "22f7bd8e-8757-42b6-b148-ac33c76de8a0",
     "showTitle": false,
     "tableResultSettingsMap": {},
     "title": ""
    }
   },
   "outputs": [
    {
     "data": {
      "text/html": [
       "<style scoped>\n",
       "  .table-result-container {\n",
       "    max-height: 300px;\n",
       "    overflow: auto;\n",
       "  }\n",
       "  table, th, td {\n",
       "    border: 1px solid black;\n",
       "    border-collapse: collapse;\n",
       "  }\n",
       "  th, td {\n",
       "    padding: 5px;\n",
       "  }\n",
       "  th {\n",
       "    text-align: left;\n",
       "  }\n",
       "</style><div class='table-result-container'><table class='table-result'><thead style='background-color: white'><tr><th>ID_Coluna</th><th>Coluna</th><th>Tipo_de_Dado</th><th>Definição</th><th>Valores_Min_Max</th><th>Qtd_Valores_Registrados</th><th>Qtd_Valores_Nulos</th><th>Qtd_Valores_Distintos</th><th>Qtd_Valores_Duplicados</th><th>Regras_de_Transformação</th><th>Linhagem_Dados</th><th>Observacoes</th><th>Fonte</th><th>Link_Fonte</th><th>Arquivo_Original</th><th>Arquivo_S3</th></tr></thead><tbody><tr><td>12</td><td>avg_gols_sofridos_tier</td><td>double</td><td>Média de gols sofridos pelos clubes do mesmo Tier.</td><td>35.8 | 52.4</td><td>20</td><td>0</td><td>4</td><td>16</td><td>Cálculo agregado por Tier a partir dos dados da tabela de classificação.</td><td>Silver → Gold</td><td>Sem observações adicionais.</td><td>Tabela criada manualmente com base na classificação do Campeonato Brasileiro 2024 disponível no site da CNN Brasil</td><td>https://www.cnnbrasil.com.br/esportes/futebol/tabela-do-brasileirao/</td><td>classificacao_brasileirao_2024.csv</td><td>s3://mvp-brasileirao-2024/Gold/Classificacao_Tier/</td></tr><tr><td>13</td><td>avg_gols_sofridos_geral</td><td>double</td><td>Média geral de gols sofridos por todos os clubes da competição.</td><td>46.45 | 46.45</td><td>20</td><td>0</td><td>1</td><td>19</td><td>Cálculo agregado geral com base nos dados de gols sofridos.</td><td>Silver → Gold</td><td>Sem observações adicionais.</td><td>Tabela criada manualmente com base na classificação do Campeonato Brasileiro 2024 disponível no site da CNN Brasil</td><td>https://www.cnnbrasil.com.br/esportes/futebol/tabela-do-brasileirao/</td><td>classificacao_brasileirao_2024.csv</td><td>s3://mvp-brasileirao-2024/Gold/Classificacao_Tier/</td></tr><tr><td>2</td><td>clube</td><td>string</td><td>Nome do clube participante do campeonato.</td><td>Athletico-PR | Vasco da Gama</td><td>20</td><td>0</td><td>20</td><td>0</td><td>Renomeação da coluna para padronização. Padronização dos nomes dos clubes para garantir consistência entre os datasets.</td><td>Bronze → Silver → Gold</td><td>Sem observações adicionais.</td><td>Tabela criada manualmente com base na classificação do Campeonato Brasileiro 2024 disponível no site da CNN Brasil</td><td>https://www.cnnbrasil.com.br/esportes/futebol/tabela-do-brasileirao/</td><td>classificacao_brasileirao_2024.csv</td><td>s3://mvp-brasileirao-2024/Gold/Classificacao_Tier/</td></tr><tr><td>3</td><td>pontuacao</td><td>int</td><td>Total de pontos acumulados pelo clube ao longo da competição.</td><td>30 | 79</td><td>20</td><td>0</td><td>17</td><td>3</td><td>Renomeação da coluna para padronização.</td><td>Bronze → Silver → Gold</td><td>Sem observações adicionais.</td><td>Tabela criada manualmente com base na classificação do Campeonato Brasileiro 2024 disponível no site da CNN Brasil</td><td>https://www.cnnbrasil.com.br/esportes/futebol/tabela-do-brasileirao/</td><td>classificacao_brasileirao_2024.csv</td><td>s3://mvp-brasileirao-2024/Gold/Classificacao_Tier/</td></tr><tr><td>4</td><td>tier_clubes</td><td>string</td><td>Segmento (Tier) do clube com base na posição final (ex.: Tier S, A, B ou C).</td><td>TIER A | TIER S</td><td>20</td><td>0</td><td>4</td><td>16</td><td>Coluna derivada com base na posição na classificação geral.</td><td>Silver → Gold</td><td>Sem observações adicionais.</td><td>Tabela criada manualmente com base na classificação do Campeonato Brasileiro 2024 disponível no site da CNN Brasil</td><td>https://www.cnnbrasil.com.br/esportes/futebol/tabela-do-brasileirao/</td><td>classificacao_brasileirao_2024.csv</td><td>s3://mvp-brasileirao-2024/Gold/Classificacao_Tier/</td></tr><tr><td>7</td><td>derrotas</td><td>int</td><td>Quantidade total de derrotas sofridas pelo clube.</td><td>5 | 22</td><td>20</td><td>0</td><td>12</td><td>8</td><td>Renomeação da coluna para padronização.</td><td>Bronze → Silver → Gold</td><td>Sem observações adicionais.</td><td>Tabela criada manualmente com base na classificação do Campeonato Brasileiro 2024 disponível no site da CNN Brasil</td><td>https://www.cnnbrasil.com.br/esportes/futebol/tabela-do-brasileirao/</td><td>classificacao_brasileirao_2024.csv</td><td>s3://mvp-brasileirao-2024/Gold/Classificacao_Tier/</td></tr><tr><td>8</td><td>gols_marcados</td><td>int</td><td>Número total de gols marcados pelo clube durante a competição.</td><td>29 | 61</td><td>20</td><td>0</td><td>15</td><td>5</td><td>Renomeação da coluna para padronização.</td><td>Bronze → Silver → Gold</td><td>Sem observações adicionais.</td><td>Tabela criada manualmente com base na classificação do Campeonato Brasileiro 2024 disponível no site da CNN Brasil</td><td>https://www.cnnbrasil.com.br/esportes/futebol/tabela-do-brasileirao/</td><td>classificacao_brasileirao_2024.csv</td><td>s3://mvp-brasileirao-2024/Gold/Classificacao_Tier/</td></tr><tr><td>10</td><td>avg_gols_marcados_geral</td><td>double</td><td>Média geral de gols marcados por todos os clubes da competição.</td><td>46.45 | 46.45</td><td>20</td><td>0</td><td>1</td><td>19</td><td>Cálculo agregado geral com base nos dados de gols marcados.</td><td>Silver → Gold</td><td>Sem observações adicionais.</td><td>Tabela criada manualmente com base na classificação do Campeonato Brasileiro 2024 disponível no site da CNN Brasil</td><td>https://www.cnnbrasil.com.br/esportes/futebol/tabela-do-brasileirao/</td><td>classificacao_brasileirao_2024.csv</td><td>s3://mvp-brasileirao-2024/Gold/Classificacao_Tier/</td></tr><tr><td>11</td><td>gols_sofridos</td><td>int</td><td>Número total de gols sofridos pelo clube durante a competição.</td><td>29 | 61</td><td>20</td><td>0</td><td>18</td><td>2</td><td>Renomeação da coluna para padronização.</td><td>Bronze → Silver → Gold</td><td>Sem observações adicionais.</td><td>Tabela criada manualmente com base na classificação do Campeonato Brasileiro 2024 disponível no site da CNN Brasil</td><td>https://www.cnnbrasil.com.br/esportes/futebol/tabela-do-brasileirao/</td><td>classificacao_brasileirao_2024.csv</td><td>s3://mvp-brasileirao-2024/Gold/Classificacao_Tier/</td></tr><tr><td>9</td><td>avg_gols_marcados_tier</td><td>double</td><td>Média de gols marcados pelos clubes do mesmo Tier.</td><td>36.8 | 57.2</td><td>20</td><td>0</td><td>4</td><td>16</td><td>Cálculo agregado por Tier a partir dos dados da tabela de classificação.</td><td>Silver → Gold</td><td>Sem observações adicionais.</td><td>Tabela criada manualmente com base na classificação do Campeonato Brasileiro 2024 disponível no site da CNN Brasil</td><td>https://www.cnnbrasil.com.br/esportes/futebol/tabela-do-brasileirao/</td><td>classificacao_brasileirao_2024.csv</td><td>s3://mvp-brasileirao-2024/Gold/Classificacao_Tier/</td></tr><tr><td>5</td><td>vitorias</td><td>int</td><td>Quantidade total de vitórias conquistadas pelo clube.</td><td>6 | 23</td><td>20</td><td>0</td><td>15</td><td>5</td><td>Renomeação da coluna para padronização.</td><td>Bronze → Silver → Gold</td><td>Sem observações adicionais.</td><td>Tabela criada manualmente com base na classificação do Campeonato Brasileiro 2024 disponível no site da CNN Brasil</td><td>https://www.cnnbrasil.com.br/esportes/futebol/tabela-do-brasileirao/</td><td>classificacao_brasileirao_2024.csv</td><td>s3://mvp-brasileirao-2024/Gold/Classificacao_Tier/</td></tr><tr><td>6</td><td>empates</td><td>int</td><td>Quantidade total de empates registrados pelo clube.</td><td>7 | 14</td><td>20</td><td>0</td><td>7</td><td>13</td><td>Renomeação da coluna para padronização.</td><td>Bronze → Silver → Gold</td><td>Sem observações adicionais.</td><td>Tabela criada manualmente com base na classificação do Campeonato Brasileiro 2024 disponível no site da CNN Brasil</td><td>https://www.cnnbrasil.com.br/esportes/futebol/tabela-do-brasileirao/</td><td>classificacao_brasileirao_2024.csv</td><td>s3://mvp-brasileirao-2024/Gold/Classificacao_Tier/</td></tr><tr><td>1</td><td>posicao</td><td>int</td><td>Posição final do clube na tabela de classificação do campeonato.</td><td>1 | 20</td><td>20</td><td>0</td><td>20</td><td>0</td><td>Renomeação da coluna para padronização.</td><td>Bronze → Silver → Gold</td><td>Sem observações adicionais.</td><td>Tabela criada manualmente com base na classificação do Campeonato Brasileiro 2024 disponível no site da CNN Brasil</td><td>https://www.cnnbrasil.com.br/esportes/futebol/tabela-do-brasileirao/</td><td>classificacao_brasileirao_2024.csv</td><td>s3://mvp-brasileirao-2024/Gold/Classificacao_Tier/</td></tr></tbody></table></div>"
      ]
     },
     "metadata": {
      "application/vnd.databricks.v1+output": {
       "addedWidgets": {},
       "aggData": [],
       "aggError": "",
       "aggOverflow": false,
       "aggSchema": [],
       "aggSeriesLimitReached": false,
       "aggType": "",
       "arguments": {},
       "columnCustomDisplayInfos": {},
       "data": [
        [
         12,
         "avg_gols_sofridos_tier",
         "double",
         "Média de gols sofridos pelos clubes do mesmo Tier.",
         "35.8 | 52.4",
         20,
         0,
         4,
         16,
         "Cálculo agregado por Tier a partir dos dados da tabela de classificação.",
         "Silver → Gold",
         "Sem observações adicionais.",
         "Tabela criada manualmente com base na classificação do Campeonato Brasileiro 2024 disponível no site da CNN Brasil",
         "https://www.cnnbrasil.com.br/esportes/futebol/tabela-do-brasileirao/",
         "classificacao_brasileirao_2024.csv",
         "s3://mvp-brasileirao-2024/Gold/Classificacao_Tier/"
        ],
        [
         13,
         "avg_gols_sofridos_geral",
         "double",
         "Média geral de gols sofridos por todos os clubes da competição.",
         "46.45 | 46.45",
         20,
         0,
         1,
         19,
         "Cálculo agregado geral com base nos dados de gols sofridos.",
         "Silver → Gold",
         "Sem observações adicionais.",
         "Tabela criada manualmente com base na classificação do Campeonato Brasileiro 2024 disponível no site da CNN Brasil",
         "https://www.cnnbrasil.com.br/esportes/futebol/tabela-do-brasileirao/",
         "classificacao_brasileirao_2024.csv",
         "s3://mvp-brasileirao-2024/Gold/Classificacao_Tier/"
        ],
        [
         2,
         "clube",
         "string",
         "Nome do clube participante do campeonato.",
         "Athletico-PR | Vasco da Gama",
         20,
         0,
         20,
         0,
         "Renomeação da coluna para padronização. Padronização dos nomes dos clubes para garantir consistência entre os datasets.",
         "Bronze → Silver → Gold",
         "Sem observações adicionais.",
         "Tabela criada manualmente com base na classificação do Campeonato Brasileiro 2024 disponível no site da CNN Brasil",
         "https://www.cnnbrasil.com.br/esportes/futebol/tabela-do-brasileirao/",
         "classificacao_brasileirao_2024.csv",
         "s3://mvp-brasileirao-2024/Gold/Classificacao_Tier/"
        ],
        [
         3,
         "pontuacao",
         "int",
         "Total de pontos acumulados pelo clube ao longo da competição.",
         "30 | 79",
         20,
         0,
         17,
         3,
         "Renomeação da coluna para padronização.",
         "Bronze → Silver → Gold",
         "Sem observações adicionais.",
         "Tabela criada manualmente com base na classificação do Campeonato Brasileiro 2024 disponível no site da CNN Brasil",
         "https://www.cnnbrasil.com.br/esportes/futebol/tabela-do-brasileirao/",
         "classificacao_brasileirao_2024.csv",
         "s3://mvp-brasileirao-2024/Gold/Classificacao_Tier/"
        ],
        [
         4,
         "tier_clubes",
         "string",
         "Segmento (Tier) do clube com base na posição final (ex.: Tier S, A, B ou C).",
         "TIER A | TIER S",
         20,
         0,
         4,
         16,
         "Coluna derivada com base na posição na classificação geral.",
         "Silver → Gold",
         "Sem observações adicionais.",
         "Tabela criada manualmente com base na classificação do Campeonato Brasileiro 2024 disponível no site da CNN Brasil",
         "https://www.cnnbrasil.com.br/esportes/futebol/tabela-do-brasileirao/",
         "classificacao_brasileirao_2024.csv",
         "s3://mvp-brasileirao-2024/Gold/Classificacao_Tier/"
        ],
        [
         7,
         "derrotas",
         "int",
         "Quantidade total de derrotas sofridas pelo clube.",
         "5 | 22",
         20,
         0,
         12,
         8,
         "Renomeação da coluna para padronização.",
         "Bronze → Silver → Gold",
         "Sem observações adicionais.",
         "Tabela criada manualmente com base na classificação do Campeonato Brasileiro 2024 disponível no site da CNN Brasil",
         "https://www.cnnbrasil.com.br/esportes/futebol/tabela-do-brasileirao/",
         "classificacao_brasileirao_2024.csv",
         "s3://mvp-brasileirao-2024/Gold/Classificacao_Tier/"
        ],
        [
         8,
         "gols_marcados",
         "int",
         "Número total de gols marcados pelo clube durante a competição.",
         "29 | 61",
         20,
         0,
         15,
         5,
         "Renomeação da coluna para padronização.",
         "Bronze → Silver → Gold",
         "Sem observações adicionais.",
         "Tabela criada manualmente com base na classificação do Campeonato Brasileiro 2024 disponível no site da CNN Brasil",
         "https://www.cnnbrasil.com.br/esportes/futebol/tabela-do-brasileirao/",
         "classificacao_brasileirao_2024.csv",
         "s3://mvp-brasileirao-2024/Gold/Classificacao_Tier/"
        ],
        [
         10,
         "avg_gols_marcados_geral",
         "double",
         "Média geral de gols marcados por todos os clubes da competição.",
         "46.45 | 46.45",
         20,
         0,
         1,
         19,
         "Cálculo agregado geral com base nos dados de gols marcados.",
         "Silver → Gold",
         "Sem observações adicionais.",
         "Tabela criada manualmente com base na classificação do Campeonato Brasileiro 2024 disponível no site da CNN Brasil",
         "https://www.cnnbrasil.com.br/esportes/futebol/tabela-do-brasileirao/",
         "classificacao_brasileirao_2024.csv",
         "s3://mvp-brasileirao-2024/Gold/Classificacao_Tier/"
        ],
        [
         11,
         "gols_sofridos",
         "int",
         "Número total de gols sofridos pelo clube durante a competição.",
         "29 | 61",
         20,
         0,
         18,
         2,
         "Renomeação da coluna para padronização.",
         "Bronze → Silver → Gold",
         "Sem observações adicionais.",
         "Tabela criada manualmente com base na classificação do Campeonato Brasileiro 2024 disponível no site da CNN Brasil",
         "https://www.cnnbrasil.com.br/esportes/futebol/tabela-do-brasileirao/",
         "classificacao_brasileirao_2024.csv",
         "s3://mvp-brasileirao-2024/Gold/Classificacao_Tier/"
        ],
        [
         9,
         "avg_gols_marcados_tier",
         "double",
         "Média de gols marcados pelos clubes do mesmo Tier.",
         "36.8 | 57.2",
         20,
         0,
         4,
         16,
         "Cálculo agregado por Tier a partir dos dados da tabela de classificação.",
         "Silver → Gold",
         "Sem observações adicionais.",
         "Tabela criada manualmente com base na classificação do Campeonato Brasileiro 2024 disponível no site da CNN Brasil",
         "https://www.cnnbrasil.com.br/esportes/futebol/tabela-do-brasileirao/",
         "classificacao_brasileirao_2024.csv",
         "s3://mvp-brasileirao-2024/Gold/Classificacao_Tier/"
        ],
        [
         5,
         "vitorias",
         "int",
         "Quantidade total de vitórias conquistadas pelo clube.",
         "6 | 23",
         20,
         0,
         15,
         5,
         "Renomeação da coluna para padronização.",
         "Bronze → Silver → Gold",
         "Sem observações adicionais.",
         "Tabela criada manualmente com base na classificação do Campeonato Brasileiro 2024 disponível no site da CNN Brasil",
         "https://www.cnnbrasil.com.br/esportes/futebol/tabela-do-brasileirao/",
         "classificacao_brasileirao_2024.csv",
         "s3://mvp-brasileirao-2024/Gold/Classificacao_Tier/"
        ],
        [
         6,
         "empates",
         "int",
         "Quantidade total de empates registrados pelo clube.",
         "7 | 14",
         20,
         0,
         7,
         13,
         "Renomeação da coluna para padronização.",
         "Bronze → Silver → Gold",
         "Sem observações adicionais.",
         "Tabela criada manualmente com base na classificação do Campeonato Brasileiro 2024 disponível no site da CNN Brasil",
         "https://www.cnnbrasil.com.br/esportes/futebol/tabela-do-brasileirao/",
         "classificacao_brasileirao_2024.csv",
         "s3://mvp-brasileirao-2024/Gold/Classificacao_Tier/"
        ],
        [
         1,
         "posicao",
         "int",
         "Posição final do clube na tabela de classificação do campeonato.",
         "1 | 20",
         20,
         0,
         20,
         0,
         "Renomeação da coluna para padronização.",
         "Bronze → Silver → Gold",
         "Sem observações adicionais.",
         "Tabela criada manualmente com base na classificação do Campeonato Brasileiro 2024 disponível no site da CNN Brasil",
         "https://www.cnnbrasil.com.br/esportes/futebol/tabela-do-brasileirao/",
         "classificacao_brasileirao_2024.csv",
         "s3://mvp-brasileirao-2024/Gold/Classificacao_Tier/"
        ]
       ],
       "datasetInfos": [],
       "dbfsResultPath": null,
       "isJsonSchema": true,
       "metadata": {},
       "overflow": false,
       "plotOptions": {
        "customPlotOptions": {},
        "displayType": "table",
        "pivotAggregation": null,
        "pivotColumns": null,
        "xColumns": null,
        "yColumns": null
       },
       "removedWidgets": [],
       "schema": [
        {
         "metadata": "{}",
         "name": "ID_Coluna",
         "type": "\"long\""
        },
        {
         "metadata": "{}",
         "name": "Coluna",
         "type": "\"string\""
        },
        {
         "metadata": "{}",
         "name": "Tipo_de_Dado",
         "type": "\"string\""
        },
        {
         "metadata": "{}",
         "name": "Definição",
         "type": "\"string\""
        },
        {
         "metadata": "{}",
         "name": "Valores_Min_Max",
         "type": "\"string\""
        },
        {
         "metadata": "{}",
         "name": "Qtd_Valores_Registrados",
         "type": "\"long\""
        },
        {
         "metadata": "{}",
         "name": "Qtd_Valores_Nulos",
         "type": "\"long\""
        },
        {
         "metadata": "{}",
         "name": "Qtd_Valores_Distintos",
         "type": "\"long\""
        },
        {
         "metadata": "{}",
         "name": "Qtd_Valores_Duplicados",
         "type": "\"long\""
        },
        {
         "metadata": "{}",
         "name": "Regras_de_Transformação",
         "type": "\"string\""
        },
        {
         "metadata": "{}",
         "name": "Linhagem_Dados",
         "type": "\"string\""
        },
        {
         "metadata": "{}",
         "name": "Observacoes",
         "type": "\"string\""
        },
        {
         "metadata": "{}",
         "name": "Fonte",
         "type": "\"string\""
        },
        {
         "metadata": "{}",
         "name": "Link_Fonte",
         "type": "\"string\""
        },
        {
         "metadata": "{}",
         "name": "Arquivo_Original",
         "type": "\"string\""
        },
        {
         "metadata": "{}",
         "name": "Arquivo_S3",
         "type": "\"string\""
        }
       ],
       "type": "table"
      }
     },
     "output_type": "display_data"
    }
   ],
   "source": [
    "%sql\n",
    "select * from catalogo_de_dados.catalog_classificacao_tier"
   ]
  },
  {
   "cell_type": "markdown",
   "metadata": {
    "application/vnd.databricks.v1+cell": {
     "cellMetadata": {
      "byteLimit": 2048000,
      "rowLimit": 10000
     },
     "inputWidgets": {},
     "nuid": "06afab01-b580-4875-8f03-84b1d3b3e323",
     "showTitle": false,
     "tableResultSettingsMap": {},
     "title": ""
    }
   },
   "source": [
    "## 🔷 desempenho_clubes"
   ]
  },
  {
   "cell_type": "markdown",
   "metadata": {
    "application/vnd.databricks.v1+cell": {
     "cellMetadata": {},
     "inputWidgets": {},
     "nuid": "4806068a-f317-47a5-8a8a-2814165e0399",
     "showTitle": false,
     "tableResultSettingsMap": {},
     "title": ""
    }
   },
   "source": [
    "### 🔹 Criando o Metadata do dataframe"
   ]
  },
  {
   "cell_type": "code",
   "execution_count": 0,
   "metadata": {
    "application/vnd.databricks.v1+cell": {
     "cellMetadata": {
      "byteLimit": 2048000,
      "rowLimit": 10000
     },
     "inputWidgets": {},
     "nuid": "aaf1b48b-10d9-48cc-b7a4-cc3275803095",
     "showTitle": false,
     "tableResultSettingsMap": {},
     "title": ""
    }
   },
   "outputs": [],
   "source": [
    "from pyspark.sql import Row\n",
    "from pyspark.sql.functions import col, count, countDistinct, min, max, sum, expr\n",
    "\n",
    "# Nome da tabela que queremos analisar (mudar para cada dataset da Silver)\n",
    "tabela_gold = \"marts_mvp_brasileirao.desempenho_clubes\"\n",
    "\n",
    "# Ler os dados da Silver diretamente do Metastore\n",
    "df = spark.read.table(tabela_gold)\n",
    "\n",
    "# Criar DataFrame com estatísticas (incluindo contagem de nulos correta e duplicatas)\n",
    "metadata_df = df.agg(\n",
    "    *[count(col(c)).alias(f\"{c}_count\") for c in df.columns],  # Contagem total de registros NÃO NULOS\n",
    "    *[countDistinct(col(c)).alias(f\"{c}_distinct\") for c in df.columns],  # Contagem de valores distintos\n",
    "    *[min(col(c)).alias(f\"{c}_min\") for c in df.columns],  # Valor mínimo\n",
    "    *[max(col(c)).alias(f\"{c}_max\") for c in df.columns],  # Valor máximo\n",
    "    *[sum(col(c).isNull().cast(\"int\")).alias(f\"{c}_nulls\") for c in df.columns],  # Contagem correta de nulos\n",
    "    *[(count(col(c)) - countDistinct(col(c))).alias(f\"{c}_duplicates\") for c in df.columns]  # Contagem de valores duplicados\n",
    ")"
   ]
  },
  {
   "cell_type": "markdown",
   "metadata": {
    "application/vnd.databricks.v1+cell": {
     "cellMetadata": {},
     "inputWidgets": {},
     "nuid": "4d58b60a-0376-413f-b7c7-5e62a19527e1",
     "showTitle": false,
     "tableResultSettingsMap": {},
     "title": ""
    }
   },
   "source": [
    "### 🔹 Criação do Dicionário de descrições"
   ]
  },
  {
   "cell_type": "code",
   "execution_count": 0,
   "metadata": {
    "application/vnd.databricks.v1+cell": {
     "cellMetadata": {
      "byteLimit": 2048000,
      "rowLimit": 10000
     },
     "inputWidgets": {},
     "nuid": "cbbb71b1-206b-4469-8ddc-339a3d46beba",
     "showTitle": false,
     "tableResultSettingsMap": {},
     "title": ""
    }
   },
   "outputs": [],
   "source": [
    "col_descriptions = {\n",
    "    \"posicao\": (\n",
    "        \"Posição final do clube na classificação geral.\",\n",
    "        \"Derivado da tabela de classificação.\",\n",
    "        \"classificacao_tier\"\n",
    "    ),\n",
    "    \"clube\": (\n",
    "        \"Nome do clube.\",\n",
    "        \"Derivado da tabela de classificação.\",\n",
    "        \"classificacao_tier\"\n",
    "    ),\n",
    "    \"tier_clubes\": (\n",
    "        \"Tierlist do clube com base na sua posição (S, A, B, C).\",\n",
    "        \"Derivado com regras de segmentação por posição.\",\n",
    "        \"classificacao_tier\"\n",
    "    ),\n",
    "    \"norm_gols_sofridos\": (\n",
    "        \"Total de gols sofridos pelo clube, normalizado com Min-Max Scaling (0 a 10).\",\n",
    "        \"Cálculo Normalização Min-Max (escala de 0 a 10) aplicado\",\n",
    "        \"classificacao_tier → Mart_Desempenho_Defensivo_Clubes → Gold\"\n",
    "    ),\n",
    "    \"norm_desarmes\": (\n",
    "        \"Total de desarmes realizados pelo clube, normalizado com Min-Max Scaling (0 a 10).\",\n",
    "        \"Cálculo Normalização Min-Max (escala de 0 a 10) aplicado\",\n",
    "        \"Estatisticas_PorClube → Mart_Desempenho_Defensivo_Clubes → Gold\"\n",
    "    ),\n",
    "    \"norm_interceptacoes\": (\n",
    "        \"Total de interceptações feitas pelo clube, normalizado com Min-Max Scaling (0 a 10).\",\n",
    "        \"Cálculo Normalização Min-Max (escala de 0 a 10) aplicado\",\n",
    "        \"Estatisticas_PorClube → Mart_Desempenho_Defensivo_Clubes → Gold\"\n",
    "    ),\n",
    "    \"norm_bloqueios\": (\n",
    "        \"Total de bloqueios realizados pelo clube, normalizado com Min-Max Scaling (0 a 10).\",\n",
    "        \"Cálculo Normalização Min-Max (escala de 0 a 10) aplicado\",\n",
    "        \"Estatisticas_PorClube → Mart_Desempenho_Defensivo_Clubes → Gold\"\n",
    "    ),\n",
    "    \"norm_gols_marcados\": (\n",
    "        \"Total de gols marcados pelo clube, normalizado com Min-Max Scaling (0 a 10).\",\n",
    "        \"Cálculo Normalização Min-Max (escala de 0 a 10) aplicado\",\n",
    "        \"Estatisticas_PorClube → Mart_Desempenho_Ofensivo_Clubes → Gold\"\n",
    "    ),\n",
    "    \"norm_assistencias\": (\n",
    "        \"Total de assistências feitas pelo clube, normalizado com Min-Max Scaling (0 a 10).\",\n",
    "        \"Cálculo Normalização Min-Max (escala de 0 a 10) aplicado\",\n",
    "        \"Estatisticas_PorClube → Mart_Desempenho_Ofensivo_Clubes → Gold\"\n",
    "    ),\n",
    "    \"norm_penaltis_batidos\": (\n",
    "        \"Total de pênaltis batidos pelo clube, normalizado com Min-Max Scaling (0 a 10).\",\n",
    "        \"Cálculo Normalização Min-Max (escala de 0 a 10) aplicado\",\n",
    "        \"Estatisticas_PorClube → Mart_Desempenho_Ofensivo_Clubes → Gold\"\n",
    "    ),\n",
    "    \"norm_total_chutes\": (\n",
    "        \"Total de chutes realizados pelo clube, normalizado com Min-Max Scaling (0 a 10).\",\n",
    "        \"Cálculo Normalização Min-Max (escala de 0 a 10) aplicado\",\n",
    "        \"Estatisticas_PorClube → Mart_Desempenho_Ofensivo_Clubes → Gold\"\n",
    "    ),\n",
    "    \"norm_chutes_gol\": (\n",
    "        \"Total de chutes no alvo do clube, normalizado com Min-Max Scaling (0 a 10).\",\n",
    "        \"Cálculo Normalização Min-Max (escala de 0 a 10) aplicado\",\n",
    "        \"Estatisticas_PorClube → Mart_Desempenho_Ofensivo_Clubes → Gold\"\n",
    "    ),\n",
    "    \"norm_gols_esperados\": (\n",
    "        \"Total de gols esperados (xG) do clube, normalizado com Min-Max Scaling (0 a 10).\",\n",
    "        \"Cálculo Normalização Min-Max (escala de 0 a 10) aplicado\",\n",
    "        \"Estatisticas_PorClube → Mart_Desempenho_Ofensivo_Clubes → Gold\"\n",
    "    ),\n",
    "    \"norm_ass_esperadas\": (\n",
    "        \"Total de assistências esperadas (xA) do clube, normalizado com Min-Max Scaling (0 a 10).\",\n",
    "        \"Cálculo Normalização Min-Max (escala de 0 a 10) aplicado\",\n",
    "        \"Estatisticas_PorClube → Mart_Desempenho_Ofensivo_Clubes → Gold\"\n",
    "    ),\n",
    "    \"norm_acoes_de_criacao\": (\n",
    "        \"Total de ações de criação de jogadas do clube, normalizado com Min-Max Scaling (0 a 10).\",\n",
    "        \"Cálculo Normalização Min-Max (escala de 0 a 10) aplicado\",\n",
    "        \"Estatisticas_PorClube → Mart_Desempenho_Ofensivo_Clubes → Gold\"\n",
    "    ),\n",
    "    \"norm_acoes_de_gol\": (\n",
    "        \"Total de ações que levaram a gol, normalizado com Min-Max Scaling (0 a 10).\",\n",
    "        \"Cálculo Normalização Min-Max (escala de 0 a 10) aplicado\",\n",
    "        \"Estatisticas_PorClube → Mart_Desempenho_Ofensivo_Clubes → Gold\"\n",
    "    ),\n",
    "    \"norm_eficiencia\": (\n",
    "        \"Índice de eficiência geral ofensiva e defensiva do clube, normalizado com Min-Max Scaling (0 a 10).\",\n",
    "        \"Média ponderada de métricas-chave, normalizada por Min-Max com ajuste para escala de 0 a 10.\",\n",
    "        \"cálculo próprio\"\n",
    "    ),\n",
    "    \"norm_passes_completos\": (\n",
    "        \"Total de passes completos do clube, normalizado com Min-Max Scaling (0 a 10).\",\n",
    "        \"Cálculo Normalização Min-Max (escala de 0 a 10) aplicado\",\n",
    "        \"Estatisticas_PorClube → Mart_Desempenho_Criacao_Clubes → Gold\"\n",
    "    ),\n",
    "    \"norm_passes_tentados\": (\n",
    "        \"Total de passes tentados pelo clube, normalizado com Min-Max Scaling (0 a 10).\",\n",
    "        \"Cálculo Normalização Min-Max (escala de 0 a 10) aplicado\",\n",
    "        \"Estatisticas_PorClube → Mart_Desempenho_Criacao_Clubes → Gold\"\n",
    "    ),\n",
    "    \"norm_conducoes_de_bola\": (\n",
    "        \"Total de conduções de bola do clube, normalizado com Min-Max Scaling (0 a 10).\",\n",
    "        \"Cálculo Normalização Min-Max (escala de 0 a 10) aplicado\",\n",
    "        \"Estatisticas_PorClube → Mart_Desempenho_Criacao_Clubes → Gold\"\n",
    "    ),\n",
    "    \"norm_conducoes_progressivas\": (\n",
    "        \"Total de conduções progressivas de bola do clube, normalizado com Min-Max Scaling (0 a 10).\",\n",
    "        \"Cálculo Normalização Min-Max (escala de 0 a 10) aplicado\",\n",
    "        \"Estatisticas_PorClube → Mart_Desempenho_Criacao_Clubes → Gold\"\n",
    "    ),\n",
    "    \"score_defensivo\": (\n",
    "        \"Score defensivo agregado do clube.\",\n",
    "        \"Pontuação calculada com base nas métricas defensivas normalizadas (desarmes, interceptações, bloqueios e gols sofridos), ponderadas e combinadas.\",\n",
    "        \"cálculo próprio\"\n",
    "    ),\n",
    "    \"score_ofensivo\": (\n",
    "        \"Score ofensivo agregado do clube.\",\n",
    "        \"Pontuação calculada com base nas métricas ofensivas normalizadas (gols marcados, assistências, chutes, xG, etc.), ponderadas e combinadas.\",\n",
    "        \"cálculo próprio\"\n",
    "    ),\n",
    "    \"score_criacao\": (\n",
    "        \"Score de criação de jogadas do clube.\",\n",
    "        \"Pontuação baseada em métricas de criação (ações de criação, passes esperados, assistências, etc.), normalizadas e combinadas.\",\n",
    "        \"cálculo próprio\"\n",
    ")\n",
    "}\n"
   ]
  },
  {
   "cell_type": "markdown",
   "metadata": {
    "application/vnd.databricks.v1+cell": {
     "cellMetadata": {},
     "inputWidgets": {},
     "nuid": "aeb37ff0-e6f5-4ae4-99d8-bbe33898b15b",
     "showTitle": false,
     "tableResultSettingsMap": {},
     "title": ""
    }
   },
   "source": [
    "### 🔹 Criando o Dataframe do Catálogo"
   ]
  },
  {
   "cell_type": "code",
   "execution_count": 0,
   "metadata": {
    "application/vnd.databricks.v1+cell": {
     "cellMetadata": {
      "byteLimit": 2048000,
      "rowLimit": 10000
     },
     "inputWidgets": {},
     "nuid": "efb3424e-bb39-4d49-96d7-756bb8f3a3a9",
     "showTitle": false,
     "tableResultSettingsMap": {},
     "title": ""
    }
   },
   "outputs": [],
   "source": [
    "# Criar lista de metadados para o Catálogo de Dados\n",
    "catalog_data = []\n",
    "\n",
    "# Iterar sobre as colunas da tabela Silver\n",
    "for index, col_name in enumerate(df.columns, start=1):\n",
    "    col_type = df.select(col(col_name)).schema.fields[0].dataType.simpleString()  # Tipo da coluna\n",
    "    col_count = metadata_df.collect()[0][f\"{col_name}_count\"]  # Contagem total (não nulos)\n",
    "    col_distinct = metadata_df.collect()[0][f\"{col_name}_distinct\"]  # Valores distintos\n",
    "    col_nulls = metadata_df.collect()[0][f\"{col_name}_nulls\"]  # Contagem correta de valores nulos\n",
    "    col_min = metadata_df.collect()[0][f\"{col_name}_min\"] if f\"{col_name}_min\" in metadata_df.columns else \"N/A\"\n",
    "    col_max = metadata_df.collect()[0][f\"{col_name}_max\"] if f\"{col_name}_max\" in metadata_df.columns else \"N/A\"\n",
    "    col_duplicates = metadata_df.collect()[0][f\"{col_name}_duplicates\"] if f\"{col_name}_duplicates\" in metadata_df.columns else 0  # Contagem de duplicados\n",
    "\n",
    "    # Buscar definição, regra de transformação e linhagem dos dados no dicionário\n",
    "    col_definition, transformations_applied, lineage_info = col_descriptions.get(\n",
    "        col_name, (f\"Descrição da coluna {col_name}\", \"Nenhuma alteração aplicada.\", \"Origem desconhecida\")\n",
    "    )\n",
    "\n",
    "    # Definir observações sobre a coluna (pode ser preenchido manualmente se necessário)\n",
    "    comments = \"Sem observações adicionais.\"\n",
    "\n",
    "    catalog_data.append(Row(\n",
    "        ID_Coluna=index,\n",
    "        Coluna=col_name,\n",
    "        Tipo_de_Dado=col_type,\n",
    "        Definição=col_definition,\n",
    "        Valores_Min_Max=f\"{col_min} | {col_max}\",\n",
    "        Qtd_Valores_Registrados=col_count,\n",
    "        Qtd_Valores_Nulos=col_nulls,\n",
    "        Qtd_Valores_Distintos=col_distinct,\n",
    "        Qtd_Valores_Duplicados=col_duplicates,\n",
    "        Regras_de_Transformação=transformations_applied,\n",
    "        Linhagem_Dados=lineage_info,\n",
    "        Observacoes=comments,\n",
    "        Fonte=\"Tabela construída a partir da agregação de estatísticas individuais dos jogadores por clube.\",\n",
    "        Link_Fonte=\"https://fbref.com/\",\n",
    "        Arquivo_Original=\"BrasilSerieA_2024_EstatisticaJogadorPorPartida.csv\",\n",
    "        Arquivo_S3=\"s3://mvp-brasileirao-2024/Gold/Mart_Desempenho_Clubes/\"\n",
    "    ))\n",
    "\n",
    "catalog_df = spark.createDataFrame(catalog_data)\n"
   ]
  },
  {
   "cell_type": "markdown",
   "metadata": {
    "application/vnd.databricks.v1+cell": {
     "cellMetadata": {},
     "inputWidgets": {},
     "nuid": "1844a027-4bab-4944-ad9c-eba1fd1ff746",
     "showTitle": false,
     "tableResultSettingsMap": {},
     "title": ""
    }
   },
   "source": [
    "### 🔹 Salvando o Catálogo no S3 camada Gold"
   ]
  },
  {
   "cell_type": "code",
   "execution_count": 0,
   "metadata": {
    "application/vnd.databricks.v1+cell": {
     "cellMetadata": {
      "byteLimit": 2048000,
      "rowLimit": 10000
     },
     "inputWidgets": {},
     "nuid": "1936569a-f6b1-4f82-9154-72d61c6018c3",
     "showTitle": false,
     "tableResultSettingsMap": {},
     "title": ""
    }
   },
   "outputs": [
    {
     "name": "stdout",
     "output_type": "stream",
     "text": [
      "🚨 Arquivos antigos do Delta removidos com sucesso!\n",
      "✅ Catálogo Estatístico salvo no formato Delta com sucesso!\n"
     ]
    }
   ],
   "source": [
    "# Caminho no S3 para salvar o Catálogo Estatístico\n",
    "delta_catalogo_estatistico_path = \"s3://mvp-brasileirao-2024/gold/catalogo_de_dados/desempenho_clubes\"\n",
    "\n",
    "dbutils.fs.rm(delta_catalogo_estatistico_path, recurse=True)\n",
    "print(\"🚨 Arquivos antigos do Delta removidos com sucesso!\")\n",
    "\n",
    "# Salvar a tabela Delta com as estatísticas\n",
    "catalog_df.write.format(\"delta\").mode(\"overwrite\").save(delta_catalogo_estatistico_path)\n",
    "\n",
    "print(\"✅ Catálogo Estatístico salvo no formato Delta com sucesso!\")"
   ]
  },
  {
   "cell_type": "markdown",
   "metadata": {
    "application/vnd.databricks.v1+cell": {
     "cellMetadata": {},
     "inputWidgets": {},
     "nuid": "fa04baeb-6d48-4eb5-a5b1-4e2c0d700c51",
     "showTitle": false,
     "tableResultSettingsMap": {},
     "title": ""
    }
   },
   "source": [
    "### 🔹 Criando Tabela de Catálogos no Hive"
   ]
  },
  {
   "cell_type": "code",
   "execution_count": 0,
   "metadata": {
    "application/vnd.databricks.v1+cell": {
     "cellMetadata": {
      "byteLimit": 2048000,
      "implicitDf": true,
      "rowLimit": 10000
     },
     "inputWidgets": {},
     "nuid": "b9e50213-6e4e-4da4-9138-e90522de5c16",
     "showTitle": false,
     "tableResultSettingsMap": {},
     "title": ""
    }
   },
   "outputs": [
    {
     "data": {
      "text/html": [
       "<style scoped>\n",
       "  .table-result-container {\n",
       "    max-height: 300px;\n",
       "    overflow: auto;\n",
       "  }\n",
       "  table, th, td {\n",
       "    border: 1px solid black;\n",
       "    border-collapse: collapse;\n",
       "  }\n",
       "  th, td {\n",
       "    padding: 5px;\n",
       "  }\n",
       "  th {\n",
       "    text-align: left;\n",
       "  }\n",
       "</style><div class='table-result-container'><table class='table-result'><thead style='background-color: white'><tr></tr></thead><tbody></tbody></table></div>"
      ]
     },
     "metadata": {
      "application/vnd.databricks.v1+output": {
       "addedWidgets": {},
       "aggData": [],
       "aggError": "",
       "aggOverflow": false,
       "aggSchema": [],
       "aggSeriesLimitReached": false,
       "aggType": "",
       "arguments": {},
       "columnCustomDisplayInfos": {},
       "data": [],
       "datasetInfos": [],
       "dbfsResultPath": null,
       "isJsonSchema": true,
       "metadata": {},
       "overflow": false,
       "plotOptions": {
        "customPlotOptions": {},
        "displayType": "table",
        "pivotAggregation": null,
        "pivotColumns": null,
        "xColumns": null,
        "yColumns": null
       },
       "removedWidgets": [],
       "schema": [],
       "type": "table"
      }
     },
     "output_type": "display_data"
    }
   ],
   "source": [
    "%sql\n",
    "DROP TABLE IF EXISTS catalogo_de_dados.catalog_desempenho_clubes;\n",
    "\n",
    "CREATE TABLE catalogo_de_dados.catalog_desempenho_clubes\n",
    "USING DELTA\n",
    "LOCATION 's3://mvp-brasileirao-2024/gold/catalogo_de_dados/desempenho_clubes';"
   ]
  },
  {
   "cell_type": "markdown",
   "metadata": {
    "application/vnd.databricks.v1+cell": {
     "cellMetadata": {},
     "inputWidgets": {},
     "nuid": "b25a2f2a-c0fb-46a1-a094-3557f0401a74",
     "showTitle": false,
     "tableResultSettingsMap": {},
     "title": ""
    }
   },
   "source": [
    "### 🔹 Exibindo o Catálogo de Dados via SQL"
   ]
  },
  {
   "cell_type": "code",
   "execution_count": 0,
   "metadata": {
    "application/vnd.databricks.v1+cell": {
     "cellMetadata": {
      "byteLimit": 2048000,
      "implicitDf": true,
      "rowLimit": 10000
     },
     "inputWidgets": {},
     "nuid": "10c6de29-4023-406e-bbf4-6fb2585f41b7",
     "showTitle": false,
     "tableResultSettingsMap": {},
     "title": ""
    }
   },
   "outputs": [
    {
     "data": {
      "text/html": [
       "<style scoped>\n",
       "  .table-result-container {\n",
       "    max-height: 300px;\n",
       "    overflow: auto;\n",
       "  }\n",
       "  table, th, td {\n",
       "    border: 1px solid black;\n",
       "    border-collapse: collapse;\n",
       "  }\n",
       "  th, td {\n",
       "    padding: 5px;\n",
       "  }\n",
       "  th {\n",
       "    text-align: left;\n",
       "  }\n",
       "</style><div class='table-result-container'><table class='table-result'><thead style='background-color: white'><tr><th>ID_Coluna</th><th>Coluna</th><th>Tipo_de_Dado</th><th>Definição</th><th>Valores_Min_Max</th><th>Qtd_Valores_Registrados</th><th>Qtd_Valores_Nulos</th><th>Qtd_Valores_Distintos</th><th>Qtd_Valores_Duplicados</th><th>Regras_de_Transformação</th><th>Linhagem_Dados</th><th>Observacoes</th><th>Fonte</th><th>Link_Fonte</th><th>Arquivo_Original</th><th>Arquivo_S3</th></tr></thead><tbody><tr><td>13</td><td>norm_gols_esperados</td><td>double</td><td>Total de gols esperados (xG) do clube, normalizado com Min-Max Scaling (0 a 10).</td><td>0.0 | 10.0</td><td>20</td><td>0</td><td>20</td><td>0</td><td>Cálculo Normalização Min-Max (escala de 0 a 10) aplicado</td><td>Estatisticas_PorClube → Mart_Desempenho_Ofensivo_Clubes → Gold</td><td>Sem observações adicionais.</td><td>Tabela construída a partir da agregação de estatísticas individuais dos jogadores por clube.</td><td>https://fbref.com/</td><td>BrasilSerieA_2024_EstatisticaJogadorPorPartida.csv</td><td>s3://mvp-brasileirao-2024/Gold/Mart_Desempenho_Clubes/</td></tr><tr><td>14</td><td>norm_ass_esperadas</td><td>double</td><td>Total de assistências esperadas (xA) do clube, normalizado com Min-Max Scaling (0 a 10).</td><td>0.0 | 10.0</td><td>20</td><td>0</td><td>20</td><td>0</td><td>Cálculo Normalização Min-Max (escala de 0 a 10) aplicado</td><td>Estatisticas_PorClube → Mart_Desempenho_Ofensivo_Clubes → Gold</td><td>Sem observações adicionais.</td><td>Tabela construída a partir da agregação de estatísticas individuais dos jogadores por clube.</td><td>https://fbref.com/</td><td>BrasilSerieA_2024_EstatisticaJogadorPorPartida.csv</td><td>s3://mvp-brasileirao-2024/Gold/Mart_Desempenho_Clubes/</td></tr><tr><td>15</td><td>norm_acoes_de_criacao</td><td>double</td><td>Total de ações de criação de jogadas do clube, normalizado com Min-Max Scaling (0 a 10).</td><td>0.0 | 10.0</td><td>20</td><td>0</td><td>20</td><td>0</td><td>Cálculo Normalização Min-Max (escala de 0 a 10) aplicado</td><td>Estatisticas_PorClube → Mart_Desempenho_Ofensivo_Clubes → Gold</td><td>Sem observações adicionais.</td><td>Tabela construída a partir da agregação de estatísticas individuais dos jogadores por clube.</td><td>https://fbref.com/</td><td>BrasilSerieA_2024_EstatisticaJogadorPorPartida.csv</td><td>s3://mvp-brasileirao-2024/Gold/Mart_Desempenho_Clubes/</td></tr><tr><td>19</td><td>norm_passes_tentados</td><td>double</td><td>Total de passes tentados pelo clube, normalizado com Min-Max Scaling (0 a 10).</td><td>0.0 | 10.0</td><td>20</td><td>0</td><td>20</td><td>0</td><td>Cálculo Normalização Min-Max (escala de 0 a 10) aplicado</td><td>Estatisticas_PorClube → Mart_Desempenho_Criacao_Clubes → Gold</td><td>Sem observações adicionais.</td><td>Tabela construída a partir da agregação de estatísticas individuais dos jogadores por clube.</td><td>https://fbref.com/</td><td>BrasilSerieA_2024_EstatisticaJogadorPorPartida.csv</td><td>s3://mvp-brasileirao-2024/Gold/Mart_Desempenho_Clubes/</td></tr><tr><td>20</td><td>norm_conducoes_de_bola</td><td>double</td><td>Total de conduções de bola do clube, normalizado com Min-Max Scaling (0 a 10).</td><td>0.0 | 10.0</td><td>20</td><td>0</td><td>20</td><td>0</td><td>Cálculo Normalização Min-Max (escala de 0 a 10) aplicado</td><td>Estatisticas_PorClube → Mart_Desempenho_Criacao_Clubes → Gold</td><td>Sem observações adicionais.</td><td>Tabela construída a partir da agregação de estatísticas individuais dos jogadores por clube.</td><td>https://fbref.com/</td><td>BrasilSerieA_2024_EstatisticaJogadorPorPartida.csv</td><td>s3://mvp-brasileirao-2024/Gold/Mart_Desempenho_Clubes/</td></tr><tr><td>21</td><td>norm_conducoes_progressivas</td><td>double</td><td>Total de conduções progressivas de bola do clube, normalizado com Min-Max Scaling (0 a 10).</td><td>0.0 | 10.0</td><td>20</td><td>0</td><td>20</td><td>0</td><td>Cálculo Normalização Min-Max (escala de 0 a 10) aplicado</td><td>Estatisticas_PorClube → Mart_Desempenho_Criacao_Clubes → Gold</td><td>Sem observações adicionais.</td><td>Tabela construída a partir da agregação de estatísticas individuais dos jogadores por clube.</td><td>https://fbref.com/</td><td>BrasilSerieA_2024_EstatisticaJogadorPorPartida.csv</td><td>s3://mvp-brasileirao-2024/Gold/Mart_Desempenho_Clubes/</td></tr><tr><td>10</td><td>norm_penaltis_batidos</td><td>double</td><td>Total de pênaltis batidos pelo clube, normalizado com Min-Max Scaling (0 a 10).</td><td>0.0 | 10.0</td><td>20</td><td>0</td><td>10</td><td>10</td><td>Cálculo Normalização Min-Max (escala de 0 a 10) aplicado</td><td>Estatisticas_PorClube → Mart_Desempenho_Ofensivo_Clubes → Gold</td><td>Sem observações adicionais.</td><td>Tabela construída a partir da agregação de estatísticas individuais dos jogadores por clube.</td><td>https://fbref.com/</td><td>BrasilSerieA_2024_EstatisticaJogadorPorPartida.csv</td><td>s3://mvp-brasileirao-2024/Gold/Mart_Desempenho_Clubes/</td></tr><tr><td>11</td><td>norm_total_chutes</td><td>double</td><td>Total de chutes realizados pelo clube, normalizado com Min-Max Scaling (0 a 10).</td><td>0.0 | 10.0</td><td>20</td><td>0</td><td>19</td><td>1</td><td>Cálculo Normalização Min-Max (escala de 0 a 10) aplicado</td><td>Estatisticas_PorClube → Mart_Desempenho_Ofensivo_Clubes → Gold</td><td>Sem observações adicionais.</td><td>Tabela construída a partir da agregação de estatísticas individuais dos jogadores por clube.</td><td>https://fbref.com/</td><td>BrasilSerieA_2024_EstatisticaJogadorPorPartida.csv</td><td>s3://mvp-brasileirao-2024/Gold/Mart_Desempenho_Clubes/</td></tr><tr><td>12</td><td>norm_chutes_gol</td><td>double</td><td>Total de chutes no alvo do clube, normalizado com Min-Max Scaling (0 a 10).</td><td>0.0 | 10.0</td><td>20</td><td>0</td><td>20</td><td>0</td><td>Cálculo Normalização Min-Max (escala de 0 a 10) aplicado</td><td>Estatisticas_PorClube → Mart_Desempenho_Ofensivo_Clubes → Gold</td><td>Sem observações adicionais.</td><td>Tabela construída a partir da agregação de estatísticas individuais dos jogadores por clube.</td><td>https://fbref.com/</td><td>BrasilSerieA_2024_EstatisticaJogadorPorPartida.csv</td><td>s3://mvp-brasileirao-2024/Gold/Mart_Desempenho_Clubes/</td></tr><tr><td>4</td><td>norm_gols_sofridos</td><td>double</td><td>Total de gols sofridos pelo clube, normalizado com Min-Max Scaling (0 a 10).</td><td>0.0 | 10.0</td><td>20</td><td>0</td><td>18</td><td>2</td><td>Cálculo Normalização Min-Max (escala de 0 a 10) aplicado</td><td>classificacao_tier → Mart_Desempenho_Defensivo_Clubes → Gold</td><td>Sem observações adicionais.</td><td>Tabela construída a partir da agregação de estatísticas individuais dos jogadores por clube.</td><td>https://fbref.com/</td><td>BrasilSerieA_2024_EstatisticaJogadorPorPartida.csv</td><td>s3://mvp-brasileirao-2024/Gold/Mart_Desempenho_Clubes/</td></tr><tr><td>5</td><td>norm_desarmes</td><td>double</td><td>Total de desarmes realizados pelo clube, normalizado com Min-Max Scaling (0 a 10).</td><td>0.0 | 10.0</td><td>20</td><td>0</td><td>17</td><td>3</td><td>Cálculo Normalização Min-Max (escala de 0 a 10) aplicado</td><td>Estatisticas_PorClube → Mart_Desempenho_Defensivo_Clubes → Gold</td><td>Sem observações adicionais.</td><td>Tabela construída a partir da agregação de estatísticas individuais dos jogadores por clube.</td><td>https://fbref.com/</td><td>BrasilSerieA_2024_EstatisticaJogadorPorPartida.csv</td><td>s3://mvp-brasileirao-2024/Gold/Mart_Desempenho_Clubes/</td></tr><tr><td>6</td><td>norm_interceptacoes</td><td>double</td><td>Total de interceptações feitas pelo clube, normalizado com Min-Max Scaling (0 a 10).</td><td>0.0 | 10.0</td><td>20</td><td>0</td><td>19</td><td>1</td><td>Cálculo Normalização Min-Max (escala de 0 a 10) aplicado</td><td>Estatisticas_PorClube → Mart_Desempenho_Defensivo_Clubes → Gold</td><td>Sem observações adicionais.</td><td>Tabela construída a partir da agregação de estatísticas individuais dos jogadores por clube.</td><td>https://fbref.com/</td><td>BrasilSerieA_2024_EstatisticaJogadorPorPartida.csv</td><td>s3://mvp-brasileirao-2024/Gold/Mart_Desempenho_Clubes/</td></tr><tr><td>16</td><td>norm_acoes_de_gol</td><td>double</td><td>Total de ações que levaram a gol, normalizado com Min-Max Scaling (0 a 10).</td><td>0.0 | 10.0</td><td>20</td><td>0</td><td>17</td><td>3</td><td>Cálculo Normalização Min-Max (escala de 0 a 10) aplicado</td><td>Estatisticas_PorClube → Mart_Desempenho_Ofensivo_Clubes → Gold</td><td>Sem observações adicionais.</td><td>Tabela construída a partir da agregação de estatísticas individuais dos jogadores por clube.</td><td>https://fbref.com/</td><td>BrasilSerieA_2024_EstatisticaJogadorPorPartida.csv</td><td>s3://mvp-brasileirao-2024/Gold/Mart_Desempenho_Clubes/</td></tr><tr><td>17</td><td>norm_eficiencia</td><td>double</td><td>Índice de eficiência geral ofensiva e defensiva do clube, normalizado com Min-Max Scaling (0 a 10).</td><td>0.0 | 10.0</td><td>20</td><td>0</td><td>20</td><td>0</td><td>Média ponderada de métricas-chave, normalizada por Min-Max com ajuste para escala de 0 a 10.</td><td>cálculo próprio</td><td>Sem observações adicionais.</td><td>Tabela construída a partir da agregação de estatísticas individuais dos jogadores por clube.</td><td>https://fbref.com/</td><td>BrasilSerieA_2024_EstatisticaJogadorPorPartida.csv</td><td>s3://mvp-brasileirao-2024/Gold/Mart_Desempenho_Clubes/</td></tr><tr><td>18</td><td>norm_passes_completos</td><td>double</td><td>Total de passes completos do clube, normalizado com Min-Max Scaling (0 a 10).</td><td>0.0 | 10.0</td><td>20</td><td>0</td><td>20</td><td>0</td><td>Cálculo Normalização Min-Max (escala de 0 a 10) aplicado</td><td>Estatisticas_PorClube → Mart_Desempenho_Criacao_Clubes → Gold</td><td>Sem observações adicionais.</td><td>Tabela construída a partir da agregação de estatísticas individuais dos jogadores por clube.</td><td>https://fbref.com/</td><td>BrasilSerieA_2024_EstatisticaJogadorPorPartida.csv</td><td>s3://mvp-brasileirao-2024/Gold/Mart_Desempenho_Clubes/</td></tr><tr><td>7</td><td>norm_bloqueios</td><td>double</td><td>Total de bloqueios realizados pelo clube, normalizado com Min-Max Scaling (0 a 10).</td><td>0.0 | 10.0</td><td>20</td><td>0</td><td>20</td><td>0</td><td>Cálculo Normalização Min-Max (escala de 0 a 10) aplicado</td><td>Estatisticas_PorClube → Mart_Desempenho_Defensivo_Clubes → Gold</td><td>Sem observações adicionais.</td><td>Tabela construída a partir da agregação de estatísticas individuais dos jogadores por clube.</td><td>https://fbref.com/</td><td>BrasilSerieA_2024_EstatisticaJogadorPorPartida.csv</td><td>s3://mvp-brasileirao-2024/Gold/Mart_Desempenho_Clubes/</td></tr><tr><td>8</td><td>norm_gols_marcados</td><td>double</td><td>Total de gols marcados pelo clube, normalizado com Min-Max Scaling (0 a 10).</td><td>0.0 | 10.0</td><td>20</td><td>0</td><td>15</td><td>5</td><td>Cálculo Normalização Min-Max (escala de 0 a 10) aplicado</td><td>Estatisticas_PorClube → Mart_Desempenho_Ofensivo_Clubes → Gold</td><td>Sem observações adicionais.</td><td>Tabela construída a partir da agregação de estatísticas individuais dos jogadores por clube.</td><td>https://fbref.com/</td><td>BrasilSerieA_2024_EstatisticaJogadorPorPartida.csv</td><td>s3://mvp-brasileirao-2024/Gold/Mart_Desempenho_Clubes/</td></tr><tr><td>9</td><td>norm_assistencias</td><td>double</td><td>Total de assistências feitas pelo clube, normalizado com Min-Max Scaling (0 a 10).</td><td>0.0 | 10.0</td><td>20</td><td>0</td><td>14</td><td>6</td><td>Cálculo Normalização Min-Max (escala de 0 a 10) aplicado</td><td>Estatisticas_PorClube → Mart_Desempenho_Ofensivo_Clubes → Gold</td><td>Sem observações adicionais.</td><td>Tabela construída a partir da agregação de estatísticas individuais dos jogadores por clube.</td><td>https://fbref.com/</td><td>BrasilSerieA_2024_EstatisticaJogadorPorPartida.csv</td><td>s3://mvp-brasileirao-2024/Gold/Mart_Desempenho_Clubes/</td></tr><tr><td>22</td><td>score_defensivo</td><td>double</td><td>Score defensivo agregado do clube.</td><td>2.04 | 7.93</td><td>20</td><td>0</td><td>20</td><td>0</td><td>Pontuação calculada com base nas métricas defensivas normalizadas (desarmes, interceptações, bloqueios e gols sofridos), ponderadas e combinadas.</td><td>cálculo próprio</td><td>Sem observações adicionais.</td><td>Tabela construída a partir da agregação de estatísticas individuais dos jogadores por clube.</td><td>https://fbref.com/</td><td>BrasilSerieA_2024_EstatisticaJogadorPorPartida.csv</td><td>s3://mvp-brasileirao-2024/Gold/Mart_Desempenho_Clubes/</td></tr><tr><td>23</td><td>score_ofensivo</td><td>double</td><td>Score ofensivo agregado do clube.</td><td>0.64 | 8.42</td><td>20</td><td>0</td><td>18</td><td>2</td><td>Pontuação calculada com base nas métricas ofensivas normalizadas (gols marcados, assistências, chutes, xG, etc.), ponderadas e combinadas.</td><td>cálculo próprio</td><td>Sem observações adicionais.</td><td>Tabela construída a partir da agregação de estatísticas individuais dos jogadores por clube.</td><td>https://fbref.com/</td><td>BrasilSerieA_2024_EstatisticaJogadorPorPartida.csv</td><td>s3://mvp-brasileirao-2024/Gold/Mart_Desempenho_Clubes/</td></tr><tr><td>24</td><td>score_criacao</td><td>double</td><td>Score de criação de jogadas do clube.</td><td>0.12 | 8.65</td><td>20</td><td>0</td><td>19</td><td>1</td><td>Pontuação baseada em métricas de criação (ações de criação, passes esperados, assistências, etc.), normalizadas e combinadas.</td><td>cálculo próprio</td><td>Sem observações adicionais.</td><td>Tabela construída a partir da agregação de estatísticas individuais dos jogadores por clube.</td><td>https://fbref.com/</td><td>BrasilSerieA_2024_EstatisticaJogadorPorPartida.csv</td><td>s3://mvp-brasileirao-2024/Gold/Mart_Desempenho_Clubes/</td></tr><tr><td>1</td><td>posicao</td><td>int</td><td>Posição final do clube na classificação geral.</td><td>1 | 20</td><td>20</td><td>0</td><td>20</td><td>0</td><td>Derivado da tabela de classificação.</td><td>classificacao_tier</td><td>Sem observações adicionais.</td><td>Tabela construída a partir da agregação de estatísticas individuais dos jogadores por clube.</td><td>https://fbref.com/</td><td>BrasilSerieA_2024_EstatisticaJogadorPorPartida.csv</td><td>s3://mvp-brasileirao-2024/Gold/Mart_Desempenho_Clubes/</td></tr><tr><td>2</td><td>clube</td><td>string</td><td>Nome do clube.</td><td>Athletico-PR | Vasco da Gama</td><td>20</td><td>0</td><td>20</td><td>0</td><td>Derivado da tabela de classificação.</td><td>classificacao_tier</td><td>Sem observações adicionais.</td><td>Tabela construída a partir da agregação de estatísticas individuais dos jogadores por clube.</td><td>https://fbref.com/</td><td>BrasilSerieA_2024_EstatisticaJogadorPorPartida.csv</td><td>s3://mvp-brasileirao-2024/Gold/Mart_Desempenho_Clubes/</td></tr><tr><td>3</td><td>tier_clubes</td><td>string</td><td>Tierlist do clube com base na sua posição (S, A, B, C).</td><td>TIER A | TIER S</td><td>20</td><td>0</td><td>4</td><td>16</td><td>Derivado com regras de segmentação por posição.</td><td>classificacao_tier</td><td>Sem observações adicionais.</td><td>Tabela construída a partir da agregação de estatísticas individuais dos jogadores por clube.</td><td>https://fbref.com/</td><td>BrasilSerieA_2024_EstatisticaJogadorPorPartida.csv</td><td>s3://mvp-brasileirao-2024/Gold/Mart_Desempenho_Clubes/</td></tr></tbody></table></div>"
      ]
     },
     "metadata": {
      "application/vnd.databricks.v1+output": {
       "addedWidgets": {},
       "aggData": [],
       "aggError": "",
       "aggOverflow": false,
       "aggSchema": [],
       "aggSeriesLimitReached": false,
       "aggType": "",
       "arguments": {},
       "columnCustomDisplayInfos": {},
       "data": [
        [
         13,
         "norm_gols_esperados",
         "double",
         "Total de gols esperados (xG) do clube, normalizado com Min-Max Scaling (0 a 10).",
         "0.0 | 10.0",
         20,
         0,
         20,
         0,
         "Cálculo Normalização Min-Max (escala de 0 a 10) aplicado",
         "Estatisticas_PorClube → Mart_Desempenho_Ofensivo_Clubes → Gold",
         "Sem observações adicionais.",
         "Tabela construída a partir da agregação de estatísticas individuais dos jogadores por clube.",
         "https://fbref.com/",
         "BrasilSerieA_2024_EstatisticaJogadorPorPartida.csv",
         "s3://mvp-brasileirao-2024/Gold/Mart_Desempenho_Clubes/"
        ],
        [
         14,
         "norm_ass_esperadas",
         "double",
         "Total de assistências esperadas (xA) do clube, normalizado com Min-Max Scaling (0 a 10).",
         "0.0 | 10.0",
         20,
         0,
         20,
         0,
         "Cálculo Normalização Min-Max (escala de 0 a 10) aplicado",
         "Estatisticas_PorClube → Mart_Desempenho_Ofensivo_Clubes → Gold",
         "Sem observações adicionais.",
         "Tabela construída a partir da agregação de estatísticas individuais dos jogadores por clube.",
         "https://fbref.com/",
         "BrasilSerieA_2024_EstatisticaJogadorPorPartida.csv",
         "s3://mvp-brasileirao-2024/Gold/Mart_Desempenho_Clubes/"
        ],
        [
         15,
         "norm_acoes_de_criacao",
         "double",
         "Total de ações de criação de jogadas do clube, normalizado com Min-Max Scaling (0 a 10).",
         "0.0 | 10.0",
         20,
         0,
         20,
         0,
         "Cálculo Normalização Min-Max (escala de 0 a 10) aplicado",
         "Estatisticas_PorClube → Mart_Desempenho_Ofensivo_Clubes → Gold",
         "Sem observações adicionais.",
         "Tabela construída a partir da agregação de estatísticas individuais dos jogadores por clube.",
         "https://fbref.com/",
         "BrasilSerieA_2024_EstatisticaJogadorPorPartida.csv",
         "s3://mvp-brasileirao-2024/Gold/Mart_Desempenho_Clubes/"
        ],
        [
         19,
         "norm_passes_tentados",
         "double",
         "Total de passes tentados pelo clube, normalizado com Min-Max Scaling (0 a 10).",
         "0.0 | 10.0",
         20,
         0,
         20,
         0,
         "Cálculo Normalização Min-Max (escala de 0 a 10) aplicado",
         "Estatisticas_PorClube → Mart_Desempenho_Criacao_Clubes → Gold",
         "Sem observações adicionais.",
         "Tabela construída a partir da agregação de estatísticas individuais dos jogadores por clube.",
         "https://fbref.com/",
         "BrasilSerieA_2024_EstatisticaJogadorPorPartida.csv",
         "s3://mvp-brasileirao-2024/Gold/Mart_Desempenho_Clubes/"
        ],
        [
         20,
         "norm_conducoes_de_bola",
         "double",
         "Total de conduções de bola do clube, normalizado com Min-Max Scaling (0 a 10).",
         "0.0 | 10.0",
         20,
         0,
         20,
         0,
         "Cálculo Normalização Min-Max (escala de 0 a 10) aplicado",
         "Estatisticas_PorClube → Mart_Desempenho_Criacao_Clubes → Gold",
         "Sem observações adicionais.",
         "Tabela construída a partir da agregação de estatísticas individuais dos jogadores por clube.",
         "https://fbref.com/",
         "BrasilSerieA_2024_EstatisticaJogadorPorPartida.csv",
         "s3://mvp-brasileirao-2024/Gold/Mart_Desempenho_Clubes/"
        ],
        [
         21,
         "norm_conducoes_progressivas",
         "double",
         "Total de conduções progressivas de bola do clube, normalizado com Min-Max Scaling (0 a 10).",
         "0.0 | 10.0",
         20,
         0,
         20,
         0,
         "Cálculo Normalização Min-Max (escala de 0 a 10) aplicado",
         "Estatisticas_PorClube → Mart_Desempenho_Criacao_Clubes → Gold",
         "Sem observações adicionais.",
         "Tabela construída a partir da agregação de estatísticas individuais dos jogadores por clube.",
         "https://fbref.com/",
         "BrasilSerieA_2024_EstatisticaJogadorPorPartida.csv",
         "s3://mvp-brasileirao-2024/Gold/Mart_Desempenho_Clubes/"
        ],
        [
         10,
         "norm_penaltis_batidos",
         "double",
         "Total de pênaltis batidos pelo clube, normalizado com Min-Max Scaling (0 a 10).",
         "0.0 | 10.0",
         20,
         0,
         10,
         10,
         "Cálculo Normalização Min-Max (escala de 0 a 10) aplicado",
         "Estatisticas_PorClube → Mart_Desempenho_Ofensivo_Clubes → Gold",
         "Sem observações adicionais.",
         "Tabela construída a partir da agregação de estatísticas individuais dos jogadores por clube.",
         "https://fbref.com/",
         "BrasilSerieA_2024_EstatisticaJogadorPorPartida.csv",
         "s3://mvp-brasileirao-2024/Gold/Mart_Desempenho_Clubes/"
        ],
        [
         11,
         "norm_total_chutes",
         "double",
         "Total de chutes realizados pelo clube, normalizado com Min-Max Scaling (0 a 10).",
         "0.0 | 10.0",
         20,
         0,
         19,
         1,
         "Cálculo Normalização Min-Max (escala de 0 a 10) aplicado",
         "Estatisticas_PorClube → Mart_Desempenho_Ofensivo_Clubes → Gold",
         "Sem observações adicionais.",
         "Tabela construída a partir da agregação de estatísticas individuais dos jogadores por clube.",
         "https://fbref.com/",
         "BrasilSerieA_2024_EstatisticaJogadorPorPartida.csv",
         "s3://mvp-brasileirao-2024/Gold/Mart_Desempenho_Clubes/"
        ],
        [
         12,
         "norm_chutes_gol",
         "double",
         "Total de chutes no alvo do clube, normalizado com Min-Max Scaling (0 a 10).",
         "0.0 | 10.0",
         20,
         0,
         20,
         0,
         "Cálculo Normalização Min-Max (escala de 0 a 10) aplicado",
         "Estatisticas_PorClube → Mart_Desempenho_Ofensivo_Clubes → Gold",
         "Sem observações adicionais.",
         "Tabela construída a partir da agregação de estatísticas individuais dos jogadores por clube.",
         "https://fbref.com/",
         "BrasilSerieA_2024_EstatisticaJogadorPorPartida.csv",
         "s3://mvp-brasileirao-2024/Gold/Mart_Desempenho_Clubes/"
        ],
        [
         4,
         "norm_gols_sofridos",
         "double",
         "Total de gols sofridos pelo clube, normalizado com Min-Max Scaling (0 a 10).",
         "0.0 | 10.0",
         20,
         0,
         18,
         2,
         "Cálculo Normalização Min-Max (escala de 0 a 10) aplicado",
         "classificacao_tier → Mart_Desempenho_Defensivo_Clubes → Gold",
         "Sem observações adicionais.",
         "Tabela construída a partir da agregação de estatísticas individuais dos jogadores por clube.",
         "https://fbref.com/",
         "BrasilSerieA_2024_EstatisticaJogadorPorPartida.csv",
         "s3://mvp-brasileirao-2024/Gold/Mart_Desempenho_Clubes/"
        ],
        [
         5,
         "norm_desarmes",
         "double",
         "Total de desarmes realizados pelo clube, normalizado com Min-Max Scaling (0 a 10).",
         "0.0 | 10.0",
         20,
         0,
         17,
         3,
         "Cálculo Normalização Min-Max (escala de 0 a 10) aplicado",
         "Estatisticas_PorClube → Mart_Desempenho_Defensivo_Clubes → Gold",
         "Sem observações adicionais.",
         "Tabela construída a partir da agregação de estatísticas individuais dos jogadores por clube.",
         "https://fbref.com/",
         "BrasilSerieA_2024_EstatisticaJogadorPorPartida.csv",
         "s3://mvp-brasileirao-2024/Gold/Mart_Desempenho_Clubes/"
        ],
        [
         6,
         "norm_interceptacoes",
         "double",
         "Total de interceptações feitas pelo clube, normalizado com Min-Max Scaling (0 a 10).",
         "0.0 | 10.0",
         20,
         0,
         19,
         1,
         "Cálculo Normalização Min-Max (escala de 0 a 10) aplicado",
         "Estatisticas_PorClube → Mart_Desempenho_Defensivo_Clubes → Gold",
         "Sem observações adicionais.",
         "Tabela construída a partir da agregação de estatísticas individuais dos jogadores por clube.",
         "https://fbref.com/",
         "BrasilSerieA_2024_EstatisticaJogadorPorPartida.csv",
         "s3://mvp-brasileirao-2024/Gold/Mart_Desempenho_Clubes/"
        ],
        [
         16,
         "norm_acoes_de_gol",
         "double",
         "Total de ações que levaram a gol, normalizado com Min-Max Scaling (0 a 10).",
         "0.0 | 10.0",
         20,
         0,
         17,
         3,
         "Cálculo Normalização Min-Max (escala de 0 a 10) aplicado",
         "Estatisticas_PorClube → Mart_Desempenho_Ofensivo_Clubes → Gold",
         "Sem observações adicionais.",
         "Tabela construída a partir da agregação de estatísticas individuais dos jogadores por clube.",
         "https://fbref.com/",
         "BrasilSerieA_2024_EstatisticaJogadorPorPartida.csv",
         "s3://mvp-brasileirao-2024/Gold/Mart_Desempenho_Clubes/"
        ],
        [
         17,
         "norm_eficiencia",
         "double",
         "Índice de eficiência geral ofensiva e defensiva do clube, normalizado com Min-Max Scaling (0 a 10).",
         "0.0 | 10.0",
         20,
         0,
         20,
         0,
         "Média ponderada de métricas-chave, normalizada por Min-Max com ajuste para escala de 0 a 10.",
         "cálculo próprio",
         "Sem observações adicionais.",
         "Tabela construída a partir da agregação de estatísticas individuais dos jogadores por clube.",
         "https://fbref.com/",
         "BrasilSerieA_2024_EstatisticaJogadorPorPartida.csv",
         "s3://mvp-brasileirao-2024/Gold/Mart_Desempenho_Clubes/"
        ],
        [
         18,
         "norm_passes_completos",
         "double",
         "Total de passes completos do clube, normalizado com Min-Max Scaling (0 a 10).",
         "0.0 | 10.0",
         20,
         0,
         20,
         0,
         "Cálculo Normalização Min-Max (escala de 0 a 10) aplicado",
         "Estatisticas_PorClube → Mart_Desempenho_Criacao_Clubes → Gold",
         "Sem observações adicionais.",
         "Tabela construída a partir da agregação de estatísticas individuais dos jogadores por clube.",
         "https://fbref.com/",
         "BrasilSerieA_2024_EstatisticaJogadorPorPartida.csv",
         "s3://mvp-brasileirao-2024/Gold/Mart_Desempenho_Clubes/"
        ],
        [
         7,
         "norm_bloqueios",
         "double",
         "Total de bloqueios realizados pelo clube, normalizado com Min-Max Scaling (0 a 10).",
         "0.0 | 10.0",
         20,
         0,
         20,
         0,
         "Cálculo Normalização Min-Max (escala de 0 a 10) aplicado",
         "Estatisticas_PorClube → Mart_Desempenho_Defensivo_Clubes → Gold",
         "Sem observações adicionais.",
         "Tabela construída a partir da agregação de estatísticas individuais dos jogadores por clube.",
         "https://fbref.com/",
         "BrasilSerieA_2024_EstatisticaJogadorPorPartida.csv",
         "s3://mvp-brasileirao-2024/Gold/Mart_Desempenho_Clubes/"
        ],
        [
         8,
         "norm_gols_marcados",
         "double",
         "Total de gols marcados pelo clube, normalizado com Min-Max Scaling (0 a 10).",
         "0.0 | 10.0",
         20,
         0,
         15,
         5,
         "Cálculo Normalização Min-Max (escala de 0 a 10) aplicado",
         "Estatisticas_PorClube → Mart_Desempenho_Ofensivo_Clubes → Gold",
         "Sem observações adicionais.",
         "Tabela construída a partir da agregação de estatísticas individuais dos jogadores por clube.",
         "https://fbref.com/",
         "BrasilSerieA_2024_EstatisticaJogadorPorPartida.csv",
         "s3://mvp-brasileirao-2024/Gold/Mart_Desempenho_Clubes/"
        ],
        [
         9,
         "norm_assistencias",
         "double",
         "Total de assistências feitas pelo clube, normalizado com Min-Max Scaling (0 a 10).",
         "0.0 | 10.0",
         20,
         0,
         14,
         6,
         "Cálculo Normalização Min-Max (escala de 0 a 10) aplicado",
         "Estatisticas_PorClube → Mart_Desempenho_Ofensivo_Clubes → Gold",
         "Sem observações adicionais.",
         "Tabela construída a partir da agregação de estatísticas individuais dos jogadores por clube.",
         "https://fbref.com/",
         "BrasilSerieA_2024_EstatisticaJogadorPorPartida.csv",
         "s3://mvp-brasileirao-2024/Gold/Mart_Desempenho_Clubes/"
        ],
        [
         22,
         "score_defensivo",
         "double",
         "Score defensivo agregado do clube.",
         "2.04 | 7.93",
         20,
         0,
         20,
         0,
         "Pontuação calculada com base nas métricas defensivas normalizadas (desarmes, interceptações, bloqueios e gols sofridos), ponderadas e combinadas.",
         "cálculo próprio",
         "Sem observações adicionais.",
         "Tabela construída a partir da agregação de estatísticas individuais dos jogadores por clube.",
         "https://fbref.com/",
         "BrasilSerieA_2024_EstatisticaJogadorPorPartida.csv",
         "s3://mvp-brasileirao-2024/Gold/Mart_Desempenho_Clubes/"
        ],
        [
         23,
         "score_ofensivo",
         "double",
         "Score ofensivo agregado do clube.",
         "0.64 | 8.42",
         20,
         0,
         18,
         2,
         "Pontuação calculada com base nas métricas ofensivas normalizadas (gols marcados, assistências, chutes, xG, etc.), ponderadas e combinadas.",
         "cálculo próprio",
         "Sem observações adicionais.",
         "Tabela construída a partir da agregação de estatísticas individuais dos jogadores por clube.",
         "https://fbref.com/",
         "BrasilSerieA_2024_EstatisticaJogadorPorPartida.csv",
         "s3://mvp-brasileirao-2024/Gold/Mart_Desempenho_Clubes/"
        ],
        [
         24,
         "score_criacao",
         "double",
         "Score de criação de jogadas do clube.",
         "0.12 | 8.65",
         20,
         0,
         19,
         1,
         "Pontuação baseada em métricas de criação (ações de criação, passes esperados, assistências, etc.), normalizadas e combinadas.",
         "cálculo próprio",
         "Sem observações adicionais.",
         "Tabela construída a partir da agregação de estatísticas individuais dos jogadores por clube.",
         "https://fbref.com/",
         "BrasilSerieA_2024_EstatisticaJogadorPorPartida.csv",
         "s3://mvp-brasileirao-2024/Gold/Mart_Desempenho_Clubes/"
        ],
        [
         1,
         "posicao",
         "int",
         "Posição final do clube na classificação geral.",
         "1 | 20",
         20,
         0,
         20,
         0,
         "Derivado da tabela de classificação.",
         "classificacao_tier",
         "Sem observações adicionais.",
         "Tabela construída a partir da agregação de estatísticas individuais dos jogadores por clube.",
         "https://fbref.com/",
         "BrasilSerieA_2024_EstatisticaJogadorPorPartida.csv",
         "s3://mvp-brasileirao-2024/Gold/Mart_Desempenho_Clubes/"
        ],
        [
         2,
         "clube",
         "string",
         "Nome do clube.",
         "Athletico-PR | Vasco da Gama",
         20,
         0,
         20,
         0,
         "Derivado da tabela de classificação.",
         "classificacao_tier",
         "Sem observações adicionais.",
         "Tabela construída a partir da agregação de estatísticas individuais dos jogadores por clube.",
         "https://fbref.com/",
         "BrasilSerieA_2024_EstatisticaJogadorPorPartida.csv",
         "s3://mvp-brasileirao-2024/Gold/Mart_Desempenho_Clubes/"
        ],
        [
         3,
         "tier_clubes",
         "string",
         "Tierlist do clube com base na sua posição (S, A, B, C).",
         "TIER A | TIER S",
         20,
         0,
         4,
         16,
         "Derivado com regras de segmentação por posição.",
         "classificacao_tier",
         "Sem observações adicionais.",
         "Tabela construída a partir da agregação de estatísticas individuais dos jogadores por clube.",
         "https://fbref.com/",
         "BrasilSerieA_2024_EstatisticaJogadorPorPartida.csv",
         "s3://mvp-brasileirao-2024/Gold/Mart_Desempenho_Clubes/"
        ]
       ],
       "datasetInfos": [],
       "dbfsResultPath": null,
       "isJsonSchema": true,
       "metadata": {},
       "overflow": false,
       "plotOptions": {
        "customPlotOptions": {},
        "displayType": "table",
        "pivotAggregation": null,
        "pivotColumns": null,
        "xColumns": null,
        "yColumns": null
       },
       "removedWidgets": [],
       "schema": [
        {
         "metadata": "{}",
         "name": "ID_Coluna",
         "type": "\"long\""
        },
        {
         "metadata": "{}",
         "name": "Coluna",
         "type": "\"string\""
        },
        {
         "metadata": "{}",
         "name": "Tipo_de_Dado",
         "type": "\"string\""
        },
        {
         "metadata": "{}",
         "name": "Definição",
         "type": "\"string\""
        },
        {
         "metadata": "{}",
         "name": "Valores_Min_Max",
         "type": "\"string\""
        },
        {
         "metadata": "{}",
         "name": "Qtd_Valores_Registrados",
         "type": "\"long\""
        },
        {
         "metadata": "{}",
         "name": "Qtd_Valores_Nulos",
         "type": "\"long\""
        },
        {
         "metadata": "{}",
         "name": "Qtd_Valores_Distintos",
         "type": "\"long\""
        },
        {
         "metadata": "{}",
         "name": "Qtd_Valores_Duplicados",
         "type": "\"long\""
        },
        {
         "metadata": "{}",
         "name": "Regras_de_Transformação",
         "type": "\"string\""
        },
        {
         "metadata": "{}",
         "name": "Linhagem_Dados",
         "type": "\"string\""
        },
        {
         "metadata": "{}",
         "name": "Observacoes",
         "type": "\"string\""
        },
        {
         "metadata": "{}",
         "name": "Fonte",
         "type": "\"string\""
        },
        {
         "metadata": "{}",
         "name": "Link_Fonte",
         "type": "\"string\""
        },
        {
         "metadata": "{}",
         "name": "Arquivo_Original",
         "type": "\"string\""
        },
        {
         "metadata": "{}",
         "name": "Arquivo_S3",
         "type": "\"string\""
        }
       ],
       "type": "table"
      }
     },
     "output_type": "display_data"
    }
   ],
   "source": [
    "%sql\n",
    "select * from catalogo_de_dados.catalog_desempenho_clubes"
   ]
  },
  {
   "cell_type": "markdown",
   "metadata": {
    "application/vnd.databricks.v1+cell": {
     "cellMetadata": {
      "byteLimit": 2048000,
      "rowLimit": 10000
     },
     "inputWidgets": {},
     "nuid": "36932032-95fd-43f4-879c-f2c387edbbe0",
     "showTitle": false,
     "tableResultSettingsMap": {},
     "title": ""
    }
   },
   "source": [
    "## 🔷 desempenho_jogadores"
   ]
  },
  {
   "cell_type": "markdown",
   "metadata": {
    "application/vnd.databricks.v1+cell": {
     "cellMetadata": {},
     "inputWidgets": {},
     "nuid": "be2e6df2-9543-4e1f-a98d-4032d5bde4bb",
     "showTitle": false,
     "tableResultSettingsMap": {},
     "title": ""
    }
   },
   "source": [
    "### 🔹 Criando o Metadata do dataframe"
   ]
  },
  {
   "cell_type": "code",
   "execution_count": 0,
   "metadata": {
    "application/vnd.databricks.v1+cell": {
     "cellMetadata": {
      "byteLimit": 2048000,
      "rowLimit": 10000
     },
     "inputWidgets": {},
     "nuid": "5bda9995-304b-40a3-ac52-6399ed2c7498",
     "showTitle": false,
     "tableResultSettingsMap": {},
     "title": ""
    }
   },
   "outputs": [],
   "source": [
    "from pyspark.sql import Row\n",
    "from pyspark.sql.functions import col, count, countDistinct, min, max, sum, expr\n",
    "\n",
    "# Nome da tabela que queremos analisar (mudar para cada dataset da Silver)\n",
    "tabela_gold = \"marts_mvp_brasileirao.desempenho_jogadores\"\n",
    "\n",
    "# Ler os dados da Silver diretamente do Metastore\n",
    "df = spark.read.table(tabela_gold)\n",
    "\n",
    "# Criar DataFrame com estatísticas (incluindo contagem de nulos correta e duplicatas)\n",
    "metadata_df = df.agg(\n",
    "    *[count(col(c)).alias(f\"{c}_count\") for c in df.columns],  # Contagem total de registros NÃO NULOS\n",
    "    *[countDistinct(col(c)).alias(f\"{c}_distinct\") for c in df.columns],  # Contagem de valores distintos\n",
    "    *[min(col(c)).alias(f\"{c}_min\") for c in df.columns],  # Valor mínimo\n",
    "    *[max(col(c)).alias(f\"{c}_max\") for c in df.columns],  # Valor máximo\n",
    "    *[sum(col(c).isNull().cast(\"int\")).alias(f\"{c}_nulls\") for c in df.columns],  # Contagem correta de nulos\n",
    "    *[(count(col(c)) - countDistinct(col(c))).alias(f\"{c}_duplicates\") for c in df.columns]  # Contagem de valores duplicados\n",
    ")"
   ]
  },
  {
   "cell_type": "markdown",
   "metadata": {
    "application/vnd.databricks.v1+cell": {
     "cellMetadata": {},
     "inputWidgets": {},
     "nuid": "1123cfb2-36cb-473a-aa48-4e1b155c79ef",
     "showTitle": false,
     "tableResultSettingsMap": {},
     "title": ""
    }
   },
   "source": [
    "### 🔹 Criação do Dicionário de descrições"
   ]
  },
  {
   "cell_type": "code",
   "execution_count": 0,
   "metadata": {
    "application/vnd.databricks.v1+cell": {
     "cellMetadata": {
      "byteLimit": 2048000,
      "rowLimit": 10000
     },
     "inputWidgets": {},
     "nuid": "3bc1c670-bcf3-4524-bc61-ec4427837d03",
     "showTitle": false,
     "tableResultSettingsMap": {},
     "title": ""
    }
   },
   "outputs": [],
   "source": [
    "col_descriptions = {\n",
    "    \"jogador\": (\n",
    "        \"Nome do jogador.\",\n",
    "        \"Derivado da tabela de Estatisticas_PorJogador.\",\n",
    "        \"Estatisticas_PorJogador → Mart_Desempenho_Jogadores → Gold\"\n",
    "    ),\n",
    "    \"clube\": (\n",
    "        \"Nome do clube ao qual o jogador pertence.\",\n",
    "        \"Derivado da tabela de Estatisticas_PorJogador.\",\n",
    "        \"Estatisticas_PorJogador → Mart_Desempenho_Jogadores → Gold\"\n",
    "    ),\n",
    "    \"numero_camisa\": (\n",
    "        \"Número da camisa do jogador.\",\n",
    "        \"Derivado da tabela de Estatisticas_PorJogador.\",\n",
    "        \"Estatisticas_PorJogador → Mart_Desempenho_Jogadores → Gold\"\n",
    "    ),\n",
    "    \"minutos_em_campo\": (\n",
    "        \"Total de minutos que o jogador esteve em campo ao longo da competição.\",\n",
    "        \"Derivado da tabela de Estatisticas_PorJogador.\",\n",
    "        \"Estatisticas_PorJogador → Mart_Desempenho_Jogadores → Gold\"\n",
    "    ),\n",
    "    \"norm_gols_sofridos_clube\": (\n",
    "        \"Gols sofridos pelo clube enquanto o jogador estava em campo, normalizado com Min-Max Scaling (0 a 10).\",\n",
    "        \"Cálculo Normalização Min-Max (escala de 0 a 10) aplicado.\",\n",
    "        \"Estatisticas_PorJogador → Mart_Desempenho_Jogadores → Gold\"\n",
    "    ),\n",
    "    \"norm_desarmes\": (\n",
    "        \"Total de desarmes realizados pelo jogador, normalizado com Min-Max Scaling (0 a 10).\",\n",
    "        \"Cálculo Normalização Min-Max (escala de 0 a 10) aplicado.\",\n",
    "        \"Estatisticas_PorJogador → Mart_Desempenho_Jogadores → Gold\"\n",
    "    ),\n",
    "    \"norm_interceptacoes\": (\n",
    "        \"Total de interceptações feitas pelo jogador, normalizado com Min-Max Scaling (0 a 10).\",\n",
    "        \"Cálculo Normalização Min-Max (escala de 0 a 10) aplicado.\",\n",
    "        \"Estatisticas_PorJogador → Mart_Desempenho_Jogadores → Gold\"\n",
    "    ),\n",
    "    \"norm_bloqueios\": (\n",
    "        \"Total de bloqueios realizados pelo jogador, normalizado com Min-Max Scaling (0 a 10).\",\n",
    "        \"Cálculo Normalização Min-Max (escala de 0 a 10) aplicado.\",\n",
    "        \"Estatisticas_PorJogador → Mart_Desempenho_Jogadores → Gold\"\n",
    "    ),\n",
    "    \"norm_gols_marcados\": (\n",
    "        \"Total de gols marcados pelo jogador, normalizado com Min-Max Scaling (0 a 10).\",\n",
    "        \"Cálculo Normalização Min-Max (escala de 0 a 10) aplicado.\",\n",
    "        \"Estatisticas_PorJogador → Mart_Desempenho_Jogadores → Gold\"\n",
    "    ),\n",
    "    \"norm_ass\": (\n",
    "        \"Total de assistências do jogador, normalizado com Min-Max Scaling (0 a 10).\",\n",
    "        \"Cálculo Normalização Min-Max (escala de 0 a 10) aplicado.\",\n",
    "        \"Estatisticas_PorJogador → Mart_Desempenho_Jogadores → Gold\"\n",
    "    ),\n",
    "    \"norm_penaltis_batidos\": (\n",
    "        \"Total de pênaltis batidos pelo jogador, normalizado com Min-Max Scaling (0 a 10).\",\n",
    "        \"Cálculo Normalização Min-Max (escala de 0 a 10) aplicado.\",\n",
    "        \"Estatisticas_PorJogador → Mart_Desempenho_Jogadores → Gold\"\n",
    "    ),\n",
    "    \"norm_total_chutes\": (\n",
    "        \"Total de chutes do jogador, normalizado com Min-Max Scaling (0 a 10).\",\n",
    "        \"Cálculo Normalização Min-Max (escala de 0 a 10) aplicado.\",\n",
    "        \"Estatisticas_PorJogador → Mart_Desempenho_Jogadores → Gold\"\n",
    "    ),\n",
    "    \"norm_chutes_gol\": (\n",
    "        \"Total de chutes no alvo do jogador, normalizado com Min-Max Scaling (0 a 10).\",\n",
    "        \"Cálculo Normalização Min-Max (escala de 0 a 10) aplicado.\",\n",
    "        \"Estatisticas_PorJogador → Mart_Desempenho_Jogadores → Gold\"\n",
    "    ),\n",
    "    \"norm_gols_esperados\": (\n",
    "        \"xG (gols esperados) do jogador, normalizado com Min-Max Scaling (0 a 10).\",\n",
    "        \"Cálculo Normalização Min-Max (escala de 0 a 10) aplicado.\",\n",
    "        \"Estatisticas_PorJogador → Mart_Desempenho_Jogadores → Gold\"\n",
    "    ),\n",
    "    \"norm_ass_esperadas\": (\n",
    "        \"xA (assistências esperadas) do jogador, normalizado com Min-Max Scaling (0 a 10).\",\n",
    "        \"Cálculo Normalização Min-Max (escala de 0 a 10) aplicado.\",\n",
    "        \"Estatisticas_PorJogador → Mart_Desempenho_Jogadores → Gold\"\n",
    "    ),\n",
    "    \"norm_acoes_de_criacao\": (\n",
    "        \"Total de ações de criação de jogadas do jogador, normalizado com Min-Max Scaling (0 a 10).\",\n",
    "        \"Cálculo Normalização Min-Max (escala de 0 a 10) aplicado.\",\n",
    "        \"Estatisticas_PorJogador → Mart_Desempenho_Jogadores → Gold\"\n",
    "    ),\n",
    "    \"norm_acoes_de_gol\": (\n",
    "        \"Total de ações diretamente ligadas a gols do jogador, normalizado com Min-Max Scaling (0 a 10).\",\n",
    "        \"Cálculo Normalização Min-Max (escala de 0 a 10) aplicado.\",\n",
    "        \"Estatisticas_PorJogador → Mart_Desempenho_Jogadores → Gold\"\n",
    "    ),\n",
    "    \"norm_eficiencia\": (\n",
    "        \"Índice geral de eficiência do jogador, normalizado com Min-Max Scaling (0 a 10).\",\n",
    "        \"Cálculo Normalização Min-Max (escala de 0 a 10) aplicado.\",\n",
    "        \"cálculo próprio\"\n",
    "    ),\n",
    "    \"norm_passes_completos\": (\n",
    "        \"Total de passes completos do jogador, normalizado com Min-Max Scaling (0 a 10).\",\n",
    "        \"Cálculo Normalização Min-Max (escala de 0 a 10) aplicado.\",\n",
    "        \"Estatisticas_PorJogador → Mart_Desempenho_Jogadores → Gold\"\n",
    "    ),\n",
    "    \"norm_passes_tentados\": (\n",
    "        \"Total de passes tentados pelo jogador, normalizado com Min-Max Scaling (0 a 10).\",\n",
    "        \"Cálculo Normalização Min-Max (escala de 0 a 10) aplicado.\",\n",
    "        \"Estatisticas_PorJogador → Mart_Desempenho_Jogadores → Gold\"\n",
    "    ),\n",
    "    \"norm_conducoes_de_bola\": (\n",
    "        \"Total de conduções de bola do jogador, normalizado com Min-Max Scaling (0 a 10).\",\n",
    "        \"Cálculo Normalização Min-Max (escala de 0 a 10) aplicado.\",\n",
    "        \"Estatisticas_PorJogador → Mart_Desempenho_Jogadores → Gold\"\n",
    "    ),\n",
    "    \"norm_conducoes_progressivas\": (\n",
    "        \"Conduções progressivas (em direção ao ataque) do jogador, normalizado com Min-Max Scaling (0 a 10).\",\n",
    "        \"Cálculo Normalização Min-Max (escala de 0 a 10) aplicado.\",\n",
    "        \"Estatisticas_PorJogador → Mart_Desempenho_Jogadores → Gold\"\n",
    "    ),\n",
    "    \"score_defensivo\": (\n",
    "        \"Score defensivo agregado do jogador.\",\n",
    "        \"Pontuação calculada com base nas métricas defensivas normalizadas (desarmes, interceptações, bloqueios e gols sofridos), ponderadas e combinadas.\",\n",
    "        \"cálculo próprio\"\n",
    "    ),\n",
    "    \"score_ofensivo\": (\n",
    "        \"Score ofensivo agregado do jogador.\",\n",
    "        \"Pontuação calculada com base nas métricas ofensivas normalizadas (gols marcados, assistências, chutes, xG, etc.), ponderadas e combinadas.\",\n",
    "        \"cálculo próprio\"\n",
    "    ),\n",
    "    \"score_criacao\": (\n",
    "        \"Score de criação de jogadas do jogador.\",\n",
    "        \"Pontuação baseada em métricas de criação (ações de criação, passes esperados, assistências, etc.), normalizadas e combinadas.\",\n",
    "        \"cálculo próprio\"\n",
    "    )\n",
    "}\n"
   ]
  },
  {
   "cell_type": "markdown",
   "metadata": {
    "application/vnd.databricks.v1+cell": {
     "cellMetadata": {},
     "inputWidgets": {},
     "nuid": "9f9f1b9f-77e5-49df-91e3-7daeda08b4d1",
     "showTitle": false,
     "tableResultSettingsMap": {},
     "title": ""
    }
   },
   "source": [
    "### 🔹 Criando o Dataframe do Catálogo"
   ]
  },
  {
   "cell_type": "code",
   "execution_count": 0,
   "metadata": {
    "application/vnd.databricks.v1+cell": {
     "cellMetadata": {
      "byteLimit": 2048000,
      "rowLimit": 10000
     },
     "inputWidgets": {},
     "nuid": "ba077d14-c84b-482e-9863-60b3240c9e2f",
     "showTitle": false,
     "tableResultSettingsMap": {},
     "title": ""
    }
   },
   "outputs": [],
   "source": [
    "# Criar lista de metadados para o Catálogo de Dados\n",
    "catalog_data = []\n",
    "\n",
    "# Iterar sobre as colunas da tabela Silver\n",
    "for index, col_name in enumerate(df.columns, start=1):\n",
    "    col_type = df.select(col(col_name)).schema.fields[0].dataType.simpleString()  # Tipo da coluna\n",
    "    col_count = metadata_df.collect()[0][f\"{col_name}_count\"]  # Contagem total (não nulos)\n",
    "    col_distinct = metadata_df.collect()[0][f\"{col_name}_distinct\"]  # Valores distintos\n",
    "    col_nulls = metadata_df.collect()[0][f\"{col_name}_nulls\"]  # Contagem correta de valores nulos\n",
    "    col_min = metadata_df.collect()[0][f\"{col_name}_min\"] if f\"{col_name}_min\" in metadata_df.columns else \"N/A\"\n",
    "    col_max = metadata_df.collect()[0][f\"{col_name}_max\"] if f\"{col_name}_max\" in metadata_df.columns else \"N/A\"\n",
    "    col_duplicates = metadata_df.collect()[0][f\"{col_name}_duplicates\"] if f\"{col_name}_duplicates\" in metadata_df.columns else 0  # Contagem de duplicados\n",
    "\n",
    "    # Buscar definição, regra de transformação e linhagem dos dados no dicionário\n",
    "    col_definition, transformations_applied, lineage_info = col_descriptions.get(\n",
    "        col_name, (f\"Descrição da coluna {col_name}\", \"Nenhuma alteração aplicada.\", \"Origem desconhecida\")\n",
    "    )\n",
    "\n",
    "    # Definir observações sobre a coluna (pode ser preenchido manualmente se necessário)\n",
    "    comments = \"Sem observações adicionais.\"\n",
    "\n",
    "    catalog_data.append(Row(\n",
    "        ID_Coluna=index,\n",
    "        Coluna=col_name,\n",
    "        Tipo_de_Dado=col_type,\n",
    "        Definição=col_definition,\n",
    "        Valores_Min_Max=f\"{col_min} | {col_max}\",\n",
    "        Qtd_Valores_Registrados=col_count,\n",
    "        Qtd_Valores_Nulos=col_nulls,\n",
    "        Qtd_Valores_Distintos=col_distinct,\n",
    "        Qtd_Valores_Duplicados=col_duplicates,\n",
    "        Regras_de_Transformação=transformations_applied,\n",
    "        Linhagem_Dados=lineage_info,\n",
    "        Observacoes=comments,\n",
    "        Fonte=\"Tabela construída a partir da extração e processamento das estatísticas individuais dos jogadores.\",\n",
    "        Link_Fonte=\"https://fbref.com/\",\n",
    "        Arquivo_Original=\"BrasilSerieA_2024_EstatisticaJogadorPorPartida.csv\",\n",
    "        Arquivo_S3=\"s3://mvp-brasileirao-2024/Gold/Mart_Desempenho_Jogadores/\"\n",
    "    ))\n",
    "\n",
    "catalog_df = spark.createDataFrame(catalog_data)"
   ]
  },
  {
   "cell_type": "markdown",
   "metadata": {
    "application/vnd.databricks.v1+cell": {
     "cellMetadata": {},
     "inputWidgets": {},
     "nuid": "9a1be7ba-5e74-40ff-b7e2-9066696f92a7",
     "showTitle": false,
     "tableResultSettingsMap": {},
     "title": ""
    }
   },
   "source": [
    "### 🔹 Salvando o Catálogo no S3 camada Gold"
   ]
  },
  {
   "cell_type": "code",
   "execution_count": 0,
   "metadata": {
    "application/vnd.databricks.v1+cell": {
     "cellMetadata": {
      "byteLimit": 2048000,
      "rowLimit": 10000
     },
     "inputWidgets": {},
     "nuid": "40538af5-972b-4067-be68-ad94ed102a7c",
     "showTitle": false,
     "tableResultSettingsMap": {},
     "title": ""
    }
   },
   "outputs": [
    {
     "name": "stdout",
     "output_type": "stream",
     "text": [
      "🚨 Arquivos antigos do Delta removidos com sucesso!\n",
      "✅ Catálogo Estatístico salvo no formato Delta com sucesso!\n"
     ]
    }
   ],
   "source": [
    "# Caminho no S3 para salvar o Catálogo Estatístico\n",
    "delta_catalogo_estatistico_path = \"s3://mvp-brasileirao-2024/gold/catalogo_de_dados/desempenho_jogadores\"\n",
    "\n",
    "dbutils.fs.rm(delta_catalogo_estatistico_path, recurse=True)\n",
    "print(\"🚨 Arquivos antigos do Delta removidos com sucesso!\")\n",
    "\n",
    "# Salvar a tabela Delta com as estatísticas\n",
    "catalog_df.write.format(\"delta\").mode(\"overwrite\").save(delta_catalogo_estatistico_path)\n",
    "\n",
    "print(\"✅ Catálogo Estatístico salvo no formato Delta com sucesso!\")"
   ]
  },
  {
   "cell_type": "markdown",
   "metadata": {
    "application/vnd.databricks.v1+cell": {
     "cellMetadata": {},
     "inputWidgets": {},
     "nuid": "482abd4a-af7e-4895-acda-a45a3dc6a2a9",
     "showTitle": false,
     "tableResultSettingsMap": {},
     "title": ""
    }
   },
   "source": [
    "### 🔹 Criando Tabela de Catálogos no Hive"
   ]
  },
  {
   "cell_type": "code",
   "execution_count": 0,
   "metadata": {
    "application/vnd.databricks.v1+cell": {
     "cellMetadata": {
      "byteLimit": 2048000,
      "implicitDf": true,
      "rowLimit": 10000
     },
     "inputWidgets": {},
     "nuid": "ba5e1518-db1e-4845-a8ef-ceece5b0ad9a",
     "showTitle": false,
     "tableResultSettingsMap": {},
     "title": ""
    }
   },
   "outputs": [
    {
     "data": {
      "text/html": [
       "<style scoped>\n",
       "  .table-result-container {\n",
       "    max-height: 300px;\n",
       "    overflow: auto;\n",
       "  }\n",
       "  table, th, td {\n",
       "    border: 1px solid black;\n",
       "    border-collapse: collapse;\n",
       "  }\n",
       "  th, td {\n",
       "    padding: 5px;\n",
       "  }\n",
       "  th {\n",
       "    text-align: left;\n",
       "  }\n",
       "</style><div class='table-result-container'><table class='table-result'><thead style='background-color: white'><tr></tr></thead><tbody></tbody></table></div>"
      ]
     },
     "metadata": {
      "application/vnd.databricks.v1+output": {
       "addedWidgets": {},
       "aggData": [],
       "aggError": "",
       "aggOverflow": false,
       "aggSchema": [],
       "aggSeriesLimitReached": false,
       "aggType": "",
       "arguments": {},
       "columnCustomDisplayInfos": {},
       "data": [],
       "datasetInfos": [],
       "dbfsResultPath": null,
       "isJsonSchema": true,
       "metadata": {},
       "overflow": false,
       "plotOptions": {
        "customPlotOptions": {},
        "displayType": "table",
        "pivotAggregation": null,
        "pivotColumns": null,
        "xColumns": null,
        "yColumns": null
       },
       "removedWidgets": [],
       "schema": [],
       "type": "table"
      }
     },
     "output_type": "display_data"
    }
   ],
   "source": [
    "%sql\n",
    "DROP TABLE IF EXISTS catalogo_de_dados.catalog_desempenho_jogadores;\n",
    "\n",
    "CREATE TABLE catalogo_de_dados.catalog_desempenho_jogadores\n",
    "USING DELTA\n",
    "LOCATION 's3://mvp-brasileirao-2024/gold/catalogo_de_dados/desempenho_jogadores';"
   ]
  },
  {
   "cell_type": "markdown",
   "metadata": {
    "application/vnd.databricks.v1+cell": {
     "cellMetadata": {},
     "inputWidgets": {},
     "nuid": "ed460102-7c0a-4150-919d-4679537a9714",
     "showTitle": false,
     "tableResultSettingsMap": {},
     "title": ""
    }
   },
   "source": [
    "### 🔹 Exibindo o Catálogo de Dados via SQL"
   ]
  },
  {
   "cell_type": "code",
   "execution_count": 0,
   "metadata": {
    "application/vnd.databricks.v1+cell": {
     "cellMetadata": {
      "byteLimit": 2048000,
      "implicitDf": true,
      "rowLimit": 10000
     },
     "inputWidgets": {},
     "nuid": "b06ad628-c8de-42d7-949c-e87c950dfdad",
     "showTitle": false,
     "tableResultSettingsMap": {},
     "title": ""
    }
   },
   "outputs": [
    {
     "data": {
      "text/html": [
       "<style scoped>\n",
       "  .table-result-container {\n",
       "    max-height: 300px;\n",
       "    overflow: auto;\n",
       "  }\n",
       "  table, th, td {\n",
       "    border: 1px solid black;\n",
       "    border-collapse: collapse;\n",
       "  }\n",
       "  th, td {\n",
       "    padding: 5px;\n",
       "  }\n",
       "  th {\n",
       "    text-align: left;\n",
       "  }\n",
       "</style><div class='table-result-container'><table class='table-result'><thead style='background-color: white'><tr><th>ID_Coluna</th><th>Coluna</th><th>Tipo_de_Dado</th><th>Definição</th><th>Valores_Min_Max</th><th>Qtd_Valores_Registrados</th><th>Qtd_Valores_Nulos</th><th>Qtd_Valores_Distintos</th><th>Qtd_Valores_Duplicados</th><th>Regras_de_Transformação</th><th>Linhagem_Dados</th><th>Observacoes</th><th>Fonte</th><th>Link_Fonte</th><th>Arquivo_Original</th><th>Arquivo_S3</th></tr></thead><tbody><tr><td>22</td><td>norm_conducoes_progressivas</td><td>double</td><td>Conduções progressivas (em direção ao ataque) do jogador, normalizado com Min-Max Scaling (0 a 10).</td><td>0.0 | 10.0</td><td>838</td><td>0</td><td>83</td><td>755</td><td>Cálculo Normalização Min-Max (escala de 0 a 10) aplicado.</td><td>Estatisticas_PorJogador → Mart_Desempenho_Jogadores → Gold</td><td>Sem observações adicionais.</td><td>Tabela construída a partir da extração e processamento das estatísticas individuais dos jogadores.</td><td>https://fbref.com/</td><td>BrasilSerieA_2024_EstatisticaJogadorPorPartida.csv</td><td>s3://mvp-brasileirao-2024/Gold/Mart_Desempenho_Jogadores/</td></tr><tr><td>23</td><td>score_defensivo</td><td>double</td><td>Score defensivo agregado do jogador.</td><td>0.0 | 9.46</td><td>838</td><td>0</td><td>430</td><td>408</td><td>Pontuação calculada com base nas métricas defensivas normalizadas (desarmes, interceptações, bloqueios e gols sofridos), ponderadas e combinadas.</td><td>cálculo próprio</td><td>Sem observações adicionais.</td><td>Tabela construída a partir da extração e processamento das estatísticas individuais dos jogadores.</td><td>https://fbref.com/</td><td>BrasilSerieA_2024_EstatisticaJogadorPorPartida.csv</td><td>s3://mvp-brasileirao-2024/Gold/Mart_Desempenho_Jogadores/</td></tr><tr><td>24</td><td>score_ofensivo</td><td>double</td><td>Score ofensivo agregado do jogador.</td><td>0.01 | 7.81</td><td>582</td><td>256</td><td>255</td><td>327</td><td>Pontuação calculada com base nas métricas ofensivas normalizadas (gols marcados, assistências, chutes, xG, etc.), ponderadas e combinadas.</td><td>cálculo próprio</td><td>Sem observações adicionais.</td><td>Tabela construída a partir da extração e processamento das estatísticas individuais dos jogadores.</td><td>https://fbref.com/</td><td>BrasilSerieA_2024_EstatisticaJogadorPorPartida.csv</td><td>s3://mvp-brasileirao-2024/Gold/Mart_Desempenho_Jogadores/</td></tr><tr><td>25</td><td>score_criacao</td><td>double</td><td>Score de criação de jogadas do jogador.</td><td>0.0 | 9.19</td><td>838</td><td>0</td><td>283</td><td>555</td><td>Pontuação baseada em métricas de criação (ações de criação, passes esperados, assistências, etc.), normalizadas e combinadas.</td><td>cálculo próprio</td><td>Sem observações adicionais.</td><td>Tabela construída a partir da extração e processamento das estatísticas individuais dos jogadores.</td><td>https://fbref.com/</td><td>BrasilSerieA_2024_EstatisticaJogadorPorPartida.csv</td><td>s3://mvp-brasileirao-2024/Gold/Mart_Desempenho_Jogadores/</td></tr><tr><td>19</td><td>norm_passes_completos</td><td>double</td><td>Total de passes completos do jogador, normalizado com Min-Max Scaling (0 a 10).</td><td>0.0 | 10.0</td><td>838</td><td>0</td><td>351</td><td>487</td><td>Cálculo Normalização Min-Max (escala de 0 a 10) aplicado.</td><td>Estatisticas_PorJogador → Mart_Desempenho_Jogadores → Gold</td><td>Sem observações adicionais.</td><td>Tabela construída a partir da extração e processamento das estatísticas individuais dos jogadores.</td><td>https://fbref.com/</td><td>BrasilSerieA_2024_EstatisticaJogadorPorPartida.csv</td><td>s3://mvp-brasileirao-2024/Gold/Mart_Desempenho_Jogadores/</td></tr><tr><td>20</td><td>norm_passes_tentados</td><td>double</td><td>Total de passes tentados pelo jogador, normalizado com Min-Max Scaling (0 a 10).</td><td>0.0 | 10.0</td><td>838</td><td>0</td><td>381</td><td>457</td><td>Cálculo Normalização Min-Max (escala de 0 a 10) aplicado.</td><td>Estatisticas_PorJogador → Mart_Desempenho_Jogadores → Gold</td><td>Sem observações adicionais.</td><td>Tabela construída a partir da extração e processamento das estatísticas individuais dos jogadores.</td><td>https://fbref.com/</td><td>BrasilSerieA_2024_EstatisticaJogadorPorPartida.csv</td><td>s3://mvp-brasileirao-2024/Gold/Mart_Desempenho_Jogadores/</td></tr><tr><td>21</td><td>norm_conducoes_de_bola</td><td>double</td><td>Total de conduções de bola do jogador, normalizado com Min-Max Scaling (0 a 10).</td><td>0.0 | 10.0</td><td>838</td><td>0</td><td>360</td><td>478</td><td>Cálculo Normalização Min-Max (escala de 0 a 10) aplicado.</td><td>Estatisticas_PorJogador → Mart_Desempenho_Jogadores → Gold</td><td>Sem observações adicionais.</td><td>Tabela construída a partir da extração e processamento das estatísticas individuais dos jogadores.</td><td>https://fbref.com/</td><td>BrasilSerieA_2024_EstatisticaJogadorPorPartida.csv</td><td>s3://mvp-brasileirao-2024/Gold/Mart_Desempenho_Jogadores/</td></tr><tr><td>7</td><td>norm_interceptacoes</td><td>double</td><td>Total de interceptações feitas pelo jogador, normalizado com Min-Max Scaling (0 a 10).</td><td>0.0 | 10.0</td><td>838</td><td>0</td><td>48</td><td>790</td><td>Cálculo Normalização Min-Max (escala de 0 a 10) aplicado.</td><td>Estatisticas_PorJogador → Mart_Desempenho_Jogadores → Gold</td><td>Sem observações adicionais.</td><td>Tabela construída a partir da extração e processamento das estatísticas individuais dos jogadores.</td><td>https://fbref.com/</td><td>BrasilSerieA_2024_EstatisticaJogadorPorPartida.csv</td><td>s3://mvp-brasileirao-2024/Gold/Mart_Desempenho_Jogadores/</td></tr><tr><td>8</td><td>norm_bloqueios</td><td>double</td><td>Total de bloqueios realizados pelo jogador, normalizado com Min-Max Scaling (0 a 10).</td><td>0.0 | 10.0</td><td>838</td><td>0</td><td>51</td><td>787</td><td>Cálculo Normalização Min-Max (escala de 0 a 10) aplicado.</td><td>Estatisticas_PorJogador → Mart_Desempenho_Jogadores → Gold</td><td>Sem observações adicionais.</td><td>Tabela construída a partir da extração e processamento das estatísticas individuais dos jogadores.</td><td>https://fbref.com/</td><td>BrasilSerieA_2024_EstatisticaJogadorPorPartida.csv</td><td>s3://mvp-brasileirao-2024/Gold/Mart_Desempenho_Jogadores/</td></tr><tr><td>9</td><td>norm_gols_marcados</td><td>double</td><td>Total de gols marcados pelo jogador, normalizado com Min-Max Scaling (0 a 10).</td><td>0.0 | 10.0</td><td>838</td><td>0</td><td>15</td><td>823</td><td>Cálculo Normalização Min-Max (escala de 0 a 10) aplicado.</td><td>Estatisticas_PorJogador → Mart_Desempenho_Jogadores → Gold</td><td>Sem observações adicionais.</td><td>Tabela construída a partir da extração e processamento das estatísticas individuais dos jogadores.</td><td>https://fbref.com/</td><td>BrasilSerieA_2024_EstatisticaJogadorPorPartida.csv</td><td>s3://mvp-brasileirao-2024/Gold/Mart_Desempenho_Jogadores/</td></tr><tr><td>13</td><td>norm_chutes_gol</td><td>double</td><td>Total de chutes no alvo do jogador, normalizado com Min-Max Scaling (0 a 10).</td><td>0.0 | 10.0</td><td>838</td><td>0</td><td>33</td><td>805</td><td>Cálculo Normalização Min-Max (escala de 0 a 10) aplicado.</td><td>Estatisticas_PorJogador → Mart_Desempenho_Jogadores → Gold</td><td>Sem observações adicionais.</td><td>Tabela construída a partir da extração e processamento das estatísticas individuais dos jogadores.</td><td>https://fbref.com/</td><td>BrasilSerieA_2024_EstatisticaJogadorPorPartida.csv</td><td>s3://mvp-brasileirao-2024/Gold/Mart_Desempenho_Jogadores/</td></tr><tr><td>14</td><td>norm_gols_esperados</td><td>double</td><td>xG (gols esperados) do jogador, normalizado com Min-Max Scaling (0 a 10).</td><td>0.0 | 10.0</td><td>838</td><td>0</td><td>75</td><td>763</td><td>Cálculo Normalização Min-Max (escala de 0 a 10) aplicado.</td><td>Estatisticas_PorJogador → Mart_Desempenho_Jogadores → Gold</td><td>Sem observações adicionais.</td><td>Tabela construída a partir da extração e processamento das estatísticas individuais dos jogadores.</td><td>https://fbref.com/</td><td>BrasilSerieA_2024_EstatisticaJogadorPorPartida.csv</td><td>s3://mvp-brasileirao-2024/Gold/Mart_Desempenho_Jogadores/</td></tr><tr><td>15</td><td>norm_ass_esperadas</td><td>double</td><td>xA (assistências esperadas) do jogador, normalizado com Min-Max Scaling (0 a 10).</td><td>0.0 | 10.0</td><td>838</td><td>0</td><td>54</td><td>784</td><td>Cálculo Normalização Min-Max (escala de 0 a 10) aplicado.</td><td>Estatisticas_PorJogador → Mart_Desempenho_Jogadores → Gold</td><td>Sem observações adicionais.</td><td>Tabela construída a partir da extração e processamento das estatísticas individuais dos jogadores.</td><td>https://fbref.com/</td><td>BrasilSerieA_2024_EstatisticaJogadorPorPartida.csv</td><td>s3://mvp-brasileirao-2024/Gold/Mart_Desempenho_Jogadores/</td></tr><tr><td>4</td><td>minutos_em_campo</td><td>double</td><td>Total de minutos que o jogador esteve em campo ao longo da competição.</td><td>1.0 | 90.0</td><td>838</td><td>0</td><td>90</td><td>748</td><td>Derivado da tabela de Estatisticas_PorJogador.</td><td>Estatisticas_PorJogador → Mart_Desempenho_Jogadores → Gold</td><td>Sem observações adicionais.</td><td>Tabela construída a partir da extração e processamento das estatísticas individuais dos jogadores.</td><td>https://fbref.com/</td><td>BrasilSerieA_2024_EstatisticaJogadorPorPartida.csv</td><td>s3://mvp-brasileirao-2024/Gold/Mart_Desempenho_Jogadores/</td></tr><tr><td>5</td><td>norm_gols_sofridos_clube</td><td>double</td><td>Gols sofridos pelo clube enquanto o jogador estava em campo, normalizado com Min-Max Scaling (0 a 10).</td><td>0.0 | 10.0</td><td>838</td><td>0</td><td>18</td><td>820</td><td>Cálculo Normalização Min-Max (escala de 0 a 10) aplicado.</td><td>Estatisticas_PorJogador → Mart_Desempenho_Jogadores → Gold</td><td>Sem observações adicionais.</td><td>Tabela construída a partir da extração e processamento das estatísticas individuais dos jogadores.</td><td>https://fbref.com/</td><td>BrasilSerieA_2024_EstatisticaJogadorPorPartida.csv</td><td>s3://mvp-brasileirao-2024/Gold/Mart_Desempenho_Jogadores/</td></tr><tr><td>6</td><td>norm_desarmes</td><td>double</td><td>Total de desarmes realizados pelo jogador, normalizado com Min-Max Scaling (0 a 10).</td><td>0.0 | 10.0</td><td>838</td><td>0</td><td>79</td><td>759</td><td>Cálculo Normalização Min-Max (escala de 0 a 10) aplicado.</td><td>Estatisticas_PorJogador → Mart_Desempenho_Jogadores → Gold</td><td>Sem observações adicionais.</td><td>Tabela construída a partir da extração e processamento das estatísticas individuais dos jogadores.</td><td>https://fbref.com/</td><td>BrasilSerieA_2024_EstatisticaJogadorPorPartida.csv</td><td>s3://mvp-brasileirao-2024/Gold/Mart_Desempenho_Jogadores/</td></tr><tr><td>10</td><td>norm_ass</td><td>double</td><td>Total de assistências do jogador, normalizado com Min-Max Scaling (0 a 10).</td><td>0.0 | 10.0</td><td>838</td><td>0</td><td>10</td><td>828</td><td>Cálculo Normalização Min-Max (escala de 0 a 10) aplicado.</td><td>Estatisticas_PorJogador → Mart_Desempenho_Jogadores → Gold</td><td>Sem observações adicionais.</td><td>Tabela construída a partir da extração e processamento das estatísticas individuais dos jogadores.</td><td>https://fbref.com/</td><td>BrasilSerieA_2024_EstatisticaJogadorPorPartida.csv</td><td>s3://mvp-brasileirao-2024/Gold/Mart_Desempenho_Jogadores/</td></tr><tr><td>11</td><td>norm_penaltis_batidos</td><td>double</td><td>Total de pênaltis batidos pelo jogador, normalizado com Min-Max Scaling (0 a 10).</td><td>0.0 | 10.0</td><td>838</td><td>0</td><td>5</td><td>833</td><td>Cálculo Normalização Min-Max (escala de 0 a 10) aplicado.</td><td>Estatisticas_PorJogador → Mart_Desempenho_Jogadores → Gold</td><td>Sem observações adicionais.</td><td>Tabela construída a partir da extração e processamento das estatísticas individuais dos jogadores.</td><td>https://fbref.com/</td><td>BrasilSerieA_2024_EstatisticaJogadorPorPartida.csv</td><td>s3://mvp-brasileirao-2024/Gold/Mart_Desempenho_Jogadores/</td></tr><tr><td>12</td><td>norm_total_chutes</td><td>double</td><td>Total de chutes do jogador, normalizado com Min-Max Scaling (0 a 10).</td><td>0.0 | 10.0</td><td>838</td><td>0</td><td>71</td><td>767</td><td>Cálculo Normalização Min-Max (escala de 0 a 10) aplicado.</td><td>Estatisticas_PorJogador → Mart_Desempenho_Jogadores → Gold</td><td>Sem observações adicionais.</td><td>Tabela construída a partir da extração e processamento das estatísticas individuais dos jogadores.</td><td>https://fbref.com/</td><td>BrasilSerieA_2024_EstatisticaJogadorPorPartida.csv</td><td>s3://mvp-brasileirao-2024/Gold/Mart_Desempenho_Jogadores/</td></tr><tr><td>16</td><td>norm_acoes_de_criacao</td><td>double</td><td>Total de ações de criação de jogadas do jogador, normalizado com Min-Max Scaling (0 a 10).</td><td>0.0 | 10.0</td><td>838</td><td>0</td><td>107</td><td>731</td><td>Cálculo Normalização Min-Max (escala de 0 a 10) aplicado.</td><td>Estatisticas_PorJogador → Mart_Desempenho_Jogadores → Gold</td><td>Sem observações adicionais.</td><td>Tabela construída a partir da extração e processamento das estatísticas individuais dos jogadores.</td><td>https://fbref.com/</td><td>BrasilSerieA_2024_EstatisticaJogadorPorPartida.csv</td><td>s3://mvp-brasileirao-2024/Gold/Mart_Desempenho_Jogadores/</td></tr><tr><td>17</td><td>norm_acoes_de_gol</td><td>double</td><td>Total de ações diretamente ligadas a gols do jogador, normalizado com Min-Max Scaling (0 a 10).</td><td>0.0 | 10.0</td><td>838</td><td>0</td><td>18</td><td>820</td><td>Cálculo Normalização Min-Max (escala de 0 a 10) aplicado.</td><td>Estatisticas_PorJogador → Mart_Desempenho_Jogadores → Gold</td><td>Sem observações adicionais.</td><td>Tabela construída a partir da extração e processamento das estatísticas individuais dos jogadores.</td><td>https://fbref.com/</td><td>BrasilSerieA_2024_EstatisticaJogadorPorPartida.csv</td><td>s3://mvp-brasileirao-2024/Gold/Mart_Desempenho_Jogadores/</td></tr><tr><td>18</td><td>norm_eficiencia</td><td>double</td><td>Índice geral de eficiência do jogador, normalizado com Min-Max Scaling (0 a 10).</td><td>0.0 | 10.0</td><td>582</td><td>256</td><td>95</td><td>487</td><td>Cálculo Normalização Min-Max (escala de 0 a 10) aplicado.</td><td>cálculo próprio</td><td>Sem observações adicionais.</td><td>Tabela construída a partir da extração e processamento das estatísticas individuais dos jogadores.</td><td>https://fbref.com/</td><td>BrasilSerieA_2024_EstatisticaJogadorPorPartida.csv</td><td>s3://mvp-brasileirao-2024/Gold/Mart_Desempenho_Jogadores/</td></tr><tr><td>1</td><td>jogador</td><td>string</td><td>Nome do jogador.</td><td>Abner | Óscar Romero</td><td>838</td><td>0</td><td>653</td><td>185</td><td>Derivado da tabela de Estatisticas_PorJogador.</td><td>Estatisticas_PorJogador → Mart_Desempenho_Jogadores → Gold</td><td>Sem observações adicionais.</td><td>Tabela construída a partir da extração e processamento das estatísticas individuais dos jogadores.</td><td>https://fbref.com/</td><td>BrasilSerieA_2024_EstatisticaJogadorPorPartida.csv</td><td>s3://mvp-brasileirao-2024/Gold/Mart_Desempenho_Jogadores/</td></tr><tr><td>2</td><td>clube</td><td>string</td><td>Nome do clube ao qual o jogador pertence.</td><td>Athletico-PR | Vasco da Gama</td><td>838</td><td>0</td><td>20</td><td>818</td><td>Derivado da tabela de Estatisticas_PorJogador.</td><td>Estatisticas_PorJogador → Mart_Desempenho_Jogadores → Gold</td><td>Sem observações adicionais.</td><td>Tabela construída a partir da extração e processamento das estatísticas individuais dos jogadores.</td><td>https://fbref.com/</td><td>BrasilSerieA_2024_EstatisticaJogadorPorPartida.csv</td><td>s3://mvp-brasileirao-2024/Gold/Mart_Desempenho_Jogadores/</td></tr><tr><td>3</td><td>numero_camisa</td><td>int</td><td>Número da camisa do jogador.</td><td>1 | 200</td><td>838</td><td>0</td><td>88</td><td>750</td><td>Derivado da tabela de Estatisticas_PorJogador.</td><td>Estatisticas_PorJogador → Mart_Desempenho_Jogadores → Gold</td><td>Sem observações adicionais.</td><td>Tabela construída a partir da extração e processamento das estatísticas individuais dos jogadores.</td><td>https://fbref.com/</td><td>BrasilSerieA_2024_EstatisticaJogadorPorPartida.csv</td><td>s3://mvp-brasileirao-2024/Gold/Mart_Desempenho_Jogadores/</td></tr></tbody></table></div>"
      ]
     },
     "metadata": {
      "application/vnd.databricks.v1+output": {
       "addedWidgets": {},
       "aggData": [],
       "aggError": "",
       "aggOverflow": false,
       "aggSchema": [],
       "aggSeriesLimitReached": false,
       "aggType": "",
       "arguments": {},
       "columnCustomDisplayInfos": {},
       "data": [
        [
         22,
         "norm_conducoes_progressivas",
         "double",
         "Conduções progressivas (em direção ao ataque) do jogador, normalizado com Min-Max Scaling (0 a 10).",
         "0.0 | 10.0",
         838,
         0,
         83,
         755,
         "Cálculo Normalização Min-Max (escala de 0 a 10) aplicado.",
         "Estatisticas_PorJogador → Mart_Desempenho_Jogadores → Gold",
         "Sem observações adicionais.",
         "Tabela construída a partir da extração e processamento das estatísticas individuais dos jogadores.",
         "https://fbref.com/",
         "BrasilSerieA_2024_EstatisticaJogadorPorPartida.csv",
         "s3://mvp-brasileirao-2024/Gold/Mart_Desempenho_Jogadores/"
        ],
        [
         23,
         "score_defensivo",
         "double",
         "Score defensivo agregado do jogador.",
         "0.0 | 9.46",
         838,
         0,
         430,
         408,
         "Pontuação calculada com base nas métricas defensivas normalizadas (desarmes, interceptações, bloqueios e gols sofridos), ponderadas e combinadas.",
         "cálculo próprio",
         "Sem observações adicionais.",
         "Tabela construída a partir da extração e processamento das estatísticas individuais dos jogadores.",
         "https://fbref.com/",
         "BrasilSerieA_2024_EstatisticaJogadorPorPartida.csv",
         "s3://mvp-brasileirao-2024/Gold/Mart_Desempenho_Jogadores/"
        ],
        [
         24,
         "score_ofensivo",
         "double",
         "Score ofensivo agregado do jogador.",
         "0.01 | 7.81",
         582,
         256,
         255,
         327,
         "Pontuação calculada com base nas métricas ofensivas normalizadas (gols marcados, assistências, chutes, xG, etc.), ponderadas e combinadas.",
         "cálculo próprio",
         "Sem observações adicionais.",
         "Tabela construída a partir da extração e processamento das estatísticas individuais dos jogadores.",
         "https://fbref.com/",
         "BrasilSerieA_2024_EstatisticaJogadorPorPartida.csv",
         "s3://mvp-brasileirao-2024/Gold/Mart_Desempenho_Jogadores/"
        ],
        [
         25,
         "score_criacao",
         "double",
         "Score de criação de jogadas do jogador.",
         "0.0 | 9.19",
         838,
         0,
         283,
         555,
         "Pontuação baseada em métricas de criação (ações de criação, passes esperados, assistências, etc.), normalizadas e combinadas.",
         "cálculo próprio",
         "Sem observações adicionais.",
         "Tabela construída a partir da extração e processamento das estatísticas individuais dos jogadores.",
         "https://fbref.com/",
         "BrasilSerieA_2024_EstatisticaJogadorPorPartida.csv",
         "s3://mvp-brasileirao-2024/Gold/Mart_Desempenho_Jogadores/"
        ],
        [
         19,
         "norm_passes_completos",
         "double",
         "Total de passes completos do jogador, normalizado com Min-Max Scaling (0 a 10).",
         "0.0 | 10.0",
         838,
         0,
         351,
         487,
         "Cálculo Normalização Min-Max (escala de 0 a 10) aplicado.",
         "Estatisticas_PorJogador → Mart_Desempenho_Jogadores → Gold",
         "Sem observações adicionais.",
         "Tabela construída a partir da extração e processamento das estatísticas individuais dos jogadores.",
         "https://fbref.com/",
         "BrasilSerieA_2024_EstatisticaJogadorPorPartida.csv",
         "s3://mvp-brasileirao-2024/Gold/Mart_Desempenho_Jogadores/"
        ],
        [
         20,
         "norm_passes_tentados",
         "double",
         "Total de passes tentados pelo jogador, normalizado com Min-Max Scaling (0 a 10).",
         "0.0 | 10.0",
         838,
         0,
         381,
         457,
         "Cálculo Normalização Min-Max (escala de 0 a 10) aplicado.",
         "Estatisticas_PorJogador → Mart_Desempenho_Jogadores → Gold",
         "Sem observações adicionais.",
         "Tabela construída a partir da extração e processamento das estatísticas individuais dos jogadores.",
         "https://fbref.com/",
         "BrasilSerieA_2024_EstatisticaJogadorPorPartida.csv",
         "s3://mvp-brasileirao-2024/Gold/Mart_Desempenho_Jogadores/"
        ],
        [
         21,
         "norm_conducoes_de_bola",
         "double",
         "Total de conduções de bola do jogador, normalizado com Min-Max Scaling (0 a 10).",
         "0.0 | 10.0",
         838,
         0,
         360,
         478,
         "Cálculo Normalização Min-Max (escala de 0 a 10) aplicado.",
         "Estatisticas_PorJogador → Mart_Desempenho_Jogadores → Gold",
         "Sem observações adicionais.",
         "Tabela construída a partir da extração e processamento das estatísticas individuais dos jogadores.",
         "https://fbref.com/",
         "BrasilSerieA_2024_EstatisticaJogadorPorPartida.csv",
         "s3://mvp-brasileirao-2024/Gold/Mart_Desempenho_Jogadores/"
        ],
        [
         7,
         "norm_interceptacoes",
         "double",
         "Total de interceptações feitas pelo jogador, normalizado com Min-Max Scaling (0 a 10).",
         "0.0 | 10.0",
         838,
         0,
         48,
         790,
         "Cálculo Normalização Min-Max (escala de 0 a 10) aplicado.",
         "Estatisticas_PorJogador → Mart_Desempenho_Jogadores → Gold",
         "Sem observações adicionais.",
         "Tabela construída a partir da extração e processamento das estatísticas individuais dos jogadores.",
         "https://fbref.com/",
         "BrasilSerieA_2024_EstatisticaJogadorPorPartida.csv",
         "s3://mvp-brasileirao-2024/Gold/Mart_Desempenho_Jogadores/"
        ],
        [
         8,
         "norm_bloqueios",
         "double",
         "Total de bloqueios realizados pelo jogador, normalizado com Min-Max Scaling (0 a 10).",
         "0.0 | 10.0",
         838,
         0,
         51,
         787,
         "Cálculo Normalização Min-Max (escala de 0 a 10) aplicado.",
         "Estatisticas_PorJogador → Mart_Desempenho_Jogadores → Gold",
         "Sem observações adicionais.",
         "Tabela construída a partir da extração e processamento das estatísticas individuais dos jogadores.",
         "https://fbref.com/",
         "BrasilSerieA_2024_EstatisticaJogadorPorPartida.csv",
         "s3://mvp-brasileirao-2024/Gold/Mart_Desempenho_Jogadores/"
        ],
        [
         9,
         "norm_gols_marcados",
         "double",
         "Total de gols marcados pelo jogador, normalizado com Min-Max Scaling (0 a 10).",
         "0.0 | 10.0",
         838,
         0,
         15,
         823,
         "Cálculo Normalização Min-Max (escala de 0 a 10) aplicado.",
         "Estatisticas_PorJogador → Mart_Desempenho_Jogadores → Gold",
         "Sem observações adicionais.",
         "Tabela construída a partir da extração e processamento das estatísticas individuais dos jogadores.",
         "https://fbref.com/",
         "BrasilSerieA_2024_EstatisticaJogadorPorPartida.csv",
         "s3://mvp-brasileirao-2024/Gold/Mart_Desempenho_Jogadores/"
        ],
        [
         13,
         "norm_chutes_gol",
         "double",
         "Total de chutes no alvo do jogador, normalizado com Min-Max Scaling (0 a 10).",
         "0.0 | 10.0",
         838,
         0,
         33,
         805,
         "Cálculo Normalização Min-Max (escala de 0 a 10) aplicado.",
         "Estatisticas_PorJogador → Mart_Desempenho_Jogadores → Gold",
         "Sem observações adicionais.",
         "Tabela construída a partir da extração e processamento das estatísticas individuais dos jogadores.",
         "https://fbref.com/",
         "BrasilSerieA_2024_EstatisticaJogadorPorPartida.csv",
         "s3://mvp-brasileirao-2024/Gold/Mart_Desempenho_Jogadores/"
        ],
        [
         14,
         "norm_gols_esperados",
         "double",
         "xG (gols esperados) do jogador, normalizado com Min-Max Scaling (0 a 10).",
         "0.0 | 10.0",
         838,
         0,
         75,
         763,
         "Cálculo Normalização Min-Max (escala de 0 a 10) aplicado.",
         "Estatisticas_PorJogador → Mart_Desempenho_Jogadores → Gold",
         "Sem observações adicionais.",
         "Tabela construída a partir da extração e processamento das estatísticas individuais dos jogadores.",
         "https://fbref.com/",
         "BrasilSerieA_2024_EstatisticaJogadorPorPartida.csv",
         "s3://mvp-brasileirao-2024/Gold/Mart_Desempenho_Jogadores/"
        ],
        [
         15,
         "norm_ass_esperadas",
         "double",
         "xA (assistências esperadas) do jogador, normalizado com Min-Max Scaling (0 a 10).",
         "0.0 | 10.0",
         838,
         0,
         54,
         784,
         "Cálculo Normalização Min-Max (escala de 0 a 10) aplicado.",
         "Estatisticas_PorJogador → Mart_Desempenho_Jogadores → Gold",
         "Sem observações adicionais.",
         "Tabela construída a partir da extração e processamento das estatísticas individuais dos jogadores.",
         "https://fbref.com/",
         "BrasilSerieA_2024_EstatisticaJogadorPorPartida.csv",
         "s3://mvp-brasileirao-2024/Gold/Mart_Desempenho_Jogadores/"
        ],
        [
         4,
         "minutos_em_campo",
         "double",
         "Total de minutos que o jogador esteve em campo ao longo da competição.",
         "1.0 | 90.0",
         838,
         0,
         90,
         748,
         "Derivado da tabela de Estatisticas_PorJogador.",
         "Estatisticas_PorJogador → Mart_Desempenho_Jogadores → Gold",
         "Sem observações adicionais.",
         "Tabela construída a partir da extração e processamento das estatísticas individuais dos jogadores.",
         "https://fbref.com/",
         "BrasilSerieA_2024_EstatisticaJogadorPorPartida.csv",
         "s3://mvp-brasileirao-2024/Gold/Mart_Desempenho_Jogadores/"
        ],
        [
         5,
         "norm_gols_sofridos_clube",
         "double",
         "Gols sofridos pelo clube enquanto o jogador estava em campo, normalizado com Min-Max Scaling (0 a 10).",
         "0.0 | 10.0",
         838,
         0,
         18,
         820,
         "Cálculo Normalização Min-Max (escala de 0 a 10) aplicado.",
         "Estatisticas_PorJogador → Mart_Desempenho_Jogadores → Gold",
         "Sem observações adicionais.",
         "Tabela construída a partir da extração e processamento das estatísticas individuais dos jogadores.",
         "https://fbref.com/",
         "BrasilSerieA_2024_EstatisticaJogadorPorPartida.csv",
         "s3://mvp-brasileirao-2024/Gold/Mart_Desempenho_Jogadores/"
        ],
        [
         6,
         "norm_desarmes",
         "double",
         "Total de desarmes realizados pelo jogador, normalizado com Min-Max Scaling (0 a 10).",
         "0.0 | 10.0",
         838,
         0,
         79,
         759,
         "Cálculo Normalização Min-Max (escala de 0 a 10) aplicado.",
         "Estatisticas_PorJogador → Mart_Desempenho_Jogadores → Gold",
         "Sem observações adicionais.",
         "Tabela construída a partir da extração e processamento das estatísticas individuais dos jogadores.",
         "https://fbref.com/",
         "BrasilSerieA_2024_EstatisticaJogadorPorPartida.csv",
         "s3://mvp-brasileirao-2024/Gold/Mart_Desempenho_Jogadores/"
        ],
        [
         10,
         "norm_ass",
         "double",
         "Total de assistências do jogador, normalizado com Min-Max Scaling (0 a 10).",
         "0.0 | 10.0",
         838,
         0,
         10,
         828,
         "Cálculo Normalização Min-Max (escala de 0 a 10) aplicado.",
         "Estatisticas_PorJogador → Mart_Desempenho_Jogadores → Gold",
         "Sem observações adicionais.",
         "Tabela construída a partir da extração e processamento das estatísticas individuais dos jogadores.",
         "https://fbref.com/",
         "BrasilSerieA_2024_EstatisticaJogadorPorPartida.csv",
         "s3://mvp-brasileirao-2024/Gold/Mart_Desempenho_Jogadores/"
        ],
        [
         11,
         "norm_penaltis_batidos",
         "double",
         "Total de pênaltis batidos pelo jogador, normalizado com Min-Max Scaling (0 a 10).",
         "0.0 | 10.0",
         838,
         0,
         5,
         833,
         "Cálculo Normalização Min-Max (escala de 0 a 10) aplicado.",
         "Estatisticas_PorJogador → Mart_Desempenho_Jogadores → Gold",
         "Sem observações adicionais.",
         "Tabela construída a partir da extração e processamento das estatísticas individuais dos jogadores.",
         "https://fbref.com/",
         "BrasilSerieA_2024_EstatisticaJogadorPorPartida.csv",
         "s3://mvp-brasileirao-2024/Gold/Mart_Desempenho_Jogadores/"
        ],
        [
         12,
         "norm_total_chutes",
         "double",
         "Total de chutes do jogador, normalizado com Min-Max Scaling (0 a 10).",
         "0.0 | 10.0",
         838,
         0,
         71,
         767,
         "Cálculo Normalização Min-Max (escala de 0 a 10) aplicado.",
         "Estatisticas_PorJogador → Mart_Desempenho_Jogadores → Gold",
         "Sem observações adicionais.",
         "Tabela construída a partir da extração e processamento das estatísticas individuais dos jogadores.",
         "https://fbref.com/",
         "BrasilSerieA_2024_EstatisticaJogadorPorPartida.csv",
         "s3://mvp-brasileirao-2024/Gold/Mart_Desempenho_Jogadores/"
        ],
        [
         16,
         "norm_acoes_de_criacao",
         "double",
         "Total de ações de criação de jogadas do jogador, normalizado com Min-Max Scaling (0 a 10).",
         "0.0 | 10.0",
         838,
         0,
         107,
         731,
         "Cálculo Normalização Min-Max (escala de 0 a 10) aplicado.",
         "Estatisticas_PorJogador → Mart_Desempenho_Jogadores → Gold",
         "Sem observações adicionais.",
         "Tabela construída a partir da extração e processamento das estatísticas individuais dos jogadores.",
         "https://fbref.com/",
         "BrasilSerieA_2024_EstatisticaJogadorPorPartida.csv",
         "s3://mvp-brasileirao-2024/Gold/Mart_Desempenho_Jogadores/"
        ],
        [
         17,
         "norm_acoes_de_gol",
         "double",
         "Total de ações diretamente ligadas a gols do jogador, normalizado com Min-Max Scaling (0 a 10).",
         "0.0 | 10.0",
         838,
         0,
         18,
         820,
         "Cálculo Normalização Min-Max (escala de 0 a 10) aplicado.",
         "Estatisticas_PorJogador → Mart_Desempenho_Jogadores → Gold",
         "Sem observações adicionais.",
         "Tabela construída a partir da extração e processamento das estatísticas individuais dos jogadores.",
         "https://fbref.com/",
         "BrasilSerieA_2024_EstatisticaJogadorPorPartida.csv",
         "s3://mvp-brasileirao-2024/Gold/Mart_Desempenho_Jogadores/"
        ],
        [
         18,
         "norm_eficiencia",
         "double",
         "Índice geral de eficiência do jogador, normalizado com Min-Max Scaling (0 a 10).",
         "0.0 | 10.0",
         582,
         256,
         95,
         487,
         "Cálculo Normalização Min-Max (escala de 0 a 10) aplicado.",
         "cálculo próprio",
         "Sem observações adicionais.",
         "Tabela construída a partir da extração e processamento das estatísticas individuais dos jogadores.",
         "https://fbref.com/",
         "BrasilSerieA_2024_EstatisticaJogadorPorPartida.csv",
         "s3://mvp-brasileirao-2024/Gold/Mart_Desempenho_Jogadores/"
        ],
        [
         1,
         "jogador",
         "string",
         "Nome do jogador.",
         "Abner | Óscar Romero",
         838,
         0,
         653,
         185,
         "Derivado da tabela de Estatisticas_PorJogador.",
         "Estatisticas_PorJogador → Mart_Desempenho_Jogadores → Gold",
         "Sem observações adicionais.",
         "Tabela construída a partir da extração e processamento das estatísticas individuais dos jogadores.",
         "https://fbref.com/",
         "BrasilSerieA_2024_EstatisticaJogadorPorPartida.csv",
         "s3://mvp-brasileirao-2024/Gold/Mart_Desempenho_Jogadores/"
        ],
        [
         2,
         "clube",
         "string",
         "Nome do clube ao qual o jogador pertence.",
         "Athletico-PR | Vasco da Gama",
         838,
         0,
         20,
         818,
         "Derivado da tabela de Estatisticas_PorJogador.",
         "Estatisticas_PorJogador → Mart_Desempenho_Jogadores → Gold",
         "Sem observações adicionais.",
         "Tabela construída a partir da extração e processamento das estatísticas individuais dos jogadores.",
         "https://fbref.com/",
         "BrasilSerieA_2024_EstatisticaJogadorPorPartida.csv",
         "s3://mvp-brasileirao-2024/Gold/Mart_Desempenho_Jogadores/"
        ],
        [
         3,
         "numero_camisa",
         "int",
         "Número da camisa do jogador.",
         "1 | 200",
         838,
         0,
         88,
         750,
         "Derivado da tabela de Estatisticas_PorJogador.",
         "Estatisticas_PorJogador → Mart_Desempenho_Jogadores → Gold",
         "Sem observações adicionais.",
         "Tabela construída a partir da extração e processamento das estatísticas individuais dos jogadores.",
         "https://fbref.com/",
         "BrasilSerieA_2024_EstatisticaJogadorPorPartida.csv",
         "s3://mvp-brasileirao-2024/Gold/Mart_Desempenho_Jogadores/"
        ]
       ],
       "datasetInfos": [],
       "dbfsResultPath": null,
       "isJsonSchema": true,
       "metadata": {},
       "overflow": false,
       "plotOptions": {
        "customPlotOptions": {},
        "displayType": "table",
        "pivotAggregation": null,
        "pivotColumns": null,
        "xColumns": null,
        "yColumns": null
       },
       "removedWidgets": [],
       "schema": [
        {
         "metadata": "{}",
         "name": "ID_Coluna",
         "type": "\"long\""
        },
        {
         "metadata": "{}",
         "name": "Coluna",
         "type": "\"string\""
        },
        {
         "metadata": "{}",
         "name": "Tipo_de_Dado",
         "type": "\"string\""
        },
        {
         "metadata": "{}",
         "name": "Definição",
         "type": "\"string\""
        },
        {
         "metadata": "{}",
         "name": "Valores_Min_Max",
         "type": "\"string\""
        },
        {
         "metadata": "{}",
         "name": "Qtd_Valores_Registrados",
         "type": "\"long\""
        },
        {
         "metadata": "{}",
         "name": "Qtd_Valores_Nulos",
         "type": "\"long\""
        },
        {
         "metadata": "{}",
         "name": "Qtd_Valores_Distintos",
         "type": "\"long\""
        },
        {
         "metadata": "{}",
         "name": "Qtd_Valores_Duplicados",
         "type": "\"long\""
        },
        {
         "metadata": "{}",
         "name": "Regras_de_Transformação",
         "type": "\"string\""
        },
        {
         "metadata": "{}",
         "name": "Linhagem_Dados",
         "type": "\"string\""
        },
        {
         "metadata": "{}",
         "name": "Observacoes",
         "type": "\"string\""
        },
        {
         "metadata": "{}",
         "name": "Fonte",
         "type": "\"string\""
        },
        {
         "metadata": "{}",
         "name": "Link_Fonte",
         "type": "\"string\""
        },
        {
         "metadata": "{}",
         "name": "Arquivo_Original",
         "type": "\"string\""
        },
        {
         "metadata": "{}",
         "name": "Arquivo_S3",
         "type": "\"string\""
        }
       ],
       "type": "table"
      }
     },
     "output_type": "display_data"
    }
   ],
   "source": [
    "%sql\n",
    "select * from catalogo_de_dados.catalog_desempenho_jogadores"
   ]
  },
  {
   "cell_type": "markdown",
   "metadata": {
    "application/vnd.databricks.v1+cell": {
     "cellMetadata": {},
     "inputWidgets": {},
     "nuid": "f08c33a7-fe12-44ab-abf7-51e8a8e700b3",
     "showTitle": false,
     "tableResultSettingsMap": {},
     "title": ""
    }
   },
   "source": [
    "## 🔷 informacao_jogadores"
   ]
  },
  {
   "cell_type": "markdown",
   "metadata": {
    "application/vnd.databricks.v1+cell": {
     "cellMetadata": {},
     "inputWidgets": {},
     "nuid": "450209ac-d489-479b-bc96-16bb58a95253",
     "showTitle": false,
     "tableResultSettingsMap": {},
     "title": ""
    }
   },
   "source": [
    "### 🔹 Criando o Metadata do dataframe"
   ]
  },
  {
   "cell_type": "code",
   "execution_count": 0,
   "metadata": {
    "application/vnd.databricks.v1+cell": {
     "cellMetadata": {
      "byteLimit": 2048000,
      "rowLimit": 10000
     },
     "inputWidgets": {},
     "nuid": "d5944692-afbb-470b-a9f6-b50aab8c7e10",
     "showTitle": false,
     "tableResultSettingsMap": {},
     "title": ""
    }
   },
   "outputs": [],
   "source": [
    "from pyspark.sql import Row\n",
    "from pyspark.sql.functions import col, count, countDistinct, min, max, sum, expr\n",
    "\n",
    "# Nome da tabela que queremos analisar (mudar para cada dataset da Silver)\n",
    "tabela_gold = \"marts_mvp_brasileirao.informacao_jogadores\"\n",
    "\n",
    "# Ler os dados da Silver diretamente do Metastore\n",
    "df = spark.read.table(tabela_gold)\n",
    "\n",
    "# Criar DataFrame com estatísticas (incluindo contagem de nulos correta e duplicatas)\n",
    "metadata_df = df.agg(\n",
    "    *[count(col(c)).alias(f\"{c}_count\") for c in df.columns],  # Contagem total de registros NÃO NULOS\n",
    "    *[countDistinct(col(c)).alias(f\"{c}_distinct\") for c in df.columns],  # Contagem de valores distintos\n",
    "    *[min(col(c)).alias(f\"{c}_min\") for c in df.columns],  # Valor mínimo\n",
    "    *[max(col(c)).alias(f\"{c}_max\") for c in df.columns],  # Valor máximo\n",
    "    *[sum(col(c).isNull().cast(\"int\")).alias(f\"{c}_nulls\") for c in df.columns],  # Contagem correta de nulos\n",
    "    *[(count(col(c)) - countDistinct(col(c))).alias(f\"{c}_duplicates\") for c in df.columns]  # Contagem de valores duplicados\n",
    ")"
   ]
  },
  {
   "cell_type": "markdown",
   "metadata": {
    "application/vnd.databricks.v1+cell": {
     "cellMetadata": {},
     "inputWidgets": {},
     "nuid": "ff72db1c-f51b-4f2a-9c36-09ee817d8f99",
     "showTitle": false,
     "tableResultSettingsMap": {},
     "title": ""
    }
   },
   "source": [
    "### 🔹 Criação do Dicionário de descrições"
   ]
  },
  {
   "cell_type": "code",
   "execution_count": 0,
   "metadata": {
    "application/vnd.databricks.v1+cell": {
     "cellMetadata": {
      "byteLimit": 2048000,
      "rowLimit": 10000
     },
     "inputWidgets": {},
     "nuid": "4ce45650-0204-4864-bc73-01777c6e0525",
     "showTitle": false,
     "tableResultSettingsMap": {},
     "title": ""
    }
   },
   "outputs": [],
   "source": [
    "col_descriptions = {\n",
    "    \"Jogador\": (\n",
    "        \"Nome do jogador.\",\n",
    "        \"Derivado da tabela de Estatisticas_PorJogador.\",\n",
    "        \"Estatisticas_PorJogador → Mart_Desempenho_Jogadores → Gold\"\n",
    "    ),\n",
    "    \"Clube\": (\n",
    "        \"Clube que o jogador representou no Campeonato Brasileiro de 2024.\",\n",
    "        \"Derivado da tabela de Estatisticas_PorJogador.\",\n",
    "        \"Estatisticas_PorJogador → Mart_Desempenho_Jogadores → Gold\"\n",
    "    ),\n",
    "    \"Nacionalidade\": (\n",
    "        \"País de origem do jogador.\",\n",
    "        \"Derivado da tabela de Estatisticas_PorJogador.\",\n",
    "        \"Estatisticas_PorJogador → Mart_Desempenho_Jogadores → Gold\"\n",
    "    ),\n",
    "    \"Posicao_Principal\": (\n",
    "        \"Posição em que o jogador atuou com maior frequência na temporada.\",\n",
    "        \"Calculado a partir das posições registradas na Estatisticas_PorJogador.\",\n",
    "        \"Estatisticas_PorJogador → Mart_Info_Jogadores → Gold\"\n",
    "    ),\n",
    "    \"Nome_Posicao_Principal\": (\n",
    "        \"Nome da posição principal que o jogador jogou na partida.\",\n",
    "        \"Derivado da coluna `posicao_principal`, com tradução das siglas para facilitar a leitura e interpretação.\",\n",
    "        \"Estatisticas_PorJogador → Mart_Info_Jogadores → Gold\"\n",
    "    ),    \n",
    "    \"jogos_Posicao_Principal\": (\n",
    "        \"Quantidade de partidas em que o jogador atuou na sua posição principal.\",\n",
    "        \"Calculado por meio da contagem das partidas por posição.\",\n",
    "        \"Estatisticas_PorJogador → Mart_Info_Jogadores → Gold\"\n",
    "    ),\n",
    "    \"Improvisacao\": (\n",
    "        \"Outra posição em que o jogador foi escalado, diferente da sua função original.\",\n",
    "        \"Derivado da análise de múltiplas posições por jogador.\",\n",
    "        \"Estatisticas_PorJogador → Mart_Info_Jogadores → Gold\"\n",
    "    ),\n",
    "    \"Nome_Improvisacao\": (\n",
    "        \"Nome da posição em que o jogador atuou improvisado durante a partida\",\n",
    "        \"Derivado da coluna `improvisacao`, com tradução das siglas de posição para facilitar a análise.\",\n",
    "        \"Estatisticas_PorJogador → Mart_Info_Jogadores → Gold\"\n",
    "    ),    \n",
    "    \"jogos_improvisados\": (\n",
    "        \"Quantidade de partidas em que o jogador foi escalado fora da sua posição principal.\",\n",
    "        \"Contagem de jogos em posições diferentes da principal.\",\n",
    "        \"Estatisticas_PorJogador → Mart_Info_Jogadores → Gold\"\n",
    "    )\n",
    "}\n"
   ]
  },
  {
   "cell_type": "markdown",
   "metadata": {
    "application/vnd.databricks.v1+cell": {
     "cellMetadata": {},
     "inputWidgets": {},
     "nuid": "1648f61e-a0d9-4ad4-9d50-dcc5768c9940",
     "showTitle": false,
     "tableResultSettingsMap": {},
     "title": ""
    }
   },
   "source": [
    "### 🔹 Criando o Dataframe do Catálogo"
   ]
  },
  {
   "cell_type": "code",
   "execution_count": 0,
   "metadata": {
    "application/vnd.databricks.v1+cell": {
     "cellMetadata": {
      "byteLimit": 2048000,
      "rowLimit": 10000
     },
     "inputWidgets": {},
     "nuid": "85970805-ae94-49fc-a433-261b1ee7d26b",
     "showTitle": false,
     "tableResultSettingsMap": {},
     "title": ""
    }
   },
   "outputs": [],
   "source": [
    "# Criar lista de metadados para o Catálogo de Dados\n",
    "catalog_data = []\n",
    "\n",
    "# Iterar sobre as colunas da tabela Silver\n",
    "for index, col_name in enumerate(df.columns, start=1):\n",
    "    col_type = df.select(col(col_name)).schema.fields[0].dataType.simpleString()  # Tipo da coluna\n",
    "    col_count = metadata_df.collect()[0][f\"{col_name}_count\"]  # Contagem total (não nulos)\n",
    "    col_distinct = metadata_df.collect()[0][f\"{col_name}_distinct\"]  # Valores distintos\n",
    "    col_nulls = metadata_df.collect()[0][f\"{col_name}_nulls\"]  # Contagem correta de valores nulos\n",
    "    col_min = metadata_df.collect()[0][f\"{col_name}_min\"] if f\"{col_name}_min\" in metadata_df.columns else \"N/A\"\n",
    "    col_max = metadata_df.collect()[0][f\"{col_name}_max\"] if f\"{col_name}_max\" in metadata_df.columns else \"N/A\"\n",
    "    col_duplicates = metadata_df.collect()[0][f\"{col_name}_duplicates\"] if f\"{col_name}_duplicates\" in metadata_df.columns else 0  # Contagem de duplicados\n",
    "\n",
    "    # Buscar definição, regra de transformação e linhagem dos dados no dicionário\n",
    "    col_definition, transformations_applied, lineage_info = col_descriptions.get(\n",
    "        col_name, (f\"Descrição da coluna {col_name}\", \"Nenhuma alteração aplicada.\", \"Origem desconhecida\")\n",
    "    )\n",
    "\n",
    "    # Definir observações sobre a coluna (pode ser preenchido manualmente se necessário)\n",
    "    comments = \"Sem observações adicionais.\"\n",
    "\n",
    "    catalog_data.append(Row(\n",
    "        ID_Coluna=index,\n",
    "        Coluna=col_name,\n",
    "        Tipo_de_Dado=col_type,\n",
    "        Definição=col_definition,\n",
    "        Valores_Min_Max=f\"{col_min} | {col_max}\",\n",
    "        Qtd_Valores_Registrados=col_count,\n",
    "        Qtd_Valores_Nulos=col_nulls,\n",
    "        Qtd_Valores_Distintos=col_distinct,\n",
    "        Qtd_Valores_Duplicados=col_duplicates,\n",
    "        Regras_de_Transformação=transformations_applied,\n",
    "        Linhagem_Dados=lineage_info,\n",
    "        Observacoes=comments,\n",
    "        Fonte = \"Tabela construída a partir da análise da posição principal e das improvisações dos jogadores ao longo da temporada.\",\n",
    "        Link_Fonte = \"https://fbref.com/\",\n",
    "        Arquivo_Original = \"BrasilSerieA_2024_EstatisticaJogadorPorPartida.csv\",\n",
    "        Arquivo_S3 = \"s3://mvp-brasileirao-2024/Gold/Mart_Info_Jogadores/\"\n",
    "\n",
    "    ))\n",
    "\n",
    "catalog_df = spark.createDataFrame(catalog_data)"
   ]
  },
  {
   "cell_type": "markdown",
   "metadata": {
    "application/vnd.databricks.v1+cell": {
     "cellMetadata": {},
     "inputWidgets": {},
     "nuid": "93fee3f5-de13-42da-bf3d-9b88882ea004",
     "showTitle": false,
     "tableResultSettingsMap": {},
     "title": ""
    }
   },
   "source": [
    "### 🔹 Salvando o Catálogo no S3 camada Gold"
   ]
  },
  {
   "cell_type": "code",
   "execution_count": 0,
   "metadata": {
    "application/vnd.databricks.v1+cell": {
     "cellMetadata": {
      "byteLimit": 2048000,
      "rowLimit": 10000
     },
     "inputWidgets": {},
     "nuid": "00698ce1-90a4-4e08-ad83-900f28346b6c",
     "showTitle": false,
     "tableResultSettingsMap": {},
     "title": ""
    }
   },
   "outputs": [
    {
     "name": "stdout",
     "output_type": "stream",
     "text": [
      "🚨 Arquivos antigos do Delta removidos com sucesso!\n",
      "✅ Catálogo Estatístico salvo no formato Delta com sucesso!\n"
     ]
    }
   ],
   "source": [
    "# Caminho no S3 para salvar o Catálogo Estatístico\n",
    "delta_catalogo_estatistico_path = \"s3://mvp-brasileirao-2024/gold/catalogo_de_dados/informacao_jogadores\"\n",
    "\n",
    "dbutils.fs.rm(delta_catalogo_estatistico_path, recurse=True)\n",
    "print(\"🚨 Arquivos antigos do Delta removidos com sucesso!\")\n",
    "\n",
    "# Salvar a tabela Delta com as estatísticas\n",
    "catalog_df.write.format(\"delta\").mode(\"overwrite\").save(delta_catalogo_estatistico_path)\n",
    "\n",
    "print(\"✅ Catálogo Estatístico salvo no formato Delta com sucesso!\")"
   ]
  },
  {
   "cell_type": "markdown",
   "metadata": {
    "application/vnd.databricks.v1+cell": {
     "cellMetadata": {},
     "inputWidgets": {},
     "nuid": "6435b14e-217d-4a28-ae38-ac7b6b91afbb",
     "showTitle": false,
     "tableResultSettingsMap": {},
     "title": ""
    }
   },
   "source": [
    "### 🔹 Criando Tabela de Catálogos no Hive"
   ]
  },
  {
   "cell_type": "code",
   "execution_count": 0,
   "metadata": {
    "application/vnd.databricks.v1+cell": {
     "cellMetadata": {
      "byteLimit": 2048000,
      "implicitDf": true,
      "rowLimit": 10000
     },
     "inputWidgets": {},
     "nuid": "a1bab004-cc5d-4a86-83f4-dac52c595139",
     "showTitle": false,
     "tableResultSettingsMap": {},
     "title": ""
    }
   },
   "outputs": [
    {
     "data": {
      "text/html": [
       "<style scoped>\n",
       "  .table-result-container {\n",
       "    max-height: 300px;\n",
       "    overflow: auto;\n",
       "  }\n",
       "  table, th, td {\n",
       "    border: 1px solid black;\n",
       "    border-collapse: collapse;\n",
       "  }\n",
       "  th, td {\n",
       "    padding: 5px;\n",
       "  }\n",
       "  th {\n",
       "    text-align: left;\n",
       "  }\n",
       "</style><div class='table-result-container'><table class='table-result'><thead style='background-color: white'><tr></tr></thead><tbody></tbody></table></div>"
      ]
     },
     "metadata": {
      "application/vnd.databricks.v1+output": {
       "addedWidgets": {},
       "aggData": [],
       "aggError": "",
       "aggOverflow": false,
       "aggSchema": [],
       "aggSeriesLimitReached": false,
       "aggType": "",
       "arguments": {},
       "columnCustomDisplayInfos": {},
       "data": [],
       "datasetInfos": [],
       "dbfsResultPath": null,
       "isJsonSchema": true,
       "metadata": {},
       "overflow": false,
       "plotOptions": {
        "customPlotOptions": {},
        "displayType": "table",
        "pivotAggregation": null,
        "pivotColumns": null,
        "xColumns": null,
        "yColumns": null
       },
       "removedWidgets": [],
       "schema": [],
       "type": "table"
      }
     },
     "output_type": "display_data"
    }
   ],
   "source": [
    "%sql\n",
    "DROP TABLE IF EXISTS catalogo_de_dados.catalog_informacao_jogadores;\n",
    "\n",
    "CREATE TABLE catalogo_de_dados.catalog_informacao_jogadores\n",
    "USING DELTA\n",
    "LOCATION 's3://mvp-brasileirao-2024/gold/catalogo_de_dados/informacao_jogadores';"
   ]
  },
  {
   "cell_type": "markdown",
   "metadata": {
    "application/vnd.databricks.v1+cell": {
     "cellMetadata": {},
     "inputWidgets": {},
     "nuid": "e17c7c23-77f8-4785-af90-319d995a4418",
     "showTitle": false,
     "tableResultSettingsMap": {},
     "title": ""
    }
   },
   "source": [
    "### 🔹 Exibindo o Catálogo de Dados via SQL"
   ]
  },
  {
   "cell_type": "code",
   "execution_count": 0,
   "metadata": {
    "application/vnd.databricks.v1+cell": {
     "cellMetadata": {
      "byteLimit": 2048000,
      "implicitDf": true,
      "rowLimit": 10000
     },
     "inputWidgets": {},
     "nuid": "911f53d0-b7aa-4716-8073-d757ce062450",
     "showTitle": false,
     "tableResultSettingsMap": {},
     "title": ""
    }
   },
   "outputs": [
    {
     "data": {
      "text/html": [
       "<style scoped>\n",
       "  .table-result-container {\n",
       "    max-height: 300px;\n",
       "    overflow: auto;\n",
       "  }\n",
       "  table, th, td {\n",
       "    border: 1px solid black;\n",
       "    border-collapse: collapse;\n",
       "  }\n",
       "  th, td {\n",
       "    padding: 5px;\n",
       "  }\n",
       "  th {\n",
       "    text-align: left;\n",
       "  }\n",
       "</style><div class='table-result-container'><table class='table-result'><thead style='background-color: white'><tr><th>ID_Coluna</th><th>Coluna</th><th>Tipo_de_Dado</th><th>Definição</th><th>Valores_Min_Max</th><th>Qtd_Valores_Registrados</th><th>Qtd_Valores_Nulos</th><th>Qtd_Valores_Distintos</th><th>Qtd_Valores_Duplicados</th><th>Regras_de_Transformação</th><th>Linhagem_Dados</th><th>Observacoes</th><th>Fonte</th><th>Link_Fonte</th><th>Arquivo_Original</th><th>Arquivo_S3</th></tr></thead><tbody><tr><td>5</td><td>Nome_Posicao_Principal</td><td>string</td><td>Nome da posição principal que o jogador jogou na partida.</td><td>Ala | Zagueiro</td><td>726</td><td>0</td><td>13</td><td>713</td><td>Derivado da coluna `posicao_principal`, com tradução das siglas para facilitar a leitura e interpretação.</td><td>Estatisticas_PorJogador → Mart_Info_Jogadores → Gold</td><td>Sem observações adicionais.</td><td>Tabela construída a partir da análise da posição principal e das improvisações dos jogadores ao longo da temporada.</td><td>https://fbref.com/</td><td>BrasilSerieA_2024_EstatisticaJogadorPorPartida.csv</td><td>s3://mvp-brasileirao-2024/Gold/Mart_Info_Jogadores/</td></tr><tr><td>8</td><td>Nome_Improvisacao</td><td>string</td><td>Nome da posição em que o jogador atuou improvisado durante a partida</td><td>Ala | Zagueiro</td><td>569</td><td>157</td><td>12</td><td>557</td><td>Derivado da coluna `improvisacao`, com tradução das siglas de posição para facilitar a análise.</td><td>Estatisticas_PorJogador → Mart_Info_Jogadores → Gold</td><td>Sem observações adicionais.</td><td>Tabela construída a partir da análise da posição principal e das improvisações dos jogadores ao longo da temporada.</td><td>https://fbref.com/</td><td>BrasilSerieA_2024_EstatisticaJogadorPorPartida.csv</td><td>s3://mvp-brasileirao-2024/Gold/Mart_Info_Jogadores/</td></tr><tr><td>9</td><td>jogos_improvisados</td><td>bigint</td><td>Quantidade de partidas em que o jogador foi escalado fora da sua posição principal.</td><td>1 | 18</td><td>569</td><td>157</td><td>16</td><td>553</td><td>Contagem de jogos em posições diferentes da principal.</td><td>Estatisticas_PorJogador → Mart_Info_Jogadores → Gold</td><td>Sem observações adicionais.</td><td>Tabela construída a partir da análise da posição principal e das improvisações dos jogadores ao longo da temporada.</td><td>https://fbref.com/</td><td>BrasilSerieA_2024_EstatisticaJogadorPorPartida.csv</td><td>s3://mvp-brasileirao-2024/Gold/Mart_Info_Jogadores/</td></tr><tr><td>4</td><td>Posicao_Principal</td><td>string</td><td>Posição em que o jogador atuou com maior frequência na temporada.</td><td>AM | WB</td><td>726</td><td>0</td><td>13</td><td>713</td><td>Calculado a partir das posições registradas na Estatisticas_PorJogador.</td><td>Estatisticas_PorJogador → Mart_Info_Jogadores → Gold</td><td>Sem observações adicionais.</td><td>Tabela construída a partir da análise da posição principal e das improvisações dos jogadores ao longo da temporada.</td><td>https://fbref.com/</td><td>BrasilSerieA_2024_EstatisticaJogadorPorPartida.csv</td><td>s3://mvp-brasileirao-2024/Gold/Mart_Info_Jogadores/</td></tr><tr><td>7</td><td>Improvisacao</td><td>string</td><td>Outra posição em que o jogador foi escalado, diferente da sua função original.</td><td>AM | WB</td><td>569</td><td>157</td><td>12</td><td>557</td><td>Derivado da análise de múltiplas posições por jogador.</td><td>Estatisticas_PorJogador → Mart_Info_Jogadores → Gold</td><td>Sem observações adicionais.</td><td>Tabela construída a partir da análise da posição principal e das improvisações dos jogadores ao longo da temporada.</td><td>https://fbref.com/</td><td>BrasilSerieA_2024_EstatisticaJogadorPorPartida.csv</td><td>s3://mvp-brasileirao-2024/Gold/Mart_Info_Jogadores/</td></tr><tr><td>2</td><td>Clube</td><td>string</td><td>Clube que o jogador representou no Campeonato Brasileiro de 2024.</td><td>Athletico-PR | Vasco da Gama</td><td>726</td><td>0</td><td>20</td><td>706</td><td>Derivado da tabela de Estatisticas_PorJogador.</td><td>Estatisticas_PorJogador → Mart_Desempenho_Jogadores → Gold</td><td>Sem observações adicionais.</td><td>Tabela construída a partir da análise da posição principal e das improvisações dos jogadores ao longo da temporada.</td><td>https://fbref.com/</td><td>BrasilSerieA_2024_EstatisticaJogadorPorPartida.csv</td><td>s3://mvp-brasileirao-2024/Gold/Mart_Info_Jogadores/</td></tr><tr><td>3</td><td>Nacionalidade</td><td>string</td><td>País de origem do jogador.</td><td>ANG | VEN</td><td>726</td><td>0</td><td>24</td><td>702</td><td>Derivado da tabela de Estatisticas_PorJogador.</td><td>Estatisticas_PorJogador → Mart_Desempenho_Jogadores → Gold</td><td>Sem observações adicionais.</td><td>Tabela construída a partir da análise da posição principal e das improvisações dos jogadores ao longo da temporada.</td><td>https://fbref.com/</td><td>BrasilSerieA_2024_EstatisticaJogadorPorPartida.csv</td><td>s3://mvp-brasileirao-2024/Gold/Mart_Info_Jogadores/</td></tr><tr><td>1</td><td>Jogador</td><td>string</td><td>Nome do jogador.</td><td>Abner | Óscar Romero</td><td>726</td><td>0</td><td>653</td><td>73</td><td>Derivado da tabela de Estatisticas_PorJogador.</td><td>Estatisticas_PorJogador → Mart_Desempenho_Jogadores → Gold</td><td>Sem observações adicionais.</td><td>Tabela construída a partir da análise da posição principal e das improvisações dos jogadores ao longo da temporada.</td><td>https://fbref.com/</td><td>BrasilSerieA_2024_EstatisticaJogadorPorPartida.csv</td><td>s3://mvp-brasileirao-2024/Gold/Mart_Info_Jogadores/</td></tr><tr><td>6</td><td>jogos_posicao_principal</td><td>bigint</td><td>Descrição da coluna jogos_posicao_principal</td><td>1 | 38</td><td>726</td><td>0</td><td>38</td><td>688</td><td>Nenhuma alteração aplicada.</td><td>Origem desconhecida</td><td>Sem observações adicionais.</td><td>Tabela construída a partir da análise da posição principal e das improvisações dos jogadores ao longo da temporada.</td><td>https://fbref.com/</td><td>BrasilSerieA_2024_EstatisticaJogadorPorPartida.csv</td><td>s3://mvp-brasileirao-2024/Gold/Mart_Info_Jogadores/</td></tr></tbody></table></div>"
      ]
     },
     "metadata": {
      "application/vnd.databricks.v1+output": {
       "addedWidgets": {},
       "aggData": [],
       "aggError": "",
       "aggOverflow": false,
       "aggSchema": [],
       "aggSeriesLimitReached": false,
       "aggType": "",
       "arguments": {},
       "columnCustomDisplayInfos": {},
       "data": [
        [
         5,
         "Nome_Posicao_Principal",
         "string",
         "Nome da posição principal que o jogador jogou na partida.",
         "Ala | Zagueiro",
         726,
         0,
         13,
         713,
         "Derivado da coluna `posicao_principal`, com tradução das siglas para facilitar a leitura e interpretação.",
         "Estatisticas_PorJogador → Mart_Info_Jogadores → Gold",
         "Sem observações adicionais.",
         "Tabela construída a partir da análise da posição principal e das improvisações dos jogadores ao longo da temporada.",
         "https://fbref.com/",
         "BrasilSerieA_2024_EstatisticaJogadorPorPartida.csv",
         "s3://mvp-brasileirao-2024/Gold/Mart_Info_Jogadores/"
        ],
        [
         8,
         "Nome_Improvisacao",
         "string",
         "Nome da posição em que o jogador atuou improvisado durante a partida",
         "Ala | Zagueiro",
         569,
         157,
         12,
         557,
         "Derivado da coluna `improvisacao`, com tradução das siglas de posição para facilitar a análise.",
         "Estatisticas_PorJogador → Mart_Info_Jogadores → Gold",
         "Sem observações adicionais.",
         "Tabela construída a partir da análise da posição principal e das improvisações dos jogadores ao longo da temporada.",
         "https://fbref.com/",
         "BrasilSerieA_2024_EstatisticaJogadorPorPartida.csv",
         "s3://mvp-brasileirao-2024/Gold/Mart_Info_Jogadores/"
        ],
        [
         9,
         "jogos_improvisados",
         "bigint",
         "Quantidade de partidas em que o jogador foi escalado fora da sua posição principal.",
         "1 | 18",
         569,
         157,
         16,
         553,
         "Contagem de jogos em posições diferentes da principal.",
         "Estatisticas_PorJogador → Mart_Info_Jogadores → Gold",
         "Sem observações adicionais.",
         "Tabela construída a partir da análise da posição principal e das improvisações dos jogadores ao longo da temporada.",
         "https://fbref.com/",
         "BrasilSerieA_2024_EstatisticaJogadorPorPartida.csv",
         "s3://mvp-brasileirao-2024/Gold/Mart_Info_Jogadores/"
        ],
        [
         4,
         "Posicao_Principal",
         "string",
         "Posição em que o jogador atuou com maior frequência na temporada.",
         "AM | WB",
         726,
         0,
         13,
         713,
         "Calculado a partir das posições registradas na Estatisticas_PorJogador.",
         "Estatisticas_PorJogador → Mart_Info_Jogadores → Gold",
         "Sem observações adicionais.",
         "Tabela construída a partir da análise da posição principal e das improvisações dos jogadores ao longo da temporada.",
         "https://fbref.com/",
         "BrasilSerieA_2024_EstatisticaJogadorPorPartida.csv",
         "s3://mvp-brasileirao-2024/Gold/Mart_Info_Jogadores/"
        ],
        [
         7,
         "Improvisacao",
         "string",
         "Outra posição em que o jogador foi escalado, diferente da sua função original.",
         "AM | WB",
         569,
         157,
         12,
         557,
         "Derivado da análise de múltiplas posições por jogador.",
         "Estatisticas_PorJogador → Mart_Info_Jogadores → Gold",
         "Sem observações adicionais.",
         "Tabela construída a partir da análise da posição principal e das improvisações dos jogadores ao longo da temporada.",
         "https://fbref.com/",
         "BrasilSerieA_2024_EstatisticaJogadorPorPartida.csv",
         "s3://mvp-brasileirao-2024/Gold/Mart_Info_Jogadores/"
        ],
        [
         2,
         "Clube",
         "string",
         "Clube que o jogador representou no Campeonato Brasileiro de 2024.",
         "Athletico-PR | Vasco da Gama",
         726,
         0,
         20,
         706,
         "Derivado da tabela de Estatisticas_PorJogador.",
         "Estatisticas_PorJogador → Mart_Desempenho_Jogadores → Gold",
         "Sem observações adicionais.",
         "Tabela construída a partir da análise da posição principal e das improvisações dos jogadores ao longo da temporada.",
         "https://fbref.com/",
         "BrasilSerieA_2024_EstatisticaJogadorPorPartida.csv",
         "s3://mvp-brasileirao-2024/Gold/Mart_Info_Jogadores/"
        ],
        [
         3,
         "Nacionalidade",
         "string",
         "País de origem do jogador.",
         "ANG | VEN",
         726,
         0,
         24,
         702,
         "Derivado da tabela de Estatisticas_PorJogador.",
         "Estatisticas_PorJogador → Mart_Desempenho_Jogadores → Gold",
         "Sem observações adicionais.",
         "Tabela construída a partir da análise da posição principal e das improvisações dos jogadores ao longo da temporada.",
         "https://fbref.com/",
         "BrasilSerieA_2024_EstatisticaJogadorPorPartida.csv",
         "s3://mvp-brasileirao-2024/Gold/Mart_Info_Jogadores/"
        ],
        [
         1,
         "Jogador",
         "string",
         "Nome do jogador.",
         "Abner | Óscar Romero",
         726,
         0,
         653,
         73,
         "Derivado da tabela de Estatisticas_PorJogador.",
         "Estatisticas_PorJogador → Mart_Desempenho_Jogadores → Gold",
         "Sem observações adicionais.",
         "Tabela construída a partir da análise da posição principal e das improvisações dos jogadores ao longo da temporada.",
         "https://fbref.com/",
         "BrasilSerieA_2024_EstatisticaJogadorPorPartida.csv",
         "s3://mvp-brasileirao-2024/Gold/Mart_Info_Jogadores/"
        ],
        [
         6,
         "jogos_posicao_principal",
         "bigint",
         "Descrição da coluna jogos_posicao_principal",
         "1 | 38",
         726,
         0,
         38,
         688,
         "Nenhuma alteração aplicada.",
         "Origem desconhecida",
         "Sem observações adicionais.",
         "Tabela construída a partir da análise da posição principal e das improvisações dos jogadores ao longo da temporada.",
         "https://fbref.com/",
         "BrasilSerieA_2024_EstatisticaJogadorPorPartida.csv",
         "s3://mvp-brasileirao-2024/Gold/Mart_Info_Jogadores/"
        ]
       ],
       "datasetInfos": [],
       "dbfsResultPath": null,
       "isJsonSchema": true,
       "metadata": {},
       "overflow": false,
       "plotOptions": {
        "customPlotOptions": {},
        "displayType": "table",
        "pivotAggregation": null,
        "pivotColumns": null,
        "xColumns": null,
        "yColumns": null
       },
       "removedWidgets": [],
       "schema": [
        {
         "metadata": "{}",
         "name": "ID_Coluna",
         "type": "\"long\""
        },
        {
         "metadata": "{}",
         "name": "Coluna",
         "type": "\"string\""
        },
        {
         "metadata": "{}",
         "name": "Tipo_de_Dado",
         "type": "\"string\""
        },
        {
         "metadata": "{}",
         "name": "Definição",
         "type": "\"string\""
        },
        {
         "metadata": "{}",
         "name": "Valores_Min_Max",
         "type": "\"string\""
        },
        {
         "metadata": "{}",
         "name": "Qtd_Valores_Registrados",
         "type": "\"long\""
        },
        {
         "metadata": "{}",
         "name": "Qtd_Valores_Nulos",
         "type": "\"long\""
        },
        {
         "metadata": "{}",
         "name": "Qtd_Valores_Distintos",
         "type": "\"long\""
        },
        {
         "metadata": "{}",
         "name": "Qtd_Valores_Duplicados",
         "type": "\"long\""
        },
        {
         "metadata": "{}",
         "name": "Regras_de_Transformação",
         "type": "\"string\""
        },
        {
         "metadata": "{}",
         "name": "Linhagem_Dados",
         "type": "\"string\""
        },
        {
         "metadata": "{}",
         "name": "Observacoes",
         "type": "\"string\""
        },
        {
         "metadata": "{}",
         "name": "Fonte",
         "type": "\"string\""
        },
        {
         "metadata": "{}",
         "name": "Link_Fonte",
         "type": "\"string\""
        },
        {
         "metadata": "{}",
         "name": "Arquivo_Original",
         "type": "\"string\""
        },
        {
         "metadata": "{}",
         "name": "Arquivo_S3",
         "type": "\"string\""
        }
       ],
       "type": "table"
      }
     },
     "output_type": "display_data"
    }
   ],
   "source": [
    "%sql\n",
    "select * from catalogo_de_dados.catalog_informacao_jogadores"
   ]
  },
  {
   "cell_type": "markdown",
   "metadata": {
    "application/vnd.databricks.v1+cell": {
     "cellMetadata": {},
     "inputWidgets": {},
     "nuid": "e6461b4d-d68e-4ee8-b107-8add25181787",
     "showTitle": false,
     "tableResultSettingsMap": {},
     "title": ""
    }
   },
   "source": [
    "## 🔷 todas_partidas"
   ]
  },
  {
   "cell_type": "markdown",
   "metadata": {
    "application/vnd.databricks.v1+cell": {
     "cellMetadata": {},
     "inputWidgets": {},
     "nuid": "c4c7f4d1-517e-4a68-a3fb-ddea11f369c0",
     "showTitle": false,
     "tableResultSettingsMap": {},
     "title": ""
    }
   },
   "source": [
    "### 🔹 Criando o Metadata do dataframe"
   ]
  },
  {
   "cell_type": "code",
   "execution_count": 0,
   "metadata": {
    "application/vnd.databricks.v1+cell": {
     "cellMetadata": {
      "byteLimit": 2048000,
      "rowLimit": 10000
     },
     "inputWidgets": {},
     "nuid": "4f67c9bf-1e35-4a27-8d5b-67c5eb0a8f9d",
     "showTitle": false,
     "tableResultSettingsMap": {},
     "title": ""
    }
   },
   "outputs": [],
   "source": [
    "from pyspark.sql import Row\n",
    "from pyspark.sql.functions import col, count, countDistinct, min, max, sum, expr\n",
    "\n",
    "# Nome da tabela que queremos analisar (mudar para cada dataset da Silver)\n",
    "tabela_gold = \"marts_mvp_brasileirao.todas_partidas\"\n",
    "\n",
    "# Ler os dados da Silver diretamente do Metastore\n",
    "df = spark.read.table(tabela_gold)\n",
    "\n",
    "# Criar DataFrame com estatísticas (incluindo contagem de nulos correta e duplicatas)\n",
    "metadata_df = df.agg(\n",
    "    *[count(col(c)).alias(f\"{c}_count\") for c in df.columns],  # Contagem total de registros NÃO NULOS\n",
    "    *[countDistinct(col(c)).alias(f\"{c}_distinct\") for c in df.columns],  # Contagem de valores distintos\n",
    "    *[min(col(c)).alias(f\"{c}_min\") for c in df.columns],  # Valor mínimo\n",
    "    *[max(col(c)).alias(f\"{c}_max\") for c in df.columns],  # Valor máximo\n",
    "    *[sum(col(c).isNull().cast(\"int\")).alias(f\"{c}_nulls\") for c in df.columns],  # Contagem correta de nulos\n",
    "    *[(count(col(c)) - countDistinct(col(c))).alias(f\"{c}_duplicates\") for c in df.columns]  # Contagem de valores duplicados\n",
    ")"
   ]
  },
  {
   "cell_type": "markdown",
   "metadata": {
    "application/vnd.databricks.v1+cell": {
     "cellMetadata": {},
     "inputWidgets": {},
     "nuid": "77758709-7adf-4e38-8d53-44e9b9c2ffb5",
     "showTitle": false,
     "tableResultSettingsMap": {},
     "title": ""
    }
   },
   "source": [
    "### 🔹 Criação do Dicionário de descrições"
   ]
  },
  {
   "cell_type": "code",
   "execution_count": 0,
   "metadata": {
    "application/vnd.databricks.v1+cell": {
     "cellMetadata": {
      "byteLimit": 2048000,
      "rowLimit": 10000
     },
     "inputWidgets": {},
     "nuid": "c3b51ccd-0a74-45ea-b965-9f2b2e80b4b2",
     "showTitle": false,
     "tableResultSettingsMap": {},
     "title": ""
    }
   },
   "outputs": [],
   "source": [
    "col_descriptions = {\n",
    "    # Colunas originais da Bronze (renomeadas na Silver)\n",
    "    \"pais\": (\"País onde o campeonato foi disputado\", \"Renomeação da coluna para padronização\", \"Bronze → Silver → Gold\"),\n",
    "    \"liga\": (\"Nome da liga do campeonato\", \"Renomeação da coluna para padronização\", \"Bronze → Silver → Gold\"),\n",
    "    \"temporada\": (\"Ano da temporada do campeonato\", \"Renomeação da coluna para padronização | Filtragem para manter apenas 2024\", \"Bronze → Silver → Gold\"),\n",
    "    \n",
    "    # 🔹 Atualização da coluna \"Data\"\n",
    "    \"data\": (\"Data em que a partida foi disputada\", \n",
    "             \"Renomeação da coluna e conversão para formato de data | Ajuste das datas das partidas não encontradas na base Estatistica por Jogador (-1 dia, quando necessário)\", \n",
    "             \"Bronze → Silver → Gold\"),\n",
    "    \n",
    "    \"horario\": (\"Horário da partida\", \"Renomeação da coluna para padronização\", \"Bronze → Silver → Gold\"),\n",
    "    \n",
    "    # Novas colunas criadas na Silver\n",
    "    \"match_id\": (\"Identificador único da partida\", \"Criado concatenando 'Match_' com um ID incremental\", \"Silver (Coluna nova) → Gold\"),\n",
    "    \"trimestre\": (\"Trimestre em que a partida foi disputada\", \"Criado a partir da data do jogo\", \"Silver (Coluna nova) → Gold\"),\n",
    "    \"turno\": (\"Indicação se a partida foi no primeiro ou segundo turno do campeonato\", \"Criado com base na data do jogo\", \"Silver (Coluna nova) → Gold\"),\n",
    "    \n",
    "    # Transformações para análise individual de cada time\n",
    "    \"clube\": (\"Nome do time participante da partida (mandante ou visitante)\", \"Criado a partir das colunas Home e Away, e unificando em uma única coluna\", \"Silver (Transformação) → Gold\"),\n",
    "    \"mandantevisitante\": (\"Indica se o time jogou em casa ('Mandante') ou fora ('Visitante')\", \"Transformado a partir dos DataFrames 'df_home' e 'df_away' e criado a partir da união de ambos\", \"Silver (Transformação) → Gold\"),\n",
    "    \"goals\": (\"Número de gols marcados pelo time na partida\", \"Criado unificando HG (gols do mandante) e AG (gols do visitante)\", \"Silver (Coluna nova) → Gold\"),\n",
    "    \n",
    "    # Transformações aplicadas à coluna Resultado\n",
    "    \"resultado\": (\"Resultado da partida do ponto de vista do time (Vitória, Derrota ou Empate)\", \"Ajustado conforme a posição do time na partida\", \"Silver (Transformação) → Gold\"),\n",
    "    \n",
    "    # 🔹 Nova coluna \"Status_Ajuste\"\n",
    "    \"status_ajustes\": (\"Indica se a data da partida foi ajustada\", \n",
    "                      \"Criado para identificar alterações na data das partidas. Valores possíveis: 'Ajustado -1 dia' ou 'Sem modificação'\", \n",
    "                      \"Silver (Coluna nova) → Gold\")\n",
    "}\n"
   ]
  },
  {
   "cell_type": "markdown",
   "metadata": {
    "application/vnd.databricks.v1+cell": {
     "cellMetadata": {},
     "inputWidgets": {},
     "nuid": "3111ed87-64dd-44df-ad78-1ff7dc8882ce",
     "showTitle": false,
     "tableResultSettingsMap": {},
     "title": ""
    }
   },
   "source": [
    "### 🔹 Criação do Dicionário de observações"
   ]
  },
  {
   "cell_type": "code",
   "execution_count": 0,
   "metadata": {
    "application/vnd.databricks.v1+cell": {
     "cellMetadata": {
      "byteLimit": 2048000,
      "rowLimit": 10000
     },
     "inputWidgets": {},
     "nuid": "cedff97a-4e9f-426b-abad-a03e9e0ade4d",
     "showTitle": false,
     "tableResultSettingsMap": {},
     "title": ""
    }
   },
   "outputs": [],
   "source": [
    "observacoes = {\n",
    "    \"data\": \"⚠️ Ajuste manual: Datas ajustadas para garantir a correspondência entre os arquivos de partidas e estatísticas. Quando necessário, foi subtraído 1 dia das partidas não encontradas na estatística.\"\n",
    "}"
   ]
  },
  {
   "cell_type": "markdown",
   "metadata": {
    "application/vnd.databricks.v1+cell": {
     "cellMetadata": {},
     "inputWidgets": {},
     "nuid": "8bf128ce-a5b2-4707-bcd5-c6015be05b76",
     "showTitle": false,
     "tableResultSettingsMap": {},
     "title": ""
    }
   },
   "source": [
    "### 🔹 Criando o Dataframe do Catálogo"
   ]
  },
  {
   "cell_type": "code",
   "execution_count": 0,
   "metadata": {
    "application/vnd.databricks.v1+cell": {
     "cellMetadata": {
      "byteLimit": 2048000,
      "rowLimit": 10000
     },
     "inputWidgets": {},
     "nuid": "f0d9f7b9-fd29-44b8-95af-c37c5a1ec97e",
     "showTitle": false,
     "tableResultSettingsMap": {},
     "title": ""
    }
   },
   "outputs": [],
   "source": [
    "# Criar lista de metadados para o Catálogo de Dados\n",
    "catalog_data = []\n",
    "\n",
    "# Iterar sobre as colunas da tabela Silver\n",
    "for index, col_name in enumerate(df.columns, start=1):\n",
    "    col_type = df.select(col(col_name)).schema.fields[0].dataType.simpleString()  # Tipo da coluna\n",
    "    col_count = metadata_df.collect()[0][f\"{col_name}_count\"]  # Contagem total (não nulos)\n",
    "    col_distinct = metadata_df.collect()[0][f\"{col_name}_distinct\"]  # Valores distintos\n",
    "    col_nulls = metadata_df.collect()[0][f\"{col_name}_nulls\"]  # Contagem correta de valores nulos\n",
    "    col_min = metadata_df.collect()[0][f\"{col_name}_min\"] if f\"{col_name}_min\" in metadata_df.columns else \"N/A\"\n",
    "    col_max = metadata_df.collect()[0][f\"{col_name}_max\"] if f\"{col_name}_max\" in metadata_df.columns else \"N/A\"\n",
    "    col_duplicates = metadata_df.collect()[0][f\"{col_name}_duplicates\"] if f\"{col_name}_duplicates\" in metadata_df.columns else 0  # Contagem de duplicados\n",
    "\n",
    "    # Buscar definição, regra de transformação e linhagem dos dados no dicionário\n",
    "    col_definition, transformations_applied, lineage_info = col_descriptions.get(\n",
    "        col_name, (f\"Descrição da coluna {col_name}\", \"Nenhuma alteração aplicada.\", \"Origem desconhecida\")\n",
    "    )\n",
    "\n",
    "    # Definir observações sobre a coluna (pode ser preenchido manualmente se necessário)\n",
    "    comments = observacoes.get(col_name, \"Sem observações adicionais.\")\n",
    "\n",
    "    # Adicionar à lista\n",
    "    catalog_data.append(Row(ID_Coluna=index,\n",
    "                            Coluna=col_name, \n",
    "                            Tipo_de_Dado=col_type, \n",
    "                            Definição=col_definition,\n",
    "                            Valores_Min_Max=f\"{col_min} | {col_max}\", \n",
    "                            Qtd_Valores_Registrados=col_count,\n",
    "                            Qtd_Valores_Nulos=col_nulls,\n",
    "                            Qtd_Valores_Distintos=col_distinct,\n",
    "                            Qtd_Valores_Duplicados=col_duplicates,\n",
    "                            Regras_de_Transformação=transformations_applied,\n",
    "                            Linhagem_Dados=lineage_info,  # ✅ Agora vem direto do dicionário!\n",
    "                            Observacoes=comments,\n",
    "                            Fonte=\"Kaggle\",\n",
    "                            Link_Fonte=\"https://www.kaggle.com/datasets/gabrielmeireles/brazilian-football-championship\",\n",
    "                            Arquivo_Original=\"BRA.csv\",\n",
    "                            Arquivo_S3=\"s3://mvp-brasileirao-2024/Gold/todas_partidas/\"\n",
    "                            ))                            \n",
    "\n",
    "# Criar o DataFrame do Catálogo de Dados\n",
    "catalog_df = spark.createDataFrame(catalog_data)"
   ]
  },
  {
   "cell_type": "markdown",
   "metadata": {
    "application/vnd.databricks.v1+cell": {
     "cellMetadata": {},
     "inputWidgets": {},
     "nuid": "233ef5c9-694e-48d1-9841-0057a1db4b0c",
     "showTitle": false,
     "tableResultSettingsMap": {},
     "title": ""
    }
   },
   "source": [
    "### 🔹 Salvando o Catálogo no S3 camada Gold"
   ]
  },
  {
   "cell_type": "code",
   "execution_count": 0,
   "metadata": {
    "application/vnd.databricks.v1+cell": {
     "cellMetadata": {
      "byteLimit": 2048000,
      "rowLimit": 10000
     },
     "inputWidgets": {},
     "nuid": "4836f4c1-26b4-4ba2-8de7-586428ef3ab5",
     "showTitle": false,
     "tableResultSettingsMap": {},
     "title": ""
    }
   },
   "outputs": [
    {
     "name": "stdout",
     "output_type": "stream",
     "text": [
      "🚨 Arquivos antigos do Delta removidos com sucesso!\n",
      "✅ Catálogo Estatístico salvo no formato Delta com sucesso!\n"
     ]
    }
   ],
   "source": [
    "# Caminho no S3 para salvar o Catálogo Estatístico\n",
    "delta_catalogo_estatistico_path = \"s3://mvp-brasileirao-2024/gold/catalogo_de_dados/todas_partidas\"\n",
    "\n",
    "dbutils.fs.rm(delta_catalogo_estatistico_path, recurse=True)\n",
    "print(\"🚨 Arquivos antigos do Delta removidos com sucesso!\")\n",
    "\n",
    "# Salvar a tabela Delta com as estatísticas\n",
    "catalog_df.write.format(\"delta\").mode(\"overwrite\").save(delta_catalogo_estatistico_path)\n",
    "\n",
    "print(\"✅ Catálogo Estatístico salvo no formato Delta com sucesso!\")"
   ]
  },
  {
   "cell_type": "markdown",
   "metadata": {
    "application/vnd.databricks.v1+cell": {
     "cellMetadata": {},
     "inputWidgets": {},
     "nuid": "73457860-21c2-4ac5-bc05-8efd5149dcac",
     "showTitle": false,
     "tableResultSettingsMap": {},
     "title": ""
    }
   },
   "source": [
    "### 🔹 Criando Tabela de Catálogos no Hive"
   ]
  },
  {
   "cell_type": "code",
   "execution_count": 0,
   "metadata": {
    "application/vnd.databricks.v1+cell": {
     "cellMetadata": {
      "byteLimit": 2048000,
      "implicitDf": true,
      "rowLimit": 10000
     },
     "inputWidgets": {},
     "nuid": "3e6e5844-62b1-47e4-883a-e848ea4625d8",
     "showTitle": false,
     "tableResultSettingsMap": {},
     "title": ""
    }
   },
   "outputs": [
    {
     "data": {
      "text/html": [
       "<style scoped>\n",
       "  .table-result-container {\n",
       "    max-height: 300px;\n",
       "    overflow: auto;\n",
       "  }\n",
       "  table, th, td {\n",
       "    border: 1px solid black;\n",
       "    border-collapse: collapse;\n",
       "  }\n",
       "  th, td {\n",
       "    padding: 5px;\n",
       "  }\n",
       "  th {\n",
       "    text-align: left;\n",
       "  }\n",
       "</style><div class='table-result-container'><table class='table-result'><thead style='background-color: white'><tr></tr></thead><tbody></tbody></table></div>"
      ]
     },
     "metadata": {
      "application/vnd.databricks.v1+output": {
       "addedWidgets": {},
       "aggData": [],
       "aggError": "",
       "aggOverflow": false,
       "aggSchema": [],
       "aggSeriesLimitReached": false,
       "aggType": "",
       "arguments": {},
       "columnCustomDisplayInfos": {},
       "data": [],
       "datasetInfos": [],
       "dbfsResultPath": null,
       "isJsonSchema": true,
       "metadata": {},
       "overflow": false,
       "plotOptions": {
        "customPlotOptions": {},
        "displayType": "table",
        "pivotAggregation": null,
        "pivotColumns": null,
        "xColumns": null,
        "yColumns": null
       },
       "removedWidgets": [],
       "schema": [],
       "type": "table"
      }
     },
     "output_type": "display_data"
    }
   ],
   "source": [
    "%sql\n",
    "DROP TABLE IF EXISTS catalogo_de_dados.catalog_todas_partidas;\n",
    "\n",
    "CREATE TABLE catalogo_de_dados.catalog_todas_partidas\n",
    "USING DELTA\n",
    "LOCATION 's3://mvp-brasileirao-2024/gold/catalogo_de_dados/todas_partidas';"
   ]
  },
  {
   "cell_type": "markdown",
   "metadata": {
    "application/vnd.databricks.v1+cell": {
     "cellMetadata": {},
     "inputWidgets": {},
     "nuid": "57e1a3b7-85f8-4a3b-9333-5838802339da",
     "showTitle": false,
     "tableResultSettingsMap": {},
     "title": ""
    }
   },
   "source": [
    "### 🔹 Exibindo o Catálogo de Dados via SQL"
   ]
  },
  {
   "cell_type": "code",
   "execution_count": 0,
   "metadata": {
    "application/vnd.databricks.v1+cell": {
     "cellMetadata": {
      "byteLimit": 2048000,
      "implicitDf": true,
      "rowLimit": 10000
     },
     "inputWidgets": {},
     "nuid": "fa502435-51cd-4bde-b590-34c264c28784",
     "showTitle": false,
     "tableResultSettingsMap": {},
     "title": ""
    }
   },
   "outputs": [
    {
     "data": {
      "text/html": [
       "<style scoped>\n",
       "  .table-result-container {\n",
       "    max-height: 300px;\n",
       "    overflow: auto;\n",
       "  }\n",
       "  table, th, td {\n",
       "    border: 1px solid black;\n",
       "    border-collapse: collapse;\n",
       "  }\n",
       "  th, td {\n",
       "    padding: 5px;\n",
       "  }\n",
       "  th {\n",
       "    text-align: left;\n",
       "  }\n",
       "</style><div class='table-result-container'><table class='table-result'><thead style='background-color: white'><tr><th>ID_Coluna</th><th>Coluna</th><th>Tipo_de_Dado</th><th>Definição</th><th>Valores_Min_Max</th><th>Qtd_Valores_Registrados</th><th>Qtd_Valores_Nulos</th><th>Qtd_Valores_Distintos</th><th>Qtd_Valores_Duplicados</th><th>Regras_de_Transformação</th><th>Linhagem_Dados</th><th>Observacoes</th><th>Fonte</th><th>Link_Fonte</th><th>Arquivo_Original</th><th>Arquivo_S3</th></tr></thead><tbody><tr><td>7</td><td>Clube</td><td>string</td><td>Descrição da coluna Clube</td><td>Athletico-PR | Vasco da Gama</td><td>760</td><td>0</td><td>20</td><td>740</td><td>Nenhuma alteração aplicada.</td><td>Origem desconhecida</td><td>Sem observações adicionais.</td><td>Kaggle</td><td>https://www.kaggle.com/datasets/gabrielmeireles/brazilian-football-championship</td><td>BRA.csv</td><td>s3://mvp-brasileirao-2024/Gold/todas_partidas/</td></tr><tr><td>8</td><td>MandanteVisitante</td><td>string</td><td>Descrição da coluna MandanteVisitante</td><td>Mandante | Visitante</td><td>760</td><td>0</td><td>2</td><td>758</td><td>Nenhuma alteração aplicada.</td><td>Origem desconhecida</td><td>Sem observações adicionais.</td><td>Kaggle</td><td>https://www.kaggle.com/datasets/gabrielmeireles/brazilian-football-championship</td><td>BRA.csv</td><td>s3://mvp-brasileirao-2024/Gold/todas_partidas/</td></tr><tr><td>12</td><td>Data</td><td>date</td><td>Descrição da coluna Data</td><td>2024-04-13 | 2024-12-08</td><td>760</td><td>0</td><td>110</td><td>650</td><td>Nenhuma alteração aplicada.</td><td>Origem desconhecida</td><td>Sem observações adicionais.</td><td>Kaggle</td><td>https://www.kaggle.com/datasets/gabrielmeireles/brazilian-football-championship</td><td>BRA.csv</td><td>s3://mvp-brasileirao-2024/Gold/todas_partidas/</td></tr><tr><td>13</td><td>Status_Ajustes</td><td>string</td><td>Descrição da coluna Status_Ajustes</td><td>Sem modificação | Sem modificação</td><td>760</td><td>0</td><td>1</td><td>759</td><td>Nenhuma alteração aplicada.</td><td>Origem desconhecida</td><td>Sem observações adicionais.</td><td>Kaggle</td><td>https://www.kaggle.com/datasets/gabrielmeireles/brazilian-football-championship</td><td>BRA.csv</td><td>s3://mvp-brasileirao-2024/Gold/todas_partidas/</td></tr><tr><td>10</td><td>Resultado</td><td>string</td><td>Descrição da coluna Resultado</td><td>Derrota | Vitoria</td><td>760</td><td>0</td><td>3</td><td>757</td><td>Nenhuma alteração aplicada.</td><td>Origem desconhecida</td><td>Sem observações adicionais.</td><td>Kaggle</td><td>https://www.kaggle.com/datasets/gabrielmeireles/brazilian-football-championship</td><td>BRA.csv</td><td>s3://mvp-brasileirao-2024/Gold/todas_partidas/</td></tr><tr><td>11</td><td>Match_ID</td><td>string</td><td>Descrição da coluna Match_ID</td><td>Match_0 | Match_99</td><td>760</td><td>0</td><td>380</td><td>380</td><td>Nenhuma alteração aplicada.</td><td>Origem desconhecida</td><td>Sem observações adicionais.</td><td>Kaggle</td><td>https://www.kaggle.com/datasets/gabrielmeireles/brazilian-football-championship</td><td>BRA.csv</td><td>s3://mvp-brasileirao-2024/Gold/todas_partidas/</td></tr><tr><td>2</td><td>Liga</td><td>string</td><td>Descrição da coluna Liga</td><td>Serie A | Serie A</td><td>760</td><td>0</td><td>1</td><td>759</td><td>Nenhuma alteração aplicada.</td><td>Origem desconhecida</td><td>Sem observações adicionais.</td><td>Kaggle</td><td>https://www.kaggle.com/datasets/gabrielmeireles/brazilian-football-championship</td><td>BRA.csv</td><td>s3://mvp-brasileirao-2024/Gold/todas_partidas/</td></tr><tr><td>3</td><td>Temporada</td><td>int</td><td>Descrição da coluna Temporada</td><td>2024 | 2024</td><td>760</td><td>0</td><td>1</td><td>759</td><td>Nenhuma alteração aplicada.</td><td>Origem desconhecida</td><td>Sem observações adicionais.</td><td>Kaggle</td><td>https://www.kaggle.com/datasets/gabrielmeireles/brazilian-football-championship</td><td>BRA.csv</td><td>s3://mvp-brasileirao-2024/Gold/todas_partidas/</td></tr><tr><td>5</td><td>Trimestre</td><td>int</td><td>Descrição da coluna Trimestre</td><td>2 | 4</td><td>760</td><td>0</td><td>3</td><td>757</td><td>Nenhuma alteração aplicada.</td><td>Origem desconhecida</td><td>Sem observações adicionais.</td><td>Kaggle</td><td>https://www.kaggle.com/datasets/gabrielmeireles/brazilian-football-championship</td><td>BRA.csv</td><td>s3://mvp-brasileirao-2024/Gold/todas_partidas/</td></tr><tr><td>6</td><td>Turno</td><td>string</td><td>Descrição da coluna Turno</td><td>Primeiro Turno | Segundo Turno</td><td>760</td><td>0</td><td>2</td><td>758</td><td>Nenhuma alteração aplicada.</td><td>Origem desconhecida</td><td>Sem observações adicionais.</td><td>Kaggle</td><td>https://www.kaggle.com/datasets/gabrielmeireles/brazilian-football-championship</td><td>BRA.csv</td><td>s3://mvp-brasileirao-2024/Gold/todas_partidas/</td></tr><tr><td>4</td><td>Horario</td><td>timestamp</td><td>Descrição da coluna Horario</td><td>2025-04-05 00:00:00 | 2025-04-05 23:30:00</td><td>760</td><td>0</td><td>17</td><td>743</td><td>Nenhuma alteração aplicada.</td><td>Origem desconhecida</td><td>Sem observações adicionais.</td><td>Kaggle</td><td>https://www.kaggle.com/datasets/gabrielmeireles/brazilian-football-championship</td><td>BRA.csv</td><td>s3://mvp-brasileirao-2024/Gold/todas_partidas/</td></tr><tr><td>1</td><td>Pais</td><td>string</td><td>Descrição da coluna Pais</td><td>Brazil | Brazil</td><td>760</td><td>0</td><td>1</td><td>759</td><td>Nenhuma alteração aplicada.</td><td>Origem desconhecida</td><td>Sem observações adicionais.</td><td>Kaggle</td><td>https://www.kaggle.com/datasets/gabrielmeireles/brazilian-football-championship</td><td>BRA.csv</td><td>s3://mvp-brasileirao-2024/Gold/todas_partidas/</td></tr><tr><td>9</td><td>Goals</td><td>int</td><td>Descrição da coluna Goals</td><td>0 | 6</td><td>760</td><td>0</td><td>7</td><td>753</td><td>Nenhuma alteração aplicada.</td><td>Origem desconhecida</td><td>Sem observações adicionais.</td><td>Kaggle</td><td>https://www.kaggle.com/datasets/gabrielmeireles/brazilian-football-championship</td><td>BRA.csv</td><td>s3://mvp-brasileirao-2024/Gold/todas_partidas/</td></tr></tbody></table></div>"
      ]
     },
     "metadata": {
      "application/vnd.databricks.v1+output": {
       "addedWidgets": {},
       "aggData": [],
       "aggError": "",
       "aggOverflow": false,
       "aggSchema": [],
       "aggSeriesLimitReached": false,
       "aggType": "",
       "arguments": {},
       "columnCustomDisplayInfos": {},
       "data": [
        [
         7,
         "Clube",
         "string",
         "Descrição da coluna Clube",
         "Athletico-PR | Vasco da Gama",
         760,
         0,
         20,
         740,
         "Nenhuma alteração aplicada.",
         "Origem desconhecida",
         "Sem observações adicionais.",
         "Kaggle",
         "https://www.kaggle.com/datasets/gabrielmeireles/brazilian-football-championship",
         "BRA.csv",
         "s3://mvp-brasileirao-2024/Gold/todas_partidas/"
        ],
        [
         8,
         "MandanteVisitante",
         "string",
         "Descrição da coluna MandanteVisitante",
         "Mandante | Visitante",
         760,
         0,
         2,
         758,
         "Nenhuma alteração aplicada.",
         "Origem desconhecida",
         "Sem observações adicionais.",
         "Kaggle",
         "https://www.kaggle.com/datasets/gabrielmeireles/brazilian-football-championship",
         "BRA.csv",
         "s3://mvp-brasileirao-2024/Gold/todas_partidas/"
        ],
        [
         12,
         "Data",
         "date",
         "Descrição da coluna Data",
         "2024-04-13 | 2024-12-08",
         760,
         0,
         110,
         650,
         "Nenhuma alteração aplicada.",
         "Origem desconhecida",
         "Sem observações adicionais.",
         "Kaggle",
         "https://www.kaggle.com/datasets/gabrielmeireles/brazilian-football-championship",
         "BRA.csv",
         "s3://mvp-brasileirao-2024/Gold/todas_partidas/"
        ],
        [
         13,
         "Status_Ajustes",
         "string",
         "Descrição da coluna Status_Ajustes",
         "Sem modificação | Sem modificação",
         760,
         0,
         1,
         759,
         "Nenhuma alteração aplicada.",
         "Origem desconhecida",
         "Sem observações adicionais.",
         "Kaggle",
         "https://www.kaggle.com/datasets/gabrielmeireles/brazilian-football-championship",
         "BRA.csv",
         "s3://mvp-brasileirao-2024/Gold/todas_partidas/"
        ],
        [
         10,
         "Resultado",
         "string",
         "Descrição da coluna Resultado",
         "Derrota | Vitoria",
         760,
         0,
         3,
         757,
         "Nenhuma alteração aplicada.",
         "Origem desconhecida",
         "Sem observações adicionais.",
         "Kaggle",
         "https://www.kaggle.com/datasets/gabrielmeireles/brazilian-football-championship",
         "BRA.csv",
         "s3://mvp-brasileirao-2024/Gold/todas_partidas/"
        ],
        [
         11,
         "Match_ID",
         "string",
         "Descrição da coluna Match_ID",
         "Match_0 | Match_99",
         760,
         0,
         380,
         380,
         "Nenhuma alteração aplicada.",
         "Origem desconhecida",
         "Sem observações adicionais.",
         "Kaggle",
         "https://www.kaggle.com/datasets/gabrielmeireles/brazilian-football-championship",
         "BRA.csv",
         "s3://mvp-brasileirao-2024/Gold/todas_partidas/"
        ],
        [
         2,
         "Liga",
         "string",
         "Descrição da coluna Liga",
         "Serie A | Serie A",
         760,
         0,
         1,
         759,
         "Nenhuma alteração aplicada.",
         "Origem desconhecida",
         "Sem observações adicionais.",
         "Kaggle",
         "https://www.kaggle.com/datasets/gabrielmeireles/brazilian-football-championship",
         "BRA.csv",
         "s3://mvp-brasileirao-2024/Gold/todas_partidas/"
        ],
        [
         3,
         "Temporada",
         "int",
         "Descrição da coluna Temporada",
         "2024 | 2024",
         760,
         0,
         1,
         759,
         "Nenhuma alteração aplicada.",
         "Origem desconhecida",
         "Sem observações adicionais.",
         "Kaggle",
         "https://www.kaggle.com/datasets/gabrielmeireles/brazilian-football-championship",
         "BRA.csv",
         "s3://mvp-brasileirao-2024/Gold/todas_partidas/"
        ],
        [
         5,
         "Trimestre",
         "int",
         "Descrição da coluna Trimestre",
         "2 | 4",
         760,
         0,
         3,
         757,
         "Nenhuma alteração aplicada.",
         "Origem desconhecida",
         "Sem observações adicionais.",
         "Kaggle",
         "https://www.kaggle.com/datasets/gabrielmeireles/brazilian-football-championship",
         "BRA.csv",
         "s3://mvp-brasileirao-2024/Gold/todas_partidas/"
        ],
        [
         6,
         "Turno",
         "string",
         "Descrição da coluna Turno",
         "Primeiro Turno | Segundo Turno",
         760,
         0,
         2,
         758,
         "Nenhuma alteração aplicada.",
         "Origem desconhecida",
         "Sem observações adicionais.",
         "Kaggle",
         "https://www.kaggle.com/datasets/gabrielmeireles/brazilian-football-championship",
         "BRA.csv",
         "s3://mvp-brasileirao-2024/Gold/todas_partidas/"
        ],
        [
         4,
         "Horario",
         "timestamp",
         "Descrição da coluna Horario",
         "2025-04-05 00:00:00 | 2025-04-05 23:30:00",
         760,
         0,
         17,
         743,
         "Nenhuma alteração aplicada.",
         "Origem desconhecida",
         "Sem observações adicionais.",
         "Kaggle",
         "https://www.kaggle.com/datasets/gabrielmeireles/brazilian-football-championship",
         "BRA.csv",
         "s3://mvp-brasileirao-2024/Gold/todas_partidas/"
        ],
        [
         1,
         "Pais",
         "string",
         "Descrição da coluna Pais",
         "Brazil | Brazil",
         760,
         0,
         1,
         759,
         "Nenhuma alteração aplicada.",
         "Origem desconhecida",
         "Sem observações adicionais.",
         "Kaggle",
         "https://www.kaggle.com/datasets/gabrielmeireles/brazilian-football-championship",
         "BRA.csv",
         "s3://mvp-brasileirao-2024/Gold/todas_partidas/"
        ],
        [
         9,
         "Goals",
         "int",
         "Descrição da coluna Goals",
         "0 | 6",
         760,
         0,
         7,
         753,
         "Nenhuma alteração aplicada.",
         "Origem desconhecida",
         "Sem observações adicionais.",
         "Kaggle",
         "https://www.kaggle.com/datasets/gabrielmeireles/brazilian-football-championship",
         "BRA.csv",
         "s3://mvp-brasileirao-2024/Gold/todas_partidas/"
        ]
       ],
       "datasetInfos": [],
       "dbfsResultPath": null,
       "isJsonSchema": true,
       "metadata": {},
       "overflow": false,
       "plotOptions": {
        "customPlotOptions": {},
        "displayType": "table",
        "pivotAggregation": null,
        "pivotColumns": null,
        "xColumns": null,
        "yColumns": null
       },
       "removedWidgets": [],
       "schema": [
        {
         "metadata": "{}",
         "name": "ID_Coluna",
         "type": "\"long\""
        },
        {
         "metadata": "{}",
         "name": "Coluna",
         "type": "\"string\""
        },
        {
         "metadata": "{}",
         "name": "Tipo_de_Dado",
         "type": "\"string\""
        },
        {
         "metadata": "{}",
         "name": "Definição",
         "type": "\"string\""
        },
        {
         "metadata": "{}",
         "name": "Valores_Min_Max",
         "type": "\"string\""
        },
        {
         "metadata": "{}",
         "name": "Qtd_Valores_Registrados",
         "type": "\"long\""
        },
        {
         "metadata": "{}",
         "name": "Qtd_Valores_Nulos",
         "type": "\"long\""
        },
        {
         "metadata": "{}",
         "name": "Qtd_Valores_Distintos",
         "type": "\"long\""
        },
        {
         "metadata": "{}",
         "name": "Qtd_Valores_Duplicados",
         "type": "\"long\""
        },
        {
         "metadata": "{}",
         "name": "Regras_de_Transformação",
         "type": "\"string\""
        },
        {
         "metadata": "{}",
         "name": "Linhagem_Dados",
         "type": "\"string\""
        },
        {
         "metadata": "{}",
         "name": "Observacoes",
         "type": "\"string\""
        },
        {
         "metadata": "{}",
         "name": "Fonte",
         "type": "\"string\""
        },
        {
         "metadata": "{}",
         "name": "Link_Fonte",
         "type": "\"string\""
        },
        {
         "metadata": "{}",
         "name": "Arquivo_Original",
         "type": "\"string\""
        },
        {
         "metadata": "{}",
         "name": "Arquivo_S3",
         "type": "\"string\""
        }
       ],
       "type": "table"
      }
     },
     "output_type": "display_data"
    }
   ],
   "source": [
    "%sql\n",
    "select * from catalogo_de_dados.catalog_todas_partidas"
   ]
  }
 ],
 "metadata": {
  "application/vnd.databricks.v1+notebook": {
   "computePreferences": null,
   "dashboards": [],
   "environmentMetadata": {
    "base_environment": "",
    "environment_version": "1"
   },
   "inputWidgetPreferences": null,
   "language": "python",
   "notebookMetadata": {
    "mostRecentlyExecutedCommandWithImplicitDF": {
     "commandId": 663300739013849,
     "dataframes": [
      "_sqldf"
     ]
    },
    "pythonIndentUnit": 4
   },
   "notebookName": "05-Catalogo de Dados no Metastore do Databricks Gold",
   "widgets": {}
  },
  "language_info": {
   "name": "python"
  }
 },
 "nbformat": 4,
 "nbformat_minor": 0
}

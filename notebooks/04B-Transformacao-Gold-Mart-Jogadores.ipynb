{
 "cells": [
  {
   "cell_type": "markdown",
   "metadata": {
    "application/vnd.databricks.v1+cell": {
     "cellMetadata": {
      "byteLimit": 2048000,
      "rowLimit": 10000
     },
     "inputWidgets": {},
     "nuid": "d7e03b3c-9555-4f50-94b3-404b6141d8e6",
     "showTitle": false,
     "tableResultSettingsMap": {},
     "title": ""
    }
   },
   "source": [
    "# 📌 Preparação das Tabelas Temporárias (TempViews)\n",
    "\n",
    "Nessa etapa iniciaremos a preparação dos dados para a Camada Gold (Data Warehouse).\n",
    "\n",
    "- 🔶 Ler os arquivos no DBFS (para não ficar lendo toda hora do S3 e consequentemente aumentar o custo por leitura)\n",
    "- 🔶 Criar nossas Views Temporarias\n",
    "- 🔶 Criar nossas View Temporaria da Estatisticas Por Jogador\n"
   ]
  },
  {
   "cell_type": "markdown",
   "metadata": {
    "application/vnd.databricks.v1+cell": {
     "cellMetadata": {
      "byteLimit": 2048000,
      "rowLimit": 10000
     },
     "inputWidgets": {},
     "nuid": "489298d4-8586-4542-972c-2d32bfa56fed",
     "showTitle": false,
     "tableResultSettingsMap": {},
     "title": ""
    }
   },
   "source": [
    "## 🔶 Leitura dos Arquivos no DBFS"
   ]
  },
  {
   "cell_type": "markdown",
   "metadata": {
    "application/vnd.databricks.v1+cell": {
     "cellMetadata": {
      "byteLimit": 2048000,
      "rowLimit": 10000
     },
     "inputWidgets": {},
     "nuid": "57482656-926a-475a-8d5b-f2cba23d24be",
     "showTitle": false,
     "tableResultSettingsMap": {},
     "title": ""
    }
   },
   "source": [
    "### 🔹 Dataframes das tabelas"
   ]
  },
  {
   "cell_type": "code",
   "execution_count": 0,
   "metadata": {
    "application/vnd.databricks.v1+cell": {
     "cellMetadata": {
      "byteLimit": 2048000,
      "rowLimit": 10000
     },
     "inputWidgets": {},
     "nuid": "a3dc09ef-7765-4c58-a992-294cb9108ffe",
     "showTitle": false,
     "tableResultSettingsMap": {},
     "title": ""
    }
   },
   "outputs": [
    {
     "output_type": "stream",
     "name": "stdout",
     "output_type": "stream",
     "text": [
      "✅ Dataframes criado com sucesso a partir do DBFS\n"
     ]
    }
   ],
   "source": [
    "# Ler os dados do DBFS em vez do S3\n",
    "df_todas_partidas = spark.read.parquet(\"dbfs:/mnt/silver_temp/todas_partidas\")\n",
    "df_classificacao = spark.read.parquet(\"dbfs:/mnt/silver_temp/classificacao\")\n",
    "df_estatisticas = spark.read.parquet(\"dbfs:/mnt/silver_temp/estatisticas\")\n",
    "\n",
    "print('✅ Dataframes criado com sucesso a partir do DBFS')"
   ]
  },
  {
   "cell_type": "markdown",
   "metadata": {
    "application/vnd.databricks.v1+cell": {
     "cellMetadata": {
      "byteLimit": 2048000,
      "rowLimit": 10000
     },
     "inputWidgets": {},
     "nuid": "4d81033a-4ae0-4d98-948d-5107880bae12",
     "showTitle": false,
     "tableResultSettingsMap": {},
     "title": ""
    }
   },
   "source": [
    "## 🔶 Criação das Views Temporárias"
   ]
  },
  {
   "cell_type": "markdown",
   "metadata": {
    "application/vnd.databricks.v1+cell": {
     "cellMetadata": {
      "byteLimit": 2048000,
      "rowLimit": 10000
     },
     "inputWidgets": {},
     "nuid": "35d5d30e-b63a-49d0-a5ea-aba9331fa8c4",
     "showTitle": false,
     "tableResultSettingsMap": {},
     "title": ""
    }
   },
   "source": [
    "### 🔹 TempViews Principais"
   ]
  },
  {
   "cell_type": "code",
   "execution_count": 0,
   "metadata": {
    "application/vnd.databricks.v1+cell": {
     "cellMetadata": {
      "byteLimit": 2048000,
      "rowLimit": 10000
     },
     "inputWidgets": {},
     "nuid": "66d6d364-ebf4-476a-b1e1-c9914e8b9543",
     "showTitle": false,
     "tableResultSettingsMap": {},
     "title": ""
    }
   },
   "outputs": [],
   "source": [
    "# Recriar as views temporárias\n",
    "df_classificacao.createOrReplaceTempView(\"classificacao\")\n",
    "df_estatisticas.createOrReplaceTempView(\"estatisticas\")\n",
    "df_todas_partidas.createOrReplaceTempView(\"todas_partidas\")\n"
   ]
  },
  {
   "cell_type": "markdown",
   "metadata": {
    "application/vnd.databricks.v1+cell": {
     "cellMetadata": {
      "byteLimit": 2048000,
      "rowLimit": 10000
     },
     "inputWidgets": {},
     "nuid": "74681352-717f-4ee7-b1b4-9b305f276985",
     "showTitle": false,
     "tableResultSettingsMap": {},
     "title": ""
    }
   },
   "source": [
    "### 💠 TempView 'Estatisticas_PorJogador'\n",
    "\n",
    "- Refere-se ao DataFrame 'estatisticas'\n",
    "- Agrupamos (`GROUP BY`) pelo Jogador, Camisa e Clube, pois é interessante somente os números gerais de cada Clube ao fim da competição "
   ]
  },
  {
   "cell_type": "code",
   "execution_count": 0,
   "metadata": {
    "application/vnd.databricks.v1+cell": {
     "cellMetadata": {
      "byteLimit": 2048000,
      "implicitDf": true,
      "rowLimit": 10000
     },
     "inputWidgets": {},
     "nuid": "5254120a-c9dd-4e71-a733-89db407b6411",
     "showTitle": false,
     "tableResultSettingsMap": {},
     "title": ""
    }
   },
   "outputs": [
    {
     "output_type": "display_data",
     "data": {
      "text/html": [
       "<style scoped>\n",
       "  .table-result-container {\n",
       "    max-height: 300px;\n",
       "    overflow: auto;\n",
       "  }\n",
       "  table, th, td {\n",
       "    border: 1px solid black;\n",
       "    border-collapse: collapse;\n",
       "  }\n",
       "  th, td {\n",
       "    padding: 5px;\n",
       "  }\n",
       "  th {\n",
       "    text-align: left;\n",
       "  }\n",
       "</style><div class='table-result-container'><table class='table-result'><thead style='background-color: white'><tr></tr></thead><tbody></tbody></table></div>"
      ]
     },
     "metadata": {
      "application/vnd.databricks.v1+output": {
       "addedWidgets": {},
       "aggData": [],
       "aggError": "",
       "aggOverflow": false,
       "aggSchema": [],
       "aggSeriesLimitReached": false,
       "aggType": "",
       "arguments": {},
       "columnCustomDisplayInfos": {},
       "data": [],
       "datasetInfos": [],
       "dbfsResultPath": null,
       "isJsonSchema": true,
       "metadata": {},
       "overflow": false,
       "plotOptions": {
        "customPlotOptions": {},
        "displayType": "table",
        "pivotAggregation": null,
        "pivotColumns": null,
        "xColumns": null,
        "yColumns": null
       },
       "removedWidgets": [],
       "schema": [],
       "type": "table"
      }
     },
     "output_type": "display_data"
    }
   ],
   "source": [
    " %sql\n",
    "-- Query final para juntar todas as informações\n",
    "CREATE OR REPLACE TEMP VIEW Estatisticas_PorJogador AS\n",
    "SELECT\n",
    "    e.jogador,\n",
    "    e.clube, \n",
    "    e.numero_camisa,\n",
    "    ROUND(avg(e.Minutos_em_Campo), 0) AS minutos_em_campo,\n",
    "    ROUND(sum(e.Gols), 0) AS gols, \n",
    "    ROUND(sum(e.Assitencias), 0) AS ass, \n",
    "    ROUND(SUM(e.penaltis_batidos), 0) AS penaltis_batidos,  \n",
    "    ROUND(SUM(e.penaltis_tentados), 0) AS penaltis_tentados, \n",
    "    ROUND(sum(e.total_chutes), 0) AS total_chutes,\n",
    "    ROUND(sum(e.Chutes_a_Gol), 0) AS chutes_gol,\n",
    "    ROUND(sum(e.toques_na_bola), 0) AS toques_na_bola,\n",
    "    ROUND(sum(e.desarmes), 0) AS desarmes,\n",
    "    ROUND(sum(e.interceptacoes), 0) AS interceptacoes,\n",
    "    ROUND(sum(e.bloqueios), 0) AS bloqueios,\n",
    "    ROUND(SUM(e.Gols_Esperados), 2) AS gols_esperados,\n",
    "    ROUND(SUM(e.Assistencias_Esperadas), 2) AS ass_esperadas,\n",
    "    ROUND(sum(e.acoes_de_criacao), 0) AS acoes_de_criacao,\n",
    "    ROUND(sum(e.acoes_de_gol), 0) AS acoes_de_gol,\n",
    "    ROUND(sum(e.passes_completos), 0) AS passes_completos,\n",
    "    ROUND(sum(e.Passes_Tentados), 0) AS passes_tentados,\n",
    "    ROUND(sum(e.Passes_Progressivos), 0) AS passes_progressivos,\n",
    "    ROUND(sum(e.Conducoes_de_Bola), 0) AS conducoes_de_bola,\n",
    "    ROUND(sum(e.Conducoes_Progressivas), 0) AS conducoes_progressivas,\n",
    "    ROUND(sum(e.Dribles_Tentados), 0) AS dribles_tentados,\n",
    "    ROUND(sum(e.Dribles_Completos), 0) AS dribles_completos\n",
    "FROM estatisticas AS e\n",
    "GROUP BY e.jogador, e.clube, e.numero_camisa;"
   ]
  },
  {
   "cell_type": "markdown",
   "metadata": {
    "application/vnd.databricks.v1+cell": {
     "cellMetadata": {
      "byteLimit": 2048000,
      "rowLimit": 10000
     },
     "inputWidgets": {},
     "nuid": "6d41c947-6e25-46ac-9582-afcb93a2c4f5",
     "showTitle": false,
     "tableResultSettingsMap": {},
     "title": ""
    }
   },
   "source": [
    "### 🔹 TempView 'Base' (CTE)\n",
    "- 📍 Essa view será a nossa Classificação só que um pouco resumida\n",
    "- 📍 Também adicionamos uma coluna `tier_clubes` para separar os clubes por Tier"
   ]
  },
  {
   "cell_type": "code",
   "execution_count": 0,
   "metadata": {
    "application/vnd.databricks.v1+cell": {
     "cellMetadata": {
      "byteLimit": 2048000,
      "implicitDf": true,
      "rowLimit": 10000
     },
     "inputWidgets": {},
     "nuid": "478958db-a4f1-46e2-a325-47c63a5b769c",
     "showTitle": false,
     "tableResultSettingsMap": {},
     "title": ""
    }
   },
   "outputs": [
    {
     "output_type": "display_data",
     "data": {
      "text/html": [
       "<style scoped>\n",
       "  .table-result-container {\n",
       "    max-height: 300px;\n",
       "    overflow: auto;\n",
       "  }\n",
       "  table, th, td {\n",
       "    border: 1px solid black;\n",
       "    border-collapse: collapse;\n",
       "  }\n",
       "  th, td {\n",
       "    padding: 5px;\n",
       "  }\n",
       "  th {\n",
       "    text-align: left;\n",
       "  }\n",
       "</style><div class='table-result-container'><table class='table-result'><thead style='background-color: white'><tr></tr></thead><tbody></tbody></table></div>"
      ]
     },
     "metadata": {
      "application/vnd.databricks.v1+output": {
       "addedWidgets": {},
       "aggData": [],
       "aggError": "",
       "aggOverflow": false,
       "aggSchema": [],
       "aggSeriesLimitReached": false,
       "aggType": "",
       "arguments": {},
       "columnCustomDisplayInfos": {},
       "data": [],
       "datasetInfos": [],
       "dbfsResultPath": null,
       "isJsonSchema": true,
       "metadata": {},
       "overflow": false,
       "plotOptions": {
        "customPlotOptions": {},
        "displayType": "table",
        "pivotAggregation": null,
        "pivotColumns": null,
        "xColumns": null,
        "yColumns": null
       },
       "removedWidgets": [],
       "schema": [],
       "type": "table"
      }
     },
     "output_type": "display_data"
    }
   ],
   "source": [
    "%sql\n",
    "-- Criando a CTE (Common Table Expression) Base para calcular os TIERs dos clubes\n",
    "CREATE OR REPLACE TEMP VIEW Base AS\n",
    "SELECT \n",
    "    c.posicao,        -- Posição final do clube no campeonato\n",
    "    c.clube,          -- Nome do clube\n",
    "    -- Definição do TIER com base na posição na tabela\n",
    "    CASE\n",
    "        WHEN c.posicao BETWEEN 1 AND 5 THEN 'TIER S'   -- Top 3 clubes\n",
    "        WHEN c.posicao BETWEEN 6 AND 10 THEN 'TIER A'   -- Do 4º ao 8º colocado\n",
    "        WHEN c.posicao BETWEEN 11 AND 15 THEN 'TIER B'  -- Do 9º ao 16º colocado\n",
    "        ELSE 'TIER C'                                  -- Últimos colocados (zona de rebaixamento)\n",
    "    END AS tier_clubes,\n",
    "    c.gols_marcados,  -- Total de gols marcados na temporada\n",
    "    c.gols_sofridos   -- Total de gols sofridos na temporada\n",
    "FROM classificacao AS c;"
   ]
  },
  {
   "cell_type": "markdown",
   "metadata": {
    "application/vnd.databricks.v1+cell": {
     "cellMetadata": {
      "byteLimit": 2048000,
      "rowLimit": 10000
     },
     "inputWidgets": {},
     "nuid": "3f419eb2-b1cd-4cad-a841-08cd1fa89c39",
     "showTitle": false,
     "tableResultSettingsMap": {},
     "title": ""
    }
   },
   "source": [
    "# 📌 Normalização das Métricas do Projeto"
   ]
  },
  {
   "cell_type": "markdown",
   "metadata": {
    "application/vnd.databricks.v1+cell": {
     "cellMetadata": {
      "byteLimit": 2048000,
      "rowLimit": 10000
     },
     "inputWidgets": {},
     "nuid": "69778fd2-7310-488b-b321-36aa6b64535e",
     "showTitle": false,
     "tableResultSettingsMap": {},
     "title": ""
    }
   },
   "source": [
    "## 🔶 Normalização das Métricas Defensivas\n",
    "Transformaremos diferentes métricas defensivas em uma escala comum de **0 a 10**, permitindo comparações mais justas entre os clubes.\n",
    "\n",
    "---"
   ]
  },
  {
   "cell_type": "markdown",
   "metadata": {
    "application/vnd.databricks.v1+cell": {
     "cellMetadata": {
      "byteLimit": 2048000,
      "rowLimit": 10000
     },
     "inputWidgets": {},
     "nuid": "6748a6a2-fc05-4e24-955c-2c542e4e6443",
     "showTitle": false,
     "tableResultSettingsMap": {},
     "title": ""
    }
   },
   "source": [
    "### 🔢 Como funcionará a normalização?\n",
    "\n",
    "#### ⚖️ Normalização Tradicional\n",
    "\n",
    "A Normalização Tradicional é feita utilizando a fórmula:\n",
    "\n",
    "![Normalização](https://github.com/Cavalheiro93/mvp-brasileirao-data-engineering/raw/main/images/notebook-images/Normalizacao.png)\n",
    "\n",
    "Essa fórmula ajusta os valores para ficarem dentro do intervalo **0 a 10**.\n",
    "\n",
    "\n",
    "#### **⚠️ Exceção para gols sofridos**\n",
    "\n",
    "Como **menos gols sofridos** é **melhor**, aplicamos a inversão:\n",
    "\n",
    "![Normalização](https://github.com/Cavalheiro93/mvp-brasileirao-data-engineering/raw/main/images/notebook-images/Normalizacao-invertida.png)\n",
    "\n",
    "Isso garante que um time que sofreu menos gols tenha um valor **maior** na escala.\n",
    "\n",
    "---"
   ]
  },
  {
   "cell_type": "markdown",
   "metadata": {
    "application/vnd.databricks.v1+cell": {
     "cellMetadata": {
      "byteLimit": 2048000,
      "rowLimit": 10000
     },
     "inputWidgets": {},
     "nuid": "a5f4f011-a8d9-4aea-8339-cfae4f496ab5",
     "showTitle": false,
     "tableResultSettingsMap": {},
     "title": ""
    }
   },
   "source": [
    "### 🏆 Explicação das Métricas Normalizadas\n",
    "| Métrica            | Interpretação | Peso | \n",
    "|--------------------|---------------|----- | \n",
    "| `norm_gols_sofridos` | Times que sofreram menos gols terão valores maiores. | 60% \n",
    "| `norm_desarmes` | Times que fizeram mais desarmes terão valores maiores. | 25% \n",
    "| `norm_interceptacoes` | Times que interceptaram mais passes terão valores maiores. | 10% \n",
    "| `norm_bloqueios` | Times que bloquearam mais chutes terão valores maiores. | 5% \n",
    "\n",
    "---"
   ]
  },
  {
   "cell_type": "code",
   "execution_count": 0,
   "metadata": {
    "application/vnd.databricks.v1+cell": {
     "cellMetadata": {
      "byteLimit": 2048000,
      "implicitDf": true,
      "rowLimit": 10000
     },
     "inputWidgets": {},
     "nuid": "1dfeda22-a469-4ba5-9f05-d05e4b2d94c6",
     "showTitle": true,
     "tableResultSettingsMap": {},
     "title": "🔹 Cálculo da Normalização Defensiva"
    }
   },
   "outputs": [
    {
     "output_type": "display_data",
     "data": {
      "text/html": [
       "<style scoped>\n",
       "  .table-result-container {\n",
       "    max-height: 300px;\n",
       "    overflow: auto;\n",
       "  }\n",
       "  table, th, td {\n",
       "    border: 1px solid black;\n",
       "    border-collapse: collapse;\n",
       "  }\n",
       "  th, td {\n",
       "    padding: 5px;\n",
       "  }\n",
       "  th {\n",
       "    text-align: left;\n",
       "  }\n",
       "</style><div class='table-result-container'><table class='table-result'><thead style='background-color: white'><tr></tr></thead><tbody></tbody></table></div>"
      ]
     },
     "metadata": {
      "application/vnd.databricks.v1+output": {
       "addedWidgets": {},
       "aggData": [],
       "aggError": "",
       "aggOverflow": false,
       "aggSchema": [],
       "aggSeriesLimitReached": false,
       "aggType": "",
       "arguments": {},
       "columnCustomDisplayInfos": {},
       "data": [],
       "datasetInfos": [],
       "dbfsResultPath": null,
       "isJsonSchema": true,
       "metadata": {},
       "overflow": false,
       "plotOptions": {
        "customPlotOptions": {},
        "displayType": "table",
        "pivotAggregation": null,
        "pivotColumns": null,
        "xColumns": null,
        "yColumns": null
       },
       "removedWidgets": [],
       "schema": [],
       "type": "table"
      }
     },
     "output_type": "display_data"
    }
   ],
   "source": [
    "%sql\n",
    "CREATE OR REPLACE TEMP VIEW Normalizacao_Defensiva_Jogadores AS\n",
    "SELECT \n",
    "    e.jogador,\n",
    "    e.clube,\n",
    "    e.numero_camisa,\n",
    "    e.minutos_em_campo,\n",
    "\n",
    "    -- Normalização da métrica: desarmes\n",
    "    -- Fórmula: (valor - mínimo) / (máximo - mínimo) * 10\n",
    "    -- Objetivo: escalar a quantidade de desarmes para uma faixa de 0 a 10\n",
    "    ROUND(((e.desarmes - MIN(e.desarmes) OVER()) / \n",
    "         (MAX(e.desarmes) OVER() - MIN(e.desarmes) OVER()) * 10), 2) AS norm_desarmes,\n",
    "\n",
    "    -- Normalização da métrica: interceptações\n",
    "    -- Fórmula: (valor - mínimo) / (máximo - mínimo) * 10\n",
    "    -- Objetivo: escalar a quantidade de interceptações para uma faixa de 0 a 10\n",
    "    ROUND(((e.interceptacoes - MIN(e.interceptacoes) OVER()) / \n",
    "         (MAX(e.interceptacoes) OVER() - MIN(e.interceptacoes) OVER()) * 10), 2) AS norm_interceptacoes,\n",
    "\n",
    "    -- Normalização da métrica: bloqueios\n",
    "    -- Fórmula: (valor - mínimo) / (máximo - mínimo) * 10\n",
    "    -- Objetivo: escalar a quantidade de bloqueios para uma faixa de 0 a 10\n",
    "    ROUND(((e.bloqueios - MIN(e.bloqueios) OVER()) / \n",
    "         (MAX(e.bloqueios) OVER() - MIN(e.bloqueios) OVER()) * 10), 2) AS norm_bloqueios,\n",
    "\n",
    "    -- Normalização invertida da métrica: gols sofridos pelo clube do jogador\n",
    "    -- Fórmula: 10 - ((valor - mínimo) / (máximo - mínimo) * 10)\n",
    "    -- Objetivo: times que sofrem menos gols contribuem positivamente pro score defensivo dos seus jogadores\n",
    "    ROUND(10 - ((b.gols_sofridos - MIN(b.gols_sofridos) OVER()) / \n",
    "         (MAX(b.gols_sofridos) OVER() - MIN(b.gols_sofridos) OVER()) * 10), 2) AS norm_gols_sofridos_clube\n",
    "\n",
    "FROM Estatisticas_PorJogador e\n",
    "LEFT JOIN Base b ON e.clube = b.clube;\n"
   ]
  },
  {
   "cell_type": "code",
   "execution_count": 0,
   "metadata": {
    "application/vnd.databricks.v1+cell": {
     "cellMetadata": {
      "byteLimit": 2048000,
      "implicitDf": true,
      "rowLimit": 10000
     },
     "inputWidgets": {},
     "nuid": "67c87f6f-511d-432e-8787-0fcf62c2914b",
     "showTitle": false,
     "tableResultSettingsMap": {},
     "title": ""
    }
   },
   "outputs": [
    {
     "output_type": "display_data",
     "data": {
      "text/html": [
       "<style scoped>\n",
       "  .table-result-container {\n",
       "    max-height: 300px;\n",
       "    overflow: auto;\n",
       "  }\n",
       "  table, th, td {\n",
       "    border: 1px solid black;\n",
       "    border-collapse: collapse;\n",
       "  }\n",
       "  th, td {\n",
       "    padding: 5px;\n",
       "  }\n",
       "  th {\n",
       "    text-align: left;\n",
       "  }\n",
       "</style><div class='table-result-container'><table class='table-result'><thead style='background-color: white'><tr></tr></thead><tbody></tbody></table></div>"
      ]
     },
     "metadata": {
      "application/vnd.databricks.v1+output": {
       "addedWidgets": {},
       "aggData": [],
       "aggError": "",
       "aggOverflow": false,
       "aggSchema": [],
       "aggSeriesLimitReached": false,
       "aggType": "",
       "arguments": {},
       "columnCustomDisplayInfos": {},
       "data": [],
       "datasetInfos": [],
       "dbfsResultPath": null,
       "isJsonSchema": true,
       "metadata": {},
       "overflow": false,
       "plotOptions": {
        "customPlotOptions": {},
        "displayType": "table",
        "pivotAggregation": null,
        "pivotColumns": null,
        "xColumns": null,
        "yColumns": null
       },
       "removedWidgets": [],
       "schema": [],
       "type": "table"
      }
     },
     "output_type": "display_data"
    }
   ],
   "source": [
    "%sql\n",
    "-- Criando a VIEW com o cálculo do Score Defensivo por jogador\n",
    "CREATE OR REPLACE TEMP VIEW Score_Defensivo_Jogadores AS\n",
    "SELECT \n",
    "    n.jogador,\n",
    "    n.clube,\n",
    "    n.numero_camisa,\n",
    "    n.minutos_em_campo,\n",
    "    n.norm_gols_sofridos_clube,\n",
    "    n.norm_desarmes,\n",
    "    n.norm_interceptacoes,\n",
    "    n.norm_bloqueios,\n",
    "\n",
    "    -- Cálculo do SCORE DEFENSIVO por jogador (média ponderada das métricas normalizadas)\n",
    "    ROUND((\n",
    "        (n.norm_gols_sofridos_clube * 0.6) +        -- Peso 60% para desempenho defensivo do clube\n",
    "        (n.norm_desarmes * 0.25) +                  -- Peso 25% para desarmes\n",
    "        (n.norm_interceptacoes * 0.10) +            -- Peso 10% para interceptações\n",
    "        (n.norm_bloqueios * 0.05)                   -- Peso 5% para bloqueios\n",
    "    ), 2) AS score_defensivo\n",
    "\n",
    "FROM Normalizacao_Defensiva_Jogadores n;\n"
   ]
  },
  {
   "cell_type": "markdown",
   "metadata": {
    "application/vnd.databricks.v1+cell": {
     "cellMetadata": {
      "byteLimit": 2048000,
      "rowLimit": 10000
     },
     "inputWidgets": {},
     "nuid": "fb0db434-f8ab-4bdc-837c-185cb10562ab",
     "showTitle": false,
     "tableResultSettingsMap": {},
     "title": ""
    }
   },
   "source": [
    "## 🔶 Normalização das Métricas Ofensivas\n",
    "\n",
    "Transformaremos diferentes métricas ofensivas em uma escala comum de **0 a 10**, permitindo comparações mais justas entre os clubes.\n",
    "\n",
    "---\n",
    "\n"
   ]
  },
  {
   "cell_type": "markdown",
   "metadata": {
    "application/vnd.databricks.v1+cell": {
     "cellMetadata": {
      "byteLimit": 2048000,
      "rowLimit": 10000
     },
     "inputWidgets": {},
     "nuid": "a02123e9-ea09-4ef0-ab5d-8113d8f8f007",
     "showTitle": false,
     "tableResultSettingsMap": {},
     "title": ""
    }
   },
   "source": [
    "### 🔢 Como funcionará a normalização?\n",
    "\n",
    "#### ⚖️ Normalização Tradicional\n",
    "\n",
    "Usaremos a fórmula tradicional para normalizar os valores entre 0 e 10:\n",
    "\n",
    "![Normalização](https://github.com/Cavalheiro93/mvp-brasileirao-data-engineering/raw/main/images/notebook-images/Normalizacao.png)\n",
    "\n",
    "Nesse caso, **quanto maior o valor original**, melhor o desempenho ofensivo. Portanto, **não será necessário inverter nenhuma métrica**.\n",
    "\n",
    "---\n"
   ]
  },
  {
   "cell_type": "markdown",
   "metadata": {
    "application/vnd.databricks.v1+cell": {
     "cellMetadata": {
      "byteLimit": 2048000,
      "rowLimit": 10000
     },
     "inputWidgets": {},
     "nuid": "bf20f313-42fb-435e-9275-b5763275398a",
     "showTitle": false,
     "tableResultSettingsMap": {},
     "title": ""
    }
   },
   "source": [
    "### 🏆 Métricas Selecionadas para Ofensivo\n",
    "\n",
    "| Métrica              | Interpretação                                     | Peso |\n",
    "|----------------------|---------------------------------------------------|------|\n",
    "| `gols_marcados`           | Quantidade de gols marcados                                      | 25%  |\n",
    "| `assistencias`            | Capacidade de criação de jogadas com resultado                   | 10%  |\n",
    "| `penaltis_batidos`        | Presença ofensiva na área adversária                             | 2,5% |\n",
    "| `total_chutes`            | Volume de tentativas ofensivas                                   | 2,5% |\n",
    "| `chutes_a_gol`            | Qualidade das finalizações                                       | 7,5% |\n",
    "| `xG` ou `gols_esperados`  | Qualidade esperada das finalizações                              | 15%  |\n",
    "| `xA` ou `Ass_esperados`   | Qualidade esperada das assistências                              | 2,5% |\n",
    "| `acoes_de_criacao`        | Jogadas que geram oportunidades                                  | 7,5% |\n",
    "| `acoes_de_gol`            | Jogadas que terminam em gols ou quase isso                       | 15%  |\n",
    "| `eficiência`              | Quantos gols foram convertidos em relação a gols esperados       | 15%  |\n",
    "\n",
    "---"
   ]
  },
  {
   "cell_type": "code",
   "execution_count": 0,
   "metadata": {
    "application/vnd.databricks.v1+cell": {
     "cellMetadata": {
      "byteLimit": 2048000,
      "implicitDf": true,
      "rowLimit": 10000
     },
     "inputWidgets": {},
     "nuid": "77a1d727-0d5c-4d42-bf95-471d06434007",
     "showTitle": true,
     "tableResultSettingsMap": {},
     "title": "🔹 Cálculo da Normalização Ofensiva"
    }
   },
   "outputs": [
    {
     "output_type": "display_data",
     "data": {
      "text/html": [
       "<style scoped>\n",
       "  .table-result-container {\n",
       "    max-height: 300px;\n",
       "    overflow: auto;\n",
       "  }\n",
       "  table, th, td {\n",
       "    border: 1px solid black;\n",
       "    border-collapse: collapse;\n",
       "  }\n",
       "  th, td {\n",
       "    padding: 5px;\n",
       "  }\n",
       "  th {\n",
       "    text-align: left;\n",
       "  }\n",
       "</style><div class='table-result-container'><table class='table-result'><thead style='background-color: white'><tr></tr></thead><tbody></tbody></table></div>"
      ]
     },
     "metadata": {
      "application/vnd.databricks.v1+output": {
       "addedWidgets": {},
       "aggData": [],
       "aggError": "",
       "aggOverflow": false,
       "aggSchema": [],
       "aggSeriesLimitReached": false,
       "aggType": "",
       "arguments": {},
       "columnCustomDisplayInfos": {},
       "data": [],
       "datasetInfos": [],
       "dbfsResultPath": null,
       "isJsonSchema": true,
       "metadata": {},
       "overflow": false,
       "plotOptions": {
        "customPlotOptions": {},
        "displayType": "table",
        "pivotAggregation": null,
        "pivotColumns": null,
        "xColumns": null,
        "yColumns": null
       },
       "removedWidgets": [],
       "schema": [],
       "type": "table"
      }
     },
     "output_type": "display_data"
    }
   ],
   "source": [
    "%sql\n",
    "CREATE OR REPLACE TEMP VIEW Normalizacao_Ofensiva_Jogadores AS\n",
    "SELECT \n",
    "    e.jogador,\n",
    "    e.clube,\n",
    "    e.numero_camisa,\n",
    "    e.minutos_em_campo,\n",
    "\n",
    "    -- Normalizações\n",
    "    ROUND(((e.gols - MIN(e.gols) OVER()) / \n",
    "         (MAX(e.gols) OVER() - MIN(e.gols) OVER()) * 10), 2) AS norm_gols_marcados,\n",
    "\n",
    "    ROUND(((e.ass - MIN(e.ass) OVER()) / \n",
    "         (MAX(e.ass) OVER() - MIN(e.ass) OVER()) * 10), 2) AS norm_ass,\n",
    "\n",
    "    ROUND(((e.penaltis_batidos - MIN(e.penaltis_batidos) OVER()) / \n",
    "         (MAX(e.penaltis_batidos) OVER() - MIN(e.penaltis_batidos) OVER()) * 10), 2) AS norm_penaltis_batidos,\n",
    "\n",
    "    ROUND(((e.total_chutes - MIN(e.total_chutes) OVER()) / \n",
    "         (MAX(e.total_chutes) OVER() - MIN(e.total_chutes) OVER()) * 10), 2) AS norm_total_chutes,\n",
    "\n",
    "    ROUND(((e.chutes_gol - MIN(e.chutes_gol) OVER()) / \n",
    "         (MAX(e.chutes_gol) OVER() - MIN(e.chutes_gol) OVER()) * 10), 2) AS norm_chutes_gol,\n",
    "\n",
    "    ROUND(((e.gols_esperados - MIN(e.gols_esperados) OVER()) / \n",
    "         (MAX(e.gols_esperados) OVER() - MIN(e.gols_esperados) OVER()) * 10), 2) AS norm_gols_esperados,\n",
    "\n",
    "    ROUND(((e.ass_esperadas - MIN(e.ass_esperadas) OVER()) / \n",
    "         (MAX(e.ass_esperadas) OVER() - MIN(e.ass_esperadas) OVER()) * 10), 2) AS norm_ass_esperadas,\n",
    "\n",
    "    ROUND(((e.acoes_de_criacao - MIN(e.acoes_de_criacao) OVER()) / \n",
    "         (MAX(e.acoes_de_criacao) OVER() - MIN(e.acoes_de_criacao) OVER()) * 10), 2) AS norm_acoes_de_criacao,\n",
    "\n",
    "    ROUND(((e.acoes_de_gol - MIN(e.acoes_de_gol) OVER()) / \n",
    "         (MAX(e.acoes_de_gol) OVER() - MIN(e.acoes_de_gol) OVER()) * 10), 2) AS norm_acoes_de_gol,\n",
    "\n",
    "    -- Eficiência de finalização: gols / xG\n",
    "    ROUND((e.gols / NULLIF(e.gols_esperados, 0)), 2) AS eficiencia,\n",
    "\n",
    "    -- Normalização da eficiência\n",
    "    ROUND((\n",
    "        ((e.gols / NULLIF(e.gols_esperados, 0)) - \n",
    "         MIN((e.gols / NULLIF(e.gols_esperados, 0))) OVER()) /\n",
    "         (MAX((e.gols / NULLIF(e.gols_esperados, 0))) OVER() - \n",
    "         MIN((e.gols / NULLIF(e.gols_esperados, 0))) OVER()) * 10\n",
    "    ), 2) AS norm_eficiencia\n",
    "\n",
    "FROM Estatisticas_PorJogador e;\n"
   ]
  },
  {
   "cell_type": "code",
   "execution_count": 0,
   "metadata": {
    "application/vnd.databricks.v1+cell": {
     "cellMetadata": {
      "byteLimit": 2048000,
      "implicitDf": true,
      "rowLimit": 10000
     },
     "inputWidgets": {},
     "nuid": "730075e1-c229-48fd-8558-8a09bfc460ab",
     "showTitle": false,
     "tableResultSettingsMap": {},
     "title": ""
    }
   },
   "outputs": [
    {
     "output_type": "display_data",
     "data": {
      "text/html": [
       "<style scoped>\n",
       "  .table-result-container {\n",
       "    max-height: 300px;\n",
       "    overflow: auto;\n",
       "  }\n",
       "  table, th, td {\n",
       "    border: 1px solid black;\n",
       "    border-collapse: collapse;\n",
       "  }\n",
       "  th, td {\n",
       "    padding: 5px;\n",
       "  }\n",
       "  th {\n",
       "    text-align: left;\n",
       "  }\n",
       "</style><div class='table-result-container'><table class='table-result'><thead style='background-color: white'><tr></tr></thead><tbody></tbody></table></div>"
      ]
     },
     "metadata": {
      "application/vnd.databricks.v1+output": {
       "addedWidgets": {},
       "aggData": [],
       "aggError": "",
       "aggOverflow": false,
       "aggSchema": [],
       "aggSeriesLimitReached": false,
       "aggType": "",
       "arguments": {},
       "columnCustomDisplayInfos": {},
       "data": [],
       "datasetInfos": [],
       "dbfsResultPath": null,
       "isJsonSchema": true,
       "metadata": {},
       "overflow": false,
       "plotOptions": {
        "customPlotOptions": {},
        "displayType": "table",
        "pivotAggregation": null,
        "pivotColumns": null,
        "xColumns": null,
        "yColumns": null
       },
       "removedWidgets": [],
       "schema": [],
       "type": "table"
      }
     },
     "output_type": "display_data"
    }
   ],
   "source": [
    "%sql\n",
    "CREATE OR REPLACE TEMP VIEW Score_Ofensivo_Jogadores AS\n",
    "SELECT \n",
    "    n.jogador,\n",
    "    n.clube,\n",
    "    n.numero_camisa,\n",
    "    n.minutos_em_campo,\n",
    "\n",
    "    -- Colunas de normalização\n",
    "    n.norm_gols_marcados,\n",
    "    n.norm_ass,\n",
    "    n.norm_penaltis_batidos,\n",
    "    n.norm_total_chutes,\n",
    "    n.norm_chutes_gol,\n",
    "    n.norm_gols_esperados,\n",
    "    n.norm_ass_esperadas,\n",
    "    n.norm_acoes_de_criacao,\n",
    "    n.norm_acoes_de_gol,\n",
    "    n.norm_eficiencia,\n",
    "\n",
    "    -- Score final ofensivo com pesos atualizados\n",
    "    ROUND((\n",
    "        (n.norm_gols_marcados * 0.25) +         \n",
    "        (n.norm_ass * 0.10) +                  \n",
    "        (n.norm_penaltis_batidos * 0.025) +     \n",
    "        (n.norm_total_chutes * 0.025) +         \n",
    "        (n.norm_chutes_gol * 0.075) +           \n",
    "        (n.norm_gols_esperados * 0.15) +       \n",
    "        (n.norm_ass_esperadas * 0.025) +        \n",
    "        (n.norm_acoes_de_criacao * 0.075) +     \n",
    "        (n.norm_acoes_de_gol * 0.15) +         \n",
    "        (n.norm_eficiencia * 0.15)             \n",
    "    ), 2) AS score_ofensivo\n",
    "\n",
    "FROM Normalizacao_Ofensiva_Jogadores n;\n"
   ]
  },
  {
   "cell_type": "markdown",
   "metadata": {
    "application/vnd.databricks.v1+cell": {
     "cellMetadata": {
      "byteLimit": 2048000,
      "rowLimit": 10000
     },
     "inputWidgets": {},
     "nuid": "bda391cd-2d6d-46ca-96ff-6e6898e9899a",
     "showTitle": false,
     "tableResultSettingsMap": {},
     "title": ""
    }
   },
   "source": [
    "## 🔶 Normalização das Métricas de Criação\n",
    "\n",
    "Transformaremos diferentes métricas de **criação de jogadas** em uma escala comum de **0 a 10**, permitindo entender quais clubes têm maior capacidade de construir oportunidades — mesmo que não convertam em gol.\n",
    "\n",
    "---"
   ]
  },
  {
   "cell_type": "markdown",
   "metadata": {
    "application/vnd.databricks.v1+cell": {
     "cellMetadata": {
      "byteLimit": 2048000,
      "rowLimit": 10000
     },
     "inputWidgets": {},
     "nuid": "d649a4b2-b6d8-4dce-943b-58cf27ee2dad",
     "showTitle": false,
     "tableResultSettingsMap": {},
     "title": ""
    }
   },
   "source": [
    "### 🔢 Como funcionará a normalização?\n",
    "\n",
    "Usaremos a fórmula tradicional de normalização:\n",
    "\n",
    "![Normalização](https://github.com/Cavalheiro93/mvp-brasileirao-data-engineering/raw/main/images/notebook-images/Normalizacao.png)\n",
    "\n",
    "Nenhuma métrica aqui será invertida, pois **quanto mais, melhor**."
   ]
  },
  {
   "cell_type": "markdown",
   "metadata": {
    "application/vnd.databricks.v1+cell": {
     "cellMetadata": {
      "byteLimit": 2048000,
      "rowLimit": 10000
     },
     "inputWidgets": {},
     "nuid": "a33eea14-5814-4012-8f41-9ef5bba6d81c",
     "showTitle": false,
     "tableResultSettingsMap": {},
     "title": ""
    }
   },
   "source": [
    "### 🏆 Métricas Selecionadas para Criação\n",
    "\n",
    "| Métrica                  | Interpretação                               | Peso |\n",
    "|--------------------------|---------------------------------------------|------|\n",
    "| `assistencias`           | Resultado direto de criação bem-sucedida    | 30%    |\n",
    "| `acoes_de_criacao`       | Volume de jogadas que geram oportunidades   | 30%    |\n",
    "| `xA`                     | Qualidade esperada das assistências         | 25%    |\n",
    "| `passes_completos`       | Participação ativa na construção            | 3,75%  |\n",
    "| `passes_tentados`        | Volume total de tentativas ofensivas        | 3,75%  |\n",
    "| `conducoes_de_bola`      | Participação individual na construção       | 3,75%  |\n",
    "| `conducoes_progressivas` | Avanço real com a bola no pé                | 3,75%  |"
   ]
  },
  {
   "cell_type": "code",
   "execution_count": 0,
   "metadata": {
    "application/vnd.databricks.v1+cell": {
     "cellMetadata": {
      "byteLimit": 2048000,
      "implicitDf": true,
      "rowLimit": 10000
     },
     "inputWidgets": {},
     "nuid": "ce6e01af-da32-4a74-b348-d28d8e7eedfc",
     "showTitle": false,
     "tableResultSettingsMap": {},
     "title": ""
    }
   },
   "outputs": [
    {
     "output_type": "display_data",
     "data": {
      "text/html": [
       "<style scoped>\n",
       "  .table-result-container {\n",
       "    max-height: 300px;\n",
       "    overflow: auto;\n",
       "  }\n",
       "  table, th, td {\n",
       "    border: 1px solid black;\n",
       "    border-collapse: collapse;\n",
       "  }\n",
       "  th, td {\n",
       "    padding: 5px;\n",
       "  }\n",
       "  th {\n",
       "    text-align: left;\n",
       "  }\n",
       "</style><div class='table-result-container'><table class='table-result'><thead style='background-color: white'><tr></tr></thead><tbody></tbody></table></div>"
      ]
     },
     "metadata": {
      "application/vnd.databricks.v1+output": {
       "addedWidgets": {},
       "aggData": [],
       "aggError": "",
       "aggOverflow": false,
       "aggSchema": [],
       "aggSeriesLimitReached": false,
       "aggType": "",
       "arguments": {},
       "columnCustomDisplayInfos": {},
       "data": [],
       "datasetInfos": [],
       "dbfsResultPath": null,
       "isJsonSchema": true,
       "metadata": {},
       "overflow": false,
       "plotOptions": {
        "customPlotOptions": {},
        "displayType": "table",
        "pivotAggregation": null,
        "pivotColumns": null,
        "xColumns": null,
        "yColumns": null
       },
       "removedWidgets": [],
       "schema": [],
       "type": "table"
      }
     },
     "output_type": "display_data"
    }
   ],
   "source": [
    "%sql\n",
    "-- Criando a VIEW com a normalização das métricas de Criação por jogador\n",
    "CREATE OR REPLACE TEMP VIEW Normalizacao_Criacao_Jogadores AS\n",
    "SELECT \n",
    "    e.jogador,\n",
    "    e.clube,\n",
    "    e.numero_camisa,\n",
    "    e.minutos_em_campo,\n",
    "\n",
    "    -- Assistências\n",
    "    ROUND(((e.ass - MIN(e.ass) OVER()) / \n",
    "        (MAX(e.ass) OVER() - MIN(e.ass) OVER()) * 10), 2) AS norm_assistencias,\n",
    "\n",
    "    -- Ações de Criação\n",
    "    ROUND(((e.acoes_de_criacao - MIN(e.acoes_de_criacao) OVER()) /\n",
    "        (MAX(e.acoes_de_criacao) OVER() - MIN(e.acoes_de_criacao) OVER()) * 10), 2) AS norm_acoes_de_criacao,\n",
    "\n",
    "    -- Assistências Esperadas (xA)\n",
    "    ROUND(((e.ass_esperadas - MIN(e.ass_esperadas) OVER()) /\n",
    "        (MAX(e.ass_esperadas) OVER() - MIN(e.ass_esperadas) OVER()) * 10), 2) AS norm_ass_esperadas,\n",
    "\n",
    "    -- Passes Completos\n",
    "    ROUND(((e.passes_completos - MIN(e.passes_completos) OVER()) /\n",
    "        (MAX(e.passes_completos) OVER() - MIN(e.passes_completos) OVER()) * 10), 2) AS norm_passes_completos,\n",
    "\n",
    "    -- Passes Tentados\n",
    "    ROUND(((e.passes_tentados - MIN(e.passes_tentados) OVER()) /\n",
    "        (MAX(e.passes_tentados) OVER() - MIN(e.passes_tentados) OVER()) * 10), 2) AS norm_passes_tentados,\n",
    "\n",
    "    -- Conduções de Bola\n",
    "    ROUND(((e.conducoes_de_bola - MIN(e.conducoes_de_bola) OVER()) /\n",
    "        (MAX(e.conducoes_de_bola) OVER() - MIN(e.conducoes_de_bola) OVER()) * 10), 2) AS norm_conducoes_de_bola,\n",
    "\n",
    "    -- Conduções Progressivas\n",
    "    ROUND(((e.conducoes_progressivas - MIN(e.conducoes_progressivas) OVER()) /\n",
    "        (MAX(e.conducoes_progressivas) OVER() - MIN(e.conducoes_progressivas) OVER()) * 10), 2) AS norm_conducoes_progressivas\n",
    "\n",
    "FROM Estatisticas_PorJogador e;\n"
   ]
  },
  {
   "cell_type": "code",
   "execution_count": 0,
   "metadata": {
    "application/vnd.databricks.v1+cell": {
     "cellMetadata": {
      "byteLimit": 2048000,
      "implicitDf": true,
      "rowLimit": 10000
     },
     "inputWidgets": {},
     "nuid": "e3a88171-b5c3-4158-aa72-825ca4e211ab",
     "showTitle": false,
     "tableResultSettingsMap": {},
     "title": ""
    }
   },
   "outputs": [
    {
     "output_type": "display_data",
     "data": {
      "text/html": [
       "<style scoped>\n",
       "  .table-result-container {\n",
       "    max-height: 300px;\n",
       "    overflow: auto;\n",
       "  }\n",
       "  table, th, td {\n",
       "    border: 1px solid black;\n",
       "    border-collapse: collapse;\n",
       "  }\n",
       "  th, td {\n",
       "    padding: 5px;\n",
       "  }\n",
       "  th {\n",
       "    text-align: left;\n",
       "  }\n",
       "</style><div class='table-result-container'><table class='table-result'><thead style='background-color: white'><tr></tr></thead><tbody></tbody></table></div>"
      ]
     },
     "metadata": {
      "application/vnd.databricks.v1+output": {
       "addedWidgets": {},
       "aggData": [],
       "aggError": "",
       "aggOverflow": false,
       "aggSchema": [],
       "aggSeriesLimitReached": false,
       "aggType": "",
       "arguments": {},
       "columnCustomDisplayInfos": {},
       "data": [],
       "datasetInfos": [],
       "dbfsResultPath": null,
       "isJsonSchema": true,
       "metadata": {},
       "overflow": false,
       "plotOptions": {
        "customPlotOptions": {},
        "displayType": "table",
        "pivotAggregation": null,
        "pivotColumns": null,
        "xColumns": null,
        "yColumns": null
       },
       "removedWidgets": [],
       "schema": [],
       "type": "table"
      }
     },
     "output_type": "display_data"
    }
   ],
   "source": [
    "%sql\n",
    "-- Criando a VIEW com o cálculo do Score de Criação por jogador\n",
    "CREATE OR REPLACE TEMP VIEW Score_Criacao_Jogadores AS\n",
    "SELECT \n",
    "    n.jogador,\n",
    "    n.clube,\n",
    "    n.numero_camisa,\n",
    "    n.minutos_em_campo,\n",
    "\n",
    "    -- Métricas normalizadas\n",
    "    n.norm_assistencias,\n",
    "    n.norm_acoes_de_criacao,\n",
    "    n.norm_ass_esperadas,\n",
    "    n.norm_passes_completos,\n",
    "    n.norm_passes_tentados,\n",
    "    n.norm_conducoes_de_bola,\n",
    "    n.norm_conducoes_progressivas,\n",
    "\n",
    "    -- Score final com pesos ajustados\n",
    "    ROUND((\n",
    "        (n.norm_assistencias * 0.30) +\n",
    "        (n.norm_acoes_de_criacao * 0.30) +\n",
    "        (n.norm_ass_esperadas * 0.25) +\n",
    "        (n.norm_passes_completos * 0.0375) +\n",
    "        (n.norm_passes_tentados * 0.0375) +\n",
    "        (n.norm_conducoes_de_bola * 0.0375) +\n",
    "        (n.norm_conducoes_progressivas * 0.0375)\n",
    "    ), 2) AS score_criacao\n",
    "\n",
    "FROM Normalizacao_Criacao_Jogadores n;\n"
   ]
  },
  {
   "cell_type": "markdown",
   "metadata": {
    "application/vnd.databricks.v1+cell": {
     "cellMetadata": {
      "byteLimit": 2048000,
      "rowLimit": 10000
     },
     "inputWidgets": {},
     "nuid": "7ade71e8-b7d8-419a-8c45-8362c996314f",
     "showTitle": false,
     "tableResultSettingsMap": {},
     "title": ""
    }
   },
   "source": [
    "# 📌 Criação dos Data marts"
   ]
  },
  {
   "cell_type": "markdown",
   "metadata": {
    "application/vnd.databricks.v1+cell": {
     "cellMetadata": {},
     "inputWidgets": {},
     "nuid": "1bb5709e-e282-4f52-893d-888e4860a24e",
     "showTitle": false,
     "tableResultSettingsMap": {},
     "title": ""
    }
   },
   "source": [
    "### 🧱 Mart_Desempenho_Jogadores"
   ]
  },
  {
   "cell_type": "code",
   "execution_count": 0,
   "metadata": {
    "application/vnd.databricks.v1+cell": {
     "cellMetadata": {
      "byteLimit": 2048000,
      "implicitDf": true,
      "rowLimit": 10000
     },
     "inputWidgets": {},
     "nuid": "bab3db98-2f5e-451a-af62-bb0fcf0492ba",
     "showTitle": false,
     "tableResultSettingsMap": {},
     "title": ""
    }
   },
   "outputs": [
    {
     "output_type": "display_data",
     "data": {
      "text/html": [
       "<style scoped>\n",
       "  .table-result-container {\n",
       "    max-height: 300px;\n",
       "    overflow: auto;\n",
       "  }\n",
       "  table, th, td {\n",
       "    border: 1px solid black;\n",
       "    border-collapse: collapse;\n",
       "  }\n",
       "  th, td {\n",
       "    padding: 5px;\n",
       "  }\n",
       "  th {\n",
       "    text-align: left;\n",
       "  }\n",
       "</style><div class='table-result-container'><table class='table-result'><thead style='background-color: white'><tr></tr></thead><tbody></tbody></table></div>"
      ]
     },
     "metadata": {
      "application/vnd.databricks.v1+output": {
       "addedWidgets": {},
       "aggData": [],
       "aggError": "",
       "aggOverflow": false,
       "aggSchema": [],
       "aggSeriesLimitReached": false,
       "aggType": "",
       "arguments": {},
       "columnCustomDisplayInfos": {},
       "data": [],
       "datasetInfos": [],
       "dbfsResultPath": null,
       "isJsonSchema": true,
       "metadata": {},
       "overflow": false,
       "plotOptions": {
        "customPlotOptions": {},
        "displayType": "table",
        "pivotAggregation": null,
        "pivotColumns": null,
        "xColumns": null,
        "yColumns": null
       },
       "removedWidgets": [],
       "schema": [],
       "type": "table"
      }
     },
     "output_type": "display_data"
    }
   ],
   "source": [
    "%sql\n",
    "CREATE OR REPLACE TEMP VIEW Mart_Desempenho_Jogadores AS\n",
    "SELECT \n",
    "    d.jogador,\n",
    "    d.clube,\n",
    "    d.numero_camisa,\n",
    "    d.minutos_em_campo,\n",
    "\n",
    "    -- Métricas defensivas\n",
    "    d.norm_gols_sofridos_clube,\n",
    "    d.norm_desarmes,\n",
    "    d.norm_interceptacoes,\n",
    "    d.norm_bloqueios,\n",
    "\n",
    "    -- Métricas ofensivas\n",
    "    o.norm_gols_marcados,\n",
    "    o.norm_ass,\n",
    "    o.norm_penaltis_batidos,\n",
    "    o.norm_total_chutes,\n",
    "    o.norm_chutes_gol,\n",
    "    o.norm_gols_esperados,\n",
    "    o.norm_ass_esperadas,\n",
    "    o.norm_acoes_de_criacao,\n",
    "    o.norm_acoes_de_gol,\n",
    "    o.norm_eficiencia,\n",
    "\n",
    "    -- Métricas de criação\n",
    "    c.norm_passes_completos,\n",
    "    c.norm_passes_tentados,\n",
    "    c.norm_conducoes_de_bola,\n",
    "    c.norm_conducoes_progressivas,\n",
    "\n",
    "    -- SCORES\n",
    "    d.score_defensivo,\n",
    "    o.score_ofensivo,\n",
    "    c.score_criacao\n",
    "\n",
    "FROM Score_Defensivo_Jogadores d\n",
    "LEFT JOIN Score_Ofensivo_Jogadores o \n",
    "    ON d.jogador = o.jogador AND d.clube = o.clube AND d.numero_camisa = o.numero_camisa\n",
    "LEFT JOIN Score_Criacao_Jogadores c \n",
    "    ON d.jogador = c.jogador AND d.clube = c.clube AND d.numero_camisa = c.numero_camisa;\n"
   ]
  },
  {
   "cell_type": "markdown",
   "metadata": {
    "application/vnd.databricks.v1+cell": {
     "cellMetadata": {},
     "inputWidgets": {},
     "nuid": "abebbdd8-4260-46b5-8520-546954bbf74b",
     "showTitle": false,
     "tableResultSettingsMap": {},
     "title": ""
    }
   },
   "source": [
    "# 📌 Salvando os Arquivs na Camada Gold "
   ]
  },
  {
   "cell_type": "markdown",
   "metadata": {
    "application/vnd.databricks.v1+cell": {
     "cellMetadata": {},
     "inputWidgets": {},
     "nuid": "64fb0305-3c24-480e-bb5b-da82b8adf6cd",
     "showTitle": false,
     "tableResultSettingsMap": {},
     "title": ""
    }
   },
   "source": [
    "### 🔹Geral - Salvando Datamart na camada Gold"
   ]
  },
  {
   "cell_type": "code",
   "execution_count": 0,
   "metadata": {
    "application/vnd.databricks.v1+cell": {
     "cellMetadata": {
      "byteLimit": 2048000,
      "rowLimit": 10000
     },
     "inputWidgets": {},
     "nuid": "96c3ba0e-0567-43d9-9484-05e8dfefff77",
     "showTitle": false,
     "tableResultSettingsMap": {},
     "title": ""
    }
   },
   "outputs": [],
   "source": [
    "df_gold = spark.sql(\"SELECT * FROM Mart_Desempenho_Jogadores\")\n",
    "\n",
    "df_gold.write.mode(\"overwrite\").parquet(\"s3a://mvp-brasileirao-2024/gold/Mart_Desempenho_Jogadores\")"
   ]
  }
 ],
 "metadata": {
  "application/vnd.databricks.v1+notebook": {
   "computePreferences": null,
   "dashboards": [],
   "environmentMetadata": {
    "base_environment": "",
    "environment_version": "1"
   },
   "inputWidgetPreferences": null,
   "language": "python",
   "notebookMetadata": {
    "mostRecentlyExecutedCommandWithImplicitDF": {
     "commandId": 4397988387588793,
     "dataframes": [
      "_sqldf"
     ]
    },
    "pythonIndentUnit": 4
   },
   "notebookName": "04B-Transformacao-Gold-Mart-Jogadores",
   "widgets": {}
  }
 },
 "nbformat": 4,
 "nbformat_minor": 0
}

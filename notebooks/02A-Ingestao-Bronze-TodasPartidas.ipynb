{
 "cells": [
  {
   "cell_type": "markdown",
   "metadata": {
    "application/vnd.databricks.v1+cell": {
     "cellMetadata": {
      "byteLimit": 2048000,
      "rowLimit": 10000
     },
     "inputWidgets": {},
     "nuid": "635084a3-0ced-491b-9cd4-4d2ba2d85ede",
     "showTitle": false,
     "tableResultSettingsMap": {},
     "title": ""
    }
   },
   "source": [
    "# 📌 Estrutura do Notebook 02A-Ingestao-Bronze-TodasPartidas\n",
    "📍 Objetivo: Ler os dados da camada Bronze, aplicar transformações e salvar na Silver."
   ]
  },
  {
   "cell_type": "code",
   "execution_count": 0,
   "metadata": {
    "application/vnd.databricks.v1+cell": {
     "cellMetadata": {
      "byteLimit": 2048000,
      "rowLimit": 10000
     },
     "collapsed": true,
     "inputWidgets": {},
     "nuid": "4ee33179-ca41-408a-8b97-60bf4da4bda5",
     "showTitle": false,
     "tableResultSettingsMap": {},
     "title": ""
    }
   },
   "outputs": [],
   "source": [
    "%run \"./00-Configuracao\""
   ]
  },
  {
   "cell_type": "markdown",
   "metadata": {
    "application/vnd.databricks.v1+cell": {
     "cellMetadata": {
      "byteLimit": 2048000,
      "rowLimit": 10000
     },
     "inputWidgets": {},
     "nuid": "5b11d601-3762-493c-bad9-405600b8ed0d",
     "showTitle": false,
     "tableResultSettingsMap": {},
     "title": ""
    }
   },
   "source": [
    "## 🔶 Leitura dos dados da camada Bronze "
   ]
  },
  {
   "cell_type": "code",
   "execution_count": 0,
   "metadata": {
    "application/vnd.databricks.v1+cell": {
     "cellMetadata": {
      "byteLimit": 2048000,
      "rowLimit": 10000
     },
     "inputWidgets": {},
     "nuid": "cf907f0b-f769-4f6b-bcd6-2787d0d1d8a6",
     "showTitle": false,
     "tableResultSettingsMap": {},
     "title": ""
    }
   },
   "outputs": [
    {
     "name": "stdout",
     "output_type": "stream",
     "text": [
      "✅ Leitura do Arquivo BrasilSerieA_2024_TodasPartidas na camada Bronze feita com sucesso \n"
     ]
    },
    {
     "name": "stdout",
     "output_type": "stream",
     "text": [
      "Leitura das credenciais de forma segura pelo Spark 🔐\n"
     ]
    }
   ],
   "source": [
    "# Importar bibliotecas necessárias\n",
    "from pyspark.sql import SparkSession\n",
    "\n",
    "# Definir o caminho do arquivo CSV na Bronze\n",
    "csv_file_path = f\"s3a://{aws_bucket_name}/bronze/BrasilSerieA_2024_TodasPartidas.csv\"\n",
    "\n",
    "# Ler o arquivo CSV da camada Bronze\n",
    "df_bronze = spark.read.csv(csv_file_path, header=True, inferSchema=True, sep=\";\")\n",
    "\n",
    "print(f'✅ Leitura do Arquivo BrasilSerieA_2024_TodasPartidas na camada Bronze feita com sucesso ')"
   ]
  },
  {
   "cell_type": "markdown",
   "metadata": {
    "application/vnd.databricks.v1+cell": {
     "cellMetadata": {
      "byteLimit": 2048000,
      "rowLimit": 10000
     },
     "inputWidgets": {},
     "nuid": "e1f5cc9f-9006-4e87-9b4e-c0e101c02602",
     "showTitle": false,
     "tableResultSettingsMap": {},
     "title": ""
    }
   },
   "source": [
    "## 🔶 Aplicar transformações (limpeza e padronização) \n",
    "\n",
    "Limpezas que serão aplicadas no arquivo `BrasilSerieA_2024_TodasPartidas.csv`"
   ]
  },
  {
   "cell_type": "markdown",
   "metadata": {
    "application/vnd.databricks.v1+cell": {
     "cellMetadata": {},
     "inputWidgets": {},
     "nuid": "32d309f4-7384-4b76-b8ff-828fcb261b49",
     "showTitle": false,
     "tableResultSettingsMap": {},
     "title": ""
    }
   },
   "source": [
    "#### 🔹Removendo colunas de ODDs que não entrarão na análise"
   ]
  },
  {
   "cell_type": "code",
   "execution_count": 0,
   "metadata": {
    "application/vnd.databricks.v1+cell": {
     "cellMetadata": {
      "byteLimit": 2048000,
      "rowLimit": 10000
     },
     "inputWidgets": {},
     "nuid": "d779f047-ffc4-4a46-bdfd-883af3b172cd",
     "showTitle": false,
     "tableResultSettingsMap": {},
     "title": ""
    }
   },
   "outputs": [],
   "source": [
    "from pyspark.sql.functions import col, lit, concat_ws, monotonically_increasing_id, quarter, when, to_date, sum\n",
    "\n",
    "# Removendo colunas de ODDs que não entrarão na análise\n",
    "df_silver  = df_bronze[['Country', 'League', 'Season', 'Date', 'Time', 'Home', 'Away', 'HG', 'AG', 'Res']]"
   ]
  },
  {
   "cell_type": "markdown",
   "metadata": {
    "application/vnd.databricks.v1+cell": {
     "cellMetadata": {},
     "inputWidgets": {},
     "nuid": "f25c9457-92a4-4c42-986b-72ecc31087e2",
     "showTitle": false,
     "tableResultSettingsMap": {},
     "title": ""
    }
   },
   "source": [
    "#### 🔹Filtrando somente a temporada de 2024"
   ]
  },
  {
   "cell_type": "code",
   "execution_count": 0,
   "metadata": {
    "application/vnd.databricks.v1+cell": {
     "cellMetadata": {
      "byteLimit": 2048000,
      "rowLimit": 10000
     },
     "inputWidgets": {},
     "nuid": "df2cf67b-7094-4fdc-927a-b6237e631dc6",
     "showTitle": false,
     "tableResultSettingsMap": {},
     "title": ""
    }
   },
   "outputs": [],
   "source": [
    "# Somente partidas com 'Date = 2024'\n",
    "df_silver = df_silver.filter(col(\"Season\") == 2024)"
   ]
  },
  {
   "cell_type": "markdown",
   "metadata": {
    "application/vnd.databricks.v1+cell": {
     "cellMetadata": {},
     "inputWidgets": {},
     "nuid": "ca226b43-c18a-4cd9-a290-feddf53e5eaf",
     "showTitle": false,
     "tableResultSettingsMap": {},
     "title": ""
    }
   },
   "source": [
    "#### 🔹Remoção de Duplicatas e colunas vazias"
   ]
  },
  {
   "cell_type": "code",
   "execution_count": 0,
   "metadata": {
    "application/vnd.databricks.v1+cell": {
     "cellMetadata": {
      "byteLimit": 2048000,
      "rowLimit": 10000
     },
     "inputWidgets": {},
     "nuid": "eacd5648-494a-4685-a3f8-358228eaaa20",
     "showTitle": false,
     "tableResultSettingsMap": {},
     "title": ""
    }
   },
   "outputs": [],
   "source": [
    "# Remover duplicatas\n",
    "df_silver = df_silver.dropDuplicates()\n",
    "\n",
    "# Remover linhas onde todas as colunas são nulas (caso existam no futuro)\n",
    "df_silver = df_silver.dropna(how=\"all\")\n",
    "\n",
    "# Remover linhas se alguma coluna essencial estiver vazia\n",
    "df_silver = df_silver.dropna(subset=[\"Home\", \"Away\", \"Res\"])  # Ajuste conforme necessário"
   ]
  },
  {
   "cell_type": "markdown",
   "metadata": {
    "application/vnd.databricks.v1+cell": {
     "cellMetadata": {},
     "inputWidgets": {},
     "nuid": "e6f39daf-e16b-4899-a9d2-2e4e04289a8a",
     "showTitle": false,
     "tableResultSettingsMap": {},
     "title": ""
    }
   },
   "source": [
    "#### 🔹Criação das colunas Match_ID, Trimestre e Turno"
   ]
  },
  {
   "cell_type": "code",
   "execution_count": 0,
   "metadata": {
    "application/vnd.databricks.v1+cell": {
     "cellMetadata": {
      "byteLimit": 2048000,
      "rowLimit": 10000
     },
     "inputWidgets": {},
     "nuid": "68d0376f-19df-4cde-b5b6-ef008634be12",
     "showTitle": false,
     "tableResultSettingsMap": {},
     "title": ""
    }
   },
   "outputs": [
    {
     "name": "stdout",
     "output_type": "stream",
     "text": [
      "✅ Limpeza dos Dados e criação as colunas 'Match_ID', 'Trimestre' e 'Turno' concluída!\n"
     ]
    }
   ],
   "source": [
    "# Criar `Match_ID` (Identificador único da partida)\n",
    "df_silver = df_silver.withColumn(\"Match_ID\", concat_ws(\"_\", lit(\"Match\"), monotonically_increasing_id()))\n",
    "\n",
    "# Criar a coluna Trimestre baseado na coluna Date\n",
    "df_silver = df_silver.withColumn(\"Trimestre\", quarter(col(\"Date\")))\n",
    "\n",
    "# Criar a coluna Turno, para identificarmos os jogos do Primeiro e Segundo Turno\n",
    "# Converter a coluna Date para o formato de data (se ainda não estiver)\n",
    "df_silver = df_silver.withColumn(\"Date\", to_date(col(\"Date\"), \"yyyy-MM-dd\"))\n",
    "\n",
    "# Criar a coluna 'Turno' com base na data\n",
    "df_silver = df_silver.withColumn(\"Turno\",\n",
    "                                 when(col(\"Date\") <= \"2024-08-03\", \"Primeiro Turno\")\n",
    "                                 .otherwise(\"Segundo Turno\"))\n",
    "\n",
    "print(\"✅ Limpeza dos Dados e criação as colunas 'Match_ID', 'Trimestre' e 'Turno' concluída!\")"
   ]
  },
  {
   "cell_type": "markdown",
   "metadata": {
    "application/vnd.databricks.v1+cell": {
     "cellMetadata": {
      "byteLimit": 2048000,
      "rowLimit": 10000
     },
     "inputWidgets": {},
     "nuid": "8abfa48a-994d-4153-97e6-71fb1cfb1d2b",
     "showTitle": false,
     "tableResultSettingsMap": {},
     "title": ""
    }
   },
   "source": [
    "## 🔶 Analise Geral do arquivo Tratado** (Checagem) "
   ]
  },
  {
   "cell_type": "markdown",
   "metadata": {
    "application/vnd.databricks.v1+cell": {
     "cellMetadata": {},
     "inputWidgets": {},
     "nuid": "ec245b1c-27ec-4681-b325-2e959abc777f",
     "showTitle": false,
     "tableResultSettingsMap": {},
     "title": ""
    }
   },
   "source": [
    "#### 🔹contagem de valores vazios por coluna"
   ]
  },
  {
   "cell_type": "code",
   "execution_count": 0,
   "metadata": {
    "application/vnd.databricks.v1+cell": {
     "cellMetadata": {
      "byteLimit": 2048000,
      "rowLimit": 10000
     },
     "inputWidgets": {},
     "nuid": "13407d6b-dd12-4c02-ab22-ed9cadff9b8d",
     "showTitle": false,
     "tableResultSettingsMap": {},
     "title": ""
    }
   },
   "outputs": [],
   "source": [
    "# Criar um DataFrame com a contagem de valores vazios por coluna\n",
    "empty_counts = df_silver.select([sum(col(c).isNull().cast(\"int\")).alias(c) for c in df_silver.columns])"
   ]
  },
  {
   "cell_type": "markdown",
   "metadata": {
    "application/vnd.databricks.v1+cell": {
     "cellMetadata": {},
     "inputWidgets": {},
     "nuid": "b96d81c1-bfb3-4530-9c25-c351f621cdfa",
     "showTitle": false,
     "tableResultSettingsMap": {},
     "title": ""
    }
   },
   "source": [
    "#### 🔹resumo estatístico"
   ]
  },
  {
   "cell_type": "code",
   "execution_count": 0,
   "metadata": {
    "application/vnd.databricks.v1+cell": {
     "cellMetadata": {
      "byteLimit": 2048000,
      "rowLimit": 10000
     },
     "inputWidgets": {},
     "nuid": "1591fb02-1c3a-435e-8c3d-6e61aeb5f749",
     "showTitle": false,
     "tableResultSettingsMap": {},
     "title": ""
    }
   },
   "outputs": [
    {
     "name": "stdout",
     "output_type": "stream",
     "text": [
      "📌 Estatísticas do DataFrame:\n",
      "+-------+-------+-------+------+------------+------------+---+---+---+--------+---------+--------------+\n",
      "|summary|Country| League|Season|        Home|        Away| HG| AG|Res|Match_ID|Trimestre|         Turno|\n",
      "+-------+-------+-------+------+------------+------------+---+---+---+--------+---------+--------------+\n",
      "|  count|    380|    380|   380|         380|         380|380|380|380|     380|      380|           380|\n",
      "|    min| Brazil|Serie A|  2024|Athletico-PR|Athletico-PR|  0|  0|  A| Match_0|        2|Primeiro Turno|\n",
      "|    max| Brazil|Serie A|  2024|     Vitoria|     Vitoria|  5|  6|  H|Match_99|        4| Segundo Turno|\n",
      "+-------+-------+-------+------+------------+------------+---+---+---+--------+---------+--------------+\n",
      "\n",
      "📌 Contagem de valores vazios por coluna:\n",
      "+-------+------+------+----+----+----+----+---+---+---+--------+---------+-----+\n",
      "|Country|League|Season|Date|Time|Home|Away| HG| AG|Res|Match_ID|Trimestre|Turno|\n",
      "+-------+------+------+----+----+----+----+---+---+---+--------+---------+-----+\n",
      "|      0|     0|     0|   0|   0|   0|   0|  0|  0|  0|       0|        0|    0|\n",
      "+-------+------+------+----+----+----+----+---+---+---+--------+---------+-----+\n",
      "\n"
     ]
    }
   ],
   "source": [
    "# Exibir resumo estatístico das colunas + contagem de valores vazios\n",
    "print(\"📌 Estatísticas do DataFrame:\")\n",
    "df_silver.summary(\"count\", \"min\", \"max\").show()\n",
    "\n",
    "print(\"📌 Contagem de valores vazios por coluna:\")\n",
    "empty_counts.show()\n"
   ]
  },
  {
   "cell_type": "markdown",
   "metadata": {
    "application/vnd.databricks.v1+cell": {
     "cellMetadata": {
      "byteLimit": 2048000,
      "rowLimit": 10000
     },
     "inputWidgets": {},
     "nuid": "7d252120-76dd-4b93-81a5-d87d07ad52e4",
     "showTitle": false,
     "tableResultSettingsMap": {},
     "title": ""
    }
   },
   "source": [
    "## 🔶 Unificação das Colunas `Home` e `Away` em uma só (Particularidade)"
   ]
  },
  {
   "cell_type": "markdown",
   "metadata": {
    "application/vnd.databricks.v1+cell": {
     "cellMetadata": {},
     "inputWidgets": {},
     "nuid": "17630aef-c778-4c89-aa52-5dc25488ee5e",
     "showTitle": false,
     "tableResultSettingsMap": {},
     "title": ""
    }
   },
   "source": [
    "#### 🔹Criação do Dataframe somente com times Mandantes"
   ]
  },
  {
   "cell_type": "code",
   "execution_count": 0,
   "metadata": {
    "application/vnd.databricks.v1+cell": {
     "cellMetadata": {
      "byteLimit": 2048000,
      "rowLimit": 10000
     },
     "inputWidgets": {},
     "nuid": "df557d4f-773b-4ff4-b330-9456b899387c",
     "showTitle": false,
     "tableResultSettingsMap": {},
     "title": ""
    }
   },
   "outputs": [],
   "source": [
    "from pyspark.sql.functions import col, lit\n",
    "\n",
    "# Criar DataFrame para os times que jogaram em casa (Home)\n",
    "df_home = df_silver.withColumn(\"Clube\", col(\"Home\")) \\\n",
    "                   .withColumn(\"HomeOrAway\", lit(\"Home\")) \\\n",
    "                   .withColumn(\"Goals\", col(\"HG\")) \\\n",
    "                   .select(\"Country\", \"League\", \"Season\", \"Date\", \"Time\", \"Trimestre\", \"Turno\", \"Clube\", \"HomeOrAway\", \"Goals\", \"Res\", \"Match_ID\")"
   ]
  },
  {
   "cell_type": "markdown",
   "metadata": {
    "application/vnd.databricks.v1+cell": {
     "cellMetadata": {},
     "inputWidgets": {},
     "nuid": "7b957e39-3b15-43ff-be54-7061d1cf4baa",
     "showTitle": false,
     "tableResultSettingsMap": {},
     "title": ""
    }
   },
   "source": [
    "#### 🔹Criação do Dataframe somente com times Visitantes"
   ]
  },
  {
   "cell_type": "code",
   "execution_count": 0,
   "metadata": {
    "application/vnd.databricks.v1+cell": {
     "cellMetadata": {
      "byteLimit": 2048000,
      "rowLimit": 10000
     },
     "inputWidgets": {},
     "nuid": "e04a3861-3c37-49e2-97a4-e539890d3bd1",
     "showTitle": false,
     "tableResultSettingsMap": {},
     "title": ""
    }
   },
   "outputs": [],
   "source": [
    "# Criar DataFrame para os times que jogaram fora (Away)\n",
    "df_away = df_silver.withColumn(\"Clube\", col(\"Away\")) \\\n",
    "                   .withColumn(\"HomeOrAway\", lit(\"Away\")) \\\n",
    "                   .withColumn(\"Goals\", col(\"AG\")) \\\n",
    "                   .select(\"Country\", \"League\", \"Season\", \"Date\", \"Time\", \"Trimestre\", \"Turno\", \"Clube\", \"HomeOrAway\", \"Goals\", \"Res\", \"Match_ID\")"
   ]
  },
  {
   "cell_type": "markdown",
   "metadata": {
    "application/vnd.databricks.v1+cell": {
     "cellMetadata": {},
     "inputWidgets": {},
     "nuid": "4f4eea8b-bf7c-48cf-8ef8-799c43415e96",
     "showTitle": false,
     "tableResultSettingsMap": {},
     "title": ""
    }
   },
   "source": [
    "#### 🔹Unificação dos dois Dataframes"
   ]
  },
  {
   "cell_type": "code",
   "execution_count": 0,
   "metadata": {
    "application/vnd.databricks.v1+cell": {
     "cellMetadata": {
      "byteLimit": 2048000,
      "rowLimit": 10000
     },
     "inputWidgets": {},
     "nuid": "ea1a26de-db1d-47f5-a019-c3013b77975c",
     "showTitle": false,
     "tableResultSettingsMap": {},
     "title": ""
    }
   },
   "outputs": [],
   "source": [
    "# Unir os dois DataFrames\n",
    "df_silver = df_home.union(df_away)\n"
   ]
  },
  {
   "cell_type": "markdown",
   "metadata": {
    "application/vnd.databricks.v1+cell": {
     "cellMetadata": {
      "byteLimit": 2048000,
      "rowLimit": 10000
     },
     "inputWidgets": {},
     "nuid": "ac584c90-7c82-470a-bd38-bf443ae19c43",
     "showTitle": false,
     "tableResultSettingsMap": {},
     "title": ""
    }
   },
   "source": [
    "## 🔶 Ajustes Finais"
   ]
  },
  {
   "cell_type": "markdown",
   "metadata": {
    "application/vnd.databricks.v1+cell": {
     "cellMetadata": {},
     "inputWidgets": {},
     "nuid": "88d3c65a-0535-4e62-a5d8-d982a8024ebb",
     "showTitle": false,
     "tableResultSettingsMap": {},
     "title": ""
    }
   },
   "source": [
    "#### 🔹Renomeando as colunas"
   ]
  },
  {
   "cell_type": "code",
   "execution_count": 0,
   "metadata": {
    "application/vnd.databricks.v1+cell": {
     "cellMetadata": {
      "byteLimit": 2048000,
      "rowLimit": 10000
     },
     "inputWidgets": {},
     "nuid": "087ec67c-6484-4572-addb-78659e266fb1",
     "showTitle": false,
     "tableResultSettingsMap": {},
     "title": ""
    }
   },
   "outputs": [
    {
     "name": "stdout",
     "output_type": "stream",
     "text": [
      "✅ Colunas renomeadas para um formato mais legível.\n"
     ]
    }
   ],
   "source": [
    "# Renomear colunas para um formato mais claro\n",
    "df_silver = df_silver.withColumnRenamed(\"Country\", \"Pais\") \\\n",
    "                     .withColumnRenamed(\"League\", \"Liga\") \\\n",
    "                     .withColumnRenamed(\"Season\", \"Temporada\") \\\n",
    "                     .withColumnRenamed(\"Date\", \"Data\") \\\n",
    "                     .withColumnRenamed(\"Time\", \"Horario\") \\\n",
    "                     .withColumnRenamed(\"HomeOrAway\", \"MandanteVisitante\") \\\n",
    "                     .withColumnRenamed(\"Res\", \"Resultado\")\n",
    "\n",
    "print(\"✅ Colunas renomeadas para um formato mais legível.\")"
   ]
  },
  {
   "cell_type": "markdown",
   "metadata": {
    "application/vnd.databricks.v1+cell": {
     "cellMetadata": {},
     "inputWidgets": {},
     "nuid": "89bd6956-808a-4167-a25e-4ecc445ceb46",
     "showTitle": false,
     "tableResultSettingsMap": {},
     "title": ""
    }
   },
   "source": [
    "#### 🔹Substituindo \"Home\" por \"Mandante\" e \"Away\" por \"Visitante\" na coluna MandanteVisitante"
   ]
  },
  {
   "cell_type": "code",
   "execution_count": 0,
   "metadata": {
    "application/vnd.databricks.v1+cell": {
     "cellMetadata": {
      "byteLimit": 2048000,
      "rowLimit": 10000
     },
     "inputWidgets": {},
     "nuid": "a45adbd7-c1da-417d-b266-e560e4904420",
     "showTitle": false,
     "tableResultSettingsMap": {},
     "title": ""
    }
   },
   "outputs": [],
   "source": [
    "from pyspark.sql.functions import when\n",
    "\n",
    "# Substituir \"Home\" por \"Mandante\" e \"Away\" por \"Visitante\" na coluna MandanteVisitante\n",
    "df_silver = df_silver.withColumn(\"MandanteVisitante\",\n",
    "                                 when(col(\"MandanteVisitante\") == \"Home\", \"Mandante\")\n",
    "                                 .when(col(\"MandanteVisitante\") == \"Away\", \"Visitante\")\n",
    "                                 .otherwise(col(\"MandanteVisitante\")))"
   ]
  },
  {
   "cell_type": "markdown",
   "metadata": {
    "application/vnd.databricks.v1+cell": {
     "cellMetadata": {},
     "inputWidgets": {},
     "nuid": "796fb89e-b2a7-4619-9e88-602d7c5a6965",
     "showTitle": false,
     "tableResultSettingsMap": {},
     "title": ""
    }
   },
   "source": [
    "#### 🔹Atualizar a coluna Resultado conforme as regras"
   ]
  },
  {
   "cell_type": "code",
   "execution_count": 0,
   "metadata": {
    "application/vnd.databricks.v1+cell": {
     "cellMetadata": {
      "byteLimit": 2048000,
      "rowLimit": 10000
     },
     "inputWidgets": {},
     "nuid": "dddd068c-6cbe-4ef8-89c4-0c90919f75b8",
     "showTitle": false,
     "tableResultSettingsMap": {},
     "title": ""
    }
   },
   "outputs": [
    {
     "name": "stdout",
     "output_type": "stream",
     "text": [
      "✅ Transformações nas colunas MandanteVisitante e Resultado concluídas!\n"
     ]
    }
   ],
   "source": [
    "# Atualizar a coluna Resultado conforme as regras\n",
    "df_silver = df_silver.withColumn(\"Resultado\",\n",
    "                                 when(col(\"Resultado\") == \"D\", \"Empate\")\n",
    "                                 .when((col(\"MandanteVisitante\") == \"Mandante\") & (col(\"Resultado\") == \"H\"), \"Vitoria\")\n",
    "                                 .when((col(\"MandanteVisitante\") == \"Visitante\") & (col(\"Resultado\") == \"A\"), \"Vitoria\")\n",
    "                                 .otherwise(\"Derrota\"))\n",
    "\n",
    "print(\"✅ Transformações nas colunas MandanteVisitante e Resultado concluídas!\")"
   ]
  },
  {
   "cell_type": "markdown",
   "metadata": {
    "application/vnd.databricks.v1+cell": {
     "cellMetadata": {},
     "inputWidgets": {},
     "nuid": "ed15b508-5dcf-4e7b-ac0e-e15ea1295f05",
     "showTitle": false,
     "tableResultSettingsMap": {},
     "title": ""
    }
   },
   "source": [
    "#### 🔹Cria um Dicionario de `mapeamento_clubes`"
   ]
  },
  {
   "cell_type": "code",
   "execution_count": 0,
   "metadata": {
    "application/vnd.databricks.v1+cell": {
     "cellMetadata": {
      "byteLimit": 2048000,
      "rowLimit": 10000
     },
     "inputWidgets": {},
     "nuid": "b9860c30-1cff-431d-a8db-0d8481e26c09",
     "showTitle": false,
     "tableResultSettingsMap": {},
     "title": ""
    }
   },
   "outputs": [],
   "source": [
    "# Dicionário de padronização dos nomes dos clubes (em ordem alfabética)\n",
    "mapeamento_clubes = {\n",
    "    \"Atletico GO\": \"Atlético-GO\",\n",
    "    \"Atletico-MG\": \"Atlético-MG\",\n",
    "    \"Athletico-PR\": \"Athletico-PR\",\n",
    "    \"Bahia\": \"Bahia\",\n",
    "    \"Botafogo RJ\": \"Botafogo\",\n",
    "    \"Bragantino\": \"Bragantino\",\n",
    "    \"Corinthians\": \"Corinthians\",\n",
    "    \"Criciuma\": \"Criciúma\",\n",
    "    \"Cruzeiro\": \"Cruzeiro\",\n",
    "    \"Cuiaba\": \"Cuiabá\",\n",
    "    \"Flamengo RJ\": \"Flamengo\",\n",
    "    \"Fluminense\": \"Fluminense\",\n",
    "    \"Fortaleza\": \"Fortaleza\",\n",
    "    \"Gremio\": \"Grêmio\",\n",
    "    \"Internacional\": \"Internacional\",\n",
    "    \"Juventude\": \"Juventude\",\n",
    "    \"Palmeiras\": \"Palmeiras\",\n",
    "    \"Sao Paulo\": \"São Paulo\",\n",
    "    \"Vasco\": \"Vasco da Gama\",\n",
    "    \"Vitoria\": \"EC Vitória\"\n",
    "}\n",
    "\n",
    "df_silver = df_silver.replace(mapeamento_clubes, subset=[\"Clube\"])"
   ]
  },
  {
   "cell_type": "markdown",
   "metadata": {
    "application/vnd.databricks.v1+cell": {
     "cellMetadata": {
      "byteLimit": 2048000,
      "rowLimit": 10000
     },
     "inputWidgets": {},
     "nuid": "d60de395-2c9c-4945-94bc-fdfaaf9dbc0f",
     "showTitle": false,
     "tableResultSettingsMap": {},
     "title": ""
    }
   },
   "source": [
    "## 💾 Salvar os dados na camada Silver (Parquet no S3)"
   ]
  },
  {
   "cell_type": "markdown",
   "metadata": {
    "application/vnd.databricks.v1+cell": {
     "cellMetadata": {},
     "inputWidgets": {},
     "nuid": "744178c1-efc2-411b-a8bf-2c3fd8b887d4",
     "showTitle": false,
     "tableResultSettingsMap": {},
     "title": ""
    }
   },
   "source": [
    "#### 🔹 Salvando o arquivo no S3 camada Silver"
   ]
  },
  {
   "cell_type": "code",
   "execution_count": 0,
   "metadata": {
    "application/vnd.databricks.v1+cell": {
     "cellMetadata": {
      "byteLimit": 2048000,
      "rowLimit": 10000
     },
     "inputWidgets": {},
     "nuid": "4e27927b-9dcd-4aca-a7bf-87ca7eaf67f8",
     "showTitle": false,
     "tableResultSettingsMap": {},
     "title": ""
    }
   },
   "outputs": [
    {
     "name": "stdout",
     "output_type": "stream",
     "text": [
      "✅ Dados salvos corretamente em Parquet e Delta, em pastas separadas!\n"
     ]
    }
   ],
   "source": [
    "# Caminho correto no S3 para armazenar os arquivos\n",
    "silver_parquet_path = \"s3://mvp-brasileirao-2024/silver/parquet/brasil_seriea_2024_todas_partidas\"\n",
    "silver_delta_path = \"s3://mvp-brasileirao-2024/silver/delta/brasil_seriea_2024_todas_partidas\"\n",
    "\n",
    "# Remover o Delta anterior (use com cautela)\n",
    "dbutils.fs.rm(silver_delta_path, recurse=True)\n",
    "\n",
    "# Salvar em Parquet (para acessibilidade geral)\n",
    "df_silver.write.mode(\"overwrite\").parquet(silver_parquet_path)\n",
    "\n",
    "# Salvar em Delta (para controle e governança)\n",
    "df_silver.write.format(\"delta\").mode(\"overwrite\").save(silver_delta_path)\n",
    "\n",
    "print(\"✅ Dados salvos corretamente em Parquet e Delta, em pastas separadas!\")"
   ]
  },
  {
   "cell_type": "markdown",
   "metadata": {
    "application/vnd.databricks.v1+cell": {
     "cellMetadata": {},
     "inputWidgets": {},
     "nuid": "d2dbd8fe-fa57-4ddb-89d8-272adef41ea3",
     "showTitle": false,
     "tableResultSettingsMap": {},
     "title": ""
    }
   },
   "source": [
    "#### 🔹 Salvando o arquivo no DBFS"
   ]
  },
  {
   "cell_type": "code",
   "execution_count": 0,
   "metadata": {
    "application/vnd.databricks.v1+cell": {
     "cellMetadata": {
      "byteLimit": 2048000,
      "rowLimit": 10000
     },
     "inputWidgets": {},
     "nuid": "d5c0dba7-881a-41a6-8ab0-dcac9bcd9c9d",
     "showTitle": false,
     "tableResultSettingsMap": {},
     "title": ""
    }
   },
   "outputs": [
    {
     "name": "stdout",
     "output_type": "stream",
     "text": [
      "✅ Dados transformados e salvos na camada Silver no DBFS com sucesso!\n"
     ]
    }
   ],
   "source": [
    "# Caminho no DBFS para armazenar os dados Silver temporariamente\n",
    "dbfs_path_silver = \"dbfs:/mnt/silver_temp/todas_partidas\"\n",
    "\n",
    "# Salvar no DBFS em formato Parquet\n",
    "df_silver.write.mode(\"overwrite\").parquet(dbfs_path_silver)\n",
    "\n",
    "print(\"✅ Dados transformados e salvos na camada Silver no DBFS com sucesso!\")"
   ]
  }
 ],
 "metadata": {
  "application/vnd.databricks.v1+notebook": {
   "computePreferences": null,
   "dashboards": [],
   "environmentMetadata": {
    "base_environment": "",
    "environment_version": "1"
   },
   "inputWidgetPreferences": null,
   "language": "python",
   "notebookMetadata": {
    "pythonIndentUnit": 4
   },
   "notebookName": "02A-Ingestao-Bronze-TodasPartidas",
   "widgets": {}
  },
  "language_info": {
   "name": "python"
  }
 },
 "nbformat": 4,
 "nbformat_minor": 0
}

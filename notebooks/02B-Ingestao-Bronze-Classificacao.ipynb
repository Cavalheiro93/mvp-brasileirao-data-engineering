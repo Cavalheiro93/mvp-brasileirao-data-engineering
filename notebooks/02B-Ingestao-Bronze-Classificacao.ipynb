{
 "cells": [
  {
   "cell_type": "markdown",
   "metadata": {
    "application/vnd.databricks.v1+cell": {
     "cellMetadata": {
      "byteLimit": 2048000,
      "rowLimit": 10000
     },
     "inputWidgets": {},
     "nuid": "4bf47cbf-f485-49ff-86d5-207b6a6ef8d2",
     "showTitle": false,
     "tableResultSettingsMap": {},
     "title": ""
    }
   },
   "source": [
    "# 📌 Estrutura do Notebook 02B-Ingestao-Bronze-Classificacao\n",
    "📍 Objetivo: Ler os dados da camada Bronze, aplicar transformações e salvar na Silver."
   ]
  },
  {
   "cell_type": "code",
   "execution_count": 0,
   "metadata": {
    "application/vnd.databricks.v1+cell": {
     "cellMetadata": {
      "byteLimit": 2048000,
      "rowLimit": 10000
     },
     "collapsed": true,
     "inputWidgets": {},
     "nuid": "e69bfe06-ce77-48a4-bb0f-32cdcdc68af2",
     "showTitle": false,
     "tableResultSettingsMap": {},
     "title": ""
    }
   },
   "outputs": [
    {
     "output_type": "stream",
     "name": "stdout",
     "output_type": "stream",
     "text": [
      "Leitura das credenciais de forma segura pelo Spark 🔐\n"
     ]
    }
   ],
   "source": [
    "%run \"./00-Configuracao\""
   ]
  },
  {
   "cell_type": "markdown",
   "metadata": {
    "application/vnd.databricks.v1+cell": {
     "cellMetadata": {
      "byteLimit": 2048000,
      "rowLimit": 10000
     },
     "inputWidgets": {},
     "nuid": "09fc47b7-bb7c-4527-96f4-99568ed473ad",
     "showTitle": false,
     "tableResultSettingsMap": {},
     "title": ""
    }
   },
   "source": [
    "## 🔶 Leitura dos dados da camada Bronze "
   ]
  },
  {
   "cell_type": "code",
   "execution_count": 0,
   "metadata": {
    "application/vnd.databricks.v1+cell": {
     "cellMetadata": {
      "byteLimit": 2048000,
      "rowLimit": 10000
     },
     "inputWidgets": {},
     "nuid": "e9ffc99f-f352-433d-b2d8-2a8f3afc9d0f",
     "showTitle": false,
     "tableResultSettingsMap": {},
     "title": ""
    }
   },
   "outputs": [
    {
     "output_type": "stream",
     "name": "stdout",
     "output_type": "stream",
     "text": [
      "✅ Leitura do Arquivo BrasilSerieA_2024_ClassificacaoFinal na camada Bronze feita com sucesso \n"
     ]
    },
    {
     "output_type": "stream",
     "name": "stdout",
     "output_type": "stream",
     "text": [
      "✅ Credenciais configuradas com sucesso!\n"
     ]
    },
    {
     "output_type": "stream",
     "name": "stdout",
     "output_type": "stream",
     "text": [
      "✅ Conexão bem-sucedida! Arquivos encontrados na camada Bronze e Silver:\n"
     ]
    }
   ],
   "source": [
    "# Importar bibliotecas necessárias\n",
    "from pyspark.sql import SparkSession\n",
    "\n",
    "# Definir o caminho do arquivo CSV na Bronze\n",
    "csv_file_path = f\"s3a://{aws_bucket_name}/bronze/BrasilSerieA_2024_ClassificacaoFinal.csv\"\n",
    "\n",
    "# Ler o arquivo CSV da camada Bronze\n",
    "df_bronze = spark.read.csv(csv_file_path, header=True, inferSchema=True, sep=\";\", encoding='utf-8')\n",
    "\n",
    "print(f'✅ Leitura do Arquivo BrasilSerieA_2024_ClassificacaoFinal na camada Bronze feita com sucesso ')"
   ]
  },
  {
   "cell_type": "markdown",
   "metadata": {
    "application/vnd.databricks.v1+cell": {
     "cellMetadata": {
      "byteLimit": 2048000,
      "rowLimit": 10000
     },
     "inputWidgets": {},
     "nuid": "51cd1edf-ecea-470e-a912-6d8e98af480e",
     "showTitle": false,
     "tableResultSettingsMap": {},
     "title": ""
    }
   },
   "source": [
    "## 🔶 Aplicar transformações (limpeza e padronização) \n",
    "\n",
    "Limpezas que serão aplicadas no arquivo `BrasilSerieA_2024_ClassificacaoFinal.csv`\n",
    "\n"
   ]
  },
  {
   "cell_type": "markdown",
   "metadata": {
    "application/vnd.databricks.v1+cell": {
     "cellMetadata": {},
     "inputWidgets": {},
     "nuid": "544b11e5-12a3-48af-bd80-f0ea1f1fd1ab",
     "showTitle": false,
     "tableResultSettingsMap": {},
     "title": ""
    }
   },
   "source": [
    "#### 🔹Renomeando as colunas para deixar mais compreensivel do que se trata cada uma delas"
   ]
  },
  {
   "cell_type": "code",
   "execution_count": 0,
   "metadata": {
    "application/vnd.databricks.v1+cell": {
     "cellMetadata": {
      "byteLimit": 2048000,
      "rowLimit": 10000
     },
     "inputWidgets": {},
     "nuid": "1dc2fb35-c78a-4763-9e5e-467a98f77279",
     "showTitle": false,
     "tableResultSettingsMap": {},
     "title": ""
    }
   },
   "outputs": [],
   "source": [
    "df_bronze = df_bronze.withColumnRenamed(\"Posi��o\", \"Posicao\") \\\n",
    "                     .withColumnRenamed(\"Pts\", \"Pontuacao\") \\\n",
    "                     .withColumnRenamed(\"PJ\", \"Partidas_Jogadas\") \\\n",
    "                     .withColumnRenamed(\"VIT\", \"Vitorias\") \\\n",
    "                     .withColumnRenamed(\"E\", \"Empates\") \\\n",
    "                     .withColumnRenamed(\"DER\", \"Derrotas\") \\\n",
    "                     .withColumnRenamed(\"GM\", \"Gols_Marcados\") \\\n",
    "                     .withColumnRenamed(\"GC\", \"Gols_Sofridos\") \\\n",
    "                     .withColumnRenamed(\"SG\", \"Saldo_de_Gols\")                                    "
   ]
  },
  {
   "cell_type": "markdown",
   "metadata": {
    "application/vnd.databricks.v1+cell": {
     "cellMetadata": {},
     "inputWidgets": {},
     "nuid": "e5c225eb-e86e-4168-b980-255da355689c",
     "showTitle": false,
     "tableResultSettingsMap": {},
     "title": ""
    }
   },
   "source": [
    "#### 🔹Ajustando valores dos Clubes, para manter um padrão"
   ]
  },
  {
   "cell_type": "code",
   "execution_count": 0,
   "metadata": {
    "application/vnd.databricks.v1+cell": {
     "cellMetadata": {
      "byteLimit": 2048000,
      "rowLimit": 10000
     },
     "inputWidgets": {},
     "nuid": "5073dd3c-e2da-4edc-bb8b-66337f2f0848",
     "showTitle": false,
     "tableResultSettingsMap": {},
     "title": ""
    }
   },
   "outputs": [],
   "source": [
    "# Dicionário de padronização dos nomes dos clubes (em ordem alfabética)\n",
    "mapeamento_clubes = {\n",
    "    \"Atletico GO\": \"Atlético-GO\",\n",
    "    \"Atletico-MG\": \"Atlético-MG\",\n",
    "    \"Athletico-PR\": \"Athletico-PR\",\n",
    "    \"Bahia\": \"Bahia\",\n",
    "    \"Botafogo RJ\": \"Botafogo\",\n",
    "    \"Bragantino\": \"Bragantino\",\n",
    "    \"Corinthians\": \"Corinthians\",\n",
    "    \"Criciuma\": \"Criciúma\",\n",
    "    \"Cruzeiro\": \"Cruzeiro\",\n",
    "    \"Cuiaba\": \"Cuiabá\",\n",
    "    \"Flamengo RJ\": \"Flamengo\",\n",
    "    \"Fluminense\": \"Fluminense\",\n",
    "    \"Fortaleza\": \"Fortaleza\",\n",
    "    \"Gremio\": \"Grêmio\",\n",
    "    \"Internacional\": \"Internacional\",\n",
    "    \"Juventude\": \"Juventude\",\n",
    "    \"Palmeiras\": \"Palmeiras\",\n",
    "    \"Sao Paulo\": \"São Paulo\",\n",
    "    \"Vasco\": \"Vasco da Gama\",\n",
    "    \"Vitoria\": \"EC Vitória\"\n",
    "}\n",
    "\n",
    "df_bronze = df_bronze.replace(mapeamento_clubes, subset=[\"Clube\"])"
   ]
  },
  {
   "cell_type": "markdown",
   "metadata": {
    "application/vnd.databricks.v1+cell": {
     "cellMetadata": {
      "byteLimit": 2048000,
      "rowLimit": 10000
     },
     "inputWidgets": {},
     "nuid": "4b3ad7b5-9f33-407e-8508-9248d758a3b3",
     "showTitle": false,
     "tableResultSettingsMap": {},
     "title": ""
    }
   },
   "source": [
    "## 🔶 Analise Geral do arquivo Tratado (Checagem) \n"
   ]
  },
  {
   "cell_type": "markdown",
   "metadata": {
    "application/vnd.databricks.v1+cell": {
     "cellMetadata": {},
     "inputWidgets": {},
     "nuid": "6476f563-8c7b-41a1-a9df-734ec1ec97fd",
     "showTitle": false,
     "tableResultSettingsMap": {},
     "title": ""
    }
   },
   "source": [
    "#### 🔹contagem de valores vazios por coluna"
   ]
  },
  {
   "cell_type": "code",
   "execution_count": 0,
   "metadata": {
    "application/vnd.databricks.v1+cell": {
     "cellMetadata": {
      "byteLimit": 2048000,
      "rowLimit": 10000
     },
     "inputWidgets": {},
     "nuid": "e9fd7ae5-fb81-4b71-9afa-52838219ef1c",
     "showTitle": false,
     "tableResultSettingsMap": {},
     "title": ""
    }
   },
   "outputs": [],
   "source": [
    "from pyspark.sql.functions import col, lit, concat_ws, monotonically_increasing_id, quarter, when, to_date, sum\n",
    "\n",
    "# Criar um DataFrame com a contagem de valores vazios por coluna\n",
    "empty_counts = df_bronze.select([sum(col(c).isNull().cast(\"int\")).alias(c) for c in df_bronze.columns])\n"
   ]
  },
  {
   "cell_type": "markdown",
   "metadata": {
    "application/vnd.databricks.v1+cell": {
     "cellMetadata": {},
     "inputWidgets": {},
     "nuid": "553a520f-0c6b-4ea3-af37-081bba146b9c",
     "showTitle": false,
     "tableResultSettingsMap": {},
     "title": ""
    }
   },
   "source": [
    "#### 🔹resumo estatístico"
   ]
  },
  {
   "cell_type": "code",
   "execution_count": 0,
   "metadata": {
    "application/vnd.databricks.v1+cell": {
     "cellMetadata": {
      "byteLimit": 2048000,
      "rowLimit": 10000
     },
     "inputWidgets": {},
     "nuid": "f3aaa3d3-65d9-42fa-b6db-cbe4e4f9dfc4",
     "showTitle": false,
     "tableResultSettingsMap": {},
     "title": ""
    }
   },
   "outputs": [
    {
     "output_type": "stream",
     "name": "stdout",
     "output_type": "stream",
     "text": [
      "📌 Estatísticas do DataFrame:\n+-------+-------+-------------+---------+----------------+--------+-------+--------+-------------+-------------+-------------+\n|summary|Posicao|        Clube|Pontuacao|Partidas_Jogadas|Vitorias|Empates|Derrotas|Gols_Marcados|Gols_Sofridos|Saldo_de_Gols|\n+-------+-------+-------------+---------+----------------+--------+-------+--------+-------------+-------------+-------------+\n|  count|     20|           20|       20|              20|      20|     20|      20|           20|           20|           20|\n|    min|      1| Athletico-PR|       30|              38|       6|      7|       5|           29|           29|          -29|\n|    max|     20|Vasco da Gama|       79|              38|      23|     14|      22|           61|           61|           30|\n+-------+-------+-------------+---------+----------------+--------+-------+--------+-------------+-------------+-------------+\n\n📌 Contagem de valores vazios por coluna:\n+-------+-----+---------+----------------+--------+-------+--------+-------------+-------------+-------------+\n|Posicao|Clube|Pontuacao|Partidas_Jogadas|Vitorias|Empates|Derrotas|Gols_Marcados|Gols_Sofridos|Saldo_de_Gols|\n+-------+-----+---------+----------------+--------+-------+--------+-------------+-------------+-------------+\n|      0|    0|        0|               0|       0|      0|       0|            0|            0|            0|\n+-------+-----+---------+----------------+--------+-------+--------+-------------+-------------+-------------+\n\n📌 Verificação do Tipo de Variável de Cada Coluna:\nroot\n |-- Posicao: integer (nullable = true)\n |-- Clube: string (nullable = true)\n |-- Pontuacao: integer (nullable = true)\n |-- Partidas_Jogadas: integer (nullable = true)\n |-- Vitorias: integer (nullable = true)\n |-- Empates: integer (nullable = true)\n |-- Derrotas: integer (nullable = true)\n |-- Gols_Marcados: integer (nullable = true)\n |-- Gols_Sofridos: integer (nullable = true)\n |-- Saldo_de_Gols: integer (nullable = true)\n\n"
     ]
    }
   ],
   "source": [
    "# Exibir resumo estatístico das colunas + contagem de valores vazios\n",
    "print(\"📌 Estatísticas do DataFrame:\")\n",
    "df_bronze.summary(\"count\", \"min\", \"max\").show()\n",
    "\n",
    "print(\"📌 Contagem de valores vazios por coluna:\")\n",
    "empty_counts.show()\n",
    "\n",
    "print(\"📌 Verificação do Tipo de Variável de Cada Coluna:\")\n",
    "df_bronze.printSchema()\n"
   ]
  },
  {
   "cell_type": "markdown",
   "metadata": {
    "application/vnd.databricks.v1+cell": {
     "cellMetadata": {},
     "inputWidgets": {},
     "nuid": "ec7c1031-e1f6-493c-9edc-fde37b2f4e38",
     "showTitle": false,
     "tableResultSettingsMap": {},
     "title": ""
    }
   },
   "source": [
    "## 💾 Salvar os dados na camada Silver (Parquet no S3)"
   ]
  },
  {
   "cell_type": "markdown",
   "metadata": {
    "application/vnd.databricks.v1+cell": {
     "cellMetadata": {},
     "inputWidgets": {},
     "nuid": "32a81d56-372c-4f36-a5cc-2a6a64e426e3",
     "showTitle": false,
     "tableResultSettingsMap": {},
     "title": ""
    }
   },
   "source": [
    "#### 🔹 Salvando o arquivo no S3 camada Silver"
   ]
  },
  {
   "cell_type": "code",
   "execution_count": 0,
   "metadata": {
    "application/vnd.databricks.v1+cell": {
     "cellMetadata": {
      "byteLimit": 2048000,
      "rowLimit": 10000
     },
     "inputWidgets": {},
     "nuid": "569ce017-6868-46f3-909a-fb35e8a066f3",
     "showTitle": false,
     "tableResultSettingsMap": {},
     "title": ""
    }
   },
   "outputs": [
    {
     "output_type": "stream",
     "name": "stdout",
     "output_type": "stream",
     "text": [
      "✅ Dados salvos corretamente em Parquet e Delta, em pastas separadas!\n"
     ]
    }
   ],
   "source": [
    "# Caminho correto no S3 para armazenar os arquivos\n",
    "silver_parquet_path = f\"s3a://{aws_bucket_name}/silver/parquet/brasil_seriea_2024_classificacao\"\n",
    "silver_delta_path = f\"s3a://{aws_bucket_name}/silver/delta/brasil_seriea_2024_classificacao\"\n",
    "\n",
    "# Salvar em Parquet (para acessibilidade geral)\n",
    "df_bronze.write.mode(\"overwrite\").parquet(silver_parquet_path)\n",
    "\n",
    "# Salvar em Delta (para controle e governança)\n",
    "df_bronze.write.format(\"delta\").mode(\"overwrite\").save(silver_delta_path)\n",
    "\n",
    "print(\"✅ Dados salvos corretamente em Parquet e Delta, em pastas separadas!\")"
   ]
  },
  {
   "cell_type": "markdown",
   "metadata": {
    "application/vnd.databricks.v1+cell": {
     "cellMetadata": {},
     "inputWidgets": {},
     "nuid": "9fa1c61c-4148-4749-b672-e58b8b4282d1",
     "showTitle": false,
     "tableResultSettingsMap": {},
     "title": ""
    }
   },
   "source": [
    "#### 🔹 Salvando o arquivo no DBFS"
   ]
  },
  {
   "cell_type": "code",
   "execution_count": 0,
   "metadata": {
    "application/vnd.databricks.v1+cell": {
     "cellMetadata": {
      "byteLimit": 2048000,
      "rowLimit": 10000
     },
     "inputWidgets": {},
     "nuid": "5dede3d9-3631-4cbd-8559-17e5a1108cf5",
     "showTitle": false,
     "tableResultSettingsMap": {},
     "title": ""
    }
   },
   "outputs": [
    {
     "output_type": "stream",
     "name": "stdout",
     "output_type": "stream",
     "text": [
      "✅ Dados transformados e salvos na camada Silver no DBFS com sucesso!\n"
     ]
    }
   ],
   "source": [
    "# Caminho no DBFS para armazenar os dados Silver temporariamente\n",
    "dbfs_path_silver_classificacao = \"dbfs:/mnt/silver_temp/classificacao\"\n",
    "\n",
    "# Salvar no DBFS em formato Parquet\n",
    "df_bronze.write.mode(\"overwrite\").parquet(dbfs_path_silver_classificacao)\n",
    "\n",
    "print(\"✅ Dados transformados e salvos na camada Silver no DBFS com sucesso!\")"
   ]
  }
 ],
 "metadata": {
  "application/vnd.databricks.v1+notebook": {
   "computePreferences": null,
   "dashboards": [],
   "environmentMetadata": {
    "base_environment": "",
    "environment_version": "1"
   },
   "inputWidgetPreferences": null,
   "language": "python",
   "notebookMetadata": {
    "pythonIndentUnit": 4
   },
   "notebookName": "02B-Ingestao-Bronze-Classificacao",
   "widgets": {}
  }
 },
 "nbformat": 4,
 "nbformat_minor": 0
}
